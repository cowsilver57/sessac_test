{
  "nbformat": 4,
  "nbformat_minor": 0,
  "metadata": {
    "colab": {
      "provenance": [],
      "authorship_tag": "ABX9TyM/3ff33FyOWuamDXNvZ/t8",
      "include_colab_link": true
    },
    "kernelspec": {
      "name": "python3",
      "display_name": "Python 3"
    },
    "language_info": {
      "name": "python"
    }
  },
  "cells": [
    {
      "cell_type": "markdown",
      "metadata": {
        "id": "view-in-github",
        "colab_type": "text"
      },
      "source": [
        "<a href=\"https://colab.research.google.com/github/cowsilver57/sessac_test/blob/main/Chapter7_%EC%A0%9C3%EC%9C%A0%ED%98%95(22%EC%9D%BC%EC%B0%A8).ipynb\" target=\"_parent\"><img src=\"https://colab.research.google.com/assets/colab-badge.svg\" alt=\"Open In Colab\"/></a>"
      ]
    },
    {
      "cell_type": "code",
      "source": [
        "#github와 colab 연동\n",
        "!git clone https://github.com/AnalyticsKnight/yemoonsaBigdata"
      ],
      "metadata": {
        "colab": {
          "base_uri": "https://localhost:8080/"
        },
        "id": "xB4qbKOuaHlc",
        "outputId": "ec608ba6-88ee-4c62-ee21-2a2a064c3faf"
      },
      "execution_count": 2,
      "outputs": [
        {
          "output_type": "stream",
          "name": "stdout",
          "text": [
            "Cloning into 'yemoonsaBigdata'...\n",
            "remote: Enumerating objects: 637, done.\u001b[K\n",
            "remote: Counting objects: 100% (274/274), done.\u001b[K\n",
            "remote: Compressing objects: 100% (165/165), done.\u001b[K\n",
            "remote: Total 637 (delta 136), reused 184 (delta 109), pack-reused 363\u001b[K\n",
            "Receiving objects: 100% (637/637), 10.76 MiB | 19.57 MiB/s, done.\n",
            "Resolving deltas: 100% (321/321), done.\n"
          ]
        }
      ]
    },
    {
      "cell_type": "markdown",
      "source": [
        "# 통계적 가설 검정 실습\n"
      ],
      "metadata": {
        "id": "jlHXarohYchM"
      }
    },
    {
      "cell_type": "markdown",
      "source": [
        "##5. 카이제곱검정(적합성 검정)\n",
        "\n",
        "*   Cellphone Data: A회사의 직원 200명을 대상으로 사용하고 있는 스마트폰 제조사를 조사하여 정리한 결과가 저장되어 있음.\n",
        "*   \"직원들이 사용하는 스마트폰 제조사 분포가 국내 스마트폰 제조사 점유율 분포와 동일한지\" 판단하기!\n",
        "\n"
      ],
      "metadata": {
        "id": "7dWZ4GuWYgi4"
      }
    },
    {
      "cell_type": "markdown",
      "source": [
        "###5-1. 삼성 제조사 스마트폰 사용 직원 수에서 애플 제조사 스마트폰 사용 직원 수를 뺀 값을 정수로 출력하시오."
      ],
      "metadata": {
        "id": "aSdCVZqTZOFH"
      }
    },
    {
      "cell_type": "code",
      "execution_count": 6,
      "metadata": {
        "colab": {
          "base_uri": "https://localhost:8080/"
        },
        "id": "G08urDW2Yb7F",
        "outputId": "d88aeff2-d0bf-4f74-ea1a-0fadcf041afc"
      },
      "outputs": [
        {
          "output_type": "stream",
          "name": "stdout",
          "text": [
            "      id\n",
            "제조사     \n",
            "기타     5\n",
            "삼성   117\n",
            "애플    78\n"
          ]
        }
      ],
      "source": [
        "import pandas as pd\n",
        "import scipy.stats as stats\n",
        "\n",
        "a = pd.read_csv('/content/yemoonsaBigdata/datasets/supplement/cellphone.csv')\n",
        "\n",
        "#카이제곱 검정을 수행하기 위해 groupby.count 함수로 제조사별 관찰빈도를 구하여 count_df에 저장하기\n",
        "count_df = a.groupby('제조사').count()\n",
        "print(count_df)"
      ]
    },
    {
      "cell_type": "code",
      "source": [
        "result = count_df.loc['삼성','id']-count_df.loc['애플','id']\n",
        "print(result)"
      ],
      "metadata": {
        "colab": {
          "base_uri": "https://localhost:8080/"
        },
        "id": "NFkmzlTM2E71",
        "outputId": "abdb45de-a6f4-49c7-cd32-d88aa4eee6cb"
      },
      "execution_count": 8,
      "outputs": [
        {
          "output_type": "stream",
          "name": "stdout",
          "text": [
            "39\n"
          ]
        }
      ]
    },
    {
      "cell_type": "markdown",
      "source": [
        "###5-2. 문제에서 제시된 국내 스마트폰 제조사 점유율을 이용하여 기대 빈도를 계산하고, 위의 가설을 검정하기 위한 검정통계량을 구하시오.\n",
        "\n",
        "(반올림하여 소숫점 둘째 자리까지 계산)"
      ],
      "metadata": {
        "id": "gKlXxqL2ZUFH"
      }
    },
    {
      "cell_type": "code",
      "source": [
        "#전체 직원 수를 total_sum에 저장\n",
        "total_sum = len(a)\n",
        "#각 제조사별 기대 빈도를 구해 expected라는 이름의 리스트에 저장\n",
        "#기타 10%, 삼성 60%, 애플 30%\n",
        "expected = [int(total_sum*0.1), int(total_sum*0.6), int(total_sum*0.3)]\n",
        "print(expected)"
      ],
      "metadata": {
        "colab": {
          "base_uri": "https://localhost:8080/"
        },
        "id": "CthBZ-EPZYbb",
        "outputId": "8cdd87b4-fae6-4e11-b762-0990e3f616af"
      },
      "execution_count": 10,
      "outputs": [
        {
          "output_type": "stream",
          "name": "stdout",
          "text": [
            "[20, 120, 60]\n"
          ]
        }
      ]
    },
    {
      "cell_type": "code",
      "source": [
        "#카이제곱 검정은 scipy.stats 패키지의 chisquare 함수를 이용하여 수행함.\n",
        "observed = count_df['id'].values\n",
        "test_result = stats.chisquare(observed, f_exp = expected)\n",
        "result = round(test_result.statistic,2)\n",
        "print(result)"
      ],
      "metadata": {
        "colab": {
          "base_uri": "https://localhost:8080/"
        },
        "id": "yfmRlipV-Xv7",
        "outputId": "c8a70a1d-b92d-42ea-ab99-9d13f6db5e7a"
      },
      "execution_count": 12,
      "outputs": [
        {
          "output_type": "stream",
          "name": "stdout",
          "text": [
            "16.73\n"
          ]
        }
      ]
    },
    {
      "cell_type": "markdown",
      "source": [
        "###5-3. 위의 통계량에 대한 p- 값을 구하고 (반올림 소숫점 넷째 자리), 유의수준 0.05하에서 가설검정의 결과를 채택/기각 중 하나로 선택하시오."
      ],
      "metadata": {
        "id": "hGtEke6CZZIQ"
      }
    },
    {
      "cell_type": "code",
      "source": [
        "p_value = test_result.pvalue\n",
        "print(round(p_value,4))\n",
        "\n",
        "#p_value 값이 0.05 이상이면 유의미하다고 보고 가설 채택함.\n",
        "if p_value >= 0.05:\n",
        "    print('채택')\n",
        "else:\n",
        "    print('기각')"
      ],
      "metadata": {
        "colab": {
          "base_uri": "https://localhost:8080/"
        },
        "id": "qbfDaM0zZY6q",
        "outputId": "13e6f821-a2bd-4c8c-e998-aa3fd292f586"
      },
      "execution_count": 14,
      "outputs": [
        {
          "output_type": "stream",
          "name": "stdout",
          "text": [
            "0.0002\n",
            "기각\n"
          ]
        }
      ]
    },
    {
      "cell_type": "markdown",
      "source": [
        "##6. 카이제곱검정(독립성 검정)\n"
      ],
      "metadata": {
        "id": "_xl0IZwQcInC"
      }
    },
    {
      "cell_type": "markdown",
      "source": [
        "\n",
        "\n",
        "*   Student Data: A 대학의 학생 300명을 대상으로 각 학생이 속한 단과대학과 이번 학기 수강 과목 수가 저장되어 있는 데이터\n",
        "*   \"단과대학별로 수강 과목 수에 차이가 있는지\" 판단하기!\n",
        "\n"
      ],
      "metadata": {
        "id": "3Y-oxfWocOaq"
      }
    },
    {
      "cell_type": "markdown",
      "source": [
        "###6-1. 주어진 데이터로 단과대학과 수강 과목 수로 분할표를 만들었을 때, 수강 과목 수가 '6개 이상'인 학생 수가 가장 많은 단과대학을 출력하시오."
      ],
      "metadata": {
        "id": "2QQ88FJ6cqkQ"
      }
    },
    {
      "cell_type": "code",
      "source": [
        "import pandas as pd\n",
        "import scipy.stats as stats\n",
        "\n",
        "b = pd.read_csv('/content/yemoonsaBigdata/datasets/supplement/student.csv')\n",
        "\n",
        "#단과대학과 수강 과목 수로 분할표로 만들어 table 객체로 저장\n",
        "table = pd.crosstab(b['단과대학'], b['수강 과목 수'])\n",
        "\n",
        "#수강 과목 수가 6개 이상의 단과대학 출력\n",
        "result = table[table['6개 이상']==table['6개 이상'].max()].index[0]\n",
        "print(result)"
      ],
      "metadata": {
        "colab": {
          "base_uri": "https://localhost:8080/"
        },
        "id": "btumFJw2coYP",
        "outputId": "4cb44781-82f2-47b1-f8eb-629c7d7671de"
      },
      "execution_count": 21,
      "outputs": [
        {
          "output_type": "stream",
          "name": "stdout",
          "text": [
            "경영대학\n"
          ]
        }
      ]
    },
    {
      "cell_type": "markdown",
      "source": [
        "###6-2. 위의 가설을 검정하기 위한 검정통계량을 구하시오.\n",
        "\n",
        "(반올림하여 소숫점 둘째 자리까지 계산)"
      ],
      "metadata": {
        "id": "_NHS-yiiczNF"
      }
    },
    {
      "cell_type": "code",
      "source": [
        "X1 = table.loc['경영대학',:]\n",
        "X2 = table.loc['자연대학',:]\n",
        "X3 = table.loc['공과대학',:]\n",
        "\n",
        "test_result = stats.chi2_contingency([X1, X2, X3])\n",
        "result = test_result.statistic\n",
        "print(round(result,2))"
      ],
      "metadata": {
        "colab": {
          "base_uri": "https://localhost:8080/"
        },
        "id": "rzvwDYBzc37Y",
        "outputId": "1ce2abff-a1bb-4297-d425-c6fe63b1aec4"
      },
      "execution_count": 23,
      "outputs": [
        {
          "output_type": "stream",
          "name": "stdout",
          "text": [
            "30.13\n"
          ]
        }
      ]
    },
    {
      "cell_type": "markdown",
      "source": [
        "###6-3. 위의 통계량에 대한 p-값을 구하고(반올림하여 소숫점 넷째 자리까지 계산), 유의수준 0.05하에서 가설검정의 결과를 채택/기각 중 하나로 선택하시오"
      ],
      "metadata": {
        "id": "XEwHZYP2c4Yx"
      }
    },
    {
      "cell_type": "code",
      "source": [
        "p_value = test_result.pvalue\n",
        "print(round(p_value,4))\n",
        "\n",
        "if p_value > 0.05:\n",
        "    print('채택')\n",
        "else:\n",
        "    print('기각')"
      ],
      "metadata": {
        "colab": {
          "base_uri": "https://localhost:8080/"
        },
        "id": "BAmZLfw3dBhH",
        "outputId": "67a31c01-15b4-4a5f-cd31-3331f2cd1d60"
      },
      "execution_count": 25,
      "outputs": [
        {
          "output_type": "stream",
          "name": "stdout",
          "text": [
            "0.0\n",
            "기각\n"
          ]
        }
      ]
    },
    {
      "cell_type": "markdown",
      "source": [
        "# 과목 마무리 문제"
      ],
      "metadata": {
        "id": "VRWR-HLWA6zG"
      }
    },
    {
      "cell_type": "markdown",
      "source": [
        "##1. Airquality 데이터 세트"
      ],
      "metadata": {
        "id": "xNHdVP9fBBdU"
      }
    },
    {
      "cell_type": "code",
      "source": [
        "import pandas as pd\n",
        "import scipy.stats as stats\n",
        "from math import sqrt\n",
        "a = pd.read_csv('/content/yemoonsaBigdata/datasets/supplement/airquality.csv')\n",
        "\n",
        "#1. 표본 평균 Xbar 구하기\n",
        "X = a['Wind'].mean()\n",
        "print(round(X,2))\n",
        "\n",
        "t_score, p_value = stats.ttest_1samp(a['Wind'],10)\n",
        "\n",
        "print(round(t_score,2))\n",
        "print(round(p_value,4))\n",
        "\n",
        "if p_value > 0.05:\n",
        "    print('채택')\n",
        "else:\n",
        "    print('기각')"
      ],
      "metadata": {
        "colab": {
          "base_uri": "https://localhost:8080/"
        },
        "id": "mfcdIm8sA8RC",
        "outputId": "173720d4-ca1a-4829-b665-eb472d6c56e6"
      },
      "execution_count": 47,
      "outputs": [
        {
          "output_type": "stream",
          "name": "stdout",
          "text": [
            "9.96\n",
            "-0.15\n",
            "0.8816\n",
            "채택\n"
          ]
        }
      ]
    },
    {
      "cell_type": "markdown",
      "source": [
        "##2. Chickweight 데이터 세트"
      ],
      "metadata": {
        "id": "e04MW1UKBEoY"
      }
    },
    {
      "cell_type": "code",
      "source": [
        "import pandas as pd\n",
        "import scipy.stats as stats\n",
        "from math import sqrt\n",
        "b = pd.read_csv('/content/yemoonsaBigdata/datasets/supplement/chickweight.csv')\n",
        "\n",
        "b1 = b.loc[b.Diet==1]\n",
        "b1_X = b1['weight'].mean()\n",
        "\n",
        "b4 = b.loc[b.Diet==4]\n",
        "b4_X = b4['weight'].mean()\n",
        "\n",
        "print(round(b1_X,2), round(b4_X,2))\n",
        "\n",
        "t_score, p_value = stats.ttest_ind(b1['weight'], b4['weight'], equal_var = False)\n",
        "print(round(t_score,2))\n",
        "print(round(p_value,4))\n",
        "\n",
        "if p_value > 0.05:\n",
        "    print('채택')\n",
        "else:\n",
        "    print('기각')\n"
      ],
      "metadata": {
        "colab": {
          "base_uri": "https://localhost:8080/"
        },
        "id": "a9_ns9y3BJsK",
        "outputId": "a4e54426-dcc9-4381-aed0-113382632ff3"
      },
      "execution_count": 48,
      "outputs": [
        {
          "output_type": "stream",
          "name": "stdout",
          "text": [
            "102.65 135.26\n",
            "-4.41\n",
            "0.0\n",
            "기각\n"
          ]
        }
      ]
    },
    {
      "cell_type": "markdown",
      "source": [
        "##3. StudentsPerformance 데이터 세트 1"
      ],
      "metadata": {
        "id": "h1Y9QT_aCh9R"
      }
    },
    {
      "cell_type": "code",
      "source": [
        "import pandas as pd\n",
        "import scipy.stats as stats\n",
        "from math import sqrt\n",
        "c = pd.read_csv('/content/yemoonsaBigdata/datasets/supplement/StudentsPerformance1.csv', encoding='cp949')\n",
        "\n",
        "c.head()\n",
        "X_A = c.loc[c.인종=='A그룹','수학 점수']\n",
        "X_B = c.loc[c.인종=='B그룹','수학 점수']\n",
        "X_C = c.loc[c.인종=='C그룹','수학 점수']\n",
        "X_D = c.loc[c.인종=='D그룹','수학 점수']\n",
        "\n",
        "X_A_mean = X_A.mean()\n",
        "X_B_mean = X_B.mean()\n",
        "X_C_mean = X_C.mean()\n",
        "X_D_mean = X_D.mean()\n",
        "\n",
        "print(round(X_A_mean,2),round(X_B_mean,2),round(X_C_mean,2),round(X_D_mean,2))\n",
        "\n",
        "test_result = stats.f_oneway(X_A, X_B, X_C, X_D)\n",
        "print(round(test_result.statistic,2))\n",
        "\n",
        "p_value = test_result.pvalue\n",
        "print(round(p_value,4))\n",
        "\n",
        "if p_value>0.05:\n",
        "    print('채택')\n",
        "else:\n",
        "    print('기각')"
      ],
      "metadata": {
        "colab": {
          "base_uri": "https://localhost:8080/"
        },
        "id": "U0CqnKiSCl7X",
        "outputId": "02e95b27-2f1a-4456-823f-24e640b8cc69"
      },
      "execution_count": 49,
      "outputs": [
        {
          "output_type": "stream",
          "name": "stdout",
          "text": [
            "61.63 63.45 64.46 67.36\n",
            "4.66\n",
            "0.0031\n",
            "기각\n"
          ]
        }
      ]
    },
    {
      "cell_type": "markdown",
      "source": [
        "##4. StudentsPerformance 데이터 세트 1"
      ],
      "metadata": {
        "id": "OvjTnJE0CnAV"
      }
    },
    {
      "cell_type": "code",
      "source": [
        "import pandas as pd\n",
        "import scipy.stats as stats\n",
        "from math import sqrt\n",
        "d = pd.read_csv('/content/yemoonsaBigdata/datasets/supplement/StudentsPerformance2.csv', encoding='cp949')\n",
        "\n",
        "table = pd.crosstab(d['성별'], d['학업 성적'])\n",
        "\n",
        "X1 = table.loc['남성',:]\n",
        "X2 = table.loc['여성',:]\n",
        "\n",
        "X1_G = X1['우수']\n",
        "X2_G = X2['우수']\n",
        "\n",
        "print(int(abs(X1_G-X2_G)))\n",
        "\n",
        "test_result = stats.chi2_contingency([X1, X2])\n",
        "print(round(test_result.statistic,2))\n",
        "\n",
        "p_value = test_result.pvalue\n",
        "print(round(p_value,4))\n",
        "\n",
        "if p_value>0.05:\n",
        "    print('채택')\n",
        "else:\n",
        "    print('기각')"
      ],
      "metadata": {
        "colab": {
          "base_uri": "https://localhost:8080/"
        },
        "id": "aZ4N1MLpCsdS",
        "outputId": "c1ea81c2-d801-4d8e-8306-d550fbdbbb34"
      },
      "execution_count": 56,
      "outputs": [
        {
          "output_type": "stream",
          "name": "stdout",
          "text": [
            "38\n",
            "12.41\n",
            "0.002\n",
            "기각\n"
          ]
        }
      ]
    }
  ]
}