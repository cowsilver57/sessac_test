{
  "nbformat": 4,
  "nbformat_minor": 0,
  "metadata": {
    "colab": {
      "provenance": [],
      "authorship_tag": "ABX9TyO3c7hl66thZXOTiPmS/DYj",
      "include_colab_link": true
    },
    "kernelspec": {
      "name": "python3",
      "display_name": "Python 3"
    },
    "language_info": {
      "name": "python"
    }
  },
  "cells": [
    {
      "cell_type": "markdown",
      "metadata": {
        "id": "view-in-github",
        "colab_type": "text"
      },
      "source": [
        "<a href=\"https://colab.research.google.com/github/cowsilver57/sessac_test/blob/main/Chapter8_1124_%EA%B8%88.ipynb\" target=\"_parent\"><img src=\"https://colab.research.google.com/assets/colab-badge.svg\" alt=\"Open In Colab\"/></a>"
      ]
    },
    {
      "cell_type": "code",
      "execution_count": 1,
      "metadata": {
        "id": "JShtvrWzUBTb",
        "colab": {
          "base_uri": "https://localhost:8080/"
        },
        "outputId": "2712eac5-afa0-41ae-b949-06bc38d13688"
      },
      "outputs": [
        {
          "output_type": "stream",
          "name": "stdout",
          "text": [
            "Cloning into 'yemoonsaBigdata'...\n",
            "remote: Enumerating objects: 637, done.\u001b[K\n",
            "remote: Counting objects: 100% (274/274), done.\u001b[K\n",
            "remote: Compressing objects: 100% (165/165), done.\u001b[K\n",
            "remote: Total 637 (delta 136), reused 184 (delta 109), pack-reused 363\u001b[K\n",
            "Receiving objects: 100% (637/637), 10.76 MiB | 13.42 MiB/s, done.\n",
            "Resolving deltas: 100% (321/321), done.\n"
          ]
        }
      ],
      "source": [
        "#github와 colab 연동\n",
        "!git clone https://github.com/AnalyticsKnight/yemoonsaBigdata"
      ]
    },
    {
      "cell_type": "markdown",
      "source": [
        "#1유형"
      ],
      "metadata": {
        "id": "TW4FutsvWb9Y"
      }
    },
    {
      "cell_type": "code",
      "source": [
        "import pandas as pd\n",
        "channel =pd.read_csv('https://raw.githubusercontent.com/Datamanim/datarepo/main/youtube/channelInfo.csv')\n",
        "video =pd.read_csv('https://raw.githubusercontent.com/Datamanim/datarepo/main/youtube/videoInfo.csv')"
      ],
      "metadata": {
        "id": "auckov3kWdLm"
      },
      "execution_count": null,
      "outputs": []
    },
    {
      "cell_type": "markdown",
      "source": [
        "11번 각 데이터의 ‘ct’컬럼을 시간으로 인식할수 있게 datatype을 변경하고 video 데이터의 videoname의 각 value 마다 몇개의 데이터씩 가지고 있는지 확인하라"
      ],
      "metadata": {
        "id": "kRn-AuvuWfok"
      }
    },
    {
      "cell_type": "code",
      "source": [
        "video['ct'] = pd.to_datetime(video['ct'])\n",
        "result = video.videoname.value_counts\n",
        "print(result)"
      ],
      "metadata": {
        "colab": {
          "base_uri": "https://localhost:8080/"
        },
        "id": "TnedFIzTWhzA",
        "outputId": "719409d0-5282-4c0f-e78d-6116bf633d80"
      },
      "execution_count": null,
      "outputs": [
        {
          "output_type": "stream",
          "name": "stdout",
          "text": [
            "<bound method IndexOpsMixin.value_counts of 0         공범 EP1\n",
            "1         공범 EP1\n",
            "2         공범 EP1\n",
            "3         공범 EP1\n",
            "4         공범 EP1\n",
            "          ...   \n",
            "15196     공범 EP8\n",
            "15197     공범 EP8\n",
            "15198     공범 EP8\n",
            "15199     공범 EP8\n",
            "15200     공범 EP8\n",
            "Name: videoname, Length: 15201, dtype: object>\n"
          ]
        }
      ]
    },
    {
      "cell_type": "markdown",
      "source": [
        "12번 수집된 각 video의 가장 최신화 된 날짜의 viewcount값을 출력하라"
      ],
      "metadata": {
        "id": "zn2CdTQwWiHB"
      }
    },
    {
      "cell_type": "code",
      "source": [
        "answer = video.sort_values(['videoname','ct']).drop_duplicates('videoname',keep='last')[['viewcnt','videoname','ct']].reset_index(drop=True)\n",
        "print(answer)"
      ],
      "metadata": {
        "colab": {
          "base_uri": "https://localhost:8080/"
        },
        "id": "i2WnYlb1WlRV",
        "outputId": "249b1e08-3490-43a1-d10c-cc803df822c7"
      },
      "execution_count": null,
      "outputs": [
        {
          "output_type": "stream",
          "name": "stdout",
          "text": [
            "   viewcnt videoname                  ct\n",
            "0  3180532    공범 EP1 2021-11-01 15:30:03\n",
            "1  2199328    공범 EP2 2021-11-01 15:30:03\n",
            "2  1671294    공범 EP3 2021-11-01 15:30:03\n",
            "3  1818493    공범 EP4 2021-11-01 15:30:03\n",
            "4  1503435    공범 EP5 2021-11-01 15:30:04\n",
            "5  1750222    공범 EP6 2021-11-01 15:30:04\n",
            "6  1630200    공범 EP7 2021-11-01 15:30:05\n",
            "7  1289088    공범 EP8 2021-11-01 15:30:05\n"
          ]
        }
      ]
    },
    {
      "cell_type": "markdown",
      "source": [
        "13번 Channel 데이터중 2021-10-03일 이후 각 채널의 처음 기록 됐던 구독자 수(subcnt)를 출력하라"
      ],
      "metadata": {
        "id": "rk2Ck48oWli3"
      }
    },
    {
      "cell_type": "code",
      "source": [
        "channel.ct = pd.to_datetime(channel.ct)\n",
        "target = channel[channel.ct >= pd.to_datetime('2021-10-03')].sort_values(['ct','channelname']).drop_duplicates('channelname')\n",
        "answer = target[['channelname','subcnt']].reset_index(drop=True)\n",
        "print(answer)"
      ],
      "metadata": {
        "colab": {
          "base_uri": "https://localhost:8080/"
        },
        "id": "ApSrAolFWnh0",
        "outputId": "d09f2f65-ed1f-4418-c8c8-77412696d741"
      },
      "execution_count": null,
      "outputs": [
        {
          "output_type": "stream",
          "name": "stdout",
          "text": [
            "        channelname   subcnt\n",
            "0            논리왕 전기   922000\n",
            "1             야전삽짱재   257000\n",
            "2        츄정ChuJeong   322000\n",
            "3        김농밀의 농밀한 삶     7520\n",
            "4       릴펄 Lilpearl    10100\n",
            "5   와글와글 WagleWagle    55000\n",
            "6               조나단   215000\n",
            "7           형사!탐정되다    14900\n",
            "8     Balming Tiger    54300\n",
            "9     곽토리 kwak tori   471000\n",
            "10              꽈뚜룹  1330000\n"
          ]
        }
      ]
    },
    {
      "cell_type": "markdown",
      "source": [
        "14번 각채널의 2021-10-03 03:00:00 ~ 2021-11-01 15:00:00 까지 구독자수 (subcnt) 의 증가량을 구하여라"
      ],
      "metadata": {
        "id": "DjbYzBqKWnyT"
      }
    },
    {
      "cell_type": "code",
      "source": [
        "end = channel.loc[channel.ct.dt.strftime('%Y-%m-%d %H') =='2021-11-01 15']\n",
        "start = channel.loc[channel.ct.dt.strftime('%Y-%m-%d %H') =='2021-10-03 03']\n",
        "\n",
        "end_df = end[['channelname','subcnt']].reset_index(drop=True)\n",
        "start_df = start[['channelname','subcnt']].reset_index(drop=True)\n",
        "\n",
        "end_df.columns = ['channelname','end_sub']\n",
        "start_df.columns = ['channelname','start_sub']\n",
        "\n",
        "\n",
        "tt = pd.merge(start_df,end_df)\n",
        "tt['del'] = tt['end_sub'] - tt['start_sub']\n",
        "result = tt[['channelname','del']]\n",
        "display(result)"
      ],
      "metadata": {
        "colab": {
          "base_uri": "https://localhost:8080/",
          "height": 394
        },
        "id": "cepOvzDRWqlP",
        "outputId": "d3632ac5-d8fe-4d76-bf22-d7a720bf3b2a"
      },
      "execution_count": null,
      "outputs": [
        {
          "output_type": "display_data",
          "data": {
            "text/plain": [
              "        channelname    del\n",
              "0               꽈뚜룹  70000\n",
              "1             야전삽짱재  11000\n",
              "2        츄정ChuJeong   1000\n",
              "3            논리왕 전기 -11000\n",
              "4   와글와글 WagleWagle      0\n",
              "5               조나단  12000\n",
              "6           형사!탐정되다  10300\n",
              "7        김농밀의 농밀한 삶   1540\n",
              "8       릴펄 Lilpearl  11000\n",
              "9     곽토리 kwak tori  -2000\n",
              "10    Balming Tiger   2500"
            ],
            "text/html": [
              "\n",
              "  <div id=\"df-f8ee9e82-08a2-4e5a-996f-eefe3224afea\" class=\"colab-df-container\">\n",
              "    <div>\n",
              "<style scoped>\n",
              "    .dataframe tbody tr th:only-of-type {\n",
              "        vertical-align: middle;\n",
              "    }\n",
              "\n",
              "    .dataframe tbody tr th {\n",
              "        vertical-align: top;\n",
              "    }\n",
              "\n",
              "    .dataframe thead th {\n",
              "        text-align: right;\n",
              "    }\n",
              "</style>\n",
              "<table border=\"1\" class=\"dataframe\">\n",
              "  <thead>\n",
              "    <tr style=\"text-align: right;\">\n",
              "      <th></th>\n",
              "      <th>channelname</th>\n",
              "      <th>del</th>\n",
              "    </tr>\n",
              "  </thead>\n",
              "  <tbody>\n",
              "    <tr>\n",
              "      <th>0</th>\n",
              "      <td>꽈뚜룹</td>\n",
              "      <td>70000</td>\n",
              "    </tr>\n",
              "    <tr>\n",
              "      <th>1</th>\n",
              "      <td>야전삽짱재</td>\n",
              "      <td>11000</td>\n",
              "    </tr>\n",
              "    <tr>\n",
              "      <th>2</th>\n",
              "      <td>츄정ChuJeong</td>\n",
              "      <td>1000</td>\n",
              "    </tr>\n",
              "    <tr>\n",
              "      <th>3</th>\n",
              "      <td>논리왕 전기</td>\n",
              "      <td>-11000</td>\n",
              "    </tr>\n",
              "    <tr>\n",
              "      <th>4</th>\n",
              "      <td>와글와글 WagleWagle</td>\n",
              "      <td>0</td>\n",
              "    </tr>\n",
              "    <tr>\n",
              "      <th>5</th>\n",
              "      <td>조나단</td>\n",
              "      <td>12000</td>\n",
              "    </tr>\n",
              "    <tr>\n",
              "      <th>6</th>\n",
              "      <td>형사!탐정되다</td>\n",
              "      <td>10300</td>\n",
              "    </tr>\n",
              "    <tr>\n",
              "      <th>7</th>\n",
              "      <td>김농밀의 농밀한 삶</td>\n",
              "      <td>1540</td>\n",
              "    </tr>\n",
              "    <tr>\n",
              "      <th>8</th>\n",
              "      <td>릴펄 Lilpearl</td>\n",
              "      <td>11000</td>\n",
              "    </tr>\n",
              "    <tr>\n",
              "      <th>9</th>\n",
              "      <td>곽토리 kwak tori</td>\n",
              "      <td>-2000</td>\n",
              "    </tr>\n",
              "    <tr>\n",
              "      <th>10</th>\n",
              "      <td>Balming Tiger</td>\n",
              "      <td>2500</td>\n",
              "    </tr>\n",
              "  </tbody>\n",
              "</table>\n",
              "</div>\n",
              "    <div class=\"colab-df-buttons\">\n",
              "\n",
              "  <div class=\"colab-df-container\">\n",
              "    <button class=\"colab-df-convert\" onclick=\"convertToInteractive('df-f8ee9e82-08a2-4e5a-996f-eefe3224afea')\"\n",
              "            title=\"Convert this dataframe to an interactive table.\"\n",
              "            style=\"display:none;\">\n",
              "\n",
              "  <svg xmlns=\"http://www.w3.org/2000/svg\" height=\"24px\" viewBox=\"0 -960 960 960\">\n",
              "    <path d=\"M120-120v-720h720v720H120Zm60-500h600v-160H180v160Zm220 220h160v-160H400v160Zm0 220h160v-160H400v160ZM180-400h160v-160H180v160Zm440 0h160v-160H620v160ZM180-180h160v-160H180v160Zm440 0h160v-160H620v160Z\"/>\n",
              "  </svg>\n",
              "    </button>\n",
              "\n",
              "  <style>\n",
              "    .colab-df-container {\n",
              "      display:flex;\n",
              "      gap: 12px;\n",
              "    }\n",
              "\n",
              "    .colab-df-convert {\n",
              "      background-color: #E8F0FE;\n",
              "      border: none;\n",
              "      border-radius: 50%;\n",
              "      cursor: pointer;\n",
              "      display: none;\n",
              "      fill: #1967D2;\n",
              "      height: 32px;\n",
              "      padding: 0 0 0 0;\n",
              "      width: 32px;\n",
              "    }\n",
              "\n",
              "    .colab-df-convert:hover {\n",
              "      background-color: #E2EBFA;\n",
              "      box-shadow: 0px 1px 2px rgba(60, 64, 67, 0.3), 0px 1px 3px 1px rgba(60, 64, 67, 0.15);\n",
              "      fill: #174EA6;\n",
              "    }\n",
              "\n",
              "    .colab-df-buttons div {\n",
              "      margin-bottom: 4px;\n",
              "    }\n",
              "\n",
              "    [theme=dark] .colab-df-convert {\n",
              "      background-color: #3B4455;\n",
              "      fill: #D2E3FC;\n",
              "    }\n",
              "\n",
              "    [theme=dark] .colab-df-convert:hover {\n",
              "      background-color: #434B5C;\n",
              "      box-shadow: 0px 1px 3px 1px rgba(0, 0, 0, 0.15);\n",
              "      filter: drop-shadow(0px 1px 2px rgba(0, 0, 0, 0.3));\n",
              "      fill: #FFFFFF;\n",
              "    }\n",
              "  </style>\n",
              "\n",
              "    <script>\n",
              "      const buttonEl =\n",
              "        document.querySelector('#df-f8ee9e82-08a2-4e5a-996f-eefe3224afea button.colab-df-convert');\n",
              "      buttonEl.style.display =\n",
              "        google.colab.kernel.accessAllowed ? 'block' : 'none';\n",
              "\n",
              "      async function convertToInteractive(key) {\n",
              "        const element = document.querySelector('#df-f8ee9e82-08a2-4e5a-996f-eefe3224afea');\n",
              "        const dataTable =\n",
              "          await google.colab.kernel.invokeFunction('convertToInteractive',\n",
              "                                                    [key], {});\n",
              "        if (!dataTable) return;\n",
              "\n",
              "        const docLinkHtml = 'Like what you see? Visit the ' +\n",
              "          '<a target=\"_blank\" href=https://colab.research.google.com/notebooks/data_table.ipynb>data table notebook</a>'\n",
              "          + ' to learn more about interactive tables.';\n",
              "        element.innerHTML = '';\n",
              "        dataTable['output_type'] = 'display_data';\n",
              "        await google.colab.output.renderOutput(dataTable, element);\n",
              "        const docLink = document.createElement('div');\n",
              "        docLink.innerHTML = docLinkHtml;\n",
              "        element.appendChild(docLink);\n",
              "      }\n",
              "    </script>\n",
              "  </div>\n",
              "\n",
              "\n",
              "<div id=\"df-29c8ff0a-2753-4d83-8fe6-005b0c57d6b4\">\n",
              "  <button class=\"colab-df-quickchart\" onclick=\"quickchart('df-29c8ff0a-2753-4d83-8fe6-005b0c57d6b4')\"\n",
              "            title=\"Suggest charts\"\n",
              "            style=\"display:none;\">\n",
              "\n",
              "<svg xmlns=\"http://www.w3.org/2000/svg\" height=\"24px\"viewBox=\"0 0 24 24\"\n",
              "     width=\"24px\">\n",
              "    <g>\n",
              "        <path d=\"M19 3H5c-1.1 0-2 .9-2 2v14c0 1.1.9 2 2 2h14c1.1 0 2-.9 2-2V5c0-1.1-.9-2-2-2zM9 17H7v-7h2v7zm4 0h-2V7h2v10zm4 0h-2v-4h2v4z\"/>\n",
              "    </g>\n",
              "</svg>\n",
              "  </button>\n",
              "\n",
              "<style>\n",
              "  .colab-df-quickchart {\n",
              "      --bg-color: #E8F0FE;\n",
              "      --fill-color: #1967D2;\n",
              "      --hover-bg-color: #E2EBFA;\n",
              "      --hover-fill-color: #174EA6;\n",
              "      --disabled-fill-color: #AAA;\n",
              "      --disabled-bg-color: #DDD;\n",
              "  }\n",
              "\n",
              "  [theme=dark] .colab-df-quickchart {\n",
              "      --bg-color: #3B4455;\n",
              "      --fill-color: #D2E3FC;\n",
              "      --hover-bg-color: #434B5C;\n",
              "      --hover-fill-color: #FFFFFF;\n",
              "      --disabled-bg-color: #3B4455;\n",
              "      --disabled-fill-color: #666;\n",
              "  }\n",
              "\n",
              "  .colab-df-quickchart {\n",
              "    background-color: var(--bg-color);\n",
              "    border: none;\n",
              "    border-radius: 50%;\n",
              "    cursor: pointer;\n",
              "    display: none;\n",
              "    fill: var(--fill-color);\n",
              "    height: 32px;\n",
              "    padding: 0;\n",
              "    width: 32px;\n",
              "  }\n",
              "\n",
              "  .colab-df-quickchart:hover {\n",
              "    background-color: var(--hover-bg-color);\n",
              "    box-shadow: 0 1px 2px rgba(60, 64, 67, 0.3), 0 1px 3px 1px rgba(60, 64, 67, 0.15);\n",
              "    fill: var(--button-hover-fill-color);\n",
              "  }\n",
              "\n",
              "  .colab-df-quickchart-complete:disabled,\n",
              "  .colab-df-quickchart-complete:disabled:hover {\n",
              "    background-color: var(--disabled-bg-color);\n",
              "    fill: var(--disabled-fill-color);\n",
              "    box-shadow: none;\n",
              "  }\n",
              "\n",
              "  .colab-df-spinner {\n",
              "    border: 2px solid var(--fill-color);\n",
              "    border-color: transparent;\n",
              "    border-bottom-color: var(--fill-color);\n",
              "    animation:\n",
              "      spin 1s steps(1) infinite;\n",
              "  }\n",
              "\n",
              "  @keyframes spin {\n",
              "    0% {\n",
              "      border-color: transparent;\n",
              "      border-bottom-color: var(--fill-color);\n",
              "      border-left-color: var(--fill-color);\n",
              "    }\n",
              "    20% {\n",
              "      border-color: transparent;\n",
              "      border-left-color: var(--fill-color);\n",
              "      border-top-color: var(--fill-color);\n",
              "    }\n",
              "    30% {\n",
              "      border-color: transparent;\n",
              "      border-left-color: var(--fill-color);\n",
              "      border-top-color: var(--fill-color);\n",
              "      border-right-color: var(--fill-color);\n",
              "    }\n",
              "    40% {\n",
              "      border-color: transparent;\n",
              "      border-right-color: var(--fill-color);\n",
              "      border-top-color: var(--fill-color);\n",
              "    }\n",
              "    60% {\n",
              "      border-color: transparent;\n",
              "      border-right-color: var(--fill-color);\n",
              "    }\n",
              "    80% {\n",
              "      border-color: transparent;\n",
              "      border-right-color: var(--fill-color);\n",
              "      border-bottom-color: var(--fill-color);\n",
              "    }\n",
              "    90% {\n",
              "      border-color: transparent;\n",
              "      border-bottom-color: var(--fill-color);\n",
              "    }\n",
              "  }\n",
              "</style>\n",
              "\n",
              "  <script>\n",
              "    async function quickchart(key) {\n",
              "      const quickchartButtonEl =\n",
              "        document.querySelector('#' + key + ' button');\n",
              "      quickchartButtonEl.disabled = true;  // To prevent multiple clicks.\n",
              "      quickchartButtonEl.classList.add('colab-df-spinner');\n",
              "      try {\n",
              "        const charts = await google.colab.kernel.invokeFunction(\n",
              "            'suggestCharts', [key], {});\n",
              "      } catch (error) {\n",
              "        console.error('Error during call to suggestCharts:', error);\n",
              "      }\n",
              "      quickchartButtonEl.classList.remove('colab-df-spinner');\n",
              "      quickchartButtonEl.classList.add('colab-df-quickchart-complete');\n",
              "    }\n",
              "    (() => {\n",
              "      let quickchartButtonEl =\n",
              "        document.querySelector('#df-29c8ff0a-2753-4d83-8fe6-005b0c57d6b4 button');\n",
              "      quickchartButtonEl.style.display =\n",
              "        google.colab.kernel.accessAllowed ? 'block' : 'none';\n",
              "    })();\n",
              "  </script>\n",
              "</div>\n",
              "    </div>\n",
              "  </div>\n"
            ]
          },
          "metadata": {}
        }
      ]
    },
    {
      "cell_type": "markdown",
      "source": [
        "15번 각 비디오는 10분 간격으로 구독자수, 좋아요, 싫어요수, 댓글수가 수집된것으로 알려졌다. 공범 EP1의 비디오정보 데이터중 수집간격이 5분 이하, 20분이상인 데이터 구간( 해당 시점 전,후) 의 시각을 모두 출력하라"
      ],
      "metadata": {
        "id": "dVxd90_1WqCq"
      }
    },
    {
      "cell_type": "code",
      "source": [
        "import datetime\n",
        "\n",
        "ep_one = video.loc[video.videoname.str.contains('1')].sort_values('ct').reset_index(drop=True)\n",
        "ep_one[(ep_one.ct.diff(1)>=datetime.timedelta(minutes=20))|\n",
        "        (ep_one.ct.diff(1)<=datetime.timedelta(minutes=5))]\n",
        "\n",
        "result = ep_one[ep_one.index.isin([720,721,722,723,1635,1636,1637])]\n",
        "print(result)\n"
      ],
      "metadata": {
        "colab": {
          "base_uri": "https://localhost:8080/"
        },
        "id": "5IAOX1dUWuxG",
        "outputId": "2bca0096-944c-46dd-e845-e16e657f60a9"
      },
      "execution_count": null,
      "outputs": [
        {
          "output_type": "stream",
          "name": "stdout",
          "text": [
            "          videopk  viewcnt  likecnt  dislikecnt  favoritecnt  cmcnt  \\\n",
            "720   c5JQp6xafqc  2153676    34104         830            0   7120   \n",
            "721   c5JQp6xafqc  2228250    34559         849            0   7191   \n",
            "722   c5JQp6xafqc  2228250    34559         849            0   7191   \n",
            "723   c5JQp6xafqc  2228669    34566         849            0   7194   \n",
            "1635  c5JQp6xafqc  2706691    37893         987            0   7410   \n",
            "1636  c5JQp6xafqc  2707933    37901         988            0   7410   \n",
            "1637  c5JQp6xafqc  2708448    37903         988            0   7410   \n",
            "\n",
            "                      ct videoname  \n",
            "720  2021-10-12 19:20:03    공범 EP1  \n",
            "721  2021-10-13 09:41:37    공범 EP1  \n",
            "722  2021-10-13 09:41:37    공범 EP1  \n",
            "723  2021-10-13 09:50:03    공범 EP1  \n",
            "1635 2021-10-19 17:50:02    공범 EP1  \n",
            "1636 2021-10-19 18:20:03    공범 EP1  \n",
            "1637 2021-10-19 18:30:03    공범 EP1  \n"
          ]
        }
      ]
    },
    {
      "cell_type": "markdown",
      "source": [
        "16번 각 에피소드의 시작날짜(년-월-일)를 에피소드 이름과 묶어 데이터 프레임으로 만들고 출력하라"
      ],
      "metadata": {
        "id": "4d0oXsyhWugT"
      }
    },
    {
      "cell_type": "code",
      "source": [
        "start_date = video.sort_values(['ct','videoname']).drop_duplicates('videoname')[['ct','videoname']]\n",
        "start_date['date'] = start_date.ct.dt.date\n",
        "result = start_date[['date','videoname']]\n",
        "display(result)"
      ],
      "metadata": {
        "colab": {
          "base_uri": "https://localhost:8080/",
          "height": 300
        },
        "id": "4ghCGRrVWxHQ",
        "outputId": "51b862bc-f30e-4e63-96fa-8935fdd9380d"
      },
      "execution_count": null,
      "outputs": [
        {
          "output_type": "display_data",
          "data": {
            "text/plain": [
              "             date videoname\n",
              "10     2021-10-07    공범 EP1\n",
              "3496   2021-10-09    공범 EP2\n",
              "6696   2021-10-14    공범 EP3\n",
              "9264   2021-10-16    공범 EP4\n",
              "11544  2021-10-21    공범 EP5\n",
              "13661  2021-10-23    공범 EP6\n",
              "13106  2021-10-28    공범 EP7\n",
              "14935  2021-10-30    공범 EP8"
            ],
            "text/html": [
              "\n",
              "  <div id=\"df-1b9c3f89-9572-49af-ba23-6fe86dd2e758\" class=\"colab-df-container\">\n",
              "    <div>\n",
              "<style scoped>\n",
              "    .dataframe tbody tr th:only-of-type {\n",
              "        vertical-align: middle;\n",
              "    }\n",
              "\n",
              "    .dataframe tbody tr th {\n",
              "        vertical-align: top;\n",
              "    }\n",
              "\n",
              "    .dataframe thead th {\n",
              "        text-align: right;\n",
              "    }\n",
              "</style>\n",
              "<table border=\"1\" class=\"dataframe\">\n",
              "  <thead>\n",
              "    <tr style=\"text-align: right;\">\n",
              "      <th></th>\n",
              "      <th>date</th>\n",
              "      <th>videoname</th>\n",
              "    </tr>\n",
              "  </thead>\n",
              "  <tbody>\n",
              "    <tr>\n",
              "      <th>10</th>\n",
              "      <td>2021-10-07</td>\n",
              "      <td>공범 EP1</td>\n",
              "    </tr>\n",
              "    <tr>\n",
              "      <th>3496</th>\n",
              "      <td>2021-10-09</td>\n",
              "      <td>공범 EP2</td>\n",
              "    </tr>\n",
              "    <tr>\n",
              "      <th>6696</th>\n",
              "      <td>2021-10-14</td>\n",
              "      <td>공범 EP3</td>\n",
              "    </tr>\n",
              "    <tr>\n",
              "      <th>9264</th>\n",
              "      <td>2021-10-16</td>\n",
              "      <td>공범 EP4</td>\n",
              "    </tr>\n",
              "    <tr>\n",
              "      <th>11544</th>\n",
              "      <td>2021-10-21</td>\n",
              "      <td>공범 EP5</td>\n",
              "    </tr>\n",
              "    <tr>\n",
              "      <th>13661</th>\n",
              "      <td>2021-10-23</td>\n",
              "      <td>공범 EP6</td>\n",
              "    </tr>\n",
              "    <tr>\n",
              "      <th>13106</th>\n",
              "      <td>2021-10-28</td>\n",
              "      <td>공범 EP7</td>\n",
              "    </tr>\n",
              "    <tr>\n",
              "      <th>14935</th>\n",
              "      <td>2021-10-30</td>\n",
              "      <td>공범 EP8</td>\n",
              "    </tr>\n",
              "  </tbody>\n",
              "</table>\n",
              "</div>\n",
              "    <div class=\"colab-df-buttons\">\n",
              "\n",
              "  <div class=\"colab-df-container\">\n",
              "    <button class=\"colab-df-convert\" onclick=\"convertToInteractive('df-1b9c3f89-9572-49af-ba23-6fe86dd2e758')\"\n",
              "            title=\"Convert this dataframe to an interactive table.\"\n",
              "            style=\"display:none;\">\n",
              "\n",
              "  <svg xmlns=\"http://www.w3.org/2000/svg\" height=\"24px\" viewBox=\"0 -960 960 960\">\n",
              "    <path d=\"M120-120v-720h720v720H120Zm60-500h600v-160H180v160Zm220 220h160v-160H400v160Zm0 220h160v-160H400v160ZM180-400h160v-160H180v160Zm440 0h160v-160H620v160ZM180-180h160v-160H180v160Zm440 0h160v-160H620v160Z\"/>\n",
              "  </svg>\n",
              "    </button>\n",
              "\n",
              "  <style>\n",
              "    .colab-df-container {\n",
              "      display:flex;\n",
              "      gap: 12px;\n",
              "    }\n",
              "\n",
              "    .colab-df-convert {\n",
              "      background-color: #E8F0FE;\n",
              "      border: none;\n",
              "      border-radius: 50%;\n",
              "      cursor: pointer;\n",
              "      display: none;\n",
              "      fill: #1967D2;\n",
              "      height: 32px;\n",
              "      padding: 0 0 0 0;\n",
              "      width: 32px;\n",
              "    }\n",
              "\n",
              "    .colab-df-convert:hover {\n",
              "      background-color: #E2EBFA;\n",
              "      box-shadow: 0px 1px 2px rgba(60, 64, 67, 0.3), 0px 1px 3px 1px rgba(60, 64, 67, 0.15);\n",
              "      fill: #174EA6;\n",
              "    }\n",
              "\n",
              "    .colab-df-buttons div {\n",
              "      margin-bottom: 4px;\n",
              "    }\n",
              "\n",
              "    [theme=dark] .colab-df-convert {\n",
              "      background-color: #3B4455;\n",
              "      fill: #D2E3FC;\n",
              "    }\n",
              "\n",
              "    [theme=dark] .colab-df-convert:hover {\n",
              "      background-color: #434B5C;\n",
              "      box-shadow: 0px 1px 3px 1px rgba(0, 0, 0, 0.15);\n",
              "      filter: drop-shadow(0px 1px 2px rgba(0, 0, 0, 0.3));\n",
              "      fill: #FFFFFF;\n",
              "    }\n",
              "  </style>\n",
              "\n",
              "    <script>\n",
              "      const buttonEl =\n",
              "        document.querySelector('#df-1b9c3f89-9572-49af-ba23-6fe86dd2e758 button.colab-df-convert');\n",
              "      buttonEl.style.display =\n",
              "        google.colab.kernel.accessAllowed ? 'block' : 'none';\n",
              "\n",
              "      async function convertToInteractive(key) {\n",
              "        const element = document.querySelector('#df-1b9c3f89-9572-49af-ba23-6fe86dd2e758');\n",
              "        const dataTable =\n",
              "          await google.colab.kernel.invokeFunction('convertToInteractive',\n",
              "                                                    [key], {});\n",
              "        if (!dataTable) return;\n",
              "\n",
              "        const docLinkHtml = 'Like what you see? Visit the ' +\n",
              "          '<a target=\"_blank\" href=https://colab.research.google.com/notebooks/data_table.ipynb>data table notebook</a>'\n",
              "          + ' to learn more about interactive tables.';\n",
              "        element.innerHTML = '';\n",
              "        dataTable['output_type'] = 'display_data';\n",
              "        await google.colab.output.renderOutput(dataTable, element);\n",
              "        const docLink = document.createElement('div');\n",
              "        docLink.innerHTML = docLinkHtml;\n",
              "        element.appendChild(docLink);\n",
              "      }\n",
              "    </script>\n",
              "  </div>\n",
              "\n",
              "\n",
              "<div id=\"df-1ee16c50-1a35-471f-97c6-21a7fd7db138\">\n",
              "  <button class=\"colab-df-quickchart\" onclick=\"quickchart('df-1ee16c50-1a35-471f-97c6-21a7fd7db138')\"\n",
              "            title=\"Suggest charts\"\n",
              "            style=\"display:none;\">\n",
              "\n",
              "<svg xmlns=\"http://www.w3.org/2000/svg\" height=\"24px\"viewBox=\"0 0 24 24\"\n",
              "     width=\"24px\">\n",
              "    <g>\n",
              "        <path d=\"M19 3H5c-1.1 0-2 .9-2 2v14c0 1.1.9 2 2 2h14c1.1 0 2-.9 2-2V5c0-1.1-.9-2-2-2zM9 17H7v-7h2v7zm4 0h-2V7h2v10zm4 0h-2v-4h2v4z\"/>\n",
              "    </g>\n",
              "</svg>\n",
              "  </button>\n",
              "\n",
              "<style>\n",
              "  .colab-df-quickchart {\n",
              "      --bg-color: #E8F0FE;\n",
              "      --fill-color: #1967D2;\n",
              "      --hover-bg-color: #E2EBFA;\n",
              "      --hover-fill-color: #174EA6;\n",
              "      --disabled-fill-color: #AAA;\n",
              "      --disabled-bg-color: #DDD;\n",
              "  }\n",
              "\n",
              "  [theme=dark] .colab-df-quickchart {\n",
              "      --bg-color: #3B4455;\n",
              "      --fill-color: #D2E3FC;\n",
              "      --hover-bg-color: #434B5C;\n",
              "      --hover-fill-color: #FFFFFF;\n",
              "      --disabled-bg-color: #3B4455;\n",
              "      --disabled-fill-color: #666;\n",
              "  }\n",
              "\n",
              "  .colab-df-quickchart {\n",
              "    background-color: var(--bg-color);\n",
              "    border: none;\n",
              "    border-radius: 50%;\n",
              "    cursor: pointer;\n",
              "    display: none;\n",
              "    fill: var(--fill-color);\n",
              "    height: 32px;\n",
              "    padding: 0;\n",
              "    width: 32px;\n",
              "  }\n",
              "\n",
              "  .colab-df-quickchart:hover {\n",
              "    background-color: var(--hover-bg-color);\n",
              "    box-shadow: 0 1px 2px rgba(60, 64, 67, 0.3), 0 1px 3px 1px rgba(60, 64, 67, 0.15);\n",
              "    fill: var(--button-hover-fill-color);\n",
              "  }\n",
              "\n",
              "  .colab-df-quickchart-complete:disabled,\n",
              "  .colab-df-quickchart-complete:disabled:hover {\n",
              "    background-color: var(--disabled-bg-color);\n",
              "    fill: var(--disabled-fill-color);\n",
              "    box-shadow: none;\n",
              "  }\n",
              "\n",
              "  .colab-df-spinner {\n",
              "    border: 2px solid var(--fill-color);\n",
              "    border-color: transparent;\n",
              "    border-bottom-color: var(--fill-color);\n",
              "    animation:\n",
              "      spin 1s steps(1) infinite;\n",
              "  }\n",
              "\n",
              "  @keyframes spin {\n",
              "    0% {\n",
              "      border-color: transparent;\n",
              "      border-bottom-color: var(--fill-color);\n",
              "      border-left-color: var(--fill-color);\n",
              "    }\n",
              "    20% {\n",
              "      border-color: transparent;\n",
              "      border-left-color: var(--fill-color);\n",
              "      border-top-color: var(--fill-color);\n",
              "    }\n",
              "    30% {\n",
              "      border-color: transparent;\n",
              "      border-left-color: var(--fill-color);\n",
              "      border-top-color: var(--fill-color);\n",
              "      border-right-color: var(--fill-color);\n",
              "    }\n",
              "    40% {\n",
              "      border-color: transparent;\n",
              "      border-right-color: var(--fill-color);\n",
              "      border-top-color: var(--fill-color);\n",
              "    }\n",
              "    60% {\n",
              "      border-color: transparent;\n",
              "      border-right-color: var(--fill-color);\n",
              "    }\n",
              "    80% {\n",
              "      border-color: transparent;\n",
              "      border-right-color: var(--fill-color);\n",
              "      border-bottom-color: var(--fill-color);\n",
              "    }\n",
              "    90% {\n",
              "      border-color: transparent;\n",
              "      border-bottom-color: var(--fill-color);\n",
              "    }\n",
              "  }\n",
              "</style>\n",
              "\n",
              "  <script>\n",
              "    async function quickchart(key) {\n",
              "      const quickchartButtonEl =\n",
              "        document.querySelector('#' + key + ' button');\n",
              "      quickchartButtonEl.disabled = true;  // To prevent multiple clicks.\n",
              "      quickchartButtonEl.classList.add('colab-df-spinner');\n",
              "      try {\n",
              "        const charts = await google.colab.kernel.invokeFunction(\n",
              "            'suggestCharts', [key], {});\n",
              "      } catch (error) {\n",
              "        console.error('Error during call to suggestCharts:', error);\n",
              "      }\n",
              "      quickchartButtonEl.classList.remove('colab-df-spinner');\n",
              "      quickchartButtonEl.classList.add('colab-df-quickchart-complete');\n",
              "    }\n",
              "    (() => {\n",
              "      let quickchartButtonEl =\n",
              "        document.querySelector('#df-1ee16c50-1a35-471f-97c6-21a7fd7db138 button');\n",
              "      quickchartButtonEl.style.display =\n",
              "        google.colab.kernel.accessAllowed ? 'block' : 'none';\n",
              "    })();\n",
              "  </script>\n",
              "</div>\n",
              "    </div>\n",
              "  </div>\n"
            ]
          },
          "metadata": {}
        }
      ]
    },
    {
      "cell_type": "markdown",
      "source": [
        "17번 “공범” 컨텐츠의 경우 19:00시에 공개 되는것으로 알려져있다. 공개된 날의 21시의 viewcnt, ct, videoname 으로 구성된 데이터 프레임을 viewcnt를 내림차순으로 정렬하여 출력하라"
      ],
      "metadata": {
        "id": "hkAJv5X6WxWY"
      }
    },
    {
      "cell_type": "code",
      "source": [
        "video['time']= video.ct.dt.hour\n",
        "\n",
        "answer = video.loc[video['time'] ==21] \\\n",
        "            .sort_values(['videoname','ct'])\\\n",
        "            .drop_duplicates('videoname') \\\n",
        "            .sort_values('viewcnt',ascending=False)[['videoname','viewcnt','ct']]\\\n",
        "            .reset_index(drop=True)\n",
        "\n",
        "display(answer)"
      ],
      "metadata": {
        "colab": {
          "base_uri": "https://localhost:8080/",
          "height": 300
        },
        "id": "klxHyMDBWzcE",
        "outputId": "e0616c3c-0172-49e5-8609-b837032d663e"
      },
      "execution_count": null,
      "outputs": [
        {
          "output_type": "display_data",
          "data": {
            "text/plain": [
              "  videoname  viewcnt                  ct\n",
              "0    공범 EP8   264029 2021-10-30 21:00:08\n",
              "1    공범 EP7   252032 2021-10-28 21:00:04\n",
              "2    공범 EP4   217674 2021-10-16 21:00:04\n",
              "3    공범 EP6   213899 2021-10-23 21:00:06\n",
              "4    공범 EP5   201179 2021-10-21 21:00:04\n",
              "5    공범 EP2   148144 2021-10-09 21:00:03\n",
              "6    공범 EP3   147183 2021-10-14 21:00:04\n",
              "7    공범 EP1   117340 2021-10-07 21:00:03"
            ],
            "text/html": [
              "\n",
              "  <div id=\"df-f42c8748-d72b-4400-8c69-48a5ac6c8fd3\" class=\"colab-df-container\">\n",
              "    <div>\n",
              "<style scoped>\n",
              "    .dataframe tbody tr th:only-of-type {\n",
              "        vertical-align: middle;\n",
              "    }\n",
              "\n",
              "    .dataframe tbody tr th {\n",
              "        vertical-align: top;\n",
              "    }\n",
              "\n",
              "    .dataframe thead th {\n",
              "        text-align: right;\n",
              "    }\n",
              "</style>\n",
              "<table border=\"1\" class=\"dataframe\">\n",
              "  <thead>\n",
              "    <tr style=\"text-align: right;\">\n",
              "      <th></th>\n",
              "      <th>videoname</th>\n",
              "      <th>viewcnt</th>\n",
              "      <th>ct</th>\n",
              "    </tr>\n",
              "  </thead>\n",
              "  <tbody>\n",
              "    <tr>\n",
              "      <th>0</th>\n",
              "      <td>공범 EP8</td>\n",
              "      <td>264029</td>\n",
              "      <td>2021-10-30 21:00:08</td>\n",
              "    </tr>\n",
              "    <tr>\n",
              "      <th>1</th>\n",
              "      <td>공범 EP7</td>\n",
              "      <td>252032</td>\n",
              "      <td>2021-10-28 21:00:04</td>\n",
              "    </tr>\n",
              "    <tr>\n",
              "      <th>2</th>\n",
              "      <td>공범 EP4</td>\n",
              "      <td>217674</td>\n",
              "      <td>2021-10-16 21:00:04</td>\n",
              "    </tr>\n",
              "    <tr>\n",
              "      <th>3</th>\n",
              "      <td>공범 EP6</td>\n",
              "      <td>213899</td>\n",
              "      <td>2021-10-23 21:00:06</td>\n",
              "    </tr>\n",
              "    <tr>\n",
              "      <th>4</th>\n",
              "      <td>공범 EP5</td>\n",
              "      <td>201179</td>\n",
              "      <td>2021-10-21 21:00:04</td>\n",
              "    </tr>\n",
              "    <tr>\n",
              "      <th>5</th>\n",
              "      <td>공범 EP2</td>\n",
              "      <td>148144</td>\n",
              "      <td>2021-10-09 21:00:03</td>\n",
              "    </tr>\n",
              "    <tr>\n",
              "      <th>6</th>\n",
              "      <td>공범 EP3</td>\n",
              "      <td>147183</td>\n",
              "      <td>2021-10-14 21:00:04</td>\n",
              "    </tr>\n",
              "    <tr>\n",
              "      <th>7</th>\n",
              "      <td>공범 EP1</td>\n",
              "      <td>117340</td>\n",
              "      <td>2021-10-07 21:00:03</td>\n",
              "    </tr>\n",
              "  </tbody>\n",
              "</table>\n",
              "</div>\n",
              "    <div class=\"colab-df-buttons\">\n",
              "\n",
              "  <div class=\"colab-df-container\">\n",
              "    <button class=\"colab-df-convert\" onclick=\"convertToInteractive('df-f42c8748-d72b-4400-8c69-48a5ac6c8fd3')\"\n",
              "            title=\"Convert this dataframe to an interactive table.\"\n",
              "            style=\"display:none;\">\n",
              "\n",
              "  <svg xmlns=\"http://www.w3.org/2000/svg\" height=\"24px\" viewBox=\"0 -960 960 960\">\n",
              "    <path d=\"M120-120v-720h720v720H120Zm60-500h600v-160H180v160Zm220 220h160v-160H400v160Zm0 220h160v-160H400v160ZM180-400h160v-160H180v160Zm440 0h160v-160H620v160ZM180-180h160v-160H180v160Zm440 0h160v-160H620v160Z\"/>\n",
              "  </svg>\n",
              "    </button>\n",
              "\n",
              "  <style>\n",
              "    .colab-df-container {\n",
              "      display:flex;\n",
              "      gap: 12px;\n",
              "    }\n",
              "\n",
              "    .colab-df-convert {\n",
              "      background-color: #E8F0FE;\n",
              "      border: none;\n",
              "      border-radius: 50%;\n",
              "      cursor: pointer;\n",
              "      display: none;\n",
              "      fill: #1967D2;\n",
              "      height: 32px;\n",
              "      padding: 0 0 0 0;\n",
              "      width: 32px;\n",
              "    }\n",
              "\n",
              "    .colab-df-convert:hover {\n",
              "      background-color: #E2EBFA;\n",
              "      box-shadow: 0px 1px 2px rgba(60, 64, 67, 0.3), 0px 1px 3px 1px rgba(60, 64, 67, 0.15);\n",
              "      fill: #174EA6;\n",
              "    }\n",
              "\n",
              "    .colab-df-buttons div {\n",
              "      margin-bottom: 4px;\n",
              "    }\n",
              "\n",
              "    [theme=dark] .colab-df-convert {\n",
              "      background-color: #3B4455;\n",
              "      fill: #D2E3FC;\n",
              "    }\n",
              "\n",
              "    [theme=dark] .colab-df-convert:hover {\n",
              "      background-color: #434B5C;\n",
              "      box-shadow: 0px 1px 3px 1px rgba(0, 0, 0, 0.15);\n",
              "      filter: drop-shadow(0px 1px 2px rgba(0, 0, 0, 0.3));\n",
              "      fill: #FFFFFF;\n",
              "    }\n",
              "  </style>\n",
              "\n",
              "    <script>\n",
              "      const buttonEl =\n",
              "        document.querySelector('#df-f42c8748-d72b-4400-8c69-48a5ac6c8fd3 button.colab-df-convert');\n",
              "      buttonEl.style.display =\n",
              "        google.colab.kernel.accessAllowed ? 'block' : 'none';\n",
              "\n",
              "      async function convertToInteractive(key) {\n",
              "        const element = document.querySelector('#df-f42c8748-d72b-4400-8c69-48a5ac6c8fd3');\n",
              "        const dataTable =\n",
              "          await google.colab.kernel.invokeFunction('convertToInteractive',\n",
              "                                                    [key], {});\n",
              "        if (!dataTable) return;\n",
              "\n",
              "        const docLinkHtml = 'Like what you see? Visit the ' +\n",
              "          '<a target=\"_blank\" href=https://colab.research.google.com/notebooks/data_table.ipynb>data table notebook</a>'\n",
              "          + ' to learn more about interactive tables.';\n",
              "        element.innerHTML = '';\n",
              "        dataTable['output_type'] = 'display_data';\n",
              "        await google.colab.output.renderOutput(dataTable, element);\n",
              "        const docLink = document.createElement('div');\n",
              "        docLink.innerHTML = docLinkHtml;\n",
              "        element.appendChild(docLink);\n",
              "      }\n",
              "    </script>\n",
              "  </div>\n",
              "\n",
              "\n",
              "<div id=\"df-8c9cd5a8-09d7-49c1-9e93-fa54286e178d\">\n",
              "  <button class=\"colab-df-quickchart\" onclick=\"quickchart('df-8c9cd5a8-09d7-49c1-9e93-fa54286e178d')\"\n",
              "            title=\"Suggest charts\"\n",
              "            style=\"display:none;\">\n",
              "\n",
              "<svg xmlns=\"http://www.w3.org/2000/svg\" height=\"24px\"viewBox=\"0 0 24 24\"\n",
              "     width=\"24px\">\n",
              "    <g>\n",
              "        <path d=\"M19 3H5c-1.1 0-2 .9-2 2v14c0 1.1.9 2 2 2h14c1.1 0 2-.9 2-2V5c0-1.1-.9-2-2-2zM9 17H7v-7h2v7zm4 0h-2V7h2v10zm4 0h-2v-4h2v4z\"/>\n",
              "    </g>\n",
              "</svg>\n",
              "  </button>\n",
              "\n",
              "<style>\n",
              "  .colab-df-quickchart {\n",
              "      --bg-color: #E8F0FE;\n",
              "      --fill-color: #1967D2;\n",
              "      --hover-bg-color: #E2EBFA;\n",
              "      --hover-fill-color: #174EA6;\n",
              "      --disabled-fill-color: #AAA;\n",
              "      --disabled-bg-color: #DDD;\n",
              "  }\n",
              "\n",
              "  [theme=dark] .colab-df-quickchart {\n",
              "      --bg-color: #3B4455;\n",
              "      --fill-color: #D2E3FC;\n",
              "      --hover-bg-color: #434B5C;\n",
              "      --hover-fill-color: #FFFFFF;\n",
              "      --disabled-bg-color: #3B4455;\n",
              "      --disabled-fill-color: #666;\n",
              "  }\n",
              "\n",
              "  .colab-df-quickchart {\n",
              "    background-color: var(--bg-color);\n",
              "    border: none;\n",
              "    border-radius: 50%;\n",
              "    cursor: pointer;\n",
              "    display: none;\n",
              "    fill: var(--fill-color);\n",
              "    height: 32px;\n",
              "    padding: 0;\n",
              "    width: 32px;\n",
              "  }\n",
              "\n",
              "  .colab-df-quickchart:hover {\n",
              "    background-color: var(--hover-bg-color);\n",
              "    box-shadow: 0 1px 2px rgba(60, 64, 67, 0.3), 0 1px 3px 1px rgba(60, 64, 67, 0.15);\n",
              "    fill: var(--button-hover-fill-color);\n",
              "  }\n",
              "\n",
              "  .colab-df-quickchart-complete:disabled,\n",
              "  .colab-df-quickchart-complete:disabled:hover {\n",
              "    background-color: var(--disabled-bg-color);\n",
              "    fill: var(--disabled-fill-color);\n",
              "    box-shadow: none;\n",
              "  }\n",
              "\n",
              "  .colab-df-spinner {\n",
              "    border: 2px solid var(--fill-color);\n",
              "    border-color: transparent;\n",
              "    border-bottom-color: var(--fill-color);\n",
              "    animation:\n",
              "      spin 1s steps(1) infinite;\n",
              "  }\n",
              "\n",
              "  @keyframes spin {\n",
              "    0% {\n",
              "      border-color: transparent;\n",
              "      border-bottom-color: var(--fill-color);\n",
              "      border-left-color: var(--fill-color);\n",
              "    }\n",
              "    20% {\n",
              "      border-color: transparent;\n",
              "      border-left-color: var(--fill-color);\n",
              "      border-top-color: var(--fill-color);\n",
              "    }\n",
              "    30% {\n",
              "      border-color: transparent;\n",
              "      border-left-color: var(--fill-color);\n",
              "      border-top-color: var(--fill-color);\n",
              "      border-right-color: var(--fill-color);\n",
              "    }\n",
              "    40% {\n",
              "      border-color: transparent;\n",
              "      border-right-color: var(--fill-color);\n",
              "      border-top-color: var(--fill-color);\n",
              "    }\n",
              "    60% {\n",
              "      border-color: transparent;\n",
              "      border-right-color: var(--fill-color);\n",
              "    }\n",
              "    80% {\n",
              "      border-color: transparent;\n",
              "      border-right-color: var(--fill-color);\n",
              "      border-bottom-color: var(--fill-color);\n",
              "    }\n",
              "    90% {\n",
              "      border-color: transparent;\n",
              "      border-bottom-color: var(--fill-color);\n",
              "    }\n",
              "  }\n",
              "</style>\n",
              "\n",
              "  <script>\n",
              "    async function quickchart(key) {\n",
              "      const quickchartButtonEl =\n",
              "        document.querySelector('#' + key + ' button');\n",
              "      quickchartButtonEl.disabled = true;  // To prevent multiple clicks.\n",
              "      quickchartButtonEl.classList.add('colab-df-spinner');\n",
              "      try {\n",
              "        const charts = await google.colab.kernel.invokeFunction(\n",
              "            'suggestCharts', [key], {});\n",
              "      } catch (error) {\n",
              "        console.error('Error during call to suggestCharts:', error);\n",
              "      }\n",
              "      quickchartButtonEl.classList.remove('colab-df-spinner');\n",
              "      quickchartButtonEl.classList.add('colab-df-quickchart-complete');\n",
              "    }\n",
              "    (() => {\n",
              "      let quickchartButtonEl =\n",
              "        document.querySelector('#df-8c9cd5a8-09d7-49c1-9e93-fa54286e178d button');\n",
              "      quickchartButtonEl.style.display =\n",
              "        google.colab.kernel.accessAllowed ? 'block' : 'none';\n",
              "    })();\n",
              "  </script>\n",
              "</div>\n",
              "    </div>\n",
              "  </div>\n"
            ]
          },
          "metadata": {}
        }
      ]
    },
    {
      "cell_type": "markdown",
      "source": [
        "18번 video 정보의 가장 최근 데이터들에서 각 에피소드의 싫어요/좋아요 비율을 ratio 컬럼으로 만들고 videoname, ratio로 구성된 데이터 프레임을 ratio를 오름차순으로 정렬하라"
      ],
      "metadata": {
        "id": "B5zzXytiWzvi"
      }
    },
    {
      "cell_type": "code",
      "source": [
        "target = video.sort_values('ct').drop_duplicates('videoname',keep='last')\n",
        "target['ratio'] = target['dislikecnt']/target['likecnt']\n",
        "result = target.sort_values('ratio')[['videoname','ratio']].reset_index(drop=True)\n",
        "print(result)"
      ],
      "metadata": {
        "colab": {
          "base_uri": "https://localhost:8080/"
        },
        "id": "UpLOdQlNW1o_",
        "outputId": "4d8ebf65-0cad-4277-ffff-aa14253b54a2"
      },
      "execution_count": null,
      "outputs": [
        {
          "output_type": "stream",
          "name": "stdout",
          "text": [
            "  videoname     ratio\n",
            "0    공범 EP7  0.013636\n",
            "1    공범 EP6  0.015881\n",
            "2    공범 EP4  0.017971\n",
            "3    공범 EP5  0.021128\n",
            "4    공범 EP3  0.022360\n",
            "5    공범 EP1  0.027118\n",
            "6    공범 EP2  0.029844\n",
            "7    공범 EP8  0.141357\n"
          ]
        }
      ]
    },
    {
      "cell_type": "markdown",
      "source": [
        "19번 2021-11-01 00:00:00 ~ 15:00:00까지 각 에피소드별 viewcnt의 증가량을 데이터 프레임으로 만드시오"
      ],
      "metadata": {
        "id": "tTi-aMZZW16m"
      }
    },
    {
      "cell_type": "code",
      "source": [
        "start = pd.to_datetime(\"2021-11-01 00:00:00\")\n",
        "end = pd.to_datetime(\"2021-11-01 15:00:00\")\n",
        "\n",
        "target = video.loc[(video['ct']>=start)&(video['ct']<=end)].reset_index(drop=True)\n",
        "\n",
        "def check(x):\n",
        "    result = max(x) - min(x)\n",
        "    return result\n",
        "\n",
        "answer = target[['videoname','viewcnt']].groupby('videoname').agg(check)\n",
        "print(answer)"
      ],
      "metadata": {
        "colab": {
          "base_uri": "https://localhost:8080/"
        },
        "id": "LG4wtDNHW3oP",
        "outputId": "77f663e0-4129-466c-97b7-7ab46afb1f68"
      },
      "execution_count": null,
      "outputs": [
        {
          "output_type": "stream",
          "name": "stdout",
          "text": [
            "           viewcnt\n",
            "videoname         \n",
            " 공범 EP1      13298\n",
            " 공범 EP2      10300\n",
            " 공범 EP3       9927\n",
            " 공범 EP4       9824\n",
            " 공범 EP5      10824\n",
            " 공범 EP6      14141\n",
            " 공범 EP7      26949\n",
            " 공범 EP8      89147\n"
          ]
        }
      ]
    },
    {
      "cell_type": "markdown",
      "source": [
        "20번 video 데이터 중에서 중복되는 데이터가 존재한다. 중복되는 각 데이터의 시간대와 videoname 을 구하여라"
      ],
      "metadata": {
        "id": "YZQ_kYevW4eG"
      }
    },
    {
      "cell_type": "code",
      "source": [
        "target = video[video.index.isin(set(video.index)-set(video.drop_duplicates().index))]\n",
        "result = target[['videoname','ct']]\n",
        "print(result)"
      ],
      "metadata": {
        "colab": {
          "base_uri": "https://localhost:8080/"
        },
        "id": "dSlidAvzW6p4",
        "outputId": "1b80f958-205d-4125-e589-f81778aac5be"
      },
      "execution_count": null,
      "outputs": [
        {
          "output_type": "stream",
          "name": "stdout",
          "text": [
            "     videoname                  ct\n",
            "722     공범 EP1 2021-10-13 09:41:37\n",
            "3927    공범 EP2 2021-10-13 09:41:37\n"
          ]
        }
      ]
    },
    {
      "cell_type": "markdown",
      "source": [
        "#2유형"
      ],
      "metadata": {
        "id": "Pmd9iqqR6rH7"
      }
    },
    {
      "cell_type": "code",
      "source": [
        "import pandas as pd\n",
        "\n",
        "X_test = pd.read_csv('/content/yemoonsaBigdata/datasets/Part3/304_x_test.csv')\n",
        "X_train = pd.read_csv('/content/yemoonsaBigdata/datasets/Part3/304_x_train.csv')\n",
        "y_train = pd.read_csv('/content/yemoonsaBigdata/datasets/Part3/304_y_train.csv')\n",
        "\n",
        "#데이터 살펴보기\n",
        "# print(X_test.head())\n",
        "# print(X_train.head())\n",
        "# print(y_train.head())\n",
        "\n",
        "# print(X_test.info())\n",
        "# print(X_train.info())\n",
        "# print(y_train.info())\n",
        "\n",
        "# print(X_test.isnull().sum())\n",
        "# print(X_train.isnull().sum())\n",
        "# print(y_train.isnull().sum())\n",
        "\n",
        "#데이터 분류하기\n",
        "COL_DEL = ['ID']\n",
        "COL_NUM = ['Age','AnnualIncome','FamilyMembers','ChronicDiseases']\n",
        "COL_CAT = ['Employment Type','GraduateOrNot','FrequentFlyer','EverTravelledAbroad']\n",
        "COL_Y = ['TravelInsurance']\n",
        "\n",
        "#데이터 분할하기\n",
        "from sklearn.model_selection import train_test_split\n",
        "X_tr, X_val, y_tr, y_val = train_test_split(X_train[COL_NUM+COL_CAT],\n",
        "                                            y_train[COL_Y].values.ravel(),\n",
        "                                            test_size=0.3,\n",
        "                                            stratify=y_train[COL_Y].values.ravel())\n",
        "\n",
        "#데이터 스케일링\n",
        "from sklearn.preprocessing import StandardScaler\n",
        "scaler = StandardScaler()\n",
        "scaler.fit(X_tr[COL_NUM])\n",
        "\n",
        "X_tr[COL_NUM] = scaler.transform(X_tr[COL_NUM])\n",
        "X_val[COL_NUM] = scaler.transform(X_val[COL_NUM])\n",
        "X_test[COL_NUM] = scaler.transform(X_test[COL_NUM])\n",
        "\n",
        "#데이터 라벨링\n",
        "from sklearn.preprocessing import LabelEncoder\n",
        "X = pd.concat([X_train[COL_CAT], X_test[COL_CAT]])\n",
        "for col in COL_CAT:\n",
        "    le = LabelEncoder()\n",
        "    le.fit(X[col])\n",
        "    X_tr[col] = le.transform(X_tr[col])\n",
        "    X_val[col] = le.transform(X_val[col])\n",
        "    X_test[col] = le.transform(X_test[col])\n",
        "\n",
        "#모델 학습\n",
        "from sklearn.ensemble import RandomForestClassifier\n",
        "modelRF = RandomForestClassifier(random_state=123)\n",
        "modelRF.fit(X_tr, y_tr)\n",
        "\n",
        "from xgboost import XGBClassifier\n",
        "modelXGB = XGBClassifier(random_state=123)\n",
        "modelXGB.fit(X_tr, y_tr)\n",
        "\n",
        "#예측값 생성\n",
        "y_val_predRF = modelRF.predict_proba(X_val)[:,1]\n",
        "y_val_predXGB = modelXGB.predict_proba(X_val)[:,1]\n",
        "\n",
        "#평가지표 구하기\n",
        "from sklearn.metrics import roc_auc_score\n",
        "scoreRF = roc_auc_score(y_val, y_val_predRF)\n",
        "scoreXGB = roc_auc_score(y_val, y_val_predXGB)\n",
        "print(\"Random Forest:\", scoreRF)\n",
        "print(\"XGBoost:\", scoreXGB)\n",
        "#XGBoost 사용!\n",
        "\n",
        "#평가 성능 함수 만들기\n",
        "def get_scores(model, X_tr, X_val, y_tr, y_val):\n",
        "    y_tr_pred = model.predict_proba(X_tr)[:,1]\n",
        "    y_val_pred = model.predict_proba(X_val)[:,1]\n",
        "    tr_score = roc_auc_score(y_tr, y_tr_pred)\n",
        "    val_score = roc_auc_score(y_val, y_val_pred)\n",
        "    return f\"train: {round(tr_score,4)}, valid: {round(val_score,4)}\"\n",
        "print(\"Random Forest:\", get_scores(modelRF, X_tr, X_val, y_tr, y_val))\n",
        "print(\"XGBoost:\", get_scores(modelXGB, X_tr, X_val, y_tr, y_val))\n",
        "#과대적합이 아닌 즉, train과 valid의 차이가 적은 XGBoost을 모델로 선정\n",
        "\n",
        "#하이퍼 파리미터 조정\n",
        "modelXGB2 = XGBClassifier(n_estimators=50, max_depth=5, min_child_weight=1, random_state=123)\n",
        "modelXGB2.fit(X_tr, y_tr)\n",
        "\n",
        "modelXGB3 = XGBClassifier(n_estimators=50, max_depth=5, min_child_weight=2, random_state=123)\n",
        "modelXGB3.fit(X_tr, y_tr)\n",
        "\n",
        "modelXGB4 = XGBClassifier(n_estimators=50, max_depth=3, min_child_weight=1, random_state=123)\n",
        "modelXGB4.fit(X_tr, y_tr)\n",
        "\n",
        "modelXGB5 = XGBClassifier(n_estimators=50, max_depth=3, min_child_weight=2, random_state=123)\n",
        "modelXGB5.fit(X_tr, y_tr)\n",
        "\n",
        "print(\"XGBoost2:\", get_scores(modelXGB2, X_tr, X_val, y_tr, y_val))\n",
        "print(\"XGBoost3:\", get_scores(modelXGB3, X_tr, X_val, y_tr, y_val))\n",
        "print(\"XGBoost4:\", get_scores(modelXGB4, X_tr, X_val, y_tr, y_val))\n",
        "print(\"XGBoost5:\", get_scores(modelXGB5, X_tr, X_val, y_tr, y_val))\n",
        "#과대적합이 제일 적은 즉, train과 valid의 차이가 가장 적은 XGB5를 모델로 선정"
      ],
      "metadata": {
        "colab": {
          "base_uri": "https://localhost:8080/"
        },
        "id": "BGhNnWcY6sda",
        "outputId": "28a718d2-f77b-4816-f174-d13c4032af97"
      },
      "execution_count": null,
      "outputs": [
        {
          "output_type": "stream",
          "name": "stdout",
          "text": [
            "Random Forest: 0.8238899718431882\n",
            "XGBoost: 0.8176954732510288\n",
            "Random Forest: train: 0.9886, valid: 0.8239\n",
            "XGBoost: train: 0.9742, valid: 0.8177\n",
            "XGBoost2: train: 0.9394, valid: 0.8149\n",
            "XGBoost3: train: 0.9305, valid: 0.8206\n",
            "XGBoost4: train: 0.8961, valid: 0.82\n",
            "XGBoost5: train: 0.8844, valid: 0.8205\n"
          ]
        }
      ]
    },
    {
      "cell_type": "code",
      "source": [
        "#결괏값 생성하기\n",
        "pred = modelXGB5.predict_proba(X_test[COL_NUM+COL_CAT])[:,1]\n",
        "result = pd.DataFrame({'ID':X_test.ID, 'pred':pred})\n",
        "print(result.head())\n",
        "\n",
        "#저장하기\n",
        "# result.to_csv('수험번호.csv', index=False)"
      ],
      "metadata": {
        "colab": {
          "base_uri": "https://localhost:8080/"
        },
        "id": "sBZWJgbsDoIc",
        "outputId": "2fffe4a9-8fee-48b4-9114-5b98c0a75070"
      },
      "execution_count": null,
      "outputs": [
        {
          "output_type": "stream",
          "name": "stdout",
          "text": [
            "     ID      pred\n",
            "0  1569  0.189806\n",
            "1  1344  0.949693\n",
            "2  1429  0.250472\n",
            "3   896  0.385376\n",
            "4   101  0.959328\n"
          ]
        }
      ]
    },
    {
      "cell_type": "markdown",
      "source": [
        "#3유형"
      ],
      "metadata": {
        "id": "OJz0jBTg4sL0"
      }
    },
    {
      "cell_type": "markdown",
      "source": [
        "Airquality"
      ],
      "metadata": {
        "id": "w4bZxZ9C4uxA"
      }
    },
    {
      "cell_type": "code",
      "source": [
        "import pandas as pd\n",
        "import scipy.stats as stats\n",
        "from math import sqrt\n",
        "\n",
        "a = pd.read_csv('/content/yemoonsaBigdata/datasets/supplement/airquality.csv')\n",
        "\n",
        "X = a['Wind'].mean()\n",
        "print(round(X,2))\n",
        "print('-'*80)\n",
        "\n",
        "t_score, p_value = stats.ttest_1samp(a['Wind'],10)\n",
        "print(round(t_score,2))\n",
        "print('-'*80)\n",
        "\n",
        "print(round(p_value,4))\n",
        "if p_value > 0.05 :\n",
        "    print('채택')\n",
        "else:\n",
        "    print('기각')"
      ],
      "metadata": {
        "colab": {
          "base_uri": "https://localhost:8080/"
        },
        "id": "sQfI6t3V4tQ8",
        "outputId": "35640170-84f5-4c96-bc45-368371961e8c"
      },
      "execution_count": 11,
      "outputs": [
        {
          "output_type": "stream",
          "name": "stdout",
          "text": [
            "9.96\n",
            "--------------------------------------------------------------------------------\n",
            "-0.15\n",
            "--------------------------------------------------------------------------------\n",
            "0.8816\n",
            "채택\n"
          ]
        }
      ]
    },
    {
      "cell_type": "markdown",
      "source": [
        "Chickweight"
      ],
      "metadata": {
        "id": "9zuktRSPCSyp"
      }
    },
    {
      "cell_type": "code",
      "source": [
        "import pandas as pd\n",
        "import scipy.stats as stats\n",
        "from math import sqrt\n",
        "\n",
        "b = pd.read_csv('/content/yemoonsaBigdata/datasets/supplement/chickweight.csv')\n",
        "\n",
        "b1 = b.loc[b.Diet==1]\n",
        "b4 = b.loc[b.Diet==4]\n",
        "\n",
        "b1_X = b1['weight'].mean()\n",
        "b4_X = b4['weight'].mean()\n",
        "print(round(b1_X, 2), round(b4_X,2))\n",
        "print('-'*80)\n",
        "\n",
        "t_score, p_value = stats.ttest_ind(b1['weight'],b4['weight'],equal_var=False)\n",
        "print(round(t_score,2))\n",
        "print('-'*80)\n",
        "\n",
        "print(round(p_value,4))\n",
        "\n",
        "if p_value > 0.05 :\n",
        "    print('채택')\n",
        "else:\n",
        "    print('기각')"
      ],
      "metadata": {
        "colab": {
          "base_uri": "https://localhost:8080/"
        },
        "id": "Wo3sWWZeBxfu",
        "outputId": "9ce667a2-2fa9-4277-bf6a-6dc9dd8935c6"
      },
      "execution_count": 22,
      "outputs": [
        {
          "output_type": "stream",
          "name": "stdout",
          "text": [
            "102.65 135.26\n",
            "--------------------------------------------------------------------------------\n",
            "-4.41\n",
            "--------------------------------------------------------------------------------\n",
            "0.0\n",
            "기각\n"
          ]
        }
      ]
    },
    {
      "cell_type": "markdown",
      "source": [
        "StudentsPerformance"
      ],
      "metadata": {
        "id": "f4IzdkaVDNpZ"
      }
    },
    {
      "cell_type": "code",
      "source": [
        "import pandas as pd\n",
        "import scipy.stats as stats\n",
        "from math import sqrt\n",
        "\n",
        "c = pd.read_csv('/content/yemoonsaBigdata/datasets/supplement/StudentsPerformance1.csv',encoding='cp949')\n",
        "\n",
        "x_A = c.loc[c.인종=='A그룹','수학 점수']\n",
        "x_B = c.loc[c.인종=='B그룹','수학 점수']\n",
        "x_C = c.loc[c.인종=='C그룹','수학 점수']\n",
        "x_D = c.loc[c.인종=='D그룹','수학 점수']\n",
        "\n",
        "x_A_mean = x_A.mean()\n",
        "x_B_mean = x_B.mean()\n",
        "x_C_mean = x_C.mean()\n",
        "x_D_mean = x_D.mean()\n",
        "print(round(x_A_mean,2),round(x_B_mean,2), round(x_C_mean,2),round(x_D_mean,2))\n",
        "print('-'*80)\n",
        "\n",
        "test_result = stats.f_oneway(x_A, x_B, x_C, x_D)\n",
        "print(round(test_result.statistic,2))\n",
        "print('-'*80)\n",
        "\n",
        "p_value = test_result.pvalue\n",
        "print(round(p_value,4))\n",
        "print('-'*80)\n",
        "\n",
        "if p_value > 0.05:\n",
        "    print('채택')\n",
        "else:\n",
        "    print('기각')"
      ],
      "metadata": {
        "colab": {
          "base_uri": "https://localhost:8080/"
        },
        "id": "NbHw0JFyDNHO",
        "outputId": "f42b0cba-3a07-4fde-9b0d-4ccb7b8196ac"
      },
      "execution_count": 36,
      "outputs": [
        {
          "output_type": "stream",
          "name": "stdout",
          "text": [
            "61.63 63.45 64.46 67.36\n",
            "--------------------------------------------------------------------------------\n",
            "4.66\n",
            "--------------------------------------------------------------------------------\n",
            "0.0031\n",
            "--------------------------------------------------------------------------------\n",
            "기각\n"
          ]
        }
      ]
    },
    {
      "cell_type": "markdown",
      "source": [
        "StudentsPerformance 2"
      ],
      "metadata": {
        "id": "Gc_tMiKLEqxQ"
      }
    },
    {
      "cell_type": "code",
      "source": [
        "import pandas as pd\n",
        "import scipy.stats as stats\n",
        "from math import sqrt\n",
        "\n",
        "d = pd.read_csv('/content/yemoonsaBigdata/datasets/supplement/StudentsPerformance2.csv',encoding='cp949')\n",
        "\n",
        "table = pd.crosstab(d['성별'],d['학업 성적'])\n",
        "\n",
        "X1 = table.loc['남성',:]\n",
        "X2 = table.loc['여성',:]\n",
        "\n",
        "X1_G = X1['우수']\n",
        "X2_G = X2['우수']\n",
        "\n",
        "print(int(abs(X1_G - X2_G)))\n",
        "print('-'*80)\n",
        "\n",
        "test_result = stats.chi2_contingency([X1,X2])\n",
        "print(round(test_result.statistic,2))\n",
        "print('-'*80)\n",
        "\n",
        "p_value = test_result.pvalue\n",
        "print(round(p_value,4))\n",
        "\n",
        "if p_value>0.05:\n",
        "    print('채택')\n",
        "else:\n",
        "    print('기각')"
      ],
      "metadata": {
        "colab": {
          "base_uri": "https://localhost:8080/"
        },
        "id": "ekFCByBTEs2a",
        "outputId": "5c910ac6-84ed-4906-9d78-69ccc151d388"
      },
      "execution_count": 57,
      "outputs": [
        {
          "output_type": "stream",
          "name": "stdout",
          "text": [
            "38\n",
            "--------------------------------------------------------------------------------\n",
            "12.41\n",
            "--------------------------------------------------------------------------------\n",
            "0.002\n",
            "기각\n"
          ]
        }
      ]
    }
  ]
}