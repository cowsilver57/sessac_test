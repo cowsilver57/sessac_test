{
  "nbformat": 4,
  "nbformat_minor": 0,
  "metadata": {
    "colab": {
      "provenance": [],
      "authorship_tag": "ABX9TyNlyRUX+axVe+fPmvBA+GpY",
      "include_colab_link": true
    },
    "kernelspec": {
      "name": "python3",
      "display_name": "Python 3"
    },
    "language_info": {
      "name": "python"
    }
  },
  "cells": [
    {
      "cell_type": "markdown",
      "metadata": {
        "id": "view-in-github",
        "colab_type": "text"
      },
      "source": [
        "<a href=\"https://colab.research.google.com/github/cowsilver57/sessac_test/blob/main/Chapter8_1123_%EB%AA%A9.ipynb\" target=\"_parent\"><img src=\"https://colab.research.google.com/assets/colab-badge.svg\" alt=\"Open In Colab\"/></a>"
      ]
    },
    {
      "cell_type": "code",
      "source": [
        "#github와 colab 연동\n",
        "!git clone https://github.com/AnalyticsKnight/yemoonsaBigdata"
      ],
      "metadata": {
        "colab": {
          "base_uri": "https://localhost:8080/"
        },
        "id": "gGYelmR4rdzN",
        "outputId": "544198bc-c33c-47d7-f3aa-4160902686ff"
      },
      "execution_count": null,
      "outputs": [
        {
          "output_type": "stream",
          "name": "stdout",
          "text": [
            "Cloning into 'yemoonsaBigdata'...\n",
            "remote: Enumerating objects: 637, done.\u001b[K\n",
            "remote: Counting objects: 100% (276/276), done.\u001b[K\n",
            "remote: Compressing objects: 100% (167/167), done.\u001b[K\n",
            "remote: Total 637 (delta 137), reused 184 (delta 109), pack-reused 361\u001b[K\n",
            "Receiving objects: 100% (637/637), 10.76 MiB | 13.54 MiB/s, done.\n",
            "Resolving deltas: 100% (321/321), done.\n"
          ]
        }
      ]
    },
    {
      "cell_type": "markdown",
      "source": [
        "#1유형"
      ],
      "metadata": {
        "id": "_CrMuVefGi7D"
      }
    },
    {
      "cell_type": "code",
      "source": [
        "import pandas as pd\n",
        "df = pd.read_csv(\"https://raw.githubusercontent.com/Datamanim/datarepo/main/youtube/youtube.csv\",index_col=0)\n",
        "df.head()"
      ],
      "metadata": {
        "colab": {
          "base_uri": "https://localhost:8080/",
          "height": 799
        },
        "id": "tzenm5RGGm81",
        "outputId": "7aaa903f-acc2-40c1-d89c-e750c02b2f1d"
      },
      "execution_count": null,
      "outputs": [
        {
          "output_type": "execute_result",
          "data": {
            "text/plain": [
              "                                               title             channelTitle  \\\n",
              "0                                          [신병] 물자창고                      장삐쭈   \n",
              "1   RAIN(비) - 나로 바꾸자 Switch to me (duet with JYP) MV  RAIN's Official Channel   \n",
              "2       2020년 제야의 종 온라인 타종행사 | 보신각 현장 행사는 진행하지 않습니다.              서울시 · Seoul   \n",
              "3                                       고기남자의 칠면조 파티             고기남자 MeatMan   \n",
              "4  골목 3mc를 분노하게 만든 마음고생이 심했을 공릉 백반집 사장님의 푸념?! [예능...                    스브스밥집   \n",
              "\n",
              "   categoryId  view_count  likes  dislikes  comment_count  \\\n",
              "0          23     1893473  38249       730           8595   \n",
              "1          10     2600864      0         0          20129   \n",
              "2          29      347049   3564       120            178   \n",
              "3          26      528458  15372       280           3470   \n",
              "4          24      494904   3918       111           3142   \n",
              "\n",
              "                  channelId trending_date2  \n",
              "0  UChbE5OZQ6dRHECsX0tEPEZQ     2021-01-01  \n",
              "1  UCxXgIeE5hxWxHG6dz9Scg2w     2021-01-01  \n",
              "2  UCZUPZW5idAxYp-Asj__lVAA     2021-01-01  \n",
              "3  UCT3CumbFIJiW33uq0UI3zlg     2021-01-01  \n",
              "4  UCdWgRSfttvDucq4ApcCg5Mw     2021-01-01  "
            ],
            "text/html": [
              "\n",
              "  <div id=\"df-db0b1977-cfff-48de-91cd-987df337dcb4\" class=\"colab-df-container\">\n",
              "    <div>\n",
              "<style scoped>\n",
              "    .dataframe tbody tr th:only-of-type {\n",
              "        vertical-align: middle;\n",
              "    }\n",
              "\n",
              "    .dataframe tbody tr th {\n",
              "        vertical-align: top;\n",
              "    }\n",
              "\n",
              "    .dataframe thead th {\n",
              "        text-align: right;\n",
              "    }\n",
              "</style>\n",
              "<table border=\"1\" class=\"dataframe\">\n",
              "  <thead>\n",
              "    <tr style=\"text-align: right;\">\n",
              "      <th></th>\n",
              "      <th>title</th>\n",
              "      <th>channelTitle</th>\n",
              "      <th>categoryId</th>\n",
              "      <th>view_count</th>\n",
              "      <th>likes</th>\n",
              "      <th>dislikes</th>\n",
              "      <th>comment_count</th>\n",
              "      <th>channelId</th>\n",
              "      <th>trending_date2</th>\n",
              "    </tr>\n",
              "  </thead>\n",
              "  <tbody>\n",
              "    <tr>\n",
              "      <th>0</th>\n",
              "      <td>[신병] 물자창고</td>\n",
              "      <td>장삐쭈</td>\n",
              "      <td>23</td>\n",
              "      <td>1893473</td>\n",
              "      <td>38249</td>\n",
              "      <td>730</td>\n",
              "      <td>8595</td>\n",
              "      <td>UChbE5OZQ6dRHECsX0tEPEZQ</td>\n",
              "      <td>2021-01-01</td>\n",
              "    </tr>\n",
              "    <tr>\n",
              "      <th>1</th>\n",
              "      <td>RAIN(비) - 나로 바꾸자 Switch to me (duet with JYP) MV</td>\n",
              "      <td>RAIN's Official Channel</td>\n",
              "      <td>10</td>\n",
              "      <td>2600864</td>\n",
              "      <td>0</td>\n",
              "      <td>0</td>\n",
              "      <td>20129</td>\n",
              "      <td>UCxXgIeE5hxWxHG6dz9Scg2w</td>\n",
              "      <td>2021-01-01</td>\n",
              "    </tr>\n",
              "    <tr>\n",
              "      <th>2</th>\n",
              "      <td>2020년 제야의 종 온라인 타종행사 | 보신각 현장 행사는 진행하지 않습니다.</td>\n",
              "      <td>서울시 · Seoul</td>\n",
              "      <td>29</td>\n",
              "      <td>347049</td>\n",
              "      <td>3564</td>\n",
              "      <td>120</td>\n",
              "      <td>178</td>\n",
              "      <td>UCZUPZW5idAxYp-Asj__lVAA</td>\n",
              "      <td>2021-01-01</td>\n",
              "    </tr>\n",
              "    <tr>\n",
              "      <th>3</th>\n",
              "      <td>고기남자의 칠면조 파티</td>\n",
              "      <td>고기남자 MeatMan</td>\n",
              "      <td>26</td>\n",
              "      <td>528458</td>\n",
              "      <td>15372</td>\n",
              "      <td>280</td>\n",
              "      <td>3470</td>\n",
              "      <td>UCT3CumbFIJiW33uq0UI3zlg</td>\n",
              "      <td>2021-01-01</td>\n",
              "    </tr>\n",
              "    <tr>\n",
              "      <th>4</th>\n",
              "      <td>골목 3mc를 분노하게 만든 마음고생이 심했을 공릉 백반집 사장님의 푸념?! [예능...</td>\n",
              "      <td>스브스밥집</td>\n",
              "      <td>24</td>\n",
              "      <td>494904</td>\n",
              "      <td>3918</td>\n",
              "      <td>111</td>\n",
              "      <td>3142</td>\n",
              "      <td>UCdWgRSfttvDucq4ApcCg5Mw</td>\n",
              "      <td>2021-01-01</td>\n",
              "    </tr>\n",
              "  </tbody>\n",
              "</table>\n",
              "</div>\n",
              "    <div class=\"colab-df-buttons\">\n",
              "\n",
              "  <div class=\"colab-df-container\">\n",
              "    <button class=\"colab-df-convert\" onclick=\"convertToInteractive('df-db0b1977-cfff-48de-91cd-987df337dcb4')\"\n",
              "            title=\"Convert this dataframe to an interactive table.\"\n",
              "            style=\"display:none;\">\n",
              "\n",
              "  <svg xmlns=\"http://www.w3.org/2000/svg\" height=\"24px\" viewBox=\"0 -960 960 960\">\n",
              "    <path d=\"M120-120v-720h720v720H120Zm60-500h600v-160H180v160Zm220 220h160v-160H400v160Zm0 220h160v-160H400v160ZM180-400h160v-160H180v160Zm440 0h160v-160H620v160ZM180-180h160v-160H180v160Zm440 0h160v-160H620v160Z\"/>\n",
              "  </svg>\n",
              "    </button>\n",
              "\n",
              "  <style>\n",
              "    .colab-df-container {\n",
              "      display:flex;\n",
              "      gap: 12px;\n",
              "    }\n",
              "\n",
              "    .colab-df-convert {\n",
              "      background-color: #E8F0FE;\n",
              "      border: none;\n",
              "      border-radius: 50%;\n",
              "      cursor: pointer;\n",
              "      display: none;\n",
              "      fill: #1967D2;\n",
              "      height: 32px;\n",
              "      padding: 0 0 0 0;\n",
              "      width: 32px;\n",
              "    }\n",
              "\n",
              "    .colab-df-convert:hover {\n",
              "      background-color: #E2EBFA;\n",
              "      box-shadow: 0px 1px 2px rgba(60, 64, 67, 0.3), 0px 1px 3px 1px rgba(60, 64, 67, 0.15);\n",
              "      fill: #174EA6;\n",
              "    }\n",
              "\n",
              "    .colab-df-buttons div {\n",
              "      margin-bottom: 4px;\n",
              "    }\n",
              "\n",
              "    [theme=dark] .colab-df-convert {\n",
              "      background-color: #3B4455;\n",
              "      fill: #D2E3FC;\n",
              "    }\n",
              "\n",
              "    [theme=dark] .colab-df-convert:hover {\n",
              "      background-color: #434B5C;\n",
              "      box-shadow: 0px 1px 3px 1px rgba(0, 0, 0, 0.15);\n",
              "      filter: drop-shadow(0px 1px 2px rgba(0, 0, 0, 0.3));\n",
              "      fill: #FFFFFF;\n",
              "    }\n",
              "  </style>\n",
              "\n",
              "    <script>\n",
              "      const buttonEl =\n",
              "        document.querySelector('#df-db0b1977-cfff-48de-91cd-987df337dcb4 button.colab-df-convert');\n",
              "      buttonEl.style.display =\n",
              "        google.colab.kernel.accessAllowed ? 'block' : 'none';\n",
              "\n",
              "      async function convertToInteractive(key) {\n",
              "        const element = document.querySelector('#df-db0b1977-cfff-48de-91cd-987df337dcb4');\n",
              "        const dataTable =\n",
              "          await google.colab.kernel.invokeFunction('convertToInteractive',\n",
              "                                                    [key], {});\n",
              "        if (!dataTable) return;\n",
              "\n",
              "        const docLinkHtml = 'Like what you see? Visit the ' +\n",
              "          '<a target=\"_blank\" href=https://colab.research.google.com/notebooks/data_table.ipynb>data table notebook</a>'\n",
              "          + ' to learn more about interactive tables.';\n",
              "        element.innerHTML = '';\n",
              "        dataTable['output_type'] = 'display_data';\n",
              "        await google.colab.output.renderOutput(dataTable, element);\n",
              "        const docLink = document.createElement('div');\n",
              "        docLink.innerHTML = docLinkHtml;\n",
              "        element.appendChild(docLink);\n",
              "      }\n",
              "    </script>\n",
              "  </div>\n",
              "\n",
              "\n",
              "<div id=\"df-eb76246b-9958-40e6-bf02-0f4284048fce\">\n",
              "  <button class=\"colab-df-quickchart\" onclick=\"quickchart('df-eb76246b-9958-40e6-bf02-0f4284048fce')\"\n",
              "            title=\"Suggest charts\"\n",
              "            style=\"display:none;\">\n",
              "\n",
              "<svg xmlns=\"http://www.w3.org/2000/svg\" height=\"24px\"viewBox=\"0 0 24 24\"\n",
              "     width=\"24px\">\n",
              "    <g>\n",
              "        <path d=\"M19 3H5c-1.1 0-2 .9-2 2v14c0 1.1.9 2 2 2h14c1.1 0 2-.9 2-2V5c0-1.1-.9-2-2-2zM9 17H7v-7h2v7zm4 0h-2V7h2v10zm4 0h-2v-4h2v4z\"/>\n",
              "    </g>\n",
              "</svg>\n",
              "  </button>\n",
              "\n",
              "<style>\n",
              "  .colab-df-quickchart {\n",
              "      --bg-color: #E8F0FE;\n",
              "      --fill-color: #1967D2;\n",
              "      --hover-bg-color: #E2EBFA;\n",
              "      --hover-fill-color: #174EA6;\n",
              "      --disabled-fill-color: #AAA;\n",
              "      --disabled-bg-color: #DDD;\n",
              "  }\n",
              "\n",
              "  [theme=dark] .colab-df-quickchart {\n",
              "      --bg-color: #3B4455;\n",
              "      --fill-color: #D2E3FC;\n",
              "      --hover-bg-color: #434B5C;\n",
              "      --hover-fill-color: #FFFFFF;\n",
              "      --disabled-bg-color: #3B4455;\n",
              "      --disabled-fill-color: #666;\n",
              "  }\n",
              "\n",
              "  .colab-df-quickchart {\n",
              "    background-color: var(--bg-color);\n",
              "    border: none;\n",
              "    border-radius: 50%;\n",
              "    cursor: pointer;\n",
              "    display: none;\n",
              "    fill: var(--fill-color);\n",
              "    height: 32px;\n",
              "    padding: 0;\n",
              "    width: 32px;\n",
              "  }\n",
              "\n",
              "  .colab-df-quickchart:hover {\n",
              "    background-color: var(--hover-bg-color);\n",
              "    box-shadow: 0 1px 2px rgba(60, 64, 67, 0.3), 0 1px 3px 1px rgba(60, 64, 67, 0.15);\n",
              "    fill: var(--button-hover-fill-color);\n",
              "  }\n",
              "\n",
              "  .colab-df-quickchart-complete:disabled,\n",
              "  .colab-df-quickchart-complete:disabled:hover {\n",
              "    background-color: var(--disabled-bg-color);\n",
              "    fill: var(--disabled-fill-color);\n",
              "    box-shadow: none;\n",
              "  }\n",
              "\n",
              "  .colab-df-spinner {\n",
              "    border: 2px solid var(--fill-color);\n",
              "    border-color: transparent;\n",
              "    border-bottom-color: var(--fill-color);\n",
              "    animation:\n",
              "      spin 1s steps(1) infinite;\n",
              "  }\n",
              "\n",
              "  @keyframes spin {\n",
              "    0% {\n",
              "      border-color: transparent;\n",
              "      border-bottom-color: var(--fill-color);\n",
              "      border-left-color: var(--fill-color);\n",
              "    }\n",
              "    20% {\n",
              "      border-color: transparent;\n",
              "      border-left-color: var(--fill-color);\n",
              "      border-top-color: var(--fill-color);\n",
              "    }\n",
              "    30% {\n",
              "      border-color: transparent;\n",
              "      border-left-color: var(--fill-color);\n",
              "      border-top-color: var(--fill-color);\n",
              "      border-right-color: var(--fill-color);\n",
              "    }\n",
              "    40% {\n",
              "      border-color: transparent;\n",
              "      border-right-color: var(--fill-color);\n",
              "      border-top-color: var(--fill-color);\n",
              "    }\n",
              "    60% {\n",
              "      border-color: transparent;\n",
              "      border-right-color: var(--fill-color);\n",
              "    }\n",
              "    80% {\n",
              "      border-color: transparent;\n",
              "      border-right-color: var(--fill-color);\n",
              "      border-bottom-color: var(--fill-color);\n",
              "    }\n",
              "    90% {\n",
              "      border-color: transparent;\n",
              "      border-bottom-color: var(--fill-color);\n",
              "    }\n",
              "  }\n",
              "</style>\n",
              "\n",
              "  <script>\n",
              "    async function quickchart(key) {\n",
              "      const quickchartButtonEl =\n",
              "        document.querySelector('#' + key + ' button');\n",
              "      quickchartButtonEl.disabled = true;  // To prevent multiple clicks.\n",
              "      quickchartButtonEl.classList.add('colab-df-spinner');\n",
              "      try {\n",
              "        const charts = await google.colab.kernel.invokeFunction(\n",
              "            'suggestCharts', [key], {});\n",
              "      } catch (error) {\n",
              "        console.error('Error during call to suggestCharts:', error);\n",
              "      }\n",
              "      quickchartButtonEl.classList.remove('colab-df-spinner');\n",
              "      quickchartButtonEl.classList.add('colab-df-quickchart-complete');\n",
              "    }\n",
              "    (() => {\n",
              "      let quickchartButtonEl =\n",
              "        document.querySelector('#df-eb76246b-9958-40e6-bf02-0f4284048fce button');\n",
              "      quickchartButtonEl.style.display =\n",
              "        google.colab.kernel.accessAllowed ? 'block' : 'none';\n",
              "    })();\n",
              "  </script>\n",
              "</div>\n",
              "    </div>\n",
              "  </div>\n"
            ]
          },
          "metadata": {},
          "execution_count": 1
        }
      ]
    },
    {
      "cell_type": "markdown",
      "source": [
        "1번 인기동영상 제작횟수가 많은 채널 상위 10개명을 출력하라(날짜기준, 중복포함)"
      ],
      "metadata": {
        "id": "BVXzC-kSGlKk"
      }
    },
    {
      "cell_type": "code",
      "source": [
        "print(list(df.loc[df.channelId.isin(df.channelId.value_counts().head(10).index)].channelTitle.unique()))"
      ],
      "metadata": {
        "colab": {
          "base_uri": "https://localhost:8080/"
        },
        "id": "O3DQejItG-Ir",
        "outputId": "6873dfd1-9d81-45ae-e8c9-3845e3bba26c"
      },
      "execution_count": null,
      "outputs": [
        {
          "output_type": "stream",
          "name": "stdout",
          "text": [
            "['장삐쭈', '총몇명', '파뿌리', '짤툰', '런닝맨 - 스브스 공식 채널', '엠뚜루마뚜루 : MBC 공식 종합 채널', 'SPOTV', '채널 십오야', '이과장', 'BANGTANTV']\n"
          ]
        }
      ]
    },
    {
      "cell_type": "markdown",
      "source": [
        "2번 논란으로 인기동영상이 된 케이스를 확인하고 싶다. dislikes수가 like수보다 높은 동영상을 제작한 채널을 모두 출력하라"
      ],
      "metadata": {
        "id": "Jp7cf43uG_sK"
      }
    },
    {
      "cell_type": "code",
      "source": [
        "result = list((df.loc[df.likes<df.dislikes]).channelTitle.unique())\n",
        "print(result)"
      ],
      "metadata": {
        "colab": {
          "base_uri": "https://localhost:8080/"
        },
        "id": "gDAhfp-kHFed",
        "outputId": "72fae186-2e29-46ea-ad44-7a22df9a9f5d"
      },
      "execution_count": null,
      "outputs": [
        {
          "output_type": "stream",
          "name": "stdout",
          "text": [
            "['핫도그TV', 'ASMR 애정TV', '하얀트리HayanTree', '양팡 YangPang', '철구형 (CHULTUBE)', '왜냐맨하우스', '(MUTUBE)와꾸대장봉준', '오메킴TV', '육지담', 'MapleStory_KR', 'ROAD FIGHTING CHAMPIONSHIP', '사나이 김기훈', '나혼자산다 STUDIO', 'Gen.G esports']\n"
          ]
        }
      ]
    },
    {
      "cell_type": "markdown",
      "source": [
        "3번 채널명을 바꾼 케이스가 있는지 확인하고 싶다. channelId의 경우 고유값이므로 이를 통해 채널명을 한번이라도 바꾼 채널의 갯수를 구하여라"
      ],
      "metadata": {
        "id": "boTSGD2vHFv-"
      }
    },
    {
      "cell_type": "code",
      "source": [
        "change = df[['channelTitle', 'channelId']].drop_duplicates().channelId.value_counts()\n",
        "result = len(change[change>1])\n",
        "print(result)"
      ],
      "metadata": {
        "colab": {
          "base_uri": "https://localhost:8080/"
        },
        "id": "EAKj_FNOHJGZ",
        "outputId": "10eaefa7-972d-477e-f1ca-a1055d170c15"
      },
      "execution_count": null,
      "outputs": [
        {
          "output_type": "stream",
          "name": "stdout",
          "text": [
            "71\n"
          ]
        }
      ]
    },
    {
      "cell_type": "markdown",
      "source": [
        "4번 일요일에 인기있었던 영상들중 가장많은 영상 종류(categoryId)는 무엇인가?"
      ],
      "metadata": {
        "id": "urPKEDIrT81s"
      }
    },
    {
      "cell_type": "code",
      "source": [
        "df['trending_date2'] = pd.to_datetime(df['trending_date2'])\n",
        "result = df.loc[df['trending_date2'].dt.day_name()=='Sunday'].categoryId.value_counts().index[0]\n",
        "print(result)"
      ],
      "metadata": {
        "colab": {
          "base_uri": "https://localhost:8080/"
        },
        "id": "Z5QNy6F3T_X8",
        "outputId": "9fe86738-9365-4d3b-b411-b2371a442fa9"
      },
      "execution_count": null,
      "outputs": [
        {
          "output_type": "stream",
          "name": "stdout",
          "text": [
            "24\n"
          ]
        }
      ]
    },
    {
      "cell_type": "markdown",
      "source": [
        "5번 각 요일별 인기 영상들의 categoryId는 각각 몇개 씩인지 하나의 데이터 프레임으로 표현하라"
      ],
      "metadata": {
        "id": "AEfuZ22cMAx0"
      }
    },
    {
      "cell_type": "code",
      "source": [
        "print(df['trending_date2'].dtype)\n",
        "df['trending_date2'] = pd.to_datetime(df['trending_date2'])\n",
        "group = df.groupby([df['trending_date2'].dt.day_name(),'categoryId'],as_index=False).size()\n",
        "answer= group.pivot(index='categoryId',columns='trending_date2')\n",
        "display(answer)"
      ],
      "metadata": {
        "colab": {
          "base_uri": "https://localhost:8080/",
          "height": 620
        },
        "id": "UKeyrahLMEcG",
        "outputId": "ec18280a-b848-48b5-9206-99c31e6803f0"
      },
      "execution_count": null,
      "outputs": [
        {
          "output_type": "stream",
          "name": "stdout",
          "text": [
            "object\n"
          ]
        },
        {
          "output_type": "display_data",
          "data": {
            "text/plain": [
              "                 size                                                  \n",
              "trending_date2 Friday Monday Saturday Sunday Thursday Tuesday Wednesday\n",
              "categoryId                                                             \n",
              "1                 243    263      255    274      246     257       234\n",
              "2                 120    105      119     99      128     119       129\n",
              "10                833    837      776    830      890     894       917\n",
              "15                187    215      198    217      207     208       207\n",
              "17                633    668      592    636      682     708       706\n",
              "19                 90     92       87     91       92      89        85\n",
              "20                283    298      296    289      282     285       291\n",
              "22               1288   1373     1289   1337     1341    1375      1333\n",
              "23                568    594      570    556      560     569       566\n",
              "24               2976   3148     3066   3096     2954    3084      3090\n",
              "25                444    453      422    437      470     452       468\n",
              "26                369    378      364    363      375     394       385\n",
              "27                183    205      183    199      194     194       212\n",
              "28                171    160      173    167      166     161       165\n",
              "29                 12     10       10      9       13      11        12"
            ],
            "text/html": [
              "\n",
              "  <div id=\"df-33bcadc8-9a01-4c5b-875f-4521f5a8525e\" class=\"colab-df-container\">\n",
              "    <div>\n",
              "<style scoped>\n",
              "    .dataframe tbody tr th:only-of-type {\n",
              "        vertical-align: middle;\n",
              "    }\n",
              "\n",
              "    .dataframe tbody tr th {\n",
              "        vertical-align: top;\n",
              "    }\n",
              "\n",
              "    .dataframe thead tr th {\n",
              "        text-align: left;\n",
              "    }\n",
              "\n",
              "    .dataframe thead tr:last-of-type th {\n",
              "        text-align: right;\n",
              "    }\n",
              "</style>\n",
              "<table border=\"1\" class=\"dataframe\">\n",
              "  <thead>\n",
              "    <tr>\n",
              "      <th></th>\n",
              "      <th colspan=\"7\" halign=\"left\">size</th>\n",
              "    </tr>\n",
              "    <tr>\n",
              "      <th>trending_date2</th>\n",
              "      <th>Friday</th>\n",
              "      <th>Monday</th>\n",
              "      <th>Saturday</th>\n",
              "      <th>Sunday</th>\n",
              "      <th>Thursday</th>\n",
              "      <th>Tuesday</th>\n",
              "      <th>Wednesday</th>\n",
              "    </tr>\n",
              "    <tr>\n",
              "      <th>categoryId</th>\n",
              "      <th></th>\n",
              "      <th></th>\n",
              "      <th></th>\n",
              "      <th></th>\n",
              "      <th></th>\n",
              "      <th></th>\n",
              "      <th></th>\n",
              "    </tr>\n",
              "  </thead>\n",
              "  <tbody>\n",
              "    <tr>\n",
              "      <th>1</th>\n",
              "      <td>243</td>\n",
              "      <td>263</td>\n",
              "      <td>255</td>\n",
              "      <td>274</td>\n",
              "      <td>246</td>\n",
              "      <td>257</td>\n",
              "      <td>234</td>\n",
              "    </tr>\n",
              "    <tr>\n",
              "      <th>2</th>\n",
              "      <td>120</td>\n",
              "      <td>105</td>\n",
              "      <td>119</td>\n",
              "      <td>99</td>\n",
              "      <td>128</td>\n",
              "      <td>119</td>\n",
              "      <td>129</td>\n",
              "    </tr>\n",
              "    <tr>\n",
              "      <th>10</th>\n",
              "      <td>833</td>\n",
              "      <td>837</td>\n",
              "      <td>776</td>\n",
              "      <td>830</td>\n",
              "      <td>890</td>\n",
              "      <td>894</td>\n",
              "      <td>917</td>\n",
              "    </tr>\n",
              "    <tr>\n",
              "      <th>15</th>\n",
              "      <td>187</td>\n",
              "      <td>215</td>\n",
              "      <td>198</td>\n",
              "      <td>217</td>\n",
              "      <td>207</td>\n",
              "      <td>208</td>\n",
              "      <td>207</td>\n",
              "    </tr>\n",
              "    <tr>\n",
              "      <th>17</th>\n",
              "      <td>633</td>\n",
              "      <td>668</td>\n",
              "      <td>592</td>\n",
              "      <td>636</td>\n",
              "      <td>682</td>\n",
              "      <td>708</td>\n",
              "      <td>706</td>\n",
              "    </tr>\n",
              "    <tr>\n",
              "      <th>19</th>\n",
              "      <td>90</td>\n",
              "      <td>92</td>\n",
              "      <td>87</td>\n",
              "      <td>91</td>\n",
              "      <td>92</td>\n",
              "      <td>89</td>\n",
              "      <td>85</td>\n",
              "    </tr>\n",
              "    <tr>\n",
              "      <th>20</th>\n",
              "      <td>283</td>\n",
              "      <td>298</td>\n",
              "      <td>296</td>\n",
              "      <td>289</td>\n",
              "      <td>282</td>\n",
              "      <td>285</td>\n",
              "      <td>291</td>\n",
              "    </tr>\n",
              "    <tr>\n",
              "      <th>22</th>\n",
              "      <td>1288</td>\n",
              "      <td>1373</td>\n",
              "      <td>1289</td>\n",
              "      <td>1337</td>\n",
              "      <td>1341</td>\n",
              "      <td>1375</td>\n",
              "      <td>1333</td>\n",
              "    </tr>\n",
              "    <tr>\n",
              "      <th>23</th>\n",
              "      <td>568</td>\n",
              "      <td>594</td>\n",
              "      <td>570</td>\n",
              "      <td>556</td>\n",
              "      <td>560</td>\n",
              "      <td>569</td>\n",
              "      <td>566</td>\n",
              "    </tr>\n",
              "    <tr>\n",
              "      <th>24</th>\n",
              "      <td>2976</td>\n",
              "      <td>3148</td>\n",
              "      <td>3066</td>\n",
              "      <td>3096</td>\n",
              "      <td>2954</td>\n",
              "      <td>3084</td>\n",
              "      <td>3090</td>\n",
              "    </tr>\n",
              "    <tr>\n",
              "      <th>25</th>\n",
              "      <td>444</td>\n",
              "      <td>453</td>\n",
              "      <td>422</td>\n",
              "      <td>437</td>\n",
              "      <td>470</td>\n",
              "      <td>452</td>\n",
              "      <td>468</td>\n",
              "    </tr>\n",
              "    <tr>\n",
              "      <th>26</th>\n",
              "      <td>369</td>\n",
              "      <td>378</td>\n",
              "      <td>364</td>\n",
              "      <td>363</td>\n",
              "      <td>375</td>\n",
              "      <td>394</td>\n",
              "      <td>385</td>\n",
              "    </tr>\n",
              "    <tr>\n",
              "      <th>27</th>\n",
              "      <td>183</td>\n",
              "      <td>205</td>\n",
              "      <td>183</td>\n",
              "      <td>199</td>\n",
              "      <td>194</td>\n",
              "      <td>194</td>\n",
              "      <td>212</td>\n",
              "    </tr>\n",
              "    <tr>\n",
              "      <th>28</th>\n",
              "      <td>171</td>\n",
              "      <td>160</td>\n",
              "      <td>173</td>\n",
              "      <td>167</td>\n",
              "      <td>166</td>\n",
              "      <td>161</td>\n",
              "      <td>165</td>\n",
              "    </tr>\n",
              "    <tr>\n",
              "      <th>29</th>\n",
              "      <td>12</td>\n",
              "      <td>10</td>\n",
              "      <td>10</td>\n",
              "      <td>9</td>\n",
              "      <td>13</td>\n",
              "      <td>11</td>\n",
              "      <td>12</td>\n",
              "    </tr>\n",
              "  </tbody>\n",
              "</table>\n",
              "</div>\n",
              "    <div class=\"colab-df-buttons\">\n",
              "\n",
              "  <div class=\"colab-df-container\">\n",
              "    <button class=\"colab-df-convert\" onclick=\"convertToInteractive('df-33bcadc8-9a01-4c5b-875f-4521f5a8525e')\"\n",
              "            title=\"Convert this dataframe to an interactive table.\"\n",
              "            style=\"display:none;\">\n",
              "\n",
              "  <svg xmlns=\"http://www.w3.org/2000/svg\" height=\"24px\" viewBox=\"0 -960 960 960\">\n",
              "    <path d=\"M120-120v-720h720v720H120Zm60-500h600v-160H180v160Zm220 220h160v-160H400v160Zm0 220h160v-160H400v160ZM180-400h160v-160H180v160Zm440 0h160v-160H620v160ZM180-180h160v-160H180v160Zm440 0h160v-160H620v160Z\"/>\n",
              "  </svg>\n",
              "    </button>\n",
              "\n",
              "  <style>\n",
              "    .colab-df-container {\n",
              "      display:flex;\n",
              "      gap: 12px;\n",
              "    }\n",
              "\n",
              "    .colab-df-convert {\n",
              "      background-color: #E8F0FE;\n",
              "      border: none;\n",
              "      border-radius: 50%;\n",
              "      cursor: pointer;\n",
              "      display: none;\n",
              "      fill: #1967D2;\n",
              "      height: 32px;\n",
              "      padding: 0 0 0 0;\n",
              "      width: 32px;\n",
              "    }\n",
              "\n",
              "    .colab-df-convert:hover {\n",
              "      background-color: #E2EBFA;\n",
              "      box-shadow: 0px 1px 2px rgba(60, 64, 67, 0.3), 0px 1px 3px 1px rgba(60, 64, 67, 0.15);\n",
              "      fill: #174EA6;\n",
              "    }\n",
              "\n",
              "    .colab-df-buttons div {\n",
              "      margin-bottom: 4px;\n",
              "    }\n",
              "\n",
              "    [theme=dark] .colab-df-convert {\n",
              "      background-color: #3B4455;\n",
              "      fill: #D2E3FC;\n",
              "    }\n",
              "\n",
              "    [theme=dark] .colab-df-convert:hover {\n",
              "      background-color: #434B5C;\n",
              "      box-shadow: 0px 1px 3px 1px rgba(0, 0, 0, 0.15);\n",
              "      filter: drop-shadow(0px 1px 2px rgba(0, 0, 0, 0.3));\n",
              "      fill: #FFFFFF;\n",
              "    }\n",
              "  </style>\n",
              "\n",
              "    <script>\n",
              "      const buttonEl =\n",
              "        document.querySelector('#df-33bcadc8-9a01-4c5b-875f-4521f5a8525e button.colab-df-convert');\n",
              "      buttonEl.style.display =\n",
              "        google.colab.kernel.accessAllowed ? 'block' : 'none';\n",
              "\n",
              "      async function convertToInteractive(key) {\n",
              "        const element = document.querySelector('#df-33bcadc8-9a01-4c5b-875f-4521f5a8525e');\n",
              "        const dataTable =\n",
              "          await google.colab.kernel.invokeFunction('convertToInteractive',\n",
              "                                                    [key], {});\n",
              "        if (!dataTable) return;\n",
              "\n",
              "        const docLinkHtml = 'Like what you see? Visit the ' +\n",
              "          '<a target=\"_blank\" href=https://colab.research.google.com/notebooks/data_table.ipynb>data table notebook</a>'\n",
              "          + ' to learn more about interactive tables.';\n",
              "        element.innerHTML = '';\n",
              "        dataTable['output_type'] = 'display_data';\n",
              "        await google.colab.output.renderOutput(dataTable, element);\n",
              "        const docLink = document.createElement('div');\n",
              "        docLink.innerHTML = docLinkHtml;\n",
              "        element.appendChild(docLink);\n",
              "      }\n",
              "    </script>\n",
              "  </div>\n",
              "\n",
              "\n",
              "<div id=\"df-38c883f7-f11c-4771-863c-7eb56ec2a85c\">\n",
              "  <button class=\"colab-df-quickchart\" onclick=\"quickchart('df-38c883f7-f11c-4771-863c-7eb56ec2a85c')\"\n",
              "            title=\"Suggest charts\"\n",
              "            style=\"display:none;\">\n",
              "\n",
              "<svg xmlns=\"http://www.w3.org/2000/svg\" height=\"24px\"viewBox=\"0 0 24 24\"\n",
              "     width=\"24px\">\n",
              "    <g>\n",
              "        <path d=\"M19 3H5c-1.1 0-2 .9-2 2v14c0 1.1.9 2 2 2h14c1.1 0 2-.9 2-2V5c0-1.1-.9-2-2-2zM9 17H7v-7h2v7zm4 0h-2V7h2v10zm4 0h-2v-4h2v4z\"/>\n",
              "    </g>\n",
              "</svg>\n",
              "  </button>\n",
              "\n",
              "<style>\n",
              "  .colab-df-quickchart {\n",
              "      --bg-color: #E8F0FE;\n",
              "      --fill-color: #1967D2;\n",
              "      --hover-bg-color: #E2EBFA;\n",
              "      --hover-fill-color: #174EA6;\n",
              "      --disabled-fill-color: #AAA;\n",
              "      --disabled-bg-color: #DDD;\n",
              "  }\n",
              "\n",
              "  [theme=dark] .colab-df-quickchart {\n",
              "      --bg-color: #3B4455;\n",
              "      --fill-color: #D2E3FC;\n",
              "      --hover-bg-color: #434B5C;\n",
              "      --hover-fill-color: #FFFFFF;\n",
              "      --disabled-bg-color: #3B4455;\n",
              "      --disabled-fill-color: #666;\n",
              "  }\n",
              "\n",
              "  .colab-df-quickchart {\n",
              "    background-color: var(--bg-color);\n",
              "    border: none;\n",
              "    border-radius: 50%;\n",
              "    cursor: pointer;\n",
              "    display: none;\n",
              "    fill: var(--fill-color);\n",
              "    height: 32px;\n",
              "    padding: 0;\n",
              "    width: 32px;\n",
              "  }\n",
              "\n",
              "  .colab-df-quickchart:hover {\n",
              "    background-color: var(--hover-bg-color);\n",
              "    box-shadow: 0 1px 2px rgba(60, 64, 67, 0.3), 0 1px 3px 1px rgba(60, 64, 67, 0.15);\n",
              "    fill: var(--button-hover-fill-color);\n",
              "  }\n",
              "\n",
              "  .colab-df-quickchart-complete:disabled,\n",
              "  .colab-df-quickchart-complete:disabled:hover {\n",
              "    background-color: var(--disabled-bg-color);\n",
              "    fill: var(--disabled-fill-color);\n",
              "    box-shadow: none;\n",
              "  }\n",
              "\n",
              "  .colab-df-spinner {\n",
              "    border: 2px solid var(--fill-color);\n",
              "    border-color: transparent;\n",
              "    border-bottom-color: var(--fill-color);\n",
              "    animation:\n",
              "      spin 1s steps(1) infinite;\n",
              "  }\n",
              "\n",
              "  @keyframes spin {\n",
              "    0% {\n",
              "      border-color: transparent;\n",
              "      border-bottom-color: var(--fill-color);\n",
              "      border-left-color: var(--fill-color);\n",
              "    }\n",
              "    20% {\n",
              "      border-color: transparent;\n",
              "      border-left-color: var(--fill-color);\n",
              "      border-top-color: var(--fill-color);\n",
              "    }\n",
              "    30% {\n",
              "      border-color: transparent;\n",
              "      border-left-color: var(--fill-color);\n",
              "      border-top-color: var(--fill-color);\n",
              "      border-right-color: var(--fill-color);\n",
              "    }\n",
              "    40% {\n",
              "      border-color: transparent;\n",
              "      border-right-color: var(--fill-color);\n",
              "      border-top-color: var(--fill-color);\n",
              "    }\n",
              "    60% {\n",
              "      border-color: transparent;\n",
              "      border-right-color: var(--fill-color);\n",
              "    }\n",
              "    80% {\n",
              "      border-color: transparent;\n",
              "      border-right-color: var(--fill-color);\n",
              "      border-bottom-color: var(--fill-color);\n",
              "    }\n",
              "    90% {\n",
              "      border-color: transparent;\n",
              "      border-bottom-color: var(--fill-color);\n",
              "    }\n",
              "  }\n",
              "</style>\n",
              "\n",
              "  <script>\n",
              "    async function quickchart(key) {\n",
              "      const quickchartButtonEl =\n",
              "        document.querySelector('#' + key + ' button');\n",
              "      quickchartButtonEl.disabled = true;  // To prevent multiple clicks.\n",
              "      quickchartButtonEl.classList.add('colab-df-spinner');\n",
              "      try {\n",
              "        const charts = await google.colab.kernel.invokeFunction(\n",
              "            'suggestCharts', [key], {});\n",
              "      } catch (error) {\n",
              "        console.error('Error during call to suggestCharts:', error);\n",
              "      }\n",
              "      quickchartButtonEl.classList.remove('colab-df-spinner');\n",
              "      quickchartButtonEl.classList.add('colab-df-quickchart-complete');\n",
              "    }\n",
              "    (() => {\n",
              "      let quickchartButtonEl =\n",
              "        document.querySelector('#df-38c883f7-f11c-4771-863c-7eb56ec2a85c button');\n",
              "      quickchartButtonEl.style.display =\n",
              "        google.colab.kernel.accessAllowed ? 'block' : 'none';\n",
              "    })();\n",
              "  </script>\n",
              "</div>\n",
              "    </div>\n",
              "  </div>\n"
            ]
          },
          "metadata": {}
        }
      ]
    },
    {
      "cell_type": "markdown",
      "source": [
        "6번 댓글의 수로 (comment_count) 영상 반응에 대한 판단을 할 수 있다. viewcount대비 댓글수가 가장 높은 영상을 확인하라 (view_count값이 0인 경우는 제외한다)"
      ],
      "metadata": {
        "id": "VW2GcUn4UP-2"
      }
    },
    {
      "cell_type": "code",
      "source": [
        "target2= df.loc[df.view_count!=0]\n",
        "t = target2.copy()\n",
        "t['ratio'] = (target2['comment_count']/target2['view_count']).dropna()\n",
        "result = t.sort_values(by='ratio', ascending=False).iloc[0].title\n",
        "print(result)"
      ],
      "metadata": {
        "colab": {
          "base_uri": "https://localhost:8080/"
        },
        "id": "P3omiaUkUS6t",
        "outputId": "d00c60b3-1664-4ebb-c078-8c8b1e56b3d1"
      },
      "execution_count": null,
      "outputs": [
        {
          "output_type": "stream",
          "name": "stdout",
          "text": [
            "60분 동안 댓글이 달리지 않으면, 영상이 삭제됩니다. (챌린지)\n"
          ]
        }
      ]
    },
    {
      "cell_type": "markdown",
      "source": [
        "7번 댓글의 수로 (comment_count) 영상 반응에 대한 판단을 할 수 있다.viewcount대비 댓글수가 가장 낮은 영상을 확인하라 (view_counts, ratio값이 0인경우는 제외한다.)"
      ],
      "metadata": {
        "id": "gKovpWM3VIM5"
      }
    },
    {
      "cell_type": "code",
      "source": [
        "ratio = (df['comment_count']/df['view_count']).dropna().sort_values()\n",
        "ratio[ratio!=0].index[0]\n",
        "\n",
        "result = df.iloc[ratio[ratio!=0].index[0]].title\n",
        "print(result)"
      ],
      "metadata": {
        "colab": {
          "base_uri": "https://localhost:8080/"
        },
        "id": "rmB-KcokVKhx",
        "outputId": "ebef46a4-ca77-47f8-e156-3d166309e5f5"
      },
      "execution_count": null,
      "outputs": [
        {
          "output_type": "stream",
          "name": "stdout",
          "text": [
            "Join the BTS #PermissiontoDance Challenge only on YouTube #Shorts\n"
          ]
        }
      ]
    },
    {
      "cell_type": "markdown",
      "source": [
        "8번 like 대비 dislike의 수가 가장 적은 영상은 무엇인가? (like, dislike 값이 0인경우는 제외한다)"
      ],
      "metadata": {
        "id": "Opv_Km_MVbjA"
      }
    },
    {
      "cell_type": "code",
      "source": [
        "target = df.loc[(df.likes!=0)&(df.dislikes!=0)]\n",
        "num = (target['dislikes']/target['likes']).sort_values().index[0]\n",
        "\n",
        "result = df.iloc[num].title\n",
        "print(result)"
      ],
      "metadata": {
        "colab": {
          "base_uri": "https://localhost:8080/"
        },
        "id": "7-n97gDMVdXf",
        "outputId": "a1350298-def6-42b4-92fd-9e25180cfaa8"
      },
      "execution_count": null,
      "outputs": [
        {
          "output_type": "stream",
          "name": "stdout",
          "text": [
            "[줌터뷰] *최초공개* 사부작즈🐰🐶의 비공식 이름은 아이라인즈? 꿀조합 티키타카 가득한 NCT 127 도영&정우의 줌터뷰\n"
          ]
        }
      ]
    },
    {
      "cell_type": "markdown",
      "source": [
        "9번 가장많은 트렌드 영상을 제작한 채널의 이름은 무엇인가? (날짜기준, 중복포함)"
      ],
      "metadata": {
        "id": "M1bp5mmPVzJA"
      }
    },
    {
      "cell_type": "code",
      "source": [
        "result = df.loc[df.channelId == df.channelId.value_counts().index[0]].channelTitle.unique()[0]\n",
        "print(result)"
      ],
      "metadata": {
        "colab": {
          "base_uri": "https://localhost:8080/"
        },
        "id": "unC1-5-oV1B7",
        "outputId": "d156d630-db84-4d5e-f53d-78671e76b70c"
      },
      "execution_count": null,
      "outputs": [
        {
          "output_type": "stream",
          "name": "stdout",
          "text": [
            "짤툰\n"
          ]
        }
      ]
    },
    {
      "cell_type": "markdown",
      "source": [
        "10번 20회(20일)이상 인기동영상 리스트에 포함된 동영상의 숫자는?"
      ],
      "metadata": {
        "id": "_iJqlyfrWCQ0"
      }
    },
    {
      "cell_type": "code",
      "source": [
        "result = (df[['title','channelId']].value_counts()>=20).sum()\n",
        "print(result)"
      ],
      "metadata": {
        "colab": {
          "base_uri": "https://localhost:8080/"
        },
        "id": "dDoznDyvWIkj",
        "outputId": "fdcac699-4db9-41ba-948f-cad6f3cfef04"
      },
      "execution_count": null,
      "outputs": [
        {
          "output_type": "stream",
          "name": "stdout",
          "text": [
            "40\n"
          ]
        }
      ]
    },
    {
      "cell_type": "markdown",
      "source": [
        "#2유형"
      ],
      "metadata": {
        "id": "4Jg1_ihDoaNA"
      }
    },
    {
      "cell_type": "code",
      "execution_count": null,
      "metadata": {
        "id": "dCZTtcAST_z3",
        "colab": {
          "base_uri": "https://localhost:8080/"
        },
        "outputId": "a7191696-f16c-48c7-ebd7-e0589e5515b3"
      },
      "outputs": [
        {
          "output_type": "stream",
          "name": "stdout",
          "text": [
            "<class 'pandas.core.frame.DataFrame'>\n",
            "RangeIndex: 2178 entries, 0 to 2177\n",
            "Data columns (total 9 columns):\n",
            " #   Column           Non-Null Count  Dtype  \n",
            "---  ------           --------------  -----  \n",
            " 0   ID               2178 non-null   int64  \n",
            " 1   Gender           2178 non-null   object \n",
            " 2   Ever_Married     2178 non-null   object \n",
            " 3   Age              2178 non-null   int64  \n",
            " 4   Graduated        2178 non-null   object \n",
            " 5   Profession       2178 non-null   object \n",
            " 6   Work_Experience  2178 non-null   float64\n",
            " 7   Spending_Score   2178 non-null   object \n",
            " 8   Family_Size      2178 non-null   float64\n",
            "dtypes: float64(2), int64(2), object(5)\n",
            "memory usage: 153.3+ KB\n",
            "None\n",
            "<class 'pandas.core.frame.DataFrame'>\n",
            "RangeIndex: 6718 entries, 0 to 6717\n",
            "Data columns (total 9 columns):\n",
            " #   Column           Non-Null Count  Dtype  \n",
            "---  ------           --------------  -----  \n",
            " 0   ID               6718 non-null   int64  \n",
            " 1   Gender           6718 non-null   object \n",
            " 2   Ever_Married     6718 non-null   object \n",
            " 3   Age              6718 non-null   int64  \n",
            " 4   Graduated        6718 non-null   object \n",
            " 5   Profession       6718 non-null   object \n",
            " 6   Work_Experience  6718 non-null   float64\n",
            " 7   Spending_Score   6718 non-null   object \n",
            " 8   Family_Size      6718 non-null   float64\n",
            "dtypes: float64(2), int64(2), object(5)\n",
            "memory usage: 472.5+ KB\n",
            "None\n",
            "<class 'pandas.core.frame.DataFrame'>\n",
            "RangeIndex: 6718 entries, 0 to 6717\n",
            "Data columns (total 2 columns):\n",
            " #   Column        Non-Null Count  Dtype \n",
            "---  ------        --------------  ----- \n",
            " 0   ID            6718 non-null   int64 \n",
            " 1   Segmentation  6718 non-null   object\n",
            "dtypes: int64(1), object(1)\n",
            "memory usage: 105.1+ KB\n",
            "None\n",
            "ID                 0\n",
            "Gender             0\n",
            "Ever_Married       0\n",
            "Age                0\n",
            "Graduated          0\n",
            "Profession         0\n",
            "Work_Experience    0\n",
            "Spending_Score     0\n",
            "Family_Size        0\n",
            "dtype: int64\n",
            "ID                 0\n",
            "Gender             0\n",
            "Ever_Married       0\n",
            "Age                0\n",
            "Graduated          0\n",
            "Profession         0\n",
            "Work_Experience    0\n",
            "Spending_Score     0\n",
            "Family_Size        0\n",
            "dtype: int64\n",
            "ID              0\n",
            "Segmentation    0\n",
            "dtype: int64\n",
            "Random Forest: 0.4772759434540731\n",
            "XGBoost: 0.49301632132022544\n",
            "Random Forest\n",
            " train:0.9435, valid0.4773\n",
            "XGBoost\n",
            " train:0.7899, valid0.493\n",
            "XGBoost2: train:0.5769, valid0.5159\n",
            "XGBoost3: train:0.577, valid0.5078\n",
            "XGBoost4: train:0.6545, valid0.5115\n",
            "XGBoost5: train:0.7161, valid0.5068\n",
            "       ID Segmentation\n",
            "0  458989            A\n",
            "1  458994            D\n",
            "2  459000            B\n",
            "3  459003            C\n",
            "4  459005            B\n"
          ]
        }
      ],
      "source": [
        "import pandas as pd\n",
        "\n",
        "X_test= pd.read_csv('/content/yemoonsaBigdata/datasets/Part3/404_x_test.csv')\n",
        "X_train = pd.read_csv('/content/yemoonsaBigdata/datasets/Part3/404_x_train.csv')\n",
        "y_train = pd.read_csv('/content/yemoonsaBigdata/datasets/Part3/404_y_train.csv')\n",
        "\n",
        "#데이터 살펴보기\n",
        "print(X_test.info())\n",
        "print(X_train.info())\n",
        "print(y_train.info())\n",
        "\n",
        "print(X_test.isnull().sum())\n",
        "print(X_train.isnull().sum())\n",
        "print(y_train.isnull().sum())\n",
        "\n",
        "#데이터 분류하기\n",
        "COL_DEL = ['ID']\n",
        "COL_NUM = ['Age','Work_Experience','Family_Size']\n",
        "COL_CAT = ['Gender','Ever_Married','Graduated','Profession','Spending_Score']\n",
        "COL_Y = ['Segmentation']\n",
        "\n",
        "#데이터 분할하기\n",
        "from sklearn.model_selection import train_test_split\n",
        "X_tr , X_val, y_tr, y_val = train_test_split(X_train[COL_NUM+COL_CAT],\n",
        "                                             y_train[COL_Y].values.ravel(),\n",
        "                                             test_size=0.3,\n",
        "                                             stratify=y_train[COL_Y].values.ravel())\n",
        "\n",
        "#데이터 스케일링\n",
        "from sklearn.preprocessing import StandardScaler\n",
        "\n",
        "scaler = StandardScaler()\n",
        "scaler.fit(X_tr[COL_NUM])\n",
        "\n",
        "X_tr[COL_NUM] = scaler.transform(X_tr[COL_NUM])\n",
        "X_val[COL_NUM] = scaler.transform(X_val[COL_NUM])\n",
        "X_test[COL_NUM] = scaler.transform(X_test[COL_NUM])\n",
        "\n",
        "#데이터 라벨링\n",
        "label_mapping = {'A':0, 'B':1, 'C':2, 'D':3}\n",
        "\n",
        "y_tr = [label_mapping[label] for label in y_tr]\n",
        "y_val = [label_mapping[label] for label in y_val]\n",
        "\n",
        "from sklearn.preprocessing import LabelEncoder\n",
        "\n",
        "X = pd.concat([X_train[COL_CAT], X_test[COL_CAT]])\n",
        "\n",
        "for col in COL_CAT:\n",
        "    le = LabelEncoder()\n",
        "    le.fit(X[col])\n",
        "    X_tr[col] = le.transform(X_tr[col])\n",
        "    X_val[col] = le.transform(X_val[col])\n",
        "    X_test[col] = le.transform(X_test[col])\n",
        "\n",
        "#모델 학습시키기\n",
        "from sklearn.ensemble import RandomForestClassifier\n",
        "modelRF = RandomForestClassifier(random_state=123)\n",
        "modelRF.fit(X_tr, y_tr)\n",
        "\n",
        "from xgboost import XGBClassifier\n",
        "modelXGB = XGBClassifier(random_state=123)\n",
        "modelXGB.fit(X_tr, y_tr)\n",
        "\n",
        "#예측값 생성\n",
        "y_val_predRF = modelRF.predict(X_val)\n",
        "y_val_predXGB = modelXGB.predict(X_val)\n",
        "\n",
        "#평가 지표 구하기\n",
        "from sklearn.metrics import f1_score\n",
        "\n",
        "scoreRF = f1_score(y_val, y_val_predRF, average='macro')\n",
        "scoreXGB = f1_score(y_val, y_val_predXGB, average='macro')\n",
        "\n",
        "print(\"Random Forest:\", scoreRF)\n",
        "print(\"XGBoost:\", scoreXGB)\n",
        "\n",
        "#점수가 더 높은 XGBoost 선정\n",
        "def get_scores(model, X_tr, X_val, y_tr, y_val):\n",
        "    y_tr_pred = model.predict(X_tr)\n",
        "    y_val_pred = model.predict(X_val)\n",
        "    tr_score = f1_score(y_tr, y_tr_pred, average='macro')\n",
        "    val_score = f1_score(y_val, y_val_pred, average='macro')\n",
        "    return f\"train:{round(tr_score,4)}, valid{round(val_score,4)}\"\n",
        "\n",
        "print(\"Random Forest\\n\",get_scores(modelRF, X_tr, X_val, y_tr, y_val))\n",
        "print(\"XGBoost\\n\",get_scores(modelXGB, X_tr, X_val, y_tr, y_val))\n",
        "\n",
        "modelXGB2 = XGBClassifier(n_estimators=50, max_depth=3, min_child_weight=1, random_state=123)\n",
        "modelXGB2.fit(X_tr, y_tr)\n",
        "\n",
        "modelXGB3 = XGBClassifier(n_estimators=50, max_depth=3, min_child_weight=2, random_state=123)\n",
        "modelXGB3.fit(X_tr, y_tr)\n",
        "\n",
        "modelXGB4 = XGBClassifier(n_estimators=50, max_depth=5, min_child_weight=1, random_state=123)\n",
        "modelXGB4.fit(X_tr, y_tr)\n",
        "\n",
        "modelXGB5 = XGBClassifier(n_estimators=100, max_depth=5, min_child_weight=1, random_state=123)\n",
        "modelXGB5.fit(X_tr, y_tr)\n",
        "\n",
        "print('XGBoost2:', get_scores(modelXGB2, X_tr, X_val, y_tr, y_val))\n",
        "print('XGBoost3:', get_scores(modelXGB3, X_tr, X_val, y_tr, y_val))\n",
        "print('XGBoost4:', get_scores(modelXGB4, X_tr, X_val, y_tr, y_val))\n",
        "print('XGBoost5:', get_scores(modelXGB5, X_tr, X_val, y_tr, y_val))\n",
        "\n",
        "pred = modelXGB3.predict(X_test[COL_NUM+COL_CAT])\n",
        "result = pd.DataFrame({'ID':X_test.ID, 'Segmentation':pred})\n",
        "label_mapping2 = {0:'A', 1:'B', 2:'C', 3:'D'}\n",
        "\n",
        "result['Segmentation'] = [label_mapping2[label] for label in result['Segmentation']]\n",
        "print(result.head())"
      ]
    },
    {
      "cell_type": "code",
      "source": [
        "#저장하기\n",
        "result.to_csv('이마ㅓㄴ이ㅏㄻ.csv', index=False)"
      ],
      "metadata": {
        "id": "yhw3qaMw1w4K"
      },
      "execution_count": null,
      "outputs": []
    },
    {
      "cell_type": "markdown",
      "source": [
        "#3유형"
      ],
      "metadata": {
        "id": "Mq__y7Gv6hFb"
      }
    },
    {
      "cell_type": "markdown",
      "source": [
        "##1. 단일표본 T-검정"
      ],
      "metadata": {
        "id": "fe0ySsXREI_D"
      }
    },
    {
      "cell_type": "code",
      "source": [
        "import pandas as pd\n",
        "import scipy.stats as stats\n",
        "from math import sqrt\n",
        "\n",
        "data1 = pd.read_csv('/content/yemoonsaBigdata/datasets/supplement/trees.csv')\n",
        "X = data1['Height'].mean()\n",
        "print(round(X,2))\n",
        "\n",
        "t_score, p_value = stats.ttest_1samp(data1['Height'], 75)\n",
        "print(round(t_score,2))\n",
        "print(round(p_value,4))\n",
        "\n",
        "if p_value > 0.05:\n",
        "    print('채택')\n",
        "else:\n",
        "    print('기각')"
      ],
      "metadata": {
        "id": "e6EmXu_91_Mf",
        "colab": {
          "base_uri": "https://localhost:8080/"
        },
        "outputId": "567113f9-67e3-40b4-c69f-4c26f9bd5975"
      },
      "execution_count": null,
      "outputs": [
        {
          "output_type": "stream",
          "name": "stdout",
          "text": [
            "76.0\n",
            "0.87\n",
            "0.3892\n",
            "채택\n"
          ]
        }
      ]
    },
    {
      "cell_type": "markdown",
      "source": [
        "##2. 독립표본 T-검정"
      ],
      "metadata": {
        "id": "6bc07C0eHxcR"
      }
    },
    {
      "cell_type": "code",
      "source": [
        "import pandas as pd\n",
        "import scipy.stats as stats\n",
        "from math import sqrt\n",
        "\n",
        "data2 = pd.read_csv('/content/yemoonsaBigdata/datasets/supplement/toothgrowth.csv')\n",
        "\n",
        "stats.levene(data2.loc[data2.supp=='VC', 'len'], data2.loc[data.supp=='OJ','len'])\n",
        "\n",
        "VC_data = data2.loc[data2.supp=='VC']\n",
        "OJ_data = data2.loc[data2.supp=='OJ']\n",
        "\n",
        "VC_X = VC_data['len'].mean()\n",
        "OJ_X = OJ_data['len'].mean()\n",
        "\n",
        "print(round(VC_X, 2), round(OJ_X, 2))\n",
        "\n",
        "t_score, p_value = stats.ttest_ind(VC_data['len'], OJ_data['len'], equal_var=True)\n",
        "print(round(t_score,2))\n",
        "print(round(p_value,4))\n",
        "\n",
        "if p_value>0.05:\n",
        "    print('채택')\n",
        "else:\n",
        "    print('기각')"
      ],
      "metadata": {
        "colab": {
          "base_uri": "https://localhost:8080/"
        },
        "id": "JE3TOcg9HzqQ",
        "outputId": "c68f6788-757f-45bc-9197-868cb6dac53b"
      },
      "execution_count": null,
      "outputs": [
        {
          "output_type": "stream",
          "name": "stdout",
          "text": [
            "16.96 20.66\n",
            "-1.92\n",
            "0.0604\n",
            "채택\n"
          ]
        }
      ]
    },
    {
      "cell_type": "markdown",
      "source": [
        "##3. 쌍체표본 T-검정"
      ],
      "metadata": {
        "id": "080EjfkwI6Xs"
      }
    },
    {
      "cell_type": "code",
      "source": [
        "import pandas as pd\n",
        "import scipy.stats as stats\n",
        "from math import sqrt\n",
        "\n",
        "a = pd.read_csv('/content/yemoonsaBigdata/datasets/supplement/insectsprays.csv')\n",
        "print(a.head(),'\\n')\n",
        "\n",
        "diff = a['after_spr'] - a['before_spr']\n",
        "m_d = diff.mean()\n",
        "print('차이의 표본평균:', round(m_d,2),'\\n')\n",
        "\n",
        "t_score, p_value = stats.ttest_rel(a['before_spr'], a['after_spr'], alternative='greater')\n",
        "print('t_score:', round(t_score,2))\n",
        "print('p_value:', round(p_value,4),'\\n')\n",
        "\n",
        "if p_value>0.05:\n",
        "    print('채택')\n",
        "else:\n",
        "    print('기각')"
      ],
      "metadata": {
        "colab": {
          "base_uri": "https://localhost:8080/"
        },
        "id": "QCxZdHhpI81x",
        "outputId": "a2fdc85f-65ca-4c39-af55-2fa8cd595fdf"
      },
      "execution_count": null,
      "outputs": [
        {
          "output_type": "stream",
          "name": "stdout",
          "text": [
            "   before_spr  after_spr\n",
            "0          10          0\n",
            "1           7          1\n",
            "2          20          7\n",
            "3          14          2\n",
            "4          14          3 \n",
            "\n",
            "차이의 표본평균: -12.0 \n",
            "\n",
            "t_score: 14.89\n",
            "p_value: 0.0 \n",
            "\n",
            "기각\n"
          ]
        }
      ]
    },
    {
      "cell_type": "markdown",
      "source": [
        "## 4. 일원분산분석"
      ],
      "metadata": {
        "id": "6Iz5wrfEK90T"
      }
    },
    {
      "cell_type": "code",
      "source": [
        "import pandas as pd\n",
        "import scipy.stats as stats\n",
        "\n",
        "b = pd.read_csv('/content/yemoonsaBigdata/datasets/supplement/iris.csv')\n",
        "\n",
        "result = b.loc[b['species']=='versicolor','sepal_width'].mean()\n",
        "print(round(result,2))\n",
        "\n",
        "X1 = b.loc[b['species']=='setosa','sepal_width']\n",
        "X2 = b.loc[b['species']=='versicolor','sepal_width']\n",
        "X3 = b.loc[b['species']=='virginica','sepal_width']\n",
        "\n",
        "test_result = stats.f_oneway(X1,X2,X3)\n",
        "print(round(test_result.statistic,2))\n",
        "\n",
        "p_value = test_result.pvalue\n",
        "print(round(p_value,4))\n",
        "\n",
        "if p_value > 0.05:\n",
        "    print('채택')\n",
        "else:\n",
        "    print('기각')"
      ],
      "metadata": {
        "id": "ekJgEbmxLDOQ",
        "colab": {
          "base_uri": "https://localhost:8080/"
        },
        "outputId": "f761d340-b402-47f2-94a3-5ae9d24343e6"
      },
      "execution_count": null,
      "outputs": [
        {
          "output_type": "stream",
          "name": "stdout",
          "text": [
            "2.77\n",
            "49.16\n",
            "0.0\n",
            "기각\n"
          ]
        }
      ]
    },
    {
      "cell_type": "markdown",
      "source": [
        "##5. 카이제곱검정 (적합도 검정)"
      ],
      "metadata": {
        "id": "he5DIKS0LKsg"
      }
    },
    {
      "cell_type": "code",
      "source": [
        "import pandas as pd\n",
        "import scipy.stats as stats\n",
        "\n",
        "c = pd.read_csv('/content/yemoonsaBigdata/datasets/supplement/cellphone.csv')\n",
        "\n",
        "count_df = c.groupby('제조사').count()\n",
        "print(count_df)\n",
        "print('-'*80)\n",
        "\n",
        "result = count_df.loc['삼성','id'] - count_df.loc['애플','id']\n",
        "print(result)\n",
        "print('-'*80)\n",
        "\n",
        "total_sum = len(c)\n",
        "expected = [int(total_sum*0.1),\n",
        "            int(total_sum*0.6),\n",
        "            int(total_sum*0.3)]\n",
        "print(expected)\n",
        "print('-'*80)\n",
        "\n",
        "observed = count_df['id'].values\n",
        "test_result = stats.chisquare(observed, f_exp=expected)\n",
        "result = round(test_result.statistic,2)\n",
        "print(result)\n",
        "print('-'*80)\n",
        "\n",
        "p_value = test_result.pvalue\n",
        "print(p_value)\n",
        "\n",
        "if p_value > 0.05 :\n",
        "    print('채택')\n",
        "else:\n",
        "    print('기각')"
      ],
      "metadata": {
        "id": "mKYmDpyELKNA",
        "colab": {
          "base_uri": "https://localhost:8080/"
        },
        "outputId": "f0ef8e03-bca8-4cac-d496-afd20a538dc7"
      },
      "execution_count": null,
      "outputs": [
        {
          "output_type": "stream",
          "name": "stdout",
          "text": [
            "      id\n",
            "제조사     \n",
            "기타     5\n",
            "삼성   117\n",
            "애플    78\n",
            "--------------------------------------------------------------------------------\n",
            "39\n",
            "--------------------------------------------------------------------------------\n",
            "[20, 120, 60]\n",
            "--------------------------------------------------------------------------------\n",
            "16.73\n",
            "--------------------------------------------------------------------------------\n",
            "0.00023345995371416804\n",
            "기각\n"
          ]
        }
      ]
    },
    {
      "cell_type": "markdown",
      "source": [
        "##6. 카이제곱검정 (독립성 검정)"
      ],
      "metadata": {
        "id": "qpY7jB1uLToB"
      }
    },
    {
      "cell_type": "code",
      "source": [
        "import pandas as pd\n",
        "import scipy.stats as stats\n",
        "\n",
        "d = pd.read_csv('/content/yemoonsaBigdata/datasets/supplement/student.csv')\n",
        "\n",
        "table = pd.crosstab(d['단과대학'], d['수강 과목 수'])\n",
        "print(table)\n",
        "print('-'*80)\n",
        "\n",
        "result = table[table['6개 이상']==table['6개 이상'].max()].index[0]\n",
        "print(result)\n",
        "print('-'*80)\n",
        "\n",
        "X1 = table.loc['경영대학',:]\n",
        "X2 = table.loc['자연대학',:]\n",
        "X3 = table.loc['공과대학',:]\n",
        "\n",
        "test_result = stats.chi2_contingency([X1,X2,X3])\n",
        "result = test_result.statistic\n",
        "print(round(result,2))\n",
        "print('-'*80)\n",
        "\n",
        "p_value = test_result.pvalue\n",
        "print(round(p_value,4))\n",
        "print('-'*80)\n",
        "\n",
        "if p_value > 0.05:\n",
        "    print('채택')\n",
        "else:\n",
        "    print('기각')"
      ],
      "metadata": {
        "id": "Sk_CF5WYLWc7",
        "colab": {
          "base_uri": "https://localhost:8080/"
        },
        "outputId": "19286e73-3e63-47c5-8592-d70617a242fc"
      },
      "execution_count": null,
      "outputs": [
        {
          "output_type": "stream",
          "name": "stdout",
          "text": [
            "수강 과목 수  4개 이하  5개  6개 이상\n",
            "단과대학                     \n",
            "경영대학        12  78     30\n",
            "공과대학        30  42     28\n",
            "자연대학        30  42      8\n",
            "--------------------------------------------------------------------------------\n",
            "경영대학\n",
            "--------------------------------------------------------------------------------\n",
            "30.13\n",
            "--------------------------------------------------------------------------------\n",
            "0.0\n",
            "--------------------------------------------------------------------------------\n",
            "기각\n"
          ]
        }
      ]
    }
  ]
}