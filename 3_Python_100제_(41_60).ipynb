{
  "nbformat": 4,
  "nbformat_minor": 0,
  "metadata": {
    "colab": {
      "provenance": [],
      "authorship_tag": "ABX9TyP2x3Yi5Ap7ubTjiff4uVWW",
      "include_colab_link": true
    },
    "kernelspec": {
      "name": "python3",
      "display_name": "Python 3"
    },
    "language_info": {
      "name": "python"
    }
  },
  "cells": [
    {
      "cell_type": "markdown",
      "metadata": {
        "id": "view-in-github",
        "colab_type": "text"
      },
      "source": [
        "<a href=\"https://colab.research.google.com/github/cowsilver57/sessac_test/blob/main/3_Python_100%EC%A0%9C_(41_60).ipynb\" target=\"_parent\"><img src=\"https://colab.research.google.com/assets/colab-badge.svg\" alt=\"Open In Colab\"/></a>"
      ]
    },
    {
      "cell_type": "code",
      "execution_count": null,
      "metadata": {
        "colab": {
          "base_uri": "https://localhost:8080/"
        },
        "id": "NAaZDLNO2hTo",
        "outputId": "ae757dfc-34e8-47c9-a6d7-aa53fb1c0511"
      },
      "outputs": [
        {
          "output_type": "stream",
          "name": "stdout",
          "text": [
            "[0, 0, 0, 0, 0, 0, 0, 0, 0, 0]\n"
          ]
        }
      ],
      "source": [
        "#41번 10개의 0을 가진 List를 for문을 활용하여 만들기\n",
        "numbers = list()\n",
        "for _ in range(10):\n",
        "    numbers.append(0)\n",
        "print(numbers)"
      ]
    },
    {
      "cell_type": "code",
      "source": [
        "#42번 for 문을 list의 원소에 활용하기\n",
        "#방법 1\n",
        "scores = [10,20,30]\n",
        "for score in scores:\n",
        "    print(score)\n",
        "\n",
        "#방법 2\n",
        "for score_idx in range(len(scores)):\n",
        "    print(scores[score_idx])"
      ],
      "metadata": {
        "colab": {
          "base_uri": "https://localhost:8080/"
        },
        "id": "w6Yr9hmH3LlK",
        "outputId": "fdb4ec8c-664d-43b5-bbe0-33a74b32fcbd"
      },
      "execution_count": null,
      "outputs": [
        {
          "output_type": "stream",
          "name": "stdout",
          "text": [
            "10\n",
            "20\n",
            "30\n",
            "10\n",
            "20\n",
            "30\n"
          ]
        }
      ]
    },
    {
      "cell_type": "code",
      "source": [
        "#43번 for문을 활용해서 list의 원소 수정하기\n",
        "scores = [10,20,30,40,50]\n",
        "\n",
        "for score_idx in range(len(scores)):\n",
        "    scores[score_idx] += 10\n",
        "print(scores)"
      ],
      "metadata": {
        "colab": {
          "base_uri": "https://localhost:8080/"
        },
        "id": "FpUsXjC63Z1G",
        "outputId": "cfc800fe-2f75-439d-ced8-4a7441f9f760"
      },
      "execution_count": null,
      "outputs": [
        {
          "output_type": "stream",
          "name": "stdout",
          "text": [
            "[20, 30, 40, 50, 60]\n"
          ]
        }
      ]
    },
    {
      "cell_type": "code",
      "source": [
        "#44번 두 개의 List에 접근하기\n",
        "list1 = [10,20,30]\n",
        "list2 = [100,200,300]\n",
        "\n",
        "for idx in range(len(list1)):\n",
        "    print(list1[idx], list2[idx])"
      ],
      "metadata": {
        "colab": {
          "base_uri": "https://localhost:8080/"
        },
        "id": "Qr0jvnlG3sjZ",
        "outputId": "56982262-7814-41a7-ae9f-cf7d919bc633"
      },
      "execution_count": null,
      "outputs": [
        {
          "output_type": "stream",
          "name": "stdout",
          "text": [
            "10 100\n",
            "20 200\n",
            "30 300\n"
          ]
        }
      ]
    },
    {
      "cell_type": "code",
      "source": [
        "#45번 for문 활용해서 수학점수들의 평균 구하기\n",
        "scores = [10,20,30]\n",
        "\n",
        "#방법 1\n",
        "score_sum = 0\n",
        "n_student = 0\n",
        "for score in scores:\n",
        "    score_sum += score\n",
        "    n_student +=1\n",
        "score_mean = score_sum/n_student\n",
        "print(\"수학 점수 평균:\", score_mean)\n",
        "\n",
        "#방법 2\n",
        "score_sum = 0\n",
        "for score_idx in range(len(scores)):\n",
        "    score_sum += scores[score_idx]\n",
        "score_mean1 = score_sum / len(scores)\n",
        "print(\"수학 점수 평균:\", score_mean1)"
      ],
      "metadata": {
        "colab": {
          "base_uri": "https://localhost:8080/"
        },
        "id": "jTsjsNYs5i5i",
        "outputId": "7fe904be-89f5-4ee2-d07f-546254419777"
      },
      "execution_count": null,
      "outputs": [
        {
          "output_type": "stream",
          "name": "stdout",
          "text": [
            "수학 점수 평균: 20.0\n",
            "수학 점수 평균: 20.0\n"
          ]
        }
      ]
    },
    {
      "cell_type": "code",
      "source": [
        "#46번 for문을 활용하여 Mean Subtraction\n",
        "scores = [10,20,30]\n",
        "\n",
        "#방법 1\n",
        "score_sum = 0\n",
        "n_student = 0\n",
        "for score in scores:\n",
        "    score_sum += score\n",
        "    n_student += 1\n",
        "score_mean = score_sum / n_student\n",
        "print(\"수학점수 평균:\", score_mean)\n",
        "\n",
        "scores_ms = list()\n",
        "for score in scores:\n",
        "    scores_ms.append(score-score_mean)\n",
        "print(scores_ms)\n",
        "\n",
        "#방법 2\n",
        "for score_idx in range(len(scores)):\n",
        "    scores[score_idx] -= score_mean\n",
        "print(scores)"
      ],
      "metadata": {
        "colab": {
          "base_uri": "https://localhost:8080/"
        },
        "id": "i3dBedj-6TQ0",
        "outputId": "e3b7508a-1c5f-421a-cc1e-fdda4187c82c"
      },
      "execution_count": null,
      "outputs": [
        {
          "output_type": "stream",
          "name": "stdout",
          "text": [
            "수학점수 평균: 20.0\n",
            "[-10.0, 0.0, 10.0]\n",
            "[-10.0, 0.0, 10.0]\n"
          ]
        }
      ]
    },
    {
      "cell_type": "code",
      "source": [
        "#47번 두 과목의 평균 구하기\n",
        "math_scores = [40,60,80]\n",
        "english_scores = [30,40,50]\n",
        "\n",
        "n_class = 2\n",
        "n_student = len(math_scores)\n",
        "\n",
        "score_sums = list()\n",
        "score_means = list()\n",
        "\n",
        "for _ in range(n_class):\n",
        "    score_sums.append(0)\n",
        "for student_idx in range(n_student):\n",
        "    score_sums[0] += math_scores[student_idx]\n",
        "    score_sums[1] += english_scores[student_idx]\n",
        "print(\"각 과목의 점수 합계:\", score_sums)\n",
        "\n",
        "for class_idx in range(n_class):\n",
        "    class_mean = score_sums[class_idx]/n_student\n",
        "    score_means.append(class_mean)\n",
        "print(\"각 과목의 평균:\", score_means)"
      ],
      "metadata": {
        "colab": {
          "base_uri": "https://localhost:8080/"
        },
        "id": "IrgY5SdX7Lya",
        "outputId": "c8c01ce1-2a46-4383-d465-9d36a79d26bf"
      },
      "execution_count": null,
      "outputs": [
        {
          "output_type": "stream",
          "name": "stdout",
          "text": [
            "각 과목의 점수 합계: [180, 120]\n",
            "각 과목의 평균: [60.0, 40.0]\n"
          ]
        }
      ]
    },
    {
      "cell_type": "code",
      "source": [
        "#47번 반복\n",
        "math_scores = [40,60,80]\n",
        "english_scores = [30,40,50]\n",
        "n_class = 2\n",
        "n_student = len(math_scores)\n",
        "\n",
        "score_sums = list()\n",
        "score_means = list()\n",
        "\n",
        "for _ in range(n_class):\n",
        "    score_sums.append(0)\n",
        "\n",
        "for score_idx in range(n_student):\n",
        "    score_sums[0] += math_scores[score_idx]\n",
        "    score_sums[1] += english_scores[score_idx]\n",
        "print(\"각 과목 점수들의 합:\", score_sums)\n",
        "\n",
        "for class_idx in range(n_class):\n",
        "    class_mean = score_sums[class_idx] / n_student\n",
        "    score_means.append(class_mean)\n",
        "print(\"각 과목 점수들의 평균:\", score_means)"
      ],
      "metadata": {
        "colab": {
          "base_uri": "https://localhost:8080/"
        },
        "id": "Fpm9_4EZ79Vb",
        "outputId": "85b3e58f-5f1e-4658-afe2-41bb751c3fe1"
      },
      "execution_count": null,
      "outputs": [
        {
          "output_type": "stream",
          "name": "stdout",
          "text": [
            "각 과목 점수들의 합: [180, 120]\n",
            "각 과목 점수들의 평균: [60.0, 40.0]\n"
          ]
        }
      ]
    },
    {
      "cell_type": "code",
      "source": [
        "#48번 for문과 List를 활용하여 Mean Subtraction\n",
        "math_scores = [40,60,80]\n",
        "englisht_scores = [30,40,50]\n",
        "n_class = 2\n",
        "n_student = len(math_scores)\n",
        "\n",
        "score_sums = list()\n",
        "score_means = list()\n",
        "\n",
        "for _ in range(n_class):\n",
        "    score_sums.append(0)\n",
        "\n",
        "for student_idx in range(n_student):\n",
        "    score_sums[0] += math_scores[student_idx]\n",
        "    score_sums[1] += english_scores[student_idx]\n",
        "print(\"과목별 점수 총합:\", score_sums)\n",
        "\n",
        "for class_idx in range(n_class):\n",
        "    class_mean = score_sums[class_idx]/n_student\n",
        "    score_means.append(class_mean)\n",
        "print(\"과목별 점수 평균:\", score_means)\n",
        "\n",
        "for student_idx in range(n_student):\n",
        "    math_scores[student_idx] -= score_means[0]\n",
        "    english_scores[student_idx] -= score_means[1]\n",
        "print(\"MS 후 수학점수:\", math_scores)\n",
        "print(\"MS 후 영어점수:\", english_scores)"
      ],
      "metadata": {
        "colab": {
          "base_uri": "https://localhost:8080/"
        },
        "id": "fpjZlvIs8yd2",
        "outputId": "b46ae29f-ffa4-47fe-81e1-864914d54934"
      },
      "execution_count": null,
      "outputs": [
        {
          "output_type": "stream",
          "name": "stdout",
          "text": [
            "과목별 점수 총합: [180, 0.0]\n",
            "과목별 점수 평균: [60.0, 0.0]\n",
            "MS 후 수학점수: [-20.0, 0.0, 20.0]\n",
            "MS 후 영어점수: [-10.0, 0.0, 10.0]\n"
          ]
        }
      ]
    },
    {
      "cell_type": "code",
      "source": [
        "#49번 for문과 list의 분산과 표준편차\n",
        "\n",
        "scores = [10,20,30]\n",
        "n_student = len(scores)\n",
        "score_sum, score_square_sum = 0,0\n",
        "\n",
        "for score in scores:\n",
        "    score_sum += score\n",
        "    score_square_sum += score**2\n",
        "\n",
        "mean = score_sum/n_student\n",
        "square_of_mean = mean**2\n",
        "mean_of_square = score_square_sum / n_student\n",
        "\n",
        "var = mean_of_square - square_of_mean\n",
        "std = var**0.5\n",
        "\n",
        "print(\"분산:\", var)\n",
        "print(\"표준편차:\", std)"
      ],
      "metadata": {
        "colab": {
          "base_uri": "https://localhost:8080/"
        },
        "id": "ZzcvLLV2_uDU",
        "outputId": "005ead79-5ad6-429b-93f7-fe3ae87a750e"
      },
      "execution_count": null,
      "outputs": [
        {
          "output_type": "stream",
          "name": "stdout",
          "text": [
            "분산: 66.66666666666669\n",
            "표준편차: 8.16496580927726\n"
          ]
        }
      ]
    },
    {
      "cell_type": "code",
      "source": [
        "#50번 for문과 list를 활용한 standardization\n",
        "scores = [10,20,30]\n",
        "n_student = len(scores)\n",
        "score_sum, score_square_sum = 0,0\n",
        "\n",
        "for score in scores:\n",
        "    score_sum += score\n",
        "    score_square_sum += score**2\n",
        "mean = score_sum / n_student\n",
        "square_of_mean = mean**2\n",
        "mean_of_square = score_square_sum / n_student\n",
        "\n",
        "var = mean_of_square - square_of_mean\n",
        "std = var**0.5\n",
        "\n",
        "print(\"분산:\", var)\n",
        "print(\"표준편차:\", std)\n",
        "\n",
        "for student_idx in range(n_student):\n",
        "    scores[student_idx] = (scores[student_idx] - mean)/std\n",
        "print(\"ST 후 점수들:\", scores)\n",
        "\n",
        "#다시 위의 점수들로 분산과 표준편차 구해서 표준편차가 1이 나오는지 검산하기\n",
        "after_score_sum, after_square_score_sum = 0,0\n",
        "for score in scores:\n",
        "    after_score_sum += score\n",
        "    after_square_score_sum += score**2\n",
        "after_mean = after_score_sum / n_student\n",
        "after_square_of_mean = after_mean**2\n",
        "after_mean_of_square = after_square_score_sum / n_student\n",
        "after_var = after_mean_of_square - after_square_of_mean\n",
        "after_std = after_var**0.5\n",
        "print(\"ST 후 표준편차:\", after_std)"
      ],
      "metadata": {
        "colab": {
          "base_uri": "https://localhost:8080/"
        },
        "id": "p3A8HxBUAfAa",
        "outputId": "4ef30a6e-768c-4787-efb8-5b6d2fa8edad"
      },
      "execution_count": null,
      "outputs": [
        {
          "output_type": "stream",
          "name": "stdout",
          "text": [
            "분산: 66.66666666666669\n",
            "표준편차: 8.16496580927726\n",
            "ST 후 점수들: [-1.224744871391589, 0.0, 1.224744871391589]\n",
            "ST 후 표준편차: 1.0\n"
          ]
        }
      ]
    },
    {
      "cell_type": "code",
      "source": [
        "#51번 분산과 표준편차\n",
        "math_scores, english_scores = [50,60,70], [30,40,50]\n",
        "n_student = len(math_scores)\n",
        "\n",
        "math_sum, math_square_sum = 0,0\n",
        "english_sum, english_square_sum = 0,0\n",
        "\n",
        "for student_idx in range(n_student):\n",
        "    math_sum += math_scores[student_idx]\n",
        "    math_square_sum += math_scores[student_idx]**2\n",
        "\n",
        "    english_sum += english_scores[student_idx]\n",
        "    english_square_sum += english_scores[student_idx]**2\n",
        "\n",
        "math_mean = math_sum / n_student\n",
        "english_mean = english_sum / n_student\n",
        "\n",
        "math_square_of_mean = math_mean**2\n",
        "math_mean_of_square = math_square_sum / n_student\n",
        "math_var = math_mean_of_square - math_square_of_mean\n",
        "math_std = math_var**0.5\n",
        "\n",
        "english_square_of_mean = english_mean**2\n",
        "english_mean_of_square = english_square_sum / n_student\n",
        "english_var = english_mean_of_square - english_square_of_mean\n",
        "english_std = english_var**0.5\n",
        "\n",
        "print(\"수학점수의 평균, 표준편차:\", math_mean, math_std)\n",
        "print(\"영어점수의 평균, 표준편차:\", english_mean, english_std)"
      ],
      "metadata": {
        "colab": {
          "base_uri": "https://localhost:8080/"
        },
        "id": "JM_aZEZCCQWf",
        "outputId": "d7db64b7-41af-4ebd-85bf-1d7a5cbb89a5"
      },
      "execution_count": null,
      "outputs": [
        {
          "output_type": "stream",
          "name": "stdout",
          "text": [
            "수학점수의 평균, 표준편차: 60.0 8.164965809277252\n",
            "영어점수의 평균, 표준편차: 40.0 8.164965809277264\n"
          ]
        }
      ]
    },
    {
      "cell_type": "code",
      "source": [
        "#52번 standardization\n",
        "math_scores, english_scores = [50,60,70], [30,40,50]\n",
        "n_student = len(math_scores)\n",
        "\n",
        "math_sum, math_square_sum = 0,0\n",
        "english_sum, english_square_sum = 0,0\n",
        "\n",
        "for student_idx in range(n_student):\n",
        "    math_sum += math_scores[student_idx]\n",
        "    math_square_sum += math_scores[student_idx]**2\n",
        "\n",
        "    english_sum += english_scores[student_idx]\n",
        "    english_square_sum += english_scores[student_idx]**2\n",
        "\n",
        "math_mean = math_sum / n_student\n",
        "math_mean_of_square = math_square_sum / n_student\n",
        "math_var = math_mean_of_square - math_mean**2\n",
        "math_std = math_var**0.5\n",
        "print(\"수학점수의 표준편차:\", math_std)\n",
        "\n",
        "english_mean = english_sum / n_student\n",
        "english_mean_of_square = english_square_sum / n_student\n",
        "english_var = english_mean_of_square - english_mean**2\n",
        "english_std = english_var**0.5\n",
        "print(\"영어점수의 표준편차:\", english_std)\n",
        "\n",
        "#여기서부터 stadardization 실행하기\n",
        "for student_idx in range(n_student):\n",
        "    math_scores[student_idx] = (math_scores[student_idx]-math_mean) / math_std\n",
        "    english_scores[student_idx] = (english_scores[student_idx]-english_mean) / english_std\n",
        "print(\"ST 후의 수학점수: \", math_scores)\n",
        "print(\"ST 후의 영어점수: \", english_scores)\n",
        "\n",
        "#ST 후의 점수들로 다시 표준편차를 구해서 1인지 확인하기\n",
        "math_sum, math_square_sum = 0,0\n",
        "english_sum, english_square_sum = 0,0\n",
        "\n",
        "for student_idx in range(n_student):\n",
        "    math_sum += math_scores[student_idx]\n",
        "    math_square_sum += math_scores[student_idx]**2\n",
        "\n",
        "    english_sum += english_scores[student_idx]\n",
        "    english_square_sum += english_scores[student_idx]**2\n",
        "\n",
        "math_mean = math_sum / n_student\n",
        "math_mean_of_square = math_square_sum / n_student\n",
        "math_var = math_mean_of_square - math_mean**2\n",
        "math_std = math_var**0.5\n",
        "print(\"ST 후의 수학점수의 표준편차:\", math_std)\n",
        "\n",
        "english_mean = english_sum / n_student\n",
        "english_mean_of_square = english_square_sum / n_student\n",
        "english_var = english_mean_of_square - english_mean**2\n",
        "english_std = english_var**0.5\n",
        "print(\"ST 후의 영어점수의 표준편차:\", english_std)"
      ],
      "metadata": {
        "colab": {
          "base_uri": "https://localhost:8080/"
        },
        "id": "5zJHY3y5Dz54",
        "outputId": "94133988-ba63-46ce-e2c3-d700caa207c9"
      },
      "execution_count": null,
      "outputs": [
        {
          "output_type": "stream",
          "name": "stdout",
          "text": [
            "수학점수의 표준편차: 8.164965809277252\n",
            "영어점수의 표준편차: 8.164965809277264\n",
            "ST 후의 수학점수:  [-1.2247448713915903, 0.0, 1.2247448713915903]\n",
            "ST 후의 영어점수:  [-1.2247448713915885, 0.0, 1.2247448713915885]\n",
            "ST 후의 수학점수의 표준편차: 1.0000000000000009\n",
            "ST 후의 영어점수의 표준편차: 0.9999999999999996\n"
          ]
        }
      ]
    },
    {
      "cell_type": "code",
      "source": [
        "#53번 for문과 list를 활용하여 Hadamard Product\n",
        "\n",
        "v1 = [1,2,3,4,5]\n",
        "v2 = [10,20,30,40,50]\n",
        "\n",
        "#방법 1\n",
        "v3 = list()\n",
        "for dim_idx in range(len(v1)):\n",
        "    v3.append(v1[dim_idx]*v2[dim_idx])\n",
        "print(v3)\n",
        "\n",
        "#방법 2\n",
        "v3 = list()\n",
        "for _ in range(len(v1)):\n",
        "    v3.append(0)\n",
        "for dim_idx in range(len(v1)):\n",
        "    v3[dim_idx] = v1[dim_idx] * v2[dim_idx]\n",
        "print(v3)"
      ],
      "metadata": {
        "colab": {
          "base_uri": "https://localhost:8080/"
        },
        "id": "8cpa8Z-5Fcnx",
        "outputId": "0638fa85-9799-450e-a16e-abc06d2b2e86"
      },
      "execution_count": null,
      "outputs": [
        {
          "output_type": "stream",
          "name": "stdout",
          "text": [
            "[10, 40, 90, 160, 250]\n",
            "[10, 40, 90, 160, 250]\n"
          ]
        }
      ]
    },
    {
      "cell_type": "code",
      "source": [
        "#54번 for문과 list를 활용한 vector norm\n",
        "\n",
        "v1 = [1,2,3]\n",
        "\n",
        "square_sum = 0\n",
        "for dim_val in v1:\n",
        "    square_sum += dim_val**2\n",
        "norm = square_sum**0.5\n",
        "print(\"v1의 vector norm:\", norm)"
      ],
      "metadata": {
        "colab": {
          "base_uri": "https://localhost:8080/"
        },
        "id": "c3NeiuqOGKT2",
        "outputId": "52a97c24-064e-4023-e15a-b8adc2ef3f9b"
      },
      "execution_count": null,
      "outputs": [
        {
          "output_type": "stream",
          "name": "stdout",
          "text": [
            "v1의 vector norm: 3.7416573867739413\n"
          ]
        }
      ]
    },
    {
      "cell_type": "code",
      "source": [
        "#55번 for문과 list를 활용한 unit vector 만들기\n",
        "v1 = [1,2,3]\n",
        "\n",
        "square_sum = 0\n",
        "for dim_idx in range(len(v1)):\n",
        "    square_sum += v1[dim_idx]**2\n",
        "norm = square_sum**0.5\n",
        "print(\"벡터놈:\", norm)\n",
        "\n",
        "#norm으로 나눠 unit vector 만들어주기\n",
        "for dim_idx in range(len(v1)):\n",
        "    v1[dim_idx] /= norm\n",
        "\n",
        "#잘 시행이 되었는지 = 벡터 놈의 값이 1이 나오는지 확인해보기\n",
        "square_sum = 0\n",
        "for dim_idx in range(len(v1)):\n",
        "    square_sum += v1[dim_idx]**2\n",
        "norm = square_sum**0.5\n",
        "print(\"벡터놈:\", norm)"
      ],
      "metadata": {
        "colab": {
          "base_uri": "https://localhost:8080/"
        },
        "id": "9Ji-A9eDGaaB",
        "outputId": "72b3630a-c4d8-4896-e909-3a9bc6473d65"
      },
      "execution_count": null,
      "outputs": [
        {
          "output_type": "stream",
          "name": "stdout",
          "text": [
            "벡터놈: 3.7416573867739413\n",
            "벡터놈: 1.0\n"
          ]
        }
      ]
    },
    {
      "cell_type": "code",
      "source": [
        "#56번 for문과 list를 활용한 Dot Product\n",
        "v1, v2 = [1,2,3], [3,4,5]\n",
        "\n",
        "dot_prod = 0\n",
        "for dim_idx in range(len(v1)):\n",
        "    dot_prod += v1[dim_idx]*v2[dim_idx]\n",
        "print(\"Dot Product:\", dot_prod)"
      ],
      "metadata": {
        "colab": {
          "base_uri": "https://localhost:8080/"
        },
        "id": "SklPTZIQHhc9",
        "outputId": "57978e2b-8150-462a-87b5-d0468c4c9ac7"
      },
      "execution_count": null,
      "outputs": [
        {
          "output_type": "stream",
          "name": "stdout",
          "text": [
            "Dot Product: 26\n"
          ]
        }
      ]
    },
    {
      "cell_type": "code",
      "source": [
        "#57번 for문과 list를 활용한 Euclidean Distance\n",
        "v1, v2 = [1,2,3], [3,4,5]\n",
        "\n",
        "diff_square_sum = 0\n",
        "for dim_idx in range(len(v1)):\n",
        "    diff_square_sum += (v1[dim_idx] - v2[dim_idx])**2\n",
        "e_distance = diff_square_sum**0.5\n",
        "print(\"Euclidean distance:\", e_distance)"
      ],
      "metadata": {
        "colab": {
          "base_uri": "https://localhost:8080/"
        },
        "id": "cDNZkderH3EX",
        "outputId": "69022781-1578-4bfb-f36f-b09ea4b63b79"
      },
      "execution_count": null,
      "outputs": [
        {
          "output_type": "stream",
          "name": "stdout",
          "text": [
            "Euclidean distance: 3.4641016151377544\n"
          ]
        }
      ]
    },
    {
      "cell_type": "code",
      "source": [
        "#58번 for문과 list를 활용한 Mean Squared Error\n",
        "predictions = [10,20,30]\n",
        "labels = [10,25,40]\n",
        "\n",
        "n_data =len(predictions)\n",
        "diff_square_sum = 0\n",
        "\n",
        "for data_idx in range(n_data):\n",
        "    diff_square_sum += (predictions[data_idx]-labels[data_idx])**2\n",
        "mse = diff_square_sum / n_data\n",
        "print(\"MSE:\", mse)"
      ],
      "metadata": {
        "colab": {
          "base_uri": "https://localhost:8080/"
        },
        "id": "BTU1FBg1ITJR",
        "outputId": "85bde81a-ff11-45e6-820e-9957b1cbd1b5"
      },
      "execution_count": null,
      "outputs": [
        {
          "output_type": "stream",
          "name": "stdout",
          "text": [
            "MSE: 41.666666666666664\n"
          ]
        }
      ]
    },
    {
      "cell_type": "code",
      "source": [
        "#59번 숫자 빈도 구하기\n",
        "numbers = [0,2,4,2,1,4,3,1,2,3,4,1,2,3,4]\n",
        "number_cnt = [0,0,0,0,0]\n",
        "\n",
        "for num in numbers:\n",
        "    number_cnt[num] += 1\n",
        "print(number_cnt)"
      ],
      "metadata": {
        "colab": {
          "base_uri": "https://localhost:8080/"
        },
        "id": "AJ7xZH7zIsvx",
        "outputId": "5e17f801-6b6d-4910-dc05-873e9a4ac83f"
      },
      "execution_count": null,
      "outputs": [
        {
          "output_type": "stream",
          "name": "stdout",
          "text": [
            "[1, 3, 4, 3, 4]\n"
          ]
        }
      ]
    },
    {
      "cell_type": "code",
      "source": [
        "#60번 합격 알려주기\n",
        "score = 60\n",
        "\n",
        "if score > 50:\n",
        "    print(\"합격\")"
      ],
      "metadata": {
        "colab": {
          "base_uri": "https://localhost:8080/"
        },
        "id": "2PM1XWBEI4KF",
        "outputId": "f00e2325-4f55-4452-f180-bf23b060a432"
      },
      "execution_count": null,
      "outputs": [
        {
          "output_type": "stream",
          "name": "stdout",
          "text": [
            "합격\n"
          ]
        }
      ]
    }
  ]
}