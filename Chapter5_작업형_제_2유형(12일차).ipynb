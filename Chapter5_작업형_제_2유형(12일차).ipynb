{
  "nbformat": 4,
  "nbformat_minor": 0,
  "metadata": {
    "colab": {
      "provenance": [],
      "authorship_tag": "ABX9TyMfTHv4THglZgbXVMm9gJNP",
      "include_colab_link": true
    },
    "kernelspec": {
      "name": "python3",
      "display_name": "Python 3"
    },
    "language_info": {
      "name": "python"
    }
  },
  "cells": [
    {
      "cell_type": "markdown",
      "metadata": {
        "id": "view-in-github",
        "colab_type": "text"
      },
      "source": [
        "<a href=\"https://colab.research.google.com/github/cowsilver57/sessac_test/blob/main/Chapter5_%EC%9E%91%EC%97%85%ED%98%95_%EC%A0%9C_2%EC%9C%A0%ED%98%95(12%EC%9D%BC%EC%B0%A8).ipynb\" target=\"_parent\"><img src=\"https://colab.research.google.com/assets/colab-badge.svg\" alt=\"Open In Colab\"/></a>"
      ]
    },
    {
      "cell_type": "code",
      "execution_count": 2,
      "metadata": {
        "colab": {
          "base_uri": "https://localhost:8080/"
        },
        "id": "xxILJIexIafm",
        "outputId": "7967f108-8f34-4799-c800-d916166cb8f2"
      },
      "outputs": [
        {
          "output_type": "stream",
          "name": "stdout",
          "text": [
            "Cloning into 'yemoonsaBigdata'...\n",
            "remote: Enumerating objects: 637, done.\u001b[K\n",
            "remote: Counting objects: 100% (274/274), done.\u001b[K\n",
            "remote: Compressing objects: 100% (165/165), done.\u001b[K\n",
            "remote: Total 637 (delta 136), reused 184 (delta 109), pack-reused 363\u001b[K\n",
            "Receiving objects: 100% (637/637), 10.76 MiB | 14.33 MiB/s, done.\n",
            "Resolving deltas: 100% (321/321), done.\n"
          ]
        }
      ],
      "source": [
        "#github와 colab 연동\n",
        "!git clone https://github.com/AnalyticsKnight/yemoonsaBigdata"
      ]
    },
    {
      "cell_type": "markdown",
      "source": [
        "# 문제"
      ],
      "metadata": {
        "id": "Q_dAgKxZPcbU"
      }
    },
    {
      "cell_type": "markdown",
      "source": [
        "1-1. 주어진 학습 데이터(X_train, y_train)을 활용하여 해당 천체가 은하인지 아닌지 예측 모형을 만든 후, 이를 평가용 데이터(X_test)에 적용\n",
        "\n",
        "1-2. 얻은 천체의 은하인 경우를 1로 하여 은하의 여부를 다음과 같은 형식의 csv 파일로 생성\n",
        "\n",
        "(제출한 모델의 성능은 ROC-AUC 평가 지표에 따라 채점)"
      ],
      "metadata": {
        "id": "att7GgMcPtZ0"
      }
    },
    {
      "cell_type": "markdown",
      "source": [
        "*   X_test : 천체 관측 특성(평가용)\n",
        "*   X_train : 천체 관측 특성(학습용)\n",
        "*   y_train : 은하 여부 데이터(학습용)\n",
        "\n",
        "\n"
      ],
      "metadata": {
        "id": "4vbjjBASMmis"
      }
    },
    {
      "cell_type": "markdown",
      "source": [
        "# 풀이"
      ],
      "metadata": {
        "id": "5Hi6mEDwQaKD"
      }
    },
    {
      "cell_type": "markdown",
      "source": [
        "##1. 파일 불러오기"
      ],
      "metadata": {
        "id": "yUo6jluFQXD7"
      }
    },
    {
      "cell_type": "code",
      "source": [
        "import pandas as pd\n",
        "import numpy as np\n",
        "\n",
        "X_test = pd.read_csv('/content/yemoonsaBigdata/datasets/Part2/stellar_X_test.csv')\n",
        "X_train = pd.read_csv('/content/yemoonsaBigdata/datasets/Part2/stellar_X_train.csv')\n",
        "y_train = pd.read_csv('/content/yemoonsaBigdata/datasets/Part2/stellar_y_train.csv')\n",
        "\n",
        "print(X_train.info()) #결측치 없음\n",
        "print(X_train.describe()) #최솟값이 -9999로 이상치 존재"
      ],
      "metadata": {
        "colab": {
          "base_uri": "https://localhost:8080/"
        },
        "id": "eAoQNWYyPZdL",
        "outputId": "ee3b6afc-bc39-4849-e858-8d3afdafc3c1"
      },
      "execution_count": 3,
      "outputs": [
        {
          "output_type": "stream",
          "name": "stdout",
          "text": [
            "<class 'pandas.core.frame.DataFrame'>\n",
            "RangeIndex: 70000 entries, 0 to 69999\n",
            "Data columns (total 13 columns):\n",
            " #   Column    Non-Null Count  Dtype  \n",
            "---  ------    --------------  -----  \n",
            " 0   alpha     70000 non-null  float64\n",
            " 1   delta     70000 non-null  float64\n",
            " 2   u         70000 non-null  float64\n",
            " 3   g         70000 non-null  float64\n",
            " 4   r         70000 non-null  float64\n",
            " 5   i         70000 non-null  float64\n",
            " 6   z         70000 non-null  float64\n",
            " 7   redshift  70000 non-null  float64\n",
            " 8   run_ID    70000 non-null  int64  \n",
            " 9   rerun_ID  70000 non-null  int64  \n",
            " 10  cam_col   70000 non-null  int64  \n",
            " 11  field_ID  70000 non-null  int64  \n",
            " 12  plate     70000 non-null  int64  \n",
            "dtypes: float64(8), int64(5)\n",
            "memory usage: 6.9 MB\n",
            "None\n",
            "              alpha         delta             u             g             r  \\\n",
            "count  70000.000000  70000.000000  70000.000000  70000.000000  70000.000000   \n",
            "mean     177.535809     24.107885     21.938806     20.486718     19.644011   \n",
            "std       96.483093     19.665057     37.942814     37.925201      1.852053   \n",
            "min        0.005528    -18.785328  -9999.000000  -9999.000000      9.822070   \n",
            "25%      127.385304      5.115922     20.349987     18.957325     18.136183   \n",
            "50%      180.706865     23.579507     22.183860     21.095445     20.122805   \n",
            "75%      233.942154     39.871336     23.684145     22.121073     21.039012   \n",
            "max      359.999615     82.947622     32.781390     31.602240     29.571860   \n",
            "\n",
            "                  i             z      redshift        run_ID  rerun_ID  \\\n",
            "count  70000.000000  70000.000000  70000.000000  70000.000000   70000.0   \n",
            "mean      19.082969     18.624590      0.575246   4478.649443     301.0   \n",
            "std        1.755997     37.904705      0.729921   1965.326847       0.0   \n",
            "min        9.469903  -9999.000000     -0.009971    109.000000     301.0   \n",
            "25%       17.733732     17.463838      0.052602   3185.000000     301.0   \n",
            "50%       19.399590     19.001010      0.422838   4188.000000     301.0   \n",
            "75%       20.391340     19.917578      0.700399   5326.000000     301.0   \n",
            "max       32.141470     28.790550      7.011245   8162.000000     301.0   \n",
            "\n",
            "            cam_col      field_ID         plate  \n",
            "count  70000.000000  70000.000000  70000.000000  \n",
            "mean       3.510500    186.045714   5127.852900  \n",
            "std        1.585203    148.661268   2947.452991  \n",
            "min        1.000000     11.000000    266.000000  \n",
            "25%        2.000000     82.000000   2525.750000  \n",
            "50%        4.000000    146.000000   4978.000000  \n",
            "75%        5.000000    241.000000   7389.000000  \n",
            "max        6.000000    989.000000  12547.000000  \n"
          ]
        }
      ]
    },
    {
      "cell_type": "code",
      "source": [
        "#이상치 제거\n",
        "#X_train의 u 칼럼에서 -9999가 아닌 행만 뽑기\n",
        "y_train = y_train.loc[X_train.u != -9999.000000]\n",
        "X_train = X_train.loc[X_train.u != -9999.000000]\n",
        "#수정된 행에 따라 index 새로 고침, drop=True 이전 인덱스는 삭제하고, inplace=True 로 원본 데이터에 저장!\n",
        "X_train.reset_index(drop=True, inplace=True)\n",
        "y_train.reset_index(drop=True, inplace=True)\n",
        "\n",
        "print(X_train.describe()) #다시 뽑아봤더니 이상치 없음!\n",
        "#redshift 열에서 90%~100% 값을 구함.\n",
        "print(X_train['redshift'].quantile([q/100 for q in range(90,101)]))\n",
        "#약 2%만이 3을 넘음 (0.99부터 3이 넘는다는 의미!)"
      ],
      "metadata": {
        "colab": {
          "base_uri": "https://localhost:8080/"
        },
        "id": "tRnKJ3M8jpB_",
        "outputId": "7e22a43b-d794-4632-acff-502d4db45014"
      },
      "execution_count": 4,
      "outputs": [
        {
          "output_type": "stream",
          "name": "stdout",
          "text": [
            "              alpha         delta             u             g             r  \\\n",
            "count  69999.000000  69999.000000  69999.000000  69999.000000  69999.000000   \n",
            "mean     177.535145     24.108238     22.081964     20.629856     19.644032   \n",
            "std       96.483622     19.664976      2.248554      2.033576      1.852057   \n",
            "min        0.005528    -18.785328     10.996230     10.498200      9.822070   \n",
            "25%      127.384192      5.117238     20.350000     18.957435     18.136075   \n",
            "50%      180.705886     23.580630     22.183900     21.095450     20.122810   \n",
            "75%      233.942330     39.872079     23.684160     22.121075     21.039035   \n",
            "max      359.999615     82.947622     32.781390     31.602240     29.571860   \n",
            "\n",
            "                  i             z      redshift        run_ID  rerun_ID  \\\n",
            "count  69999.000000  69999.000000  69999.000000  69999.000000   69999.0   \n",
            "mean      19.082984     18.767701      0.575254   4478.702681     301.0   \n",
            "std        1.756005      1.764734      0.729923   1965.290408       0.0   \n",
            "min        9.469903      9.612333     -0.009971    109.000000     301.0   \n",
            "25%       17.733685     17.463885      0.052608   3185.000000     301.0   \n",
            "50%       19.399590     19.001020      0.422848   4188.000000     301.0   \n",
            "75%       20.391350     19.917595      0.700399   5326.000000     301.0   \n",
            "max       32.141470     28.790550      7.011245   8162.000000     301.0   \n",
            "\n",
            "            cam_col      field_ID         plate  \n",
            "count  69999.000000  69999.000000  69999.000000  \n",
            "mean       3.510522    186.040701   5127.878813  \n",
            "std        1.585204    148.656411   2947.466071  \n",
            "min        1.000000     11.000000    266.000000  \n",
            "25%        2.000000     82.000000   2525.500000  \n",
            "50%        4.000000    146.000000   4978.000000  \n",
            "75%        5.000000    241.000000   7389.000000  \n",
            "max        6.000000    989.000000  12547.000000  \n",
            "0.90    1.566266\n",
            "0.91    1.675948\n",
            "0.92    1.786824\n",
            "0.93    1.910857\n",
            "0.94    2.041589\n",
            "0.95    2.186017\n",
            "0.96    2.323494\n",
            "0.97    2.485796\n",
            "0.98    2.713839\n",
            "0.99    3.116165\n",
            "1.00    7.011245\n",
            "Name: redshift, dtype: float64\n"
          ]
        }
      ]
    },
    {
      "cell_type": "code",
      "source": [
        "#파생변수 추가\n",
        "\n",
        "#'redshift_upper3'라는 새로운 열을 X_train 데이터 프레임에 추가\n",
        "#'redshift' 값이 3보다 큰 경우, 1 / 아닌 경우 0 부여\n",
        "X_train['redshift_upper3'] = np.where(X_train['redshift']>3,1,0)\n",
        "X_test['redshift_upper3'] = np.where(X_test['redshift']>3,1,0)"
      ],
      "metadata": {
        "id": "RFeMTSozlGlf"
      },
      "execution_count": 5,
      "outputs": []
    },
    {
      "cell_type": "code",
      "source": [
        "print(X_train.columns)"
      ],
      "metadata": {
        "colab": {
          "base_uri": "https://localhost:8080/"
        },
        "id": "riyzSYte6U6X",
        "outputId": "8b0a5548-701f-41f4-e6bf-babe7110a0d7"
      },
      "execution_count": 6,
      "outputs": [
        {
          "output_type": "stream",
          "name": "stdout",
          "text": [
            "Index(['alpha', 'delta', 'u', 'g', 'r', 'i', 'z', 'redshift', 'run_ID',\n",
            "       'rerun_ID', 'cam_col', 'field_ID', 'plate', 'redshift_upper3'],\n",
            "      dtype='object')\n"
          ]
        }
      ]
    },
    {
      "cell_type": "code",
      "source": [
        "#칼럼 분류\n",
        "COL_DEL = []\n",
        "COL_NUM = ['alpha','delta', 'u', 'g', 'r', 'i', 'z','redshift']\n",
        "COL_CAT = ['run_ID','rerun_ID', 'cam_col', 'field_ID', 'plate', 'redshift_upper3']\n",
        "COL_Y = ['galaxy']\n",
        "\n",
        "#X_train 데이터프레임에서 명목형 변수 -> 문자열 형식으로 변환\n",
        "#훈련 데이터와 테스트 데이터가 동일한 데이터 형식을 가지게 됨.\n",
        "X_train[COL_CAT] = X_train[COL_CAT].astype(str)\n",
        "X_test[COL_CAT] = X_test[COL_CAT].astype(str)\n",
        "\n",
        "#데이터프레임에서 COL_DEL 리스트에 포함된 열들을 제거\n",
        "X_train = X_train.drop(COL_DEL, axis=1)\n",
        "X_test = X_test.drop(COL_DEL, axis=1)"
      ],
      "metadata": {
        "id": "GKifLPaDlOUe"
      },
      "execution_count": 7,
      "outputs": []
    },
    {
      "cell_type": "code",
      "source": [
        "#수치형 변수 살펴보기\n",
        "#X_train 데이터프레임과 y_train 열을 수평으로 연결-> 새로운 데이터프레임 train_df를 생성\n",
        "train_df = pd.concat([X_train, y_train], axis=1)\n",
        "\n",
        "#COL_NUM 리스트에 있는 숫자 형식 열의 이름을 하나씩 반복\n",
        "for _col in COL_NUM:\n",
        "    print('-'*80)\n",
        "    print(_col)\n",
        "    print(train_df.groupby(COL_Y)[_col].describe(), end='\\n\\n')\n",
        "#수치형 변수 중에서는 redshift가 가장 의미 있어 보임.\n",
        "#why? 평균만 봐도 다른 변수들에 비해 차이가 많이 남."
      ],
      "metadata": {
        "colab": {
          "base_uri": "https://localhost:8080/"
        },
        "id": "jlO2KgRQ7YEp",
        "outputId": "0e927dbf-75fc-4d8a-df62-ce4dac60a6c3"
      },
      "execution_count": 8,
      "outputs": [
        {
          "output_type": "stream",
          "name": "stdout",
          "text": [
            "--------------------------------------------------------------------------------\n",
            "alpha\n",
            "          count        mean        std       min         25%         50%  \\\n",
            "galaxy                                                                     \n",
            "0       28433.0  177.234737  99.202036  0.010959  120.997187  180.253146   \n",
            "1       41566.0  177.740638  94.579769  0.005528  131.392267  181.032298   \n",
            "\n",
            "               75%         max  \n",
            "galaxy                          \n",
            "0       239.025694  359.999615  \n",
            "1       231.397544  359.989386  \n",
            "\n",
            "--------------------------------------------------------------------------------\n",
            "delta\n",
            "          count       mean        std        min       25%        50%  \\\n",
            "galaxy                                                                  \n",
            "0       28433.0  25.067356  20.141007 -18.785328  5.060842  26.372836   \n",
            "1       41566.0  23.452158  19.305416 -12.364701  5.136824  22.255904   \n",
            "\n",
            "              75%        max  \n",
            "galaxy                        \n",
            "0       41.762988  82.947622  \n",
            "1       37.855667  77.615588  \n",
            "\n",
            "--------------------------------------------------------------------------------\n",
            "u\n",
            "          count      mean       std       min        25%        50%  \\\n",
            "galaxy                                                                \n",
            "0       28433.0  21.34313  2.010059  10.99623  19.987270  21.355940   \n",
            "1       41566.0  22.58736  2.263188  13.89799  20.786442  22.847385   \n",
            "\n",
            "              75%       max  \n",
            "galaxy                       \n",
            "0       22.548860  32.78139  \n",
            "1       24.207522  29.32565  \n",
            "\n",
            "--------------------------------------------------------------------------------\n",
            "g\n",
            "          count       mean       std       min       25%        50%  \\\n",
            "galaxy                                                                \n",
            "0       28433.0  20.231791  1.851996  10.49820  19.00707  20.579190   \n",
            "1       41566.0  20.902150  2.106089  12.68849  18.90630  21.581005   \n",
            "\n",
            "              75%       max  \n",
            "galaxy                       \n",
            "0       21.533270  30.60700  \n",
            "1       22.439442  31.60224  \n",
            "\n",
            "--------------------------------------------------------------------------------\n",
            "r\n",
            "          count       mean       std       min        25%       50%  \\\n",
            "galaxy                                                                \n",
            "0       28433.0  19.734722  1.818405   9.82207  18.541890  20.15357   \n",
            "1       41566.0  19.581995  1.872222  11.77229  17.812303  20.10107   \n",
            "\n",
            "              75%       max  \n",
            "galaxy                       \n",
            "0       21.125780  29.37411  \n",
            "1       20.963275  29.57186  \n",
            "\n",
            "--------------------------------------------------------------------------------\n",
            "i\n",
            "          count       mean       std        min        25%        50%  \\\n",
            "galaxy                                                                  \n",
            "0       28433.0  19.429044  1.795189   9.469903  18.254250  19.831600   \n",
            "1       41566.0  18.846264  1.688337  11.319370  17.377382  19.217675   \n",
            "\n",
            "              75%       max  \n",
            "galaxy                       \n",
            "0       20.825140  32.14147  \n",
            "1       19.934773  30.16359  \n",
            "\n",
            "--------------------------------------------------------------------------------\n",
            "z\n",
            "          count       mean       std        min       25%       50%  \\\n",
            "galaxy                                                                \n",
            "0       28433.0  19.240711  1.811976   9.612333  18.03419  19.61244   \n",
            "1       41566.0  18.444141  1.655606  10.897380  17.09492  18.76067   \n",
            "\n",
            "              75%       max  \n",
            "galaxy                       \n",
            "0       20.627150  28.79055  \n",
            "1       19.463442  28.23829  \n",
            "\n",
            "--------------------------------------------------------------------------------\n",
            "redshift\n",
            "          count      mean       std       min       25%       50%       75%  \\\n",
            "galaxy                                                                        \n",
            "0       28433.0  0.801073  1.060163 -0.004136 -0.000095  0.000388  1.540357   \n",
            "1       41566.0  0.420785  0.263971 -0.009971  0.164568  0.456604  0.593396   \n",
            "\n",
            "             max  \n",
            "galaxy            \n",
            "0       7.011245  \n",
            "1       1.995524  \n",
            "\n"
          ]
        }
      ]
    },
    {
      "cell_type": "code",
      "source": [
        "#명목형 변수 살펴보기\n",
        "for _col in COL_CAT:\n",
        "    print(train_df.groupby(_col, as_index=False)[COL_Y].mean().sort_values(by=COL_Y, ascending=False), end='\\n\\n')\n",
        "#범주형 변수 중 유의미한 변수: cam_col, redshift_upper3\n",
        "#why? 이 두 변수의 값만 0과 1이 아니고 다른 값을 가짐."
      ],
      "metadata": {
        "colab": {
          "base_uri": "https://localhost:8080/"
        },
        "id": "H-GlQMCBCJtx",
        "outputId": "657862f2-b240-434c-ac93-0e5114be6ad7"
      },
      "execution_count": 9,
      "outputs": [
        {
          "output_type": "stream",
          "name": "stdout",
          "text": [
            "    run_ID  galaxy\n",
            "97    2883     1.0\n",
            "325   6121     1.0\n",
            "399   8054     1.0\n",
            "38    1897     1.0\n",
            "245   4800     1.0\n",
            "..     ...     ...\n",
            "292   5378     0.0\n",
            "279   5237     0.0\n",
            "268   5115     0.0\n",
            "261   5060     0.0\n",
            "424    994     0.0\n",
            "\n",
            "[425 rows x 2 columns]\n",
            "\n",
            "  rerun_ID    galaxy\n",
            "0      301  0.593808\n",
            "\n",
            "  cam_col    galaxy\n",
            "0       1  0.619151\n",
            "3       4  0.612120\n",
            "4       5  0.610490\n",
            "2       3  0.593031\n",
            "1       2  0.583152\n",
            "5       6  0.530405\n",
            "\n",
            "    field_ID  galaxy\n",
            "676      717     1.0\n",
            "750      788     1.0\n",
            "667      708     1.0\n",
            "704      746     1.0\n",
            "706      748     1.0\n",
            "..       ...     ...\n",
            "830      934     0.0\n",
            "829      933     0.0\n",
            "828      932     0.0\n",
            "827      931     0.0\n",
            "835      940     0.0\n",
            "\n",
            "[847 rows x 2 columns]\n",
            "\n",
            "     plate  galaxy\n",
            "6186   999     1.0\n",
            "4292  6417     1.0\n",
            "4263  6388     1.0\n",
            "4264  6389     1.0\n",
            "1082  1900     1.0\n",
            "...    ...     ...\n",
            "1653  2560     0.0\n",
            "1655  2563     0.0\n",
            "1656  2564     0.0\n",
            "3569  5343     0.0\n",
            "1073  1891     0.0\n",
            "\n",
            "[6187 rows x 2 columns]\n",
            "\n",
            "  redshift_upper3    galaxy\n",
            "0               0  0.601125\n",
            "1               1  0.000000\n",
            "\n"
          ]
        }
      ]
    },
    {
      "cell_type": "code",
      "source": [
        "#명목형 변수들 인코딩\n",
        "from sklearn.preprocessing import LabelEncoder\n",
        "#X_train과 X_test를 연결시킨 새로운 데이터프레임 X를 생성\n",
        "X = pd.concat([X_train, X_test])\n",
        "#명목형 변수들을 for문을 활용하여 차례대로 불러옴.\n",
        "for _col in COL_CAT:\n",
        "    #LabelEncoder 함수 정의\n",
        "    le = LabelEncoder()\n",
        "    #X data를 함수에 맞춤\n",
        "    le.fit(X[_col])\n",
        "    #transform 메서드를 호출하면 _col 열의 각 범주값이 해당 범주에 대한 정수로 변환됨.\n",
        "    X_train[_col] = le.transform(X_train[_col])\n",
        "    X_test[_col] = le.transform(X_test[_col])"
      ],
      "metadata": {
        "id": "qnshPP2kFX9j"
      },
      "execution_count": 10,
      "outputs": []
    },
    {
      "cell_type": "code",
      "source": [
        "#훈련, 검증 데이터 분할하기\n",
        "from sklearn.model_selection import train_test_split\n",
        "X_tr, X_val, y_tr, y_val = train_test_split(X_train, y_train, test_size=0.3, stratify=y_train)\n",
        "#stratify 매개변수를 사용하여 클래스 불균형을 고려-> 각 세트가 클래스 비율을 정확하게 반영되어 모델이 편향되거나 일반화되지 않도록 도움"
      ],
      "metadata": {
        "id": "MDf3wUIsGf2D"
      },
      "execution_count": 11,
      "outputs": []
    },
    {
      "cell_type": "code",
      "source": [
        "#Standard Scaler 함수를 활용하여 데이터 표준화하기\n",
        "from sklearn.preprocessing import StandardScaler\n",
        "\n",
        "scaler = StandardScaler()\n",
        "X_tr[COL_NUM] = scaler.fit_transform(X_tr[COL_NUM])\n",
        "X_val[COL_NUM] = scaler.fit_transform(X_val[COL_NUM])\n",
        "X_test[COL_NUM] = scaler.fit_transform(X_test[COL_NUM])\n",
        "\n",
        "#X_tr, X_val, y_tr, y_val: train_test_split 함수의 결과로, 훈련,검증 세트를 나타내는 네 개의 데이터 집합을 생성\n",
        "#X_tr: 훈련 세트의 피처 데이터/ X_val: 검증 세트의 피처 데이터/ y_tr: 훈련 세트의 목표 변수 데이터\n",
        "#y_val: 검증 세트의 목표 변수 데이터, 검증 세트는 모델의 성능을 평가하고 모델을 튜닝하는데 사용됨.\n",
        "#모델이 과적합되지 않고 일반화 능력을 가지는지 확인할 수 있음."
      ],
      "metadata": {
        "id": "UT-EAzLYHOo8"
      },
      "execution_count": 12,
      "outputs": []
    },
    {
      "cell_type": "code",
      "source": [
        "from sklearn.ensemble import RandomForestClassifier\n",
        "model_rf = RandomForestClassifier()\n",
        "model_rf.fit(X_tr, y_tr.values.ravel())"
      ],
      "metadata": {
        "colab": {
          "base_uri": "https://localhost:8080/",
          "height": 74
        },
        "id": "KYJwxu59OpYg",
        "outputId": "97c5d75b-e5f1-46cf-e71f-95a93a836d66"
      },
      "execution_count": 13,
      "outputs": [
        {
          "output_type": "execute_result",
          "data": {
            "text/plain": [
              "RandomForestClassifier()"
            ],
            "text/html": [
              "<style>#sk-container-id-1 {color: black;background-color: white;}#sk-container-id-1 pre{padding: 0;}#sk-container-id-1 div.sk-toggleable {background-color: white;}#sk-container-id-1 label.sk-toggleable__label {cursor: pointer;display: block;width: 100%;margin-bottom: 0;padding: 0.3em;box-sizing: border-box;text-align: center;}#sk-container-id-1 label.sk-toggleable__label-arrow:before {content: \"▸\";float: left;margin-right: 0.25em;color: #696969;}#sk-container-id-1 label.sk-toggleable__label-arrow:hover:before {color: black;}#sk-container-id-1 div.sk-estimator:hover label.sk-toggleable__label-arrow:before {color: black;}#sk-container-id-1 div.sk-toggleable__content {max-height: 0;max-width: 0;overflow: hidden;text-align: left;background-color: #f0f8ff;}#sk-container-id-1 div.sk-toggleable__content pre {margin: 0.2em;color: black;border-radius: 0.25em;background-color: #f0f8ff;}#sk-container-id-1 input.sk-toggleable__control:checked~div.sk-toggleable__content {max-height: 200px;max-width: 100%;overflow: auto;}#sk-container-id-1 input.sk-toggleable__control:checked~label.sk-toggleable__label-arrow:before {content: \"▾\";}#sk-container-id-1 div.sk-estimator input.sk-toggleable__control:checked~label.sk-toggleable__label {background-color: #d4ebff;}#sk-container-id-1 div.sk-label input.sk-toggleable__control:checked~label.sk-toggleable__label {background-color: #d4ebff;}#sk-container-id-1 input.sk-hidden--visually {border: 0;clip: rect(1px 1px 1px 1px);clip: rect(1px, 1px, 1px, 1px);height: 1px;margin: -1px;overflow: hidden;padding: 0;position: absolute;width: 1px;}#sk-container-id-1 div.sk-estimator {font-family: monospace;background-color: #f0f8ff;border: 1px dotted black;border-radius: 0.25em;box-sizing: border-box;margin-bottom: 0.5em;}#sk-container-id-1 div.sk-estimator:hover {background-color: #d4ebff;}#sk-container-id-1 div.sk-parallel-item::after {content: \"\";width: 100%;border-bottom: 1px solid gray;flex-grow: 1;}#sk-container-id-1 div.sk-label:hover label.sk-toggleable__label {background-color: #d4ebff;}#sk-container-id-1 div.sk-serial::before {content: \"\";position: absolute;border-left: 1px solid gray;box-sizing: border-box;top: 0;bottom: 0;left: 50%;z-index: 0;}#sk-container-id-1 div.sk-serial {display: flex;flex-direction: column;align-items: center;background-color: white;padding-right: 0.2em;padding-left: 0.2em;position: relative;}#sk-container-id-1 div.sk-item {position: relative;z-index: 1;}#sk-container-id-1 div.sk-parallel {display: flex;align-items: stretch;justify-content: center;background-color: white;position: relative;}#sk-container-id-1 div.sk-item::before, #sk-container-id-1 div.sk-parallel-item::before {content: \"\";position: absolute;border-left: 1px solid gray;box-sizing: border-box;top: 0;bottom: 0;left: 50%;z-index: -1;}#sk-container-id-1 div.sk-parallel-item {display: flex;flex-direction: column;z-index: 1;position: relative;background-color: white;}#sk-container-id-1 div.sk-parallel-item:first-child::after {align-self: flex-end;width: 50%;}#sk-container-id-1 div.sk-parallel-item:last-child::after {align-self: flex-start;width: 50%;}#sk-container-id-1 div.sk-parallel-item:only-child::after {width: 0;}#sk-container-id-1 div.sk-dashed-wrapped {border: 1px dashed gray;margin: 0 0.4em 0.5em 0.4em;box-sizing: border-box;padding-bottom: 0.4em;background-color: white;}#sk-container-id-1 div.sk-label label {font-family: monospace;font-weight: bold;display: inline-block;line-height: 1.2em;}#sk-container-id-1 div.sk-label-container {text-align: center;}#sk-container-id-1 div.sk-container {/* jupyter's `normalize.less` sets `[hidden] { display: none; }` but bootstrap.min.css set `[hidden] { display: none !important; }` so we also need the `!important` here to be able to override the default hidden behavior on the sphinx rendered scikit-learn.org. See: https://github.com/scikit-learn/scikit-learn/issues/21755 */display: inline-block !important;position: relative;}#sk-container-id-1 div.sk-text-repr-fallback {display: none;}</style><div id=\"sk-container-id-1\" class=\"sk-top-container\"><div class=\"sk-text-repr-fallback\"><pre>RandomForestClassifier()</pre><b>In a Jupyter environment, please rerun this cell to show the HTML representation or trust the notebook. <br />On GitHub, the HTML representation is unable to render, please try loading this page with nbviewer.org.</b></div><div class=\"sk-container\" hidden><div class=\"sk-item\"><div class=\"sk-estimator sk-toggleable\"><input class=\"sk-toggleable__control sk-hidden--visually\" id=\"sk-estimator-id-1\" type=\"checkbox\" checked><label for=\"sk-estimator-id-1\" class=\"sk-toggleable__label sk-toggleable__label-arrow\">RandomForestClassifier</label><div class=\"sk-toggleable__content\"><pre>RandomForestClassifier()</pre></div></div></div></div></div>"
            ]
          },
          "metadata": {},
          "execution_count": 13
        }
      ]
    },
    {
      "cell_type": "code",
      "source": [
        "from xgboost import XGBClassifier\n",
        "model_xgb1 = XGBClassifier()\n",
        "model_xgb1.fit(X_tr, y_tr.values.ravel())"
      ],
      "metadata": {
        "colab": {
          "base_uri": "https://localhost:8080/",
          "height": 247
        },
        "id": "tfSudoJMR4-r",
        "outputId": "1a50d2af-e942-48da-834d-ca89e244c7f8"
      },
      "execution_count": 14,
      "outputs": [
        {
          "output_type": "execute_result",
          "data": {
            "text/plain": [
              "XGBClassifier(base_score=None, booster=None, callbacks=None,\n",
              "              colsample_bylevel=None, colsample_bynode=None,\n",
              "              colsample_bytree=None, device=None, early_stopping_rounds=None,\n",
              "              enable_categorical=False, eval_metric=None, feature_types=None,\n",
              "              gamma=None, grow_policy=None, importance_type=None,\n",
              "              interaction_constraints=None, learning_rate=None, max_bin=None,\n",
              "              max_cat_threshold=None, max_cat_to_onehot=None,\n",
              "              max_delta_step=None, max_depth=None, max_leaves=None,\n",
              "              min_child_weight=None, missing=nan, monotone_constraints=None,\n",
              "              multi_strategy=None, n_estimators=None, n_jobs=None,\n",
              "              num_parallel_tree=None, random_state=None, ...)"
            ],
            "text/html": [
              "<style>#sk-container-id-2 {color: black;background-color: white;}#sk-container-id-2 pre{padding: 0;}#sk-container-id-2 div.sk-toggleable {background-color: white;}#sk-container-id-2 label.sk-toggleable__label {cursor: pointer;display: block;width: 100%;margin-bottom: 0;padding: 0.3em;box-sizing: border-box;text-align: center;}#sk-container-id-2 label.sk-toggleable__label-arrow:before {content: \"▸\";float: left;margin-right: 0.25em;color: #696969;}#sk-container-id-2 label.sk-toggleable__label-arrow:hover:before {color: black;}#sk-container-id-2 div.sk-estimator:hover label.sk-toggleable__label-arrow:before {color: black;}#sk-container-id-2 div.sk-toggleable__content {max-height: 0;max-width: 0;overflow: hidden;text-align: left;background-color: #f0f8ff;}#sk-container-id-2 div.sk-toggleable__content pre {margin: 0.2em;color: black;border-radius: 0.25em;background-color: #f0f8ff;}#sk-container-id-2 input.sk-toggleable__control:checked~div.sk-toggleable__content {max-height: 200px;max-width: 100%;overflow: auto;}#sk-container-id-2 input.sk-toggleable__control:checked~label.sk-toggleable__label-arrow:before {content: \"▾\";}#sk-container-id-2 div.sk-estimator input.sk-toggleable__control:checked~label.sk-toggleable__label {background-color: #d4ebff;}#sk-container-id-2 div.sk-label input.sk-toggleable__control:checked~label.sk-toggleable__label {background-color: #d4ebff;}#sk-container-id-2 input.sk-hidden--visually {border: 0;clip: rect(1px 1px 1px 1px);clip: rect(1px, 1px, 1px, 1px);height: 1px;margin: -1px;overflow: hidden;padding: 0;position: absolute;width: 1px;}#sk-container-id-2 div.sk-estimator {font-family: monospace;background-color: #f0f8ff;border: 1px dotted black;border-radius: 0.25em;box-sizing: border-box;margin-bottom: 0.5em;}#sk-container-id-2 div.sk-estimator:hover {background-color: #d4ebff;}#sk-container-id-2 div.sk-parallel-item::after {content: \"\";width: 100%;border-bottom: 1px solid gray;flex-grow: 1;}#sk-container-id-2 div.sk-label:hover label.sk-toggleable__label {background-color: #d4ebff;}#sk-container-id-2 div.sk-serial::before {content: \"\";position: absolute;border-left: 1px solid gray;box-sizing: border-box;top: 0;bottom: 0;left: 50%;z-index: 0;}#sk-container-id-2 div.sk-serial {display: flex;flex-direction: column;align-items: center;background-color: white;padding-right: 0.2em;padding-left: 0.2em;position: relative;}#sk-container-id-2 div.sk-item {position: relative;z-index: 1;}#sk-container-id-2 div.sk-parallel {display: flex;align-items: stretch;justify-content: center;background-color: white;position: relative;}#sk-container-id-2 div.sk-item::before, #sk-container-id-2 div.sk-parallel-item::before {content: \"\";position: absolute;border-left: 1px solid gray;box-sizing: border-box;top: 0;bottom: 0;left: 50%;z-index: -1;}#sk-container-id-2 div.sk-parallel-item {display: flex;flex-direction: column;z-index: 1;position: relative;background-color: white;}#sk-container-id-2 div.sk-parallel-item:first-child::after {align-self: flex-end;width: 50%;}#sk-container-id-2 div.sk-parallel-item:last-child::after {align-self: flex-start;width: 50%;}#sk-container-id-2 div.sk-parallel-item:only-child::after {width: 0;}#sk-container-id-2 div.sk-dashed-wrapped {border: 1px dashed gray;margin: 0 0.4em 0.5em 0.4em;box-sizing: border-box;padding-bottom: 0.4em;background-color: white;}#sk-container-id-2 div.sk-label label {font-family: monospace;font-weight: bold;display: inline-block;line-height: 1.2em;}#sk-container-id-2 div.sk-label-container {text-align: center;}#sk-container-id-2 div.sk-container {/* jupyter's `normalize.less` sets `[hidden] { display: none; }` but bootstrap.min.css set `[hidden] { display: none !important; }` so we also need the `!important` here to be able to override the default hidden behavior on the sphinx rendered scikit-learn.org. See: https://github.com/scikit-learn/scikit-learn/issues/21755 */display: inline-block !important;position: relative;}#sk-container-id-2 div.sk-text-repr-fallback {display: none;}</style><div id=\"sk-container-id-2\" class=\"sk-top-container\"><div class=\"sk-text-repr-fallback\"><pre>XGBClassifier(base_score=None, booster=None, callbacks=None,\n",
              "              colsample_bylevel=None, colsample_bynode=None,\n",
              "              colsample_bytree=None, device=None, early_stopping_rounds=None,\n",
              "              enable_categorical=False, eval_metric=None, feature_types=None,\n",
              "              gamma=None, grow_policy=None, importance_type=None,\n",
              "              interaction_constraints=None, learning_rate=None, max_bin=None,\n",
              "              max_cat_threshold=None, max_cat_to_onehot=None,\n",
              "              max_delta_step=None, max_depth=None, max_leaves=None,\n",
              "              min_child_weight=None, missing=nan, monotone_constraints=None,\n",
              "              multi_strategy=None, n_estimators=None, n_jobs=None,\n",
              "              num_parallel_tree=None, random_state=None, ...)</pre><b>In a Jupyter environment, please rerun this cell to show the HTML representation or trust the notebook. <br />On GitHub, the HTML representation is unable to render, please try loading this page with nbviewer.org.</b></div><div class=\"sk-container\" hidden><div class=\"sk-item\"><div class=\"sk-estimator sk-toggleable\"><input class=\"sk-toggleable__control sk-hidden--visually\" id=\"sk-estimator-id-2\" type=\"checkbox\" checked><label for=\"sk-estimator-id-2\" class=\"sk-toggleable__label sk-toggleable__label-arrow\">XGBClassifier</label><div class=\"sk-toggleable__content\"><pre>XGBClassifier(base_score=None, booster=None, callbacks=None,\n",
              "              colsample_bylevel=None, colsample_bynode=None,\n",
              "              colsample_bytree=None, device=None, early_stopping_rounds=None,\n",
              "              enable_categorical=False, eval_metric=None, feature_types=None,\n",
              "              gamma=None, grow_policy=None, importance_type=None,\n",
              "              interaction_constraints=None, learning_rate=None, max_bin=None,\n",
              "              max_cat_threshold=None, max_cat_to_onehot=None,\n",
              "              max_delta_step=None, max_depth=None, max_leaves=None,\n",
              "              min_child_weight=None, missing=nan, monotone_constraints=None,\n",
              "              multi_strategy=None, n_estimators=None, n_jobs=None,\n",
              "              num_parallel_tree=None, random_state=None, ...)</pre></div></div></div></div></div>"
            ]
          },
          "metadata": {},
          "execution_count": 14
        }
      ]
    },
    {
      "cell_type": "code",
      "source": [
        "from sklearn.metrics import roc_auc_score\n",
        "y_pred_rf = model_rf.predict_proba(X_val)\n",
        "y_pred_xgb1 = model_xgb1.predict_proba(X_val)\n",
        "\n",
        "score_rf = roc_auc_score(y_val, y_pred_rf[:,1])\n",
        "score_xgb1 = roc_auc_score(y_val, y_pred_xgb1[:,1])\n",
        "\n",
        "print(score_rf)\n",
        "print(score_xgb1)"
      ],
      "metadata": {
        "colab": {
          "base_uri": "https://localhost:8080/"
        },
        "id": "tkjKI05hSts8",
        "outputId": "510e9495-492d-4853-a191-4c5131ab0563"
      },
      "execution_count": 15,
      "outputs": [
        {
          "output_type": "stream",
          "name": "stdout",
          "text": [
            "0.9719101035921145\n",
            "0.8131643353191859\n"
          ]
        }
      ]
    },
    {
      "cell_type": "code",
      "source": [
        "pd.DataFrame({'feature':X_tr.columns, 'fi_rf':model_rf.feature_importances_,'fi_xgb':model_xgb1.feature_importances_})"
      ],
      "metadata": {
        "colab": {
          "base_uri": "https://localhost:8080/",
          "height": 488
        },
        "id": "Aidaf_VNT-eP",
        "outputId": "b650656a-75e8-4db0-aea3-5b4a6135554a"
      },
      "execution_count": 16,
      "outputs": [
        {
          "output_type": "execute_result",
          "data": {
            "text/plain": [
              "            feature     fi_rf    fi_xgb\n",
              "0             alpha  0.016444  0.009727\n",
              "1             delta  0.015496  0.011454\n",
              "2                 u  0.072099  0.022947\n",
              "3                 g  0.076643  0.090958\n",
              "4                 r  0.045621  0.013915\n",
              "5                 i  0.064344  0.018972\n",
              "6                 z  0.111875  0.040531\n",
              "7          redshift  0.520376  0.742644\n",
              "8            run_ID  0.010731  0.010102\n",
              "9          rerun_ID  0.000000  0.000000\n",
              "10          cam_col  0.003935  0.010423\n",
              "11         field_ID  0.008740  0.009583\n",
              "12            plate  0.045445  0.018744\n",
              "13  redshift_upper3  0.008252  0.000000"
            ],
            "text/html": [
              "\n",
              "  <div id=\"df-96e3ca8d-ef7e-4146-846f-58e18b312d61\" class=\"colab-df-container\">\n",
              "    <div>\n",
              "<style scoped>\n",
              "    .dataframe tbody tr th:only-of-type {\n",
              "        vertical-align: middle;\n",
              "    }\n",
              "\n",
              "    .dataframe tbody tr th {\n",
              "        vertical-align: top;\n",
              "    }\n",
              "\n",
              "    .dataframe thead th {\n",
              "        text-align: right;\n",
              "    }\n",
              "</style>\n",
              "<table border=\"1\" class=\"dataframe\">\n",
              "  <thead>\n",
              "    <tr style=\"text-align: right;\">\n",
              "      <th></th>\n",
              "      <th>feature</th>\n",
              "      <th>fi_rf</th>\n",
              "      <th>fi_xgb</th>\n",
              "    </tr>\n",
              "  </thead>\n",
              "  <tbody>\n",
              "    <tr>\n",
              "      <th>0</th>\n",
              "      <td>alpha</td>\n",
              "      <td>0.016444</td>\n",
              "      <td>0.009727</td>\n",
              "    </tr>\n",
              "    <tr>\n",
              "      <th>1</th>\n",
              "      <td>delta</td>\n",
              "      <td>0.015496</td>\n",
              "      <td>0.011454</td>\n",
              "    </tr>\n",
              "    <tr>\n",
              "      <th>2</th>\n",
              "      <td>u</td>\n",
              "      <td>0.072099</td>\n",
              "      <td>0.022947</td>\n",
              "    </tr>\n",
              "    <tr>\n",
              "      <th>3</th>\n",
              "      <td>g</td>\n",
              "      <td>0.076643</td>\n",
              "      <td>0.090958</td>\n",
              "    </tr>\n",
              "    <tr>\n",
              "      <th>4</th>\n",
              "      <td>r</td>\n",
              "      <td>0.045621</td>\n",
              "      <td>0.013915</td>\n",
              "    </tr>\n",
              "    <tr>\n",
              "      <th>5</th>\n",
              "      <td>i</td>\n",
              "      <td>0.064344</td>\n",
              "      <td>0.018972</td>\n",
              "    </tr>\n",
              "    <tr>\n",
              "      <th>6</th>\n",
              "      <td>z</td>\n",
              "      <td>0.111875</td>\n",
              "      <td>0.040531</td>\n",
              "    </tr>\n",
              "    <tr>\n",
              "      <th>7</th>\n",
              "      <td>redshift</td>\n",
              "      <td>0.520376</td>\n",
              "      <td>0.742644</td>\n",
              "    </tr>\n",
              "    <tr>\n",
              "      <th>8</th>\n",
              "      <td>run_ID</td>\n",
              "      <td>0.010731</td>\n",
              "      <td>0.010102</td>\n",
              "    </tr>\n",
              "    <tr>\n",
              "      <th>9</th>\n",
              "      <td>rerun_ID</td>\n",
              "      <td>0.000000</td>\n",
              "      <td>0.000000</td>\n",
              "    </tr>\n",
              "    <tr>\n",
              "      <th>10</th>\n",
              "      <td>cam_col</td>\n",
              "      <td>0.003935</td>\n",
              "      <td>0.010423</td>\n",
              "    </tr>\n",
              "    <tr>\n",
              "      <th>11</th>\n",
              "      <td>field_ID</td>\n",
              "      <td>0.008740</td>\n",
              "      <td>0.009583</td>\n",
              "    </tr>\n",
              "    <tr>\n",
              "      <th>12</th>\n",
              "      <td>plate</td>\n",
              "      <td>0.045445</td>\n",
              "      <td>0.018744</td>\n",
              "    </tr>\n",
              "    <tr>\n",
              "      <th>13</th>\n",
              "      <td>redshift_upper3</td>\n",
              "      <td>0.008252</td>\n",
              "      <td>0.000000</td>\n",
              "    </tr>\n",
              "  </tbody>\n",
              "</table>\n",
              "</div>\n",
              "    <div class=\"colab-df-buttons\">\n",
              "\n",
              "  <div class=\"colab-df-container\">\n",
              "    <button class=\"colab-df-convert\" onclick=\"convertToInteractive('df-96e3ca8d-ef7e-4146-846f-58e18b312d61')\"\n",
              "            title=\"Convert this dataframe to an interactive table.\"\n",
              "            style=\"display:none;\">\n",
              "\n",
              "  <svg xmlns=\"http://www.w3.org/2000/svg\" height=\"24px\" viewBox=\"0 -960 960 960\">\n",
              "    <path d=\"M120-120v-720h720v720H120Zm60-500h600v-160H180v160Zm220 220h160v-160H400v160Zm0 220h160v-160H400v160ZM180-400h160v-160H180v160Zm440 0h160v-160H620v160ZM180-180h160v-160H180v160Zm440 0h160v-160H620v160Z\"/>\n",
              "  </svg>\n",
              "    </button>\n",
              "\n",
              "  <style>\n",
              "    .colab-df-container {\n",
              "      display:flex;\n",
              "      gap: 12px;\n",
              "    }\n",
              "\n",
              "    .colab-df-convert {\n",
              "      background-color: #E8F0FE;\n",
              "      border: none;\n",
              "      border-radius: 50%;\n",
              "      cursor: pointer;\n",
              "      display: none;\n",
              "      fill: #1967D2;\n",
              "      height: 32px;\n",
              "      padding: 0 0 0 0;\n",
              "      width: 32px;\n",
              "    }\n",
              "\n",
              "    .colab-df-convert:hover {\n",
              "      background-color: #E2EBFA;\n",
              "      box-shadow: 0px 1px 2px rgba(60, 64, 67, 0.3), 0px 1px 3px 1px rgba(60, 64, 67, 0.15);\n",
              "      fill: #174EA6;\n",
              "    }\n",
              "\n",
              "    .colab-df-buttons div {\n",
              "      margin-bottom: 4px;\n",
              "    }\n",
              "\n",
              "    [theme=dark] .colab-df-convert {\n",
              "      background-color: #3B4455;\n",
              "      fill: #D2E3FC;\n",
              "    }\n",
              "\n",
              "    [theme=dark] .colab-df-convert:hover {\n",
              "      background-color: #434B5C;\n",
              "      box-shadow: 0px 1px 3px 1px rgba(0, 0, 0, 0.15);\n",
              "      filter: drop-shadow(0px 1px 2px rgba(0, 0, 0, 0.3));\n",
              "      fill: #FFFFFF;\n",
              "    }\n",
              "  </style>\n",
              "\n",
              "    <script>\n",
              "      const buttonEl =\n",
              "        document.querySelector('#df-96e3ca8d-ef7e-4146-846f-58e18b312d61 button.colab-df-convert');\n",
              "      buttonEl.style.display =\n",
              "        google.colab.kernel.accessAllowed ? 'block' : 'none';\n",
              "\n",
              "      async function convertToInteractive(key) {\n",
              "        const element = document.querySelector('#df-96e3ca8d-ef7e-4146-846f-58e18b312d61');\n",
              "        const dataTable =\n",
              "          await google.colab.kernel.invokeFunction('convertToInteractive',\n",
              "                                                    [key], {});\n",
              "        if (!dataTable) return;\n",
              "\n",
              "        const docLinkHtml = 'Like what you see? Visit the ' +\n",
              "          '<a target=\"_blank\" href=https://colab.research.google.com/notebooks/data_table.ipynb>data table notebook</a>'\n",
              "          + ' to learn more about interactive tables.';\n",
              "        element.innerHTML = '';\n",
              "        dataTable['output_type'] = 'display_data';\n",
              "        await google.colab.output.renderOutput(dataTable, element);\n",
              "        const docLink = document.createElement('div');\n",
              "        docLink.innerHTML = docLinkHtml;\n",
              "        element.appendChild(docLink);\n",
              "      }\n",
              "    </script>\n",
              "  </div>\n",
              "\n",
              "\n",
              "<div id=\"df-7e24a264-0fb9-4525-9fa0-653ced603b99\">\n",
              "  <button class=\"colab-df-quickchart\" onclick=\"quickchart('df-7e24a264-0fb9-4525-9fa0-653ced603b99')\"\n",
              "            title=\"Suggest charts.\"\n",
              "            style=\"display:none;\">\n",
              "\n",
              "<svg xmlns=\"http://www.w3.org/2000/svg\" height=\"24px\"viewBox=\"0 0 24 24\"\n",
              "     width=\"24px\">\n",
              "    <g>\n",
              "        <path d=\"M19 3H5c-1.1 0-2 .9-2 2v14c0 1.1.9 2 2 2h14c1.1 0 2-.9 2-2V5c0-1.1-.9-2-2-2zM9 17H7v-7h2v7zm4 0h-2V7h2v10zm4 0h-2v-4h2v4z\"/>\n",
              "    </g>\n",
              "</svg>\n",
              "  </button>\n",
              "\n",
              "<style>\n",
              "  .colab-df-quickchart {\n",
              "      --bg-color: #E8F0FE;\n",
              "      --fill-color: #1967D2;\n",
              "      --hover-bg-color: #E2EBFA;\n",
              "      --hover-fill-color: #174EA6;\n",
              "      --disabled-fill-color: #AAA;\n",
              "      --disabled-bg-color: #DDD;\n",
              "  }\n",
              "\n",
              "  [theme=dark] .colab-df-quickchart {\n",
              "      --bg-color: #3B4455;\n",
              "      --fill-color: #D2E3FC;\n",
              "      --hover-bg-color: #434B5C;\n",
              "      --hover-fill-color: #FFFFFF;\n",
              "      --disabled-bg-color: #3B4455;\n",
              "      --disabled-fill-color: #666;\n",
              "  }\n",
              "\n",
              "  .colab-df-quickchart {\n",
              "    background-color: var(--bg-color);\n",
              "    border: none;\n",
              "    border-radius: 50%;\n",
              "    cursor: pointer;\n",
              "    display: none;\n",
              "    fill: var(--fill-color);\n",
              "    height: 32px;\n",
              "    padding: 0;\n",
              "    width: 32px;\n",
              "  }\n",
              "\n",
              "  .colab-df-quickchart:hover {\n",
              "    background-color: var(--hover-bg-color);\n",
              "    box-shadow: 0 1px 2px rgba(60, 64, 67, 0.3), 0 1px 3px 1px rgba(60, 64, 67, 0.15);\n",
              "    fill: var(--button-hover-fill-color);\n",
              "  }\n",
              "\n",
              "  .colab-df-quickchart-complete:disabled,\n",
              "  .colab-df-quickchart-complete:disabled:hover {\n",
              "    background-color: var(--disabled-bg-color);\n",
              "    fill: var(--disabled-fill-color);\n",
              "    box-shadow: none;\n",
              "  }\n",
              "\n",
              "  .colab-df-spinner {\n",
              "    border: 2px solid var(--fill-color);\n",
              "    border-color: transparent;\n",
              "    border-bottom-color: var(--fill-color);\n",
              "    animation:\n",
              "      spin 1s steps(1) infinite;\n",
              "  }\n",
              "\n",
              "  @keyframes spin {\n",
              "    0% {\n",
              "      border-color: transparent;\n",
              "      border-bottom-color: var(--fill-color);\n",
              "      border-left-color: var(--fill-color);\n",
              "    }\n",
              "    20% {\n",
              "      border-color: transparent;\n",
              "      border-left-color: var(--fill-color);\n",
              "      border-top-color: var(--fill-color);\n",
              "    }\n",
              "    30% {\n",
              "      border-color: transparent;\n",
              "      border-left-color: var(--fill-color);\n",
              "      border-top-color: var(--fill-color);\n",
              "      border-right-color: var(--fill-color);\n",
              "    }\n",
              "    40% {\n",
              "      border-color: transparent;\n",
              "      border-right-color: var(--fill-color);\n",
              "      border-top-color: var(--fill-color);\n",
              "    }\n",
              "    60% {\n",
              "      border-color: transparent;\n",
              "      border-right-color: var(--fill-color);\n",
              "    }\n",
              "    80% {\n",
              "      border-color: transparent;\n",
              "      border-right-color: var(--fill-color);\n",
              "      border-bottom-color: var(--fill-color);\n",
              "    }\n",
              "    90% {\n",
              "      border-color: transparent;\n",
              "      border-bottom-color: var(--fill-color);\n",
              "    }\n",
              "  }\n",
              "</style>\n",
              "\n",
              "  <script>\n",
              "    async function quickchart(key) {\n",
              "      const quickchartButtonEl =\n",
              "        document.querySelector('#' + key + ' button');\n",
              "      quickchartButtonEl.disabled = true;  // To prevent multiple clicks.\n",
              "      quickchartButtonEl.classList.add('colab-df-spinner');\n",
              "      try {\n",
              "        const charts = await google.colab.kernel.invokeFunction(\n",
              "            'suggestCharts', [key], {});\n",
              "      } catch (error) {\n",
              "        console.error('Error during call to suggestCharts:', error);\n",
              "      }\n",
              "      quickchartButtonEl.classList.remove('colab-df-spinner');\n",
              "      quickchartButtonEl.classList.add('colab-df-quickchart-complete');\n",
              "    }\n",
              "    (() => {\n",
              "      let quickchartButtonEl =\n",
              "        document.querySelector('#df-7e24a264-0fb9-4525-9fa0-653ced603b99 button');\n",
              "      quickchartButtonEl.style.display =\n",
              "        google.colab.kernel.accessAllowed ? 'block' : 'none';\n",
              "    })();\n",
              "  </script>\n",
              "</div>\n",
              "    </div>\n",
              "  </div>\n"
            ]
          },
          "metadata": {},
          "execution_count": 16
        }
      ]
    },
    {
      "cell_type": "code",
      "source": [
        "pred = model_xgb1.predict_proba(X_test)[:,1]\n",
        "pd.DataFrame({'index':X_test.index, 'target':pred}).to_csv('./yemoonsaBigdata/res/201900460.csv', index=False)"
      ],
      "metadata": {
        "id": "G0b65lxJUrIi"
      },
      "execution_count": 17,
      "outputs": []
    }
  ]
}