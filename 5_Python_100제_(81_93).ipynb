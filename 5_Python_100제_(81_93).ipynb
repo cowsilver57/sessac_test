{
  "nbformat": 4,
  "nbformat_minor": 0,
  "metadata": {
    "colab": {
      "provenance": [],
      "authorship_tag": "ABX9TyMSASFuN5f49h7mV/IYs0DL",
      "include_colab_link": true
    },
    "kernelspec": {
      "name": "python3",
      "display_name": "Python 3"
    },
    "language_info": {
      "name": "python"
    }
  },
  "cells": [
    {
      "cell_type": "markdown",
      "metadata": {
        "id": "view-in-github",
        "colab_type": "text"
      },
      "source": [
        "<a href=\"https://colab.research.google.com/github/cowsilver57/sessac_test/blob/main/5_Python_100%EC%A0%9C_(81_93).ipynb\" target=\"_parent\"><img src=\"https://colab.research.google.com/assets/colab-badge.svg\" alt=\"Open In Colab\"/></a>"
      ]
    },
    {
      "cell_type": "code",
      "execution_count": null,
      "metadata": {
        "colab": {
          "base_uri": "https://localhost:8080/"
        },
        "id": "-eXJAXJWNJY_",
        "outputId": "bd220b1c-5318-4d10-d4c7-61b700ce3926"
      },
      "outputs": [
        {
          "output_type": "stream",
          "name": "stdout",
          "text": [
            "맨해튼 거리: 14\n"
          ]
        }
      ],
      "source": [
        "#81번 Manhattan Distance\n",
        "\n",
        "v1 = [1,3,5,2,1,5,2]\n",
        "v2 = [2,3,1,5,2,1,3]\n",
        "\n",
        "m_distance = 0\n",
        "for dim_idx in range(len(v1)):\n",
        "    sub = v1[dim_idx] - v2[dim_idx]\n",
        "    if sub < 0 :\n",
        "        m_distance += -sub\n",
        "    else:\n",
        "        m_distance += sub\n",
        "print(\"맨해튼 거리:\", m_distance)"
      ]
    },
    {
      "cell_type": "code",
      "source": [
        "#82번 Nested List 만들기\n",
        "scores = [[10,20,30],[50,60,70]]\n",
        "\n",
        "print(scores)\n",
        "print(scores[0])\n",
        "print(scores[1])\n",
        "print(scores[0][1])\n",
        "\n",
        "#83번 Nested List 원소 접근하기\n",
        "scores = [[10,20,30], [50,60,70]]\n",
        "for student_scores in scores:\n",
        "    print(student_scores)\n",
        "    for score in student_scores:\n",
        "        print(score)"
      ],
      "metadata": {
        "colab": {
          "base_uri": "https://localhost:8080/"
        },
        "id": "vqQNlt0sNedV",
        "outputId": "65478d3b-281f-4263-f857-c2d4257b8d62"
      },
      "execution_count": null,
      "outputs": [
        {
          "output_type": "stream",
          "name": "stdout",
          "text": [
            "[[10, 20, 30], [50, 60, 70]]\n",
            "[10, 20, 30]\n",
            "[50, 60, 70]\n",
            "20\n",
            "[10, 20, 30]\n",
            "10\n",
            "20\n",
            "30\n",
            "[50, 60, 70]\n",
            "50\n",
            "60\n",
            "70\n"
          ]
        }
      ]
    },
    {
      "cell_type": "code",
      "source": [
        "#84번 학생별 평균점수 구하기\n",
        "scores = [[10,15,20],[20,25,30],[30,35,40],[40,45,50]]\n",
        "\n",
        "n_class = len(scores[0])\n",
        "student_score_means = list()\n",
        "\n",
        "for student_scores in scores:\n",
        "    student_score_sum = 0\n",
        "    for score in student_scores:\n",
        "        student_score_sum += score\n",
        "    student_score_means.append(student_score_sum/n_class)\n",
        "\n",
        "print(\"학생별 평균점수:\", student_score_means)"
      ],
      "metadata": {
        "colab": {
          "base_uri": "https://localhost:8080/"
        },
        "id": "Hl0j7X9GNpKM",
        "outputId": "01641356-18d9-4ec6-a6fb-10cd00164ae0"
      },
      "execution_count": null,
      "outputs": [
        {
          "output_type": "stream",
          "name": "stdout",
          "text": [
            "학생별 평균점수: [15.0, 25.0, 35.0, 45.0]\n"
          ]
        }
      ]
    },
    {
      "cell_type": "code",
      "source": [
        "#85번 과목별 평균점수\n",
        "scores = [[10,15,20],[20,25,30],[30,35,40],[40,45,50]]\n",
        "\n",
        "n_student = len(scores)\n",
        "n_class = len(scores[0])\n",
        "\n",
        "class_score_sums, class_score_means = list(), list()\n",
        "\n",
        "for _ in range(n_class):\n",
        "    class_score_sums.append(0)\n",
        "\n",
        "for student_scores in scores:\n",
        "    for class_idx in range(n_class):\n",
        "        class_score_sums[class_idx] += student_scores[class_idx]\n",
        "print(\"각 과목별 점수 총합:\", class_score_sums)\n",
        "\n",
        "for class_idx in range(n_class):\n",
        "    class_score_means.append(class_score_sums[class_idx]/n_student)\n",
        "print(\"각 과목별 평균 점수:\", class_score_means)"
      ],
      "metadata": {
        "colab": {
          "base_uri": "https://localhost:8080/"
        },
        "id": "XMxes6AtO5aw",
        "outputId": "11834cd5-0fc3-46e7-c2f9-52b10c29b15f"
      },
      "execution_count": null,
      "outputs": [
        {
          "output_type": "stream",
          "name": "stdout",
          "text": [
            "각 과목별 점수 총합: [100, 120, 140]\n",
            "각 과목별 평균 점수: [25.0, 30.0, 35.0]\n"
          ]
        }
      ]
    },
    {
      "cell_type": "code",
      "source": [
        "#86번 Mean Subtraction\n",
        "\n",
        "scores = [[10,15,20],[20,25,30],[30,35,40],[40,45,50]]\n",
        "n_student = len(scores)\n",
        "n_class = len(scores[0])\n",
        "\n",
        "class_score_sum, class_score_mean = list(), list()\n",
        "\n",
        "for _ in range(n_class):\n",
        "    class_score_sum.append(0)\n",
        "\n",
        "for student_scores in scores:\n",
        "    for class_idx in range(n_class):\n",
        "        class_score_sum[class_idx] += student_scores[class_idx]\n",
        "for class_idx in range(n_class):\n",
        "    class_score_mean.append(class_score_sum[class_idx]/n_student)\n",
        "print(\"과목별 점수 평균:\", class_score_mean)\n",
        "\n",
        "for student_idx in range(n_student):\n",
        "    for class_idx in range(n_class):\n",
        "        scores[student_idx][class_idx] -= class_score_mean[class_idx]\n",
        "\n",
        "class_score_sum, class_score_mean = list(), list()\n",
        "\n",
        "for _ in range(n_class):\n",
        "    class_score_sum.append(0)\n",
        "\n",
        "for student_scores in scores:\n",
        "    for class_idx in range(n_class):\n",
        "        class_score_sum[class_idx] += student_scores[class_idx]\n",
        "for class_idx in range(n_class):\n",
        "    class_score_mean.append(class_score_sum[class_idx]/n_student)\n",
        "print(\"MS 후 과목별 점수 평균:\", class_score_mean)"
      ],
      "metadata": {
        "id": "ekjhB40KP4AN",
        "colab": {
          "base_uri": "https://localhost:8080/"
        },
        "outputId": "95f919aa-bfce-474b-abb9-dcad67110e27"
      },
      "execution_count": null,
      "outputs": [
        {
          "output_type": "stream",
          "name": "stdout",
          "text": [
            "과목별 점수 평균: [25.0, 30.0, 35.0]\n",
            "MS 후 과목별 점수 평균: [0.0, 0.0, 0.0]\n"
          ]
        }
      ]
    },
    {
      "cell_type": "code",
      "source": [
        "#87번 분산과 표준편차\n",
        "scores = [[10,15,20],[20,25,30],[30,35,40],[40,45,50]]\n",
        "n_student = len(scores)\n",
        "n_class = len(scores[0])\n",
        "\n",
        "class_score_sums, class_score_square_sums = list(), list()\n",
        "class_score_variance, class_score_std = list(), list()\n",
        "\n",
        "#class_score_sums, class_score_square_sums에 class_idx에 맞게 빈자리 넣어주기\n",
        "for _ in range(n_class):\n",
        "    class_score_sums.append(0)\n",
        "    class_score_square_sums.append(0)\n",
        "\n",
        "for student_scores in scores:\n",
        "    for class_idx in range(n_class):\n",
        "        class_score_sums[class_idx] += student_scores[class_idx]\n",
        "        class_score_square_sums[class_idx] += student_scores[class_idx]**2\n",
        "\n",
        "for class_idx in range(n_class):\n",
        "    mean_of_square = class_score_square_sums[class_idx] / n_student\n",
        "    square_of_mean = (class_score_sums[class_idx]/n_student)**2\n",
        "\n",
        "    variance = mean_of_square - square_of_mean\n",
        "    std = variance**0.5\n",
        "\n",
        "    class_score_variance.append(variance)\n",
        "    class_score_std.append(std)\n",
        "\n",
        "print(\"분산:\", class_score_variance)\n",
        "print(\"표준편차:\", class_score_std)"
      ],
      "metadata": {
        "colab": {
          "base_uri": "https://localhost:8080/"
        },
        "id": "lqYaCvWXR2A_",
        "outputId": "5aa835df-7af4-4759-d287-13fa66bdc07f"
      },
      "execution_count": null,
      "outputs": [
        {
          "output_type": "stream",
          "name": "stdout",
          "text": [
            "분산: [125.0, 125.0, 125.0]\n",
            "표준편차: [11.180339887498949, 11.180339887498949, 11.180339887498949]\n"
          ]
        }
      ]
    },
    {
      "cell_type": "code",
      "source": [
        "#88번 Standardization\n",
        "scores= [[10,15,20],[20,25,30],[30,35,40],[40,45,50]]\n",
        "n_student = len(scores)\n",
        "n_class= len(scores[0])\n",
        "\n",
        "class_score_sums, class_score_square_sums = list(), list()\n",
        "class_score_var, class_score_std = list(), list()\n",
        "\n",
        "for _ in range(n_class):\n",
        "    class_score_sums.append(0)\n",
        "    class_score_square_sums.append(0)\n",
        "\n",
        "for student_scores in scores:\n",
        "    for class_idx in range(n_class):\n",
        "        class_score_sums[class_idx] += student_scores[class_idx]\n",
        "        class_score_square_sums[class_idx] += (student_scores[class_idx])**2\n",
        "\n",
        "for class_idx in range(n_class):\n",
        "    mos = class_score_square_sums[class_idx] / n_student\n",
        "    som = (class_score_sums[class_idx] / n_student)**2\n",
        "\n",
        "    var = mos-som\n",
        "    std = var**0.5\n",
        "\n",
        "    class_score_var.append(var)\n",
        "    class_score_std.append(std)\n",
        "print(\"각 과목별 표준편차:\", class_score_std)\n",
        "\n",
        "#여기서부터 standardization을 시행한다.\n",
        "for student_idx in range(n_student):\n",
        "    for class_idx in range(n_class):\n",
        "        score = scores[student_idx][class_idx]\n",
        "        mean = class_score_means[class_idx]\n",
        "        std = class_score_std[class_idx]\n",
        "\n",
        "        scores[student_idx][class_idx] = (score-mean)/std\n",
        "print(\"ST 후의 점수:\", scores)\n",
        "\n",
        "#여기서부터 다시 분산과 표준편차를 구해서 표준편차가 1이 나오는지 확인하면 됨.\n",
        "class_score_sums, class_score_square_sums = list(), list()\n",
        "class_score_var, class_score_std = list(), list()\n",
        "\n",
        "for _ in range(n_class):\n",
        "    class_score_sums.append(0)\n",
        "    class_score_square_sums.append(0)\n",
        "\n",
        "for student_scores in scores:\n",
        "    for class_idx in range(n_class):\n",
        "        class_score_sums[class_idx] += student_scores[class_idx]\n",
        "        class_score_square_sums[class_idx] += (student_scores[class_idx])**2\n",
        "\n",
        "for class_idx in range(n_class):\n",
        "    mos = class_score_square_sums[class_idx] / n_student\n",
        "    som = (class_score_sums[class_idx] / n_student)**2\n",
        "\n",
        "    var = mos-som\n",
        "    std = var**0.5\n",
        "\n",
        "    class_score_var.append(var)\n",
        "    class_score_std.append(std)\n",
        "print(\"ST 후의 각 과목별 표준편차:\", class_score_std)"
      ],
      "metadata": {
        "colab": {
          "base_uri": "https://localhost:8080/"
        },
        "id": "m2NlBNpjTlZV",
        "outputId": "e0a25038-801f-4b24-b16a-a6ac27714809"
      },
      "execution_count": null,
      "outputs": [
        {
          "output_type": "stream",
          "name": "stdout",
          "text": [
            "각 과목별 표준편차: [11.180339887498949, 11.180339887498949, 11.180339887498949]\n",
            "ST 후의 점수: [[-1.3416407864998738, -1.3416407864998738, -1.3416407864998738], [-0.4472135954999579, -0.4472135954999579, -0.4472135954999579], [0.4472135954999579, 0.4472135954999579, 0.4472135954999579], [1.3416407864998738, 1.3416407864998738, 1.3416407864998738]]\n",
            "ST 후의 각 과목별 표준편차: [1.0, 1.0, 1.0]\n"
          ]
        }
      ]
    },
    {
      "cell_type": "code",
      "source": [
        "#89번 Hadamard Product\n",
        "\n",
        "vectors = [[1,11,21],[2,12,22],[3,13,23,],[4,14,24]]\n",
        "\n",
        "h_prod = list()\n",
        "for dim_data in vectors:\n",
        "    dim_prod = 1\n",
        "    for dim_val in dim_data:\n",
        "        dim_prod *= dim_val\n",
        "    h_prod.append(dim_prod)\n",
        "print(h_prod)"
      ],
      "metadata": {
        "colab": {
          "base_uri": "https://localhost:8080/"
        },
        "id": "YXmNwC5fYPTW",
        "outputId": "b00fb228-2bcf-44dd-bfed-66df8b373e81"
      },
      "execution_count": null,
      "outputs": [
        {
          "output_type": "stream",
          "name": "stdout",
          "text": [
            "[231, 528, 897, 1344]\n"
          ]
        }
      ]
    },
    {
      "cell_type": "code",
      "source": [
        "#90번 Vector Norm\n",
        "vectors = [[1,11,21],[2,12,22],[3,13,23,],[4,14,24]]\n",
        "n_vector = len(vectors[0])\n",
        "v_norms = list()\n",
        "\n",
        "for _ in range(n_vector):\n",
        "    v_norms.append(0)\n",
        "print(v_norms)\n",
        "\n",
        "for dim_data in vectors:\n",
        "    for dim_idx in range(n_vector):\n",
        "        v_norms[dim_idx] += dim_data[dim_idx]**2\n",
        "print(v_norms)\n",
        "\n",
        "for vec_idx in range(n_vector):\n",
        "    v_norms[vec_idx] **= 0.5\n",
        "print(v_norms)"
      ],
      "metadata": {
        "colab": {
          "base_uri": "https://localhost:8080/"
        },
        "id": "46IdPVpnYt4G",
        "outputId": "d753dabf-5d73-43c4-92ec-946836c97264"
      },
      "execution_count": null,
      "outputs": [
        {
          "output_type": "stream",
          "name": "stdout",
          "text": [
            "[0, 0, 0]\n",
            "[30, 630, 2030]\n",
            "[5.477225575051661, 25.099800796022265, 45.05552130427524]\n"
          ]
        }
      ]
    },
    {
      "cell_type": "code",
      "source": [
        "#91번 Making Unit Vectors\n",
        "vectors = [[1,11,21],[2,12,22],[3,13,23,],[4,14,24]]\n",
        "n_vector = len(vectors[0])\n",
        "v_norms = list()\n",
        "\n",
        "for _ in range(n_vector):\n",
        "    v_norms.append(0)\n",
        "\n",
        "for dim_data in vectors:\n",
        "    for dim_idx in range(n_vector):\n",
        "        v_norms[dim_idx] += dim_data[dim_idx]**2\n",
        "\n",
        "for vec_idx in range(n_vector):\n",
        "    v_norms[vec_idx] **= 0.5\n",
        "print(\"Vector Norms:\", v_norms)\n",
        "\n",
        "n_dim = len(vectors)\n",
        "for dim_idx in range(n_dim):\n",
        "    for vec_idx in range(n_vector):\n",
        "        vectors[dim_idx][vec_idx] /= v_norms[vec_idx]\n",
        "\n",
        "v_norms = list()\n",
        "for _ in range(n_vector):\n",
        "    v_norms.append(0)\n",
        "\n",
        "for dim_data in vectors:\n",
        "    for dim_idx in range(n_vector):\n",
        "        v_norms[dim_idx] += dim_data[dim_idx]**2\n",
        "\n",
        "for vec_idx in range(n_vector):\n",
        "    v_norms[vec_idx] **= 0.5\n",
        "print(\"Unit Vector:\", v_norms)"
      ],
      "metadata": {
        "colab": {
          "base_uri": "https://localhost:8080/"
        },
        "id": "3_GeBp84ZTZg",
        "outputId": "b5dd207b-4689-411f-ca00-0108ce304507"
      },
      "execution_count": null,
      "outputs": [
        {
          "output_type": "stream",
          "name": "stdout",
          "text": [
            "Vector Norms: [5.477225575051661, 25.099800796022265, 45.05552130427524]\n",
            "Unit Vector: [0.9999999999999999, 1.0, 1.0]\n"
          ]
        }
      ]
    },
    {
      "cell_type": "code",
      "source": [
        "#92번 Dot Product\n",
        "vectors = [[1,11,21],[2,12,22],[3,13,23,],[4,14,24]]\n",
        "\n",
        "d_prod = 0\n",
        "for dim_data in vectors:\n",
        "    d_prod += dim_data[0]*dim_data[1]\n",
        "print(\"Dot Product:\", d_prod)"
      ],
      "metadata": {
        "colab": {
          "base_uri": "https://localhost:8080/"
        },
        "id": "uef7sBYpZ134",
        "outputId": "f154b458-115b-4a4e-c8be-0bb6ff4f391f"
      },
      "execution_count": null,
      "outputs": [
        {
          "output_type": "stream",
          "name": "stdout",
          "text": [
            "Dot Product: 130\n"
          ]
        }
      ]
    },
    {
      "cell_type": "code",
      "source": [
        "#93번 Euclidean Distance\n",
        "vectors = [[1,11,21],[2,12,22],[3,13,23,],[4,14,24]]\n",
        "e_distance = 0\n",
        "\n",
        "for dim_data in vectors:\n",
        "    diff = dim_data[0] - dim_data[1]\n",
        "    diff_square = diff**2\n",
        "\n",
        "    e_distance += diff_square\n",
        "\n",
        "e_distance **= 0.5\n",
        "print(\"Euclidean distance\", e_distance)"
      ],
      "metadata": {
        "colab": {
          "base_uri": "https://localhost:8080/"
        },
        "id": "28da_uMmaDwy",
        "outputId": "d9add5bb-868d-4615-989b-531bea657acd"
      },
      "execution_count": null,
      "outputs": [
        {
          "output_type": "stream",
          "name": "stdout",
          "text": [
            "Euclidean distance 20.0\n"
          ]
        }
      ]
    },
    {
      "cell_type": "code",
      "source": [
        "#94번 과목별 최고점, 최우수 학생 구하기\n",
        "\n",
        "scores = [[10,40,20],\n",
        "          [50,20,60],\n",
        "          [70,40,30],\n",
        "          [30,80,40,]]\n",
        "\n",
        "n_student = len(scores)\n",
        "n_class = len(scores[0])\n",
        "\n",
        "M_classes = scores[0]"
      ],
      "metadata": {
        "id": "oDdls8PIaZzB"
      },
      "execution_count": null,
      "outputs": []
    }
  ]
}