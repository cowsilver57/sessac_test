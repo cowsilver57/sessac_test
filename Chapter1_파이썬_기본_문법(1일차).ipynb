{
  "nbformat": 4,
  "nbformat_minor": 0,
  "metadata": {
    "colab": {
      "provenance": [],
      "authorship_tag": "ABX9TyOqX2yOUeb9Fa1AiKiIejSX",
      "include_colab_link": true
    },
    "kernelspec": {
      "name": "python3",
      "display_name": "Python 3"
    },
    "language_info": {
      "name": "python"
    }
  },
  "cells": [
    {
      "cell_type": "markdown",
      "metadata": {
        "id": "view-in-github",
        "colab_type": "text"
      },
      "source": [
        "<a href=\"https://colab.research.google.com/github/cowsilver57/sessac_test/blob/main/Chapter1_%ED%8C%8C%EC%9D%B4%EC%8D%AC_%EA%B8%B0%EB%B3%B8_%EB%AC%B8%EB%B2%95(1%EC%9D%BC%EC%B0%A8).ipynb\" target=\"_parent\"><img src=\"https://colab.research.google.com/assets/colab-badge.svg\" alt=\"Open In Colab\"/></a>"
      ]
    },
    {
      "cell_type": "code",
      "execution_count": null,
      "metadata": {
        "colab": {
          "base_uri": "https://localhost:8080/"
        },
        "id": "_GqWwkcOjIzz",
        "outputId": "446ebbb6-c64a-4943-f3c2-3a533c46841f"
      },
      "outputs": [
        {
          "output_type": "stream",
          "name": "stdout",
          "text": [
            "Cloning into 'yemoonsaBigdata'...\n",
            "remote: Enumerating objects: 637, done.\u001b[K\n",
            "remote: Counting objects: 100% (274/274), done.\u001b[K\n",
            "remote: Compressing objects: 100% (165/165), done.\u001b[K\n",
            "remote: Total 637 (delta 136), reused 184 (delta 109), pack-reused 363\u001b[K\n",
            "Receiving objects: 100% (637/637), 10.76 MiB | 21.07 MiB/s, done.\n",
            "Resolving deltas: 100% (321/321), done.\n"
          ]
        }
      ],
      "source": [
        "!git clone https://github.com/AnalyticsKnight/yemoonsaBigdata/"
      ]
    },
    {
      "cell_type": "markdown",
      "source": [
        "# 파이썬 자료형"
      ],
      "metadata": {
        "id": "ulG-rX5Yj10b"
      }
    },
    {
      "cell_type": "markdown",
      "source": [
        "## 숫자형\n",
        "\n",
        "\n",
        "*   정수(int)\n",
        "*   실수(float)\n",
        "\n"
      ],
      "metadata": {
        "id": "cfrLtcTxkRB0"
      }
    },
    {
      "cell_type": "code",
      "source": [
        "#131-01\n",
        "a = 1234\n",
        "b = -12.34\n",
        "c = a + b\n",
        "\n",
        "print(a,b)\n",
        "print(type(a), type(b))\n",
        "print(c)\n",
        "print(type(c))\n",
        "\n",
        "#131-02\n",
        "a = 3\n",
        "b = 7\n",
        "print(a+b, a-b, a*b, a/b, a**b, a%b, a//b)"
      ],
      "metadata": {
        "colab": {
          "base_uri": "https://localhost:8080/"
        },
        "id": "vEHdoiAhj3vG",
        "outputId": "69b16f10-a791-40e6-cd31-04c24e9ac4f1"
      },
      "execution_count": null,
      "outputs": [
        {
          "output_type": "stream",
          "name": "stdout",
          "text": [
            "1234 -12.34\n",
            "<class 'int'> <class 'float'>\n",
            "1221.66\n",
            "<class 'float'>\n",
            "10 -4 21 0.42857142857142855 2187 3 0\n"
          ]
        }
      ]
    },
    {
      "cell_type": "markdown",
      "source": [
        "## 자료형"
      ],
      "metadata": {
        "id": "ARnfuxGbkl6M"
      }
    },
    {
      "cell_type": "code",
      "source": [
        "a = \"Hello World\"\n",
        "b = \"Hello Python's World\"\n",
        "c = '\"Hello World.\"he says.'\n",
        "d = \"Hello World\\nLife is good\"\n",
        "print(a, '\\n', b, '\\n', c, '\\n', d)"
      ],
      "metadata": {
        "colab": {
          "base_uri": "https://localhost:8080/"
        },
        "id": "1D_kvEO2krN8",
        "outputId": "156597f2-7441-4647-aeb8-2cc65b3819bf"
      },
      "execution_count": null,
      "outputs": [
        {
          "output_type": "stream",
          "name": "stdout",
          "text": [
            "Hello World \n",
            " Hello Python's World \n",
            " \"Hello World.\"he says. \n",
            " Hello World\n",
            "Life is good\n"
          ]
        }
      ]
    },
    {
      "cell_type": "code",
      "source": [
        "#문자열 더하기\n",
        "a = \"Python\"\n",
        "b = \"\"\n",
        "c = \"is good.\"\n",
        "print(a+b+c)\n",
        "\n",
        "#문자열 곱하기\n",
        "a = \"Python\"\n",
        "print(a*3)\n",
        "\n",
        "#문자열 길이 구하기\n",
        "a = \"Life is short. Python is valuable\"\n",
        "b = len(a)\n",
        "print(b)\n",
        "\n",
        "#문자열 인덱싱\n",
        "a = \"Life is short. Python is valuable\"\n",
        "b = a[0]\n",
        "c = a[10]\n",
        "d = a[-8]\n",
        "e = a[-1]\n",
        "print(b,c,d,e)\n",
        "\n",
        "#문자열 슬라이싱\n",
        "a = \"Life is short. Python is valuable\"\n",
        "b = a[:4]\n",
        "c = a[4:8]\n",
        "d = a[25:]\n",
        "print(b,c,d)\n",
        "\n",
        "#문자 개수 세기\n",
        "a = 'apple'\n",
        "b = a.count('p')\n",
        "print(b)\n",
        "\n",
        "#문자 위치 찾기\n",
        "a = 'apple'\n",
        "b = a.find('p')\n",
        "print(b)\n",
        "\n",
        "#문자열 삽입\n",
        "a = 'apple'\n",
        "b = ','.join(a)\n",
        "print(b)\n",
        "\n",
        "#소문자와 대문자 바꾸기\n",
        "a = 'apple'\n",
        "b = a.upper()\n",
        "c = b.lower()\n",
        "print(b,c)\n",
        "\n",
        "#공백 지우기\n",
        "a = \" apple \"\n",
        "b = a.lstrip() #왼쪽 공백 제거\n",
        "c = b.rstrip() #오른쪽 공백 제거\n",
        "d = a.strip() #양쪽 공백 제거\n",
        "print(b,c,d)\n",
        "\n",
        "#문자열 바꾸기\n",
        "a = \"Life is good\"\n",
        "b = a.replace(\"Life\", \"Python\")\n",
        "print(b)\n",
        "\n",
        "#문자열 나누기\n",
        "a = \"Life is short, Python is valuable\"\n",
        "b = a.split() #공백 기준으로 split\n",
        "c = a.split(',') #,을 기준으로 split\n",
        "print(b,c)"
      ],
      "metadata": {
        "colab": {
          "base_uri": "https://localhost:8080/"
        },
        "id": "NNc1Sf-VlHFe",
        "outputId": "bc17b818-aacc-47c0-f91d-7d6cdda54f9d"
      },
      "execution_count": null,
      "outputs": [
        {
          "output_type": "stream",
          "name": "stdout",
          "text": [
            "Pythonis good.\n",
            "PythonPythonPython\n",
            "33\n",
            "L o v e\n",
            "Life  is  valuable\n",
            "2\n",
            "1\n",
            "a,p,p,l,e\n",
            "APPLE apple\n",
            "apple  apple apple\n",
            "Python is good\n",
            "['Life', 'is', 'short,', 'Python', 'is', 'valuable'] ['Life is short', ' Python is valuable']\n"
          ]
        }
      ]
    },
    {
      "cell_type": "markdown",
      "source": [
        "## 리스트"
      ],
      "metadata": {
        "id": "OEUKzWABuWSc"
      }
    },
    {
      "cell_type": "code",
      "source": [
        "#중첩된 리스트 인덱싱 & 슬라이싱\n",
        "a = [1,2,3,['a','b','c']]\n",
        "print(a)\n",
        "print(a[3])\n",
        "print(a[3][0])\n",
        "print(a[3][1:])\n",
        "print(a[3][:1])\n",
        "\n",
        "#리스트 요소의 수정과 삭제\n",
        "a1 = [1,2,3,4,5]\n",
        "a1[2]\n",
        "del a1[4]\n",
        "print(a1)\n",
        "\n",
        "#리스트 요소의 위치 반환\n",
        "a2 = [5,4,3,2,1]\n",
        "b = a2.index(3)\n",
        "c = a2.index(5)\n",
        "print(b,c)\n",
        "\n",
        "#리스트 요소 삽입\n",
        "a3 = [1,2,3]\n",
        "a3.insert(0,10)\n",
        "print(a3)\n",
        "\n",
        "#리스트 요소 제거\n",
        "a4 = [5,4,3,2,1,5,4,3,2,1]\n",
        "a4.remove(4) #리스트에서 첫 번째로 등장하는 x값을 제거함.\n",
        "print(a4)\n",
        "\n",
        "#리스트 요소 뽑기\n",
        "a5 = [5,4,3,2,1,5,4,3,2,1]\n",
        "b = a.pop(1) #두 번째 위치에 있는 요소 뽑아내기\n",
        "print(b)"
      ],
      "metadata": {
        "colab": {
          "base_uri": "https://localhost:8080/"
        },
        "id": "Xx9ndNZ5ubM6",
        "outputId": "687fcbdb-dd0b-4391-e2cf-430a114c74aa"
      },
      "execution_count": null,
      "outputs": [
        {
          "output_type": "stream",
          "name": "stdout",
          "text": [
            "[1, 2, 3, ['a', 'b', 'c']]\n",
            "['a', 'b', 'c']\n",
            "a\n",
            "['b', 'c']\n",
            "['a']\n",
            "[1, 2, 3, 4]\n",
            "2 0\n",
            "[10, 1, 2, 3]\n",
            "[5, 3, 2, 1, 5, 4, 3, 2, 1]\n",
            "2\n"
          ]
        }
      ]
    },
    {
      "cell_type": "markdown",
      "source": [
        "## 튜플형"
      ],
      "metadata": {
        "id": "p8KjydSU3Ceb"
      }
    },
    {
      "cell_type": "code",
      "source": [
        "#튜플 기본 연산\n",
        "a = (1,2,3,4,5)\n",
        "b = ('a','b','c')\n",
        "c = a*2 + b\n",
        "d = len(c)\n",
        "print(c,d)"
      ],
      "metadata": {
        "colab": {
          "base_uri": "https://localhost:8080/"
        },
        "id": "sFQywT773EAY",
        "outputId": "2b1bfbe5-3a3b-4e13-a0e7-614dd59ff893"
      },
      "execution_count": null,
      "outputs": [
        {
          "output_type": "stream",
          "name": "stdout",
          "text": [
            "(1, 2, 3, 4, 5, 1, 2, 3, 4, 5, 'a', 'b', 'c') 13\n"
          ]
        }
      ]
    },
    {
      "cell_type": "markdown",
      "source": [
        "## 딕셔너리형"
      ],
      "metadata": {
        "id": "wdl3Oqh23gbJ"
      }
    },
    {
      "cell_type": "code",
      "source": [
        "#딕셔너리 키 리스트 만들기\n",
        "a = {'name':'John', 'age':30, 'birth':[11,8]}\n",
        "b = a.keys()\n",
        "c = list(a.keys())\n",
        "print(b,c)\n",
        "\n",
        "#딕셔너리 값 리스트 만들기\n",
        "a = {'name':'John', 'age':30, 'birth':[11,8]}\n",
        "b = a.values()\n",
        "c = list(a.values())\n",
        "print(b,c)\n",
        "\n",
        "#딕셔너리-값 리스트 만들기\n",
        "a = {'name':'John', 'age':30, 'birth':[11,8]}\n",
        "b = a.items()\n",
        "c = list(a.items())\n",
        "print(b,c)\n",
        "\n",
        "#딕셔너리 키로 값 호출하기\n",
        "a = {'name':'John', 'age':30, 'birth':[11,8]}\n",
        "b = a.get('name') #방법 1\n",
        "c = a['name'] #방법 2\n",
        "d = a.get('house') #방법 1\n",
        "e = a.get('house', 'No data') #방법 2\n",
        "print(b,'\\n',c,'\\n',d,'\\n',e)"
      ],
      "metadata": {
        "colab": {
          "base_uri": "https://localhost:8080/"
        },
        "id": "MKQzspD83d0j",
        "outputId": "a1c92622-aa7d-4fe9-d032-c7c7605da9e6"
      },
      "execution_count": null,
      "outputs": [
        {
          "output_type": "stream",
          "name": "stdout",
          "text": [
            "dict_keys(['name', 'age', 'birth']) ['name', 'age', 'birth']\n",
            "dict_values(['John', 30, [11, 8]]) ['John', 30, [11, 8]]\n",
            "dict_items([('name', 'John'), ('age', 30), ('birth', [11, 8])]) [('name', 'John'), ('age', 30), ('birth', [11, 8])]\n",
            "John \n",
            " John \n",
            " None \n",
            " No data\n"
          ]
        }
      ]
    },
    {
      "cell_type": "markdown",
      "source": [
        "##집합 자료형\n",
        "중복을 허용하지 않음.\n",
        "순서가 없음. (인덱싱 불가 -> 리스트나 튜플로 변환해야 함)"
      ],
      "metadata": {
        "id": "QTfUHFt74xyr"
      }
    },
    {
      "cell_type": "markdown",
      "source": [
        "##논리 자료형\n",
        "True, False로 참과 거짓을 나타내는 자료형"
      ],
      "metadata": {
        "id": "IGh3TMyL5FuI"
      }
    },
    {
      "cell_type": "markdown",
      "source": [
        "# 파이썬 제어문"
      ],
      "metadata": {
        "id": "gZCeN1HS5bQT"
      }
    },
    {
      "cell_type": "markdown",
      "source": [
        "## if 문 (조건문)"
      ],
      "metadata": {
        "id": "DJYxZudn5dx_"
      }
    },
    {
      "cell_type": "code",
      "source": [
        "#조건문 in, not in 연산자\n",
        "x = 3\n",
        "y = [1,2,3,4,5]\n",
        "if x in y:\n",
        "    print(\"데이터가 존재\")\n",
        "else:\n",
        "    print(\"데이터가 존재 X\")"
      ],
      "metadata": {
        "colab": {
          "base_uri": "https://localhost:8080/"
        },
        "id": "786BH8_G5cyI",
        "outputId": "b2f488c9-6556-4312-c48c-c99d363aeca6"
      },
      "execution_count": null,
      "outputs": [
        {
          "output_type": "stream",
          "name": "stdout",
          "text": [
            "데이터가 존재\n"
          ]
        }
      ]
    },
    {
      "cell_type": "markdown",
      "source": [
        "## while문 (반복문)"
      ],
      "metadata": {
        "id": "29WrKtJj5njf"
      }
    },
    {
      "cell_type": "code",
      "source": [
        "#while문 기본 구조\n",
        "a = 0\n",
        "while a < 5 :\n",
        "    print(\"a값은 %s입니다\"%a)\n",
        "    a = a + 1\n",
        "\n",
        "print(\"while문이 종료되었습니다\")\n",
        "\n",
        "#while문 조건 변경\n",
        "a = 0\n",
        "b = [\"사과\", \"바나나\", \"토마토\"]\n",
        "while a < len(b):\n",
        "    print(\"바구니에서 %s를 꺼냈습니다.\"%b[a])\n",
        "    a = a + 1\n",
        "print(\"바구니에 아무것도 남아있지 않습니다\")\n",
        "\n",
        "#while문 break 활용\n",
        "a = 5\n",
        "while a > 0:\n",
        "    print(\"a값은 %s입니다.\"%a)\n",
        "    a = a - 1\n",
        "\n",
        "    if a == 2:\n",
        "        break\n",
        "print(\"while문이 종료되었습니다\")\n",
        "\n",
        "#while문 continue 활용\n",
        "a = 0\n",
        "while a < 10:\n",
        "    a = a + 1\n",
        "    if a % 2 == 0 :\n",
        "        continue\n",
        "    print(a)"
      ],
      "metadata": {
        "colab": {
          "base_uri": "https://localhost:8080/"
        },
        "id": "uwVunvZS5pBG",
        "outputId": "09590ece-fe9b-4cb1-9dfe-7d011bff038b"
      },
      "execution_count": null,
      "outputs": [
        {
          "output_type": "stream",
          "name": "stdout",
          "text": [
            "a값은 0입니다\n",
            "a값은 1입니다\n",
            "a값은 2입니다\n",
            "a값은 3입니다\n",
            "a값은 4입니다\n",
            "while문이 종료되었습니다\n",
            "바구니에서 사과를 꺼냈습니다.\n",
            "바구니에서 바나나를 꺼냈습니다.\n",
            "바구니에서 토마토를 꺼냈습니다.\n",
            "바구니에 아무것도 남아있지 않습니다\n",
            "a값은 5입니다.\n",
            "a값은 4입니다.\n",
            "a값은 3입니다.\n",
            "while문이 종료되었습니다\n",
            "1\n",
            "3\n",
            "5\n",
            "7\n",
            "9\n"
          ]
        }
      ]
    },
    {
      "cell_type": "markdown",
      "source": [
        "## for문 (반복문)"
      ],
      "metadata": {
        "id": "_6MxB4eM5pks"
      }
    },
    {
      "cell_type": "code",
      "source": [
        "#for문과 if 문 활용\n",
        "a = [90,25,67,45,80]\n",
        "b = sum(a) / len(a)\n",
        "\n",
        "for i in a :\n",
        "    if i > b:\n",
        "        print(\"%d 는 평균보다 크다\" %i)\n",
        "    else:\n",
        "        print(\"%d 는 평균보다 작거나 같다\"%i)\n",
        "\n",
        "#for문과 range문 활용\n",
        "for i in range(2,10):\n",
        "    for j in range(1,10):\n",
        "        print(i*j, end = '')\n",
        "    print('')"
      ],
      "metadata": {
        "colab": {
          "base_uri": "https://localhost:8080/"
        },
        "id": "wgrZtiL-5rJY",
        "outputId": "e368c90b-8a5f-405c-f5a9-b1710662f91d"
      },
      "execution_count": null,
      "outputs": [
        {
          "output_type": "stream",
          "name": "stdout",
          "text": [
            "90 는 평균보다 크다\n",
            "25 는 평균보다 작거나 같다\n",
            "67 는 평균보다 크다\n",
            "45 는 평균보다 작거나 같다\n",
            "80 는 평균보다 크다\n",
            "24681012141618\n",
            "369121518212427\n",
            "4812162024283236\n",
            "51015202530354045\n",
            "61218243036424854\n",
            "71421283542495663\n",
            "81624324048566472\n",
            "91827364554637281\n"
          ]
        }
      ]
    },
    {
      "cell_type": "markdown",
      "source": [
        "#파이썬 함수"
      ],
      "metadata": {
        "id": "VE44im1S_E5S"
      }
    },
    {
      "cell_type": "markdown",
      "source": [
        "## def문"
      ],
      "metadata": {
        "id": "z-sWVS6t_Gkh"
      }
    },
    {
      "cell_type": "code",
      "source": [
        "def add(a,b): #add라는 이름을 가진 def(함수) 설정\n",
        "    return a+b\n",
        "\n",
        "a = 3\n",
        "b = 7\n",
        "c = add(a,b)\n",
        "\n",
        "print(c)"
      ],
      "metadata": {
        "colab": {
          "base_uri": "https://localhost:8080/"
        },
        "id": "EWmJm1br_Hul",
        "outputId": "5d3867e8-5a20-41d7-a0f3-3d991389f373"
      },
      "execution_count": null,
      "outputs": [
        {
          "output_type": "stream",
          "name": "stdout",
          "text": [
            "10\n"
          ]
        }
      ]
    }
  ]
}