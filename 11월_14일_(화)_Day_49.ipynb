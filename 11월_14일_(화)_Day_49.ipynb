{
  "nbformat": 4,
  "nbformat_minor": 0,
  "metadata": {
    "colab": {
      "provenance": [],
      "authorship_tag": "ABX9TyM4t+TleTjFb3tO+eXz/HBP",
      "include_colab_link": true
    },
    "kernelspec": {
      "name": "python3",
      "display_name": "Python 3"
    },
    "language_info": {
      "name": "python"
    }
  },
  "cells": [
    {
      "cell_type": "markdown",
      "metadata": {
        "id": "view-in-github",
        "colab_type": "text"
      },
      "source": [
        "<a href=\"https://colab.research.google.com/github/cowsilver57/sessac_test/blob/main/11%EC%9B%94_14%EC%9D%BC_(%ED%99%94)_Day_49.ipynb\" target=\"_parent\"><img src=\"https://colab.research.google.com/assets/colab-badge.svg\" alt=\"Open In Colab\"/></a>"
      ]
    },
    {
      "cell_type": "code",
      "source": [],
      "metadata": {
        "id": "56D9hPFZwu7_"
      },
      "execution_count": null,
      "outputs": []
    },
    {
      "cell_type": "code",
      "execution_count": null,
      "metadata": {
        "colab": {
          "base_uri": "https://localhost:8080/"
        },
        "id": "WpgvwbuOYTG3",
        "outputId": "51d8a4e3-3867-4fbd-df67-ae0b6a524d9c"
      },
      "outputs": [
        {
          "output_type": "stream",
          "name": "stdout",
          "text": [
            "x: 5\n",
            "y: 18\n",
            "dy_dx: 12\n"
          ]
        }
      ],
      "source": [
        "class Function1:\n",
        "    def forward(self, x):\n",
        "        z = x-2\n",
        "        return z\n",
        "    def backward(self, dy_dz):\n",
        "        dz_dx = 1\n",
        "        dy_dx = dz_dx * dy_dz\n",
        "        return dy_dx\n",
        "\n",
        "class Function2:\n",
        "    def forward(self, z):\n",
        "        self.z = z\n",
        "        y = 2*self.z**2\n",
        "        return y\n",
        "    def backward(self):\n",
        "        dy_dz = 4*self.z\n",
        "        return dy_dz\n",
        "\n",
        "class Function:\n",
        "    def __init__(self):\n",
        "        self.function1 = Function1()\n",
        "        self.function2 = Function2()\n",
        "\n",
        "    def forward(self, x):\n",
        "        z = self.function1.forward(x)\n",
        "        y = self.function2.forward(z)\n",
        "        return y\n",
        "\n",
        "    def backward(self):\n",
        "        dy_dz = self.function2.backward()\n",
        "        dy_dx = self.function1.backward(dy_dz)\n",
        "        return dy_dx\n",
        "\n",
        "function = Function()\n",
        "x = 5\n",
        "print(f\"x: {x}\")\n",
        "y = function.forward(x)\n",
        "print(f\"y: {y}\")\n",
        "dy_dx = function.backward()\n",
        "print(f\"dy_dx: {dy_dx}\")"
      ]
    },
    {
      "cell_type": "markdown",
      "source": [
        "#Backpropagation 구현하기"
      ],
      "metadata": {
        "id": "YGuX4lkGxgn0"
      }
    },
    {
      "cell_type": "markdown",
      "source": [
        "1-1. affine객체를 생성할 때 w, b 랜덤으로 생성할 것\n",
        "\n",
        "1-2. 값을 업데이트 하는 과정에서 learning rate 변수를 추가할 것\n",
        "\n",
        "1-3. 예측값을 내는 그 자체가 파라미터 업데이트를 반복하면서 이루어지기 때문에 모델 클래스도 backward 메서드가 필요함\n",
        "\n",
        "1-4. 모델은 affine + sigmoid 클래스로만 구성되어야 하며, 최종적으로 affine이 파라미터를 업데이트하는 형태\n",
        "\n",
        "1-5. 즉 모델의 backward 메서드는 dJ_dpred, lr을 받아서 backward 연산을 수행하도록 구현할 것"
      ],
      "metadata": {
        "id": "KgD6j2r5xgCb"
      }
    },
    {
      "cell_type": "code",
      "source": [
        "import numpy as np\n",
        "#Backpropagation 구현하기\n",
        "\n",
        "#A. Affine Function 구현하기\n",
        "class AffineFunction:\n",
        "    #1-1. 적용\n",
        "    def __init__(self):\n",
        "        #평균이 0이고, 표준편차가 1인 정규분포에서 무작위로 뽑은 숫자로 길이가 2인 배열 생성\n",
        "        self.w = np.random.randn(2)\n",
        "        self.b = np.random.randn()\n",
        "\n",
        "    def forward(self,x):\n",
        "        self.x = x\n",
        "        z = np.dot(self.w,x) + self.b\n",
        "        return z\n",
        "\n",
        "    def backward(self, dJ_dz, lr):\n",
        "        dz_dw = self.x\n",
        "        dz_db = 1\n",
        "\n",
        "        dJ_dw = dJ_dz * dz_dw\n",
        "        dJ_db = dJ_dz * dz_db\n",
        "\n",
        "        self.w = self.w - lr*dJ_dw\n",
        "        self.b = self.b - lr*dJ_db\n",
        "        return dJ_dw, dJ_db\n",
        "\n",
        "#B. Sigmoid Function 구현하기\n",
        "class Sigmoid:\n",
        "    def forward(self,z):\n",
        "        self.a = 1 / (1+np.exp(-z))\n",
        "        return self.a\n",
        "\n",
        "    def backward(self, dJ_dpred):\n",
        "        da_dz = self.a * (1-self.a)\n",
        "        dJ_dz = dJ_dpred * da_dz\n",
        "        return dJ_dz\n",
        "\n",
        "#C. Model 구현\n",
        "class Model:\n",
        "    def __init__(self):\n",
        "        self.affine = AffineFunction()\n",
        "        self.activation = Sigmoid()\n",
        "\n",
        "    def forward(self,x):\n",
        "        z = self.affine.forward(x)\n",
        "        a = self.sigmoid.forward(z)\n",
        "        return a\n",
        "    #1-5. 적용 : 모델의 backward 메서드는 dJ_dpred, lr을 받아서 backward 연산을 수행하도록 구현할 것\n",
        "    def backward(self, dJ_dpred, lr):\n",
        "        dJ_dz = self.activation.backward(dJ_dpred)\n",
        "        self.affine.backward(dJ_dz, lr)\n",
        "\n",
        "#D. BCELoss 구현\n",
        "class BCELoss:\n",
        "    def forward(self, pred, y):\n",
        "        self.pred = pred\n",
        "        self.y = y\n",
        "        J = -(y*np.log(pred) + (1-y)*np.log(1-pred))\n",
        "        return J\n",
        "\n",
        "    def backward(self):\n",
        "        dJ_dpred = (self.pred-self.y)/(self.pred(1-self.pred))\n",
        "        return dJ_dpred"
      ],
      "metadata": {
        "id": "n9S5UBh0cgrD"
      },
      "execution_count": null,
      "outputs": []
    },
    {
      "cell_type": "markdown",
      "source": [
        "#Neuron 학습시키기"
      ],
      "metadata": {
        "id": "_qAnUQ552HTG"
      }
    },
    {
      "cell_type": "code",
      "source": [
        "from sklearn.datasets import make_blobs\n",
        "import matplotlib.pyplot as plt\n",
        "\n",
        "N_SAMPLES = 100\n",
        "LR = 0.001\n",
        "#전체 학습 데이터셋을 훑는 횟수를 의미함. -> 30번 반복해서 학습\n",
        "EPOCHS = 30\n",
        "\n",
        "#make_blobs는 두 개의 클래스를 갖는 가상의 데이터셋을 생성하는 배열임.\n",
        "X, y = make_blobs(n_samples=N_SAMPLES, centers=2, n_features=2, cluster_std=0.5, random_state=0)\n",
        "\n",
        "#Instantiation : class의 object 생성\n",
        "model = Model()\n",
        "loss_function = BCELoss()\n",
        "\n",
        "for epoch in range(EPOCHS):\n",
        "\n",
        "    for X_, y_ in zip(X,y):\n",
        "        #Training\n",
        "        pred = model.forward(X_)\n",
        "        loss = loss_function.forward(pred, y_)\n",
        "        #Metrcis(loss, accuracy) Calculations:"
      ],
      "metadata": {
        "colab": {
          "base_uri": "https://localhost:8080/",
          "height": 379
        },
        "id": "aHYHklKw2HF_",
        "outputId": "51c3ead4-4fae-484a-d554-e5c52c22a17f"
      },
      "execution_count": null,
      "outputs": [
        {
          "output_type": "error",
          "ename": "AttributeError",
          "evalue": "ignored",
          "traceback": [
            "\u001b[0;31m---------------------------------------------------------------------------\u001b[0m",
            "\u001b[0;31mAttributeError\u001b[0m                            Traceback (most recent call last)",
            "\u001b[0;32m<ipython-input-46-0d59b5331726>\u001b[0m in \u001b[0;36m<cell line: 16>\u001b[0;34m()\u001b[0m\n\u001b[1;32m     18\u001b[0m     \u001b[0;32mfor\u001b[0m \u001b[0mX_\u001b[0m\u001b[0;34m,\u001b[0m \u001b[0my_\u001b[0m \u001b[0;32min\u001b[0m \u001b[0mzip\u001b[0m\u001b[0;34m(\u001b[0m\u001b[0mX\u001b[0m\u001b[0;34m,\u001b[0m\u001b[0my\u001b[0m\u001b[0;34m)\u001b[0m\u001b[0;34m:\u001b[0m\u001b[0;34m\u001b[0m\u001b[0;34m\u001b[0m\u001b[0m\n\u001b[1;32m     19\u001b[0m         \u001b[0;31m#Training\u001b[0m\u001b[0;34m\u001b[0m\u001b[0;34m\u001b[0m\u001b[0m\n\u001b[0;32m---> 20\u001b[0;31m         \u001b[0mpred\u001b[0m \u001b[0;34m=\u001b[0m \u001b[0mmodel\u001b[0m\u001b[0;34m.\u001b[0m\u001b[0mforward\u001b[0m\u001b[0;34m(\u001b[0m\u001b[0mX_\u001b[0m\u001b[0;34m)\u001b[0m\u001b[0;34m\u001b[0m\u001b[0;34m\u001b[0m\u001b[0m\n\u001b[0m\u001b[1;32m     21\u001b[0m         \u001b[0mloss\u001b[0m \u001b[0;34m=\u001b[0m \u001b[0mloss_function\u001b[0m\u001b[0;34m.\u001b[0m\u001b[0mforward\u001b[0m\u001b[0;34m(\u001b[0m\u001b[0mpred\u001b[0m\u001b[0;34m,\u001b[0m \u001b[0my_\u001b[0m\u001b[0;34m)\u001b[0m\u001b[0;34m\u001b[0m\u001b[0;34m\u001b[0m\u001b[0m\n\u001b[1;32m     22\u001b[0m         \u001b[0;31m#Metrcis(loss, accuracy) Calculations:\u001b[0m\u001b[0;34m\u001b[0m\u001b[0;34m\u001b[0m\u001b[0m\n",
            "\u001b[0;32m<ipython-input-45-32ece6fb0865>\u001b[0m in \u001b[0;36mforward\u001b[0;34m(self, x)\u001b[0m\n\u001b[1;32m     45\u001b[0m     \u001b[0;32mdef\u001b[0m \u001b[0mforward\u001b[0m\u001b[0;34m(\u001b[0m\u001b[0mself\u001b[0m\u001b[0;34m,\u001b[0m\u001b[0mx\u001b[0m\u001b[0;34m)\u001b[0m\u001b[0;34m:\u001b[0m\u001b[0;34m\u001b[0m\u001b[0;34m\u001b[0m\u001b[0m\n\u001b[1;32m     46\u001b[0m         \u001b[0mz\u001b[0m \u001b[0;34m=\u001b[0m \u001b[0mself\u001b[0m\u001b[0;34m.\u001b[0m\u001b[0maffine\u001b[0m\u001b[0;34m.\u001b[0m\u001b[0mforward\u001b[0m\u001b[0;34m(\u001b[0m\u001b[0mx\u001b[0m\u001b[0;34m)\u001b[0m\u001b[0;34m\u001b[0m\u001b[0;34m\u001b[0m\u001b[0m\n\u001b[0;32m---> 47\u001b[0;31m         \u001b[0ma\u001b[0m \u001b[0;34m=\u001b[0m \u001b[0mself\u001b[0m\u001b[0;34m.\u001b[0m\u001b[0msigmoid\u001b[0m\u001b[0;34m.\u001b[0m\u001b[0mforward\u001b[0m\u001b[0;34m(\u001b[0m\u001b[0mz\u001b[0m\u001b[0;34m)\u001b[0m\u001b[0;34m\u001b[0m\u001b[0;34m\u001b[0m\u001b[0m\n\u001b[0m\u001b[1;32m     48\u001b[0m         \u001b[0;32mreturn\u001b[0m \u001b[0ma\u001b[0m\u001b[0;34m\u001b[0m\u001b[0;34m\u001b[0m\u001b[0m\n\u001b[1;32m     49\u001b[0m     \u001b[0;31m#1-5. 적용 : 모델의 backward 메서드는 dJ_dpred, lr을 받아서 backward 연산을 수행하도록 구현할 것\u001b[0m\u001b[0;34m\u001b[0m\u001b[0;34m\u001b[0m\u001b[0m\n",
            "\u001b[0;31mAttributeError\u001b[0m: 'Model' object has no attribute 'sigmoid'"
          ]
        }
      ]
    },
    {
      "cell_type": "code",
      "source": [
        "import numpy as np\n",
        "from sklearn.datasets import make_blobs\n",
        "\n",
        "class AffineFunction:\n",
        "    def __init__(self):\n",
        "        self.w = np.random.randn(2)\n",
        "        self.b = np.random.randn()\n",
        "\n",
        "    def forward(self, x):\n",
        "        self.x = x\n",
        "        z = np.dot(self.w, x) + self.b\n",
        "        return z\n",
        "\n",
        "    def backward(self, dJ_dz, lr):\n",
        "        dz_dw = self.x\n",
        "        dz_db = 1\n",
        "\n",
        "        dJ_dw = dJ_dz * dz_dw\n",
        "        dJ_db = dJ_dz * dz_db\n",
        "\n",
        "        self.w = self.w - lr * dJ_dw\n",
        "        self.b = self.b - lr * dJ_db\n",
        "\n",
        "class SigmoidFunction:\n",
        "    def forward(self, z):\n",
        "        self.a = 1 / (1 + np.exp(-z))\n",
        "        return self.a\n",
        "\n",
        "    def backward(self, dJ_dpred):\n",
        "        da_dz = self.a * (1 - self.a)\n",
        "        dJ_dz = dJ_dpred * da_dz\n",
        "        return dJ_dz\n",
        "\n",
        "class Model:\n",
        "    def __init__(self):\n",
        "        self.affine = AffineFunction()\n",
        "        self.activation = SigmoidFunction()\n",
        "\n",
        "    def forward(self, x):\n",
        "        z = self.affine.forward(x)\n",
        "        pred = self.activation.forward(z)\n",
        "        return pred\n",
        "\n",
        "    def backward(self, dJ_dpred, lr):\n",
        "        dJ_dz = self.activation.backward(dJ_dpred)\n",
        "        self.affine.backward(dJ_dz, lr)\n",
        "\n",
        "class BCELoss:\n",
        "    def forward(self, pred, y):\n",
        "        self.pred = pred\n",
        "        self.y = y\n",
        "        J = -(y * np.log(pred) + (1 - y) * np.log(1 - pred))\n",
        "        return J\n",
        "\n",
        "    def backward(self):\n",
        "        dJ_dpred = (self.pred - self.y) / (self.pred * (1 - self.pred))\n",
        "        return dJ_dpred\n",
        "\n",
        "N_SAMPLES = 100\n",
        "LR = 0.001\n",
        "EPOCHS = 30\n",
        "\n",
        "X, y = make_blobs(n_samples=N_SAMPLES,\n",
        "                  centers=2,\n",
        "                  n_features=2,\n",
        "                  cluster_std=0.5,\n",
        "                  random_state=0)\n",
        "\n",
        "model = Model()\n",
        "loss_function = BCELoss()\n",
        "\n",
        "loss_list = []\n",
        "accuracy_list = []\n",
        "\n",
        "for epoch in range(EPOCHS):\n",
        "    correct_predictions = 0\n",
        "    total_loss = 0\n",
        "\n",
        "    for X_, y_ in zip(X, y):\n",
        "        pred = model.forward(X_)\n",
        "        loss = loss_function.forward(pred, y_)\n",
        "\n",
        "        # Accuracy 계산\n",
        "        predicted_label = 1 if pred > 0.5 else 0\n",
        "        correct_predictions += (predicted_label == y_)\n",
        "\n",
        "        # Loss 계산\n",
        "        total_loss += loss\n",
        "\n",
        "    epoch_loss = total_loss / N_SAMPLES\n",
        "    epoch_accuracy = correct_predictions / N_SAMPLES\n",
        "\n",
        "    # 빈 리스트에 추가하기\n",
        "    loss_list.append(epoch_loss)\n",
        "    accuracy_list.append(epoch_accuracy)\n",
        "\n",
        "print(loss_list)\n",
        "print(accuracy_list)\n",
        "\n",
        "# 시각화 하기\n",
        "import matplotlib.pyplot as plt\n",
        "fig, axes = plt.subplots(2, 1, figsize=(10, 7))\n",
        "\n",
        "axes[0].plot(range(EPOCHS), loss_list)\n",
        "axes[0].set_ylabel('BCELoss')\n",
        "\n",
        "axes[1].plot(range(EPOCHS), accuracy_list)\n",
        "axes[1].set_ylabel('Accuracy')\n",
        "axes[1].set_xlabel('Epoch')\n",
        "\n",
        "plt.show()\n"
      ],
      "metadata": {
        "id": "Tumtit9VDlnD",
        "colab": {
          "base_uri": "https://localhost:8080/",
          "height": 676
        },
        "outputId": "fc6c940a-d6f1-41d1-b2fe-721a08db9b4c"
      },
      "execution_count": 1,
      "outputs": [
        {
          "output_type": "stream",
          "name": "stdout",
          "text": [
            "[5.004564360423815, 5.004564360423815, 5.004564360423815, 5.004564360423815, 5.004564360423815, 5.004564360423815, 5.004564360423815, 5.004564360423815, 5.004564360423815, 5.004564360423815, 5.004564360423815, 5.004564360423815, 5.004564360423815, 5.004564360423815, 5.004564360423815, 5.004564360423815, 5.004564360423815, 5.004564360423815, 5.004564360423815, 5.004564360423815, 5.004564360423815, 5.004564360423815, 5.004564360423815, 5.004564360423815, 5.004564360423815, 5.004564360423815, 5.004564360423815, 5.004564360423815, 5.004564360423815, 5.004564360423815]\n",
            "[0.5, 0.5, 0.5, 0.5, 0.5, 0.5, 0.5, 0.5, 0.5, 0.5, 0.5, 0.5, 0.5, 0.5, 0.5, 0.5, 0.5, 0.5, 0.5, 0.5, 0.5, 0.5, 0.5, 0.5, 0.5, 0.5, 0.5, 0.5, 0.5, 0.5]\n"
          ]
        },
        {
          "output_type": "display_data",
          "data": {
            "text/plain": [
              "<Figure size 1000x700 with 2 Axes>"
            ],
            "image/png": "[encoded data removed]"
          },
          "metadata": {}
        }
      ]
    },
    {
      "cell_type": "code",
      "source": [
        "import numpy as np\n",
        "from sklearn.datasets import make_blobs\n",
        "\n",
        "class AffineFunction:\n",
        "    def __init__(self):\n",
        "        self.w = np.random.randn(2)\n",
        "        self.b = np.random.randn()\n",
        "\n",
        "    def forward(self, x):\n",
        "        self.x = x\n",
        "        z = np.dot(self.w, x) + self.b\n",
        "        return z\n",
        "\n",
        "    def backward(self, dJ_dz, lr):\n",
        "        dz_dw = self.x\n",
        "        dz_db = 1\n",
        "\n",
        "        dJ_dw = dJ_dz * dz_dw\n",
        "        dJ_db = dJ_dz * dz_db\n",
        "\n",
        "        self.w = self.w - lr * dJ_dw\n",
        "        self.b = self.b - lr * dJ_db\n",
        "\n",
        "class SigmoidFunction:\n",
        "    def forward(self, z):\n",
        "        self.a = 1 / (1 + np.exp(-z))\n",
        "        return self.a\n",
        "\n",
        "    def backward(self, dJ_dpred):\n",
        "        da_dz = self.a * (1 - self.a)\n",
        "        dJ_dz = dJ_dpred * da_dz\n",
        "        return dJ_dz\n",
        "\n",
        "class Model:\n",
        "    def __init__(self):\n",
        "        self.affine = AffineFunction()\n",
        "        self.activation = SigmoidFunction()\n",
        "\n",
        "    def forward(self, x):\n",
        "        z = self.affine.forward(x)\n",
        "        pred = self.activation.forward(z)\n",
        "        return pred\n",
        "\n",
        "    def backward(self, dJ_dpred, lr):\n",
        "        dJ_dz = self.activation.backward(dJ_dpred)\n",
        "        self.affine.backward(dJ_dz, lr)\n",
        "\n",
        "class BCELoss:\n",
        "    def forward(self, pred, y):\n",
        "        self.pred = pred\n",
        "        self.y = y\n",
        "        J = -(y * np.log(pred) + (1 - y) * np.log(1 - pred))\n",
        "        return J\n",
        "\n",
        "    def backward(self):\n",
        "        dJ_dpred = (self.pred - self.y) / (self.pred * (1 - self.pred))\n",
        "        return dJ_dpred\n",
        "\n",
        "N_SAMPLES = 100\n",
        "LR = 0.001\n",
        "EPOCHS = 30\n",
        "\n",
        "X, y = make_blobs(n_samples=N_SAMPLES,\n",
        "                  centers=2,\n",
        "                  n_features=2,\n",
        "                  cluster_std=0.5,\n",
        "                  random_state=0)\n",
        "\n",
        "model = Model()\n",
        "loss_function = BCELoss()\n",
        "\n",
        "loss_list = []\n",
        "accuracy_list = []\n",
        "\n",
        "for epoch in range(EPOCHS):\n",
        "    correct_predictions = 0\n",
        "    total_loss = 0\n",
        "\n",
        "    for X_, y_ in zip(X, y):\n",
        "        pred = model.forward(X_)\n",
        "        loss = loss_function.forward(pred, y_)\n",
        "\n",
        "        # Accuracy 계산\n",
        "        predicted_label = 1 if pred > 0.5 else 0\n",
        "        correct_predictions += (predicted_label == y_)\n",
        "\n",
        "        # Loss 계산\n",
        "        total_loss += loss\n",
        "\n",
        "    # 에폭이 끝나면 손실과 정확도의 평균을 계산\n",
        "    epoch_loss = total_loss / N_SAMPLES\n",
        "    epoch_accuracy = correct_predictions / N_SAMPLES\n",
        "\n",
        "    # 빈 리스트에 추가하기\n",
        "    loss_list.append(epoch_loss)\n",
        "    accuracy_list.append(epoch_accuracy)\n",
        "\n",
        "print(loss_list)\n",
        "print(accuracy_list)\n",
        "\n",
        "# 시각화 하기\n",
        "import matplotlib.pyplot as plt\n",
        "fig, axes = plt.subplots(2, 1, figsize=(10, 7))\n",
        "\n",
        "axes[0].plot(range(EPOCHS), loss_list)\n",
        "axes[0].set_ylabel('BCELoss')\n",
        "\n",
        "axes[1].plot(range(EPOCHS), accuracy_list)\n",
        "axes[1].set_ylabel('Accuracy')\n",
        "axes[1].set_xlabel('Epoch')\n",
        "\n",
        "plt.show()\n"
      ],
      "metadata": {
        "colab": {
          "base_uri": "https://localhost:8080/",
          "height": 676
        },
        "id": "ZO7AlOV0dmvR",
        "outputId": "14310eeb-60c7-46a3-a9e6-dcdf49845dcc"
      },
      "execution_count": 2,
      "outputs": [
        {
          "output_type": "stream",
          "name": "stdout",
          "text": [
            "[0.7800696270986052, 0.7800696270986052, 0.7800696270986052, 0.7800696270986052, 0.7800696270986052, 0.7800696270986052, 0.7800696270986052, 0.7800696270986052, 0.7800696270986052, 0.7800696270986052, 0.7800696270986052, 0.7800696270986052, 0.7800696270986052, 0.7800696270986052, 0.7800696270986052, 0.7800696270986052, 0.7800696270986052, 0.7800696270986052, 0.7800696270986052, 0.7800696270986052, 0.7800696270986052, 0.7800696270986052, 0.7800696270986052, 0.7800696270986052, 0.7800696270986052, 0.7800696270986052, 0.7800696270986052, 0.7800696270986052, 0.7800696270986052, 0.7800696270986052]\n",
            "[0.54, 0.54, 0.54, 0.54, 0.54, 0.54, 0.54, 0.54, 0.54, 0.54, 0.54, 0.54, 0.54, 0.54, 0.54, 0.54, 0.54, 0.54, 0.54, 0.54, 0.54, 0.54, 0.54, 0.54, 0.54, 0.54, 0.54, 0.54, 0.54, 0.54]\n"
          ]
        },
        {
          "output_type": "display_data",
          "data": {
            "text/plain": [
              "<Figure size 1000x700 with 2 Axes>"
            ],
            "image/png": "[encoded data removed]"
          },
          "metadata": {}
        }
      ]
    },
    {
      "cell_type": "code",
      "source": [
        "losses, accs = [], []\n",
        "for epoch in range(EPOCHS):\n",
        "  epoch_loss, n_corrects = 0., 0\n",
        "  for X_, y_ in zip(X, y):\n",
        "    pred = model.forward(X_)\n",
        "    loss = loss_function.forward(pred, y_)\n",
        "    dJ_dpred = loss_function.backward()\n",
        "    model.backward(dJ_dpred, LR)\n",
        "    epoch_loss += loss\n",
        "    n_corrects += int((pred > 0.5) == y_)\n",
        "  epoch_loss /= N_SAMPLES\n",
        "  epoch_acc = n_corrects / N_SAMPLES\n",
        "  losses.append(epoch_loss)\n",
        "  accs.append(epoch_acc)\n",
        "  print(f\"Epoch: {epoch + 1}\")\n",
        "  print(f\"Loss: {epoch_loss:.4f} - Acc: {epoch_acc:.4f}\\n\")"
      ],
      "metadata": {
        "id": "lt9KBkjged-g"
      },
      "execution_count": null,
      "outputs": []
    }
  ]
}