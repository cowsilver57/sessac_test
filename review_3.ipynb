{
 "cells": [
  {
   "cell_type": "markdown",
   "metadata": {},
   "source": [
    "# 함수"
   ]
  },
  {
   "cell_type": "markdown",
   "metadata": {},
   "source": [
    "## 기본 활용"
   ]
  },
  {
   "cell_type": "code",
   "execution_count": 3,
   "metadata": {},
   "outputs": [],
   "source": [
    "# 일반적인 함수 구조 만들기\n",
    "\n",
    "def sum (num1, num2) : #def: 나 이제 함수 만들꺼야~\n",
    "    result = num1 + num2\n",
    "    return result"
   ]
  },
  {
   "cell_type": "code",
   "execution_count": 5,
   "metadata": {},
   "outputs": [
    {
     "data": {
      "text/plain": [
       "7"
      ]
     },
     "execution_count": 5,
     "metadata": {},
     "output_type": "execute_result"
    }
   ],
   "source": [
    "sum(3, 4)"
   ]
  },
  {
   "cell_type": "code",
   "execution_count": 6,
   "metadata": {},
   "outputs": [
    {
     "data": {
      "text/plain": [
       "'Hi'"
      ]
     },
     "execution_count": 6,
     "metadata": {},
     "output_type": "execute_result"
    }
   ],
   "source": [
    "#입력값이 없는 함수\n",
    "def say():\n",
    "    return 'Hi'\n",
    "say()"
   ]
  },
  {
   "cell_type": "code",
   "execution_count": 9,
   "metadata": {},
   "outputs": [
    {
     "name": "stdout",
     "output_type": "stream",
     "text": [
      "7\n"
     ]
    }
   ],
   "source": [
    "def sum2(num1, num2):\n",
    "    print(f'{num1+num2}') \n",
    "#그냥 print만 하고 값이 나오진 않음.\n",
    "#그냥 더하기만 해주는 함수임. \n",
    "\n",
    "a = sum(3,4)\n",
    "b = sum2(3,4)"
   ]
  },
  {
   "cell_type": "code",
   "execution_count": 10,
   "metadata": {},
   "outputs": [
    {
     "name": "stdout",
     "output_type": "stream",
     "text": [
      "7\n",
      "None\n"
     ]
    }
   ],
   "source": [
    "print(a)\n",
    "print(b)"
   ]
  },
  {
   "cell_type": "code",
   "execution_count": 11,
   "metadata": {},
   "outputs": [
    {
     "data": {
      "text/plain": [
       "7"
      ]
     },
     "execution_count": 11,
     "metadata": {},
     "output_type": "execute_result"
    }
   ],
   "source": [
    "sum(3,4) #순서가 바뀌면 안됨. \n",
    "sum(num1 = 3, num2 = 4) #명시했으니 순서가 바뀌어도 괜찮음.\n",
    "#순서가 있으니 꼭 기억할 것!"
   ]
  },
  {
   "cell_type": "code",
   "execution_count": 14,
   "metadata": {},
   "outputs": [
    {
     "name": "stdout",
     "output_type": "stream",
     "text": [
      "나의 이름은 홍길동입니다.\n",
      "나의 나이은 20입니다.\n",
      "남자입니다.\n",
      "나의 이름은 박명수입니다.\n",
      "나의 나이은 55입니다.\n",
      "여자입니다.\n"
     ]
    }
   ],
   "source": [
    "#파라미터 값을 미리 설정하기\n",
    "\n",
    "def say_myself(name, old, man = True): #man = Ture는 디폴트 값임. 맨 끝에 작성해야함.\n",
    "    print(f'나의 이름은 {name}입니다.')\n",
    "    print(f'나의 나이은 {old}입니다.')\n",
    "    if man: \n",
    "        print('남자입니다.')\n",
    "    else:\n",
    "        print('여자입니다.')\n",
    "say_myself('홍길동', 20) #man은 작성하지 않았기 때문에 디폴트로 True로 인식됨.\n",
    "say_myself('박명수', 55, False) #False를 입력하면 여자라고 출력됨. "
   ]
  },
  {
   "cell_type": "markdown",
   "metadata": {},
   "source": [
    "## 전역변수 VS 지역변수"
   ]
  },
  {
   "cell_type": "markdown",
   "metadata": {},
   "source": [
    "### 전역변수:함수 외부에서 선언된 변수이며 프로그램 전체에서 사용 가능함.\n",
    "### 지역변수:함수 내부에서 선언된 변수이며 해당 함수 내부에서만 사용 가능함."
   ]
  },
  {
   "cell_type": "code",
   "execution_count": 15,
   "metadata": {},
   "outputs": [],
   "source": [
    "def test():\n",
    "    local_var = 20\n",
    "test()"
   ]
  },
  {
   "cell_type": "code",
   "execution_count": 16,
   "metadata": {},
   "outputs": [
    {
     "ename": "NameError",
     "evalue": "name 'local_var' is not defined",
     "output_type": "error",
     "traceback": [
      "\u001b[1;31m---------------------------------------------------------------------------\u001b[0m",
      "\u001b[1;31mNameError\u001b[0m                                 Traceback (most recent call last)",
      "Cell \u001b[1;32mIn[16], line 1\u001b[0m\n\u001b[1;32m----> 1\u001b[0m \u001b[39mprint\u001b[39m(local_var)\n",
      "\u001b[1;31mNameError\u001b[0m: name 'local_var' is not defined"
     ]
    }
   ],
   "source": [
    "print(local_var) #지역변수이므로 해당 함수 내부에서만 사용 가능함."
   ]
  },
  {
   "cell_type": "code",
   "execution_count": 17,
   "metadata": {},
   "outputs": [
    {
     "data": {
      "text/plain": [
       "20"
      ]
     },
     "execution_count": 17,
     "metadata": {},
     "output_type": "execute_result"
    }
   ],
   "source": [
    "def test():\n",
    "    local_var = 20\n",
    "    return local_var\n",
    "test()"
   ]
  },
  {
   "cell_type": "code",
   "execution_count": 18,
   "metadata": {},
   "outputs": [
    {
     "ename": "NameError",
     "evalue": "name 'local_var' is not defined",
     "output_type": "error",
     "traceback": [
      "\u001b[1;31m---------------------------------------------------------------------------\u001b[0m",
      "\u001b[1;31mNameError\u001b[0m                                 Traceback (most recent call last)",
      "Cell \u001b[1;32mIn[18], line 1\u001b[0m\n\u001b[1;32m----> 1\u001b[0m \u001b[39mprint\u001b[39m(local_var)\n",
      "\u001b[1;31mNameError\u001b[0m: name 'local_var' is not defined"
     ]
    }
   ],
   "source": [
    "print(local_var) #return 해도 사용 불가함."
   ]
  },
  {
   "cell_type": "code",
   "execution_count": 19,
   "metadata": {},
   "outputs": [
    {
     "name": "stdout",
     "output_type": "stream",
     "text": [
      "20\n"
     ]
    }
   ],
   "source": [
    "def test2():\n",
    "    local_var = 20\n",
    "    return local_var\n",
    "a = test2()\n",
    "print(a) #지역변수도 함수를 지정해주면 사용 가능\n",
    "\n",
    "#지역변수를 전역변수로 바꿔서 사용하는 것도 가능. 하지만 완전 지양함. "
   ]
  },
  {
   "cell_type": "markdown",
   "metadata": {},
   "source": [
    "## 연습문제"
   ]
  },
  {
   "cell_type": "markdown",
   "metadata": {},
   "source": [
    "1-1. 입력하는 모든 수의 평균을 계산하는 함수 만들기(입력 개수에 상관없이 사용하기 위해, 함수 입력 값 자리에, *args를 사용 -> def means(*args): )"
   ]
  },
  {
   "cell_type": "code",
   "execution_count": 29,
   "metadata": {},
   "outputs": [
    {
     "name": "stdout",
     "output_type": "stream",
     "text": [
      "2.0\n",
      "3.5\n"
     ]
    }
   ],
   "source": [
    "# *args : 입력 개수에 상관없게 사용하기 위함. \n",
    "def means(*args): #개수가 많으니 반복문을 사용.\n",
    "    sum1 = 0\n",
    "    count1 = 0\n",
    "    for i in args:\n",
    "        sum1 = sum1 + i\n",
    "        count1 = count1 + 1\n",
    "    result = sum1 / count1\n",
    "    return result\n",
    "\n",
    "print(means(1,2,3))\n",
    "print(means(1,2,3,4,5,6))"
   ]
  },
  {
   "cell_type": "markdown",
   "metadata": {},
   "source": [
    "1-2. 두 수를 입력 받아 사칙연산(+,-, x, /)을 하는 함수 만들기"
   ]
  },
  {
   "cell_type": "markdown",
   "metadata": {},
   "source": [
    "내 방법"
   ]
  },
  {
   "cell_type": "code",
   "execution_count": 32,
   "metadata": {},
   "outputs": [],
   "source": [
    "def cal1 (num1, num2) : \n",
    "    result1 = num1 + num2\n",
    "    result2 = num1 - num2\n",
    "    result3 = num1 * num2\n",
    "    result4 = num1 / num2\n",
    "    return result1, result2, result3, result4"
   ]
  },
  {
   "cell_type": "code",
   "execution_count": 33,
   "metadata": {},
   "outputs": [
    {
     "data": {
      "text/plain": [
       "(9, -1, 20, 0.8)"
      ]
     },
     "execution_count": 33,
     "metadata": {},
     "output_type": "execute_result"
    }
   ],
   "source": [
    "cal1(4,5)"
   ]
  },
  {
   "cell_type": "markdown",
   "metadata": {},
   "source": [
    "강사님 방법1"
   ]
  },
  {
   "cell_type": "code",
   "execution_count": 34,
   "metadata": {},
   "outputs": [],
   "source": [
    "def cal2():\n",
    "    num1 = int(input('첫번째 숫자를 입력해주세요.'))\n",
    "    num2 = int(input('두번째 숫자를 입력해주세요.'))\n",
    "    return num1+num2, num1-num2, num1*num2, num1/num2"
   ]
  },
  {
   "cell_type": "code",
   "execution_count": 35,
   "metadata": {},
   "outputs": [
    {
     "data": {
      "text/plain": [
       "(92, 68, 960, 6.666666666666667)"
      ]
     },
     "execution_count": 35,
     "metadata": {},
     "output_type": "execute_result"
    }
   ],
   "source": [
    "cal2()"
   ]
  },
  {
   "cell_type": "markdown",
   "metadata": {},
   "source": [
    "강사님 방법2"
   ]
  },
  {
   "cell_type": "code",
   "execution_count": 55,
   "metadata": {},
   "outputs": [],
   "source": [
    "def cal3(num1,num2):\n",
    "\n",
    "    a1 = int(input(\"기호를 입력하시오\"))\n",
    "    if a1 == '+':\n",
    "        return num1+num2\n",
    "    elif a1 == '-':\n",
    "        return num1-num2\n",
    "    elif a1 == '*':\n",
    "        return num1*num2\n",
    "    elif a1 == '/':\n",
    "        return num1/num2\n",
    "    else :\n",
    "        return '제공되지 않는 기호 입니다.'\n",
    "   "
   ]
  },
  {
   "cell_type": "code",
   "execution_count": 56,
   "metadata": {},
   "outputs": [
    {
     "ename": "ValueError",
     "evalue": "invalid literal for int() with base 10: '/'",
     "output_type": "error",
     "traceback": [
      "\u001b[1;31m---------------------------------------------------------------------------\u001b[0m",
      "\u001b[1;31mValueError\u001b[0m                                Traceback (most recent call last)",
      "Cell \u001b[1;32mIn[56], line 1\u001b[0m\n\u001b[1;32m----> 1\u001b[0m cal3(\u001b[39m2\u001b[39;49m,\u001b[39m10\u001b[39;49m)\n",
      "Cell \u001b[1;32mIn[55], line 3\u001b[0m, in \u001b[0;36mcal3\u001b[1;34m(num1, num2)\u001b[0m\n\u001b[0;32m      1\u001b[0m \u001b[39mdef\u001b[39;00m \u001b[39mcal3\u001b[39m(num1,num2):\n\u001b[1;32m----> 3\u001b[0m     a1 \u001b[39m=\u001b[39m \u001b[39mint\u001b[39;49m(\u001b[39minput\u001b[39;49m(\u001b[39m\"\u001b[39;49m\u001b[39m기호를 입력하시오\u001b[39;49m\u001b[39m\"\u001b[39;49m))\n\u001b[0;32m      4\u001b[0m     \u001b[39mif\u001b[39;00m a1 \u001b[39m==\u001b[39m \u001b[39m'\u001b[39m\u001b[39m+\u001b[39m\u001b[39m'\u001b[39m:\n\u001b[0;32m      5\u001b[0m         \u001b[39mreturn\u001b[39;00m num1\u001b[39m+\u001b[39mnum2\n",
      "\u001b[1;31mValueError\u001b[0m: invalid literal for int() with base 10: '/'"
     ]
    }
   ],
   "source": [
    "cal3(2,10)"
   ]
  },
  {
   "cell_type": "markdown",
   "metadata": {},
   "source": [
    "# 클래스"
   ]
  },
  {
   "cell_type": "code",
   "execution_count": 62,
   "metadata": {},
   "outputs": [],
   "source": [
    "class 붕어빵:\n",
    "    def __init__(self,속재료):\n",
    "        self.속재료 = 속재료"
   ]
  },
  {
   "cell_type": "code",
   "execution_count": 67,
   "metadata": {},
   "outputs": [
    {
     "name": "stdout",
     "output_type": "stream",
     "text": [
      "Alice\n",
      "30\n"
     ]
    },
    {
     "ename": "AttributeError",
     "evalue": "'Person' object has no attribute 'walk'",
     "output_type": "error",
     "traceback": [
      "\u001b[1;31m---------------------------------------------------------------------------\u001b[0m",
      "\u001b[1;31mAttributeError\u001b[0m                            Traceback (most recent call last)",
      "Cell \u001b[1;32mIn[67], line 19\u001b[0m\n\u001b[0;32m     16\u001b[0m \u001b[39mprint\u001b[39m(bob\u001b[39m.\u001b[39mage) \u001b[39m# 출력: 30\u001b[39;00m\n\u001b[0;32m     18\u001b[0m \u001b[39m# instance의 method 호출\u001b[39;00m\n\u001b[1;32m---> 19\u001b[0m alice\u001b[39m.\u001b[39;49mwalk() \u001b[39m# 출력: Alice is walking.\u001b[39;00m\n\u001b[0;32m     20\u001b[0m bob\u001b[39m.\u001b[39mwalk() \u001b[39m# 출력: Bob is walking\u001b[39;00m\n",
      "\u001b[1;31mAttributeError\u001b[0m: 'Person' object has no attribute 'walk'"
     ]
    }
   ],
   "source": [
    "class Person: #클래스 = Person\n",
    "    def __init__(self, name, age, gender):\n",
    "        self.name = name #속성 선언\n",
    "        self.age = age #속성 선언\n",
    "        self.gender = gender #속성 선언\n",
    "\n",
    "def walk(self): #method 선언\n",
    "    print(self.name + \" is walking.\")\n",
    "\n",
    "\n",
    "# 'Person' class의 instance 생성\n",
    "alice = Person(\"Alice\", 25, \"Female\")\n",
    "bob = Person(\"Bob\", 30, \"Male\")\n",
    "\n",
    "# instance의 속성 접근\n",
    "print(alice.name) # 출력: Alice\n",
    "print(bob.age) # 출력: 30\n",
    "\n",
    "# instance의 method 호출\n",
    "alice.walk() # 출력: Alice is walking.\n",
    "bob.walk() # 출력: Bob is walking"
   ]
  },
  {
   "cell_type": "markdown",
   "metadata": {},
   "source": [
    "### 더하기 기능을 가지고 있는 클래스 만들기"
   ]
  },
  {
   "cell_type": "code",
   "execution_count": 76,
   "metadata": {},
   "outputs": [
    {
     "name": "stdout",
     "output_type": "stream",
     "text": [
      "10 20\n",
      "30\n"
     ]
    }
   ],
   "source": [
    "# class 객체 선언하기\n",
    "\n",
    "class FourCal:\n",
    "    \n",
    "    def set_data(self, num1, num2): #여기부터\n",
    "        self.num1 = num1\n",
    "        self.num2 = num2 \n",
    "    \n",
    "    def add(self):\n",
    "        return self.num1 + self.num2 #여기까지 method임.\n",
    "\n",
    "a = FourCal() #a는 인스턴스임.\n",
    "a.set_data(10,20)\n",
    "print (a.num1, a.num2)\n",
    "print (a.add())\n",
    "\n"
   ]
  },
  {
   "cell_type": "code",
   "execution_count": 82,
   "metadata": {},
   "outputs": [
    {
     "name": "stdout",
     "output_type": "stream",
     "text": [
      "10 20\n",
      "30 -10 200 0.5\n"
     ]
    }
   ],
   "source": [
    "# class 객체 선언하기\n",
    "\n",
    "class FourCal:\n",
    "    \n",
    "    def __init__(self, num1, num2):    #여기부터\n",
    "        self.num1 = num1\n",
    "        self.num2 = num2 \n",
    "    \n",
    "    def add(self):\n",
    "        return self.num1 + self.num2\n",
    "        \n",
    "    def sub(self):\n",
    "        return self.num1 - self.num2\n",
    "        \n",
    "    def multi(self):\n",
    "        return self.num1 * self.num2\n",
    "\n",
    "    def div(self):\n",
    "        return self.num1 / self.num2    #여기까지 method임.\n",
    "        \n",
    "\n",
    "a = FourCal(10,20) #a는 인스턴스임.\n",
    "print (a.num1, a.num2)\n",
    "print (a.add(), a.sub(), a.multi(), a.div())\n"
   ]
  },
  {
   "cell_type": "markdown",
   "metadata": {},
   "source": [
    "연습문제1.\n",
    "(생성자 메서드로, 계좌 번호, 예금주 이름, 초기 잔액을 받아 계좌를 생성\n",
    "/입금, 출금, 현재 계좌의 잔액을 반환하는 메서드를 생성)"
   ]
  },
  {
   "cell_type": "code",
   "execution_count": 90,
   "metadata": {},
   "outputs": [
    {
     "name": "stdout",
     "output_type": "stream",
     "text": [
      "1234 소은 10000\n"
     ]
    }
   ],
   "source": [
    "class BankAccount:\n",
    "\n",
    "    def __init__(self, num, name, fmoney):\n",
    "        self.num = num\n",
    "        self.name = name\n",
    "        self.fmoney = fmoney\n",
    "\n",
    "    def dep(self):\n",
    "        return self.fmoney\n",
    "\n",
    "    def pay(self):\n",
    "        return self.fmoney\n",
    "\n",
    "    def change(self):\n",
    "        return self.fmoney\n",
    "\n",
    "a = BankAccount(1234, '소은', 10000)\n",
    "print (a.num, a.name, a.fmoney)\n"
   ]
  },
  {
   "cell_type": "code",
   "execution_count": 105,
   "metadata": {},
   "outputs": [
    {
     "name": "stdout",
     "output_type": "stream",
     "text": [
      "50000\n",
      "50100\n",
      "41100\n",
      "소은님의 잔고는 41100입니다.\n"
     ]
    }
   ],
   "source": [
    "class BankAccount:\n",
    "    def __init__(self, 계좌번호, 이름, 잔액):\n",
    "        self.계좌번호 = 계좌번호\n",
    "        self.이름 = 이름\n",
    "        self.잔액 = 잔액\n",
    "\n",
    "    def 입금(self,금액):\n",
    "        self.잔액 = self.잔액 + 금액\n",
    "        \n",
    "    def 출금(self,금액):\n",
    "        self.잔액 = self.잔액 - 금액\n",
    "    \n",
    "    def 잔액조회(self):\n",
    "        print(f'{self.이름}님의 잔고는 {self.잔액}입니다.')\n",
    "\n",
    "\n",
    "소은계좌 = BankAccount('123-456-789', '소은', 50000)\n",
    "시은계좌 = BankAccount('123-456-987', '시은', 90000)\n",
    "print(소은계좌.잔액)\n",
    "\n",
    "소은계좌.입금(100)\n",
    "print(소은계좌.잔액)\n",
    "\n",
    "소은계좌.출금(9000)\n",
    "print(소은계좌.잔액)\n",
    "\n",
    "소은계좌.잔액조회()"
   ]
  },
  {
   "cell_type": "markdown",
   "metadata": {},
   "source": [
    "### 상속"
   ]
  },
  {
   "cell_type": "code",
   "execution_count": 106,
   "metadata": {},
   "outputs": [],
   "source": [
    "class FourCal:\n",
    "    \n",
    "    def __init__(self, num1, num2):    #여기부터\n",
    "        self.num1 = num1\n",
    "        self.num2 = num2 \n",
    "    \n",
    "    def add(self):\n",
    "        return self.num1 + self.num2\n",
    "        \n",
    "    def sub(self):\n",
    "        return self.num1 - self.num2\n",
    "        \n",
    "    def multi(self):\n",
    "        return self.num1 * self.num2\n",
    "\n",
    "    def div(self):\n",
    "        return self.num1 / self.num2    #여기까지 method임.\n",
    "        "
   ]
  },
  {
   "cell_type": "code",
   "execution_count": 108,
   "metadata": {},
   "outputs": [],
   "source": [
    "class MoreFourCal(FourCal): #자식클래스(부모클래스)\n",
    "    pass"
   ]
  },
  {
   "cell_type": "code",
   "execution_count": 111,
   "metadata": {},
   "outputs": [
    {
     "data": {
      "text/plain": [
       "6"
      ]
     },
     "execution_count": 111,
     "metadata": {},
     "output_type": "execute_result"
    }
   ],
   "source": [
    "a = MoreFourCal(2, 4) #자식클래스에는 아무 함수도 없지만 알아서 부모 클래스의 함수가 적용됨. \n",
    "a.add()"
   ]
  },
  {
   "cell_type": "markdown",
   "metadata": {},
   "source": [
    "### 오버라이딩"
   ]
  },
  {
   "cell_type": "code",
   "execution_count": 112,
   "metadata": {},
   "outputs": [],
   "source": [
    "class MoreFourCal(FourCal):\n",
    "    def divide(self):\n",
    "        if self.num2 ==0:\n",
    "            return 0\n",
    "        else:\n",
    "            return sel,num1/ self.num2"
   ]
  },
  {
   "cell_type": "code",
   "execution_count": 116,
   "metadata": {},
   "outputs": [
    {
     "data": {
      "text/plain": [
       "0"
      ]
     },
     "execution_count": 116,
     "metadata": {},
     "output_type": "execute_result"
    }
   ],
   "source": [
    "a= MoreFourCal(2,0)\n",
    "a.divide()"
   ]
  },
  {
   "cell_type": "code",
   "execution_count": null,
   "metadata": {},
   "outputs": [],
   "source": []
  }
 ],
 "metadata": {
  "kernelspec": {
   "display_name": "ai2",
   "language": "python",
   "name": "python3"
  },
  "language_info": {
   "codemirror_mode": {
    "name": "ipython",
    "version": 3
   },
   "file_extension": ".py",
   "mimetype": "text/x-python",
   "name": "python",
   "nbconvert_exporter": "python",
   "pygments_lexer": "ipython3",
   "version": "3.8.17"
  },
  "orig_nbformat": 4
 },
 "nbformat": 4,
 "nbformat_minor": 2
}
