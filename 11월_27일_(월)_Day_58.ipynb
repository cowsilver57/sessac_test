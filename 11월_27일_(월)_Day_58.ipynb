{
  "nbformat": 4,
  "nbformat_minor": 0,
  "metadata": {
    "colab": {
      "provenance": [],
      "gpuType": "T4",
      "authorship_tag": "ABX9TyMNqxy0XDvegnsFmVxMpTuS",
      "include_colab_link": true
    },
    "kernelspec": {
      "name": "python3",
      "display_name": "Python 3"
    },
    "language_info": {
      "name": "python"
    },
    "accelerator": "GPU"
  },
  "cells": [
    {
      "cell_type": "markdown",
      "metadata": {
        "id": "view-in-github",
        "colab_type": "text"
      },
      "source": [
        "<a href=\"https://colab.research.google.com/github/cowsilver57/sessac_test/blob/main/11%EC%9B%94_27%EC%9D%BC_(%EC%9B%94)_Day_58.ipynb\" target=\"_parent\"><img src=\"https://colab.research.google.com/assets/colab-badge.svg\" alt=\"Open In Colab\"/></a>"
      ]
    },
    {
      "cell_type": "markdown",
      "source": [
        "#Convolutional Neural Networks"
      ],
      "metadata": {
        "id": "G12_w-f6T8Bu"
      }
    },
    {
      "cell_type": "markdown",
      "source": [
        "# MNIST dataset LeNet5 Model로 학습시키기"
      ],
      "metadata": {
        "id": "mYFo0SGO0483"
      }
    },
    {
      "cell_type": "markdown",
      "source": [
        "LeNet5 Modeling"
      ],
      "metadata": {
        "id": "Fpe87ovsUAkd"
      }
    },
    {
      "cell_type": "code",
      "source": [
        "import torch\n",
        "import torch.nn as nn\n",
        "\n",
        "H, W = 28,28\n",
        "input_tensor = torch.randn(size=(8,1,H,W))\n",
        "\n",
        "class LeNet5(nn.Module):\n",
        "    def __init__(self):\n",
        "        super(LeNet5, self).__init__()\n",
        "        self.conv1 = nn.Conv2d(in_channels=1, out_channels=6, kernel_size=5, stride=1, padding=2)\n",
        "        self.act1 = nn.Tanh()\n",
        "\n",
        "        self.avg_p1 = nn.AvgPool2d(kernel_size=2, stride=2)\n",
        "\n",
        "        self.conv2 = nn.Conv2d(in_channels=6, out_channels=16, kernel_size=5, stride=1)\n",
        "        self.act2 = nn.Tanh()\n",
        "\n",
        "        self.avg_p2 = nn.AvgPool2d(kernel_size=2, stride=2)\n",
        "\n",
        "        self.conv3 = nn.Conv2d(in_channels=16, out_channels=120, kernel_size=5, stride=1)\n",
        "        self.act3 = nn.Tanh()\n",
        "\n",
        "        self.fc1 = nn.Linear(in_features=120, out_features=84)\n",
        "        self.act4 = nn.Tanh()\n",
        "\n",
        "        self.fc2 = nn.Linear(in_features=84, out_features=10)\n",
        "\n",
        "    def forward(self, x):\n",
        "        x = self.conv1(x)\n",
        "        x = self.act1(x)\n",
        "\n",
        "        x = self.avg_p1(x)\n",
        "\n",
        "        x = self.conv2(x)\n",
        "        x = self.act2(x)\n",
        "\n",
        "        x = self.avg_p2(x)\n",
        "\n",
        "        x = self.conv3(x)\n",
        "        x = self.act3(x)\n",
        "\n",
        "        x = x.view(x.size(0), -1)\n",
        "\n",
        "        x = self.fc1(x)\n",
        "        x = self.act4(x)\n",
        "\n",
        "        x = self.fc2(x)\n",
        "        return x\n",
        "\n",
        "model = LeNet5()\n",
        "result = model(input_tensor)\n",
        "print(result)"
      ],
      "metadata": {
        "colab": {
          "base_uri": "https://localhost:8080/"
        },
        "id": "DUsdkhHEWetG",
        "outputId": "0206f538-7d73-463b-d584-f106f3a6da08"
      },
      "execution_count": 2,
      "outputs": [
        {
          "output_type": "stream",
          "name": "stdout",
          "text": [
            "tensor([[-0.0585,  0.0508, -0.1947, -0.0275,  0.0361, -0.0692, -0.1525, -0.0230,\n",
            "          0.0801,  0.0736],\n",
            "        [-0.0219,  0.0414, -0.1641, -0.0279,  0.0136, -0.0493, -0.1388, -0.0498,\n",
            "          0.0871,  0.0905],\n",
            "        [-0.0270,  0.0332, -0.1765, -0.0239,  0.0208, -0.0447, -0.1268, -0.0215,\n",
            "          0.0671,  0.0876],\n",
            "        [-0.0291,  0.0384, -0.1673, -0.0250,  0.0335, -0.0595, -0.1329, -0.0480,\n",
            "          0.0905,  0.1014],\n",
            "        [-0.0246,  0.0379, -0.1652, -0.0173,  0.0194, -0.0591, -0.1460, -0.0435,\n",
            "          0.0607,  0.0939],\n",
            "        [-0.0232,  0.0374, -0.1688, -0.0380,  0.0133, -0.0443, -0.1333, -0.0179,\n",
            "          0.0936,  0.0903],\n",
            "        [-0.0239,  0.0447, -0.1702, -0.0257,  0.0204, -0.0495, -0.1376, -0.0482,\n",
            "          0.0928,  0.0856],\n",
            "        [-0.0192,  0.0420, -0.1777, -0.0510,  0.0277, -0.0476, -0.1431, -0.0516,\n",
            "          0.0559,  0.0906]], grad_fn=<AddmmBackward0>)\n"
          ]
        }
      ]
    },
    {
      "cell_type": "markdown",
      "source": [
        "학습시키기"
      ],
      "metadata": {
        "id": "9XgF70KP0_NP"
      }
    },
    {
      "cell_type": "code",
      "source": [
        "from torchvision.datasets import MNIST\n",
        "from torchvision.transforms import ToTensor\n",
        "from torch.utils.data import DataLoader\n",
        "import torch\n",
        "from torch.optim import SGD\n",
        "\n",
        "BATCH_SIZE = 32\n",
        "LR = 0.003\n",
        "EPOCHS = 10\n",
        "\n",
        "dataset = MNIST(root='data', train=True, download=True, transform=ToTensor())\n",
        "dataloader = DataLoader(dataset, batch_size=BATCH_SIZE)\n",
        "n_samples = len(dataset)\n",
        "\n",
        "if torch.cuda.is_available(): DEVICE = 'cuda'\n",
        "elif torch.backends.mps.is_available(): DEVICE = 'mps'\n",
        "else: DEVICE = 'cpu'\n",
        "\n",
        "model = LeNet5().to(DEVICE)\n",
        "loss_function = nn.CrossEntropyLoss()\n",
        "optimizer = SGD(model.parameters(), lr=LR)\n",
        "\n",
        "from tqdm import tqdm\n",
        "losses, accs = [],[]\n",
        "for epoch in range(EPOCHS):\n",
        "    epoch_loss, n_corrects = 0.,0\n",
        "    for X_, y_ in tqdm(dataloader):\n",
        "        X_, y_ = X_.to(DEVICE), y_.to(DEVICE)\n",
        "\n",
        "        pred = model(X_)\n",
        "        loss = loss_function(pred, y_)\n",
        "\n",
        "        optimizer.zero_grad()\n",
        "        loss.backward()\n",
        "        optimizer.step()\n",
        "\n",
        "        epoch_loss += loss.item()*len(X_)\n",
        "        n_corrects += (torch.max(pred, axis=1)[1]==y_).sum().item()\n",
        "\n",
        "    epoch_loss /= n_samples\n",
        "    losses.append(epoch_loss)\n",
        "\n",
        "    epoch_acc = n_corrects/n_samples\n",
        "    accs.append(epoch_acc)\n",
        "\n",
        "    print(f\"Epoch: {epoch+1}\")\n",
        "    print(f\"Loss: {epoch_loss:.4f} - Acc: {epoch_acc:.4f}\")"
      ],
      "metadata": {
        "colab": {
          "base_uri": "https://localhost:8080/"
        },
        "id": "z9l85VLY0wO2",
        "outputId": "931b3fee-2b17-49e9-a928-9c239bf4fdee"
      },
      "execution_count": 8,
      "outputs": [
        {
          "output_type": "stream",
          "name": "stderr",
          "text": [
            "100%|██████████| 1875/1875 [00:11<00:00, 167.77it/s]\n"
          ]
        },
        {
          "output_type": "stream",
          "name": "stdout",
          "text": [
            "Epoch: 1\n",
            "Loss: 2.2566 - Acc: 0.3289\n"
          ]
        },
        {
          "output_type": "stream",
          "name": "stderr",
          "text": [
            "100%|██████████| 1875/1875 [00:11<00:00, 167.27it/s]\n"
          ]
        },
        {
          "output_type": "stream",
          "name": "stdout",
          "text": [
            "Epoch: 2\n",
            "Loss: 1.3333 - Acc: 0.6780\n"
          ]
        },
        {
          "output_type": "stream",
          "name": "stderr",
          "text": [
            "100%|██████████| 1875/1875 [00:11<00:00, 165.83it/s]\n"
          ]
        },
        {
          "output_type": "stream",
          "name": "stdout",
          "text": [
            "Epoch: 3\n",
            "Loss: 0.6353 - Acc: 0.8291\n"
          ]
        },
        {
          "output_type": "stream",
          "name": "stderr",
          "text": [
            "100%|██████████| 1875/1875 [00:11<00:00, 156.40it/s]\n"
          ]
        },
        {
          "output_type": "stream",
          "name": "stdout",
          "text": [
            "Epoch: 4\n",
            "Loss: 0.4562 - Acc: 0.8752\n"
          ]
        },
        {
          "output_type": "stream",
          "name": "stderr",
          "text": [
            "100%|██████████| 1875/1875 [00:11<00:00, 164.54it/s]\n"
          ]
        },
        {
          "output_type": "stream",
          "name": "stdout",
          "text": [
            "Epoch: 5\n",
            "Loss: 0.3798 - Acc: 0.8928\n"
          ]
        },
        {
          "output_type": "stream",
          "name": "stderr",
          "text": [
            "100%|██████████| 1875/1875 [00:11<00:00, 165.90it/s]\n"
          ]
        },
        {
          "output_type": "stream",
          "name": "stdout",
          "text": [
            "Epoch: 6\n",
            "Loss: 0.3330 - Acc: 0.9040\n"
          ]
        },
        {
          "output_type": "stream",
          "name": "stderr",
          "text": [
            "100%|██████████| 1875/1875 [00:10<00:00, 176.16it/s]\n"
          ]
        },
        {
          "output_type": "stream",
          "name": "stdout",
          "text": [
            "Epoch: 7\n",
            "Loss: 0.2983 - Acc: 0.9134\n"
          ]
        },
        {
          "output_type": "stream",
          "name": "stderr",
          "text": [
            "100%|██████████| 1875/1875 [00:10<00:00, 171.45it/s]\n"
          ]
        },
        {
          "output_type": "stream",
          "name": "stdout",
          "text": [
            "Epoch: 8\n",
            "Loss: 0.2704 - Acc: 0.9214\n"
          ]
        },
        {
          "output_type": "stream",
          "name": "stderr",
          "text": [
            "100%|██████████| 1875/1875 [00:11<00:00, 165.86it/s]\n"
          ]
        },
        {
          "output_type": "stream",
          "name": "stdout",
          "text": [
            "Epoch: 9\n",
            "Loss: 0.2472 - Acc: 0.9275\n"
          ]
        },
        {
          "output_type": "stream",
          "name": "stderr",
          "text": [
            "100%|██████████| 1875/1875 [00:11<00:00, 164.46it/s]"
          ]
        },
        {
          "output_type": "stream",
          "name": "stdout",
          "text": [
            "Epoch: 10\n",
            "Loss: 0.2274 - Acc: 0.9332\n"
          ]
        },
        {
          "output_type": "stream",
          "name": "stderr",
          "text": [
            "\n"
          ]
        }
      ]
    },
    {
      "cell_type": "markdown",
      "source": [
        "시각화하기"
      ],
      "metadata": {
        "id": "rKULeuJo1GaH"
      }
    },
    {
      "cell_type": "code",
      "source": [
        "import matplotlib.pyplot as plt\n",
        "fig, axes = plt.subplots(2, 1, figsize=(10, 5))\n",
        "axes[0].plot(losses)\n",
        "axes[1].plot(accs)\n",
        "axes[1].set_xlabel(\"Epoch\", fontsize=15)\n",
        "axes[0].set_ylabel(\"Cross Entorpy Loss\", fontsize=15)\n",
        "axes[1].set_ylabel(\"Accuracy\", fontsize=15)\n",
        "axes[0].tick_params(labelsize=10)\n",
        "axes[1].tick_params(labelsize=10)\n",
        "fig.tight_layout()\n",
        "plt.show()"
      ],
      "metadata": {
        "colab": {
          "base_uri": "https://localhost:8080/",
          "height": 464
        },
        "id": "_G846zOqyjD_",
        "outputId": "117928ed-6759-4846-8ac3-a0d58ae32eff"
      },
      "execution_count": 4,
      "outputs": [
        {
          "output_type": "display_data",
          "data": {
            "text/plain": [
              "<Figure size 1000x500 with 2 Axes>"
            ],
            "image/png": "[encoded data removed]"
          },
          "metadata": {}
        }
      ]
    },
    {
      "cell_type": "markdown",
      "source": [
        "# Fashion MNIST dataset LeNet5 Model로 학습시키기"
      ],
      "metadata": {
        "id": "QF8KCSSa03bk"
      }
    },
    {
      "cell_type": "code",
      "source": [
        "from torchvision.datasets import FashionMNIST\n",
        "from torchvision.transforms import ToTensor\n",
        "from torch.utils.data import DataLoader\n",
        "import torch\n",
        "from torch.optim import SGD\n",
        "\n",
        "BATCH_SIZE = 32\n",
        "LR = 0.1\n",
        "EPOCHS = 10\n",
        "\n",
        "dataset = FashionMNIST(root='data', train=True, download=True, transform=ToTensor())\n",
        "dataloader = DataLoader(dataset, batch_size=BATCH_SIZE)\n",
        "n_samples = len(dataset)\n",
        "\n",
        "if torch.cuda.is_available(): DEVICE = 'cuda'\n",
        "elif torch.backends.mps.is_available(): DEVICE = 'mps'\n",
        "else: DEVICE = 'cpu'\n",
        "\n",
        "model = LeNet5().to(DEVICE)\n",
        "loss_function = nn.CrossEntropyLoss()\n",
        "optimizer = SGD(model.parameters(), lr=LR)\n",
        "\n",
        "from tqdm import tqdm\n",
        "losses, accs = [],[]\n",
        "for epoch in range(EPOCHS):\n",
        "    epoch_loss, n_corrects = 0.,0\n",
        "    for X_, y_ in tqdm(dataloader):\n",
        "        X_, y_ = X_.to(DEVICE), y_.to(DEVICE)\n",
        "\n",
        "        pred = model(X_)\n",
        "        loss = loss_function(pred, y_)\n",
        "\n",
        "        optimizer.zero_grad()\n",
        "        loss.backward()\n",
        "        optimizer.step()\n",
        "\n",
        "        epoch_loss += loss.item()*len(X_)\n",
        "        n_corrects += (torch.max(pred, axis=1)[1]==y_).sum().item()\n",
        "\n",
        "    epoch_loss /= n_samples\n",
        "    losses.append(epoch_loss)\n",
        "\n",
        "    epoch_acc = n_corrects/n_samples\n",
        "    accs.append(epoch_acc)\n",
        "\n",
        "    print(f\"Epoch: {epoch+1}\")\n",
        "    print(f\"Loss: {epoch_loss:.4f} - Acc: {epoch_acc:.4f}\")"
      ],
      "metadata": {
        "colab": {
          "base_uri": "https://localhost:8080/"
        },
        "id": "KzjU_7zbqxeP",
        "outputId": "1502d680-a4e0-4fa6-844a-4320ac9ef04b"
      },
      "execution_count": 11,
      "outputs": [
        {
          "output_type": "stream",
          "name": "stderr",
          "text": [
            "100%|██████████| 1875/1875 [00:11<00:00, 163.22it/s]\n"
          ]
        },
        {
          "output_type": "stream",
          "name": "stdout",
          "text": [
            "Epoch: 1\n",
            "Loss: 0.6141 - Acc: 0.7683\n"
          ]
        },
        {
          "output_type": "stream",
          "name": "stderr",
          "text": [
            "100%|██████████| 1875/1875 [00:11<00:00, 168.41it/s]\n"
          ]
        },
        {
          "output_type": "stream",
          "name": "stdout",
          "text": [
            "Epoch: 2\n",
            "Loss: 0.3966 - Acc: 0.8543\n"
          ]
        },
        {
          "output_type": "stream",
          "name": "stderr",
          "text": [
            "100%|██████████| 1875/1875 [00:11<00:00, 163.79it/s]\n"
          ]
        },
        {
          "output_type": "stream",
          "name": "stdout",
          "text": [
            "Epoch: 3\n",
            "Loss: 0.3474 - Acc: 0.8720\n"
          ]
        },
        {
          "output_type": "stream",
          "name": "stderr",
          "text": [
            "100%|██████████| 1875/1875 [00:11<00:00, 163.39it/s]\n"
          ]
        },
        {
          "output_type": "stream",
          "name": "stdout",
          "text": [
            "Epoch: 4\n",
            "Loss: 0.3176 - Acc: 0.8826\n"
          ]
        },
        {
          "output_type": "stream",
          "name": "stderr",
          "text": [
            "100%|██████████| 1875/1875 [00:11<00:00, 162.04it/s]\n"
          ]
        },
        {
          "output_type": "stream",
          "name": "stdout",
          "text": [
            "Epoch: 5\n",
            "Loss: 0.2958 - Acc: 0.8902\n"
          ]
        },
        {
          "output_type": "stream",
          "name": "stderr",
          "text": [
            "100%|██████████| 1875/1875 [00:11<00:00, 161.62it/s]\n"
          ]
        },
        {
          "output_type": "stream",
          "name": "stdout",
          "text": [
            "Epoch: 6\n",
            "Loss: 0.2784 - Acc: 0.8968\n"
          ]
        },
        {
          "output_type": "stream",
          "name": "stderr",
          "text": [
            "100%|██████████| 1875/1875 [00:11<00:00, 160.06it/s]\n"
          ]
        },
        {
          "output_type": "stream",
          "name": "stdout",
          "text": [
            "Epoch: 7\n",
            "Loss: 0.2638 - Acc: 0.9023\n"
          ]
        },
        {
          "output_type": "stream",
          "name": "stderr",
          "text": [
            "100%|██████████| 1875/1875 [00:11<00:00, 165.65it/s]\n"
          ]
        },
        {
          "output_type": "stream",
          "name": "stdout",
          "text": [
            "Epoch: 8\n",
            "Loss: 0.2508 - Acc: 0.9071\n"
          ]
        },
        {
          "output_type": "stream",
          "name": "stderr",
          "text": [
            "100%|██████████| 1875/1875 [00:10<00:00, 172.57it/s]\n"
          ]
        },
        {
          "output_type": "stream",
          "name": "stdout",
          "text": [
            "Epoch: 9\n",
            "Loss: 0.2390 - Acc: 0.9112\n"
          ]
        },
        {
          "output_type": "stream",
          "name": "stderr",
          "text": [
            "100%|██████████| 1875/1875 [00:11<00:00, 159.17it/s]"
          ]
        },
        {
          "output_type": "stream",
          "name": "stdout",
          "text": [
            "Epoch: 10\n",
            "Loss: 0.2281 - Acc: 0.9154\n"
          ]
        },
        {
          "output_type": "stream",
          "name": "stderr",
          "text": [
            "\n"
          ]
        }
      ]
    },
    {
      "cell_type": "markdown",
      "source": [
        "시각화하기"
      ],
      "metadata": {
        "id": "s3212MWX13qO"
      }
    },
    {
      "cell_type": "code",
      "source": [
        "import matplotlib.pyplot as plt\n",
        "fig, axes = plt.subplots(2, 1, figsize=(10, 5))\n",
        "axes[0].plot(losses)\n",
        "axes[1].plot(accs)\n",
        "axes[1].set_xlabel(\"Epoch\", fontsize=15)\n",
        "axes[0].set_ylabel(\"Cross Entorpy Loss\", fontsize=15)\n",
        "axes[1].set_ylabel(\"Accuracy\", fontsize=15)\n",
        "axes[0].tick_params(labelsize=10)\n",
        "axes[1].tick_params(labelsize=10)\n",
        "fig.tight_layout()\n",
        "plt.show()"
      ],
      "metadata": {
        "colab": {
          "base_uri": "https://localhost:8080/",
          "height": 464
        },
        "id": "wTyf1rQA14j1",
        "outputId": "0110f64c-f9f8-4d04-b24c-4f9f306f530b"
      },
      "execution_count": 12,
      "outputs": [
        {
          "output_type": "display_data",
          "data": {
            "text/plain": [
              "<Figure size 1000x500 with 2 Axes>"
            ],
            "image/png": "[encoded data removed]"
          },
          "metadata": {}
        }
      ]
    },
    {
      "cell_type": "markdown",
      "source": [
        "# MNIST 학습한 코드를 nn.Sequential로 정리하기"
      ],
      "metadata": {
        "id": "F1HJ4MQD3XUX"
      }
    },
    {
      "cell_type": "code",
      "source": [
        "import torch\n",
        "import torch.nn as nn\n",
        "from torchvision.datasets import MNIST\n",
        "from torchvision.transforms import ToTensor\n",
        "from torch.utils.data import DataLoader\n",
        "from torch.optim import SGD\n",
        "from tqdm import tqdm\n",
        "\n",
        "BATCH_SIZE = 32\n",
        "LR = 0.003\n",
        "EPOCHS = 10\n",
        "\n",
        "dataset = MNIST(root='data', train=True, download=True, transform=ToTensor())\n",
        "dataloader = DataLoader(dataset, batch_size=BATCH_SIZE)\n",
        "n_samples = len(dataset)\n",
        "\n",
        "DEVICE = 'cuda' if torch.cuda.is_available() else 'cpu'\n",
        "\n",
        "class LeNet5(nn.Module):\n",
        "    def __init__(self):\n",
        "        super(LeNet5, self).__init__()\n",
        "        self.model = nn.Sequential(\n",
        "            nn.Conv2d(in_channels=1, out_channels=6, kernel_size=5, stride=1, padding=2),\n",
        "            nn.Tanh(),\n",
        "            nn.AvgPool2d(kernel_size=2, stride=2),\n",
        "            nn.Conv2d(in_channels=6, out_channels=16, kernel_size=5, stride=1),\n",
        "            nn.Tanh(),\n",
        "            nn.AvgPool2d(kernel_size=2, stride=2),\n",
        "            nn.Conv2d(in_channels=16, out_channels=120, kernel_size=5, stride=1),\n",
        "            nn.Tanh())\n",
        "\n",
        "        self.fc = nn.Sequential(\n",
        "            nn.Linear(in_features=120, out_features=84),\n",
        "            nn.Tanh(),\n",
        "            nn.Linear(in_features=84, out_features=10))\n",
        "\n",
        "    def forward(self, x):\n",
        "        x = self.model(x)\n",
        "        x = x.view(x.size(0),-1)\n",
        "        x = self.fc(x)\n",
        "\n",
        "        return x\n",
        "\n",
        "model = LeNet5().to(DEVICE)\n",
        "loss_function = nn.CrossEntropyLoss()\n",
        "optimizer = SGD(model.parameters(), lr=LR)\n",
        "\n",
        "losses, accs = [], []\n",
        "for epoch in range(EPOCHS):\n",
        "    epoch_loss, n_corrects = 0., 0\n",
        "    for X_, y_ in tqdm(dataloader):\n",
        "        X_, y_ = X_.to(DEVICE), y_.to(DEVICE)\n",
        "\n",
        "        pred = model(X_)\n",
        "        loss = loss_function(pred, y_)\n",
        "\n",
        "        optimizer.zero_grad()\n",
        "        loss.backward()\n",
        "        optimizer.step()\n",
        "\n",
        "        epoch_loss += loss.item() * len(X_)\n",
        "        n_corrects += (torch.max(pred, axis=1)[1] == y_).sum().item()\n",
        "\n",
        "    epoch_loss /= n_samples\n",
        "    losses.append(epoch_loss)\n",
        "\n",
        "    epoch_acc = n_corrects / n_samples\n",
        "    accs.append(epoch_acc)\n",
        "\n",
        "    print(f\"Epoch: {epoch+1}\")\n",
        "    print(f\"Loss: {epoch_loss:.4f} - Acc: {epoch_acc:.4f}\")"
      ],
      "metadata": {
        "colab": {
          "base_uri": "https://localhost:8080/"
        },
        "id": "uOsevpNU3cpA",
        "outputId": "fba0eff9-2ac6-4647-b84d-3b54655a1fbf"
      },
      "execution_count": 4,
      "outputs": [
        {
          "output_type": "stream",
          "name": "stderr",
          "text": [
            "100%|██████████| 1875/1875 [00:10<00:00, 178.04it/s]\n"
          ]
        },
        {
          "output_type": "stream",
          "name": "stdout",
          "text": [
            "Epoch: 1\n",
            "Loss: 2.2575 - Acc: 0.2484\n"
          ]
        },
        {
          "output_type": "stream",
          "name": "stderr",
          "text": [
            "100%|██████████| 1875/1875 [00:11<00:00, 168.81it/s]\n"
          ]
        },
        {
          "output_type": "stream",
          "name": "stdout",
          "text": [
            "Epoch: 2\n",
            "Loss: 1.3796 - Acc: 0.6711\n"
          ]
        },
        {
          "output_type": "stream",
          "name": "stderr",
          "text": [
            "100%|██████████| 1875/1875 [00:12<00:00, 150.70it/s]\n"
          ]
        },
        {
          "output_type": "stream",
          "name": "stdout",
          "text": [
            "Epoch: 3\n",
            "Loss: 0.6239 - Acc: 0.8362\n"
          ]
        },
        {
          "output_type": "stream",
          "name": "stderr",
          "text": [
            "100%|██████████| 1875/1875 [00:11<00:00, 169.23it/s]\n"
          ]
        },
        {
          "output_type": "stream",
          "name": "stdout",
          "text": [
            "Epoch: 4\n",
            "Loss: 0.4503 - Acc: 0.8757\n"
          ]
        },
        {
          "output_type": "stream",
          "name": "stderr",
          "text": [
            "100%|██████████| 1875/1875 [00:11<00:00, 161.71it/s]\n"
          ]
        },
        {
          "output_type": "stream",
          "name": "stdout",
          "text": [
            "Epoch: 5\n",
            "Loss: 0.3780 - Acc: 0.8930\n"
          ]
        },
        {
          "output_type": "stream",
          "name": "stderr",
          "text": [
            "100%|██████████| 1875/1875 [00:10<00:00, 180.24it/s]\n"
          ]
        },
        {
          "output_type": "stream",
          "name": "stdout",
          "text": [
            "Epoch: 6\n",
            "Loss: 0.3354 - Acc: 0.9034\n"
          ]
        },
        {
          "output_type": "stream",
          "name": "stderr",
          "text": [
            "100%|██████████| 1875/1875 [00:10<00:00, 171.99it/s]\n"
          ]
        },
        {
          "output_type": "stream",
          "name": "stdout",
          "text": [
            "Epoch: 7\n",
            "Loss: 0.3038 - Acc: 0.9119\n"
          ]
        },
        {
          "output_type": "stream",
          "name": "stderr",
          "text": [
            "100%|██████████| 1875/1875 [00:11<00:00, 167.19it/s]\n"
          ]
        },
        {
          "output_type": "stream",
          "name": "stdout",
          "text": [
            "Epoch: 8\n",
            "Loss: 0.2774 - Acc: 0.9188\n"
          ]
        },
        {
          "output_type": "stream",
          "name": "stderr",
          "text": [
            "100%|██████████| 1875/1875 [00:11<00:00, 167.71it/s]\n"
          ]
        },
        {
          "output_type": "stream",
          "name": "stdout",
          "text": [
            "Epoch: 9\n",
            "Loss: 0.2542 - Acc: 0.9254\n"
          ]
        },
        {
          "output_type": "stream",
          "name": "stderr",
          "text": [
            "100%|██████████| 1875/1875 [00:11<00:00, 169.53it/s]"
          ]
        },
        {
          "output_type": "stream",
          "name": "stdout",
          "text": [
            "Epoch: 10\n",
            "Loss: 0.2336 - Acc: 0.9314\n"
          ]
        },
        {
          "output_type": "stream",
          "name": "stderr",
          "text": [
            "\n"
          ]
        }
      ]
    },
    {
      "cell_type": "code",
      "source": [
        "import matplotlib.pyplot as plt\n",
        "fig, axes = plt.subplots(2, 1, figsize=(10, 5))\n",
        "axes[0].plot(losses)\n",
        "axes[1].plot(accs)\n",
        "axes[1].set_xlabel(\"Epoch\", fontsize=15)\n",
        "axes[0].set_ylabel(\"Cross Entorpy Loss\", fontsize=15)\n",
        "axes[1].set_ylabel(\"Accuracy\", fontsize=15)\n",
        "axes[0].tick_params(labelsize=10)\n",
        "axes[1].tick_params(labelsize=10)\n",
        "fig.tight_layout()\n",
        "plt.show()"
      ],
      "metadata": {
        "colab": {
          "base_uri": "https://localhost:8080/",
          "height": 464
        },
        "id": "Y60Lc3ojXfmI",
        "outputId": "46cceb0b-adca-496d-da67-345fb5c8ec94"
      },
      "execution_count": 5,
      "outputs": [
        {
          "output_type": "display_data",
          "data": {
            "text/plain": [
              "<Figure size 1000x500 with 2 Axes>"
            ],
            "image/png": "[encoded data removed]"
          },
          "metadata": {}
        }
      ]
    },
    {
      "cell_type": "markdown",
      "source": [
        "#VGG Modeling"
      ],
      "metadata": {
        "id": "5k6nkrERe5Tq"
      }
    },
    {
      "cell_type": "markdown",
      "source": [
        "VGG 11 구현하기"
      ],
      "metadata": {
        "id": "u3plH_R_e_pa"
      }
    },
    {
      "cell_type": "code",
      "source": [
        "import torch\n",
        "import torch.nn as nn\n",
        "\n",
        "H, W = 224,224\n",
        "input_tensor = torch.randn(size=(8,3,H,W))\n",
        "\n",
        "class VGG11(nn.Module):\n",
        "    def __init__(self):\n",
        "        super(VGG11, self).__init__()\n",
        "\n",
        "        self.conv1 = nn.Conv2d(in_channels=3, out_channels=64, kernel_size=3, padding=1, stride=1)\n",
        "        self.act1 = nn.ReLU()\n",
        "        self.max_p1 = nn.MaxPool2d(kernel_size=2, stride=2)\n",
        "\n",
        "        self.conv2 = nn.Conv2d(in_channels=64, out_channels=128, kernel_size=3, padding=1, stride=1)\n",
        "        self.act2 = nn.ReLU()\n",
        "        self.max_p2  = nn.MaxPool2d(kernel_size=2, stride=2)\n",
        "\n",
        "        self.conv3 = nn.Conv2d(in_channels=128, out_channels=256, kernel_size=3, padding=1, stride=1)\n",
        "        self.act3 = nn.ReLU()\n",
        "        self.conv4 = nn.Conv2d(in_channels=256, out_channels=256, kernel_size=3, padding=1, stride=1)\n",
        "        self.act4 = nn.ReLU()\n",
        "        self.max_p3 = nn.MaxPool2d(kernel_size=2, stride=2)\n",
        "\n",
        "        self.conv5 = nn.Conv2d(in_channels=256, out_channels=512, kernel_size=3, padding=1, stride=1)\n",
        "        self.act5 = nn.ReLU()\n",
        "        self.conv6 = nn.Conv2d(in_channels=512, out_channels=512, kernel_size=3, padding=1, stride=1)\n",
        "        self.act6 = nn.ReLU()\n",
        "        self.max_p4 = nn.MaxPool2d(kernel_size=2, stride=2)\n",
        "\n",
        "        self.conv7 = nn.Conv2d(in_channels=512, out_channels=512, kernel_size=3, padding=1, stride=1)\n",
        "        self.act7 = nn.ReLU()\n",
        "        self.conv8 = nn.Conv2d(in_channels=512, out_channels=512, kernel_size=3, padding=1, stride=1)\n",
        "        self.act8 = nn.ReLU()\n",
        "        self.max_p5 = nn.MaxPool2d(kernel_size=2, stride=2)\n",
        "\n",
        "        self.fc1 = nn.Linear(in_features=25088, out_features=4096)\n",
        "        self.act9 = nn.ReLU()\n",
        "\n",
        "        self.fc2 = nn.Linear(in_features=4096, out_features=4096)\n",
        "        self.act10 = nn.ReLU()\n",
        "\n",
        "        self.fc3 = nn.Linear(in_features=4096, out_features=1000)\n",
        "        self.act11 = nn.ReLU()\n",
        "\n",
        "    def forward(self,x):\n",
        "        x = self.conv1(x)\n",
        "        x = self.act1(x)\n",
        "        x = self.max_p1(x)\n",
        "        print(x.shape)\n",
        "        x = self.conv2(x)\n",
        "        x = self.act2(x)\n",
        "        x = self.max_p2(x)\n",
        "        print(x.shape)\n",
        "        x = self.conv3(x)\n",
        "        x = self.act3(x)\n",
        "        x = self.conv4(x)\n",
        "        x = self.act4(x)\n",
        "        x = self.max_p3(x)\n",
        "        print(x.shape)\n",
        "        x = self.conv5(x)\n",
        "        x = self.act5(x)\n",
        "        x = self.conv6(x)\n",
        "        x = self.act6(x)\n",
        "        x = self.max_p4(x)\n",
        "        print(x.shape)\n",
        "        x = self.conv7(x)\n",
        "        x = self.act7(x)\n",
        "        x = self.conv8(x)\n",
        "        x = self.act8(x)\n",
        "        x = self.max_p5(x)\n",
        "        print(x.shape)\n",
        "        x = x.view(x.size(0),-1)\n",
        "        print(x.shape)\n",
        "        x = self.fc1(x)\n",
        "        x = self.act9(x)\n",
        "        print(x.shape)\n",
        "        x = self.fc2(x)\n",
        "        x = self.act10(x)\n",
        "        print(x.shape)\n",
        "        x = self.fc3(x)\n",
        "        x = self.act11(x)\n",
        "        print(x.shape)\n",
        "        return x\n",
        "model = VGG11()\n",
        "result = model(input_tensor)\n",
        "print(result)"
      ],
      "metadata": {
        "colab": {
          "base_uri": "https://localhost:8080/"
        },
        "id": "2JlR1Kmve8Rf",
        "outputId": "01fb7ee5-189f-42ca-f67f-3b97595508eb"
      },
      "execution_count": 37,
      "outputs": [
        {
          "output_type": "stream",
          "name": "stdout",
          "text": [
            "torch.Size([8, 64, 112, 112])\n",
            "torch.Size([8, 128, 56, 56])\n",
            "torch.Size([8, 256, 28, 28])\n",
            "torch.Size([8, 512, 14, 14])\n",
            "torch.Size([8, 512, 7, 7])\n",
            "torch.Size([8, 25088])\n",
            "torch.Size([8, 4096])\n",
            "torch.Size([8, 4096])\n",
            "torch.Size([8, 1000])\n",
            "tensor([[0.0000e+00, 2.1323e-03, 1.2011e-02,  ..., 0.0000e+00, 0.0000e+00,\n",
            "         1.1912e-04],\n",
            "        [0.0000e+00, 2.1660e-03, 1.2020e-02,  ..., 0.0000e+00, 0.0000e+00,\n",
            "         9.6958e-05],\n",
            "        [0.0000e+00, 2.1408e-03, 1.2011e-02,  ..., 0.0000e+00, 0.0000e+00,\n",
            "         1.2336e-04],\n",
            "        ...,\n",
            "        [0.0000e+00, 2.1557e-03, 1.2014e-02,  ..., 0.0000e+00, 0.0000e+00,\n",
            "         1.1837e-04],\n",
            "        [0.0000e+00, 2.1501e-03, 1.2030e-02,  ..., 0.0000e+00, 0.0000e+00,\n",
            "         1.0110e-04],\n",
            "        [0.0000e+00, 2.1492e-03, 1.1997e-02,  ..., 0.0000e+00, 0.0000e+00,\n",
            "         1.0258e-04]], grad_fn=<ReluBackward0>)\n"
          ]
        }
      ]
    },
    {
      "cell_type": "code",
      "source": [
        "import torch\n",
        "import torch.nn as nn\n",
        "\n",
        "H, W = 224,224\n",
        "input_tensor = torch.randn(size=(3,H,W))\n",
        "\n",
        "class VGG11(nn.Module):\n",
        "    def __init__(self):\n",
        "        super(VGG11, self).__init__()\n",
        "        self.model = nn.Sequential(\n",
        "            nn.Conv2d(in_channels=3, out_channels=64, kernel_size=3, padding=1, stride=1),\n",
        "            nn.ReLU(),\n",
        "            nn.MaxPool2d(kernel_size=2, stride=2),\n",
        "\n",
        "            nn.Conv2d(in_channels=64, out_channels=128, kernel_size=3, padding=1, stride=1),\n",
        "            nn.ReLU(),\n",
        "            nn.MaxPool2d(kernel_size=2, stride=2),\n",
        "\n",
        "            nn.Conv2d(in_channels=128, out_channels=256, kernel_size=3, padding=1, stride=1),\n",
        "            nn.ReLU(),\n",
        "            nn.Conv2d(in_channels=256, out_channels=256, kernel_size=3, padding=1, stride=1),\n",
        "            nn.ReLU(),\n",
        "            nn.MaxPool2d(kernel_size=2, stride=2),\n",
        "\n",
        "            nn.Conv2d(in_channels=256, out_channels=512, kernel_size=3, padding=1, stride=1),\n",
        "            nn.ReLU(),\n",
        "            nn.Conv2d(in_channels=512, out_channels=512, kernel_size=3, padding=1, stride=1),\n",
        "            nn.ReLU(),\n",
        "            nn.MaxPool2d(kernel_size=2, stride=2),\n",
        "\n",
        "            nn.Conv2d(in_channels=512, out_channels=512, kernel_size=3, padding=1, stride=1),\n",
        "            nn.ReLU(),\n",
        "            nn.Conv2d(in_channels=512, out_channels=512, kernel_size=3, padding=1, stride=1),\n",
        "            nn.ReLU(),\n",
        "            nn.MaxPool2d(kernel_size=2, stride=2))\n",
        "\n",
        "        self.fc = nn.Sequential(\n",
        "            nn.Linear(in_features=25088, out_features=4096),\n",
        "            nn.ReLU(),\n",
        "\n",
        "            nn.Linear(in_features=4096, out_features=4096),\n",
        "            nn.ReLU(),\n",
        "\n",
        "            nn.Linear(in_features=4096, out_features=1000),\n",
        "            nn.ReLU())\n",
        "\n",
        "    def forward(self, x):\n",
        "        x = self.model(x)\n",
        "        print(x.shape)\n",
        "        x = x.view(x.size(0),-1)\n",
        "        x = self.fc(x)\n",
        "        print(x.shape)\n",
        "        return x\n",
        "\n",
        "model = VGG11()\n",
        "result = model(input_tensor)\n",
        "print(result)"
      ],
      "metadata": {
        "colab": {
          "base_uri": "https://localhost:8080/"
        },
        "id": "vXmXZ7SmmRQa",
        "outputId": "e536ff2a-915d-4219-f4f6-dc49bf4a2746"
      },
      "execution_count": 38,
      "outputs": [
        {
          "output_type": "stream",
          "name": "stdout",
          "text": [
            "torch.Size([8, 512, 7, 7])\n",
            "torch.Size([8, 1000])\n",
            "tensor([[0.0000, 0.0107, 0.0079,  ..., 0.0056, 0.0000, 0.0000],\n",
            "        [0.0000, 0.0108, 0.0079,  ..., 0.0055, 0.0000, 0.0000],\n",
            "        [0.0000, 0.0107, 0.0079,  ..., 0.0056, 0.0000, 0.0000],\n",
            "        ...,\n",
            "        [0.0000, 0.0107, 0.0079,  ..., 0.0055, 0.0000, 0.0000],\n",
            "        [0.0000, 0.0107, 0.0079,  ..., 0.0055, 0.0000, 0.0000],\n",
            "        [0.0000, 0.0107, 0.0079,  ..., 0.0056, 0.0000, 0.0000]],\n",
            "       grad_fn=<ReluBackward0>)\n"
          ]
        }
      ]
    }
  ]
}