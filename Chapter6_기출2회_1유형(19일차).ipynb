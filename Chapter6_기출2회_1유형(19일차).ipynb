{
  "nbformat": 4,
  "nbformat_minor": 0,
  "metadata": {
    "colab": {
      "provenance": [],
      "authorship_tag": "ABX9TyPF1J2CXRAstPFb3gFoENMb",
      "include_colab_link": true
    },
    "kernelspec": {
      "name": "python3",
      "display_name": "Python 3"
    },
    "language_info": {
      "name": "python"
    }
  },
  "cells": [
    {
      "cell_type": "markdown",
      "metadata": {
        "id": "view-in-github",
        "colab_type": "text"
      },
      "source": [
        "<a href=\"https://colab.research.google.com/github/cowsilver57/sessac_test/blob/main/Chapter6_%EA%B8%B0%EC%B6%9C2%ED%9A%8C_1%EC%9C%A0%ED%98%95(19%EC%9D%BC%EC%B0%A8).ipynb\" target=\"_parent\"><img src=\"https://colab.research.google.com/assets/colab-badge.svg\" alt=\"Open In Colab\"/></a>"
      ]
    },
    {
      "cell_type": "code",
      "execution_count": 1,
      "metadata": {
        "id": "-uLga7Lig0JT",
        "colab": {
          "base_uri": "https://localhost:8080/"
        },
        "outputId": "5eb68bca-a2b9-4de2-a6ef-b97e1f12044f"
      },
      "outputs": [
        {
          "output_type": "stream",
          "name": "stdout",
          "text": [
            "Cloning into 'yemoonsaBigdata'...\n",
            "remote: Enumerating objects: 637, done.\u001b[K\n",
            "remote: Counting objects: 100% (274/274), done.\u001b[K\n",
            "remote: Compressing objects: 100% (165/165), done.\u001b[K\n",
            "remote: Total 637 (delta 136), reused 184 (delta 109), pack-reused 363\u001b[K\n",
            "Receiving objects: 100% (637/637), 10.76 MiB | 14.46 MiB/s, done.\n",
            "Resolving deltas: 100% (321/321), done.\n"
          ]
        }
      ],
      "source": [
        "#github와 colab 연동\n",
        "!git clone https://github.com/AnalyticsKnight/yemoonsaBigdata"
      ]
    },
    {
      "cell_type": "markdown",
      "source": [
        "#문제 1"
      ],
      "metadata": {
        "id": "AvwK0fPbhkFz"
      }
    },
    {
      "cell_type": "markdown",
      "source": [
        "다음은 Boston Housing 데이터 세트이다.\n",
        "\n",
        "1-1. 범죄율 컬럼인 Crime 항목의 상위에서 10번째 값(즉, 범죄율을 큰 순서로 내림차순 정렬했을 때, 10번째에 위치한 값)으로 상위 10개의 값을 변환\n",
        "\n",
        "1-2. Age가 80 이상인 데이터를 추출하여 crim의 평균값 계산하시오."
      ],
      "metadata": {
        "id": "LGQqCqG7i3M5"
      }
    },
    {
      "cell_type": "code",
      "source": [
        "import pandas as pd\n",
        "import numpy as np\n",
        "data = pd.read_csv('/content/yemoonsaBigdata/datasets/Part3/201_boston.csv')\n",
        "\n",
        "#crim을 기준으로 오름차순 정렬했을 때, 10번째 값 구하기\n",
        "data = data.sort_values('CRIM', ascending=False).reset_index(drop=True)\n",
        "crim_value = data.iloc[9,0]\n",
        "# print(crim_value)\n",
        "\n",
        "#상위 10개의 값을 crim_value 값으로 대체하기\n",
        "data.iloc[:10,0] = crim_value\n",
        "\n",
        "#대체된 데이터에서 AGE가 80 이상인 데이터 골라내기\n",
        "rst_data = data[data['AGE']>=80]\n",
        "\n",
        "#최종 결과로 rst_data에서의 CRIME의 평균 구하기\n",
        "result = rst_data['CRIM'].mean()\n",
        "print(result)"
      ],
      "metadata": {
        "colab": {
          "base_uri": "https://localhost:8080/"
        },
        "id": "bueSkHHehrf5",
        "outputId": "15f85679-7ec6-4424-f5ed-a10217258220"
      },
      "execution_count": 31,
      "outputs": [
        {
          "output_type": "stream",
          "name": "stdout",
          "text": [
            "5.759386625\n"
          ]
        }
      ]
    },
    {
      "cell_type": "markdown",
      "source": [
        "#문제 2."
      ],
      "metadata": {
        "id": "Ueogyx3yjI3T"
      }
    },
    {
      "cell_type": "markdown",
      "source": [
        "다음은 California Housing 데이터 세트이다.\n",
        "\n",
        "2-1. 주어진 데이터의 첫 번째 행부터 순서대로 80%까지의 데이터를 훈련 데이터로 추출 후, 전체 방 개수 컬럼을 의미하는 'total bedrooms'변수의 결측치를 'total_bedrooms' 변수의 중앙값으로 대체하 데이터 세트를 구성한다.\n",
        "\n",
        "2-2. 결측치 대체 전의 'total_bedrooms' 변수 표준편차 값과 결측치 대체 후의 'total_bedrooms' 변수 표준편차 값의 차이에 대한 절댓값을 계산하시오."
      ],
      "metadata": {
        "id": "DvH8umjMjKix"
      }
    },
    {
      "cell_type": "code",
      "source": [
        "import pandas as pd\n",
        "df = pd.read_csv('/content/yemoonsaBigdata/datasets/Part3/202_housing.csv')\n",
        "\n",
        "#첫 번째 행부터 순서대로 80%의 데이터 뽑기\n",
        "value = int(len(df)*0.8)\n",
        "rst_df = df.loc[:value-1, 'total_bedrooms']\n",
        "# print(rst_df)\n",
        "\n",
        "#값을 대체하기 전의 표준편차와 중앙값 구하기\n",
        "std1 = rst_df.std()\n",
        "med = rst_df.median()\n",
        "print(std1, med)\n",
        "\n",
        "#중앙값으로 결측치를 채워넣기\n",
        "rst_df_fillna = rst_df.fillna(med)\n",
        "#채워넣은 데이터의 표준편차 다시 구하기\n",
        "std2 = rst_df_fillna.std()\n",
        "print(std2)\n",
        "\n",
        "#채워넣기 전 표준편차와 채워넣은 후의 표준편차의 차이의 절댓값 구하기\n",
        "result = abs(std1-std2)\n",
        "print(result)"
      ],
      "metadata": {
        "colab": {
          "base_uri": "https://localhost:8080/"
        },
        "id": "YiAs_ooijJ4D",
        "outputId": "37ed40ae-77ca-4b96-ee6e-fb421a52a7cf"
      },
      "execution_count": 51,
      "outputs": [
        {
          "output_type": "stream",
          "name": "stdout",
          "text": [
            "435.90057705252616 436.0\n",
            "433.9254297608805\n",
            "1.9751472916456692\n"
          ]
        }
      ]
    },
    {
      "cell_type": "markdown",
      "source": [
        "#문제 3."
      ],
      "metadata": {
        "id": "c0oXGmoFjtgR"
      }
    },
    {
      "cell_type": "markdown",
      "source": [
        "2번 문항에서 활용한 California Housing 데이터 세트를 그대로 활용한다.\n",
        "\n",
        "인구 컬럼인 population 항목의 이상값의 합계를 계산하시오.\n",
        "\n",
        "(이상값은 평균값에서 1.5*표준편차를 초과하거나 미만인 값의 범위로 정한다.)"
      ],
      "metadata": {
        "id": "UT6tYz-EjvLm"
      }
    },
    {
      "cell_type": "code",
      "source": [
        "import pandas as pd\n",
        "df = pd.read_csv('/content/yemoonsaBigdata/datasets/Part3/203_housing.csv')\n",
        "#이상값을 구하기 위해 먼저 평균값과 표준편차 값을 구한다.\n",
        "\n",
        "#평균값, 표준편차 값\n",
        "mean = df['population'].mean()\n",
        "std = df['population'].std()\n",
        "print('평균:', mean)\n",
        "print('표준편차:', std)\n",
        "print(\"-\"*80)\n",
        "\n",
        "#이상값\n",
        "lower = mean-(std*1.5)\n",
        "upper = mean+(std*1.5)\n",
        "print('Q1 값:',lower)\n",
        "print('Q3 값:',upper)\n",
        "print(\"-\"*80)\n",
        "\n",
        "#이상값 범위에 포함되는 data 뽑기\n",
        "rst_df = df.loc[(df['population']<lower)|(df['population']>upper), 'population']\n",
        "print(rst_df)\n",
        "print(\"-\"*80)\n",
        "\n",
        "#뽑은 데이터의 합계 구하기\n",
        "result = rst_df.sum()\n",
        "print(result)"
      ],
      "metadata": {
        "colab": {
          "base_uri": "https://localhost:8080/"
        },
        "id": "jEz2Rr3Umw9A",
        "outputId": "459feea8-7591-4964-e1b5-53799584be86"
      },
      "execution_count": 67,
      "outputs": [
        {
          "output_type": "stream",
          "name": "stdout",
          "text": [
            "평균: 1425.4767441860465\n",
            "표준편차: 1132.462121765341\n",
            "--------------------------------------------------------------------------------\n",
            "Q1 값: -273.2164384619648\n",
            "Q3 값: 3124.169926834058\n",
            "--------------------------------------------------------------------------------\n",
            "95       3469.0\n",
            "185      4367.0\n",
            "283      4985.0\n",
            "460      3337.0\n",
            "485      3276.0\n",
            "          ...  \n",
            "20543    3717.0\n",
            "20544    6330.0\n",
            "20563    6837.0\n",
            "20604    3265.0\n",
            "20629    6912.0\n",
            "Name: population, Length: 1207, dtype: float64\n",
            "--------------------------------------------------------------------------------\n",
            "5607295.0\n"
          ]
        }
      ]
    }
  ]
}