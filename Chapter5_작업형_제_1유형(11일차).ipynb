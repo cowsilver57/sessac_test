{
  "nbformat": 4,
  "nbformat_minor": 0,
  "metadata": {
    "colab": {
      "provenance": [],
      "authorship_tag": "ABX9TyNxfkoQBwhH+SGl1UGjlSvR",
      "include_colab_link": true
    },
    "kernelspec": {
      "name": "python3",
      "display_name": "Python 3"
    },
    "language_info": {
      "name": "python"
    }
  },
  "cells": [
    {
      "cell_type": "markdown",
      "metadata": {
        "id": "view-in-github",
        "colab_type": "text"
      },
      "source": [
        "<a href=\"https://colab.research.google.com/github/cowsilver57/sessac_test/blob/main/Chapter5_%EC%9E%91%EC%97%85%ED%98%95_%EC%A0%9C_1%EC%9C%A0%ED%98%95(11%EC%9D%BC%EC%B0%A8).ipynb\" target=\"_parent\"><img src=\"https://colab.research.google.com/assets/colab-badge.svg\" alt=\"Open In Colab\"/></a>"
      ]
    },
    {
      "cell_type": "code",
      "execution_count": 72,
      "metadata": {
        "id": "3SXBpH9j3DWx",
        "colab": {
          "base_uri": "https://localhost:8080/"
        },
        "outputId": "e0dde040-59a7-4038-a644-ac3dc1b11a8b"
      },
      "outputs": [
        {
          "output_type": "stream",
          "name": "stdout",
          "text": [
            "fatal: destination path 'yemoonsaBigdata' already exists and is not an empty directory.\n"
          ]
        }
      ],
      "source": [
        "#github와 colab 연동\n",
        "!git clone https://github.com/AnalyticsKnight/yemoonsaBigdata\n",
        "\n",
        "import pandas as pd\n",
        "data = pd.read_csv('/content/yemoonsaBigdata/datasets/Part2/iris.csv')"
      ]
    },
    {
      "cell_type": "markdown",
      "source": [
        "#IRIS Data"
      ],
      "metadata": {
        "id": "R0BerrH7D3t0"
      }
    },
    {
      "cell_type": "markdown",
      "source": [
        "## 문제 1. Iris 데이터 세트에서 species 변수 값별로 petal_width 상위 25% 값을 구한 후, 가장 큰 값과 가장 작은 값 사이의 차이를 계산하시오."
      ],
      "metadata": {
        "id": "Rf_piQl64WDx"
      }
    },
    {
      "cell_type": "code",
      "source": [
        "q1 = print(data.groupby('species')['petal_width'].quantile([0.75]))\n",
        "max = 2.3\n",
        "min = 0.3\n",
        "result = round(max-min)\n",
        "print(result)\n",
        "#답 : 2"
      ],
      "metadata": {
        "colab": {
          "base_uri": "https://localhost:8080/"
        },
        "id": "TUXH5cV94TOJ",
        "outputId": "b0dea851-6c15-4798-ede3-1ba160dfd78a"
      },
      "execution_count": 73,
      "outputs": [
        {
          "output_type": "stream",
          "name": "stdout",
          "text": [
            "species         \n",
            "setosa      0.75    0.3\n",
            "versicolor  0.75    1.5\n",
            "virginica   0.75    2.3\n",
            "Name: petal_width, dtype: float64\n",
            "2\n"
          ]
        }
      ]
    },
    {
      "cell_type": "markdown",
      "source": [
        "## 문제 2. Iris 데이터 세트에서 sepal_length 변수의 전체 값들을 중복 없이 리스트로 만든 후, 오름차순으로 정렬했을 때 리스트의 10번째에 오는 숫자를 계산하시오."
      ],
      "metadata": {
        "id": "aDZLfVCg4dwf"
      }
    },
    {
      "cell_type": "code",
      "source": [
        "#unique 함수는 중복되지 않는 고유한 값들을 반환함.\n",
        "#tolist 함수는 배열을 파이썬 리스트로 변환함. -> lst는 sepal_length 열의 고유한 값들을 포함한 리스트가 됨.\n",
        "lst = data['sepal_length'].unique().tolist()\n",
        "#lst를 오름차순으로 정렬\n",
        "lst.sort()\n",
        "#10번째 오는 숫자 출력\n",
        "lst[9]\n",
        "#답 : 5.2"
      ],
      "metadata": {
        "colab": {
          "base_uri": "https://localhost:8080/"
        },
        "id": "ZU8TqGFv6tbB",
        "outputId": "eb8b7e07-268c-4fa7-c27c-d301b2c78b08"
      },
      "execution_count": 74,
      "outputs": [
        {
          "output_type": "execute_result",
          "data": {
            "text/plain": [
              "5.2"
            ]
          },
          "metadata": {},
          "execution_count": 74
        }
      ]
    },
    {
      "cell_type": "markdown",
      "source": [
        "## 문제 3. Iris 데이터 세트를 sepal_width 변수 값으로 내림차순한 후 위에서부터 100개 행을 학습 데이터로 분리하고, 학습 데이터에서 sepal_width의 표준편차 값을 구한 후, 50을 곱한 값을 계산하시오.(최종 계산 값의 소수점 이하는 버린다.)"
      ],
      "metadata": {
        "id": "OntWOHb1BckT"
      }
    },
    {
      "cell_type": "code",
      "source": [
        "#내림차순으로 정렬할 때, ascending=False 사용\n",
        "sorted_data = data.sort_values(by='sepal_width', ascending=False).reset_index(drop=True)\n",
        "#100개의 행을 학습 데이터로 분리\n",
        "sorted_data_split = sorted_data.loc[0:99]\n",
        "#소수점 이하를 버릴 때 int 함수 사용\n",
        "int(sorted_data_split['sepal_width'].std()*50)\n",
        "#답 : 16"
      ],
      "metadata": {
        "colab": {
          "base_uri": "https://localhost:8080/"
        },
        "id": "eoj-ljgtBpDt",
        "outputId": "49dfaa41-edb9-4144-ef74-9cee357bbad7"
      },
      "execution_count": 75,
      "outputs": [
        {
          "output_type": "execute_result",
          "data": {
            "text/plain": [
              "16"
            ]
          },
          "metadata": {},
          "execution_count": 75
        }
      ]
    },
    {
      "cell_type": "markdown",
      "source": [
        "## 문제 4. Iris 데이터 세트에서 species 변수 값별로 petal_length 상위 10개 행(큰 값)의 평균값을 구한 후, 평균값의 합을 계산하시오.(최종 계산 값의 소수점 이하는 반올림한다.)"
      ],
      "metadata": {
        "id": "YuUowP6xBphj"
      }
    },
    {
      "cell_type": "code",
      "source": [
        "#species 열은 오름차순으로 정렬되며, petal_length 값은 내림차순으로 정렬됨.\n",
        "data = data.sort_values(by=['species','petal_length'], ascending=[True, False])\n",
        "#상위 10개 행 구하기\n",
        "data_top10 = data.groupby('species').head(10)\n",
        "#mean으로 평균값, sum으로 그 합을, round로 반올림\n",
        "print(round(data_top10.groupby('species')['petal_length'].mean().sum()))\n",
        "#답 : 13"
      ],
      "metadata": {
        "colab": {
          "base_uri": "https://localhost:8080/"
        },
        "id": "YESh-UUpCmtT",
        "outputId": "727a9949-1303-4c85-cd0d-4d9923dca3c3"
      },
      "execution_count": 76,
      "outputs": [
        {
          "output_type": "stream",
          "name": "stdout",
          "text": [
            "13\n"
          ]
        }
      ]
    },
    {
      "cell_type": "markdown",
      "source": [
        "## 문제 5. Iris 데이터 세트에서 sepal_length 변수가 이상치를 가지는 데이터 행 수를 계산하시오. (단, 이상치 범위는(평균+2*표준편차) 이상이거나 (평균-2*표준편차) 이하이다.)\n"
      ],
      "metadata": {
        "id": "_XCGTOSBB0VK"
      }
    },
    {
      "cell_type": "code",
      "source": [
        "mean = data['sepal_length'].mean()\n",
        "std = data['sepal_length'].std()\n",
        "crit1 = mean + 2*std\n",
        "crit2 = mean - 2*std\n",
        "data[(data['sepal_length']>=crit1)|(data['sepal_length']<=crit2)]\n",
        "#답 : 6"
      ],
      "metadata": {
        "colab": {
          "base_uri": "https://localhost:8080/",
          "height": 237
        },
        "id": "Bce-d2tgDLn7",
        "outputId": "18a47a98-68aa-43c8-a21b-36345150fe10"
      },
      "execution_count": 77,
      "outputs": [
        {
          "output_type": "execute_result",
          "data": {
            "text/plain": [
              "     sepal_length  sepal_width  petal_length  petal_width    species\n",
              "118           7.7          2.6           6.9          2.3  virginica\n",
              "117           7.7          3.8           6.7          2.2  virginica\n",
              "122           7.7          2.8           6.7          2.0  virginica\n",
              "105           7.6          3.0           6.6          2.1  virginica\n",
              "131           7.9          3.8           6.4          2.0  virginica\n",
              "135           7.7          3.0           6.1          2.3  virginica"
            ],
            "text/html": [
              "\n",
              "  <div id=\"df-362965db-3ad6-4faa-9e60-b5b290cd1bff\" class=\"colab-df-container\">\n",
              "    <div>\n",
              "<style scoped>\n",
              "    .dataframe tbody tr th:only-of-type {\n",
              "        vertical-align: middle;\n",
              "    }\n",
              "\n",
              "    .dataframe tbody tr th {\n",
              "        vertical-align: top;\n",
              "    }\n",
              "\n",
              "    .dataframe thead th {\n",
              "        text-align: right;\n",
              "    }\n",
              "</style>\n",
              "<table border=\"1\" class=\"dataframe\">\n",
              "  <thead>\n",
              "    <tr style=\"text-align: right;\">\n",
              "      <th></th>\n",
              "      <th>sepal_length</th>\n",
              "      <th>sepal_width</th>\n",
              "      <th>petal_length</th>\n",
              "      <th>petal_width</th>\n",
              "      <th>species</th>\n",
              "    </tr>\n",
              "  </thead>\n",
              "  <tbody>\n",
              "    <tr>\n",
              "      <th>118</th>\n",
              "      <td>7.7</td>\n",
              "      <td>2.6</td>\n",
              "      <td>6.9</td>\n",
              "      <td>2.3</td>\n",
              "      <td>virginica</td>\n",
              "    </tr>\n",
              "    <tr>\n",
              "      <th>117</th>\n",
              "      <td>7.7</td>\n",
              "      <td>3.8</td>\n",
              "      <td>6.7</td>\n",
              "      <td>2.2</td>\n",
              "      <td>virginica</td>\n",
              "    </tr>\n",
              "    <tr>\n",
              "      <th>122</th>\n",
              "      <td>7.7</td>\n",
              "      <td>2.8</td>\n",
              "      <td>6.7</td>\n",
              "      <td>2.0</td>\n",
              "      <td>virginica</td>\n",
              "    </tr>\n",
              "    <tr>\n",
              "      <th>105</th>\n",
              "      <td>7.6</td>\n",
              "      <td>3.0</td>\n",
              "      <td>6.6</td>\n",
              "      <td>2.1</td>\n",
              "      <td>virginica</td>\n",
              "    </tr>\n",
              "    <tr>\n",
              "      <th>131</th>\n",
              "      <td>7.9</td>\n",
              "      <td>3.8</td>\n",
              "      <td>6.4</td>\n",
              "      <td>2.0</td>\n",
              "      <td>virginica</td>\n",
              "    </tr>\n",
              "    <tr>\n",
              "      <th>135</th>\n",
              "      <td>7.7</td>\n",
              "      <td>3.0</td>\n",
              "      <td>6.1</td>\n",
              "      <td>2.3</td>\n",
              "      <td>virginica</td>\n",
              "    </tr>\n",
              "  </tbody>\n",
              "</table>\n",
              "</div>\n",
              "    <div class=\"colab-df-buttons\">\n",
              "\n",
              "  <div class=\"colab-df-container\">\n",
              "    <button class=\"colab-df-convert\" onclick=\"convertToInteractive('df-362965db-3ad6-4faa-9e60-b5b290cd1bff')\"\n",
              "            title=\"Convert this dataframe to an interactive table.\"\n",
              "            style=\"display:none;\">\n",
              "\n",
              "  <svg xmlns=\"http://www.w3.org/2000/svg\" height=\"24px\" viewBox=\"0 -960 960 960\">\n",
              "    <path d=\"M120-120v-720h720v720H120Zm60-500h600v-160H180v160Zm220 220h160v-160H400v160Zm0 220h160v-160H400v160ZM180-400h160v-160H180v160Zm440 0h160v-160H620v160ZM180-180h160v-160H180v160Zm440 0h160v-160H620v160Z\"/>\n",
              "  </svg>\n",
              "    </button>\n",
              "\n",
              "  <style>\n",
              "    .colab-df-container {\n",
              "      display:flex;\n",
              "      gap: 12px;\n",
              "    }\n",
              "\n",
              "    .colab-df-convert {\n",
              "      background-color: #E8F0FE;\n",
              "      border: none;\n",
              "      border-radius: 50%;\n",
              "      cursor: pointer;\n",
              "      display: none;\n",
              "      fill: #1967D2;\n",
              "      height: 32px;\n",
              "      padding: 0 0 0 0;\n",
              "      width: 32px;\n",
              "    }\n",
              "\n",
              "    .colab-df-convert:hover {\n",
              "      background-color: #E2EBFA;\n",
              "      box-shadow: 0px 1px 2px rgba(60, 64, 67, 0.3), 0px 1px 3px 1px rgba(60, 64, 67, 0.15);\n",
              "      fill: #174EA6;\n",
              "    }\n",
              "\n",
              "    .colab-df-buttons div {\n",
              "      margin-bottom: 4px;\n",
              "    }\n",
              "\n",
              "    [theme=dark] .colab-df-convert {\n",
              "      background-color: #3B4455;\n",
              "      fill: #D2E3FC;\n",
              "    }\n",
              "\n",
              "    [theme=dark] .colab-df-convert:hover {\n",
              "      background-color: #434B5C;\n",
              "      box-shadow: 0px 1px 3px 1px rgba(0, 0, 0, 0.15);\n",
              "      filter: drop-shadow(0px 1px 2px rgba(0, 0, 0, 0.3));\n",
              "      fill: #FFFFFF;\n",
              "    }\n",
              "  </style>\n",
              "\n",
              "    <script>\n",
              "      const buttonEl =\n",
              "        document.querySelector('#df-362965db-3ad6-4faa-9e60-b5b290cd1bff button.colab-df-convert');\n",
              "      buttonEl.style.display =\n",
              "        google.colab.kernel.accessAllowed ? 'block' : 'none';\n",
              "\n",
              "      async function convertToInteractive(key) {\n",
              "        const element = document.querySelector('#df-362965db-3ad6-4faa-9e60-b5b290cd1bff');\n",
              "        const dataTable =\n",
              "          await google.colab.kernel.invokeFunction('convertToInteractive',\n",
              "                                                    [key], {});\n",
              "        if (!dataTable) return;\n",
              "\n",
              "        const docLinkHtml = 'Like what you see? Visit the ' +\n",
              "          '<a target=\"_blank\" href=https://colab.research.google.com/notebooks/data_table.ipynb>data table notebook</a>'\n",
              "          + ' to learn more about interactive tables.';\n",
              "        element.innerHTML = '';\n",
              "        dataTable['output_type'] = 'display_data';\n",
              "        await google.colab.output.renderOutput(dataTable, element);\n",
              "        const docLink = document.createElement('div');\n",
              "        docLink.innerHTML = docLinkHtml;\n",
              "        element.appendChild(docLink);\n",
              "      }\n",
              "    </script>\n",
              "  </div>\n",
              "\n",
              "\n",
              "<div id=\"df-faa6a70c-2c42-4145-b1bc-6fbcb8a15d55\">\n",
              "  <button class=\"colab-df-quickchart\" onclick=\"quickchart('df-faa6a70c-2c42-4145-b1bc-6fbcb8a15d55')\"\n",
              "            title=\"Suggest charts.\"\n",
              "            style=\"display:none;\">\n",
              "\n",
              "<svg xmlns=\"http://www.w3.org/2000/svg\" height=\"24px\"viewBox=\"0 0 24 24\"\n",
              "     width=\"24px\">\n",
              "    <g>\n",
              "        <path d=\"M19 3H5c-1.1 0-2 .9-2 2v14c0 1.1.9 2 2 2h14c1.1 0 2-.9 2-2V5c0-1.1-.9-2-2-2zM9 17H7v-7h2v7zm4 0h-2V7h2v10zm4 0h-2v-4h2v4z\"/>\n",
              "    </g>\n",
              "</svg>\n",
              "  </button>\n",
              "\n",
              "<style>\n",
              "  .colab-df-quickchart {\n",
              "      --bg-color: #E8F0FE;\n",
              "      --fill-color: #1967D2;\n",
              "      --hover-bg-color: #E2EBFA;\n",
              "      --hover-fill-color: #174EA6;\n",
              "      --disabled-fill-color: #AAA;\n",
              "      --disabled-bg-color: #DDD;\n",
              "  }\n",
              "\n",
              "  [theme=dark] .colab-df-quickchart {\n",
              "      --bg-color: #3B4455;\n",
              "      --fill-color: #D2E3FC;\n",
              "      --hover-bg-color: #434B5C;\n",
              "      --hover-fill-color: #FFFFFF;\n",
              "      --disabled-bg-color: #3B4455;\n",
              "      --disabled-fill-color: #666;\n",
              "  }\n",
              "\n",
              "  .colab-df-quickchart {\n",
              "    background-color: var(--bg-color);\n",
              "    border: none;\n",
              "    border-radius: 50%;\n",
              "    cursor: pointer;\n",
              "    display: none;\n",
              "    fill: var(--fill-color);\n",
              "    height: 32px;\n",
              "    padding: 0;\n",
              "    width: 32px;\n",
              "  }\n",
              "\n",
              "  .colab-df-quickchart:hover {\n",
              "    background-color: var(--hover-bg-color);\n",
              "    box-shadow: 0 1px 2px rgba(60, 64, 67, 0.3), 0 1px 3px 1px rgba(60, 64, 67, 0.15);\n",
              "    fill: var(--button-hover-fill-color);\n",
              "  }\n",
              "\n",
              "  .colab-df-quickchart-complete:disabled,\n",
              "  .colab-df-quickchart-complete:disabled:hover {\n",
              "    background-color: var(--disabled-bg-color);\n",
              "    fill: var(--disabled-fill-color);\n",
              "    box-shadow: none;\n",
              "  }\n",
              "\n",
              "  .colab-df-spinner {\n",
              "    border: 2px solid var(--fill-color);\n",
              "    border-color: transparent;\n",
              "    border-bottom-color: var(--fill-color);\n",
              "    animation:\n",
              "      spin 1s steps(1) infinite;\n",
              "  }\n",
              "\n",
              "  @keyframes spin {\n",
              "    0% {\n",
              "      border-color: transparent;\n",
              "      border-bottom-color: var(--fill-color);\n",
              "      border-left-color: var(--fill-color);\n",
              "    }\n",
              "    20% {\n",
              "      border-color: transparent;\n",
              "      border-left-color: var(--fill-color);\n",
              "      border-top-color: var(--fill-color);\n",
              "    }\n",
              "    30% {\n",
              "      border-color: transparent;\n",
              "      border-left-color: var(--fill-color);\n",
              "      border-top-color: var(--fill-color);\n",
              "      border-right-color: var(--fill-color);\n",
              "    }\n",
              "    40% {\n",
              "      border-color: transparent;\n",
              "      border-right-color: var(--fill-color);\n",
              "      border-top-color: var(--fill-color);\n",
              "    }\n",
              "    60% {\n",
              "      border-color: transparent;\n",
              "      border-right-color: var(--fill-color);\n",
              "    }\n",
              "    80% {\n",
              "      border-color: transparent;\n",
              "      border-right-color: var(--fill-color);\n",
              "      border-bottom-color: var(--fill-color);\n",
              "    }\n",
              "    90% {\n",
              "      border-color: transparent;\n",
              "      border-bottom-color: var(--fill-color);\n",
              "    }\n",
              "  }\n",
              "</style>\n",
              "\n",
              "  <script>\n",
              "    async function quickchart(key) {\n",
              "      const quickchartButtonEl =\n",
              "        document.querySelector('#' + key + ' button');\n",
              "      quickchartButtonEl.disabled = true;  // To prevent multiple clicks.\n",
              "      quickchartButtonEl.classList.add('colab-df-spinner');\n",
              "      try {\n",
              "        const charts = await google.colab.kernel.invokeFunction(\n",
              "            'suggestCharts', [key], {});\n",
              "      } catch (error) {\n",
              "        console.error('Error during call to suggestCharts:', error);\n",
              "      }\n",
              "      quickchartButtonEl.classList.remove('colab-df-spinner');\n",
              "      quickchartButtonEl.classList.add('colab-df-quickchart-complete');\n",
              "    }\n",
              "    (() => {\n",
              "      let quickchartButtonEl =\n",
              "        document.querySelector('#df-faa6a70c-2c42-4145-b1bc-6fbcb8a15d55 button');\n",
              "      quickchartButtonEl.style.display =\n",
              "        google.colab.kernel.accessAllowed ? 'block' : 'none';\n",
              "    })();\n",
              "  </script>\n",
              "</div>\n",
              "    </div>\n",
              "  </div>\n"
            ]
          },
          "metadata": {},
          "execution_count": 77
        }
      ]
    },
    {
      "cell_type": "markdown",
      "source": [
        "# WINE Data"
      ],
      "metadata": {
        "id": "dMkaRXiYD6Ub"
      }
    },
    {
      "cell_type": "code",
      "source": [
        "data = pd.read_csv('/content/yemoonsaBigdata/datasets/Part2/wine.csv')"
      ],
      "metadata": {
        "id": "8-04SVBmFEgU"
      },
      "execution_count": 78,
      "outputs": []
    },
    {
      "cell_type": "markdown",
      "source": [
        "##문제 1. Wine 데이터 세트에서 total_phenols 결측치를 제거하고 alcalinity_of_ash 변수의 결측치는 중앙값으로 대체한 후, alcalinity_of_ash 평균값을 계산하시오.(최종 계산 값의 소수점 이하는 버린다.)"
      ],
      "metadata": {
        "id": "nw6yUWLVD8aC"
      }
    },
    {
      "cell_type": "code",
      "source": [
        "#notnull이 아닌 값만 data_drop에 저장\n",
        "data_drop = data[data['total_phenols'].notnull()]\n",
        "#alcalinity_of_ash의 중앙값 구하기\n",
        "med = data_drop['alcalinity_of_ash'].median()\n",
        "#alcalinity_of_ash의 null 값은 위의 중앙값과 같음.\n",
        "data_drop.loc[data_drop['alcalinity_of_ash'].isnull(), 'alcalinity_of_ash'] = med\n",
        "print(round(data_drop['alcalinity_of_ash'].mean()))\n",
        "#답 : 19"
      ],
      "metadata": {
        "colab": {
          "base_uri": "https://localhost:8080/"
        },
        "id": "1A-MQP4hEHp8",
        "outputId": "64d6e8dc-dcc3-48c5-e9ae-cf6a4b880a55"
      },
      "execution_count": 79,
      "outputs": [
        {
          "output_type": "stream",
          "name": "stdout",
          "text": [
            "19\n"
          ]
        }
      ]
    },
    {
      "cell_type": "markdown",
      "source": [
        "##문제 2. Wine 데이터 세트에서 값이 alcohol 평균 값 이상이고, color_intensity 값이 color_intensity 평균 값 이상인 데이터만 남겼을 때, 가장 많은 class의 값을 구하시오."
      ],
      "metadata": {
        "id": "xnsuD79HEISD"
      }
    },
    {
      "cell_type": "code",
      "source": [
        "mean_val1 = data['alcohol'].mean()\n",
        "mean_val2 = data['color_intensity'].mean()\n",
        "data_filtered = data[(data['alcohol']>=mean_val1)&(data['color_intensity']>=mean_val2)]\n",
        "#value_counts는 개수를 세는 함수\n",
        "print(data_filtered['class'].value_counts())\n",
        "\n",
        "#37개의 class를 가지고 있는 0 class\n",
        "#답 : 0"
      ],
      "metadata": {
        "colab": {
          "base_uri": "https://localhost:8080/"
        },
        "id": "q_CcbCeJET46",
        "outputId": "313a9a68-06b6-46eb-a4c5-7289f75b073a"
      },
      "execution_count": 80,
      "outputs": [
        {
          "output_type": "stream",
          "name": "stdout",
          "text": [
            "0    37\n",
            "2    23\n",
            "1     1\n",
            "Name: class, dtype: int64\n"
          ]
        }
      ]
    },
    {
      "cell_type": "markdown",
      "source": [
        "## 문제 3. Wine 데이터 세트에서 class 1에 해당하는 데이터의 ash 평균값과 Wine 데이터 세트의 모든 결측치를 제거한 후의 ash 값의 평균값의 차이의 절댓값을 계산하시오.(최종 계산 값의 소수점 아래 4번째 자리에서 반올림한다.)"
      ],
      "metadata": {
        "id": "QDoWw2toEUTr"
      }
    },
    {
      "cell_type": "code",
      "source": [
        "#첫 번째 행의 내용이 열 형태로 출력\n",
        "print(data.head(1).T)"
      ],
      "metadata": {
        "colab": {
          "base_uri": "https://localhost:8080/"
        },
        "id": "Nf5g8y6vEeKT",
        "outputId": "bf891b4f-536e-431f-f9a8-85c5b26531e4"
      },
      "execution_count": 81,
      "outputs": [
        {
          "output_type": "stream",
          "name": "stdout",
          "text": [
            "                                    0\n",
            "alcohol                         14.23\n",
            "malic_acid                       1.71\n",
            "ash                              2.43\n",
            "alcalinity_of_ash               15.60\n",
            "magnesium                      127.00\n",
            "total_phenols                    2.80\n",
            "flavanoids                       3.06\n",
            "nonflavanoid_phenols             0.28\n",
            "proanthocyanins                  2.29\n",
            "color_intensity                  5.64\n",
            "hue                              1.04\n",
            "od280/od315_of_diluted_wines     3.92\n",
            "proline                       1065.00\n",
            "class                            0.00\n"
          ]
        }
      ]
    },
    {
      "cell_type": "code",
      "source": [
        "#class가 1인 data 중에서 'ash' 값의 평균\n",
        "val1 = data[data['class']==1]['ash'].mean()\n",
        "#결측치를 제거한 후의 'ash' 값의 평균\n",
        "val2 = data.dropna()['ash'].mean()\n",
        "#두 값의 차이의 절댓값 구하기 + 반올림\n",
        "print(round(abs(val1-val2),3))\n",
        "#답 : 0.12"
      ],
      "metadata": {
        "colab": {
          "base_uri": "https://localhost:8080/"
        },
        "id": "sfnijD0_GoNK",
        "outputId": "e2dc1cf4-af02-4d47-c95c-8785c111c998"
      },
      "execution_count": 82,
      "outputs": [
        {
          "output_type": "stream",
          "name": "stdout",
          "text": [
            "0.12\n"
          ]
        }
      ]
    },
    {
      "cell_type": "markdown",
      "source": [
        "##문제 4. Wine 데이터 세트에서 alcohol 변수의 상위에서 20번째 값 alcohol을 오름차순 정렬했을 때 20번째에 위치한 값으로 상위 20개의 값을 변환한 후, proanthocyanins가 2 이하인 데이터를 추출하여 alcohol의 평균값을 계산하시오. (최종 계산 값의 소수점 아래 3번째 자리에서 반올림한다.)"
      ],
      "metadata": {
        "id": "5JioTXQPEeob"
      }
    },
    {
      "cell_type": "code",
      "source": [
        "data_sorted = data.sort_values(by='alcohol', axis=0, ascending=True)\n",
        "# drop=True는 이전 인덱스를 삭제하라는 옵션임.\n",
        "data_sorted = data_sorted.reset_index(drop=True)\n",
        "# 상위 20개의 값을 20번째에 위치한 값으로 변환함.\n",
        "data_sorted.loc[0:19, 'alcohol'] = data_sorted.loc[19,'alcohol']\n",
        "# 변환한 값을 포함한 데이터에서 pro~가 2 이하인 데이터 추출 => 그 후 alcohol의 평균값 계산하기\n",
        "print(round(data_sorted[data_sorted['proanthocyanins']<=2]['alcohol'].mean(),2))\n",
        "#답 : 12.97"
      ],
      "metadata": {
        "colab": {
          "base_uri": "https://localhost:8080/"
        },
        "id": "SbAwIB_wExY6",
        "outputId": "9a4d8803-3802-4985-b1b7-24b4a9c1b342"
      },
      "execution_count": 84,
      "outputs": [
        {
          "output_type": "stream",
          "name": "stdout",
          "text": [
            "12.97\n"
          ]
        }
      ]
    },
    {
      "cell_type": "markdown",
      "source": [
        "##문제 5. Wine 데이터 세트에서 class 1에 해당하는 데이터의 proline 변수의 제 3사분위수와 제 1사분위수 차를 구하고, class 2에 해당하는 데이터의 proline 변수의 제 3사분위수와 제 1사분위수 차를 구하여 두 값의 차이의 절댓값을 계산하시오."
      ],
      "metadata": {
        "id": "wLgz3JgDExf6"
      }
    },
    {
      "cell_type": "code",
      "source": [
        "#1사분위수 = quantile([0.25]), 3사분위수 = quantile([0.75])\n",
        "class1_q1, class1_q3 = data[data['class']==1]['proline'].quantile([0.25,0.75])\n",
        "class2_q1, class2_q3 = data[data['class']==2]['proline'].quantile([0.25,0.75])\n",
        "print(abs((class1_q1-class1_q3)-(class2_q1-class2_q3)))\n",
        "#답 : 68.5"
      ],
      "metadata": {
        "colab": {
          "base_uri": "https://localhost:8080/"
        },
        "id": "8eO1asV0HsWM",
        "outputId": "d4c28ee5-31b3-401f-e0bc-c29f2b09cef9"
      },
      "execution_count": 85,
      "outputs": [
        {
          "output_type": "stream",
          "name": "stdout",
          "text": [
            "68.5\n"
          ]
        }
      ]
    }
  ]
}