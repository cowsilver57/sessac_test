{
  "nbformat": 4,
  "nbformat_minor": 0,
  "metadata": {
    "colab": {
      "provenance": [],
      "authorship_tag": "ABX9TyP5rNZgyX8bHVwstAO2WN8u",
      "include_colab_link": true
    },
    "kernelspec": {
      "name": "python3",
      "display_name": "Python 3"
    },
    "language_info": {
      "name": "python"
    }
  },
  "cells": [
    {
      "cell_type": "markdown",
      "metadata": {
        "id": "view-in-github",
        "colab_type": "text"
      },
      "source": [
        "<a href=\"https://colab.research.google.com/github/cowsilver57/sessac_test/blob/main/11%EC%9B%94_29%EC%9D%BC_(%EC%88%98)_Day_60.ipynb\" target=\"_parent\"><img src=\"https://colab.research.google.com/assets/colab-badge.svg\" alt=\"Open In Colab\"/></a>"
      ]
    },
    {
      "cell_type": "code",
      "source": [
        "#이전 레이어에서의 input이 (192,100,100)이라고 가정\n",
        "#각 branch를 지날 때, image size가 바뀌지 않아야 함.\n",
        "#Pooling을 지나도 image size가 바뀌지 않아야 함.\n",
        "\n",
        "input_tensor = torch.randn(size=(192,100,100))\n",
        "\n",
        "branch1 = ConvBlock(in_channels=192, out_channels=64, kernel_size=1)\n",
        "out_branch1 = branch1(input_tensor)\n",
        "print(out_branch1.shape)\n",
        "\n",
        "branch2 = ConvBlock(in_channels=192, out_channels=128, kernel_size=3, padding=1)\n",
        "out_branch2 = branch2(input_tensor)\n",
        "print(out_branch2.shape)\n",
        "\n",
        "branch3 = ConvBlock(in_channels=192, out_channels=32,kernel_size=5, padding=2)\n",
        "out_branch3 = branch3(input_tensor)\n",
        "print(out_branch3.shape)\n",
        "\n",
        "branch4 = nn.MaxPool2d(kernel_size=3, padding=1, stride=1)\n",
        "out_branch4 = branch4(input_tensor)\n",
        "print(out_branch4.shape)\n",
        "\n",
        "out_inception = torch.concat([out_branch1, out_branch2, out_branch3, out_branch4],axis=0)\n",
        "print(out_inception.shape)"
      ],
      "metadata": {
        "colab": {
          "base_uri": "https://localhost:8080/"
        },
        "id": "PCqIxMe6siRz",
        "outputId": "09a10e65-edbe-4fdc-c277-e88f8c0d7021"
      },
      "execution_count": 5,
      "outputs": [
        {
          "output_type": "stream",
          "name": "stdout",
          "text": [
            "torch.Size([64, 100, 100])\n",
            "torch.Size([128, 100, 100])\n",
            "torch.Size([32, 100, 100])\n",
            "torch.Size([192, 100, 100])\n",
            "torch.Size([416, 100, 100])\n"
          ]
        }
      ]
    },
    {
      "cell_type": "markdown",
      "source": [
        "# 1. Naive Version GoogLeNet"
      ],
      "metadata": {
        "id": "gQ8QCDuEE6Op"
      }
    },
    {
      "cell_type": "code",
      "source": [
        "class InceptionNaive(nn.Module):\n",
        "    def __init__(self,in_channels, ch1x1, ch3x3, ch5x5):\n",
        "        super(InceptionNaive, self).__init__()\n",
        "        self.branch1 = ConvBlock(in_channels=192, out_channels=ch1x1, kernel_size=1)\n",
        "        self.branch2 = ConvBlock(in_channels=192, out_channels=ch3x3, kernel_size=3, padding=1)\n",
        "        self.branch3 = ConvBlock(in_channels=192, out_channels=ch5x5,kernel_size=5, padding=2)\n",
        "        self.branch4 = nn.MaxPool2d(kernel_size=3, padding=1, stride=1)\n",
        "\n",
        "    def forward(self,x):\n",
        "        out_branch1 = self.branch1(x)\n",
        "        out_branch2 = self.branch2(x)\n",
        "        out_branch3 = self.branch3(x)\n",
        "        out_branch4 = self.branch4(x)\n",
        "        out_inception = torch.concat([out_branch1, out_branch2, out_branch3, out_branch4],axis=0)\n",
        "        return out_inception\n",
        "\n",
        "\n",
        "inception_model = InceptionNaive(192,64,128,32)\n",
        "input_tensor = torch.randn(size=(192, 100, 100))\n",
        "output_tensor = inception_model(input_tensor)\n",
        "\n",
        "print(output_tensor.shape)"
      ],
      "metadata": {
        "colab": {
          "base_uri": "https://localhost:8080/"
        },
        "id": "a-y5_Rb976Y2",
        "outputId": "fa97f5f5-03a4-4c0e-9a92-2ce53e3e3afb"
      },
      "execution_count": 6,
      "outputs": [
        {
          "output_type": "stream",
          "name": "stdout",
          "text": [
            "torch.Size([416, 100, 100])\n"
          ]
        }
      ]
    },
    {
      "cell_type": "markdown",
      "source": [
        "# 2. Inception module with dimension reductions"
      ],
      "metadata": {
        "id": "6WQgi3h8E-op"
      }
    },
    {
      "cell_type": "code",
      "source": [
        "in_channels = 192\n",
        "input_tensor = torch.randn(size=(in_channels, 100, 100))\n",
        "\n",
        "#branch2\n",
        "#red = reduction\n",
        "ch3X3red, ch3X3 = 96,128\n",
        "branch2 = nn.Sequential(\n",
        "    ConvBlock(in_channels=in_channels, out_channels=ch3X3red, kernel_size=1),\n",
        "    ConvBlock(in_channels=ch3X3red, out_channels=ch3X3, kernel_size=3, padding=1)\n",
        ")\n",
        "out_branch2 = branch2(input_tensor)\n",
        "\n",
        "#branch3\n",
        "ch5x5red, ch5x5 = 16, 32\n",
        "branch3 = nn.Sequential(\n",
        "    ConvBlock(in_channels=in_channels, out_channels=ch5x5red, kernel_size=1),\n",
        "    ConvBlock(in_channels=ch5x5red, out_channels=ch5x5, kernel_size=5, padding=2)\n",
        ")\n",
        "out_branch3 = branch3(input_tensor)\n",
        "\n",
        "#branch4\n",
        "pool_proj = 32\n",
        "branch4 = nn.Sequential(\n",
        "    nn.MaxPool2d(kernel_size=3, padding=1, stride=1),\n",
        "    ConvBlock(in_channels=in_channels, out_channels=pool_proj, kernel_size=1)\n",
        ")\n",
        "out_branch4 = branch4(input_tensor)"
      ],
      "metadata": {
        "id": "y-9XEO82FC5q"
      },
      "execution_count": 7,
      "outputs": []
    },
    {
      "cell_type": "code",
      "execution_count": 4,
      "metadata": {
        "id": "IZbtIMiGl4Ms"
      },
      "outputs": [],
      "source": [
        "import torch\n",
        "import torch.nn as nn\n",
        "\n",
        "class ConvBlock(nn.Module):\n",
        "    def __init__(self, in_channels, out_channels, kernel_size, padding=0, stride=1):\n",
        "        super(ConvBlock, self).__init__()\n",
        "\n",
        "        self.conv = nn.Conv2d(in_channels=in_channels, out_channels=out_channels,\n",
        "                      kernel_size=kernel_size, padding=padding, stride=stride)\n",
        "        self.relu = nn.ReLU()\n",
        "\n",
        "\n",
        "    def forward(self, x):\n",
        "        x = self.conv(x)\n",
        "        x = self.relu(x)\n",
        "        return x"
      ]
    },
    {
      "cell_type": "code",
      "source": [
        "import torch\n",
        "import torch.nn as nn\n",
        "class Inception(nn.Module):\n",
        "    def __init__(self, in_channels, ch1x1, ch3x3red, ch3x3, ch5x5red, ch5x5, pool_proj):\n",
        "        super(Inception, self).__init__()\n",
        "\n",
        "        self.branch1 = ConvBlock(in_channels=in_channels, out_channels=ch1x1, kernel_size=1)\n",
        "\n",
        "        self.branch2 = nn.Sequential(\n",
        "            ConvBlock(in_channels=in_channels, out_channels=ch3X3red, kernel_size=1),\n",
        "            ConvBlock(in_channels=ch3X3red, out_channels=ch3X3, kernel_size=3, padding=1))\n",
        "\n",
        "        self.branch3 = nn.Sequential(\n",
        "            ConvBlock(in_channels=in_channels, out_channels=ch5x5red, kernel_size=1),\n",
        "            ConvBlock(in_channels=ch5x5red, out_channels=ch5x5, kernel_size=5, padding=2))\n",
        "\n",
        "        self.branch4 = nn.Sequential(\n",
        "            nn.MaxPool2d(kernel_size=3, padding=1, stride=1),\n",
        "            ConvBlock(in_channels=in_channels, out_channels=pool_proj, kernel_size=1, padding=0, stride=1))\n",
        "\n",
        "    def forward(self,x):\n",
        "        out_branch1 = self.branch1(x)\n",
        "        out_branch2 = self.branch2(x)\n",
        "        out_branch3 = self.branch3(x)\n",
        "        out_branch4 = self.branch4(x)\n",
        "        out_inception = torch.concat([out_branch1, out_branch2, out_branch3, out_branch4],axis=1)\n",
        "        return out_inception\n",
        "\n",
        "BATCH_SIZE=8\n",
        "inception_model = Inception(192,64,96,128,16,32,32)\n",
        "input_tensor = torch.randn(size=(BATCH_SIZE,192, 100, 100))\n",
        "output_tensor = inception_model(input_tensor)\n",
        "\n",
        "print(output_tensor.shape)"
      ],
      "metadata": {
        "colab": {
          "base_uri": "https://localhost:8080/"
        },
        "id": "_iRoHePadsao",
        "outputId": "209044d4-f6d0-4e3c-a37f-a7543e86368e"
      },
      "execution_count": 12,
      "outputs": [
        {
          "output_type": "stream",
          "name": "stdout",
          "text": [
            "torch.Size([8, 256, 100, 100])\n"
          ]
        }
      ]
    },
    {
      "cell_type": "code",
      "source": [
        "class GoogLeNet(nn.Module):\n",
        "    def __init__(self):\n",
        "        super(GoogLeNet, self).__init__()\n",
        "\n",
        "        self.conv1 = ConvBlock(in_channels=3, out_channels=64, kernel_size=7, stride=2, padding=3)\n",
        "        self.maxpool1 = nn.MaxPool2d(kernel_size=3, stride=2, padding=1)\n",
        "\n",
        "        self.conv2 = ConvBlock(in_channels=64, out_channels=192, kernel_size=3, stride=1, padding=1)\n",
        "        self.maxpool2 = nn.MaxPool2d(kernel_size=3, stride=2, padding=1)\n",
        "\n",
        "        self.inception3a = Inception(in_channels=192, ch1x1=64, ch3x3red=96, ch3x3=128, ch5x5red=16, ch5x5=32, pool_proj=32)\n",
        "        self.inception3b = Inception(in_channels=256, ch1x1=128, ch3x3red=128, ch3x3=192, ch5x5red=32, ch5x5=96, pool_proj=64)\n",
        "        self.maxpool3 = nn.MaxPool2d(kernel_size=3, stride=2, padding=1)\n",
        "\n",
        "        self.inception4a = Inception(in_channels=480, ch1x1=192, ch3x3red=96, ch3x3=208, ch5x5red=16, ch5x5=48, pool_proj=64)\n",
        "        self.inception4b = Inception(in_channels=512, ch1x1=160, ch3x3red=112, ch3x3=224, ch5x5red=24, ch5x5=64, pool_proj=64)\n",
        "        self.inception4c = Inception(in_channels=512, ch1x1=128, ch3x3red=128, ch3x3=256, ch5x5red=24, ch5x5=64, pool_proj=64)\n",
        "        self.inception4d = Inception(in_channels=512, ch1x1=112, ch3x3red=144, ch3x3=288, ch5x5red=32, ch5x5=64, pool_proj=64)\n",
        "        self.inception4e = Inception(in_channels=528, ch1x1=256, ch3x3red=160, ch3x3=320, ch5x5red=32, ch5x5=128, pool_proj=128)\n",
        "        self.maxpool4 = nn.MaxPool2d(kernel_size=3, stride=2, padding=1)\n",
        "\n",
        "        self.inception5a = Inception(in_channels=832, ch1x1=256, ch3x3red=160, ch3x3=320, ch5x5red=32, ch5x5=128, pool_proj=128)\n",
        "        self.inception5b = Inception(in_channels=832, ch1x1=384, ch3x3red=192, ch3x3=384, ch5x5red=48, ch5x5=128, pool_proj=128)\n",
        "\n",
        "        self.avgpool = nn.AvgPool2d(kernel_size=7, stride=1)\n",
        "        self.dropout = nn.Dropout(p=0.4)\n",
        "        self.fc = nn.Linear(1024, 1000)\n",
        "\n",
        "    def forward(self, x):\n",
        "        x = self.conv1(x)\n",
        "        print(x.shape)\n",
        "        x = self.maxpool1(x)\n",
        "        print(x.shape)\n",
        "        x = self.conv2(x)\n",
        "        print(x.shape)\n",
        "        x = self.maxpool2(x)\n",
        "        x = self.inception3a(x)\n",
        "        x = self.inception3b(x)\n",
        "        x = self.maxpool3(x)\n",
        "        x = self.inception4a(x)\n",
        "        x = self.inception4b(x)\n",
        "        x = self.inception4c(x)\n",
        "        x = self.inception4d(x)\n",
        "        x = self.inception4e(x)\n",
        "        x = self.maxpool4(x)\n",
        "        x = self.inception5a(x)\n",
        "        x = self.inception5b(x)\n",
        "\n",
        "        x = self.avgpool(x)\n",
        "        x = x.view(x.size(0), -1)\n",
        "        x = self.dropout(x)\n",
        "        x = self.fc(x)\n",
        "        print(x.shape)\n",
        "        return x\n",
        "\n",
        "BATCH_SIZE = 32\n",
        "input_tensor = torch.randn(size=(BATCH_SIZE,3, 223, 223))\n",
        "model = GoogLeNet()\n",
        "result = model(input_tensor)"
      ],
      "metadata": {
        "colab": {
          "base_uri": "https://localhost:8080/"
        },
        "id": "VDWEY_LBidg3",
        "outputId": "ce7b874e-c71d-4238-fae7-62c00b281979"
      },
      "execution_count": 18,
      "outputs": [
        {
          "output_type": "stream",
          "name": "stdout",
          "text": [
            "torch.Size([32, 64, 112, 112])\n",
            "torch.Size([32, 64, 56, 56])\n",
            "torch.Size([32, 192, 56, 56])\n",
            "torch.Size([32, 1000])\n"
          ]
        }
      ]
    }
  ]
}