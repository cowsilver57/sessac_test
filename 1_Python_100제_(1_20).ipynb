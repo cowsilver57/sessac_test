{
  "nbformat": 4,
  "nbformat_minor": 0,
  "metadata": {
    "colab": {
      "provenance": [],
      "authorship_tag": "ABX9TyMrhdvGU7xA10RqgSVhVeTt",
      "include_colab_link": true
    },
    "kernelspec": {
      "name": "python3",
      "display_name": "Python 3"
    },
    "language_info": {
      "name": "python"
    }
  },
  "cells": [
    {
      "cell_type": "markdown",
      "metadata": {
        "id": "view-in-github",
        "colab_type": "text"
      },
      "source": [
        "<a href=\"https://colab.research.google.com/github/cowsilver57/sessac_test/blob/main/1_Python_100%EC%A0%9C_(1_20).ipynb\" target=\"_parent\"><img src=\"https://colab.research.google.com/assets/colab-badge.svg\" alt=\"Open In Colab\"/></a>"
      ]
    },
    {
      "cell_type": "code",
      "execution_count": null,
      "metadata": {
        "colab": {
          "base_uri": "https://localhost:8080/"
        },
        "id": "ykAN-Z1tYt4v",
        "outputId": "3b727b44-500d-4668-f925-896baa21d0a0"
      },
      "outputs": [
        {
          "output_type": "stream",
          "name": "stdout",
          "text": [
            "Hello World!\n",
            "Name: KWON soeun\n",
            "Age: 25\n",
            "Grade: 4.5\n"
          ]
        }
      ],
      "source": [
        "#1번\n",
        "print(\"Hello World!\")\n",
        "print(\"Name:\", \"KWON soeun\")\n",
        "print(\"Age:\", 25)\n",
        "print(\"Grade:\", 4.5)"
      ]
    },
    {
      "cell_type": "code",
      "source": [
        "#2번\n",
        "name =\"KWON soeun\"\n",
        "math_score = 100\n",
        "height = 165\n",
        "\n",
        "print(\"name:\", name)\n",
        "print(\"math score:\", math_score)\n",
        "print(\"height:\", height)"
      ],
      "metadata": {
        "colab": {
          "base_uri": "https://localhost:8080/"
        },
        "id": "Negx2Hj_cjmX",
        "outputId": "4671ef21-0daa-4bc9-d830-f7857a785d79"
      },
      "execution_count": null,
      "outputs": [
        {
          "output_type": "stream",
          "name": "stdout",
          "text": [
            "name: KWON soeun\n",
            "math score: 100\n",
            "height: 165\n"
          ]
        }
      ]
    },
    {
      "cell_type": "code",
      "source": [
        "#3번\n",
        "int1 = 4\n",
        "int2 = 2\n",
        "print(int1 + int2)\n",
        "print(int1 - int2)\n",
        "print(int1 * int2)\n",
        "print(int1 / int2)\n",
        "print(int1 % int2)\n",
        "print(int1 // int2)\n",
        "print(int1 ** int2)"
      ],
      "metadata": {
        "colab": {
          "base_uri": "https://localhost:8080/"
        },
        "id": "HxXcwc0zhTfe",
        "outputId": "306d0585-cbfa-4976-f491-8585facd89ec"
      },
      "execution_count": null,
      "outputs": [
        {
          "output_type": "stream",
          "name": "stdout",
          "text": [
            "6\n",
            "2\n",
            "8\n",
            "2.0\n",
            "0\n",
            "2\n",
            "16\n"
          ]
        }
      ]
    },
    {
      "cell_type": "code",
      "source": [
        "#4번\n",
        "int1, int2 = 4,2\n",
        "add, sub = int1+int2, int1-int2\n",
        "mul, div = int1*int2, int1/int2\n",
        "quo, rem = int1//int2, int1%int2 #quotient\n",
        "pow = int1 ** int2\n",
        "\n",
        "print(add, sub, mul, div, quo, rem, pow)"
      ],
      "metadata": {
        "colab": {
          "base_uri": "https://localhost:8080/"
        },
        "id": "Gjh2OiITiQ3W",
        "outputId": "0b5013a5-54d6-4cf6-bb23-b594199795ec"
      },
      "execution_count": null,
      "outputs": [
        {
          "output_type": "stream",
          "name": "stdout",
          "text": [
            "6 2 8 2.0 2 0 16\n"
          ]
        }
      ]
    },
    {
      "cell_type": "code",
      "source": [
        "#5번 홀수/짝수 구하기\n",
        "int1, int2, int3, int4 = 1,2,3,4\n",
        "div = 2\n",
        "rem1, rem2, rem3, rem4 = int1%div, int2%div, int3%div, int4%div\n",
        "print(rem1, rem2, rem3, rem4)"
      ],
      "metadata": {
        "colab": {
          "base_uri": "https://localhost:8080/"
        },
        "id": "VEb6jB9ai9Gt",
        "outputId": "83fcf45b-c611-4932-a918-fef3dc25b3c4"
      },
      "execution_count": null,
      "outputs": [
        {
          "output_type": "stream",
          "name": "stdout",
          "text": [
            "1 0 1 0\n"
          ]
        }
      ]
    },
    {
      "cell_type": "code",
      "source": [
        "#6번 자기 자신에 연산하기\n",
        "score = 10\n",
        "print(score)\n",
        "score += 10\n",
        "print(score)\n",
        "score -= 5\n",
        "print(score)\n",
        "score *= 2\n",
        "print(score)\n",
        "score /= 3\n",
        "print(score)"
      ],
      "metadata": {
        "colab": {
          "base_uri": "https://localhost:8080/"
        },
        "id": "746OdEHwjNJT",
        "outputId": "b9facc39-3afc-4417-f488-0c55a2bb7b56"
      },
      "execution_count": null,
      "outputs": [
        {
          "output_type": "stream",
          "name": "stdout",
          "text": [
            "10\n",
            "20\n",
            "15\n",
            "30\n",
            "10.0\n"
          ]
        }
      ]
    },
    {
      "cell_type": "code",
      "source": [
        "#7번 수학점수의 합 구하기\n",
        "score1 = 10\n",
        "score2 = 20\n",
        "score3 = 30\n",
        "score_sum = score1 + score2 + score3\n",
        "print(score_sum)"
      ],
      "metadata": {
        "colab": {
          "base_uri": "https://localhost:8080/"
        },
        "id": "68Tttw_dj3uu",
        "outputId": "b758f345-8257-4b0d-c895-be03ca2e7eb7"
      },
      "execution_count": null,
      "outputs": [
        {
          "output_type": "stream",
          "name": "stdout",
          "text": [
            "60\n"
          ]
        }
      ]
    },
    {
      "cell_type": "code",
      "source": [
        "#8번 수학점수의 평균 구하기\n",
        "score1 = 10\n",
        "score2 = 20\n",
        "score3 = 30\n",
        "n_student = 3\n",
        "\n",
        "score_sum = score1 + score2 + score3\n",
        "score_mean = score_sum / n_student\n",
        "print(score_mean)"
      ],
      "metadata": {
        "colab": {
          "base_uri": "https://localhost:8080/"
        },
        "id": "iO0wThuNj_Ib",
        "outputId": "e712a74d-876b-4d63-8b41-bd413f0a76c9"
      },
      "execution_count": null,
      "outputs": [
        {
          "output_type": "stream",
          "name": "stdout",
          "text": [
            "20.0\n"
          ]
        }
      ]
    },
    {
      "cell_type": "code",
      "source": [
        "#9번 추가점수를 받은 학생들의 평균\n",
        "score1 = 10\n",
        "score2 = 20\n",
        "score3 = 30\n",
        "n_student = 3\n",
        "\n",
        "mean = (score1 + score2 + score3)/n_student\n",
        "print(mean)\n",
        "\n",
        "score1 += 10\n",
        "score2 += 10\n",
        "score3 += 10\n",
        "print(score1, score2, score3)\n",
        "\n",
        "after_mean = (score1 + score2 + score3)/n_student\n",
        "print(after_mean)"
      ],
      "metadata": {
        "colab": {
          "base_uri": "https://localhost:8080/"
        },
        "id": "TRYilzBFkRLU",
        "outputId": "2f9ec813-7c43-4872-e156-efb31378a216"
      },
      "execution_count": null,
      "outputs": [
        {
          "output_type": "stream",
          "name": "stdout",
          "text": [
            "20.0\n",
            "20 30 40\n",
            "30.0\n"
          ]
        }
      ]
    },
    {
      "cell_type": "code",
      "source": [
        "#10번 Mean Subtraction ; 원래 점수에서 평균을 빼고 그 점수로 다시 평균을 구하는 것\n",
        "score1 = 10\n",
        "score2 = 20\n",
        "score3 = 30\n",
        "n_student = 3\n",
        "\n",
        "mean = (score1 + score2 + score3)/n_student\n",
        "print(mean)\n",
        "\n",
        "score1 -= mean\n",
        "score2 -= mean\n",
        "score3 -= mean\n",
        "after_mean = (score1 + score2 + score3)/n_student\n",
        "print(after_mean)"
      ],
      "metadata": {
        "colab": {
          "base_uri": "https://localhost:8080/"
        },
        "id": "V65nltoSklym",
        "outputId": "4fbc7e88-a5ed-4100-82bf-9f1e61495381"
      },
      "execution_count": null,
      "outputs": [
        {
          "output_type": "stream",
          "name": "stdout",
          "text": [
            "20.0\n",
            "0.0\n"
          ]
        }
      ]
    },
    {
      "cell_type": "code",
      "source": [
        "#11번 평균의 제곱과 제곱의 평균\n",
        "score1 = 10\n",
        "score2 = 20\n",
        "score3 = 30\n",
        "n_student = 3\n",
        "\n",
        "mean = (score1 + score2 + score3)/n_student\n",
        "square_of_mean = mean**2\n",
        "mean_of_square = (score1**2 + score2**2 + score3**2)/n_student\n",
        "\n",
        "print(\"평균의 제곱:\", square_of_mean)\n",
        "print(\"제곱의 평균:\", mean_of_square)"
      ],
      "metadata": {
        "colab": {
          "base_uri": "https://localhost:8080/"
        },
        "id": "Khig7nYSk-Q1",
        "outputId": "a0f92852-b5a0-4149-f9ee-a5a84efd696f"
      },
      "execution_count": null,
      "outputs": [
        {
          "output_type": "stream",
          "name": "stdout",
          "text": [
            "평균의 제곱: 400.0\n",
            "제곱의 평균: 466.6666666666667\n"
          ]
        }
      ]
    },
    {
      "cell_type": "code",
      "source": [
        "#12번 분산과 표준편차\n",
        "score1 = 10\n",
        "score2 = 20\n",
        "score3 = 30\n",
        "n_student = 3\n",
        "\n",
        "mean = (score1 + score2 + score3)/n_student\n",
        "square_of_mean = mean**2\n",
        "mean_of_square = (score1**2 + score2**2 + score3**2)/n_student\n",
        "variance = mean_of_square - square_of_mean\n",
        "std = variance**0.5\n",
        "\n",
        "print(\"분산:\", variance)\n",
        "print(\"표준편차:\", std)"
      ],
      "metadata": {
        "colab": {
          "base_uri": "https://localhost:8080/"
        },
        "id": "se6s8VqklZtd",
        "outputId": "fa2faa1f-6fbc-4a49-bca8-653726cbd2d5"
      },
      "execution_count": null,
      "outputs": [
        {
          "output_type": "stream",
          "name": "stdout",
          "text": [
            "분산: 66.66666666666669\n",
            "표준편차: 8.16496580927726\n"
          ]
        }
      ]
    },
    {
      "cell_type": "code",
      "source": [
        "#13번 Standardization ; 표본정규분포 기준으로 -> 이걸 하면 무조건 std가 1이 나와야함.\n",
        "score1 = 10\n",
        "score2 = 20\n",
        "score3 = 30\n",
        "n_student = 3\n",
        "\n",
        "mean = (score1 + score2 + score3)/n_student\n",
        "mean_of_square = (score1**2 + score2**2 + score3**2)/n_student\n",
        "square_of_mean = mean**2\n",
        "variance = mean_of_square - square_of_mean\n",
        "std = variance**0.5\n",
        "\n",
        "score1 = (score1-mean)/std\n",
        "score2 = (score2-mean)/std\n",
        "score3 = (score3-mean)/std\n",
        "\n",
        "after_mean = (score1 + score2 + score3)/n_student\n",
        "mean_of_square = (score1**2 + score2**2 + score3**2)/n_student\n",
        "square_of_mean = after_mean**2\n",
        "after_var = mean_of_square - square_of_mean\n",
        "after_std = after_var**0.5\n",
        "print(\"std 후 평균:\", after_mean)\n",
        "print(\"std 후 표준편차:\", after_std)"
      ],
      "metadata": {
        "colab": {
          "base_uri": "https://localhost:8080/"
        },
        "id": "pS97FgCzl0d9",
        "outputId": "ab7cebf2-87f1-4063-ae59-9c7a2c607222"
      },
      "execution_count": null,
      "outputs": [
        {
          "output_type": "stream",
          "name": "stdout",
          "text": [
            "std 후 평균: 0.0\n",
            "std 후 표준편차: 1.0\n"
          ]
        }
      ]
    },
    {
      "cell_type": "code",
      "source": [
        "#14번 Vector-Vector Operations\n",
        "\n",
        "x1, y1, z1 = 1,2,3\n",
        "x2, y2, z2 = 3,4,5\n",
        "\n",
        "x3, y3, z3 = x1+x2, y1+y2, z1+z2\n",
        "x4, y4, z4 = x1-x2, y1-y2, z1-z2\n",
        "x5, y5, z5 = x1*x2, y1*y2, z1*z2\n",
        "\n",
        "print(x3, y3, z3)\n",
        "print(x4, y4, z4)\n",
        "print(x5, y5, z5)"
      ],
      "metadata": {
        "id": "EY6HBs3qnfzO",
        "colab": {
          "base_uri": "https://localhost:8080/"
        },
        "outputId": "8cedbcf7-2f97-433c-f741-dfbf2c345f65"
      },
      "execution_count": null,
      "outputs": [
        {
          "output_type": "stream",
          "name": "stdout",
          "text": [
            "4 6 8\n",
            "-2 -2 -2\n",
            "3 8 15\n"
          ]
        }
      ]
    },
    {
      "cell_type": "code",
      "source": [
        "#15번 Scaler-Vector Operations\n",
        "\n",
        "a = 10\n",
        "x1, y1, z1 = 1,2,3\n",
        "\n",
        "x2, y2, z2 = a*x1, a*y1, a*z1\n",
        "x3, y3, z3 = a+x1, a+y1, a+z1\n",
        "x4, y4, z4 = a-x1, a-y1, a-z1\n",
        "\n",
        "print(x2, y2, z2)\n",
        "print(x3, y3, z3)\n",
        "print(x4, y4, z4)"
      ],
      "metadata": {
        "colab": {
          "base_uri": "https://localhost:8080/"
        },
        "id": "iB0wdtdwuQeN",
        "outputId": "be304516-a913-4ffa-c9db-f165f79ab2de"
      },
      "execution_count": null,
      "outputs": [
        {
          "output_type": "stream",
          "name": "stdout",
          "text": [
            "10 20 30\n",
            "11 12 13\n",
            "9 8 7\n"
          ]
        }
      ]
    },
    {
      "cell_type": "code",
      "source": [
        "#16번 Vector Norm\n",
        "x, y, z = 1,2,3\n",
        "\n",
        "norm = (x**2+y**2+z**2)**0.5\n",
        "print(norm)\n",
        "\n",
        "#17번 Unit Vector = 1\n",
        "x, y, z = x/norm, y/norm, z/norm\n",
        "norm = (x**2+y**2+z**2)**0.5\n",
        "print(norm)"
      ],
      "metadata": {
        "colab": {
          "base_uri": "https://localhost:8080/"
        },
        "id": "g5UNBVQcup_U",
        "outputId": "06a8314a-9424-43ea-bcfc-b937d9ec2f3c"
      },
      "execution_count": null,
      "outputs": [
        {
          "output_type": "stream",
          "name": "stdout",
          "text": [
            "3.7416573867739413\n",
            "1.0\n"
          ]
        }
      ]
    },
    {
      "cell_type": "code",
      "source": [
        "#18번 Dot Product 각 값의 곱들의 합\n",
        "x1, y1, z1 = 1,2,3\n",
        "x2, y2, z2 = 3,4,5\n",
        "\n",
        "dot_prod = x1*x2 + y1*y2 + z1*z2\n",
        "print(dot_prod)"
      ],
      "metadata": {
        "colab": {
          "base_uri": "https://localhost:8080/"
        },
        "id": "534MTnS4vCMz",
        "outputId": "789ad358-8043-45e2-c169-1a612852e445"
      },
      "execution_count": null,
      "outputs": [
        {
          "output_type": "stream",
          "name": "stdout",
          "text": [
            "26\n"
          ]
        }
      ]
    },
    {
      "cell_type": "code",
      "source": [
        "#19번 Euclidean Distance 구하기\n",
        "x1, y1, z1 = 1,2,3\n",
        "x2, y2, z2 = 3,4,5\n",
        "\n",
        "e_distance = (x1-x2)**2 + (y1-y2)**2 + (z1-z2)**2\n",
        "e_distance **=0.5\n",
        "\n",
        "print(e_distance)"
      ],
      "metadata": {
        "colab": {
          "base_uri": "https://localhost:8080/"
        },
        "id": "A6oJRaeHvOLs",
        "outputId": "df8b2a29-4017-4d79-a773-ac5d52bf4bab"
      },
      "execution_count": null,
      "outputs": [
        {
          "output_type": "stream",
          "name": "stdout",
          "text": [
            "3.4641016151377544\n"
          ]
        }
      ]
    },
    {
      "cell_type": "code",
      "source": [
        "#20번 Square Error\n",
        "pred1, pred2, pred3 = 10,20,30\n",
        "y1, y2, y3 = 10, 25, 40\n",
        "s_error1 = (pred1-y1)**2\n",
        "s_error2 = (pred2-y2)**2\n",
        "s_error3 = (pred3-y3)**2\n",
        "print(s_error1, s_error2, s_error3)"
      ],
      "metadata": {
        "colab": {
          "base_uri": "https://localhost:8080/"
        },
        "id": "PLNsre2LveQk",
        "outputId": "36d8ea42-cfb1-429c-90e9-531ae8783881"
      },
      "execution_count": null,
      "outputs": [
        {
          "output_type": "stream",
          "name": "stdout",
          "text": [
            "0 25 100\n"
          ]
        }
      ]
    }
  ]
}