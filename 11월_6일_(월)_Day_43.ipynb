{
  "nbformat": 4,
  "nbformat_minor": 0,
  "metadata": {
    "colab": {
      "provenance": [],
      "authorship_tag": "ABX9TyOD1Lw3/ckM58NEk2SgIJsi",
      "include_colab_link": true
    },
    "kernelspec": {
      "name": "python3",
      "display_name": "Python 3"
    },
    "language_info": {
      "name": "python"
    }
  },
  "cells": [
    {
      "cell_type": "markdown",
      "metadata": {
        "id": "view-in-github",
        "colab_type": "text"
      },
      "source": [
        "<a href=\"https://colab.research.google.com/github/cowsilver57/sessac_test/blob/main/11%EC%9B%94_6%EC%9D%BC_(%EC%9B%94)_Day_43.ipynb\" target=\"_parent\"><img src=\"https://colab.research.google.com/assets/colab-badge.svg\" alt=\"Open In Colab\"/></a>"
      ]
    },
    {
      "cell_type": "markdown",
      "source": [
        "#Perceptron"
      ],
      "metadata": {
        "id": "Rfr1bEouDJf7"
      }
    },
    {
      "cell_type": "markdown",
      "source": [
        "##1. Single Perceptron"
      ],
      "metadata": {
        "id": "jwRw7IGGDMU5"
      }
    },
    {
      "cell_type": "code",
      "execution_count": 83,
      "metadata": {
        "colab": {
          "base_uri": "https://localhost:8080/"
        },
        "id": "Cb_FVE3pr4FL",
        "outputId": "bce3097f-f31c-4274-b5e7-ef67f919ba73"
      },
      "outputs": [
        {
          "output_type": "execute_result",
          "data": {
            "text/plain": [
              "1"
            ]
          },
          "metadata": {},
          "execution_count": 83
        }
      ],
      "source": [
        "#1. AND gate 함수로 구현하기\n",
        "\n",
        "def and_gate(x1, x2):\n",
        "    if x2 > -x1 + 1.5:\n",
        "        return 1\n",
        "    else:\n",
        "        return 0\n",
        "\n",
        "and_gate(1,1)"
      ]
    },
    {
      "cell_type": "code",
      "source": [
        "#NAND gate 함수로 구현하기\n",
        "\n",
        "def nand_gate(x1, x2):\n",
        "    if x2 > -x1 + 1.5:\n",
        "        return 0\n",
        "    else:\n",
        "        return 1\n",
        "nand_gate(0,0)"
      ],
      "metadata": {
        "colab": {
          "base_uri": "https://localhost:8080/"
        },
        "id": "OpWcKowmthw4",
        "outputId": "eba58e43-4021-4b01-cf3c-7cbf9a5dba8d"
      },
      "execution_count": 84,
      "outputs": [
        {
          "output_type": "execute_result",
          "data": {
            "text/plain": [
              "1"
            ]
          },
          "metadata": {},
          "execution_count": 84
        }
      ]
    },
    {
      "cell_type": "code",
      "source": [
        "#OR gate 함수로 구현하기\n",
        "\n",
        "def or_gate(x1, x2):\n",
        "    if x2 > -x1 + 0.5:\n",
        "        return 1\n",
        "    else:\n",
        "        return 0\n",
        "or_gate(0,1)"
      ],
      "metadata": {
        "colab": {
          "base_uri": "https://localhost:8080/"
        },
        "id": "2ha4eia3t1wC",
        "outputId": "0876baea-1a74-451c-fb20-261d13a2745a"
      },
      "execution_count": 85,
      "outputs": [
        {
          "output_type": "execute_result",
          "data": {
            "text/plain": [
              "1"
            ]
          },
          "metadata": {},
          "execution_count": 85
        }
      ]
    },
    {
      "cell_type": "markdown",
      "source": [
        "##2. Multi Perceptron"
      ],
      "metadata": {
        "id": "0XkeJXSzDO3x"
      }
    },
    {
      "cell_type": "markdown",
      "source": [
        "XOR gate"
      ],
      "metadata": {
        "id": "VzRkvy_-H4f6"
      }
    },
    {
      "cell_type": "code",
      "source": [
        "#XOR gate 구현하기 (AND, NAND, OR을 활용)\n",
        "\n",
        "def xor_gate(x1, x2):\n",
        "    nand_result = nand_gate(x1,x2)\n",
        "    or_result = or_gate(x1,x2)\n",
        "    and_result = and_gate(nand_result, or_result)\n",
        "    return and_result\n",
        "\n",
        "xor_gate(1,0)"
      ],
      "metadata": {
        "colab": {
          "base_uri": "https://localhost:8080/"
        },
        "id": "bDmrhWt_t5j6",
        "outputId": "697bee0b-1702-442b-f69c-086f8527950b"
      },
      "execution_count": 86,
      "outputs": [
        {
          "output_type": "execute_result",
          "data": {
            "text/plain": [
              "1"
            ]
          },
          "metadata": {},
          "execution_count": 86
        }
      ]
    },
    {
      "cell_type": "markdown",
      "source": [
        "###List 있는 버전"
      ],
      "metadata": {
        "id": "oBUsWAe5fFPI"
      }
    },
    {
      "cell_type": "markdown",
      "source": [
        "Half Adder"
      ],
      "metadata": {
        "id": "5841bgYZIAFk"
      }
    },
    {
      "cell_type": "code",
      "source": [
        "#Half Adder 구현하기\n",
        "\n",
        "def half_adder(x1, x2):\n",
        "    sum_result = xor_gate(x1, x2)\n",
        "    carry_result = and_gate(x1, x2)\n",
        "    half_list = [0]*2\n",
        "    half_list[0] = sum_result\n",
        "    half_list[1] = carry_result\n",
        "    return half_list\n",
        "\n",
        "half_adder(1,1)"
      ],
      "metadata": {
        "colab": {
          "base_uri": "https://localhost:8080/"
        },
        "id": "NcokbdmzDINC",
        "outputId": "c9f6da81-d885-4c6d-b81c-7f259bd2857c"
      },
      "execution_count": 87,
      "outputs": [
        {
          "output_type": "execute_result",
          "data": {
            "text/plain": [
              "[0, 1]"
            ]
          },
          "metadata": {},
          "execution_count": 87
        }
      ]
    },
    {
      "cell_type": "markdown",
      "source": [
        "Full Adder"
      ],
      "metadata": {
        "id": "ImE2ts2_IBda"
      }
    },
    {
      "cell_type": "code",
      "source": [
        "#Full Adder 구현하기\n",
        "\n",
        "def full_adder(x1, x2, xc):\n",
        "    P_result = xor_gate(x1,x2)\n",
        "    sum_result = xor_gate(P_result,xc)\n",
        "\n",
        "    Q_result = and_gate(P_result,xc)\n",
        "    R_result = and_gate(x1, x2)\n",
        "    carry_result = or_gate(Q_result, R_result)\n",
        "\n",
        "    full_list = [0] * 2\n",
        "    full_list[0] = sum_result\n",
        "    full_list[1] = carry_result\n",
        "    return sum_result,  carry_result\n",
        "\n",
        "full_adder(1,1,1)"
      ],
      "metadata": {
        "colab": {
          "base_uri": "https://localhost:8080/"
        },
        "id": "mmUHic1TE5La",
        "outputId": "ea3e0519-7a31-4cb4-e37d-05ea88b80f70"
      },
      "execution_count": 88,
      "outputs": [
        {
          "output_type": "execute_result",
          "data": {
            "text/plain": [
              "(1, 1)"
            ]
          },
          "metadata": {},
          "execution_count": 88
        }
      ]
    },
    {
      "cell_type": "markdown",
      "source": [
        "4 Bit Adder"
      ],
      "metadata": {
        "id": "LNL2HkdkIDhS"
      }
    },
    {
      "cell_type": "code",
      "source": [
        "#4 Bit Adder 구현하기\n",
        "\n",
        "def four_adder(x1, x2):\n",
        "    half_result = half_adder(x1[3],x2[3])\n",
        "    full_result1 = full_adder(x1[2],x2[2],half_result[-1])\n",
        "    full_result2 = full_adder(x1[1],x2[1],full_result1[-1])\n",
        "    full_result3 = full_adder(x1[0],x2[0],full_result2[-1])\n",
        "\n",
        "    s_result_list = [0] * len(x1)\n",
        "    s_result_list[0] = full_result3[0]\n",
        "    s_result_list[1] = full_result2[0]\n",
        "    s_result_list[2] = full_result1[0]\n",
        "    s_result_list[3] = half_result[0]\n",
        "    return s_result_list\n",
        "\n",
        "print(four_adder([0,0,1,1],[0,1,0,1]))\n",
        "print(four_adder([1,0,1,0],[1,1,1,1]))"
      ],
      "metadata": {
        "colab": {
          "base_uri": "https://localhost:8080/"
        },
        "id": "Clw_5E6NHWL8",
        "outputId": "a6e25bf0-8a87-4228-cef7-2ef2a40080c0"
      },
      "execution_count": 91,
      "outputs": [
        {
          "output_type": "stream",
          "name": "stdout",
          "text": [
            "[1, 0, 0, 0]\n",
            "[1, 0, 0, 1]\n"
          ]
        }
      ]
    },
    {
      "cell_type": "markdown",
      "source": [
        "### List 없는 버전"
      ],
      "metadata": {
        "id": "NpLq2alLfI_x"
      }
    },
    {
      "cell_type": "code",
      "source": [
        "#Half Adder 구현하기\n",
        "\n",
        "def half_adder(x1, x2):\n",
        "    sum_result = xor_gate(x1, x2)\n",
        "    carry_result = and_gate(x1, x2)\n",
        "    return sum_result, carry_result\n",
        "\n",
        "half_adder(1,1)"
      ],
      "metadata": {
        "colab": {
          "base_uri": "https://localhost:8080/"
        },
        "id": "lWNL04dNfBYp",
        "outputId": "04e457ea-8441-42ab-ff54-20a15d732652"
      },
      "execution_count": 111,
      "outputs": [
        {
          "output_type": "execute_result",
          "data": {
            "text/plain": [
              "(0, 1)"
            ]
          },
          "metadata": {},
          "execution_count": 111
        }
      ]
    },
    {
      "cell_type": "code",
      "source": [
        "#Full Adder 구현하기\n",
        "\n",
        "def full_adder(x1, x2, xc):\n",
        "    P_result = xor_gate(x1,x2)\n",
        "    sum_result = xor_gate(P_result,xc)\n",
        "\n",
        "    Q_result = and_gate(P_result,xc)\n",
        "    R_result = and_gate(x1, x2)\n",
        "    carry_result = or_gate(Q_result, R_result)\n",
        "    return sum_result,  carry_result\n",
        "\n",
        "full_adder(1,1,1)"
      ],
      "metadata": {
        "colab": {
          "base_uri": "https://localhost:8080/"
        },
        "id": "q-rinamnfCpY",
        "outputId": "97e29a05-c1f0-4c32-a532-7e103d9a47e8"
      },
      "execution_count": 110,
      "outputs": [
        {
          "output_type": "execute_result",
          "data": {
            "text/plain": [
              "(1, 1)"
            ]
          },
          "metadata": {},
          "execution_count": 110
        }
      ]
    },
    {
      "cell_type": "code",
      "source": [
        "#리스트 사용 X\n",
        "def four_adder(x1, x2):\n",
        "    s0, c0 = half_adder(x1[3],x2[3])\n",
        "    s1, c1 = full_adder(x1[2],x2[2],c0)\n",
        "    s2, c2 = full_adder(x1[1],x2[1],c1)\n",
        "    s3, c3 = full_adder(x1[2],x2[2],c2)\n",
        "    return s3, s2, s1, s0\n",
        "print(four_adder([0,0,1,1],[0,1,0,1]))\n",
        "print(four_adder([1,0,1,0],[1,1,1,1]))"
      ],
      "metadata": {
        "colab": {
          "base_uri": "https://localhost:8080/"
        },
        "id": "X-w-Qh3Geky4",
        "outputId": "daa23305-d6dc-42c6-8efa-b469eb1d2c11"
      },
      "execution_count": 114,
      "outputs": [
        {
          "output_type": "stream",
          "name": "stdout",
          "text": [
            "(0, 0, 0, 0)\n",
            "(1, 0, 0, 1)\n"
          ]
        }
      ]
    },
    {
      "cell_type": "markdown",
      "source": [
        "##Mini Project"
      ],
      "metadata": {
        "id": "bOhaL5TZiFz6"
      }
    },
    {
      "cell_type": "markdown",
      "source": [
        "Linear function들의 조합으로 다음의 non-linear function을 만드세요.\n",
        "\n",
        "(참고) 지금까지 사용했던 logic gate를 이용하는 것이 아니라, 필요에 따라 새로운 함수를 만들어야 함."
      ],
      "metadata": {
        "id": "Sjd4hEb3iO7q"
      }
    },
    {
      "cell_type": "code",
      "source": [
        "def one_gate(x1,x2):\n",
        "    if x2 > x1 + 0.5:\n",
        "        return 1\n",
        "    else:\n",
        "        return 0\n",
        "\n",
        "def two_gate(x1,x2):\n",
        "    if x2 > x1 - 0.5:\n",
        "        return 0\n",
        "    else:\n",
        "        return 1"
      ],
      "metadata": {
        "id": "U9PYmMoHiOiz"
      },
      "execution_count": 116,
      "outputs": []
    }
  ]
}