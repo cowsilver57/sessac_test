{
 "cells": [
  {
   "cell_type": "markdown",
   "metadata": {},
   "source": [
    "# 연산자"
   ]
  },
  {
   "cell_type": "markdown",
   "metadata": {},
   "source": [
    "## 1. 산술 연산자"
   ]
  },
  {
   "cell_type": "markdown",
   "metadata": {},
   "source": [
    "## 2. 비교 연산자"
   ]
  },
  {
   "cell_type": "markdown",
   "metadata": {},
   "source": [
    "## 3. 논리 연산자"
   ]
  },
  {
   "cell_type": "code",
   "execution_count": 5,
   "metadata": {},
   "outputs": [
    {
     "name": "stdout",
     "output_type": "stream",
     "text": [
      "True\n",
      "True\n"
     ]
    },
    {
     "data": {
      "text/plain": [
       "True"
      ]
     },
     "execution_count": 5,
     "metadata": {},
     "output_type": "execute_result"
    }
   ],
   "source": [
    "x = 6\n",
    "y = 9\n",
    "\n",
    "print (x > 5) and (y < 10)\n",
    "print (x > 5) or (y < 10)"
   ]
  },
  {
   "cell_type": "code",
   "execution_count": 6,
   "metadata": {},
   "outputs": [
    {
     "name": "stdout",
     "output_type": "stream",
     "text": [
      "False\n",
      "False\n"
     ]
    },
    {
     "data": {
      "text/plain": [
       "True"
      ]
     },
     "execution_count": 6,
     "metadata": {},
     "output_type": "execute_result"
    }
   ],
   "source": [
    "x = 4\n",
    "y = 9\n",
    "\n",
    "print (x > 5) and (y < 10)\n",
    "print (x > 5) or (y < 10)"
   ]
  },
  {
   "cell_type": "code",
   "execution_count": 7,
   "metadata": {},
   "outputs": [
    {
     "name": "stdout",
     "output_type": "stream",
     "text": [
      "True\n",
      "False\n"
     ]
    }
   ],
   "source": [
    "x = 10\n",
    "print(x > 5)\n",
    "print(not(x > 5)) #x > 5가 아니다."
   ]
  },
  {
   "cell_type": "markdown",
   "metadata": {},
   "source": [
    "### 연습문제"
   ]
  },
  {
   "cell_type": "markdown",
   "metadata": {},
   "source": [
    "1-1. 값(반지름)을 입력 받아 원의 넓이를 구하는 프로그램 만들기 (-input 함수를 이용해서 값을 입력 받을 수 있음, 입력 받은 변수를 활용해 계산식 세우기, 원 넓이 구하는 공식 : y = π x r² (π= 3.14 로 계산))"
   ]
  },
  {
   "cell_type": "code",
   "execution_count": 8,
   "metadata": {},
   "outputs": [
    {
     "data": {
      "text/plain": [
       "1962.5"
      ]
     },
     "execution_count": 8,
     "metadata": {},
     "output_type": "execute_result"
    }
   ],
   "source": [
    "A11 = int(input(\"값을 입력하세요 : \"))\n",
    "3.14 * (A11**2)"
   ]
  },
  {
   "cell_type": "markdown",
   "metadata": {},
   "source": [
    "1-2. 값(x)을 입력 받아 아래의 함수 계산하기 (y 구하기, y = x² - x + 100)"
   ]
  },
  {
   "cell_type": "code",
   "execution_count": 6,
   "metadata": {},
   "outputs": [
    {
     "data": {
      "text/plain": [
       "102"
      ]
     },
     "execution_count": 6,
     "metadata": {},
     "output_type": "execute_result"
    }
   ],
   "source": [
    "x11 = int(input(\"값을 입력하세요 : \"))\n",
    "(x**2) - x + 100"
   ]
  },
  {
   "cell_type": "markdown",
   "metadata": {},
   "source": [
    "1-3. 금액을 입력했을 때, 상품 가격에 따른 잔돈을 반환하는 자판기 프로그램 만들기 (참고:\n",
    "금액과 상품가격은 input함수로 선언\n",
    "/잔돈은 500,100,50,10원 단위로 반환\n",
    "/잔돈은 가장 큰 금액부터 반환\n",
    "/예) 잔돈 760원 : 500원1개, 100원2개, 50원 1개, 10원 1개)"
   ]
  },
  {
   "cell_type": "code",
   "execution_count": 15,
   "metadata": {},
   "outputs": [
    {
     "name": "stdout",
     "output_type": "stream",
     "text": [
      "1170\n",
      "500원: 2개, 100원: 1개, 50원: 1개, 10원: 2개\n"
     ]
    }
   ],
   "source": [
    "price = 9500 #마지막에 input 함수로 바꾸기\n",
    "money = 10670\n",
    "\n",
    "change = money - price\n",
    "print(change) #거슬러 줘야하는 돈은 일단 1170원임.\n",
    "#500원, 100원, 50원, 10원 4가지의 종류가 있음. -> 각 동전을 몇개씩 줘야하는가?\n",
    "#거슬러 줄 때는 큰 동전을 먼저 줘야함.\n",
    "\n",
    "coin_500 = change // 500\n",
    "change = change % 500\n",
    "\n",
    "coin_100 = change // 100\n",
    "change = change % 100\n",
    "\n",
    "coin_50 = change // 50\n",
    "change = change % 50\n",
    "\n",
    "coin_10 = change // 10\n",
    "change = change % 10\n",
    "\n",
    "print(f'500원: {coin_500}개, 100원: {coin_100}개, 50원: {coin_50}개, 10원: {coin_10}개')"
   ]
  },
  {
   "cell_type": "code",
   "execution_count": 16,
   "metadata": {},
   "outputs": [
    {
     "name": "stdout",
     "output_type": "stream",
     "text": [
      "10500\n",
      "500원: 21개, 100원: 0개, 50원: 0개, 10원: 0개\n"
     ]
    }
   ],
   "source": [
    "price = int(input('상품 가격은?'))\n",
    "money = int(input('얼마를 넣으시겠습니까?'))\n",
    "\n",
    "change = money - price\n",
    "print(change) #거슬러 줘야하는 돈은 일단 1170원임.\n",
    "#500원, 100원, 50원, 10원 4가지의 종류가 있음. -> 각 동전을 몇개씩 줘야하는가?\n",
    "#거슬러 줄 때는 큰 동전을 먼저 줘야함.\n",
    "\n",
    "coin_500 = change // 500\n",
    "change = change % 500\n",
    "\n",
    "coin_100 = change // 100\n",
    "change = change % 100\n",
    "\n",
    "coin_50 = change // 50\n",
    "change = change % 50\n",
    "\n",
    "coin_10 = change // 10\n",
    "change = change % 10\n",
    "\n",
    "print(f'500원: {coin_500}개, 100원: {coin_100}개, 50원: {coin_50}개, 10원: {coin_10}개')"
   ]
  },
  {
   "cell_type": "markdown",
   "metadata": {},
   "source": [
    "# 조건문"
   ]
  },
  {
   "cell_type": "markdown",
   "metadata": {},
   "source": [
    "## 예시"
   ]
  },
  {
   "cell_type": "code",
   "execution_count": 19,
   "metadata": {},
   "outputs": [
    {
     "name": "stdout",
     "output_type": "stream",
     "text": [
      "걸어가세용가리\n"
     ]
    }
   ],
   "source": [
    "money = 2000\n",
    "\n",
    "if money >= 3000:\n",
    "    print('택시 타고 가세용')\n",
    "else : \n",
    "    print('걸어가세용가리')"
   ]
  },
  {
   "cell_type": "code",
   "execution_count": 21,
   "metadata": {},
   "outputs": [
    {
     "name": "stdout",
     "output_type": "stream",
     "text": [
      "택시 타고 가세용\n"
     ]
    }
   ],
   "source": [
    "#if 문에 논리연산자도 사용 가능\n",
    "money = 2000\n",
    "card = 1\n",
    "\n",
    "if (money >= 3000) or (card):\n",
    "    print ('택시 타고 가세용')\n",
    "else : \n",
    "    print ('걸어가세용가리')"
   ]
  },
  {
   "cell_type": "code",
   "execution_count": 22,
   "metadata": {},
   "outputs": [
    {
     "data": {
      "text/plain": [
       "True"
      ]
     },
     "execution_count": 22,
     "metadata": {},
     "output_type": "execute_result"
    }
   ],
   "source": [
    "1 in [1,2,3] # 1이 [1,2,3] 안에 있어?"
   ]
  },
  {
   "cell_type": "code",
   "execution_count": 27,
   "metadata": {},
   "outputs": [
    {
     "name": "stdout",
     "output_type": "stream",
     "text": [
      "택시 타고 가세용\n"
     ]
    }
   ],
   "source": [
    "# 주머니에 돈이 있으면 택시를 타고, 없으면 걸어가라.\n",
    "\n",
    "pocket = ['paper', 'cellphone', 'money']\n",
    "\n",
    "if 'money' in pocket : \n",
    "    print('택시 타고 가세용')\n",
    "else: \n",
    "    print('걸어가세용가리')"
   ]
  },
  {
   "cell_type": "code",
   "execution_count": 26,
   "metadata": {},
   "outputs": [],
   "source": [
    "# 조건문에서 아무 일도 하지 않게 설정하고 싶은 경우\n",
    "\n",
    "pocket = ['paper', 'cellphone', 'money']\n",
    "\n",
    "if 'money' in pocket :\n",
    "    pass #종속문장에서 아무것도 실행하고 싶지 않을 때\n",
    "else:\n",
    "    print('카드를 꺼내라')"
   ]
  },
  {
   "cell_type": "code",
   "execution_count": 28,
   "metadata": {},
   "outputs": [
    {
     "name": "stdout",
     "output_type": "stream",
     "text": [
      "택시 타고 가세용\n"
     ]
    }
   ],
   "source": [
    "pocket = ['paper', 'cellphone']\n",
    "card = 1\n",
    "\n",
    "if 'money' in pocket : \n",
    "    print('택시 타고 가세용')\n",
    "elif card :\n",
    "    print('택시 타고 가세용')\n",
    "else :\n",
    "    print('걸어가세용가리')"
   ]
  },
  {
   "cell_type": "markdown",
   "metadata": {},
   "source": [
    "## 연습문제"
   ]
  },
  {
   "cell_type": "markdown",
   "metadata": {},
   "source": [
    "2-1. 값을 입력 받아 양수인지 음수인지 판별하는 프로그램 만들기"
   ]
  },
  {
   "cell_type": "code",
   "execution_count": 1,
   "metadata": {},
   "outputs": [
    {
     "name": "stdout",
     "output_type": "stream",
     "text": [
      "양수\n"
     ]
    }
   ],
   "source": [
    "x = int(input('숫자를 입력하세요 : '))\n",
    "\n",
    "if x > 0 :\n",
    "    print ('양수')\n",
    "elif x < 0 : \n",
    "    print ('음수')\n",
    "else:\n",
    "    print ('잘못입력했습니다!')\n",
    "\n",
    "    "
   ]
  },
  {
   "cell_type": "markdown",
   "metadata": {},
   "source": [
    "2-2. 값을 입력 받아 홀수인지 짝수인지 판별하는 프로그램 만들기"
   ]
  },
  {
   "cell_type": "code",
   "execution_count": null,
   "metadata": {},
   "outputs": [],
   "source": [
    "x2 = int(input('숫자를 입력하세요 : '))\n",
    "if x2 % 2 == 0 :\n",
    "    print(f'{x2}는 짝수입니다.')\n",
    "else : \n",
    "    print(f'{x2}는 홀수입니다.')"
   ]
  },
  {
   "cell_type": "markdown",
   "metadata": {},
   "source": [
    "2-3. 키와 몸무게를 입력 받아, 비만도(BMI)를 판별하는 프로그램 만들기"
   ]
  },
  {
   "cell_type": "code",
   "execution_count": 4,
   "metadata": {},
   "outputs": [
    {
     "name": "stdout",
     "output_type": "stream",
     "text": [
      "저체중\n"
     ]
    }
   ],
   "source": [
    "height = float(input('키를 입력해주세요.(cm)')) #cm -> M\\m로 바꿔줘야함.\n",
    "weight = float(input('몸무게를 입력해주세요.(kg)')) #kg\n",
    "\n",
    "meter_height = height/100\n",
    "BMI = weight / (height * height)\n",
    "\n",
    "if BMI < 18.5 :\n",
    "    print('저체중')\n",
    "elif BMI < 22.9 :\n",
    "    print('정상')\n",
    "elif BMI < 24.9 :\n",
    "    print('과체중')\n",
    "elif BMI < 29.9 :\n",
    "    print('경도비만')\n",
    "else :\n",
    "    print('고도비만')"
   ]
  },
  {
   "cell_type": "markdown",
   "metadata": {},
   "source": [
    "# 반복문"
   ]
  },
  {
   "cell_type": "markdown",
   "metadata": {},
   "source": [
    "## while문"
   ]
  },
  {
   "cell_type": "code",
   "execution_count": 14,
   "metadata": {},
   "outputs": [
    {
     "name": "stdout",
     "output_type": "stream",
     "text": [
      "나무를 1 번 찍었습니다.\n",
      "나무를 2 번 찍었습니다.\n",
      "나무를 3 번 찍었습니다.\n",
      "나무를 4 번 찍었습니다.\n",
      "나무를 5 번 찍었습니다.\n",
      "나무를 6 번 찍었습니다.\n",
      "나무를 7 번 찍었습니다.\n",
      "나무를 8 번 찍었습니다.\n",
      "나무를 9 번 찍었습니다.\n",
      "나무를 10 번 찍었습니다.\n",
      "나무 넘어갑니다~~~!\n"
     ]
    }
   ],
   "source": [
    "#나무를 열번 찍고 열번 찍으면 나무가 넘어간다. \n",
    "treeHit = 0\n",
    "while treeHit < 10 : #treeHit = 0\n",
    "    treeHit = treeHit + 1 #treeHit = 1\n",
    "    print(f'나무를 {treeHit} 번 찍었습니다.') #treeHit = 1\n",
    "#위와 같이 10까지 반복 \n",
    "\n",
    "    if treeHit == 10 :\n",
    "        print('나무 넘어갑니다~~~!')"
   ]
  },
  {
   "cell_type": "code",
   "execution_count": 1,
   "metadata": {},
   "outputs": [
    {
     "name": "stdout",
     "output_type": "stream",
     "text": [
      "돈을 받았으니 커피를 줍니다.\n",
      "남은 커피의 양은 9개 입니다.\n",
      "돈을 받았으니 커피를 줍니다.\n",
      "남은 커피의 양은 8개 입니다.\n",
      "돈을 받았으니 커피를 줍니다.\n",
      "남은 커피의 양은 7개 입니다.\n",
      "돈을 받았으니 커피를 줍니다.\n",
      "남은 커피의 양은 6개 입니다.\n",
      "돈을 받았으니 커피를 줍니다.\n",
      "남은 커피의 양은 5개 입니다.\n",
      "돈을 받았으니 커피를 줍니다.\n",
      "남은 커피의 양은 4개 입니다.\n",
      "돈을 받았으니 커피를 줍니다.\n",
      "남은 커피의 양은 3개 입니다.\n",
      "돈을 받았으니 커피를 줍니다.\n",
      "남은 커피의 양은 2개 입니다.\n",
      "돈을 받았으니 커피를 줍니다.\n",
      "남은 커피의 양은 1개 입니다.\n",
      "돈을 받았으니 커피를 줍니다.\n",
      "남은 커피의 양은 0개 입니다.\n"
     ]
    }
   ],
   "source": [
    "#반복문에서 break 사용해보기\n",
    "coffee = 10\n",
    "money = 500\n",
    "while money :\n",
    "    print('돈을 받았으니 커피를 줍니다.')\n",
    "    coffee = coffee -1\n",
    "    print(f'남은 커피의 양은 {coffee}개 입니다.')\n",
    "    if not coffee: #coffee가 False\n",
    "        break"
   ]
  },
  {
   "cell_type": "code",
   "execution_count": 2,
   "metadata": {},
   "outputs": [
    {
     "name": "stdout",
     "output_type": "stream",
     "text": [
      "1\n",
      "3\n",
      "5\n",
      "7\n",
      "9\n"
     ]
    }
   ],
   "source": [
    "#continue: 현재 반복을 중지하고 다음 반복으로 넘기는 역할\n",
    "\n",
    "a = 0\n",
    "while a <10 : # a = 0\n",
    "    a = a + 1 # a = 1\n",
    "    if a % 2 == 0 : \n",
    "        continue\n",
    "    print(a)\n"
   ]
  },
  {
   "cell_type": "markdown",
   "metadata": {},
   "source": [
    "## for 문"
   ]
  },
  {
   "cell_type": "code",
   "execution_count": 41,
   "metadata": {},
   "outputs": [
    {
     "name": "stdout",
     "output_type": "stream",
     "text": [
      "1\n",
      "2\n",
      "3\n",
      "4\n",
      "5\n",
      "6\n",
      "7\n",
      "8\n",
      "9\n",
      "10\n"
     ]
    }
   ],
   "source": [
    "for i in range(1,11) : #1~10 (1 이상 11 미만)\n",
    "    print (i)\n"
   ]
  },
  {
   "cell_type": "code",
   "execution_count": 5,
   "metadata": {},
   "outputs": [
    {
     "name": "stdout",
     "output_type": "stream",
     "text": [
      "0\n",
      "2\n",
      "4\n",
      "6\n",
      "8\n"
     ]
    }
   ],
   "source": [
    "for i in range(0,10,2) : #2개씩 건너뛰기\n",
    "    print(i)"
   ]
  },
  {
   "cell_type": "code",
   "execution_count": 46,
   "metadata": {},
   "outputs": [
    {
     "name": "stdout",
     "output_type": "stream",
     "text": [
      "1\n",
      "3\n",
      "6\n",
      "10\n",
      "15\n",
      "21\n",
      "28\n",
      "36\n",
      "45\n",
      "55\n"
     ]
    }
   ],
   "source": [
    "result = 0\n",
    "for i in range(1,11) : #1~10 (1 이상 11 미만)\n",
    "    result = result + i\n",
    "    print(result)"
   ]
  },
  {
   "cell_type": "markdown",
   "metadata": {},
   "source": [
    "리스트도 for 문에 활용할 수 있음."
   ]
  },
  {
   "cell_type": "code",
   "execution_count": 11,
   "metadata": {},
   "outputs": [
    {
     "name": "stdout",
     "output_type": "stream",
     "text": [
      "90\n",
      "25\n",
      "67\n",
      "45\n",
      "80\n"
     ]
    }
   ],
   "source": [
    "score_list = [90, 25, 67, 45, 80]\n",
    "\n",
    "for score in score_list :\n",
    "    print(score)"
   ]
  },
  {
   "cell_type": "code",
   "execution_count": 23,
   "metadata": {},
   "outputs": [
    {
     "name": "stdout",
     "output_type": "stream",
     "text": [
      "3\n"
     ]
    }
   ],
   "source": [
    "# 합격한 사람이 몇명인지 알아보기\n",
    "score_list = [90, 25, 67, 45, 80]\n",
    "cut_line = 60\n",
    "pass_count = 0\n",
    "\n",
    "for score in score_list:\n",
    "    if score > cut_line:\n",
    "        pass_count += 1\n",
    "print(pass_count)\n"
   ]
  },
  {
   "cell_type": "code",
   "execution_count": 22,
   "metadata": {},
   "outputs": [
    {
     "name": "stdout",
     "output_type": "stream",
     "text": [
      "90점 축하합니다!\n",
      "67점 축하합니다!\n",
      "80점 축하합니다!\n"
     ]
    }
   ],
   "source": [
    "#60점 이상인 경우에 축하메세지를 보냄.\n",
    "score_list = [90, 25, 67, 45, 80]\n",
    "cut_line = 60\n",
    "\n",
    "for score in score_list:\n",
    "    if score <= cut_line:\n",
    "        continue\n",
    "    print(f'{score}점 축하합니다!')"
   ]
  },
  {
   "cell_type": "code",
   "execution_count": 17,
   "metadata": {},
   "outputs": [
    {
     "name": "stdout",
     "output_type": "stream",
     "text": [
      "-----------------------------\n",
      "1 4\n",
      "1 5\n",
      "1 6\n",
      "-----------------------------\n",
      "2 4\n",
      "2 5\n",
      "2 6\n",
      "-----------------------------\n",
      "3 4\n",
      "3 5\n",
      "3 6\n"
     ]
    }
   ],
   "source": [
    "# 이중포문\n",
    "list1 = [1,2,3]\n",
    "list2 = [4,5,6]\n",
    "for num1 in list1:\n",
    "    print('-----------------------------') #구분선\n",
    "    for num2 in list2:\n",
    "        print(num1, num2)"
   ]
  },
  {
   "cell_type": "code",
   "execution_count": 28,
   "metadata": {},
   "outputs": [
    {
     "name": "stdout",
     "output_type": "stream",
     "text": [
      "-------------------------\n",
      "2 1\n",
      "2 2\n",
      "2 3\n",
      "2 4\n",
      "2 5\n",
      "2 6\n",
      "2 7\n",
      "2 8\n",
      "2 9\n",
      "-------------------------\n",
      "3 1\n",
      "3 2\n",
      "3 3\n",
      "3 4\n",
      "3 5\n",
      "3 6\n",
      "3 7\n",
      "3 8\n",
      "3 9\n",
      "-------------------------\n",
      "4 1\n",
      "4 2\n",
      "4 3\n",
      "4 4\n",
      "4 5\n",
      "4 6\n",
      "4 7\n",
      "4 8\n",
      "4 9\n",
      "-------------------------\n",
      "5 1\n",
      "5 2\n",
      "5 3\n",
      "5 4\n",
      "5 5\n",
      "5 6\n",
      "5 7\n",
      "5 8\n",
      "5 9\n",
      "-------------------------\n",
      "6 1\n",
      "6 2\n",
      "6 3\n",
      "6 4\n",
      "6 5\n",
      "6 6\n",
      "6 7\n",
      "6 8\n",
      "6 9\n",
      "-------------------------\n",
      "7 1\n",
      "7 2\n",
      "7 3\n",
      "7 4\n",
      "7 5\n",
      "7 6\n",
      "7 7\n",
      "7 8\n",
      "7 9\n",
      "-------------------------\n",
      "8 1\n",
      "8 2\n",
      "8 3\n",
      "8 4\n",
      "8 5\n",
      "8 6\n",
      "8 7\n",
      "8 8\n",
      "8 9\n",
      "-------------------------\n",
      "9 1\n",
      "9 2\n",
      "9 3\n",
      "9 4\n",
      "9 5\n",
      "9 6\n",
      "9 7\n",
      "9 8\n",
      "9 9\n"
     ]
    }
   ],
   "source": [
    "# 구구단 2~9단까지 출력해보기!\n",
    "\n",
    "for num1 in range(2,10):\n",
    "    print('-------------------------') #구분선\n",
    "    for num2 in range(1,10):\n",
    "     print(num1, num2)"
   ]
  },
  {
   "cell_type": "markdown",
   "metadata": {},
   "source": [
    "## List comprehension"
   ]
  },
  {
   "cell_type": "code",
   "execution_count": 32,
   "metadata": {},
   "outputs": [
    {
     "data": {
      "text/plain": [
       "[10, 20, 30, 40, 50, 60, 70, 80, 90, 100]"
      ]
     },
     "execution_count": 32,
     "metadata": {},
     "output_type": "execute_result"
    }
   ],
   "source": [
    "#1-10 리스트를 만들고 싶다.\n",
    "#리스트 안에서 for문 사용 가능함.\n",
    "\n",
    "[num*10 for num in range(1,11)]"
   ]
  },
  {
   "cell_type": "code",
   "execution_count": 33,
   "metadata": {},
   "outputs": [
    {
     "data": {
      "text/plain": [
       "[2, 4, 6, 8, 10]"
      ]
     },
     "execution_count": 33,
     "metadata": {},
     "output_type": "execute_result"
    }
   ],
   "source": [
    "#리스트 안에서 for 문과 if 문까지 사용 가능함.\n",
    "\n",
    "[num for num in range(1,11) if num % 2 == 0]"
   ]
  },
  {
   "cell_type": "code",
   "execution_count": 37,
   "metadata": {},
   "outputs": [
    {
     "data": {
      "text/plain": [
       "[2, 4, 6, 8, 10]"
      ]
     },
     "execution_count": 37,
     "metadata": {},
     "output_type": "execute_result"
    }
   ],
   "source": [
    "#위의 한 줄이 아래의 4줄로 표현됨. 되도록이면 위의 한 줄 쓰는 것을 지향!\n",
    "\n",
    "result_list = []\n",
    "for num in range (1,11):\n",
    "    if num % 2 == 0:\n",
    "        result_list.append(num)\n",
    "result_list\n"
   ]
  },
  {
   "cell_type": "markdown",
   "metadata": {},
   "source": [
    "## 연습문제"
   ]
  },
  {
   "cell_type": "markdown",
   "metadata": {},
   "source": [
    "2-4. A 부서의 월 매출이 아래와 같을 때, For문을 이용하여, A 부서의 평균 월 매출 계산\n",
    "(* 리스트와 For문을 이용해서 계산 / 1월 : 5500 / 2월 : 5300 / 3월 : 6700 / 4월 : 5500 / 5월 : 5800)"
   ]
  },
  {
   "cell_type": "code",
   "execution_count": 47,
   "metadata": {},
   "outputs": [
    {
     "name": "stdout",
     "output_type": "stream",
     "text": [
      "5600.0\n"
     ]
    }
   ],
   "source": [
    "sales = [5500, 5300, 6700, 5500, 5000]\n",
    "total_sales = 0\n",
    "\n",
    "for sale in sales : \n",
    "    total_sales = total_sales + sale\n",
    "print(total_sales/len(sales))"
   ]
  },
  {
   "cell_type": "markdown",
   "metadata": {},
   "source": [
    "2-5. For 반복문을 중첩하여, 아래와 같이 * 기호를 피라미드로 출력하는 프로그램 제작\n",
    "(참고로 print('*', end='')와 같이 print 함수를 사용하면 줄 바꿈 없이 화면에 출력할 수 있습니다.)"
   ]
  },
  {
   "cell_type": "code",
   "execution_count": 48,
   "metadata": {},
   "outputs": [
    {
     "name": "stdout",
     "output_type": "stream",
     "text": [
      "*\n",
      "**\n",
      "***\n",
      "****\n",
      "*****\n"
     ]
    }
   ],
   "source": [
    "for i in range(5):\n",
    "    for j in range(5):\n",
    "        if i >=j:\n",
    "            print('*', end='')\n",
    "    print('')"
   ]
  },
  {
   "cell_type": "markdown",
   "metadata": {},
   "source": [
    "2-6. 정수를 입력 받아 해당 수의 구구단을 출력하는 프로그램 만들기 "
   ]
  },
  {
   "cell_type": "code",
   "execution_count": 19,
   "metadata": {},
   "outputs": [
    {
     "name": "stdout",
     "output_type": "stream",
     "text": [
      "9 X 1 = 9\n",
      "9 X 2 = 18\n",
      "9 X 3 = 27\n",
      "9 X 4 = 36\n",
      "9 X 5 = 45\n",
      "9 X 6 = 54\n",
      "9 X 7 = 63\n",
      "9 X 8 = 72\n",
      "9 X 9 = 81\n"
     ]
    }
   ],
   "source": [
    "num = int(input('정수를 입력해주세요'))\n",
    "for i in range (1,10) : \n",
    "    result = num * i\n",
    "    print(f'{num} X {i} = {num*i}')"
   ]
  },
  {
   "cell_type": "markdown",
   "metadata": {},
   "source": [
    "2-7. For문과 If문을 이용하여, 정수를 입력 받아 정수의 약수를 구하는 프로그램 제작"
   ]
  },
  {
   "cell_type": "code",
   "execution_count": 51,
   "metadata": {},
   "outputs": [
    {
     "name": "stdout",
     "output_type": "stream",
     "text": [
      "[1, 2, 3, 4, 5, 6, 10, 12, 15, 20, 30, 60]\n"
     ]
    }
   ],
   "source": [
    "num = int(input('숫자를 입력해주세요'))\n",
    "result = []\n",
    "for i in range(1, num+1):\n",
    "    if num % i ==0 :\n",
    "        result.append(i)\n",
    "print(result)"
   ]
  },
  {
   "cell_type": "markdown",
   "metadata": {},
   "source": [
    "2-8. For문과 If문을 이용하여, 아래의 리스트의 최댓값을 구하는 프로그램 제작 (list = [1,24,3,44,1000,2,0,74] / 결과 : 1000)"
   ]
  },
  {
   "cell_type": "code",
   "execution_count": 21,
   "metadata": {},
   "outputs": [
    {
     "name": "stdout",
     "output_type": "stream",
     "text": [
      "74\n"
     ]
    }
   ],
   "source": [
    "list1 = [1,24,3,44,1000,2,0,74]\n",
    "result = 0\n",
    "\n"
   ]
  },
  {
   "cell_type": "markdown",
   "metadata": {},
   "source": [
    "## Print"
   ]
  },
  {
   "cell_type": "code",
   "execution_count": 53,
   "metadata": {},
   "outputs": [
    {
     "name": "stdout",
     "output_type": "stream",
     "text": [
      "권소은\n",
      "권 소 은\n"
     ]
    }
   ],
   "source": [
    "print('권' + '소' +'은')\n",
    "print('권', '소', '은')"
   ]
  },
  {
   "cell_type": "code",
   "execution_count": 55,
   "metadata": {},
   "outputs": [
    {
     "name": "stdout",
     "output_type": "stream",
     "text": [
      "1 2 3 4 5 6 7 8 9 "
     ]
    }
   ],
   "source": [
    "for i in range(1,10):\n",
    "    print(i,end=' ')"
   ]
  },
  {
   "cell_type": "markdown",
   "metadata": {},
   "source": [
    "# txt 파일 다루기"
   ]
  },
  {
   "cell_type": "code",
   "execution_count": 56,
   "metadata": {},
   "outputs": [],
   "source": [
    "#파일 생성하기\n",
    "f = open('text_file.txt','w') #mode : [read, write, add]\n",
    "f.close()"
   ]
  },
  {
   "cell_type": "code",
   "execution_count": 59,
   "metadata": {},
   "outputs": [],
   "source": [
    "#파일 생성 후 값 작성하기\n",
    "f= open('text_file2.txt','w')\n",
    "for i in range(1,11):\n",
    "    f.write(f'{i}번째 줄입니다.')\n",
    "f.close()"
   ]
  },
  {
   "cell_type": "code",
   "execution_count": 60,
   "metadata": {},
   "outputs": [],
   "source": [
    "#파일 열어서 값 추가하기\n",
    "f = open('text_file2.txt','a')\n",
    "for i in range(11,20):\n",
    "    f.write(f'{i}번째 줄입니다. \\n')\n",
    "f.close()"
   ]
  },
  {
   "cell_type": "code",
   "execution_count": 22,
   "metadata": {},
   "outputs": [
    {
     "name": "stdout",
     "output_type": "stream",
     "text": [
      "1번째 줄입니다.2번째 줄입니다.3번째 줄입니다.4번째 줄입니다.5번째 줄입니다.6번째 줄입니다.7번째 줄입니다.8번째 줄입니다.9번째 줄입니다.10번째 줄입니다.11번째 줄입니다. \n",
      "\n"
     ]
    }
   ],
   "source": [
    "#파일 읽기(reaLine) : 한줄 출력\n",
    "f = open('text_file2.txt', 'r')\n",
    "line = f.readline()\n",
    "print(line)\n",
    "f.close()"
   ]
  },
  {
   "cell_type": "code",
   "execution_count": null,
   "metadata": {},
   "outputs": [],
   "source": [
    "##파일 읽기(reaLine) : 한줄 출력 + 반복문 활용"
   ]
  }
 ],
 "metadata": {
  "kernelspec": {
   "display_name": "ai2",
   "language": "python",
   "name": "python3"
  },
  "language_info": {
   "codemirror_mode": {
    "name": "ipython",
    "version": 3
   },
   "file_extension": ".py",
   "mimetype": "text/x-python",
   "name": "python",
   "nbconvert_exporter": "python",
   "pygments_lexer": "ipython3",
   "version": "3.8.17"
  },
  "orig_nbformat": 4
 },
 "nbformat": 4,
 "nbformat_minor": 2
}
