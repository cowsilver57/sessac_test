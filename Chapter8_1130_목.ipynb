{
  "nbformat": 4,
  "nbformat_minor": 0,
  "metadata": {
    "colab": {
      "provenance": [],
      "authorship_tag": "ABX9TyP6ruQ/2MRkOC/iFgV7XjMO",
      "include_colab_link": true
    },
    "kernelspec": {
      "name": "python3",
      "display_name": "Python 3"
    },
    "language_info": {
      "name": "python"
    }
  },
  "cells": [
    {
      "cell_type": "markdown",
      "metadata": {
        "id": "view-in-github",
        "colab_type": "text"
      },
      "source": [
        "<a href=\"https://colab.research.google.com/github/cowsilver57/sessac_test/blob/main/Chapter8_1130_%EB%AA%A9.ipynb\" target=\"_parent\"><img src=\"https://colab.research.google.com/assets/colab-badge.svg\" alt=\"Open In Colab\"/></a>"
      ]
    },
    {
      "cell_type": "code",
      "source": [
        "#github와 colab 연동\n",
        "!git clone https://github.com/AnalyticsKnight/yemoonsaBigdata"
      ],
      "metadata": {
        "colab": {
          "base_uri": "https://localhost:8080/"
        },
        "id": "-1K1pxkt58OY",
        "outputId": "8ebb4af9-ea50-4d14-ac54-cd7d51b2d1ae"
      },
      "execution_count": 70,
      "outputs": [
        {
          "output_type": "stream",
          "name": "stdout",
          "text": [
            "fatal: destination path 'yemoonsaBigdata' already exists and is not an empty directory.\n"
          ]
        }
      ]
    },
    {
      "cell_type": "markdown",
      "source": [
        "#1유형"
      ],
      "metadata": {
        "id": "7boqo_mU5tuE"
      }
    },
    {
      "cell_type": "markdown",
      "source": [
        "기출 3회 1번"
      ],
      "metadata": {
        "id": "AHXZKx69-gJx"
      }
    },
    {
      "cell_type": "code",
      "execution_count": null,
      "metadata": {
        "colab": {
          "base_uri": "https://localhost:8080/"
        },
        "id": "oOZiIOjr5r5X",
        "outputId": "b3949fad-cd1f-4cd6-86aa-74696f825f00"
      },
      "outputs": [
        {
          "output_type": "stream",
          "name": "stdout",
          "text": [
            "19\n"
          ]
        }
      ],
      "source": [
        "import pandas as pd\n",
        "\n",
        "df = pd.read_csv('/content/yemoonsaBigdata/datasets/Part3/301_housing.csv')\n",
        "df_drop = df.dropna().reset_index()\n",
        "\n",
        "rst_df = df_drop.iloc[:int(len(df_drop)*0.7)]\n",
        "result = int(rst_df['housing_median_age'].quantile(0.25))\n",
        "print(result)"
      ]
    },
    {
      "cell_type": "markdown",
      "source": [
        "기출 3회 2번"
      ],
      "metadata": {
        "id": "MB2p5VR__b8i"
      }
    },
    {
      "cell_type": "code",
      "source": [
        "import pandas as pd\n",
        "\n",
        "data = pd.read_csv('/content/yemoonsaBigdata/datasets/Part3/302_worlddata.csv')\n",
        "print(data.head())\n",
        "print('-'*80)\n",
        "\n",
        "#'year' 열 값이 2000인 행들을 선택하고, 'year' 열을 삭제한 결과를 새로운 데이터프레임인 df_2000에 할당\n",
        "data_2000 = data[data['year']==2000].drop('year', axis=1)\n",
        "print(data_2000.head())\n",
        "print('-'*80)\n",
        "\n",
        "data_2000.index = ['value']\n",
        "data_2000_T = data_2000.T\n",
        "print(data_2000_T)\n",
        "print('-'*80)\n",
        "\n",
        "rst_df = data_2000_T[data_2000_T['value']>data_2000_T['value'].mean()]\n",
        "print(rst_df)\n",
        "print('-'*80)\n",
        "\n",
        "result = len(rst_df)\n",
        "print(result)"
      ],
      "metadata": {
        "colab": {
          "base_uri": "https://localhost:8080/"
        },
        "id": "9tVly7Gi_diB",
        "outputId": "0bebdb1f-83b0-466f-a36b-0e22c3555f61"
      },
      "execution_count": null,
      "outputs": [
        {
          "output_type": "stream",
          "name": "stdout",
          "text": [
            "   year  Afghanistan  Albania  Algeria  Andorra  Angola  Antigua & Barbuda  \\\n",
            "0  1999            0     89.0     25.0    245.0   217.0              102.0   \n",
            "1  2000            0    132.0      0.0    138.0    57.0              128.0   \n",
            "2  2001            0     54.0     14.0    312.0    45.0               45.0   \n",
            "3  2002            0      4.9      0.7     12.4     5.9                4.9   \n",
            "\n",
            "   Argentina  Armenia  Australia  ...  Tanzania    USA  Uruguay  Uzbekistan  \\\n",
            "0      193.0     21.0      261.0  ...      36.0  249.0    115.0        25.0   \n",
            "1       25.0    179.0       72.0  ...       6.0  158.0     35.0       101.0   \n",
            "2      221.0     11.0      212.0  ...       1.0   84.0    220.0         8.0   \n",
            "3        8.3      3.8       10.4  ...       5.7    8.7      6.6         2.4   \n",
            "\n",
            "   Vanuatu  Venezuela  Vietnam  Yemen  Zambia  Zimbabwe  \n",
            "0     21.0      333.0      111    6.0    32.0      64.0  \n",
            "1     18.0      100.0        2    0.0    19.0      18.0  \n",
            "2     11.0        3.0        1    0.0     4.0       4.0  \n",
            "3      0.9        7.7        2    0.1     2.5       4.7  \n",
            "\n",
            "[4 rows x 194 columns]\n",
            "--------------------------------------------------------------------------------\n",
            "   Afghanistan  Albania  Algeria  Andorra  Angola  Antigua & Barbuda  \\\n",
            "1            0    132.0      0.0    138.0    57.0              128.0   \n",
            "\n",
            "   Argentina  Armenia  Australia  Austria  ...  Tanzania    USA  Uruguay  \\\n",
            "1       25.0    179.0       72.0     75.0  ...       6.0  158.0     35.0   \n",
            "\n",
            "   Uzbekistan  Vanuatu  Venezuela  Vietnam  Yemen  Zambia  Zimbabwe  \n",
            "1       101.0     18.0      100.0        2    0.0    19.0      18.0  \n",
            "\n",
            "[1 rows x 193 columns]\n",
            "--------------------------------------------------------------------------------\n",
            "             value\n",
            "Afghanistan    0.0\n",
            "Albania      132.0\n",
            "Algeria        0.0\n",
            "Andorra      138.0\n",
            "Angola        57.0\n",
            "...            ...\n",
            "Venezuela    100.0\n",
            "Vietnam        2.0\n",
            "Yemen          0.0\n",
            "Zambia        19.0\n",
            "Zimbabwe      18.0\n",
            "\n",
            "[193 rows x 1 columns]\n",
            "--------------------------------------------------------------------------------\n",
            "                      value\n",
            "Albania               132.0\n",
            "Andorra               138.0\n",
            "Antigua & Barbuda     128.0\n",
            "Armenia               179.0\n",
            "Bahamas               176.0\n",
            "...                     ...\n",
            "United Arab Emirates  135.0\n",
            "United Kingdom        126.0\n",
            "USA                   158.0\n",
            "Uzbekistan            101.0\n",
            "Venezuela             100.0\n",
            "\n",
            "[76 rows x 1 columns]\n",
            "--------------------------------------------------------------------------------\n",
            "76\n"
          ]
        }
      ]
    },
    {
      "cell_type": "markdown",
      "source": [
        "기출 3회 3번"
      ],
      "metadata": {
        "id": "4cQ_GeBsBtPt"
      }
    },
    {
      "cell_type": "code",
      "source": [
        "import pandas as pd\n",
        "\n",
        "df = pd.read_csv('/content/yemoonsaBigdata/datasets/Part3/303_titanic.csv')\n",
        "print(df.head())\n",
        "print('-'*80)\n",
        "\n",
        "null = df.isnull().sum().reset_index()\n",
        "null.columns = ['var', 'count']\n",
        "print(null)\n",
        "print('-'*80)\n",
        "\n",
        "result = null.loc[null['count']==null['count'].max(),'var'].values[0]\n",
        "print(result)"
      ],
      "metadata": {
        "colab": {
          "base_uri": "https://localhost:8080/"
        },
        "id": "zuQHYAjtBxSc",
        "outputId": "031cbc08-1ba9-4a9c-8e44-443709b7c991"
      },
      "execution_count": null,
      "outputs": [
        {
          "output_type": "stream",
          "name": "stdout",
          "text": [
            "   PassengerId  Survived  Pclass  \\\n",
            "0            1         0       3   \n",
            "1            2         1       1   \n",
            "2            3         1       3   \n",
            "3            4         1       1   \n",
            "4            5         0       3   \n",
            "\n",
            "                                                Name     Sex   Age  SibSp  \\\n",
            "0                            Braund, Mr. Owen Harris    male  22.0      1   \n",
            "1  Cumings, Mrs. John Bradley (Florence Briggs Th...  female  38.0      1   \n",
            "2                             Heikkinen, Miss. Laina  female  26.0      0   \n",
            "3       Futrelle, Mrs. Jacques Heath (Lily May Peel)  female  35.0      1   \n",
            "4                           Allen, Mr. William Henry    male  35.0      0   \n",
            "\n",
            "   Parch            Ticket     Fare Cabin Embarked  \n",
            "0      0         A/5 21171   7.2500   NaN        S  \n",
            "1      0          PC 17599  71.2833   C85        C  \n",
            "2      0  STON/O2. 3101282   7.9250   C85        S  \n",
            "3      0            113803  53.1000  C123        S  \n",
            "4      0            373450   8.0500  C123        S  \n",
            "--------------------------------------------------------------------------------\n",
            "            var  count\n",
            "0   PassengerId      0\n",
            "1      Survived      0\n",
            "2        Pclass      0\n",
            "3          Name      0\n",
            "4           Sex      0\n",
            "5           Age    177\n",
            "6         SibSp      0\n",
            "7         Parch      0\n",
            "8        Ticket      0\n",
            "9          Fare      0\n",
            "10        Cabin    118\n",
            "11     Embarked      2\n",
            "--------------------------------------------------------------------------------\n",
            "Age\n"
          ]
        }
      ]
    },
    {
      "cell_type": "markdown",
      "source": [
        "#2유형"
      ],
      "metadata": {
        "id": "JvVPXp7bC9jl"
      }
    },
    {
      "cell_type": "code",
      "source": [
        "import pandas as pandas\n",
        "\n",
        "X_test = pd.read_csv('/content/yemoonsaBigdata/datasets/Part3/204_x_test.csv')\n",
        "X_train = pd.read_csv('/content/yemoonsaBigdata/datasets/Part3/204_x_train.csv')\n",
        "y_train = pd.read_csv('/content/yemoonsaBigdata/datasets/Part3/204_y_train.csv')\n",
        "\n",
        "#데이터 살펴보기\n",
        "# print(X_test.head())\n",
        "# print(X_train.head())\n",
        "# print(y_train.head())\n",
        "\n",
        "# print(X_test.info())\n",
        "# print(X_train.info())\n",
        "# print(y_train.info())\n",
        "\n",
        "# print(X_test.isnull().sum())\n",
        "# print(X_train.isnull().sum())\n",
        "# print(y_train.isnull().sum())\n",
        "\n",
        "#데이터 분류하기\n",
        "COL_DEL = ['ID']\n",
        "COL_NUM = ['Customer_care_calls', 'Customer_rating', 'Cost_of_the_Product','Prior_purchases','Discount_offered','Weight_in_gms']\n",
        "COL_CAT = ['Warehouse_block', 'Mode_of_Shipment','Product_importance','Gender']\n",
        "COL_Y = ['Reached.on.Time_Y.N']\n",
        "\n",
        "#데이터 분할하기\n",
        "from sklearn.model_selection import train_test_split\n",
        "X_tr, X_val, y_tr, y_val = train_test_split(X_train[COL_NUM+COL_CAT],\n",
        "                                            y_train[COL_Y].values.ravel(),\n",
        "                                            test_size=0.3,\n",
        "                                            stratify = y_train[COL_Y].values.ravel())\n",
        "\n",
        "#데이터 스케일링\n",
        "from sklearn.preprocessing import StandardScaler\n",
        "scaler = StandardScaler()\n",
        "scaler.fit(X_tr[COL_NUM])\n",
        "\n",
        "X_tr[COL_NUM] = scaler.transform(X_tr[COL_NUM])\n",
        "X_val[COL_NUM] = scaler.transform(X_val[COL_NUM])\n",
        "X_test[COL_NUM] = scaler.transform(X_test[COL_NUM])\n",
        "\n",
        "#데이터 인코딩\n",
        "from sklearn.preprocessing import LabelEncoder\n",
        "\n",
        "X = pd.concat([X_train[COL_CAT], X_test[COL_CAT]])\n",
        "\n",
        "for col in COL_CAT:\n",
        "    le = LabelEncoder()\n",
        "    le.fit(X[col])\n",
        "    X_tr[col] = le.transform(X_tr[col])\n",
        "    X_val[col] = le.transform(X_val[col])\n",
        "    X_test[col] = le.transform(X_test[col])\n",
        "\n",
        "#모델 학습시키기\n",
        "from sklearn.ensemble import RandomForestClassifier\n",
        "modelRF = RandomForestClassifier(random_state=123)\n",
        "modelRF.fit(X_tr, y_tr)\n",
        "\n",
        "#예측 결과값 생성하기\n",
        "y_val_predRF = modelRF.predict_proba(X_val)[:,1]\n",
        "\n",
        "#평가지표 구하기\n",
        "from sklearn.metrics import roc_auc_score\n",
        "scoreRF = roc_auc_score(y_val, y_val_predRF)\n",
        "print('Random Forest:', scoreRF)\n",
        "\n",
        "#하이퍼파라미터 조정\n",
        "modelRF2 = RandomForestClassifier(n_estimators=50, max_depth=3, random_state=123)\n",
        "modelRF2.fit(X_tr, y_tr)\n",
        "y_val_predRF2 = modelRF2.predict_proba(X_val)[:,1]\n",
        "scoreRF2 = roc_auc_score(y_val, y_val_predRF2)\n",
        "\n",
        "modelRF3 = RandomForestClassifier(n_estimators=50, max_depth=5, random_state=123)\n",
        "modelRF3.fit(X_tr, y_tr)\n",
        "y_val_predRF3 = modelRF3.predict_proba(X_val)[:,1]\n",
        "scoreRF3 = roc_auc_score(y_val, y_val_predRF3)\n",
        "\n",
        "print('Random Forest2:', scoreRF2)\n",
        "print('Random Forest3:', scoreRF3)\n",
        "\n",
        "#roc는 점수가 높을 수록 성능이 좋은 것! Random Forest 2 선택\n",
        "#최종 결괏값 생성하기\n",
        "pred = modelRF2.predict_proba(X_test[COL_NUM + COL_CAT])[:,1]\n",
        "result = pd.DataFrame({'ID':X_test.ID, 'pred':pred})\n",
        "print(result.head())\n",
        "\n",
        "#파일 저장하기\n",
        "# result.to_csv('007000955.csv', index=False)"
      ],
      "metadata": {
        "id": "m5lFu9KjDENt",
        "colab": {
          "base_uri": "https://localhost:8080/"
        },
        "outputId": "2f4bc092-e288-40ea-9e90-d61c5907c933"
      },
      "execution_count": 87,
      "outputs": [
        {
          "output_type": "stream",
          "name": "stdout",
          "text": [
            "Random Forest: 0.7441817318253332\n",
            "Random Forest2: 0.7512144362598543\n",
            "Random Forest3: 0.7488237302223409\n",
            "      ID      pred\n",
            "0   7007  0.468934\n",
            "1   9793  0.470954\n",
            "2   6593  0.489017\n",
            "3  10527  0.440211\n",
            "4   6914  0.523321\n"
          ]
        }
      ]
    },
    {
      "cell_type": "markdown",
      "source": [
        "#3유형"
      ],
      "metadata": {
        "id": "8L_D-fKK57Pb"
      }
    },
    {
      "cell_type": "markdown",
      "source": [
        "Airquality"
      ],
      "metadata": {
        "id": "YmC0J_SK5_Wj"
      }
    },
    {
      "cell_type": "code",
      "source": [
        "#단일표본 T-검정\n",
        "import pandas as pd\n",
        "import scipy.stats as stats\n",
        "from math import sqrt\n",
        "\n",
        "a = pd.read_csv('/content/yemoonsaBigdata/datasets/supplement/airquality.csv')\n",
        "print(a.head())\n",
        "\n",
        "print('-'*80)\n",
        "\n",
        "X = a['Wind'].mean()\n",
        "print(round(X,2))\n",
        "print('-'*80)\n",
        "\n",
        "t_score, p_value = stats.ttest_1samp(a['Wind'],10)\n",
        "print(round(t_score,2))\n",
        "print('-'*80)\n",
        "\n",
        "print(round(p_value,4))\n",
        "print('-'*80)\n",
        "\n",
        "if p_value>0.05:\n",
        "    print('채택')\n",
        "else:\n",
        "    print('기각')"
      ],
      "metadata": {
        "colab": {
          "base_uri": "https://localhost:8080/"
        },
        "id": "FYU_lABu5-jj",
        "outputId": "d1b1eb01-81e3-496f-f426-d99566f1736c"
      },
      "execution_count": null,
      "outputs": [
        {
          "output_type": "stream",
          "name": "stdout",
          "text": [
            "   Ozone  Solar.R  Wind  Temp  Month  Day\n",
            "0   41.0    190.0   7.4    67      5    1\n",
            "1   36.0    118.0   8.0    72      5    2\n",
            "2   12.0    149.0  12.6    74      5    3\n",
            "3   18.0    313.0  11.5    62      5    4\n",
            "4    NaN      NaN  14.3    56      5    5\n",
            "--------------------------------------------------------------------------------\n",
            "9.96\n",
            "--------------------------------------------------------------------------------\n",
            "-0.15\n",
            "--------------------------------------------------------------------------------\n",
            "0.8816\n",
            "--------------------------------------------------------------------------------\n",
            "채택\n"
          ]
        }
      ]
    },
    {
      "cell_type": "markdown",
      "source": [
        "Chickweight"
      ],
      "metadata": {
        "id": "lxZmNerl6t1A"
      }
    },
    {
      "cell_type": "code",
      "source": [
        "#독립표본 T-검정\n",
        "import pandas as pd\n",
        "import scipy.stats as stats\n",
        "from math import sqrt\n",
        "\n",
        "b = pd.read_csv('/content/yemoonsaBigdata/datasets/supplement/chickweight.csv')\n",
        "print(b.head())\n",
        "print('-'*80)\n",
        "\n",
        "b1 = b.loc[b.Diet==1]\n",
        "b4 = b.loc[b.Diet==4]\n",
        "\n",
        "b1_X = b1['weight'].mean()\n",
        "b4_X = b4['weight'].mean()\n",
        "print(round(b1_X,2), round(b4_X,2))\n",
        "print('-'*80)\n",
        "\n",
        "t_score,p_value = stats.ttest_ind(b1['weight'], b4['weight'], equal_var=False)\n",
        "print(round(t_score,2))\n",
        "print('-'*80)\n",
        "\n",
        "print(round(p_value,4))\n",
        "print('-'*80)\n",
        "\n",
        "if p_value>0.05:\n",
        "    print('채택')\n",
        "else:\n",
        "    print('기각')"
      ],
      "metadata": {
        "colab": {
          "base_uri": "https://localhost:8080/"
        },
        "id": "VTLJ8M-h6vkL",
        "outputId": "e592df94-ed8e-40cc-ea34-bc3de760bd00"
      },
      "execution_count": null,
      "outputs": [
        {
          "output_type": "stream",
          "name": "stdout",
          "text": [
            "   weight  Diet\n",
            "0      42     1\n",
            "1      51     1\n",
            "2      59     1\n",
            "3      64     1\n",
            "4      76     1\n",
            "--------------------------------------------------------------------------------\n",
            "102.65 135.26\n",
            "--------------------------------------------------------------------------------\n",
            "-4.41\n",
            "--------------------------------------------------------------------------------\n",
            "0.0\n",
            "--------------------------------------------------------------------------------\n",
            "기각\n"
          ]
        }
      ]
    },
    {
      "cell_type": "markdown",
      "source": [
        "StudentsPerformance1"
      ],
      "metadata": {
        "id": "ST9mU91n8BuL"
      }
    },
    {
      "cell_type": "code",
      "source": [
        "#일원분산분석\n",
        "import pandas as pd\n",
        "import scipy.stats as stats\n",
        "from math import sqrt\n",
        "\n",
        "c = pd.read_csv('/content/yemoonsaBigdata/datasets/supplement/StudentsPerformance1.csv', encoding='cp949')\n",
        "print(c.head())\n",
        "print('-'*80)\n",
        "\n",
        "X_A = c.loc[c.인종=='A그룹','수학 점수']\n",
        "X_B = c.loc[c.인종=='B그룹','수학 점수']\n",
        "X_C = c.loc[c.인종=='C그룹','수학 점수']\n",
        "X_D = c.loc[c.인종=='D그룹','수학 점수']\n",
        "\n",
        "X_A_mean = X_A.mean()\n",
        "X_B_mean = X_B.mean()\n",
        "X_C_mean = X_C.mean()\n",
        "X_D_mean = X_D.mean()\n",
        "print(round(X_A_mean,2), round(X_B_mean,2), round(X_C_mean,2), round(X_D_mean,2))\n",
        "print('-'*80)\n",
        "\n",
        "test_result = stats.f_oneway(X_A, X_B, X_C, X_D)\n",
        "print(round(test_result.statistic,2))\n",
        "print('-'*80)\n",
        "\n",
        "p_value = test_result.pvalue\n",
        "print(round(p_value,4))\n",
        "print('-'*80)\n",
        "\n",
        "if p_value>0.05:\n",
        "    print('채택')\n",
        "else:\n",
        "    print('기각')"
      ],
      "metadata": {
        "colab": {
          "base_uri": "https://localhost:8080/"
        },
        "id": "J9XsVton8DYV",
        "outputId": "95cfb4a4-2162-470d-ae08-bb5dc2ebd861"
      },
      "execution_count": null,
      "outputs": [
        {
          "output_type": "stream",
          "name": "stdout",
          "text": [
            "   ID   인종  수학 점수  읽기 점수  쓰기 점수\n",
            "0   1  B그룹     72     72     74\n",
            "1   2  C그룹     69     90     88\n",
            "2   3  B그룹     90     95     93\n",
            "3   4  A그룹     47     57     44\n",
            "4   5  C그룹     76     78     75\n",
            "--------------------------------------------------------------------------------\n",
            "61.63 63.45 64.46 67.36\n",
            "--------------------------------------------------------------------------------\n",
            "4.66\n",
            "--------------------------------------------------------------------------------\n",
            "0.0031\n",
            "--------------------------------------------------------------------------------\n",
            "기각\n"
          ]
        }
      ]
    },
    {
      "cell_type": "markdown",
      "source": [
        "StudentsPerformance2"
      ],
      "metadata": {
        "id": "sYd01kZw9P7o"
      }
    },
    {
      "cell_type": "code",
      "source": [
        "#카이제곱 독립성 검정\n",
        "import pandas as pd\n",
        "import scipy.stats as stats\n",
        "from math import sqrt\n",
        "\n",
        "d = pd.read_csv('/content/yemoonsaBigdata/datasets/supplement/StudentsPerformance2.csv', encoding='cp949')\n",
        "print(d.head())\n",
        "print('-'*80)\n",
        "\n",
        "table = pd.crosstab(d['성별'],d['학업 성적'])\n",
        "print(table)\n",
        "print('-'*80)\n",
        "\n",
        "X1 = table.loc['남성',:]\n",
        "X2 = table.loc['여성',:]\n",
        "\n",
        "X1_G = X1['우수']\n",
        "X2_G = X2['우수']\n",
        "print(X1_G - X2_G)\n",
        "print('-'*80)\n",
        "\n",
        "test_result = stats.chi2_contingency([X1,X2])\n",
        "print(round(test_result.statistic,2))\n",
        "print('-'*80)\n",
        "\n",
        "p_value = test_result.pvalue\n",
        "print(round(p_value,4))\n",
        "print('-'*80)\n",
        "\n",
        "if p_value>0.05:\n",
        "    print('채택')\n",
        "else:\n",
        "    print('기각')"
      ],
      "metadata": {
        "colab": {
          "base_uri": "https://localhost:8080/"
        },
        "id": "fUIfseVe9SLD",
        "outputId": "50471320-e60d-4203-bc80-59c2e499292b"
      },
      "execution_count": null,
      "outputs": [
        {
          "output_type": "stream",
          "name": "stdout",
          "text": [
            "   ID  성별 부모 학력 수준 학업 성적\n",
            "0   1  여성       중간    보통\n",
            "1   2  여성       낮음    우수\n",
            "2   3  여성       높음    우수\n",
            "3   4  남성       중간    낮음\n",
            "4   5  남성       낮음    보통\n",
            "--------------------------------------------------------------------------------\n",
            "학업 성적   낮음   보통   우수\n",
            "성별                  \n",
            "남성     115  283   84\n",
            "여성      83  313  122\n",
            "--------------------------------------------------------------------------------\n",
            "-38\n",
            "--------------------------------------------------------------------------------\n",
            "12.41\n",
            "--------------------------------------------------------------------------------\n",
            "0.002\n",
            "--------------------------------------------------------------------------------\n",
            "기각\n"
          ]
        }
      ]
    }
  ]
}