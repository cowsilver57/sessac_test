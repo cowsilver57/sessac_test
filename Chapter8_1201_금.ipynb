{
  "nbformat": 4,
  "nbformat_minor": 0,
  "metadata": {
    "colab": {
      "provenance": [],
      "authorship_tag": "ABX9TyPlmY5yZ2Yo2WiagiLXyZPJ",
      "include_colab_link": true
    },
    "kernelspec": {
      "name": "python3",
      "display_name": "Python 3"
    },
    "language_info": {
      "name": "python"
    }
  },
  "cells": [
    {
      "cell_type": "markdown",
      "metadata": {
        "id": "view-in-github",
        "colab_type": "text"
      },
      "source": [
        "<a href=\"https://colab.research.google.com/github/cowsilver57/sessac_test/blob/main/Chapter8_1201_%EA%B8%88.ipynb\" target=\"_parent\"><img src=\"https://colab.research.google.com/assets/colab-badge.svg\" alt=\"Open In Colab\"/></a>"
      ]
    },
    {
      "cell_type": "code",
      "execution_count": 1,
      "metadata": {
        "id": "Qaa8tdVX5gP6",
        "colab": {
          "base_uri": "https://localhost:8080/"
        },
        "outputId": "801afa87-45d3-422f-a7a2-7fd3408153fc"
      },
      "outputs": [
        {
          "output_type": "stream",
          "name": "stdout",
          "text": [
            "Cloning into 'yemoonsaBigdata'...\n",
            "remote: Enumerating objects: 637, done.\u001b[K\n",
            "remote: Counting objects: 100% (276/276), done.\u001b[K\n",
            "remote: Compressing objects: 100% (167/167), done.\u001b[K\n",
            "remote: Total 637 (delta 137), reused 184 (delta 109), pack-reused 361\u001b[K\n",
            "Receiving objects: 100% (637/637), 10.76 MiB | 12.41 MiB/s, done.\n",
            "Resolving deltas: 100% (321/321), done.\n"
          ]
        }
      ],
      "source": [
        "#github와 colab 연동\n",
        "!git clone https://github.com/AnalyticsKnight/yemoonsaBigdata"
      ]
    },
    {
      "cell_type": "markdown",
      "source": [
        "#1유형"
      ],
      "metadata": {
        "id": "-aVTVaBRN4an"
      }
    },
    {
      "cell_type": "markdown",
      "source": [
        "기출 5회 1번"
      ],
      "metadata": {
        "id": "GC6ca6wGN7Fn"
      }
    },
    {
      "cell_type": "code",
      "source": [
        "import pandas as pd\n",
        "\n",
        "df = pd.read_csv('/content/yemoonsaBigdata/datasets/Part3/501_trash_bag.csv', encoding='cp949')\n",
        "print(df.head())\n",
        "print('-'*80)\n",
        "\n",
        "target = df[(df.용도=='음식물쓰레기')&(df.사용대상=='가정용')]\n",
        "rst_df = target[target['2L가격']!=0]\n",
        "print(rst_df.head())\n",
        "print('-'*80)\n",
        "\n",
        "result = int(rst_df['2L가격'].mean())\n",
        "print(result)"
      ],
      "metadata": {
        "colab": {
          "base_uri": "https://localhost:8080/"
        },
        "id": "x3aihiujN5js",
        "outputId": "035709e9-4fcf-4129-ebf2-7928e8077672"
      },
      "execution_count": null,
      "outputs": [
        {
          "output_type": "stream",
          "name": "stdout",
          "text": [
            "   시도명 시군구명       종류 처리방식      용도 사용대상  1L가격  1.5L가격  2L가격  2.5L가격  ...  5L가격  \\\n",
            "0  강원도  강릉시     규격봉투  매립용   생활쓰레기   기타     0       0     0       0  ...   130   \n",
            "1  강원도  강릉시  재사용규격봉투  매립용   생활쓰레기   기타     0       0     0       0  ...     0   \n",
            "2  강원도  고성군     규격봉투  소각용   생활쓰레기  가정용     0       0     0       0  ...   140   \n",
            "3  강원도  고성군     규격봉투  소각용  음식물쓰레기  가정용     0       0    60       0  ...   120   \n",
            "4  강원도  고성군   특수규격마대  매립용   생활쓰레기  가정용     0       0     0       0  ...     0   \n",
            "\n",
            "   10L가격  20L가격  30L가격  50L가격  60L가격  75L가격  100L가격  120L가격  125L가격  \n",
            "0    270    520      0   1250      0   1880       0       0       0  \n",
            "1    270    520      0      0      0      0       0       0       0  \n",
            "2    260    500      0   1220      0      0    2410       0       0  \n",
            "3      0      0      0      0      0      0       0       0       0  \n",
            "4      0      0      0   1540      0      0       0       0       0  \n",
            "\n",
            "[5 rows x 21 columns]\n",
            "--------------------------------------------------------------------------------\n",
            "    시도명 시군구명    종류 처리방식      용도 사용대상  1L가격  1.5L가격  2L가격  2.5L가격  ...  5L가격  \\\n",
            "3   강원도  고성군  규격봉투  소각용  음식물쓰레기  가정용     0       0    60       0  ...   120   \n",
            "9   강원도  양구군  규격봉투  매립용  음식물쓰레기  가정용     0       0    50       0  ...   120   \n",
            "12  강원도  양양군  규격봉투   기타  음식물쓰레기  가정용     0       0    40       0  ...    90   \n",
            "20  강원도  원주시  규격봉투   기타  음식물쓰레기  가정용     0       0    80       0  ...   170   \n",
            "33  강원도  춘천시  규격봉투  매립용  음식물쓰레기  가정용    40       0    50       0  ...   140   \n",
            "\n",
            "    10L가격  20L가격  30L가격  50L가격  60L가격  75L가격  100L가격  120L가격  125L가격  \n",
            "3       0      0      0      0      0      0       0       0       0  \n",
            "9     210    400      0      0      0      0       0       0       0  \n",
            "12    170    340      0      0      0      0       0       0       0  \n",
            "20    320    680      0   1690      0      0       0       0       0  \n",
            "33    230    470      0      0      0      0       0       0       0  \n",
            "\n",
            "[5 rows x 21 columns]\n",
            "--------------------------------------------------------------------------------\n",
            "119\n"
          ]
        }
      ]
    },
    {
      "cell_type": "markdown",
      "source": [
        "기출 5회 2번"
      ],
      "metadata": {
        "id": "QRNRbDZLP4ql"
      }
    },
    {
      "cell_type": "code",
      "source": [
        "import pandas as pd\n",
        "\n",
        "df = pd.read_csv('/content/yemoonsaBigdata/datasets/Part3/502_bmi.csv')\n",
        "print(df.head())\n",
        "print('-'*80)\n",
        "\n",
        "df['BMI'] = df['Weight'] / ((df['Height']/100)**2)\n",
        "print(df.head())\n",
        "print('-'*80)\n",
        "\n",
        "target_normal = len(df[(df['BMI']>=18.5)&(df['BMI']<23)])\n",
        "target_over = len(df[(df['BMI']>=23)&(df['BMI']<25)])\n",
        "\n",
        "result = int(target_normal - target_over)\n",
        "print(result)"
      ],
      "metadata": {
        "colab": {
          "base_uri": "https://localhost:8080/"
        },
        "id": "8m5gCpcqP6FJ",
        "outputId": "1960b334-2109-4539-f875-0173db1b30df"
      },
      "execution_count": null,
      "outputs": [
        {
          "output_type": "stream",
          "name": "stdout",
          "text": [
            "   Gender  Height  Weight\n",
            "0    Male     174      96\n",
            "1    Male     189      87\n",
            "2  Female     185     110\n",
            "3  Female     195     104\n",
            "4    Male     149      61\n",
            "--------------------------------------------------------------------------------\n",
            "   Gender  Height  Weight        BMI\n",
            "0    Male     174      96  31.708284\n",
            "1    Male     189      87  24.355421\n",
            "2  Female     185     110  32.140248\n",
            "3  Female     195     104  27.350427\n",
            "4    Male     149      61  27.476240\n",
            "--------------------------------------------------------------------------------\n",
            "28\n"
          ]
        }
      ]
    },
    {
      "cell_type": "markdown",
      "source": [
        "기출 5회 3번"
      ],
      "metadata": {
        "id": "HAGt3-Q5RV-p"
      }
    },
    {
      "cell_type": "code",
      "source": [
        "import pandas as pd\n",
        "\n",
        "df = pd.read_csv('/content/yemoonsaBigdata/datasets/Part3/503_students.csv', encoding='cp949')\n",
        "print(df.head())\n",
        "print('-'*80)\n",
        "\n",
        "df['순 전입학생'] = df['총 전입학생'] - df['총 전출학생']\n",
        "print(df.head())\n",
        "print('-'*80)\n",
        "\n",
        "rst_df = df.groupby(['학교'])[['순 전입학생', '전체 학생 수']].sum()\n",
        "print(rst_df.head())\n",
        "print('-'*80)\n",
        "\n",
        "result = rst_df.loc[rst_df['순 전입학생']==rst_df['순 전입학생'].max(), '전체 학생 수'].values[0]\n",
        "print(result)"
      ],
      "metadata": {
        "colab": {
          "base_uri": "https://localhost:8080/"
        },
        "id": "O_scsDUYRWvP",
        "outputId": "9412c022-40de-421d-d24c-952a84a434eb"
      },
      "execution_count": null,
      "outputs": [
        {
          "output_type": "stream",
          "name": "stdout",
          "text": [
            "  학교  학년  총 전입학생  총 전출학생  전체 학생 수\n",
            "0  A   1       9       1      222\n",
            "1  A   2      13       4      148\n",
            "2  A   3       8       7      196\n",
            "3  B   1       7       5      171\n",
            "4  B   2       9       1      216\n",
            "--------------------------------------------------------------------------------\n",
            "  학교  학년  총 전입학생  총 전출학생  전체 학생 수  순 전입학생\n",
            "0  A   1       9       1      222       8\n",
            "1  A   2      13       4      148       9\n",
            "2  A   3       8       7      196       1\n",
            "3  B   1       7       5      171       2\n",
            "4  B   2       9       1      216       8\n",
            "--------------------------------------------------------------------------------\n",
            "    순 전입학생  전체 학생 수\n",
            "학교                 \n",
            "A       18      566\n",
            "B       13      588\n",
            "C       -9      528\n",
            "D        7      548\n",
            "E       14      603\n",
            "--------------------------------------------------------------------------------\n",
            "566\n"
          ]
        }
      ]
    },
    {
      "cell_type": "markdown",
      "source": [
        "기출 4회 1번"
      ],
      "metadata": {
        "id": "xiiFPwZvSd3x"
      }
    },
    {
      "cell_type": "code",
      "source": [
        "import numpy as np\n",
        "\n",
        "lst = [2,3,3.2,5,7.5,10,11.8,12,23,25,31.5,34]\n",
        "\n",
        "#제 1사분위수와 제 3사분위수를 구하시오.\n",
        "q1 = np.quantile(lst, 0.25)\n",
        "q3 = np.quantile(lst, 0.75)\n",
        "print(q1, q3)\n",
        "print('-'*80)\n",
        "\n",
        "#제 1사분위수와 제 3사분위수 차이의 절댓값을 구하시오.\n",
        "result = abs(q1-q3)\n",
        "print(result)\n",
        "print('-'*80)\n",
        "\n",
        "#그 값의 소수점을 버린 후 정수로 출력하시오.\n",
        "answer = int(result)\n",
        "print(answer)"
      ],
      "metadata": {
        "colab": {
          "base_uri": "https://localhost:8080/"
        },
        "id": "yjU1yyTGSe2t",
        "outputId": "ea29e443-fc58-4e26-97cf-711bbf297713"
      },
      "execution_count": null,
      "outputs": [
        {
          "output_type": "stream",
          "name": "stdout",
          "text": [
            "4.55 23.5\n",
            "--------------------------------------------------------------------------------\n",
            "18.95\n",
            "--------------------------------------------------------------------------------\n",
            "18\n"
          ]
        }
      ]
    },
    {
      "cell_type": "markdown",
      "source": [
        "기출 4회 2번"
      ],
      "metadata": {
        "id": "8onGNYAISfIA"
      }
    },
    {
      "cell_type": "code",
      "source": [
        "import pandas as pd\n",
        "df = pd.read_csv('/content/yemoonsaBigdata/datasets/Part3/402_facebook.csv')\n",
        "print(df.head())\n",
        "print('-'*80)\n",
        "\n",
        "df['pos_ratio'] = (df['num_loves']+df['num_wows'])/df['num_reactions']\n",
        "print(df.head())\n",
        "print('-'*80)\n",
        "\n",
        "rst_df = df[(df['pos_ratio']<0.5)&(df['pos_ratio']>0.4)&(df['status_type']=='video')]\n",
        "result = len(rst_df)\n",
        "print(result)"
      ],
      "metadata": {
        "colab": {
          "base_uri": "https://localhost:8080/"
        },
        "id": "pyltgHopSfrQ",
        "outputId": "e895f91b-d6de-465a-b652-10bf577c90e1"
      },
      "execution_count": null,
      "outputs": [
        {
          "output_type": "stream",
          "name": "stdout",
          "text": [
            "                          status_id status_type  num_reactions  num_comments  \\\n",
            "0  246675545449582_1649696485147474       video            529           512   \n",
            "1  246675545449582_1649426988507757       photo            150             0   \n",
            "2  246675545449582_1648730588577397       video            227           236   \n",
            "3  246675545449582_1648576705259452       photo            111             0   \n",
            "4  246675545449582_1645700502213739       photo            213             0   \n",
            "\n",
            "   num_shares  num_likes  num_loves  num_wows  num_hahas  num_sads  num_angrys  \n",
            "0         262        432         92         3          1         1           0  \n",
            "1           0        150          0         0          0         0           0  \n",
            "2          57        204         21         1          1         0           0  \n",
            "3           0        111          0         0          0         0           0  \n",
            "4           0        204          9         0          0         0           0  \n",
            "--------------------------------------------------------------------------------\n",
            "                          status_id status_type  num_reactions  num_comments  \\\n",
            "0  246675545449582_1649696485147474       video            529           512   \n",
            "1  246675545449582_1649426988507757       photo            150             0   \n",
            "2  246675545449582_1648730588577397       video            227           236   \n",
            "3  246675545449582_1648576705259452       photo            111             0   \n",
            "4  246675545449582_1645700502213739       photo            213             0   \n",
            "\n",
            "   num_shares  num_likes  num_loves  num_wows  num_hahas  num_sads  \\\n",
            "0         262        432         92         3          1         1   \n",
            "1           0        150          0         0          0         0   \n",
            "2          57        204         21         1          1         0   \n",
            "3           0        111          0         0          0         0   \n",
            "4           0        204          9         0          0         0   \n",
            "\n",
            "   num_angrys  pos_ratio  \n",
            "0           0   0.179584  \n",
            "1           0   0.000000  \n",
            "2           0   0.096916  \n",
            "3           0   0.000000  \n",
            "4           0   0.042254  \n",
            "--------------------------------------------------------------------------------\n",
            "90\n"
          ]
        }
      ]
    },
    {
      "cell_type": "markdown",
      "source": [
        "기출 4회 3번"
      ],
      "metadata": {
        "id": "JF5wXn5kSgF8"
      }
    },
    {
      "cell_type": "code",
      "source": [
        "import pandas as pd\n",
        "\n",
        "df = pd.read_csv('/content/yemoonsaBigdata/datasets/Part3/403_netflix.csv')\n",
        "# print(df.head())\n",
        "print('-'*80)\n",
        "\n",
        "rst_df = df[df['date_added'].str.contains('January')&df['date_added'].str.contains('2018')]\n",
        "print(rst_df.head())\n",
        "print('-'*80)\n",
        "\n",
        "result = len(rst_df[rst_df['country']=='United Kingdom'])\n",
        "print(result)"
      ],
      "metadata": {
        "colab": {
          "base_uri": "https://localhost:8080/"
        },
        "id": "3pviYpsySg8F",
        "outputId": "7be90c78-0fb9-4212-fb52-b09a3ed7ace0"
      },
      "execution_count": null,
      "outputs": [
        {
          "output_type": "stream",
          "name": "stdout",
          "text": [
            "--------------------------------------------------------------------------------\n",
            "     show_id     type                                              title  \\\n",
            "5055   s5056    Movie                               Expedition Happiness   \n",
            "5056   s5057    Movie  Jerry Seinfeld: I'm Telling You for the Last Time   \n",
            "5057   s5058  TV Show                                        Retribution   \n",
            "5058   s5059    Movie                                         Holy Camp!   \n",
            "5059   s5060    Movie                        A Futile and Stupid Gesture   \n",
            "\n",
            "                           director  \\\n",
            "5055                   Selima Taibi   \n",
            "5056                  Marty Callner   \n",
            "5057                            NaN   \n",
            "5058  Javier Ambrossi, Javier Calvo   \n",
            "5059                     David Wain   \n",
            "\n",
            "                                                   cast         country  \\\n",
            "5055                         Selima Taibi, Felix Starck         Germany   \n",
            "5056                                     Jerry Seinfeld   United States   \n",
            "5057  Georgina Campbell, Joe Dempsie, Adrian Edmonds...  United Kingdom   \n",
            "5058  Macarena García, Anna Castillo, Belén Cuesta, ...           Spain   \n",
            "5059  Will Forte, Domhnall Gleeson, Martin Mull, Joe...   United States   \n",
            "\n",
            "            date_added  release_year rating  duration  \\\n",
            "5055  January 31, 2018          2017  TV-PG    96 min   \n",
            "5056  January 30, 2018          1998  TV-14    69 min   \n",
            "5057  January 30, 2018          2016  TV-MA  1 Season   \n",
            "5058  January 29, 2018          2017  TV-MA   108 min   \n",
            "5059  January 26, 2018          2018  TV-MA   102 min   \n",
            "\n",
            "                                              listed_in  \\\n",
            "5055                Documentaries, International Movies   \n",
            "5056                                    Stand-Up Comedy   \n",
            "5057  British TV Shows, Crime TV Shows, Internationa...   \n",
            "5058             Comedies, Dramas, Faith & Spirituality   \n",
            "5059                                           Comedies   \n",
            "\n",
            "                                            description  \n",
            "5055  A filmmaker and his musician girlfriend attemp...  \n",
            "5056  Months after his classic TV sitcom ends, the l...  \n",
            "5057  A dark web of secrets and lies emerges when a ...  \n",
            "5058  In this musical comedy, two rebellious teen gi...  \n",
            "5059  In a brief life full of triumph and failure, \"...  \n",
            "--------------------------------------------------------------------------------\n",
            "6\n"
          ]
        }
      ]
    },
    {
      "cell_type": "markdown",
      "source": [
        "# 2유형"
      ],
      "metadata": {
        "id": "YypDpO90Vin7"
      }
    },
    {
      "cell_type": "markdown",
      "source": [
        "기출 5회"
      ],
      "metadata": {
        "id": "d4SnpwUhVnjR"
      }
    },
    {
      "cell_type": "code",
      "source": [
        "import pandas as pd\n",
        "import numpy as np\n",
        "\n",
        "X_test = pd.read_csv('/content/yemoonsaBigdata/datasets/Part3/504_x_test.csv')\n",
        "X_train = pd.read_csv('/content/yemoonsaBigdata/datasets/Part3/504_x_train.csv')\n",
        "y_train = pd.read_csv('/content/yemoonsaBigdata/datasets/Part3/504_y_train.csv')\n",
        "\n",
        "# print(X_test.head())\n",
        "# print(X_train.head())\n",
        "# print(y_train.head())\n",
        "\n",
        "# print(X_test.info())\n",
        "# print(X_train.info())\n",
        "# print(y_train.info())\n",
        "\n",
        "# print(X_test.isnull().sum())\n",
        "# print(X_train.isnull().sum())\n",
        "# print(y_train.isnull().sum())\n",
        "\n",
        "#데이터 분류하기\n",
        "COL_DEL = ['id']\n",
        "COL_NUM = ['year','mileage','tax','mpg', 'engineSize']\n",
        "COL_CAT = ['model','transmission','fuelType']\n",
        "COL_Y = ['price']\n",
        "\n",
        "#데이터 분할하기\n",
        "from sklearn.model_selection import train_test_split\n",
        "X_tr, X_val, y_tr, y_val = train_test_split(X_train[COL_NUM+COL_CAT],\n",
        "                                            y_train[COL_Y].values.ravel(),\n",
        "                                            test_size=0.3)\n",
        "\n",
        "#데이터 스케일링\n",
        "from sklearn.preprocessing import StandardScaler\n",
        "scaler = StandardScaler()\n",
        "scaler.fit(X_tr[COL_NUM])\n",
        "\n",
        "X_tr[COL_NUM] = scaler.transform(X_tr[COL_NUM])\n",
        "X_val[COL_NUM] = scaler.transform(X_val[COL_NUM])\n",
        "X_test[COL_NUM] = scaler.transform(X_test[COL_NUM])\n",
        "\n",
        "#데이터 인코딩\n",
        "from sklearn.preprocessing import LabelEncoder\n",
        "\n",
        "X = pd.concat([X_train[COL_CAT], X_test[COL_CAT]])\n",
        "for col in COL_CAT:\n",
        "    le = LabelEncoder()\n",
        "    le.fit(X[col])\n",
        "    X_tr[col] = le.transform(X_tr[col])\n",
        "    X_val[col] = le.transform(X_val[col])\n",
        "    X_test[col] = le.transform(X_test[col])\n",
        "\n",
        "#모델 적용하기\n",
        "from sklearn.ensemble import RandomForestRegressor\n",
        "modelRF = RandomForestRegressor(random_state=123)\n",
        "modelRF.fit(X_tr, y_tr)\n",
        "\n",
        "#예측값 생성하기\n",
        "y_val_predRF = modelRF.predict(X_val)\n",
        "\n",
        "#평가 지표 계산하기\n",
        "from sklearn.metrics import mean_squared_error\n",
        "\n",
        "def cal_rmse(actual,pred):\n",
        "    return np.sqrt(mean_squared_error(actual,pred))\n",
        "\n",
        "scoreRF = cal_rmse(y_val, y_val_predRF)\n",
        "print('Random Forest:', scoreRF)\n",
        "\n",
        "#하이퍼파라미터 조정하기\n",
        "# modelRF2 = RandomForestRegressor(n_estimators=50, max_depth=5, random_state=123)\n",
        "# modelRF2.fit(X_tr, y_tr)\n",
        "# y_val_predRF2 = modelRF2.predict(X_val)\n",
        "# scoreRF2 = cal_rmse(y_val, y_val_predRF2)\n",
        "# print('Random Forest2:', scoreRF2)\n",
        "\n",
        "# modelRF3 = RandomForestRegressor(n_estimators=50, max_depth=3, random_state=123)\n",
        "# modelRF3.fit(X_tr, y_tr)\n",
        "# y_val_predRF3 = modelRF3.predict(X_val)\n",
        "# scoreRF3 = cal_rmse(y_val, y_val_predRF3)\n",
        "# print('Random Forest3:', scoreRF3)\n",
        "\n",
        "#rmse는 점수가 낮을수록 성능이 좋음 -> Random Forest1 선택!\n",
        "#최종 결과값 생성하기\n",
        "pred = modelRF.predict(X_test[COL_NUM+COL_CAT])\n",
        "result = pd.DataFrame({'id':X_test.id, 'price':pred})\n",
        "print(result.head())\n",
        "\n",
        "#파일로 저장하기\n",
        "# result.to_csv('007000955.csv', index=False)"
      ],
      "metadata": {
        "colab": {
          "base_uri": "https://localhost:8080/"
        },
        "id": "hcGRluezVjfm",
        "outputId": "ed4d6dea-209e-4a3c-99a2-b655af223494"
      },
      "execution_count": null,
      "outputs": [
        {
          "output_type": "stream",
          "name": "stdout",
          "text": [
            "Random Forest: 2700.9543887298046\n",
            "     id     price\n",
            "0  7469  31510.53\n",
            "1  7470  16956.02\n",
            "2  7471  34080.00\n",
            "3  7472  14774.59\n",
            "4  7473  16521.37\n"
          ]
        }
      ]
    },
    {
      "cell_type": "markdown",
      "source": [
        "기출 4회"
      ],
      "metadata": {
        "id": "h3M92tNnBNFY"
      }
    },
    {
      "cell_type": "code",
      "source": [
        "import pandas as pd\n",
        "\n",
        "X_test = pd.read_csv('/content/yemoonsaBigdata/datasets/Part3/404_x_test.csv')\n",
        "X_train = pd.read_csv('/content/yemoonsaBigdata/datasets/Part3/404_x_train.csv')\n",
        "y_train = pd.read_csv('/content/yemoonsaBigdata/datasets/Part3/404_y_train.csv')\n",
        "\n",
        "# print(X_test.head())\n",
        "# print(X_train.head())\n",
        "# print(y_train.head())\n",
        "\n",
        "# print(X_test.info())\n",
        "# print(X_train.info())\n",
        "# print(y_train.info())\n",
        "\n",
        "# print(X_test.isnull().sum())\n",
        "# print(X_train.isnull().sum())\n",
        "# print(y_train.isnull().sum())\n",
        "\n",
        "#데이터 분류하기\n",
        "COL_DEL = ['ID']\n",
        "COL_NUM = ['Age','Work_Experience','Family_Size']\n",
        "COL_CAT = ['Gender','Ever_Married','Graduated','Profession','Spending_Score']\n",
        "COL_Y = ['Segmentation']\n",
        "\n",
        "#데이터 분할하기\n",
        "from sklearn.model_selection import train_test_split\n",
        "X_tr, X_val, y_tr, y_val = train_test_split(X_train[COL_NUM+COL_CAT],\n",
        "                                            y_train[COL_Y].values.ravel(),\n",
        "                                            test_size=0.3,\n",
        "                                            stratify=y_train[COL_Y].values.ravel())\n",
        "#데이터 스케일링\n",
        "from sklearn.preprocessing import StandardScaler\n",
        "scaler = StandardScaler()\n",
        "scaler.fit(X_tr[COL_NUM])\n",
        "X_tr[COL_NUM] = scaler.transform(X_tr[COL_NUM])\n",
        "X_val[COL_NUM] = scaler.transform(X_val[COL_NUM])\n",
        "X_test[COL_NUM] = scaler.transform(X_test[COL_NUM])\n",
        "\n",
        "#데이터 라벨링\n",
        "from sklearn.preprocessing import LabelEncoder\n",
        "\n",
        "X = pd.concat([X_train[COL_CAT], X_test[COL_CAT]])\n",
        "for col in COL_CAT:\n",
        "    le = LabelEncoder()\n",
        "    le.fit(X[col])\n",
        "    X_tr[col] = le.transform(X_tr[col])\n",
        "    X_val[col] = le.transform(X_val[col])\n",
        "    X_test[col] = le.transform(X_test[col])\n",
        "\n",
        "label_mapping = {'A':0, 'B':1, 'C':2, 'D':3}\n",
        "\n",
        "y_tr = [label_mapping[label] for label in y_tr]\n",
        "y_val = [label_mapping[label] for label in y_val]\n",
        "\n",
        "#모델 학습시키기\n",
        "from sklearn.ensemble import RandomForestClassifier\n",
        "modelRF = RandomForestClassifier()\n",
        "modelRF.fit(X_tr, y_tr)\n",
        "\n",
        "#예측값 생성하기\n",
        "y_val_predRF = modelRF.predict(X_val)\n",
        "\n",
        "#평가 지표 구하기\n",
        "from sklearn.metrics import f1_score\n",
        "scoreRF = f1_score(y_val, y_val_predRF, average='macro')\n",
        "print(\"Random Forest:\", scoreRF)\n",
        "\n",
        "#최종값\n",
        "pred = modelRF.predict(X_test[COL_NUM+COL_CAT])\n",
        "result = pd.DataFrame({'ID':X_test.ID, 'Segmentation':pred})\n",
        "print(result)\n",
        "\n",
        "#파일 생성\n",
        "# result.to_csv('007000955.csv', index=False)"
      ],
      "metadata": {
        "colab": {
          "base_uri": "https://localhost:8080/"
        },
        "id": "z5d8lhNjBN_B",
        "outputId": "09889877-bd13-4080-9a43-7b2574d2f355"
      },
      "execution_count": null,
      "outputs": [
        {
          "output_type": "stream",
          "name": "stdout",
          "text": [
            "Random Forest: 0.492991996918973\n",
            "          ID  Segmentation\n",
            "0     458989             1\n",
            "1     458994             2\n",
            "2     459000             2\n",
            "3     459003             2\n",
            "4     459005             0\n",
            "...      ...           ...\n",
            "2173  467950             3\n",
            "2174  467954             3\n",
            "2175  467958             1\n",
            "2176  467961             1\n",
            "2177  467968             3\n",
            "\n",
            "[2178 rows x 2 columns]\n"
          ]
        }
      ]
    },
    {
      "cell_type": "markdown",
      "source": [
        "기출 3회"
      ],
      "metadata": {
        "id": "vvnN5jhdLAVw"
      }
    },
    {
      "cell_type": "code",
      "source": [
        "import pandas as pd\n",
        "X_test = pd.read_csv('/content/yemoonsaBigdata/datasets/Part3/304_x_test.csv')\n",
        "X_train = pd.read_csv('/content/yemoonsaBigdata/datasets/Part3/304_x_train.csv')\n",
        "y_train = pd.read_csv('/content/yemoonsaBigdata/datasets/Part3/304_y_train.csv')\n",
        "\n",
        "#데이터 살펴보기\n",
        "# print(X_test.head())\n",
        "# print(X_train.head())\n",
        "# print(y_train.head())\n",
        "\n",
        "# print(X_test.info())\n",
        "# print(X_train.info())\n",
        "# print(y_train.info())\n",
        "\n",
        "# print(X_test.isnull().sum())\n",
        "# print(X_train.isnull().sum())\n",
        "# print(y_train.isnull().sum())\n",
        "\n",
        "#데이터 분류하기\n",
        "COL_DEL = ['ID']\n",
        "COL_NUM = ['Age','AnnualIncome','FamilyMembers','ChronicDiseases']\n",
        "COL_CAT = ['Employment Type','GraduateOrNot','FrequentFlyer','EverTravelledAbroad']\n",
        "COL_Y = ['TravelInsurance']\n",
        "\n",
        "#데이터 분할하기\n",
        "from sklearn.model_selection import train_test_split\n",
        "X_tr, X_val, y_tr, y_val = train_test_split(X_train[COL_NUM+COL_CAT],\n",
        "                                            y_train[COL_Y].values.ravel(),\n",
        "                                            test_size=0.3,\n",
        "                                            stratify = y_train[COL_Y].values.ravel())\n",
        "\n",
        "#데이터 스케일링\n",
        "from sklearn.preprocessing import StandardScaler\n",
        "scaler = StandardScaler()\n",
        "scaler.fit(X_tr[COL_NUM])\n",
        "X_tr[COL_NUM] = scaler.transform(X_tr[COL_NUM])\n",
        "X_val[COL_NUM] = scaler.transform(X_val[COL_NUM])\n",
        "X_test[COL_NUM] = scaler.transform(X_test[COL_NUM])\n",
        "\n",
        "#데이터 라벨링\n",
        "from sklearn.preprocessing import LabelEncoder\n",
        "X = pd.concat([X_train[COL_CAT], X_test[COL_CAT]])\n",
        "for col in COL_CAT:\n",
        "    le = LabelEncoder()\n",
        "    le.fit(X[col])\n",
        "    X_tr[col] = le.transform(X_tr[col])\n",
        "    X_val[col] = le.transform(X_val[col])\n",
        "    X_test[col] = le.transform(X_test[col])\n",
        "\n",
        "#모델 학습시키기\n",
        "from sklearn.ensemble import RandomForestClassifier\n",
        "modelRF = RandomForestClassifier(random_state=123)\n",
        "modelRF.fit(X_tr, y_tr)\n",
        "\n",
        "#예측값 생성하기\n",
        "y_val_predRF = modelRF.predict_proba(X_val)[:,1]\n",
        "\n",
        "#평가지표 계산하기\n",
        "from sklearn.metrics import roc_auc_score\n",
        "scoreRF = roc_auc_score(y_val, y_val_predRF)\n",
        "print('Random Forest:', scoreRF)\n",
        "\n",
        "#최종 결과값 생성하기\n",
        "pred = modelRF.predict_proba(X_test[COL_NUM+COL_CAT])[:,1]\n",
        "result = pd.DataFrame({'ID':X_test.ID, 'pred':pred})\n",
        "print(result)\n",
        "\n",
        "#파일 생성하기\n",
        "# result.to_csv('007000955.csv', index=False)"
      ],
      "metadata": {
        "colab": {
          "base_uri": "https://localhost:8080/"
        },
        "id": "3rBZE7mtLBTX",
        "outputId": "91837b99-99f8-46cc-f34f-58d2899aff8b"
      },
      "execution_count": null,
      "outputs": [
        {
          "output_type": "stream",
          "name": "stdout",
          "text": [
            "Random Forest: 0.80227420402859\n",
            "       ID      pred\n",
            "0    1569  0.664833\n",
            "1    1344  1.000000\n",
            "2    1429  0.046500\n",
            "3     896  0.022500\n",
            "4     101  0.950000\n",
            "..    ...       ...\n",
            "492  1376  0.280000\n",
            "493    87  0.000000\n",
            "494   287  0.005000\n",
            "495   337  0.610000\n",
            "496    92  0.020833\n",
            "\n",
            "[497 rows x 2 columns]\n"
          ]
        }
      ]
    },
    {
      "cell_type": "markdown",
      "source": [
        "#3유형"
      ],
      "metadata": {
        "id": "i0bRxzkUPCmA"
      }
    },
    {
      "cell_type": "markdown",
      "source": [
        "##1. 독립표본 T-검정"
      ],
      "metadata": {
        "id": "L6Hv93_nPFhP"
      }
    },
    {
      "cell_type": "code",
      "source": [
        "import pandas as pd\n",
        "import scipy.stats as stats\n",
        "from math import sqrt\n",
        "\n",
        "df = pd.read_csv('/content/yemoonsaBigdata/datasets/supplement/trees.csv')\n",
        "X = df['Height'].mean()\n",
        "print(round(X,2))\n",
        "\n",
        "t_score, p_value = stats.ttest_1samp(df['Height'],75)\n",
        "print(round(t_score,2))\n",
        "\n",
        "print(round(p_value,4))\n",
        "\n",
        "if p_value>0.05:\n",
        "    print('채택')\n",
        "else:\n",
        "    print('기각')"
      ],
      "metadata": {
        "id": "HxbL2_cTPE-p",
        "colab": {
          "base_uri": "https://localhost:8080/"
        },
        "outputId": "6269856a-2ebf-4ac8-ddc6-f7a67214497f"
      },
      "execution_count": 11,
      "outputs": [
        {
          "output_type": "stream",
          "name": "stdout",
          "text": [
            "76.0\n",
            "0.87\n",
            "0.3892\n",
            "채택\n"
          ]
        }
      ]
    },
    {
      "cell_type": "markdown",
      "source": [
        "###실습. Airquality"
      ],
      "metadata": {
        "id": "wvOCfRahLcHU"
      }
    },
    {
      "cell_type": "code",
      "source": [
        "import pandas as pd\n",
        "import scipy.stats as stats\n",
        "from math import sqrt\n",
        "\n",
        "df = pd.read_csv('/content/yemoonsaBigdata/datasets/supplement/airquality.csv')\n",
        "X = df['Wind'].mean()\n",
        "print(round(X,2))\n",
        "\n",
        "t_score, p_value = stats.ttest_1samp(df['Wind'],10)\n",
        "print(round(t_score,2))\n",
        "\n",
        "print(round(p_value,4))\n",
        "\n",
        "if p_value>0.05:\n",
        "    print('채택')\n",
        "else:\n",
        "    print('기각')"
      ],
      "metadata": {
        "colab": {
          "base_uri": "https://localhost:8080/"
        },
        "id": "SRrDvUAyLgM2",
        "outputId": "936c2d94-eb79-48e4-9734-b265d675faa8"
      },
      "execution_count": 53,
      "outputs": [
        {
          "output_type": "stream",
          "name": "stdout",
          "text": [
            "9.96\n",
            "-0.15\n",
            "0.8816\n",
            "채택\n"
          ]
        }
      ]
    },
    {
      "cell_type": "markdown",
      "source": [
        "##2. 독립표본 T-검정"
      ],
      "metadata": {
        "id": "SfEc8AErGK_H"
      }
    },
    {
      "cell_type": "code",
      "source": [
        "import pandas as pd\n",
        "import scipy.stats as stats\n",
        "from math import sqrt\n",
        "\n",
        "df = pd.read_csv('/content/yemoonsaBigdata/datasets/supplement/toothgrowth.csv')\n",
        "df.head()\n",
        "\n",
        "VC = df.loc[df.supp=='VC']\n",
        "OJ = df.loc[df.supp=='OJ']\n",
        "\n",
        "VC_X = VC['len'].mean()\n",
        "OJ_X = OJ['len'].mean()\n",
        "print(round(VC_X,2), round(OJ_X,2))\n",
        "\n",
        "t_score, p_value = stats.ttest_ind(VC['len'], OJ['len'], equal_var=True)\n",
        "print(round(t_score,2))\n",
        "\n",
        "print(round(p_value,4))\n",
        "if p_value>0.05:\n",
        "    print('채택')\n",
        "else:\n",
        "    print('기각')"
      ],
      "metadata": {
        "colab": {
          "base_uri": "https://localhost:8080/"
        },
        "id": "teLHpp07GNhE",
        "outputId": "e1c76d46-175a-4307-e6a7-5fc98e86ba00"
      },
      "execution_count": 18,
      "outputs": [
        {
          "output_type": "stream",
          "name": "stdout",
          "text": [
            "16.96 20.66\n",
            "-1.92\n",
            "0.0604\n",
            "채택\n"
          ]
        }
      ]
    },
    {
      "cell_type": "markdown",
      "source": [
        "### 실습.Chickweight"
      ],
      "metadata": {
        "id": "kdf169IdL-wN"
      }
    },
    {
      "cell_type": "code",
      "source": [
        "import pandas as pd\n",
        "import scipy.stats as stats\n",
        "from math import sqrt\n",
        "\n",
        "df = pd.read_csv('/content/yemoonsaBigdata/datasets/supplement/chickweight.csv')\n",
        "df.head()\n",
        "\n",
        "diet1 = df.loc[df.Diet==1]\n",
        "diet4 = df.loc[df.Diet==4]\n",
        "\n",
        "diet1_mean = diet1['weight'].mean()\n",
        "diet4_mean = diet4['weight'].mean()\n",
        "print(round(diet1_mean,2), round(diet4_mean,2))\n",
        "\n",
        "t_score, p_value = stats.ttest_ind(diet1['weight'], diet4['weight'],equal_var=False)\n",
        "print(round(t_score,2))\n",
        "print(round(p_value,4))\n",
        "if p_value>0.05:\n",
        "    print('채택')\n",
        "else:\n",
        "    print('기각')"
      ],
      "metadata": {
        "colab": {
          "base_uri": "https://localhost:8080/"
        },
        "id": "Epeo-7ewMBd8",
        "outputId": "b95c3da9-d585-4ae9-92ba-5e51b8efa613"
      },
      "execution_count": 56,
      "outputs": [
        {
          "output_type": "stream",
          "name": "stdout",
          "text": [
            "102.65 135.26\n",
            "-4.41\n",
            "0.0\n",
            "기각\n"
          ]
        }
      ]
    },
    {
      "cell_type": "markdown",
      "source": [
        "##3. 쌍체표본 T-검정"
      ],
      "metadata": {
        "id": "qx4DBrnpHFRn"
      }
    },
    {
      "cell_type": "code",
      "source": [
        "import pandas as pd\n",
        "import scipy.stats as stats\n",
        "from math import sqrt\n",
        "\n",
        "df = pd.read_csv('/content/yemoonsaBigdata/datasets/supplement/insectsprays.csv')\n",
        "\n",
        "diff = df['after_spr'] - df['before_spr']\n",
        "m_d = diff.mean()\n",
        "print(round(m_d,2))\n",
        "\n",
        "t_score, p_value = stats.ttest_rel(df['before_spr'], df['after_spr'], alternative='greater')\n",
        "print(round(t_score,2))\n",
        "\n",
        "print(round(p_value,4))\n",
        "if p_value>0.05:\n",
        "    print('채택')\n",
        "else:\n",
        "    print('기각')"
      ],
      "metadata": {
        "colab": {
          "base_uri": "https://localhost:8080/"
        },
        "id": "IbYcjQ9eHHzk",
        "outputId": "bbc116b4-aa10-4cc9-9d77-2d50d9d3ca36"
      },
      "execution_count": 24,
      "outputs": [
        {
          "output_type": "stream",
          "name": "stdout",
          "text": [
            "-12.0\n",
            "14.89\n",
            "0.0\n",
            "기각\n"
          ]
        }
      ]
    },
    {
      "cell_type": "markdown",
      "source": [
        "##4. 일원분산분석"
      ],
      "metadata": {
        "id": "hTm36qiyH2uq"
      }
    },
    {
      "cell_type": "code",
      "source": [
        "import pandas as pd\n",
        "import scipy.stats as stats\n",
        "from math import sqrt\n",
        "\n",
        "df = pd.read_csv('/content/yemoonsaBigdata/datasets/supplement/iris.csv')\n",
        "\n",
        "#1번\n",
        "result = df.loc[df['species']=='versicolor','sepal_width'].mean()\n",
        "print(round(result,2))\n",
        "\n",
        "X1 = df.loc[df['species']=='setosa','sepal_width']\n",
        "X2 = df.loc[df['species']=='versicolor','sepal_width']\n",
        "X3 = df.loc[df['species']=='virginica','sepal_width']\n",
        "\n",
        "test_result = stats.f_oneway(X1,X2,X3)\n",
        "print(test_result)\n",
        "\n",
        "statistic = test_result[0]\n",
        "print(round(statistic,2))\n",
        "\n",
        "p_value = test_result[1]\n",
        "print(round(p_value,4))\n",
        "\n",
        "if p_value>0.05:\n",
        "    print('채택')\n",
        "else:\n",
        "    print('기각')"
      ],
      "metadata": {
        "colab": {
          "base_uri": "https://localhost:8080/"
        },
        "id": "DORURJEeH42r",
        "outputId": "a96a0cea-23e9-4532-9891-acafc5872088"
      },
      "execution_count": 32,
      "outputs": [
        {
          "output_type": "stream",
          "name": "stdout",
          "text": [
            "2.77\n",
            "F_onewayResult(statistic=49.160040089612075, pvalue=4.492017133309115e-17)\n",
            "49.16\n",
            "0.0\n",
            "기각\n"
          ]
        }
      ]
    },
    {
      "cell_type": "markdown",
      "source": [
        "### 실습.StudentsPerformance1"
      ],
      "metadata": {
        "id": "7Vya4AYiN1s-"
      }
    },
    {
      "cell_type": "code",
      "source": [
        "import pandas as pd\n",
        "import scipy.stats as stats\n",
        "from math import sqrt\n",
        "\n",
        "df = pd.read_csv('/content/yemoonsaBigdata/datasets/supplement/StudentsPerformance1.csv',encoding='cp949')\n",
        "df.head()\n",
        "\n",
        "X1 = df.loc[df['인종']=='A그룹','수학 점수']\n",
        "X2 = df.loc[df['인종']=='B그룹','수학 점수']\n",
        "X3 = df.loc[df['인종']=='C그룹','수학 점수']\n",
        "X4 = df.loc[df['인종']=='D그룹','수학 점수']\n",
        "\n",
        "X1_mean = X1.mean()\n",
        "X2_mean = X2.mean()\n",
        "X3_mean = X3.mean()\n",
        "X4_mean = X4.mean()\n",
        "print(round(X1_mean,2), round(X2_mean,2), round(X3_mean,2), round(X4_mean,2))\n",
        "\n",
        "test_result = stats.f_oneway(X1,X2,X3,X4)\n",
        "print(test_result)\n",
        "\n",
        "statistic = test_result[0]\n",
        "print(round(statistic,2))\n",
        "\n",
        "p_value = test_result[1]\n",
        "print(round(p_value,4))\n",
        "\n",
        "if p_value>0.05:\n",
        "    print('채택')\n",
        "else:\n",
        "    print('기각')"
      ],
      "metadata": {
        "colab": {
          "base_uri": "https://localhost:8080/"
        },
        "id": "qBgJ1kPvN6hV",
        "outputId": "9ddbf52d-8b44-499e-f78f-d4bf3de2e8f6"
      },
      "execution_count": 63,
      "outputs": [
        {
          "output_type": "stream",
          "name": "stdout",
          "text": [
            "61.63 63.45 64.46 67.36\n",
            "F_onewayResult(statistic=4.6599225222506835, pvalue=0.0030804403240573554)\n",
            "4.66\n",
            "0.0031\n",
            "기각\n"
          ]
        }
      ]
    },
    {
      "cell_type": "markdown",
      "source": [
        "##5. 카이제곱 적합도 검정"
      ],
      "metadata": {
        "id": "-fP61-QTI-CH"
      }
    },
    {
      "cell_type": "code",
      "source": [
        "import pandas as pd\n",
        "import scipy.stats as stats\n",
        "from math import sqrt\n",
        "\n",
        "df = pd.read_csv('/content/yemoonsaBigdata/datasets/supplement/cellphone.csv')\n",
        "\n",
        "#1번\n",
        "count_df = df.groupby('제조사').count()\n",
        "print(count_df)\n",
        "result = count_df.loc['삼성','id'] - count_df.loc['애플','id']\n",
        "print(result)\n",
        "\n",
        "total_sum = len(df)\n",
        "expected = [int(total_sum*0.1),\n",
        "            int(total_sum*0.6),\n",
        "            int(total_sum*0.3)]\n",
        "print(expected)\n",
        "\n",
        "observed = count_df['id'].values\n",
        "test_result = stats.chisquare(observed, f_exp = expected)\n",
        "print(test_result)\n",
        "\n",
        "statistic = test_result[0]\n",
        "print(round(statistic,2))\n",
        "\n",
        "p_value = test_result[1]\n",
        "print(round(p_value,4))\n",
        "\n",
        "if p_value>0.05:\n",
        "    print('채택')\n",
        "else:\n",
        "    print('기각')"
      ],
      "metadata": {
        "colab": {
          "base_uri": "https://localhost:8080/"
        },
        "id": "0sAQpbTyJAMg",
        "outputId": "1536329b-14da-44b0-8209-8703c5d31139"
      },
      "execution_count": 42,
      "outputs": [
        {
          "output_type": "stream",
          "name": "stdout",
          "text": [
            "      id\n",
            "제조사     \n",
            "기타     5\n",
            "삼성   117\n",
            "애플    78\n",
            "39\n",
            "[20, 120, 60]\n",
            "Power_divergenceResult(statistic=16.725, pvalue=0.00023345995371416804)\n",
            "16.73\n",
            "0.0002\n",
            "기각\n"
          ]
        }
      ]
    },
    {
      "cell_type": "markdown",
      "source": [
        "##6. 카이제곱 독립성 검정"
      ],
      "metadata": {
        "id": "3lKBYnmoKdJ0"
      }
    },
    {
      "cell_type": "code",
      "source": [
        "import pandas as pd\n",
        "import scipy.stats as stats\n",
        "from math import sqrt\n",
        "\n",
        "df = pd.read_csv('/content/yemoonsaBigdata/datasets/supplement/student.csv')\n",
        "df.head()\n",
        "\n",
        "table = pd.crosstab(df['단과대학'],df['수강 과목 수'])\n",
        "print(table)\n",
        "\n",
        "result = table[table['6개 이상']==table['6개 이상'].max()].index[0]\n",
        "print(result)\n",
        "\n",
        "X1 = table.loc['경영대학',:]\n",
        "X2 = table.loc['자연대학',:]\n",
        "X3 = table.loc['공과대학',:]\n",
        "test_result = stats.chi2_contingency([X1,X2,X3])\n",
        "print(test_result)\n",
        "\n",
        "statistic = test_result[0]\n",
        "print(round(statistic,2))\n",
        "p_value = test_result[1]\n",
        "print(round(p_value,4))\n",
        "\n",
        "if p_value>0.05:\n",
        "    print('채택')\n",
        "else:\n",
        "    print('기각')"
      ],
      "metadata": {
        "colab": {
          "base_uri": "https://localhost:8080/"
        },
        "id": "j1ti6dOHKez8",
        "outputId": "8702cf9e-af11-4776-bc72-f35828079cdf"
      },
      "execution_count": 50,
      "outputs": [
        {
          "output_type": "stream",
          "name": "stdout",
          "text": [
            "수강 과목 수  4개 이하  5개  6개 이상\n",
            "단과대학                     \n",
            "경영대학        12  78     30\n",
            "공과대학        30  42     28\n",
            "자연대학        30  42      8\n",
            "경영대학\n",
            "Chi2ContingencyResult(statistic=30.127525252525256, pvalue=4.6103966676496775e-06, dof=4, expected_freq=array([[28.8, 64.8, 26.4],\n",
            "       [19.2, 43.2, 17.6],\n",
            "       [24. , 54. , 22. ]]))\n",
            "30.13\n",
            "0.0\n",
            "기각\n"
          ]
        }
      ]
    },
    {
      "cell_type": "markdown",
      "source": [
        "###실습.StudentsPerformance"
      ],
      "metadata": {
        "id": "CQSG6hY_PQev"
      }
    },
    {
      "cell_type": "code",
      "source": [
        "import pandas as pd\n",
        "import scipy.stats as stats\n",
        "from math import sqrt\n",
        "\n",
        "df = pd.read_csv('/content/yemoonsaBigdata/datasets/supplement/StudentsPerformance2.csv', encoding='cp949')\n",
        "print(df.head())\n",
        "\n",
        "table = pd.crosstab(df['성별'], df['학업 성적'])\n",
        "print(table)\n",
        "\n",
        "man = table.loc['남성',:]\n",
        "woman = table.loc['여성',:]\n",
        "\n",
        "man_g = man['우수']\n",
        "woman_g = woman['우수']\n",
        "\n",
        "print(int(abs(man_g - woman_g)))\n",
        "\n",
        "test_result = stats.chi2_contingency([man,woman])\n",
        "print(test_result)\n",
        "\n",
        "statistic = test_result[0]\n",
        "print(round(statistic,2))\n",
        "\n",
        "p_value = test_result[1]\n",
        "print(round(p_value,4))\n",
        "\n",
        "if p_value>0.05:\n",
        "    print('채택')\n",
        "else:\n",
        "    print('기각')"
      ],
      "metadata": {
        "colab": {
          "base_uri": "https://localhost:8080/"
        },
        "id": "_eosY2GgPSav",
        "outputId": "d9ffdf89-3d40-4e58-ab49-308a1b5ae3bf"
      },
      "execution_count": 72,
      "outputs": [
        {
          "output_type": "stream",
          "name": "stdout",
          "text": [
            "   ID  성별 부모 학력 수준 학업 성적\n",
            "0   1  여성       중간    보통\n",
            "1   2  여성       낮음    우수\n",
            "2   3  여성       높음    우수\n",
            "3   4  남성       중간    낮음\n",
            "4   5  남성       낮음    보통\n",
            "학업 성적   낮음   보통   우수\n",
            "성별                  \n",
            "남성     115  283   84\n",
            "여성      83  313  122\n",
            "38\n",
            "Chi2ContingencyResult(statistic=12.4115784293196, pvalue=0.0020177157693633684, dof=2, expected_freq=array([[ 95.436, 287.272,  99.292],\n",
            "       [102.564, 308.728, 106.708]]))\n",
            "12.41\n",
            "0.002\n",
            "기각\n"
          ]
        }
      ]
    }
  ]
}