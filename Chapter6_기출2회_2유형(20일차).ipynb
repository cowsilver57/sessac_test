{
  "nbformat": 4,
  "nbformat_minor": 0,
  "metadata": {
    "colab": {
      "provenance": [],
      "collapsed_sections": [
        "LOr36pPxpn-7",
        "-nR9Kmwer1cX"
      ],
      "authorship_tag": "ABX9TyN5165ojtZ5lFIHjJcVeD/z",
      "include_colab_link": true
    },
    "kernelspec": {
      "name": "python3",
      "display_name": "Python 3"
    },
    "language_info": {
      "name": "python"
    }
  },
  "cells": [
    {
      "cell_type": "markdown",
      "metadata": {
        "id": "view-in-github",
        "colab_type": "text"
      },
      "source": [
        "<a href=\"https://colab.research.google.com/github/cowsilver57/sessac_test/blob/main/Chapter6_%EA%B8%B0%EC%B6%9C2%ED%9A%8C_2%EC%9C%A0%ED%98%95(20%EC%9D%BC%EC%B0%A8).ipynb\" target=\"_parent\"><img src=\"https://colab.research.google.com/assets/colab-badge.svg\" alt=\"Open In Colab\"/></a>"
      ]
    },
    {
      "cell_type": "code",
      "execution_count": 34,
      "metadata": {
        "colab": {
          "base_uri": "https://localhost:8080/"
        },
        "id": "9Q4oM8Wqo1Lc",
        "outputId": "96919014-7d77-4162-ad05-18d4b4ef1c78"
      },
      "outputs": [
        {
          "output_type": "stream",
          "name": "stdout",
          "text": [
            "fatal: destination path 'yemoonsaBigdata' already exists and is not an empty directory.\n"
          ]
        }
      ],
      "source": [
        "#github와 colab 연동\n",
        "!git clone https://github.com/AnalyticsKnight/yemoonsaBigdata"
      ]
    },
    {
      "cell_type": "markdown",
      "source": [
        "#문제"
      ],
      "metadata": {
        "id": "DcHKxTquo7uA"
      }
    },
    {
      "cell_type": "markdown",
      "source": [
        "다음은 E-commerce Shipping 데이터 세트이다.\n",
        "\n",
        "주어진 훈련 데이터 세트를 활용하여 고객이 주문한 물품의 정시 도착 여부를 예측하고 해당 예측 결과를 csv 파일로 제출하시오.\n",
        "\n",
        "(결과 제출 양식: 제출한 예측값의 ROC_AUC 점수 결과를 통해 영역별 배점에 따라 최종 점수가 반영될 예정)"
      ],
      "metadata": {
        "id": "XYrDP4Buo9T4"
      }
    },
    {
      "cell_type": "markdown",
      "source": [
        "#풀이"
      ],
      "metadata": {
        "id": "_h3YpksBpQdO"
      }
    },
    {
      "cell_type": "markdown",
      "source": [
        "##데이터 불러오기"
      ],
      "metadata": {
        "id": "k0Xf72sqpRho"
      }
    },
    {
      "cell_type": "code",
      "source": [
        "import pandas as pd\n",
        "import numpy as np\n",
        "\n",
        "X_test = pd.read_csv('/content/yemoonsaBigdata/datasets/Part3/204_x_test.csv')\n",
        "X_train = pd.read_csv('/content/yemoonsaBigdata/datasets/Part3/204_x_train.csv')\n",
        "y_train = pd.read_csv('/content/yemoonsaBigdata/datasets/Part3/204_y_train.csv')"
      ],
      "metadata": {
        "id": "75I47FDFo832"
      },
      "execution_count": 35,
      "outputs": []
    },
    {
      "cell_type": "markdown",
      "source": [
        "## 데이터 살펴보기"
      ],
      "metadata": {
        "id": "LOr36pPxpn-7"
      }
    },
    {
      "cell_type": "code",
      "source": [
        "print(X_train.head())"
      ],
      "metadata": {
        "colab": {
          "base_uri": "https://localhost:8080/"
        },
        "id": "Z9fuHpe7qnLN",
        "outputId": "4a321425-0631-4acb-d98e-849f26871a8e"
      },
      "execution_count": 36,
      "outputs": [
        {
          "output_type": "stream",
          "name": "stdout",
          "text": [
            "      ID Warehouse_block Mode_of_Shipment  Customer_care_calls  \\\n",
            "0   9902               F             Ship                    3   \n",
            "1   9501               A             Ship                    4   \n",
            "2   6111               A             Ship                    4   \n",
            "3    588               F             Ship                    3   \n",
            "4  10806               F             Road                    5   \n",
            "\n",
            "   Customer_rating  Cost_of_the_Product  Prior_purchases Product_importance  \\\n",
            "0                5                  214                2             medium   \n",
            "1                2                  201                3             medium   \n",
            "2                2                  264                3                low   \n",
            "3                5                  194                2             medium   \n",
            "4                5                  269                5             medium   \n",
            "\n",
            "  Gender  Discount_offered  Weight_in_gms  \n",
            "0      F                 6           4578  \n",
            "1      F                 4           4613  \n",
            "2      M                10           5137  \n",
            "3      M                 4           3496  \n",
            "4      F                 3           1120  \n"
          ]
        }
      ]
    },
    {
      "cell_type": "code",
      "source": [
        "print(y_train.head())"
      ],
      "metadata": {
        "colab": {
          "base_uri": "https://localhost:8080/"
        },
        "id": "_4RtR6WZqpj-",
        "outputId": "f89c83d9-de09-4594-8b5a-e27d759ee651"
      },
      "execution_count": 37,
      "outputs": [
        {
          "output_type": "stream",
          "name": "stdout",
          "text": [
            "      ID  Reached.on.Time_Y.N\n",
            "0   9902                    0\n",
            "1   9501                    0\n",
            "2   6111                    1\n",
            "3    588                    1\n",
            "4  10806                    0\n"
          ]
        }
      ]
    },
    {
      "cell_type": "code",
      "source": [
        "print(X_test.head())"
      ],
      "metadata": {
        "colab": {
          "base_uri": "https://localhost:8080/"
        },
        "id": "9r7IUAaQqr7A",
        "outputId": "31d978e2-f667-402e-df48-4546b4ccacc6"
      },
      "execution_count": 38,
      "outputs": [
        {
          "output_type": "stream",
          "name": "stdout",
          "text": [
            "      ID Warehouse_block Mode_of_Shipment  Customer_care_calls  \\\n",
            "0   7007               C             Ship                    4   \n",
            "1   9793               D             Ship                    4   \n",
            "2   6593               C           Flight                    7   \n",
            "3  10527               A             Road                    4   \n",
            "4   6914               F             Ship                    5   \n",
            "\n",
            "   Customer_rating  Cost_of_the_Product  Prior_purchases Product_importance  \\\n",
            "0                1                  238                3               high   \n",
            "1                2                  245                3             medium   \n",
            "2                4                  272                4                low   \n",
            "3                1                  204                6                low   \n",
            "4                5                  256                5             medium   \n",
            "\n",
            "  Gender  Discount_offered  Weight_in_gms  \n",
            "0      F                 4           4910  \n",
            "1      M                 1           4731  \n",
            "2      M                 3           1805  \n",
            "3      M                 1           4943  \n",
            "4      M                 2           1693  \n"
          ]
        }
      ]
    },
    {
      "cell_type": "markdown",
      "source": [
        "##데이터 결측치 확인하기"
      ],
      "metadata": {
        "id": "-nR9Kmwer1cX"
      }
    },
    {
      "cell_type": "code",
      "source": [
        "X_train.isnull().sum()"
      ],
      "metadata": {
        "colab": {
          "base_uri": "https://localhost:8080/"
        },
        "id": "Qz8QIIAhr5G7",
        "outputId": "4b0924b1-30d8-44b0-ca90-b31981d40d7b"
      },
      "execution_count": 39,
      "outputs": [
        {
          "output_type": "execute_result",
          "data": {
            "text/plain": [
              "ID                     0\n",
              "Warehouse_block        0\n",
              "Mode_of_Shipment       0\n",
              "Customer_care_calls    0\n",
              "Customer_rating        0\n",
              "Cost_of_the_Product    0\n",
              "Prior_purchases        0\n",
              "Product_importance     0\n",
              "Gender                 0\n",
              "Discount_offered       0\n",
              "Weight_in_gms          0\n",
              "dtype: int64"
            ]
          },
          "metadata": {},
          "execution_count": 39
        }
      ]
    },
    {
      "cell_type": "code",
      "source": [
        "y_train.isnull().sum()"
      ],
      "metadata": {
        "colab": {
          "base_uri": "https://localhost:8080/"
        },
        "id": "vkc6joFwsCU4",
        "outputId": "ffbe058d-2c10-435a-ba6f-8245f46ba58e"
      },
      "execution_count": 40,
      "outputs": [
        {
          "output_type": "execute_result",
          "data": {
            "text/plain": [
              "ID                     0\n",
              "Reached.on.Time_Y.N    0\n",
              "dtype: int64"
            ]
          },
          "metadata": {},
          "execution_count": 40
        }
      ]
    },
    {
      "cell_type": "code",
      "source": [
        "X_test.isnull().sum()"
      ],
      "metadata": {
        "colab": {
          "base_uri": "https://localhost:8080/"
        },
        "id": "8mcVewRKsGFL",
        "outputId": "44690435-9669-4876-f641-a4a311f9eda8"
      },
      "execution_count": 41,
      "outputs": [
        {
          "output_type": "execute_result",
          "data": {
            "text/plain": [
              "ID                     0\n",
              "Warehouse_block        0\n",
              "Mode_of_Shipment       0\n",
              "Customer_care_calls    0\n",
              "Customer_rating        0\n",
              "Cost_of_the_Product    0\n",
              "Prior_purchases        0\n",
              "Product_importance     0\n",
              "Gender                 0\n",
              "Discount_offered       0\n",
              "Weight_in_gms          0\n",
              "dtype: int64"
            ]
          },
          "metadata": {},
          "execution_count": 41
        }
      ]
    },
    {
      "cell_type": "markdown",
      "source": [
        "##데이터 전처리"
      ],
      "metadata": {
        "id": "9jy6RuovqvTy"
      }
    },
    {
      "cell_type": "code",
      "source": [
        "print(X_train.info())"
      ],
      "metadata": {
        "colab": {
          "base_uri": "https://localhost:8080/"
        },
        "id": "N2jXLZesqwB0",
        "outputId": "2f2523f5-1435-4fe6-a7b2-f528d8d8009b"
      },
      "execution_count": 42,
      "outputs": [
        {
          "output_type": "stream",
          "name": "stdout",
          "text": [
            "<class 'pandas.core.frame.DataFrame'>\n",
            "RangeIndex: 6599 entries, 0 to 6598\n",
            "Data columns (total 11 columns):\n",
            " #   Column               Non-Null Count  Dtype \n",
            "---  ------               --------------  ----- \n",
            " 0   ID                   6599 non-null   int64 \n",
            " 1   Warehouse_block      6599 non-null   object\n",
            " 2   Mode_of_Shipment     6599 non-null   object\n",
            " 3   Customer_care_calls  6599 non-null   int64 \n",
            " 4   Customer_rating      6599 non-null   int64 \n",
            " 5   Cost_of_the_Product  6599 non-null   int64 \n",
            " 6   Prior_purchases      6599 non-null   int64 \n",
            " 7   Product_importance   6599 non-null   object\n",
            " 8   Gender               6599 non-null   object\n",
            " 9   Discount_offered     6599 non-null   int64 \n",
            " 10  Weight_in_gms        6599 non-null   int64 \n",
            "dtypes: int64(7), object(4)\n",
            "memory usage: 567.2+ KB\n",
            "None\n"
          ]
        }
      ]
    },
    {
      "cell_type": "code",
      "source": [
        "print(y_train.info())"
      ],
      "metadata": {
        "colab": {
          "base_uri": "https://localhost:8080/"
        },
        "id": "Hoz7BG01q1NI",
        "outputId": "03d5b1a4-d5a8-47a2-a5cc-78c4894af228"
      },
      "execution_count": 43,
      "outputs": [
        {
          "output_type": "stream",
          "name": "stdout",
          "text": [
            "<class 'pandas.core.frame.DataFrame'>\n",
            "RangeIndex: 6599 entries, 0 to 6598\n",
            "Data columns (total 2 columns):\n",
            " #   Column               Non-Null Count  Dtype\n",
            "---  ------               --------------  -----\n",
            " 0   ID                   6599 non-null   int64\n",
            " 1   Reached.on.Time_Y.N  6599 non-null   int64\n",
            "dtypes: int64(2)\n",
            "memory usage: 103.2 KB\n",
            "None\n"
          ]
        }
      ]
    },
    {
      "cell_type": "code",
      "source": [
        "print(X_test.info())"
      ],
      "metadata": {
        "colab": {
          "base_uri": "https://localhost:8080/"
        },
        "id": "lVkrisF4ruAM",
        "outputId": "cafd611a-6268-439d-d1a0-9bc0149390ba"
      },
      "execution_count": 44,
      "outputs": [
        {
          "output_type": "stream",
          "name": "stdout",
          "text": [
            "<class 'pandas.core.frame.DataFrame'>\n",
            "RangeIndex: 4400 entries, 0 to 4399\n",
            "Data columns (total 11 columns):\n",
            " #   Column               Non-Null Count  Dtype \n",
            "---  ------               --------------  ----- \n",
            " 0   ID                   4400 non-null   int64 \n",
            " 1   Warehouse_block      4400 non-null   object\n",
            " 2   Mode_of_Shipment     4400 non-null   object\n",
            " 3   Customer_care_calls  4400 non-null   int64 \n",
            " 4   Customer_rating      4400 non-null   int64 \n",
            " 5   Cost_of_the_Product  4400 non-null   int64 \n",
            " 6   Prior_purchases      4400 non-null   int64 \n",
            " 7   Product_importance   4400 non-null   object\n",
            " 8   Gender               4400 non-null   object\n",
            " 9   Discount_offered     4400 non-null   int64 \n",
            " 10  Weight_in_gms        4400 non-null   int64 \n",
            "dtypes: int64(7), object(4)\n",
            "memory usage: 378.2+ KB\n",
            "None\n"
          ]
        }
      ]
    },
    {
      "cell_type": "markdown",
      "source": [
        "## 데이터 분류하기"
      ],
      "metadata": {
        "id": "O9Tc22BbsK2T"
      }
    },
    {
      "cell_type": "code",
      "source": [
        "COL_DEL = ['ID']\n",
        "COL_NUM = ['Customer_care_calls','Customer_rating','Cost_of_the_Product','Prior_purchases','Discount_offered','Weight_in_gms']\n",
        "COL_CAT = ['Warehouse_block','Mode_of_Shipment','Product_importance','Gender']\n",
        "COL_Y = ['Reached.on.Time_Y.N']"
      ],
      "metadata": {
        "id": "rN68SxTqsLrK"
      },
      "execution_count": 45,
      "outputs": []
    },
    {
      "cell_type": "markdown",
      "source": [
        "##데이터 분할하기"
      ],
      "metadata": {
        "id": "qw6ztVExs0IP"
      }
    },
    {
      "cell_type": "code",
      "source": [
        "from sklearn.model_selection import train_test_split\n",
        "X_tr, X_val, y_tr, y_val = train_test_split(X_train[COL_NUM + COL_CAT],\n",
        "                                            y_train[COL_Y].values.ravel(),\n",
        "                                            test_size=0.3,\n",
        "                                            stratify = y_train[COL_Y].values.ravel())"
      ],
      "metadata": {
        "id": "sgw3xZI9s1US"
      },
      "execution_count": 50,
      "outputs": []
    },
    {
      "cell_type": "code",
      "source": [
        "print(y_tr)"
      ],
      "metadata": {
        "colab": {
          "base_uri": "https://localhost:8080/"
        },
        "id": "A8mUpwz0t38w",
        "outputId": "ea3e40c3-6487-4a50-ca34-adcca41532aa"
      },
      "execution_count": 51,
      "outputs": [
        {
          "output_type": "stream",
          "name": "stdout",
          "text": [
            "[1 0 0 ... 0 1 0]\n"
          ]
        }
      ]
    },
    {
      "cell_type": "markdown",
      "source": [
        "## 데이터 스케일링"
      ],
      "metadata": {
        "id": "WLooKE6At8Oe"
      }
    },
    {
      "cell_type": "code",
      "source": [
        "from sklearn.preprocessing import StandardScaler\n",
        "\n",
        "scaler = StandardScaler()\n",
        "scaler.fit(X_tr[COL_NUM])\n",
        "\n",
        "X_tr[COL_NUM] = scaler.transform(X_tr[COL_NUM])\n",
        "X_val[COL_NUM] = scaler.transform(X_val[COL_NUM])\n",
        "X_test[COL_NUM] = scaler.transform(X_test[COL_NUM])"
      ],
      "metadata": {
        "id": "E5mhOiUjt9fC"
      },
      "execution_count": 54,
      "outputs": []
    },
    {
      "cell_type": "code",
      "source": [
        "print(X_tr[COL_NUM].head())"
      ],
      "metadata": {
        "colab": {
          "base_uri": "https://localhost:8080/"
        },
        "id": "qSZemw1ruVw2",
        "outputId": "b19b314f-4eb5-4892-f70c-c32ff9e42537"
      },
      "execution_count": 55,
      "outputs": [
        {
          "output_type": "stream",
          "name": "stdout",
          "text": [
            "      Customer_care_calls  Customer_rating  Cost_of_the_Product  \\\n",
            "5125            -1.810351        -1.398534             1.114517   \n",
            "1761            -0.054548         1.411004            -1.392230   \n",
            "6470             0.823353         0.006235             1.299442   \n",
            "274             -0.932450         0.708619             0.744669   \n",
            "2245            -0.932450        -0.696150            -0.837458   \n",
            "\n",
            "      Prior_purchases  Discount_offered  Weight_in_gms  \n",
            "5125        -0.363981         -0.200754      -0.148414  \n",
            "1761        -1.020967         -0.701482       0.502222  \n",
            "6470         0.293005         -0.764073       0.898234  \n",
            "274         -0.363981          1.051064       0.059079  \n",
            "2245        -1.020967          1.051064      -1.195674  \n"
          ]
        }
      ]
    },
    {
      "cell_type": "markdown",
      "source": [
        "##데이터 인코딩"
      ],
      "metadata": {
        "id": "_sNqg2P5uZl8"
      }
    },
    {
      "cell_type": "code",
      "source": [
        "from sklearn.preprocessing import LabelEncoder\n",
        "\n",
        "X = pd.concat([X_train[COL_CAT], X_test[COL_CAT]])\n",
        "\n",
        "for col in COL_CAT:\n",
        "    le = LabelEncoder()\n",
        "    le.fit(X[col])\n",
        "    X_tr[col] = le.transform(X_tr[col])\n",
        "    X_val[col] = le.transform(X_val[col])\n",
        "    X_test[col] = le.transform(X_test[col])\n",
        "\n",
        "    #각 변수의 클래스 확인\n",
        "    print(col)\n",
        "    print(le.classes_)\n",
        "    print('\\n')"
      ],
      "metadata": {
        "colab": {
          "base_uri": "https://localhost:8080/"
        },
        "id": "nCvKtaXouaoJ",
        "outputId": "4bc7c0b6-5b09-474a-aace-21232e262f9d"
      },
      "execution_count": 57,
      "outputs": [
        {
          "output_type": "stream",
          "name": "stdout",
          "text": [
            "Warehouse_block\n",
            "['A' 'B' 'C' 'D' 'F']\n",
            "\n",
            "\n",
            "Mode_of_Shipment\n",
            "['Flight' 'Road' 'Ship']\n",
            "\n",
            "\n",
            "Product_importance\n",
            "['high' 'low' 'medium']\n",
            "\n",
            "\n",
            "Gender\n",
            "['F' 'M']\n",
            "\n",
            "\n"
          ]
        }
      ]
    },
    {
      "cell_type": "code",
      "source": [
        "print(X_tr[COL_CAT].head())"
      ],
      "metadata": {
        "colab": {
          "base_uri": "https://localhost:8080/"
        },
        "id": "ZAHA5kIHvJEv",
        "outputId": "899bbb8b-ef1d-40eb-c055-46691ec282c7"
      },
      "execution_count": 58,
      "outputs": [
        {
          "output_type": "stream",
          "name": "stdout",
          "text": [
            "      Warehouse_block  Mode_of_Shipment  Product_importance  Gender\n",
            "5125                4                 2                   2       1\n",
            "1761                3                 1                   1       1\n",
            "6470                2                 2                   2       1\n",
            "274                 4                 2                   2       1\n",
            "2245                4                 2                   0       1\n"
          ]
        }
      ]
    },
    {
      "cell_type": "markdown",
      "source": [
        "##모델 학습시키기"
      ],
      "metadata": {
        "id": "2Ytql-fGvMqB"
      }
    },
    {
      "cell_type": "code",
      "source": [
        "#1. 랜덤 포레스트\n",
        "from sklearn.ensemble import RandomForestClassifier\n",
        "modelRF = RandomForestClassifier(random_state=123)\n",
        "modelRF.fit(X_tr, y_tr)"
      ],
      "metadata": {
        "colab": {
          "base_uri": "https://localhost:8080/",
          "height": 74
        },
        "id": "2W9xFBCtvOoU",
        "outputId": "7bfcbc2c-5c49-450a-9c5c-d680ea7ed5bc"
      },
      "execution_count": 60,
      "outputs": [
        {
          "output_type": "execute_result",
          "data": {
            "text/plain": [
              "RandomForestClassifier(random_state=123)"
            ],
            "text/html": [
              "<style>#sk-container-id-2 {color: black;background-color: white;}#sk-container-id-2 pre{padding: 0;}#sk-container-id-2 div.sk-toggleable {background-color: white;}#sk-container-id-2 label.sk-toggleable__label {cursor: pointer;display: block;width: 100%;margin-bottom: 0;padding: 0.3em;box-sizing: border-box;text-align: center;}#sk-container-id-2 label.sk-toggleable__label-arrow:before {content: \"▸\";float: left;margin-right: 0.25em;color: #696969;}#sk-container-id-2 label.sk-toggleable__label-arrow:hover:before {color: black;}#sk-container-id-2 div.sk-estimator:hover label.sk-toggleable__label-arrow:before {color: black;}#sk-container-id-2 div.sk-toggleable__content {max-height: 0;max-width: 0;overflow: hidden;text-align: left;background-color: #f0f8ff;}#sk-container-id-2 div.sk-toggleable__content pre {margin: 0.2em;color: black;border-radius: 0.25em;background-color: #f0f8ff;}#sk-container-id-2 input.sk-toggleable__control:checked~div.sk-toggleable__content {max-height: 200px;max-width: 100%;overflow: auto;}#sk-container-id-2 input.sk-toggleable__control:checked~label.sk-toggleable__label-arrow:before {content: \"▾\";}#sk-container-id-2 div.sk-estimator input.sk-toggleable__control:checked~label.sk-toggleable__label {background-color: #d4ebff;}#sk-container-id-2 div.sk-label input.sk-toggleable__control:checked~label.sk-toggleable__label {background-color: #d4ebff;}#sk-container-id-2 input.sk-hidden--visually {border: 0;clip: rect(1px 1px 1px 1px);clip: rect(1px, 1px, 1px, 1px);height: 1px;margin: -1px;overflow: hidden;padding: 0;position: absolute;width: 1px;}#sk-container-id-2 div.sk-estimator {font-family: monospace;background-color: #f0f8ff;border: 1px dotted black;border-radius: 0.25em;box-sizing: border-box;margin-bottom: 0.5em;}#sk-container-id-2 div.sk-estimator:hover {background-color: #d4ebff;}#sk-container-id-2 div.sk-parallel-item::after {content: \"\";width: 100%;border-bottom: 1px solid gray;flex-grow: 1;}#sk-container-id-2 div.sk-label:hover label.sk-toggleable__label {background-color: #d4ebff;}#sk-container-id-2 div.sk-serial::before {content: \"\";position: absolute;border-left: 1px solid gray;box-sizing: border-box;top: 0;bottom: 0;left: 50%;z-index: 0;}#sk-container-id-2 div.sk-serial {display: flex;flex-direction: column;align-items: center;background-color: white;padding-right: 0.2em;padding-left: 0.2em;position: relative;}#sk-container-id-2 div.sk-item {position: relative;z-index: 1;}#sk-container-id-2 div.sk-parallel {display: flex;align-items: stretch;justify-content: center;background-color: white;position: relative;}#sk-container-id-2 div.sk-item::before, #sk-container-id-2 div.sk-parallel-item::before {content: \"\";position: absolute;border-left: 1px solid gray;box-sizing: border-box;top: 0;bottom: 0;left: 50%;z-index: -1;}#sk-container-id-2 div.sk-parallel-item {display: flex;flex-direction: column;z-index: 1;position: relative;background-color: white;}#sk-container-id-2 div.sk-parallel-item:first-child::after {align-self: flex-end;width: 50%;}#sk-container-id-2 div.sk-parallel-item:last-child::after {align-self: flex-start;width: 50%;}#sk-container-id-2 div.sk-parallel-item:only-child::after {width: 0;}#sk-container-id-2 div.sk-dashed-wrapped {border: 1px dashed gray;margin: 0 0.4em 0.5em 0.4em;box-sizing: border-box;padding-bottom: 0.4em;background-color: white;}#sk-container-id-2 div.sk-label label {font-family: monospace;font-weight: bold;display: inline-block;line-height: 1.2em;}#sk-container-id-2 div.sk-label-container {text-align: center;}#sk-container-id-2 div.sk-container {/* jupyter's `normalize.less` sets `[hidden] { display: none; }` but bootstrap.min.css set `[hidden] { display: none !important; }` so we also need the `!important` here to be able to override the default hidden behavior on the sphinx rendered scikit-learn.org. See: https://github.com/scikit-learn/scikit-learn/issues/21755 */display: inline-block !important;position: relative;}#sk-container-id-2 div.sk-text-repr-fallback {display: none;}</style><div id=\"sk-container-id-2\" class=\"sk-top-container\"><div class=\"sk-text-repr-fallback\"><pre>RandomForestClassifier(random_state=123)</pre><b>In a Jupyter environment, please rerun this cell to show the HTML representation or trust the notebook. <br />On GitHub, the HTML representation is unable to render, please try loading this page with nbviewer.org.</b></div><div class=\"sk-container\" hidden><div class=\"sk-item\"><div class=\"sk-estimator sk-toggleable\"><input class=\"sk-toggleable__control sk-hidden--visually\" id=\"sk-estimator-id-2\" type=\"checkbox\" checked><label for=\"sk-estimator-id-2\" class=\"sk-toggleable__label sk-toggleable__label-arrow\">RandomForestClassifier</label><div class=\"sk-toggleable__content\"><pre>RandomForestClassifier(random_state=123)</pre></div></div></div></div></div>"
            ]
          },
          "metadata": {},
          "execution_count": 60
        }
      ]
    },
    {
      "cell_type": "code",
      "source": [
        "#2. XGBoost\n",
        "from xgboost import XGBClassifier\n",
        "modelXGB = XGBClassifier(random_state=123)\n",
        "modelXGB.fit(X_tr, y_tr)"
      ],
      "metadata": {
        "colab": {
          "base_uri": "https://localhost:8080/",
          "height": 247
        },
        "id": "4tLc-doevdZT",
        "outputId": "859c0905-917e-43ba-c935-cab8addba497"
      },
      "execution_count": 63,
      "outputs": [
        {
          "output_type": "execute_result",
          "data": {
            "text/plain": [
              "XGBClassifier(base_score=None, booster=None, callbacks=None,\n",
              "              colsample_bylevel=None, colsample_bynode=None,\n",
              "              colsample_bytree=None, device=None, early_stopping_rounds=None,\n",
              "              enable_categorical=False, eval_metric=None, feature_types=None,\n",
              "              gamma=None, grow_policy=None, importance_type=None,\n",
              "              interaction_constraints=None, learning_rate=None, max_bin=None,\n",
              "              max_cat_threshold=None, max_cat_to_onehot=None,\n",
              "              max_delta_step=None, max_depth=None, max_leaves=None,\n",
              "              min_child_weight=None, missing=nan, monotone_constraints=None,\n",
              "              multi_strategy=None, n_estimators=None, n_jobs=None,\n",
              "              num_parallel_tree=None, random_state=123, ...)"
            ],
            "text/html": [
              "<style>#sk-container-id-5 {color: black;background-color: white;}#sk-container-id-5 pre{padding: 0;}#sk-container-id-5 div.sk-toggleable {background-color: white;}#sk-container-id-5 label.sk-toggleable__label {cursor: pointer;display: block;width: 100%;margin-bottom: 0;padding: 0.3em;box-sizing: border-box;text-align: center;}#sk-container-id-5 label.sk-toggleable__label-arrow:before {content: \"▸\";float: left;margin-right: 0.25em;color: #696969;}#sk-container-id-5 label.sk-toggleable__label-arrow:hover:before {color: black;}#sk-container-id-5 div.sk-estimator:hover label.sk-toggleable__label-arrow:before {color: black;}#sk-container-id-5 div.sk-toggleable__content {max-height: 0;max-width: 0;overflow: hidden;text-align: left;background-color: #f0f8ff;}#sk-container-id-5 div.sk-toggleable__content pre {margin: 0.2em;color: black;border-radius: 0.25em;background-color: #f0f8ff;}#sk-container-id-5 input.sk-toggleable__control:checked~div.sk-toggleable__content {max-height: 200px;max-width: 100%;overflow: auto;}#sk-container-id-5 input.sk-toggleable__control:checked~label.sk-toggleable__label-arrow:before {content: \"▾\";}#sk-container-id-5 div.sk-estimator input.sk-toggleable__control:checked~label.sk-toggleable__label {background-color: #d4ebff;}#sk-container-id-5 div.sk-label input.sk-toggleable__control:checked~label.sk-toggleable__label {background-color: #d4ebff;}#sk-container-id-5 input.sk-hidden--visually {border: 0;clip: rect(1px 1px 1px 1px);clip: rect(1px, 1px, 1px, 1px);height: 1px;margin: -1px;overflow: hidden;padding: 0;position: absolute;width: 1px;}#sk-container-id-5 div.sk-estimator {font-family: monospace;background-color: #f0f8ff;border: 1px dotted black;border-radius: 0.25em;box-sizing: border-box;margin-bottom: 0.5em;}#sk-container-id-5 div.sk-estimator:hover {background-color: #d4ebff;}#sk-container-id-5 div.sk-parallel-item::after {content: \"\";width: 100%;border-bottom: 1px solid gray;flex-grow: 1;}#sk-container-id-5 div.sk-label:hover label.sk-toggleable__label {background-color: #d4ebff;}#sk-container-id-5 div.sk-serial::before {content: \"\";position: absolute;border-left: 1px solid gray;box-sizing: border-box;top: 0;bottom: 0;left: 50%;z-index: 0;}#sk-container-id-5 div.sk-serial {display: flex;flex-direction: column;align-items: center;background-color: white;padding-right: 0.2em;padding-left: 0.2em;position: relative;}#sk-container-id-5 div.sk-item {position: relative;z-index: 1;}#sk-container-id-5 div.sk-parallel {display: flex;align-items: stretch;justify-content: center;background-color: white;position: relative;}#sk-container-id-5 div.sk-item::before, #sk-container-id-5 div.sk-parallel-item::before {content: \"\";position: absolute;border-left: 1px solid gray;box-sizing: border-box;top: 0;bottom: 0;left: 50%;z-index: -1;}#sk-container-id-5 div.sk-parallel-item {display: flex;flex-direction: column;z-index: 1;position: relative;background-color: white;}#sk-container-id-5 div.sk-parallel-item:first-child::after {align-self: flex-end;width: 50%;}#sk-container-id-5 div.sk-parallel-item:last-child::after {align-self: flex-start;width: 50%;}#sk-container-id-5 div.sk-parallel-item:only-child::after {width: 0;}#sk-container-id-5 div.sk-dashed-wrapped {border: 1px dashed gray;margin: 0 0.4em 0.5em 0.4em;box-sizing: border-box;padding-bottom: 0.4em;background-color: white;}#sk-container-id-5 div.sk-label label {font-family: monospace;font-weight: bold;display: inline-block;line-height: 1.2em;}#sk-container-id-5 div.sk-label-container {text-align: center;}#sk-container-id-5 div.sk-container {/* jupyter's `normalize.less` sets `[hidden] { display: none; }` but bootstrap.min.css set `[hidden] { display: none !important; }` so we also need the `!important` here to be able to override the default hidden behavior on the sphinx rendered scikit-learn.org. See: https://github.com/scikit-learn/scikit-learn/issues/21755 */display: inline-block !important;position: relative;}#sk-container-id-5 div.sk-text-repr-fallback {display: none;}</style><div id=\"sk-container-id-5\" class=\"sk-top-container\"><div class=\"sk-text-repr-fallback\"><pre>XGBClassifier(base_score=None, booster=None, callbacks=None,\n",
              "              colsample_bylevel=None, colsample_bynode=None,\n",
              "              colsample_bytree=None, device=None, early_stopping_rounds=None,\n",
              "              enable_categorical=False, eval_metric=None, feature_types=None,\n",
              "              gamma=None, grow_policy=None, importance_type=None,\n",
              "              interaction_constraints=None, learning_rate=None, max_bin=None,\n",
              "              max_cat_threshold=None, max_cat_to_onehot=None,\n",
              "              max_delta_step=None, max_depth=None, max_leaves=None,\n",
              "              min_child_weight=None, missing=nan, monotone_constraints=None,\n",
              "              multi_strategy=None, n_estimators=None, n_jobs=None,\n",
              "              num_parallel_tree=None, random_state=123, ...)</pre><b>In a Jupyter environment, please rerun this cell to show the HTML representation or trust the notebook. <br />On GitHub, the HTML representation is unable to render, please try loading this page with nbviewer.org.</b></div><div class=\"sk-container\" hidden><div class=\"sk-item\"><div class=\"sk-estimator sk-toggleable\"><input class=\"sk-toggleable__control sk-hidden--visually\" id=\"sk-estimator-id-5\" type=\"checkbox\" checked><label for=\"sk-estimator-id-5\" class=\"sk-toggleable__label sk-toggleable__label-arrow\">XGBClassifier</label><div class=\"sk-toggleable__content\"><pre>XGBClassifier(base_score=None, booster=None, callbacks=None,\n",
              "              colsample_bylevel=None, colsample_bynode=None,\n",
              "              colsample_bytree=None, device=None, early_stopping_rounds=None,\n",
              "              enable_categorical=False, eval_metric=None, feature_types=None,\n",
              "              gamma=None, grow_policy=None, importance_type=None,\n",
              "              interaction_constraints=None, learning_rate=None, max_bin=None,\n",
              "              max_cat_threshold=None, max_cat_to_onehot=None,\n",
              "              max_delta_step=None, max_depth=None, max_leaves=None,\n",
              "              min_child_weight=None, missing=nan, monotone_constraints=None,\n",
              "              multi_strategy=None, n_estimators=None, n_jobs=None,\n",
              "              num_parallel_tree=None, random_state=123, ...)</pre></div></div></div></div></div>"
            ]
          },
          "metadata": {},
          "execution_count": 63
        }
      ]
    },
    {
      "cell_type": "markdown",
      "source": [
        "## 모델 평가하기"
      ],
      "metadata": {
        "id": "5QxCDX_XvrU2"
      }
    },
    {
      "cell_type": "code",
      "source": [
        "y_val_predRF = modelRF.predict_proba(X_val)[:,1]\n",
        "y_val_predXGB = modelXGB.predict_proba(X_val)[:,1]"
      ],
      "metadata": {
        "id": "sSnpzxqSvsMv"
      },
      "execution_count": 68,
      "outputs": []
    },
    {
      "cell_type": "markdown",
      "source": [
        "## 평가 지표 구하기"
      ],
      "metadata": {
        "id": "ial__yP7v719"
      }
    },
    {
      "cell_type": "code",
      "source": [
        "from sklearn.metrics import roc_auc_score\n",
        "\n",
        "scoreRF = roc_auc_score(y_val, y_val_predRF)\n",
        "scoreXGB = roc_auc_score(y_val, y_val_predXGB)\n",
        "\n",
        "print('Random Forest:', scoreRF)\n",
        "print('XGBoost:', scoreXGB)\n",
        "\n",
        "#XGBoost로 모델 설정"
      ],
      "metadata": {
        "colab": {
          "base_uri": "https://localhost:8080/"
        },
        "id": "sCDP78vXv7eH",
        "outputId": "4933d4eb-6f71-4515-a5d4-7c71cbc5346f"
      },
      "execution_count": 70,
      "outputs": [
        {
          "output_type": "stream",
          "name": "stdout",
          "text": [
            "Random Forest: 0.7391167215839939\n",
            "XGBoost: 0.7427610905436179\n"
          ]
        }
      ]
    },
    {
      "cell_type": "markdown",
      "source": [
        "## 학습, 검증 성능 확인 함수"
      ],
      "metadata": {
        "id": "wvQcNevtwbkZ"
      }
    },
    {
      "cell_type": "code",
      "source": [
        "def get_scores(model, X_tr, X_val, y_tr, y_val):\n",
        "\n",
        "    y_tr_pred = model.predict_proba(X_tr)[:,1]\n",
        "    y_val_pred = model.predict_proba(X_val)[:,1]\n",
        "    tr_score = roc_auc_score(y_tr, y_tr_pred)\n",
        "    val_score = roc_auc_score(y_val, y_val_pred)\n",
        "\n",
        "    return f'train: {round(tr_score,4)}, valid: {round(val_score,4)}'"
      ],
      "metadata": {
        "id": "NpLuWTaCwapp"
      },
      "execution_count": 73,
      "outputs": []
    },
    {
      "cell_type": "code",
      "source": [
        "print('Random Forest:\\n', get_scores(modelRF, X_tr, X_val, y_tr, y_val),'\\n')\n",
        "print('XGBoost:\\n', get_scores(modelXGB, X_tr, X_val, y_tr, y_val))\n",
        "\n",
        "#Random Forest는 과대적합이 심하게 되어있다.\n",
        "#따라서 원래대로 XGBoost 모델 사용"
      ],
      "metadata": {
        "colab": {
          "base_uri": "https://localhost:8080/"
        },
        "id": "OJeJSCWtxCTu",
        "outputId": "e9aca7fa-8691-4698-ce40-657f6a4c7064"
      },
      "execution_count": 78,
      "outputs": [
        {
          "output_type": "stream",
          "name": "stdout",
          "text": [
            "Random Forest:\n",
            " train: 1.0, valid: 0.7391 \n",
            "\n",
            "XGBoost:\n",
            " train: 0.9954, valid: 0.7428\n"
          ]
        }
      ]
    },
    {
      "cell_type": "markdown",
      "source": [
        "## 하이퍼 파리미터 조정"
      ],
      "metadata": {
        "id": "NwVdozuGxhOy"
      }
    },
    {
      "cell_type": "code",
      "source": [
        "modelXGB2 = XGBClassifier(n_estimators=30, max_depth=3, min_child_weight=1, random_state=123)\n",
        "modelXGB2.fit(X_tr, y_tr)\n",
        "\n",
        "modelXGB3 = XGBClassifier(n_estimators=30, max_depth=5, min_child_weight=1, random_state=123)\n",
        "modelXGB3.fit(X_tr, y_tr)\n",
        "\n",
        "modelXGB4 = XGBClassifier(n_estimators=50, max_depth=3, min_child_weight=1, random_state=123)\n",
        "modelXGB4.fit(X_tr, y_tr)\n",
        "\n",
        "modelXGB5 = XGBClassifier(n_estimators=50, max_depth=5, min_child_weight=1, random_state=123)\n",
        "modelXGB5.fit(X_tr, y_tr)\n",
        "\n",
        "print(\"XGBoost2:\\n\", get_scores(modelXGB2, X_tr, X_val, y_tr, y_val))\n",
        "print(\"XGBoost3:\\n\", get_scores(modelXGB3, X_tr, X_val, y_tr, y_val))\n",
        "print(\"XGBoost4:\\n\", get_scores(modelXGB4, X_tr, X_val, y_tr, y_val))\n",
        "print(\"XGBoost5:\\n\", get_scores(modelXGB5, X_tr, X_val, y_tr, y_val))\n",
        "\n",
        "#XGBoost 2 선택"
      ],
      "metadata": {
        "colab": {
          "base_uri": "https://localhost:8080/"
        },
        "id": "ViGKsN6yxgvq",
        "outputId": "7368d1bf-7628-415a-e5af-08396c136d3d"
      },
      "execution_count": 80,
      "outputs": [
        {
          "output_type": "stream",
          "name": "stdout",
          "text": [
            "XGBoost2:\n",
            " train: 0.8015, valid: 0.7501\n",
            "XGBoost3:\n",
            " train: 0.8729, valid: 0.7481\n",
            "XGBoost4:\n",
            " train: 0.8319, valid: 0.7474\n",
            "XGBoost5:\n",
            " train: 0.9252, valid: 0.7469\n"
          ]
        }
      ]
    },
    {
      "cell_type": "markdown",
      "source": [
        "## 최종 모델로 예측값 생성"
      ],
      "metadata": {
        "id": "7up2bFNRyPEt"
      }
    },
    {
      "cell_type": "code",
      "source": [
        "pred = modelXGB2.predict_proba(X_test[COL_NUM+COL_CAT])[:,1]\n",
        "result = pd.DataFrame({'ID':X_test.ID, 'pred':pred})\n",
        "print(result.head())"
      ],
      "metadata": {
        "colab": {
          "base_uri": "https://localhost:8080/"
        },
        "id": "m_9mJtjzyOQa",
        "outputId": "e14e7b44-a517-433b-a2b3-ea824501f5c8"
      },
      "execution_count": 83,
      "outputs": [
        {
          "output_type": "stream",
          "name": "stdout",
          "text": [
            "      ID      pred\n",
            "0   7007  0.999097\n",
            "1   9793  0.999240\n",
            "2   6593  0.999097\n",
            "3  10527  0.999097\n",
            "4   6914  0.999240\n"
          ]
        }
      ]
    }
  ]
}