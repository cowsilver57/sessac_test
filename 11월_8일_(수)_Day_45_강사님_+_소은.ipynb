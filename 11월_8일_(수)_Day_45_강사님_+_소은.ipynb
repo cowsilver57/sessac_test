{
  "nbformat": 4,
  "nbformat_minor": 0,
  "metadata": {
    "colab": {
      "provenance": [],
      "authorship_tag": "ABX9TyNCQUzkGGHrcX6lcDrA9Xih",
      "include_colab_link": true
    },
    "kernelspec": {
      "name": "python3",
      "display_name": "Python 3"
    },
    "language_info": {
      "name": "python"
    }
  },
  "cells": [
    {
      "cell_type": "markdown",
      "metadata": {
        "id": "view-in-github",
        "colab_type": "text"
      },
      "source": [
        "<a href=\"https://colab.research.google.com/github/cowsilver57/sessac_test/blob/main/11%EC%9B%94_8%EC%9D%BC_(%EC%88%98)_Day_45_%EA%B0%95%EC%82%AC%EB%8B%98_%2B_%EC%86%8C%EC%9D%80.ipynb\" target=\"_parent\"><img src=\"https://colab.research.google.com/assets/colab-badge.svg\" alt=\"Open In Colab\"/></a>"
      ]
    },
    {
      "cell_type": "markdown",
      "source": [
        "#게임 전체 함수"
      ],
      "metadata": {
        "id": "NCZ-O03T-u2N"
      }
    },
    {
      "cell_type": "code",
      "source": [
        "import pandas as pd\n",
        "\n",
        "class Character:\n",
        "    def __init__(self, lv, exp, HP, max_HP, damage, money):\n",
        "        self.lv = lv\n",
        "        self.exp = exp\n",
        "        self.HP = HP\n",
        "        self.max_HP = max_HP\n",
        "        self.damage = damage\n",
        "        self.money = money\n",
        "\n",
        "    def print_states(self):\n",
        "        print(f\"현재 레벨:{self.lv}\")\n",
        "        print(f\"현재 경험치:{self.exp}\")\n",
        "        print(f\"다음 레벨을 위한 경험치:{self.lv*100}\")\n",
        "        print(f\"HP:{self.HP}\")\n",
        "        print(f\"HP 최대치:{self.max_HP}\")\n",
        "        print(f\"공격력:{self.damage}\")\n",
        "        print(f\"돈:{self.money}\")\n",
        "\n",
        "    def save_states(self, file):\n",
        "        data = {\n",
        "            \"index\": [\"현재 레벨\",\"현재 경험치\",\"다음 레벨을 위한 경험치\",\"HP\",\"HP 최대치\",\"공격력\",\"돈\"],\n",
        "            \"values\":[self.lv, self.exp, self.lv*100, self.HP, self.max_HP, self.damage, self.money]}\n",
        "        df = pd.DataFrame(data)\n",
        "        df.to_csv(file, index=False, encoding='utf-8-sig', header=False)\n",
        "\n",
        "    def load_states(self, file):\n",
        "        with open(file, 'r') as f:\n",
        "            lines = f.readlines()\n",
        "            values = [line.rstrip().split(',')[1] for line in lines]\n",
        "\n",
        "            self.lv = int(values[0])\n",
        "            self.exp = int(values[1])\n",
        "            self.HP = int(values[3])\n",
        "            self.max_HP = int(values[4])\n",
        "            self.damage = int(values[5])\n",
        "            self.money = int(values[6])\n",
        "\n",
        "    def game_main(char):\n",
        "        while True:\n",
        "            print(\"다음 중 어떤 것을 하시겠습니까?\")\n",
        "            print(\"1. 몬스터 잡기\")\n",
        "            print(\"2. 현재 상태 확인\")\n",
        "            print(\"3. 물약 사기 (30원)\")\n",
        "            print(\"4. 게임 저장하기\")\n",
        "            print(\"0. 게임 종료\")\n",
        "\n",
        "            choice = input(\"선택: \")\n",
        "\n",
        "            if choice == \"1\":\n",
        "                char.attack_monster(slime)\n",
        "            elif choice == \"2\":\n",
        "                char.print_states()\n",
        "            elif choice == \"3\":\n",
        "                if char.money >= 30:\n",
        "                    print(\"물약을 구입하였습니다.\")\n",
        "                else:\n",
        "                    print(\"돈이 부족합니다.\")\n",
        "            elif choice == \"4\":\n",
        "                char.save_states(\"save_file.csv\")\n",
        "                print(\"게임이 저장되었습니다.\")\n",
        "            elif choice == \"0\":\n",
        "                print(\"게임을 종료합니다.\")\n",
        "                break\n",
        "            else:\n",
        "                print(\"올바른 선택이 아닙니다. 다시 선택해주세요.\")\n",
        "\n",
        "    def get_HP(self):\n",
        "        return self.HP\n",
        "\n",
        "    def set_HP(self, new_HP):\n",
        "        self.HP = new_HP\n",
        "\n",
        "    def attack_monster(self, monster):\n",
        "        slime = Slime(30, 5, 50, 10)\n",
        "        self.HP -= slime.damage\n",
        "        self.exp += monster.kill_exp\n",
        "        self.money += monster.kill_money\n",
        "        print(f\"경험치 {monster.kill_exp}, 돈 {monster.kill_money}를 획득했습니다!\")\n",
        "\n",
        "class Slime:\n",
        "    def __init__(self, HP, damage, kill_exp, kill_money):\n",
        "        self.HP = HP\n",
        "        self.damage = damage\n",
        "        self.kill_exp = kill_exp\n",
        "        self.kill_money = kill_money\n",
        "\n",
        "    def get_HP(self):\n",
        "        return self.HP\n",
        "\n",
        "    def set_HP(self, new_HP):\n",
        "        self.HP = new_HP\n",
        "\n",
        "# 캐릭터 실행\n",
        "char = Character(1, 0, 100, 100, 10, 100)\n",
        "char.load_states('save_file.csv')\n",
        "char.print_states()\n",
        "\n",
        "# 슬라임 실행\n",
        "slime = Slime(30, 5, 50, 10)\n",
        "\n",
        "# 몬스터 공격\n",
        "char.attack_monster(slime)"
      ],
      "metadata": {
        "colab": {
          "base_uri": "https://localhost:8080/"
        },
        "id": "PkrCRBWZ-iY2",
        "outputId": "9495003b-280d-4281-b74f-33caad42c7e6"
      },
      "execution_count": 105,
      "outputs": [
        {
          "output_type": "stream",
          "name": "stdout",
          "text": [
            "현재 레벨:1\n",
            "현재 경험치:0\n",
            "다음 레벨을 위한 경험치:100\n",
            "HP:100\n",
            "HP 최대치:100\n",
            "공격력:100\n",
            "돈:10\n",
            "경험치 50, 돈 10를 획득했습니다!\n"
          ]
        }
      ]
    },
    {
      "cell_type": "markdown",
      "source": [
        "# 게임 실행"
      ],
      "metadata": {
        "id": "gyQpHVOO-w5F"
      }
    },
    {
      "cell_type": "code",
      "source": [
        "import os\n",
        "while True:\n",
        "    next_move = int(input(\"\\nSeSac 온라인에 오신 것을 환영합니다.\\n\\n\"\n",
        "                         \"1. 새로운 게임 시작하기\\n\"\n",
        "                         \"2. 지난 게임 불러오기\\n\"\n",
        "                         \"3. 게임 종료하기\\n\"\n",
        "                         \"다음 중 어떤 것을 하시겠습니까?\"))\n",
        "    char = Character(1,0,100,100,10,100)\n",
        "    if next_move == 1:\n",
        "        print(\"\\n새로운 캐릭터를 생성합니다.\")\n",
        "        char.print_states()\n",
        "        char.game_main()\n",
        "        break\n",
        "    elif next_move == 2:\n",
        "        if os.path.exists('save_file.csv'):\n",
        "            print(\"\\n저장된 파일을 불러옵니다.\")\n",
        "            char.load_states('save_file.csv')\n",
        "            char.print_states()\n",
        "            char.game_main()\n",
        "            break\n",
        "        else:\n",
        "            print(\"\\n저장된 파일이 없습니다. 메인 화면으로 돌아갑니다.\")\n",
        "            continue\n",
        "    elif next_move == 3:\n",
        "        print(\"\\n게임을 종료합니다.\")\n",
        "        break"
      ],
      "metadata": {
        "colab": {
          "base_uri": "https://localhost:8080/"
        },
        "id": "hbspc3syDX-i",
        "outputId": "266c45b3-4eb9-4f98-9f07-828491869c02"
      },
      "execution_count": 107,
      "outputs": [
        {
          "output_type": "stream",
          "name": "stdout",
          "text": [
            "\n",
            "SeSac 온라인에 오신 것을 환영합니다.\n",
            "\n",
            "1. 새로운 게임 시작하기\n",
            "2. 지난 게임 불러오기\n",
            "3. 게임 종료하기\n",
            "다음 중 어떤 것을 하시겠습니까?1\n",
            "\n",
            "새로운 캐릭터를 생성합니다.\n",
            "현재 레벨:1\n",
            "현재 경험치:0\n",
            "다음 레벨을 위한 경험치:100\n",
            "HP:100\n",
            "HP 최대치:100\n",
            "공격력:10\n",
            "돈:100\n",
            "다음 중 어떤 것을 하시겠습니까?\n",
            "1. 몬스터 잡기\n",
            "2. 현재 상태 확인\n",
            "3. 물약 사기 (30원)\n",
            "4. 게임 저장하기\n",
            "0. 게임 종료\n",
            "선택: 0\n",
            "게임을 종료합니다.\n"
          ]
        }
      ]
    }
  ]
}