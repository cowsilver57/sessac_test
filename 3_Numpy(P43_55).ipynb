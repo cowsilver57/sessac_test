{
  "nbformat": 4,
  "nbformat_minor": 0,
  "metadata": {
    "colab": {
      "provenance": [],
      "authorship_tag": "ABX9TyNzwfmxaIMLa2kT8Ry1MrYo",
      "include_colab_link": true
    },
    "kernelspec": {
      "name": "python3",
      "display_name": "Python 3"
    },
    "language_info": {
      "name": "python"
    }
  },
  "cells": [
    {
      "cell_type": "markdown",
      "metadata": {
        "id": "view-in-github",
        "colab_type": "text"
      },
      "source": [
        "<a href=\"https://colab.research.google.com/github/cowsilver57/sessac_test/blob/main/3_Numpy(P43_55).ipynb\" target=\"_parent\"><img src=\"https://colab.research.google.com/assets/colab-badge.svg\" alt=\"Open In Colab\"/></a>"
      ]
    },
    {
      "cell_type": "code",
      "execution_count": 1,
      "metadata": {
        "id": "a2SlgRRpEcfc"
      },
      "outputs": [],
      "source": [
        "import numpy as np"
      ]
    },
    {
      "cell_type": "markdown",
      "source": [
        "#Changing ndarrays' shapes"
      ],
      "metadata": {
        "id": "IsJqCNsuQk4p"
      }
    },
    {
      "cell_type": "code",
      "source": [
        "#P43\n",
        "a = np.arange(6)\n",
        "b = np.reshape(a, (2,3))\n",
        "\n",
        "print(\"원래 ndarray:\", a)\n",
        "print(\"바꾼 ndarray:\\n\", b,'\\n')\n",
        "\n",
        "#P44\n",
        "c = np.arange(24)\n",
        "d = np.reshape(c,(2,3,4))\n",
        "\n",
        "print(\"원래 ndarray:\", c)\n",
        "print(\"바꾼 ndarray:\\n\", d, '\\n')\n",
        "\n",
        "#P45~46 -1 in np.reshape\n",
        "a = np.arange(10)\n",
        "b = a.reshape((2,-1))\n",
        "c = a.reshape((5,-1))\n",
        "print(a.shape)\n",
        "print(b.shape)\n",
        "print(c.shape)"
      ],
      "metadata": {
        "colab": {
          "base_uri": "https://localhost:8080/"
        },
        "id": "mNipgr4pQq9f",
        "outputId": "7dc0a477-bb8c-4f59-95c2-1d09471d0199"
      },
      "execution_count": 13,
      "outputs": [
        {
          "output_type": "stream",
          "name": "stdout",
          "text": [
            "원래 ndarray: [0 1 2 3 4 5]\n",
            "바꾼 ndarray:\n",
            " [[0 1 2]\n",
            " [3 4 5]] \n",
            "\n",
            "원래 ndarray: [ 0  1  2  3  4  5  6  7  8  9 10 11 12 13 14 15 16 17 18 19 20 21 22 23]\n",
            "바꾼 ndarray:\n",
            " [[[ 0  1  2  3]\n",
            "  [ 4  5  6  7]\n",
            "  [ 8  9 10 11]]\n",
            "\n",
            " [[12 13 14 15]\n",
            "  [16 17 18 19]\n",
            "  [20 21 22 23]]] \n",
            "\n",
            "(10,)\n",
            "(2, 5)\n",
            "(5, 2)\n"
          ]
        }
      ]
    },
    {
      "cell_type": "code",
      "source": [
        "#P47\n",
        "#0부터 10까지의 숫자를 (2,2) 모양으로 랜덤하게 구성\n",
        "a = np.random.randint(0, 10, size=(2,2))\n",
        "print(a, '\\n')\n",
        "\n",
        "row_vector = a.reshape(1,-1)\n",
        "col_vector = a.reshape(-1,1)\n",
        "print(row_vector.shape)\n",
        "print(col_vector.shape)"
      ],
      "metadata": {
        "colab": {
          "base_uri": "https://localhost:8080/"
        },
        "id": "xr0v8vz-SJw2",
        "outputId": "6dceafc2-858c-459e-ad5b-cac4519574d9"
      },
      "execution_count": 17,
      "outputs": [
        {
          "output_type": "stream",
          "name": "stdout",
          "text": [
            "[[9 0]\n",
            " [3 3]] \n",
            "\n",
            "(1, 4)\n",
            "(4, 1)\n"
          ]
        }
      ]
    },
    {
      "cell_type": "code",
      "source": [
        "#P48~50\n",
        "#1부터 9까지의 숫자\n",
        "M = np.arange(9)\n",
        "#3,3 모양으로 배열\n",
        "N = M.reshape((3,3))\n",
        "#다시 펴기\n",
        "O = N.flatten()\n",
        "\n",
        "print(M, '\\n')\n",
        "print(N, '\\n')\n",
        "print(O, '\\n')\n",
        "\n",
        "A = np.arange(27)\n",
        "B = A.reshape((3,3,3,))\n",
        "B0, B1, B2 = B[0], B[1], B[2]\n",
        "C = B.flatten()\n",
        "\n",
        "print(A, '\\n')\n",
        "print(B, '\\n')\n",
        "print(C, '\\n')\n",
        "\n",
        "print(\"B0: \\n\", B0)\n",
        "print(\"B1: \\n\", B1)\n",
        "print(\"B2: \\n\", B2)"
      ],
      "metadata": {
        "colab": {
          "base_uri": "https://localhost:8080/"
        },
        "id": "pFBvSIDsSuke",
        "outputId": "5cdca2c3-65ee-4d47-eeb3-7f5a8aa8bb93"
      },
      "execution_count": 23,
      "outputs": [
        {
          "output_type": "stream",
          "name": "stdout",
          "text": [
            "[0 1 2 3 4 5 6 7 8] \n",
            "\n",
            "[[0 1 2]\n",
            " [3 4 5]\n",
            " [6 7 8]] \n",
            "\n",
            "[0 1 2 3 4 5 6 7 8] \n",
            "\n",
            "[ 0  1  2  3  4  5  6  7  8  9 10 11 12 13 14 15 16 17 18 19 20 21 22 23\n",
            " 24 25 26] \n",
            "\n",
            "[[[ 0  1  2]\n",
            "  [ 3  4  5]\n",
            "  [ 6  7  8]]\n",
            "\n",
            " [[ 9 10 11]\n",
            "  [12 13 14]\n",
            "  [15 16 17]]\n",
            "\n",
            " [[18 19 20]\n",
            "  [21 22 23]\n",
            "  [24 25 26]]] \n",
            "\n",
            "[ 0  1  2  3  4  5  6  7  8  9 10 11 12 13 14 15 16 17 18 19 20 21 22 23\n",
            " 24 25 26] \n",
            "\n",
            "B0: \n",
            " [[0 1 2]\n",
            " [3 4 5]\n",
            " [6 7 8]]\n",
            "B1: \n",
            " [[ 9 10 11]\n",
            " [12 13 14]\n",
            " [15 16 17]]\n",
            "B2: \n",
            " [[18 19 20]\n",
            " [21 22 23]\n",
            " [24 25 26]]\n"
          ]
        }
      ]
    },
    {
      "cell_type": "markdown",
      "source": [
        "#Element-wise Operations of ndarrays"
      ],
      "metadata": {
        "id": "9iN37vUGT24H"
      }
    },
    {
      "cell_type": "code",
      "source": [
        "#P51 Vector끼리의 합\n",
        "a = np.random.randint(-5,5,(5,))\n",
        "b = np.random.randint(-5,5,(5,))\n",
        "\n",
        "print(\"a:\", a)\n",
        "print(\"b:\", b)\n",
        "print(\"a+b:\", a + b)"
      ],
      "metadata": {
        "colab": {
          "base_uri": "https://localhost:8080/"
        },
        "id": "7NDsWZLdTy1G",
        "outputId": "8cb82b31-b239-4df1-b393-b49ac6f59014"
      },
      "execution_count": 24,
      "outputs": [
        {
          "output_type": "stream",
          "name": "stdout",
          "text": [
            "a: [ 0 -3 -3  0  4]\n",
            "b: [ 2  2 -1 -2  4]\n",
            "a+b: [ 2 -1 -4 -2  8]\n"
          ]
        }
      ]
    },
    {
      "cell_type": "code",
      "source": [
        "#P52, 54 Vector끼리의 사칙연산\n",
        "a = np.random.randint(1,5,(5,))\n",
        "b = np.random.randint(1,5,(5,))\n",
        "\n",
        "print(\"a:\", a)\n",
        "print(\"b:\", b)\n",
        "\n",
        "print(\"a+b:\", a+b, a.__add__(b))\n",
        "print(\"a-b:\", a-b, a.__sub__(b))\n",
        "print(\"a*b:\", a*b, a.__mul__(b))\n",
        "print(\"a/b:\", a/b, a.__truediv__(b))\n",
        "print(\"a//b:\", a//b, a.__floordiv__(b))\n",
        "print(\"a%b:\", a%b, a.__mod__(b))\n",
        "print(\"a**b:\", a**b, a.__pow__(b))"
      ],
      "metadata": {
        "colab": {
          "base_uri": "https://localhost:8080/"
        },
        "id": "ilhLSqmxUAeg",
        "outputId": "ea7a3e7f-294b-4073-8ecb-0c4cad0e8639"
      },
      "execution_count": 27,
      "outputs": [
        {
          "output_type": "stream",
          "name": "stdout",
          "text": [
            "a: [1 1 4 1 1]\n",
            "b: [1 3 1 2 1]\n",
            "a+b: [2 4 5 3 2] [2 4 5 3 2]\n",
            "a-b: [ 0 -2  3 -1  0] [ 0 -2  3 -1  0]\n",
            "a*b: [1 3 4 2 1] [1 3 4 2 1]\n",
            "a/b: [1.         0.33333333 4.         0.5        1.        ] [1.         0.33333333 4.         0.5        1.        ]\n",
            "a//b: [1 0 4 0 1] [1 0 4 0 1]\n",
            "a%b: [0 1 0 1 0] [0 1 0 1 0]\n",
            "a**b: [1 1 4 1 1] [1 1 4 1 1]\n"
          ]
        }
      ]
    },
    {
      "cell_type": "code",
      "source": [
        "#P53 Vector끼리의 참, 거짓 판단\n",
        "a = np.random.randint(1,5,(5,))\n",
        "b = np.random.randint(1,5,(5,))\n",
        "\n",
        "print('a:', a)\n",
        "print('b:', b, '\\n')\n",
        "\n",
        "print('a>b:', a>b)\n",
        "print('a>=b:', a>=b)\n",
        "print('a<b:', a<b)\n",
        "print('a<=b:', a<=b)\n",
        "print('a==b:', a==b)\n",
        "print('a!=b:', a!=b)"
      ],
      "metadata": {
        "colab": {
          "base_uri": "https://localhost:8080/"
        },
        "id": "14lf_5vPUu00",
        "outputId": "2f689b11-f062-4d49-a5c2-2910ded1448e"
      },
      "execution_count": 28,
      "outputs": [
        {
          "output_type": "stream",
          "name": "stdout",
          "text": [
            "a: [2 4 1 2 4]\n",
            "b: [2 3 3 2 4] \n",
            "\n",
            "a>b: [False  True False False False]\n",
            "a>=b: [ True  True False  True  True]\n",
            "a<b: [False False  True False False]\n",
            "a<=b: [ True False  True  True  True]\n",
            "a==b: [ True False False  True  True]\n",
            "a!=b: [False  True  True False False]\n"
          ]
        }
      ]
    },
    {
      "cell_type": "code",
      "source": [
        "#P55 Matrix-matrix Case\n",
        "M = np.random.randint(1,5,(2,3))\n",
        "N = np.random.randint(1,5,(2,3))\n",
        "\n",
        "print(\"M:\\n\",M, )\n",
        "print(\"N:\\n\",N, '\\n')\n",
        "\n",
        "print(\"M+N:\\n\",M+N)\n",
        "print(\"M-N:\\n\",M-N, '\\n')\n",
        "\n",
        "print(\"M>N:\\n\",M>N)\n",
        "print(\"M>=N:\\n\",M>=N)"
      ],
      "metadata": {
        "colab": {
          "base_uri": "https://localhost:8080/"
        },
        "id": "6KoNzobwVigq",
        "outputId": "81c294fb-d689-436a-a1d5-fc0ec62296ae"
      },
      "execution_count": 31,
      "outputs": [
        {
          "output_type": "stream",
          "name": "stdout",
          "text": [
            "M:\n",
            " [[1 4 2]\n",
            " [4 4 2]]\n",
            "N:\n",
            " [[3 3 2]\n",
            " [4 1 2]] \n",
            "\n",
            "M+N:\n",
            " [[4 7 4]\n",
            " [8 5 4]]\n",
            "M-N:\n",
            " [[-2  1  0]\n",
            " [ 0  3  0]] \n",
            "\n",
            "M>N:\n",
            " [[False  True False]\n",
            " [False  True False]]\n",
            "M>=N:\n",
            " [[False  True  True]\n",
            " [ True  True  True]]\n"
          ]
        }
      ]
    }
  ]
}