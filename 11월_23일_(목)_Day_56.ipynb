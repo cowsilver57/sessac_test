{
  "nbformat": 4,
  "nbformat_minor": 0,
  "metadata": {
    "colab": {
      "provenance": [],
      "authorship_tag": "ABX9TyNrSSz32KkkPdf4jvyrjbOS",
      "include_colab_link": true
    },
    "kernelspec": {
      "name": "python3",
      "display_name": "Python 3"
    },
    "language_info": {
      "name": "python"
    }
  },
  "cells": [
    {
      "cell_type": "markdown",
      "metadata": {
        "id": "view-in-github",
        "colab_type": "text"
      },
      "source": [
        "<a href=\"https://colab.research.google.com/github/cowsilver57/sessac_test/blob/main/11%EC%9B%94_23%EC%9D%BC_(%EB%AA%A9)_Day_56.ipynb\" target=\"_parent\"><img src=\"https://colab.research.google.com/assets/colab-badge.svg\" alt=\"Open In Colab\"/></a>"
      ]
    },
    {
      "cell_type": "markdown",
      "source": [
        "#1-D"
      ],
      "metadata": {
        "id": "ngG7c4AqxEZG"
      }
    },
    {
      "cell_type": "markdown",
      "source": [
        "##1-D Window"
      ],
      "metadata": {
        "id": "SYrPpYnnxHU0"
      }
    },
    {
      "cell_type": "code",
      "execution_count": null,
      "metadata": {
        "id": "UpT0jRp2rDiH"
      },
      "outputs": [],
      "source": [
        "import numpy as np\n",
        "data = 10*np.arange(1,11)\n",
        "\n",
        "L = len(data)\n",
        "W = 3\n",
        "print(data, '\\n')\n",
        "\n",
        "L_ = L - W + 1\n",
        "for idx in range(L_):\n",
        "    print(data[idx:idx+W])"
      ]
    },
    {
      "cell_type": "markdown",
      "source": [
        "##1-D Correlation"
      ],
      "metadata": {
        "id": "RuH4gSL7usQ0"
      }
    },
    {
      "cell_type": "code",
      "source": [
        "import numpy as np\n",
        "\n",
        "filter = np.array([-1, 1, -1])\n",
        "data = np.array([-1, 0, -1, 0, 0, 1, -1, 1, -1, -1])\n",
        "\n",
        "L = len(data)\n",
        "W = len(filter)\n",
        "L_ = L - W + 1 #8\n",
        "result = []\n",
        "\n",
        "for idx in range(L_):\n",
        "    window = data[idx:idx+W]\n",
        "    filtered_value = np.sum(window*filter)\n",
        "    result.append(filtered_value)\n",
        "\n",
        "print(\"Data:\", data)\n",
        "print(\"Filter:\", filter)\n",
        "print(\"Final Result:\", result)"
      ],
      "metadata": {
        "colab": {
          "base_uri": "https://localhost:8080/"
        },
        "id": "Gkl6iyZTvPi2",
        "outputId": "f785b59f-040c-4c39-b728-26baea5b5de9"
      },
      "execution_count": null,
      "outputs": [
        {
          "output_type": "stream",
          "name": "stdout",
          "text": [
            "Data: [-1  0 -1  0  0  1 -1  1 -1 -1]\n",
            "Filter: [-1  1 -1]\n",
            "Final Result: [2, -1, 1, -1, 2, -3, 3, -1]\n"
          ]
        }
      ]
    },
    {
      "cell_type": "code",
      "source": [
        "#for문 없이 구현하기\n",
        "import numpy as np\n",
        "\n",
        "filter = np.array([-1, 1, -1])\n",
        "data = np.array([-1, 0, -1, 0, 0, 1, -1, 1, -1, -1])\n",
        "\n",
        "L = len(data)\n",
        "W = len(filter)\n",
        "L_ = L - W + 1\n",
        "\n",
        "index = np.arange(W) + np.arange(L_).reshape(-1, 1)\n",
        "\n",
        "result = np.matmul(data[index], filter)\n",
        "\n",
        "print(\"Data:\", data)\n",
        "print(\"Filter:\", filter)\n",
        "print(\"Final Result:\", result)"
      ],
      "metadata": {
        "colab": {
          "base_uri": "https://localhost:8080/"
        },
        "id": "yAJUDy2g8quF",
        "outputId": "de9f6573-3344-4f3f-80b5-50121418fd9c"
      },
      "execution_count": 12,
      "outputs": [
        {
          "output_type": "stream",
          "name": "stdout",
          "text": [
            "Data: [-1  0 -1  0  0  1 -1  1 -1 -1]\n",
            "Filter: [-1  1 -1]\n",
            "Final Result: [ 2 -1  1 -1  2 -3  3 -1]\n"
          ]
        }
      ]
    },
    {
      "cell_type": "code",
      "source": [
        "#강사님 답\n",
        "import numpy as np\n",
        "\n",
        "np.random.seed(0)\n",
        "\n",
        "data = np.random.randint(-1,2,(10,))\n",
        "filter_ = np.array([-1, 1, -1])\n",
        "print(f\"{data=}\")\n",
        "print(f\"{filter_=}\")\n",
        "\n",
        "L = len(data)\n",
        "F = len(filter_)\n",
        "L_ = L - F + 1\n",
        "filtered = []\n",
        "\n",
        "for idx in range(L_):\n",
        "    window = data[idx:idx+F]\n",
        "    filtered.append(np.dot(window, filter_))\n",
        "    #window는 for문을 지나며 항상 바뀌는 부분\n",
        "    #filter_는 항상 [-1,1,-1]로 일정\n",
        "filtered = np.array(filtered)\n",
        "print(\"filtering result:\", filtered)"
      ],
      "metadata": {
        "colab": {
          "base_uri": "https://localhost:8080/"
        },
        "id": "7FSkygNU1u_b",
        "outputId": "eb96b649-9193-448a-e672-eb480f8db17e"
      },
      "execution_count": null,
      "outputs": [
        {
          "output_type": "stream",
          "name": "stdout",
          "text": [
            "data=array([-1,  0, -1,  0,  0,  1, -1,  1, -1, -1])\n",
            "filter_=array([-1,  1, -1])\n",
            "filtering result: [ 2 -1  1 -1  2 -3  3 -1]\n"
          ]
        }
      ]
    },
    {
      "cell_type": "markdown",
      "source": [
        "#2-D"
      ],
      "metadata": {
        "id": "cRB7aB2SxMkP"
      }
    },
    {
      "cell_type": "markdown",
      "source": [
        "##2-D Window"
      ],
      "metadata": {
        "id": "fNWp4wDcxNyK"
      }
    },
    {
      "cell_type": "code",
      "source": [
        "import numpy as np\n",
        "\n",
        "column = np.arange(1,8)\n",
        "row = np.arange(5).reshape(-1, 1)\n",
        "data = 10 * (row + column)\n",
        "\n",
        "print(data)\n",
        "print('-'*80)\n",
        "\n",
        "L = len(row)*len(column) #35\n",
        "W = 3\n",
        "\n",
        "H_ = len(row) - W + 1 #3\n",
        "W_ = len(column) - W + 1 #5\n",
        "\n",
        "for row_idx in range(H_):\n",
        "    for col_idx in range(W_):\n",
        "        print(data[row_idx:row_idx+W, col_idx:col_idx+W],'\\n')"
      ],
      "metadata": {
        "id": "EAqGhbRZurGF"
      },
      "execution_count": null,
      "outputs": []
    },
    {
      "cell_type": "markdown",
      "source": [
        "##2-D Correlation"
      ],
      "metadata": {
        "id": "2exisvddxQBb"
      }
    },
    {
      "cell_type": "code",
      "source": [
        "import numpy as np\n",
        "\n",
        "column = np.arange(1, 8)\n",
        "row = np.arange(5).reshape(-1, 1)\n",
        "data = 10 * (row + column)\n",
        "\n",
        "filter = np.array([1, 2, 5, -10, 2, -2, 5, 1, -4]).reshape(3, 3)\n",
        "\n",
        "L = len(row)*len(column) #35\n",
        "W = 3\n",
        "\n",
        "H_ = len(row) - W + 1 #3\n",
        "W_ = len(column) - W + 1 #5\n",
        "\n",
        "result = np.zeros((H_,W_))\n",
        "print(result)\n",
        "\n",
        "for row_idx in range(H_):\n",
        "    for col_idx in range(W_):\n",
        "        window = data[row_idx:row_idx+W, col_idx:col_idx+W]\n",
        "        filtered_value = np.sum(window*filter)\n",
        "        result[row_idx][col_idx] = filtered_value\n",
        "\n",
        "print(\"Data\\n:\", data)\n",
        "print(\"Filter:\\n\", filter)\n",
        "print(\"Final Result:\\n\", result)"
      ],
      "metadata": {
        "colab": {
          "base_uri": "https://localhost:8080/"
        },
        "id": "BFGDJXH3xR34",
        "outputId": "06b778e2-bab5-4989-bcb2-f451baacbc5c"
      },
      "execution_count": null,
      "outputs": [
        {
          "output_type": "stream",
          "name": "stdout",
          "text": [
            "[[0. 0. 0. 0. 0.]\n",
            " [0. 0. 0. 0. 0.]\n",
            " [0. 0. 0. 0. 0.]]\n",
            "Data\n",
            ": [[ 10  20  30  40  50  60  70]\n",
            " [ 20  30  40  50  60  70  80]\n",
            " [ 30  40  50  60  70  80  90]\n",
            " [ 40  50  60  70  80  90 100]\n",
            " [ 50  60  70  80  90 100 110]]\n",
            "Filter:\n",
            " [[  1   2   5]\n",
            " [-10   2  -2]\n",
            " [  5   1  -4]]\n",
            "Final Result:\n",
            " [[-30. -30. -30. -30. -30.]\n",
            " [-30. -30. -30. -30. -30.]\n",
            " [-30. -30. -30. -30. -30.]]\n"
          ]
        }
      ]
    },
    {
      "cell_type": "code",
      "source": [
        "#강사님 답\n",
        "import numpy as np\n",
        "data1 = 10*np.arange(1,8).reshape(1,-1)\n",
        "data2 = 10*np.arange(5).reshape(-1,1)\n",
        "\n",
        "data = data1+data2\n",
        "filter_ = np.array([[1,2,5],\n",
        "                   [-10,2,-2],\n",
        "                   [5,1,-4]])\n",
        "print(data, '\\n')\n",
        "\n",
        "H, W = data.shape\n",
        "F = filter_.shape[0] #임시적으로 window size를 의미\n",
        "H_ = H - F + 1\n",
        "W_ = W - F + 1\n",
        "\n",
        "filtered_data = np.zeros(shape=(H_, W_))\n",
        "for h_idx in range(H_):\n",
        "    for w_idx in range(W_):\n",
        "        window = data[h_idx:h_idx+F,\n",
        "                      w_idx:w_idx+F]\n",
        "        z = np.sum(window*filter_)\n",
        "\n",
        "        filtered_data[h_idx, w_idx] = z\n",
        "\n",
        "print(filtered_data)"
      ],
      "metadata": {
        "colab": {
          "base_uri": "https://localhost:8080/"
        },
        "id": "exyfqVEimmn9",
        "outputId": "925f1c24-7b3f-4638-fd99-d7c54598a360"
      },
      "execution_count": null,
      "outputs": [
        {
          "output_type": "stream",
          "name": "stdout",
          "text": [
            "[[ 10  20  30  40  50  60  70]\n",
            " [ 20  30  40  50  60  70  80]\n",
            " [ 30  40  50  60  70  80  90]\n",
            " [ 40  50  60  70  80  90 100]\n",
            " [ 50  60  70  80  90 100 110]] \n",
            "\n",
            "[[-30. -30. -30. -30. -30.]\n",
            " [-30. -30. -30. -30. -30.]\n",
            " [-30. -30. -30. -30. -30.]]\n"
          ]
        }
      ]
    }
  ]
}