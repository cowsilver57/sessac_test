{
  "nbformat": 4,
  "nbformat_minor": 0,
  "metadata": {
    "colab": {
      "provenance": [],
      "collapsed_sections": [
        "vU5Lju_ugdWE"
      ],
      "authorship_tag": "ABX9TyOcTw48MH8EFCjDVufM81v1",
      "include_colab_link": true
    },
    "kernelspec": {
      "name": "python3",
      "display_name": "Python 3"
    },
    "language_info": {
      "name": "python"
    }
  },
  "cells": [
    {
      "cell_type": "markdown",
      "metadata": {
        "id": "view-in-github",
        "colab_type": "text"
      },
      "source": [
        "<a href=\"https://colab.research.google.com/github/cowsilver57/sessac_test/blob/main/4_Numpy(P56_79).ipynb\" target=\"_parent\"><img src=\"https://colab.research.google.com/assets/colab-badge.svg\" alt=\"Open In Colab\"/></a>"
      ]
    },
    {
      "cell_type": "markdown",
      "source": [
        "# Broadcasting in NumPy"
      ],
      "metadata": {
        "id": "T78q3PIaYL20"
      }
    },
    {
      "cell_type": "markdown",
      "source": [
        "## 1. When ndims(number of dimensions;차원) are Equal"
      ],
      "metadata": {
        "id": "vU5Lju_ugdWE"
      }
    },
    {
      "cell_type": "markdown",
      "source": [
        "### 2차원"
      ],
      "metadata": {
        "id": "L2-EKU41mohB"
      }
    },
    {
      "cell_type": "code",
      "execution_count": 33,
      "metadata": {
        "colab": {
          "base_uri": "https://localhost:8080/"
        },
        "id": "COvRWQ0jYH6K",
        "outputId": "361ee3d4-7963-4d89-dfe8-6c626af5a16e"
      },
      "outputs": [
        {
          "output_type": "stream",
          "name": "stdout",
          "text": [
            "A: 2/(3, 3)\n",
            "[[0 1 2]\n",
            " [3 4 5]\n",
            " [6 7 8]]\n",
            "B: 2/(1, 3)\n",
            "[[ 0 10 20]]\n",
            "A+B: 2/(3, 3)\n",
            "[[ 0 11 22]\n",
            " [ 3 14 25]\n",
            " [ 6 17 28]]\n"
          ]
        }
      ],
      "source": [
        "#P55-58\n",
        "import numpy as np\n",
        "A = np.arange(9).reshape(3,3)\n",
        "B = 10*np.arange(3).reshape((-1,3))\n",
        "C = A+B\n",
        "\n",
        "print(\"A: {}/{}\\n{}\".format(A.ndim, A.shape, A))\n",
        "print(\"B: {}/{}\\n{}\".format(B.ndim, B.shape, B))\n",
        "print(\"A+B: {}/{}\\n{}\".format(C.ndim, C.shape, C))"
      ]
    },
    {
      "cell_type": "code",
      "source": [
        "#P59-60\n",
        "A = np.arange(9).reshape(3,3)\n",
        "B =10*np.arange(3).reshape((3,-1))\n",
        "C = A+B\n",
        "\n",
        "print(\"A: {}/{}\\n{}\".format(A.ndim, A.shape, A))\n",
        "print(\"B: {}/{}\\n{}\".format(B.ndim, B.shape, B))\n",
        "print(\"A+B: {}/{}\\n{}\".format(C.ndim, C.shape, C))"
      ],
      "metadata": {
        "colab": {
          "base_uri": "https://localhost:8080/"
        },
        "id": "Dldh5v-wkyxk",
        "outputId": "93acf277-9511-4107-8d92-792ab38ac6fd"
      },
      "execution_count": 32,
      "outputs": [
        {
          "output_type": "stream",
          "name": "stdout",
          "text": [
            "A: 2/(3, 3)\n",
            "[[0 1 2]\n",
            " [3 4 5]\n",
            " [6 7 8]]\n",
            "B: 2/(3, 1)\n",
            "[[ 0]\n",
            " [10]\n",
            " [20]]\n",
            "A+B: 2/(3, 3)\n",
            "[[ 0  1  2]\n",
            " [13 14 15]\n",
            " [26 27 28]]\n"
          ]
        }
      ]
    },
    {
      "cell_type": "code",
      "source": [
        "#P61-62\n",
        "A = np.arange(3).reshape((3,-1))\n",
        "B = 10*np.arange(3).reshape((-1,3))\n",
        "C = A+B\n",
        "\n",
        "print(\"A: {}/{}\\n{}\".format(A.ndim, A.shape, A))\n",
        "print(\"B: {}/{}\\n{}\".format(B.ndim, B.shape, B))\n",
        "print(\"A+B: {}/{}\\n{}\".format(C.ndim, C.shape, C))"
      ],
      "metadata": {
        "colab": {
          "base_uri": "https://localhost:8080/"
        },
        "id": "ybbH1VPelJFv",
        "outputId": "82b7638c-e265-4cc1-e929-a6a6e0820c9b"
      },
      "execution_count": 31,
      "outputs": [
        {
          "output_type": "stream",
          "name": "stdout",
          "text": [
            "A: 2/(3, 1)\n",
            "[[0]\n",
            " [1]\n",
            " [2]]\n",
            "B: 2/(1, 3)\n",
            "[[ 0 10 20]]\n",
            "A+B: 2/(3, 3)\n",
            "[[ 0 10 20]\n",
            " [ 1 11 21]\n",
            " [ 2 12 22]]\n"
          ]
        }
      ]
    },
    {
      "cell_type": "markdown",
      "source": [
        "### 3차원"
      ],
      "metadata": {
        "id": "Qj4WNOvSmrGv"
      }
    },
    {
      "cell_type": "code",
      "source": [
        "#P63-64\n",
        "A = np.arange(18).reshape((2,3,3))\n",
        "B = 10*np.arange(9).reshape((1,3,3))\n",
        "C = A+B\n",
        "\n",
        "print(\"A: {}/{}\\n{}\".format(A.ndim, A.shape, A))\n",
        "print(\"B: {}/{}\\n{}\".format(B.ndim, B.shape, B))\n",
        "print(\"A+B: {}/{}\\n{}\".format(C.ndim, C.shape, C))"
      ],
      "metadata": {
        "colab": {
          "base_uri": "https://localhost:8080/"
        },
        "id": "sZZfqh0kloXw",
        "outputId": "a71aed28-523a-4d4e-a8a1-2b4d61f1f33c"
      },
      "execution_count": 30,
      "outputs": [
        {
          "output_type": "stream",
          "name": "stdout",
          "text": [
            "A: 3/(2, 3, 3)\n",
            "[[[ 0  1  2]\n",
            "  [ 3  4  5]\n",
            "  [ 6  7  8]]\n",
            "\n",
            " [[ 9 10 11]\n",
            "  [12 13 14]\n",
            "  [15 16 17]]]\n",
            "B: 3/(1, 3, 3)\n",
            "[[[ 0 10 20]\n",
            "  [30 40 50]\n",
            "  [60 70 80]]]\n",
            "A+B: 3/(2, 3, 3)\n",
            "[[[ 0 11 22]\n",
            "  [33 44 55]\n",
            "  [66 77 88]]\n",
            "\n",
            " [[ 9 20 31]\n",
            "  [42 53 64]\n",
            "  [75 86 97]]]\n"
          ]
        }
      ]
    },
    {
      "cell_type": "code",
      "source": [
        "#P65-66\n",
        "A = np.arange(18).reshape((2,3,3))\n",
        "B = 10*np.arange(6).reshape((2,1,3))\n",
        "C = A+B\n",
        "\n",
        "print(\"A: {}/{}\\n{}\".format(A.ndim, A.shape, A))\n",
        "print(\"B: {}/{}\\n{}\".format(B.ndim, B.shape, B))\n",
        "print(\"A+B: {}/{}\\n{}\".format(C.ndim, C.shape, C))"
      ],
      "metadata": {
        "colab": {
          "base_uri": "https://localhost:8080/"
        },
        "id": "Dd8vs__Sl6lA",
        "outputId": "ba52b286-d0e3-4fe4-c843-58284078fc4b"
      },
      "execution_count": 29,
      "outputs": [
        {
          "output_type": "stream",
          "name": "stdout",
          "text": [
            "A: 3/(2, 3, 3)\n",
            "[[[ 0  1  2]\n",
            "  [ 3  4  5]\n",
            "  [ 6  7  8]]\n",
            "\n",
            " [[ 9 10 11]\n",
            "  [12 13 14]\n",
            "  [15 16 17]]]\n",
            "B: 3/(2, 1, 3)\n",
            "[[[ 0 10 20]]\n",
            "\n",
            " [[30 40 50]]]\n",
            "A+B: 3/(2, 3, 3)\n",
            "[[[ 0 11 22]\n",
            "  [ 3 14 25]\n",
            "  [ 6 17 28]]\n",
            "\n",
            " [[39 50 61]\n",
            "  [42 53 64]\n",
            "  [45 56 67]]]\n"
          ]
        }
      ]
    },
    {
      "cell_type": "code",
      "source": [
        "#P67-68\n",
        "A = np.arange(18).reshape((2,3,3))\n",
        "B = 10*np.arange(6).reshape((2,3,1))\n",
        "C = A+B\n",
        "\n",
        "print(\"A: {}/{}\\n{}\".format(A.ndim, A.shape, A))\n",
        "print(\"B: {}/{}\\n{}\".format(B.ndim, B.shape, B))\n",
        "print(\"A+B: {}/{}\\n{}\".format(C.ndim, C.shape, C))"
      ],
      "metadata": {
        "colab": {
          "base_uri": "https://localhost:8080/"
        },
        "id": "YnSS1PQymKcn",
        "outputId": "a50c6160-a2c5-4ea2-f854-658666cc590b"
      },
      "execution_count": 28,
      "outputs": [
        {
          "output_type": "stream",
          "name": "stdout",
          "text": [
            "A: 3/(2, 3, 3)\n",
            "[[[ 0  1  2]\n",
            "  [ 3  4  5]\n",
            "  [ 6  7  8]]\n",
            "\n",
            " [[ 9 10 11]\n",
            "  [12 13 14]\n",
            "  [15 16 17]]]\n",
            "B: 3/(2, 3, 1)\n",
            "[[[ 0]\n",
            "  [10]\n",
            "  [20]]\n",
            "\n",
            " [[30]\n",
            "  [40]\n",
            "  [50]]]\n",
            "A+B: 3/(2, 3, 3)\n",
            "[[[ 0  1  2]\n",
            "  [13 14 15]\n",
            "  [26 27 28]]\n",
            "\n",
            " [[39 40 41]\n",
            "  [52 53 54]\n",
            "  [65 66 67]]]\n"
          ]
        }
      ]
    },
    {
      "cell_type": "code",
      "source": [
        "#P69-70\n",
        "A = np.arange(6).reshape((2,1,3))\n",
        "B = 10*np.arange(6).reshape((2,3,1))\n",
        "C = A+B\n",
        "\n",
        "print(\"A: {}/{}\\n{}\".format(A.ndim, A.shape, A))\n",
        "print(\"B: {}/{}\\n{}\".format(B.ndim, B.shape, B))\n",
        "print(\"A+B: {}/{}\\n{}\".format(C.ndim, C.shape, C))"
      ],
      "metadata": {
        "colab": {
          "base_uri": "https://localhost:8080/"
        },
        "id": "-nOsh30AmW9a",
        "outputId": "a012a27d-0303-4baf-92ed-0ac8d2fe20be"
      },
      "execution_count": 27,
      "outputs": [
        {
          "output_type": "stream",
          "name": "stdout",
          "text": [
            "A: 3/(2, 1, 3)\n",
            "[[[0 1 2]]\n",
            "\n",
            " [[3 4 5]]]\n",
            "B: 3/(2, 3, 1)\n",
            "[[[ 0]\n",
            "  [10]\n",
            "  [20]]\n",
            "\n",
            " [[30]\n",
            "  [40]\n",
            "  [50]]]\n",
            "A+B: 3/(2, 3, 3)\n",
            "[[[ 0  1  2]\n",
            "  [10 11 12]\n",
            "  [20 21 22]]\n",
            "\n",
            " [[33 34 35]\n",
            "  [43 44 45]\n",
            "  [53 54 55]]]\n"
          ]
        }
      ]
    },
    {
      "cell_type": "markdown",
      "source": [
        "## 2. When ndims are Not Equal"
      ],
      "metadata": {
        "id": "l2dKH5Btmt-J"
      }
    },
    {
      "cell_type": "code",
      "source": [
        "#P71 차원이 다른 두 배열의 곱\n",
        "a = np.array(3)\n",
        "u = np.arange(5)\n",
        "\n",
        "print(\"shapes:{}/{}\".format(a.shape, u.shape))\n",
        "print(\"a:\",a)\n",
        "print(\"u:\",u,'\\n')\n",
        "print(\"a*u:\", a*u)"
      ],
      "metadata": {
        "colab": {
          "base_uri": "https://localhost:8080/"
        },
        "id": "72ORqXZ7mw-N",
        "outputId": "e338d562-8b54-4955-948e-d99f5802e2f8"
      },
      "execution_count": 16,
      "outputs": [
        {
          "output_type": "stream",
          "name": "stdout",
          "text": [
            "shapes:()/(5,)\n",
            "a: 3\n",
            "u: [0 1 2 3 4] \n",
            "\n",
            "a*u: [ 0  3  6  9 12]\n"
          ]
        }
      ]
    },
    {
      "cell_type": "code",
      "source": [
        "#P72 차원이 다른 두 배열의 사칙연산과 크기 비교\n",
        "a = np.array(3)\n",
        "u = np.arange(1,5)\n",
        "\n",
        "shapes = \"shapes: {}/{}\"\n",
        "print(shapes.format(a.shape, u.shape))\n",
        "print(\"a\", a)\n",
        "print(\"u\", u, '\\n')\n",
        "\n",
        "print(\"a+u:\", a+u)\n",
        "print(\"a-u:\", a-u)\n",
        "print(\"a*u:\", a*u)\n",
        "print(\"a/u:\", a/u)\n",
        "print(\"a//u:\", a//u)\n",
        "print(\"a%u:\", a%u)\n",
        "print(\"a**u:\", a**u, '\\n')\n",
        "\n",
        "print(\"a>u:\", a>u)\n",
        "print(\"a>=u:\", a>=u)\n",
        "print(\"a<u:\", a<u)\n",
        "print(\"a<=u:\", a<=u)\n",
        "print(\"a==u:\", a==u)\n",
        "print(\"a!=u:\", a!=u)"
      ],
      "metadata": {
        "colab": {
          "base_uri": "https://localhost:8080/"
        },
        "id": "D-cEeUN6nXtT",
        "outputId": "0c6d7692-0663-4674-db42-157a68b34143"
      },
      "execution_count": 22,
      "outputs": [
        {
          "output_type": "stream",
          "name": "stdout",
          "text": [
            "shapes: ()/(4,)\n",
            "a 3\n",
            "u [1 2 3 4] \n",
            "\n",
            "a+u: [4 5 6 7]\n",
            "a-u: [ 2  1  0 -1]\n",
            "a*u: [ 3  6  9 12]\n",
            "a/u: [3.   1.5  1.   0.75]\n",
            "a//u: [3 1 1 0]\n",
            "a%u: [0 1 0 3]\n",
            "a**u: [ 3  9 27 81] \n",
            "\n",
            "a>u: [ True  True False False]\n",
            "a>=u: [ True  True  True False]\n",
            "a<u: [False False False  True]\n",
            "a<=u: [False False  True  True]\n",
            "a==u: [False False  True False]\n",
            "a!=u: [ True  True False  True]\n"
          ]
        }
      ]
    },
    {
      "cell_type": "code",
      "source": [
        "#P73-74\n",
        "A = np.array([10,20])\n",
        "B = np.arange(6).reshape((3,2))\n",
        "C = A+B\n",
        "\n",
        "print(\"A: {}/{}\\n{}\".format(A.ndim, A.shape, A))\n",
        "print(\"B: {}/{}\\n{}\".format(B.ndim, B.shape, B))\n",
        "print(\"A+B: {}/{}\\n{}\".format(C.ndim, C.shape, C))"
      ],
      "metadata": {
        "colab": {
          "base_uri": "https://localhost:8080/"
        },
        "id": "IIndr4SIoZhu",
        "outputId": "85ceb817-ff1b-4b9f-9c5d-7f224bde6b7a"
      },
      "execution_count": 26,
      "outputs": [
        {
          "output_type": "stream",
          "name": "stdout",
          "text": [
            "A: 1/(2,)\n",
            "[10 20]\n",
            "B: 2/(3, 2)\n",
            "[[0 1]\n",
            " [2 3]\n",
            " [4 5]]\n",
            "A+B: 2/(3, 2)\n",
            "[[10 21]\n",
            " [12 23]\n",
            " [14 25]]\n"
          ]
        }
      ]
    },
    {
      "cell_type": "code",
      "source": [
        "#P75-76\n",
        "A = np.arange(24).reshape((2,3,4))\n",
        "B = 10*np.arange(12).reshape(3,4)\n",
        "C = A+B\n",
        "\n",
        "print(\"A: {}/{}\\n{}\".format(A.ndim, A.shape, A))\n",
        "print(\"B: {}/{}\\n{}\".format(B.ndim, B.shape, B))\n",
        "print(\"A+B: {}/{}\\n{}\".format(C.ndim, C.shape, C))"
      ],
      "metadata": {
        "colab": {
          "base_uri": "https://localhost:8080/"
        },
        "id": "ahom32ndo7i9",
        "outputId": "60a22623-182a-43c3-c116-97d63ad50d64"
      },
      "execution_count": 34,
      "outputs": [
        {
          "output_type": "stream",
          "name": "stdout",
          "text": [
            "A: 3/(2, 3, 4)\n",
            "[[[ 0  1  2  3]\n",
            "  [ 4  5  6  7]\n",
            "  [ 8  9 10 11]]\n",
            "\n",
            " [[12 13 14 15]\n",
            "  [16 17 18 19]\n",
            "  [20 21 22 23]]]\n",
            "B: 2/(3, 4)\n",
            "[[  0  10  20  30]\n",
            " [ 40  50  60  70]\n",
            " [ 80  90 100 110]]\n",
            "A+B: 3/(2, 3, 4)\n",
            "[[[  0  11  22  33]\n",
            "  [ 44  55  66  77]\n",
            "  [ 88  99 110 121]]\n",
            "\n",
            " [[ 12  23  34  45]\n",
            "  [ 56  67  78  89]\n",
            "  [100 111 122 133]]]\n"
          ]
        }
      ]
    },
    {
      "cell_type": "code",
      "source": [
        "#P77-79\n",
        "A = np.arange(24).reshape((2,3,4))\n",
        "B = 10*np.arange(4).reshape(4,)\n",
        "C = A+B\n",
        "\n",
        "print(\"A: {}/{}\\n{}\".format(A.ndim, A.shape, A))\n",
        "print(\"B: {}/{}\\n{}\".format(B.ndim, B.shape, B))\n",
        "print(\"A+B: {}/{}\\n{}\".format(C.ndim, C.shape, C))"
      ],
      "metadata": {
        "colab": {
          "base_uri": "https://localhost:8080/"
        },
        "id": "FZvMEHxBsOo9",
        "outputId": "124d475b-8a02-4b95-ecbe-88436a1e84bc"
      },
      "execution_count": 36,
      "outputs": [
        {
          "output_type": "stream",
          "name": "stdout",
          "text": [
            "A: 3/(2, 3, 4)\n",
            "[[[ 0  1  2  3]\n",
            "  [ 4  5  6  7]\n",
            "  [ 8  9 10 11]]\n",
            "\n",
            " [[12 13 14 15]\n",
            "  [16 17 18 19]\n",
            "  [20 21 22 23]]]\n",
            "B: 1/(4,)\n",
            "[ 0 10 20 30]\n",
            "A+B: 3/(2, 3, 4)\n",
            "[[[ 0 11 22 33]\n",
            "  [ 4 15 26 37]\n",
            "  [ 8 19 30 41]]\n",
            "\n",
            " [[12 23 34 45]\n",
            "  [16 27 38 49]\n",
            "  [20 31 42 53]]]\n"
          ]
        }
      ]
    }
  ]
}