{
  "cells": [
    {
      "cell_type": "markdown",
      "metadata": {
        "id": "view-in-github",
        "colab_type": "text"
      },
      "source": [
        "<a href=\"https://colab.research.google.com/github/cowsilver57/sessac_test/blob/main/Chapter8_1127_%EC%9B%94.ipynb\" target=\"_parent\"><img src=\"https://colab.research.google.com/assets/colab-badge.svg\" alt=\"Open In Colab\"/></a>"
      ]
    },
    {
      "cell_type": "markdown",
      "metadata": {
        "id": "ShyxxVWELjcg"
      },
      "source": [
        "#1유형"
      ]
    },
    {
      "cell_type": "code",
      "execution_count": null,
      "metadata": {
        "colab": {
          "base_uri": "https://localhost:8080/",
          "height": 206
        },
        "id": "PNqW5PtULGmT",
        "outputId": "30e830d7-1f4f-4272-d49b-a58bb15786c1"
      },
      "outputs": [
        {
          "data": {
            "text/html": [
              "\n",
              "  <div id=\"df-07cc7b7e-2d3e-4d8a-8d27-8b168ee562ec\" class=\"colab-df-container\">\n",
              "    <div>\n",
              "<style scoped>\n",
              "    .dataframe tbody tr th:only-of-type {\n",
              "        vertical-align: middle;\n",
              "    }\n",
              "\n",
              "    .dataframe tbody tr th {\n",
              "        vertical-align: top;\n",
              "    }\n",
              "\n",
              "    .dataframe thead th {\n",
              "        text-align: right;\n",
              "    }\n",
              "</style>\n",
              "<table border=\"1\" class=\"dataframe\">\n",
              "  <thead>\n",
              "    <tr style=\"text-align: right;\">\n",
              "      <th></th>\n",
              "      <th>#</th>\n",
              "      <th>Name</th>\n",
              "      <th>Type 1</th>\n",
              "      <th>Type 2</th>\n",
              "      <th>Total</th>\n",
              "      <th>HP</th>\n",
              "      <th>Attack</th>\n",
              "      <th>Defense</th>\n",
              "      <th>Sp. Atk</th>\n",
              "      <th>Sp. Def</th>\n",
              "      <th>Speed</th>\n",
              "      <th>Generation</th>\n",
              "      <th>Legendary</th>\n",
              "    </tr>\n",
              "  </thead>\n",
              "  <tbody>\n",
              "    <tr>\n",
              "      <th>0</th>\n",
              "      <td>1</td>\n",
              "      <td>Bulbasaur</td>\n",
              "      <td>Grass</td>\n",
              "      <td>Poison</td>\n",
              "      <td>318</td>\n",
              "      <td>45</td>\n",
              "      <td>49</td>\n",
              "      <td>49</td>\n",
              "      <td>65</td>\n",
              "      <td>65</td>\n",
              "      <td>45</td>\n",
              "      <td>1</td>\n",
              "      <td>False</td>\n",
              "    </tr>\n",
              "    <tr>\n",
              "      <th>1</th>\n",
              "      <td>2</td>\n",
              "      <td>Ivysaur</td>\n",
              "      <td>Grass</td>\n",
              "      <td>Poison</td>\n",
              "      <td>405</td>\n",
              "      <td>60</td>\n",
              "      <td>62</td>\n",
              "      <td>63</td>\n",
              "      <td>80</td>\n",
              "      <td>80</td>\n",
              "      <td>60</td>\n",
              "      <td>1</td>\n",
              "      <td>False</td>\n",
              "    </tr>\n",
              "    <tr>\n",
              "      <th>2</th>\n",
              "      <td>3</td>\n",
              "      <td>Venusaur</td>\n",
              "      <td>Grass</td>\n",
              "      <td>Poison</td>\n",
              "      <td>525</td>\n",
              "      <td>80</td>\n",
              "      <td>82</td>\n",
              "      <td>83</td>\n",
              "      <td>100</td>\n",
              "      <td>100</td>\n",
              "      <td>80</td>\n",
              "      <td>1</td>\n",
              "      <td>False</td>\n",
              "    </tr>\n",
              "    <tr>\n",
              "      <th>3</th>\n",
              "      <td>3</td>\n",
              "      <td>VenusaurMega Venusaur</td>\n",
              "      <td>Grass</td>\n",
              "      <td>Poison</td>\n",
              "      <td>625</td>\n",
              "      <td>80</td>\n",
              "      <td>100</td>\n",
              "      <td>123</td>\n",
              "      <td>122</td>\n",
              "      <td>120</td>\n",
              "      <td>80</td>\n",
              "      <td>1</td>\n",
              "      <td>False</td>\n",
              "    </tr>\n",
              "    <tr>\n",
              "      <th>4</th>\n",
              "      <td>4</td>\n",
              "      <td>Charmander</td>\n",
              "      <td>Fire</td>\n",
              "      <td>NaN</td>\n",
              "      <td>309</td>\n",
              "      <td>39</td>\n",
              "      <td>52</td>\n",
              "      <td>43</td>\n",
              "      <td>60</td>\n",
              "      <td>50</td>\n",
              "      <td>65</td>\n",
              "      <td>1</td>\n",
              "      <td>False</td>\n",
              "    </tr>\n",
              "  </tbody>\n",
              "</table>\n",
              "</div>\n",
              "    <div class=\"colab-df-buttons\">\n",
              "\n",
              "  <div class=\"colab-df-container\">\n",
              "    <button class=\"colab-df-convert\" onclick=\"convertToInteractive('df-07cc7b7e-2d3e-4d8a-8d27-8b168ee562ec')\"\n",
              "            title=\"Convert this dataframe to an interactive table.\"\n",
              "            style=\"display:none;\">\n",
              "\n",
              "  <svg xmlns=\"http://www.w3.org/2000/svg\" height=\"24px\" viewBox=\"0 -960 960 960\">\n",
              "    <path d=\"M120-120v-720h720v720H120Zm60-500h600v-160H180v160Zm220 220h160v-160H400v160Zm0 220h160v-160H400v160ZM180-400h160v-160H180v160Zm440 0h160v-160H620v160ZM180-180h160v-160H180v160Zm440 0h160v-160H620v160Z\"/>\n",
              "  </svg>\n",
              "    </button>\n",
              "\n",
              "  <style>\n",
              "    .colab-df-container {\n",
              "      display:flex;\n",
              "      gap: 12px;\n",
              "    }\n",
              "\n",
              "    .colab-df-convert {\n",
              "      background-color: #E8F0FE;\n",
              "      border: none;\n",
              "      border-radius: 50%;\n",
              "      cursor: pointer;\n",
              "      display: none;\n",
              "      fill: #1967D2;\n",
              "      height: 32px;\n",
              "      padding: 0 0 0 0;\n",
              "      width: 32px;\n",
              "    }\n",
              "\n",
              "    .colab-df-convert:hover {\n",
              "      background-color: #E2EBFA;\n",
              "      box-shadow: 0px 1px 2px rgba(60, 64, 67, 0.3), 0px 1px 3px 1px rgba(60, 64, 67, 0.15);\n",
              "      fill: #174EA6;\n",
              "    }\n",
              "\n",
              "    .colab-df-buttons div {\n",
              "      margin-bottom: 4px;\n",
              "    }\n",
              "\n",
              "    [theme=dark] .colab-df-convert {\n",
              "      background-color: #3B4455;\n",
              "      fill: #D2E3FC;\n",
              "    }\n",
              "\n",
              "    [theme=dark] .colab-df-convert:hover {\n",
              "      background-color: #434B5C;\n",
              "      box-shadow: 0px 1px 3px 1px rgba(0, 0, 0, 0.15);\n",
              "      filter: drop-shadow(0px 1px 2px rgba(0, 0, 0, 0.3));\n",
              "      fill: #FFFFFF;\n",
              "    }\n",
              "  </style>\n",
              "\n",
              "    <script>\n",
              "      const buttonEl =\n",
              "        document.querySelector('#df-07cc7b7e-2d3e-4d8a-8d27-8b168ee562ec button.colab-df-convert');\n",
              "      buttonEl.style.display =\n",
              "        google.colab.kernel.accessAllowed ? 'block' : 'none';\n",
              "\n",
              "      async function convertToInteractive(key) {\n",
              "        const element = document.querySelector('#df-07cc7b7e-2d3e-4d8a-8d27-8b168ee562ec');\n",
              "        const dataTable =\n",
              "          await google.colab.kernel.invokeFunction('convertToInteractive',\n",
              "                                                    [key], {});\n",
              "        if (!dataTable) return;\n",
              "\n",
              "        const docLinkHtml = 'Like what you see? Visit the ' +\n",
              "          '<a target=\"_blank\" href=https://colab.research.google.com/notebooks/data_table.ipynb>data table notebook</a>'\n",
              "          + ' to learn more about interactive tables.';\n",
              "        element.innerHTML = '';\n",
              "        dataTable['output_type'] = 'display_data';\n",
              "        await google.colab.output.renderOutput(dataTable, element);\n",
              "        const docLink = document.createElement('div');\n",
              "        docLink.innerHTML = docLinkHtml;\n",
              "        element.appendChild(docLink);\n",
              "      }\n",
              "    </script>\n",
              "  </div>\n",
              "\n",
              "\n",
              "<div id=\"df-ce8a1325-1cc5-47bf-a924-c0b518f7f02f\">\n",
              "  <button class=\"colab-df-quickchart\" onclick=\"quickchart('df-ce8a1325-1cc5-47bf-a924-c0b518f7f02f')\"\n",
              "            title=\"Suggest charts\"\n",
              "            style=\"display:none;\">\n",
              "\n",
              "<svg xmlns=\"http://www.w3.org/2000/svg\" height=\"24px\"viewBox=\"0 0 24 24\"\n",
              "     width=\"24px\">\n",
              "    <g>\n",
              "        <path d=\"M19 3H5c-1.1 0-2 .9-2 2v14c0 1.1.9 2 2 2h14c1.1 0 2-.9 2-2V5c0-1.1-.9-2-2-2zM9 17H7v-7h2v7zm4 0h-2V7h2v10zm4 0h-2v-4h2v4z\"/>\n",
              "    </g>\n",
              "</svg>\n",
              "  </button>\n",
              "\n",
              "<style>\n",
              "  .colab-df-quickchart {\n",
              "      --bg-color: #E8F0FE;\n",
              "      --fill-color: #1967D2;\n",
              "      --hover-bg-color: #E2EBFA;\n",
              "      --hover-fill-color: #174EA6;\n",
              "      --disabled-fill-color: #AAA;\n",
              "      --disabled-bg-color: #DDD;\n",
              "  }\n",
              "\n",
              "  [theme=dark] .colab-df-quickchart {\n",
              "      --bg-color: #3B4455;\n",
              "      --fill-color: #D2E3FC;\n",
              "      --hover-bg-color: #434B5C;\n",
              "      --hover-fill-color: #FFFFFF;\n",
              "      --disabled-bg-color: #3B4455;\n",
              "      --disabled-fill-color: #666;\n",
              "  }\n",
              "\n",
              "  .colab-df-quickchart {\n",
              "    background-color: var(--bg-color);\n",
              "    border: none;\n",
              "    border-radius: 50%;\n",
              "    cursor: pointer;\n",
              "    display: none;\n",
              "    fill: var(--fill-color);\n",
              "    height: 32px;\n",
              "    padding: 0;\n",
              "    width: 32px;\n",
              "  }\n",
              "\n",
              "  .colab-df-quickchart:hover {\n",
              "    background-color: var(--hover-bg-color);\n",
              "    box-shadow: 0 1px 2px rgba(60, 64, 67, 0.3), 0 1px 3px 1px rgba(60, 64, 67, 0.15);\n",
              "    fill: var(--button-hover-fill-color);\n",
              "  }\n",
              "\n",
              "  .colab-df-quickchart-complete:disabled,\n",
              "  .colab-df-quickchart-complete:disabled:hover {\n",
              "    background-color: var(--disabled-bg-color);\n",
              "    fill: var(--disabled-fill-color);\n",
              "    box-shadow: none;\n",
              "  }\n",
              "\n",
              "  .colab-df-spinner {\n",
              "    border: 2px solid var(--fill-color);\n",
              "    border-color: transparent;\n",
              "    border-bottom-color: var(--fill-color);\n",
              "    animation:\n",
              "      spin 1s steps(1) infinite;\n",
              "  }\n",
              "\n",
              "  @keyframes spin {\n",
              "    0% {\n",
              "      border-color: transparent;\n",
              "      border-bottom-color: var(--fill-color);\n",
              "      border-left-color: var(--fill-color);\n",
              "    }\n",
              "    20% {\n",
              "      border-color: transparent;\n",
              "      border-left-color: var(--fill-color);\n",
              "      border-top-color: var(--fill-color);\n",
              "    }\n",
              "    30% {\n",
              "      border-color: transparent;\n",
              "      border-left-color: var(--fill-color);\n",
              "      border-top-color: var(--fill-color);\n",
              "      border-right-color: var(--fill-color);\n",
              "    }\n",
              "    40% {\n",
              "      border-color: transparent;\n",
              "      border-right-color: var(--fill-color);\n",
              "      border-top-color: var(--fill-color);\n",
              "    }\n",
              "    60% {\n",
              "      border-color: transparent;\n",
              "      border-right-color: var(--fill-color);\n",
              "    }\n",
              "    80% {\n",
              "      border-color: transparent;\n",
              "      border-right-color: var(--fill-color);\n",
              "      border-bottom-color: var(--fill-color);\n",
              "    }\n",
              "    90% {\n",
              "      border-color: transparent;\n",
              "      border-bottom-color: var(--fill-color);\n",
              "    }\n",
              "  }\n",
              "</style>\n",
              "\n",
              "  <script>\n",
              "    async function quickchart(key) {\n",
              "      const quickchartButtonEl =\n",
              "        document.querySelector('#' + key + ' button');\n",
              "      quickchartButtonEl.disabled = true;  // To prevent multiple clicks.\n",
              "      quickchartButtonEl.classList.add('colab-df-spinner');\n",
              "      try {\n",
              "        const charts = await google.colab.kernel.invokeFunction(\n",
              "            'suggestCharts', [key], {});\n",
              "      } catch (error) {\n",
              "        console.error('Error during call to suggestCharts:', error);\n",
              "      }\n",
              "      quickchartButtonEl.classList.remove('colab-df-spinner');\n",
              "      quickchartButtonEl.classList.add('colab-df-quickchart-complete');\n",
              "    }\n",
              "    (() => {\n",
              "      let quickchartButtonEl =\n",
              "        document.querySelector('#df-ce8a1325-1cc5-47bf-a924-c0b518f7f02f button');\n",
              "      quickchartButtonEl.style.display =\n",
              "        google.colab.kernel.accessAllowed ? 'block' : 'none';\n",
              "    })();\n",
              "  </script>\n",
              "</div>\n",
              "    </div>\n",
              "  </div>\n"
            ],
            "text/plain": [
              "   #                   Name Type 1  Type 2  Total  HP  Attack  Defense  \\\n",
              "0  1              Bulbasaur  Grass  Poison    318  45      49       49   \n",
              "1  2                Ivysaur  Grass  Poison    405  60      62       63   \n",
              "2  3               Venusaur  Grass  Poison    525  80      82       83   \n",
              "3  3  VenusaurMega Venusaur  Grass  Poison    625  80     100      123   \n",
              "4  4             Charmander   Fire     NaN    309  39      52       43   \n",
              "\n",
              "   Sp. Atk  Sp. Def  Speed  Generation  Legendary  \n",
              "0       65       65     45           1      False  \n",
              "1       80       80     60           1      False  \n",
              "2      100      100     80           1      False  \n",
              "3      122      120     80           1      False  \n",
              "4       60       50     65           1      False  "
            ]
          },
          "execution_count": 1,
          "metadata": {},
          "output_type": "execute_result"
        }
      ],
      "source": [
        "import pandas as pd\n",
        "df = pd.read_csv('https://raw.githubusercontent.com/Datamanim/datarepo/main/pok/Pokemon.csv')\n",
        "df.head()"
      ]
    },
    {
      "cell_type": "markdown",
      "metadata": {
        "id": "2QPQrZo9Lk5f"
      },
      "source": [
        "61번 Legendary 컬럼은 전설포켓몬 유무를 나타낸다.전설포켓몬과 그렇지 않은 포켓몬들의 HP평균의 차이를 구하여라"
      ]
    },
    {
      "cell_type": "code",
      "execution_count": null,
      "metadata": {
        "colab": {
          "base_uri": "https://localhost:8080/"
        },
        "id": "tysDd3FyLuvn",
        "outputId": "1fa1d23b-fbc1-4206-cdf9-af59d73e6465"
      },
      "outputs": [
        {
          "name": "stdout",
          "output_type": "stream",
          "text": [
            "25.55614861329147\n"
          ]
        },
        {
          "name": "stderr",
          "output_type": "stream",
          "text": [
            "<ipython-input-3-c2bd17f93bc9>:1: FutureWarning: The default value of numeric_only in DataFrameGroupBy.mean is deprecated. In a future version, numeric_only will default to False. Either specify numeric_only or select only columns which should be valid for the function.\n",
            "  target = df.groupby('Legendary').mean()['HP']\n"
          ]
        }
      ],
      "source": [
        "target = df.groupby('Legendary').mean()['HP']\n",
        "result = target.values[1] - target.values[0]\n",
        "print(result)"
      ]
    },
    {
      "cell_type": "markdown",
      "metadata": {
        "id": "8bmqcdOZLu9P"
      },
      "source": [
        "62번 Type 1은 주속성, Type 2 는 부속성을 나타낸다. 가장 많은 부속성 종류는 무엇인가?"
      ]
    },
    {
      "cell_type": "code",
      "execution_count": null,
      "metadata": {
        "colab": {
          "base_uri": "https://localhost:8080/"
        },
        "id": "UARSJLMaLw4f",
        "outputId": "3db5bc9d-0987-4f1f-915a-ba62253ec356"
      },
      "outputs": [
        {
          "name": "stdout",
          "output_type": "stream",
          "text": [
            "Flying\n"
          ]
        }
      ],
      "source": [
        "type2 = df['Type 2'].value_counts().index[0]\n",
        "print(type2)"
      ]
    },
    {
      "cell_type": "markdown",
      "metadata": {
        "id": "fMPws-97LxMn"
      },
      "source": [
        "63번 가장 많은 Type 1 의 종의 평균 Attack 을 평균 Defense로 나눈값은?"
      ]
    },
    {
      "cell_type": "code",
      "execution_count": null,
      "metadata": {
        "colab": {
          "base_uri": "https://localhost:8080/"
        },
        "id": "zGxaWFhxLyol",
        "outputId": "5c301188-452b-4545-9518-7549d7587ffe"
      },
      "outputs": [
        {
          "name": "stdout",
          "output_type": "stream",
          "text": [
            "1.0165238678090576\n"
          ]
        }
      ],
      "source": [
        "type1 = df['Type 1'].value_counts().index[0]\n",
        "\n",
        "result = df[df['Type 1']==type1].Attack.mean() / df[df['Type 1']==type1].Defense.mean()\n",
        "print(result)"
      ]
    },
    {
      "cell_type": "markdown",
      "metadata": {
        "id": "O6wlIaxzLy84"
      },
      "source": [
        "64번 포켓몬 세대(Generation) 중 가장많은 Legendary를 보유한 세대는 몇세대인가?"
      ]
    },
    {
      "cell_type": "code",
      "execution_count": null,
      "metadata": {
        "colab": {
          "base_uri": "https://localhost:8080/"
        },
        "id": "UsPOfGkcL0E-",
        "outputId": "48bfd976-2187-454a-e82a-e9d1452f3a4f"
      },
      "outputs": [
        {
          "name": "stdout",
          "output_type": "stream",
          "text": [
            "3\n"
          ]
        }
      ],
      "source": [
        "result = df[df.Legendary==True].Generation.value_counts().index[0]\n",
        "print(result)"
      ]
    },
    {
      "cell_type": "markdown",
      "metadata": {
        "id": "Sh8N6sI-L0a3"
      },
      "source": [
        "65번 ‘HP’, ‘Attack’, ‘Defense’, ‘Sp. Atk’, ‘Sp. Def’, ‘Speed’ 간의 상관 계수중 가장 절댓값이 큰 두 변수와 그 값을 구하여라"
      ]
    },
    {
      "cell_type": "code",
      "execution_count": null,
      "metadata": {
        "colab": {
          "base_uri": "https://localhost:8080/"
        },
        "id": "RBOSj4erL1p8",
        "outputId": "006c6a6c-dfed-47a0-caa3-35f5b89cafc3"
      },
      "outputs": [
        {
          "name": "stdout",
          "output_type": "stream",
          "text": [
            "level_0     Sp. Def\n",
            "level_1     Defense\n",
            "corr       0.510747\n",
            "Name: 26, dtype: object\n"
          ]
        }
      ],
      "source": [
        "target = df[['HP','Attack','Defense','Sp. Atk','Sp. Def','Speed']].corr().unstack().reset_index().rename(columns={0:\"corr\"})\n",
        "result = target[target['corr']!=1].sort_values('corr', ascending=False).iloc[0]\n",
        "print(result)"
      ]
    },
    {
      "cell_type": "markdown",
      "metadata": {
        "id": "xaYqQyUZL2B3"
      },
      "source": [
        "66번 각 Generation의 Attack으로 오름차순 정렬시 상위 3개 데이터들(18개)의 Attack의 전체 평균을 구하여라"
      ]
    },
    {
      "cell_type": "code",
      "execution_count": null,
      "metadata": {
        "colab": {
          "base_uri": "https://localhost:8080/"
        },
        "id": "jZkZgac-L3IS",
        "outputId": "73f87090-6aa3-4241-aae0-e453619855d5"
      },
      "outputs": [
        {
          "name": "stdout",
          "output_type": "stream",
          "text": [
            "19.5\n"
          ]
        }
      ],
      "source": [
        "result = df.sort_values(['Generation','Attack']).groupby('Generation').head(3).Attack.mean()\n",
        "print(result)"
      ]
    },
    {
      "cell_type": "markdown",
      "metadata": {
        "id": "Z0hxU8mBL3hP"
      },
      "source": [
        "67번 각 Generation의 Attack으로 내림차순 정렬시 상위 5개 데이터들(30개)의 Attack의 전체 평균을 구하여라"
      ]
    },
    {
      "cell_type": "code",
      "execution_count": null,
      "metadata": {
        "colab": {
          "base_uri": "https://localhost:8080/"
        },
        "id": "4rhY4GCQL4ke",
        "outputId": "61250c8c-2cd2-49a4-c037-050fcac16c73"
      },
      "outputs": [
        {
          "name": "stdout",
          "output_type": "stream",
          "text": [
            "157.23333333333332\n"
          ]
        }
      ],
      "source": [
        "result = df.sort_values(['Generation','Attack'], ascending=False).groupby('Generation').head(5).Attack.mean()\n",
        "print(result)"
      ]
    },
    {
      "cell_type": "markdown",
      "metadata": {
        "id": "WUuYr6BmL5AI"
      },
      "source": [
        "68번 가장 흔하게 발견되는 (Type1 , Type2) 의 쌍은 무엇인가?"
      ]
    },
    {
      "cell_type": "code",
      "execution_count": null,
      "metadata": {
        "colab": {
          "base_uri": "https://localhost:8080/"
        },
        "id": "DqctKSvnL6Pg",
        "outputId": "7a2918d0-8364-4979-8b7a-088a327e194d"
      },
      "outputs": [
        {
          "name": "stdout",
          "output_type": "stream",
          "text": [
            "Type 1  Type 2\n",
            "Normal  Flying    24\n",
            "dtype: int64\n"
          ]
        }
      ],
      "source": [
        "result = df[['Type 1','Type 2']].value_counts().head(1)\n",
        "print(result)"
      ]
    },
    {
      "cell_type": "markdown",
      "metadata": {
        "id": "8eGey0o3L6uH"
      },
      "source": [
        "69번 한번씩만 존재하는 (Type1 , Type2)의 쌍의 갯수는 몇개인가?"
      ]
    },
    {
      "cell_type": "code",
      "execution_count": null,
      "metadata": {
        "colab": {
          "base_uri": "https://localhost:8080/"
        },
        "id": "wUECMQDIL8IM",
        "outputId": "2523357f-1098-4cdd-8859-e3b3591ef52e"
      },
      "outputs": [
        {
          "name": "stdout",
          "output_type": "stream",
          "text": [
            "39\n"
          ]
        }
      ],
      "source": [
        "target = df[['Type 1','Type 2']].value_counts()\n",
        "result = len(target[target==1])\n",
        "print(result)"
      ]
    },
    {
      "cell_type": "markdown",
      "metadata": {
        "id": "-gCx00qoL8c3"
      },
      "source": [
        "70번 한번씩만 존재하는 (Type1 , Type2)의 쌍을 각 세대(Generation)은 각각 몇개씩 가지고 있는가?"
      ]
    },
    {
      "cell_type": "code",
      "execution_count": null,
      "metadata": {
        "colab": {
          "base_uri": "https://localhost:8080/"
        },
        "id": "WnznyaCzL95r",
        "outputId": "ccd7b8b8-5745-4486-a0f0-7ca05626c511"
      },
      "outputs": [
        {
          "name": "stdout",
          "output_type": "stream",
          "text": [
            "1     1\n",
            "2     4\n",
            "3     5\n",
            "4    13\n",
            "5     7\n",
            "6     9\n",
            "Name: Generation, dtype: int64\n"
          ]
        }
      ],
      "source": [
        "target = df[['Type 1', 'Type 2']].value_counts()\n",
        "target2 = target[target==1]\n",
        "\n",
        "list = []\n",
        "for value in target2.reset_index().values:\n",
        "    t1 = value[0]\n",
        "    t2 = value[1]\n",
        "\n",
        "    sp = df[(df['Type 1']==t1)&(df['Type 2']==t2)]\n",
        "    list.append(sp)\n",
        "\n",
        "result = pd.concat(list).reset_index(drop=True).Generation.value_counts().sort_index()\n",
        "print(result)"
      ]
    },
    {
      "cell_type": "markdown",
      "metadata": {
        "id": "dL-7il3PQG9c"
      },
      "source": [
        "71번 전체데이터의 수축기혈압(최고) - 이완기혈압(최저)의 평균을 구하여라"
      ]
    },
    {
      "cell_type": "code",
      "execution_count": null,
      "metadata": {
        "colab": {
          "base_uri": "https://localhost:8080/"
        },
        "id": "QccdLX7DQLOE",
        "outputId": "3f363032-a7da-4b39-a90a-7df99307b7eb"
      },
      "outputs": [
        {
          "name": "stdout",
          "output_type": "stream",
          "text": [
            "52.19539414750672\n"
          ]
        }
      ],
      "source": [
        "diff = df['수축기혈압(최고) : mmHg'] - df['이완기혈압(최저) : mmHg']\n",
        "result = diff.mean()\n",
        "print(result)"
      ]
    },
    {
      "cell_type": "markdown",
      "metadata": {
        "id": "VZ4ztsqbQLgM"
      },
      "source": [
        "72번 50~59세의 신장평균을 구하여라"
      ]
    },
    {
      "cell_type": "code",
      "execution_count": null,
      "metadata": {
        "colab": {
          "base_uri": "https://localhost:8080/"
        },
        "id": "vpfioL-BQMuj",
        "outputId": "81bcbe6e-deee-4191-ea17-95b9331f2be4"
      },
      "outputs": [
        {
          "name": "stdout",
          "output_type": "stream",
          "text": [
            "164.07490107405314\n"
          ]
        }
      ],
      "source": [
        "target = df[(df['측정나이']>=50)&(df['측정나이']<=59)]\n",
        "result = target.iloc[:,2].mean()\n",
        "print(result)"
      ]
    },
    {
      "cell_type": "markdown",
      "metadata": {
        "id": "HbJD2aF3QNN8"
      },
      "source": [
        "73번 연령대 (20~29 : 20대 …) 별 인원수를 구하여라"
      ]
    },
    {
      "cell_type": "code",
      "execution_count": null,
      "metadata": {
        "colab": {
          "base_uri": "https://localhost:8080/"
        },
        "id": "5cEZcQa9QOa_",
        "outputId": "15d58981-280c-4873-bdee-97dcb8764f81"
      },
      "outputs": [
        {
          "name": "stdout",
          "output_type": "stream",
          "text": [
            "20.0    5831\n",
            "30.0    2660\n",
            "40.0    1801\n",
            "50.0    1769\n",
            "60.0    1335\n",
            "Name: 연령대, dtype: int64\n"
          ]
        }
      ],
      "source": [
        "df['연령대'] = df.측정나이 // 10 *10\n",
        "#10으로 나눈 몫에 다시 10을 곱하기!\n",
        "result = df['연령대'].value_counts()\n",
        "print(result)"
      ]
    },
    {
      "cell_type": "markdown",
      "metadata": {
        "id": "IhbK591YQOxL"
      },
      "source": [
        "74번 연령대 (20~29 : 20대 …) 별 등급의 숫자를 데이터 프레임으로 표현하라"
      ]
    },
    {
      "cell_type": "code",
      "execution_count": null,
      "metadata": {
        "colab": {
          "base_uri": "https://localhost:8080/"
        },
        "id": "Ri3M739lQQ2a",
        "outputId": "a0a6234c-6e9c-46f9-ac71-440d4fd3828a"
      },
      "outputs": [
        {
          "name": "stdout",
          "output_type": "stream",
          "text": [
            "     연령대 등급  size\n",
            "0   20.0  A  1585\n",
            "1   20.0  B  1443\n",
            "2   20.0  C  1455\n",
            "3   20.0  D  1348\n",
            "4   30.0  A   743\n",
            "5   30.0  B   697\n",
            "6   30.0  C   626\n",
            "7   30.0  D   594\n",
            "8   40.0  A   386\n",
            "9   40.0  B   428\n",
            "10  40.0  C   455\n",
            "11  40.0  D   532\n",
            "12  50.0  A   321\n",
            "13  50.0  B   410\n",
            "14  50.0  C   474\n",
            "15  50.0  D   564\n",
            "16  60.0  A   314\n",
            "17  60.0  B   371\n",
            "18  60.0  C   339\n",
            "19  60.0  D   311\n"
          ]
        }
      ],
      "source": [
        "df['연령대'] = df.측정나이 // 10 * 10\n",
        "#size는 각 그룹의 크기 측정\n",
        "result = df.groupby(['연령대','등급'], as_index=False).size()\n",
        "print(result)"
      ]
    },
    {
      "cell_type": "markdown",
      "metadata": {
        "id": "GbQYK-vGQQUy"
      },
      "source": [
        "75번 남성 중 A등급과 D등급의 체지방률 평균의 차이(큰 값에서 작은 값의 차)를 구하여라"
      ]
    },
    {
      "cell_type": "code",
      "execution_count": null,
      "metadata": {
        "colab": {
          "base_uri": "https://localhost:8080/"
        },
        "id": "JxRodE2SQSnW",
        "outputId": "a81bfa31-c75f-4fc1-c0c7-f420313828e5"
      },
      "outputs": [
        {
          "name": "stdout",
          "output_type": "stream",
          "text": [
            "7.932086486137521\n"
          ]
        }
      ],
      "source": [
        "result = abs(df[(df.측정회원성별=='M')&(df.등급=='A')].iloc[:,4].mean() - df[(df.측정회원성별=='M')&(df.등급=='D')].iloc[:,4].mean())\n",
        "print(result)"
      ]
    },
    {
      "cell_type": "markdown",
      "metadata": {
        "id": "tBo52jUbQTaa"
      },
      "source": [
        "76번 여성 중 A등급과 D등급의 체중의 평균의 차이(큰 값에서 작은 값의 차)를 구하여라"
      ]
    },
    {
      "cell_type": "code",
      "execution_count": null,
      "metadata": {
        "colab": {
          "base_uri": "https://localhost:8080/"
        },
        "id": "SRMa72VYQS_C",
        "outputId": "78ffd5d0-de63-4885-af9c-28c7ddac97ef"
      },
      "outputs": [
        {
          "name": "stdout",
          "output_type": "stream",
          "text": [
            "5.176211590296504\n"
          ]
        }
      ],
      "source": [
        "result = abs(df[(df.측정회원성별=='F')&(df.등급=='A')].iloc[:,3].mean()-df[(df.측정회원성별=='F')&(df.등급=='D')].iloc[:,3].mean())\n",
        "print(result)"
      ]
    },
    {
      "cell_type": "markdown",
      "metadata": {
        "id": "O1RphbgxQV-S"
      },
      "source": [
        "77번 bmi는 자신의 몸무게(kg)를 키의 제곱(m)으로 나눈값이다. 데이터의 bmi 를 구한 새로운 컬럼을 만들고 남성의 bmi 평균을 구하여라"
      ]
    },
    {
      "cell_type": "code",
      "execution_count": null,
      "metadata": {
        "colab": {
          "base_uri": "https://localhost:8080/"
        },
        "id": "aGE-Ay1IQXN3",
        "outputId": "f9fd5a18-483d-4fb6-9f4b-13964313b5da"
      },
      "outputs": [
        {
          "name": "stdout",
          "output_type": "stream",
          "text": [
            "24.46134409819308\n"
          ]
        }
      ],
      "source": [
        "df['bmi'] = df['체중 : kg'] / ((df['신장 : cm']/100)**2)\n",
        "result = df[df.측정회원성별=='M'].bmi.mean()\n",
        "print(result)"
      ]
    },
    {
      "cell_type": "code",
      "execution_count": null,
      "metadata": {
        "colab": {
          "base_uri": "https://localhost:8080/",
          "height": 223
        },
        "id": "HQ5wEKNKQJFk",
        "outputId": "016f5d26-e700-4a2b-aa1a-e895834535d2"
      },
      "outputs": [
        {
          "data": {
            "text/html": [
              "\n",
              "  <div id=\"df-2cef0174-a1bc-4050-aa56-c292691e3a76\" class=\"colab-df-container\">\n",
              "    <div>\n",
              "<style scoped>\n",
              "    .dataframe tbody tr th:only-of-type {\n",
              "        vertical-align: middle;\n",
              "    }\n",
              "\n",
              "    .dataframe tbody tr th {\n",
              "        vertical-align: top;\n",
              "    }\n",
              "\n",
              "    .dataframe thead th {\n",
              "        text-align: right;\n",
              "    }\n",
              "</style>\n",
              "<table border=\"1\" class=\"dataframe\">\n",
              "  <thead>\n",
              "    <tr style=\"text-align: right;\">\n",
              "      <th></th>\n",
              "      <th>측정나이</th>\n",
              "      <th>측정회원성별</th>\n",
              "      <th>신장 : cm</th>\n",
              "      <th>체중 : kg</th>\n",
              "      <th>체지방율 : %</th>\n",
              "      <th>이완기혈압(최저) : mmHg</th>\n",
              "      <th>수축기혈압(최고) : mmHg</th>\n",
              "      <th>악력D : kg</th>\n",
              "      <th>앉아윗몸앞으로굽히기 : cm</th>\n",
              "      <th>교차윗몸일으키기 : 회</th>\n",
              "      <th>제자리 멀리뛰기 : cm</th>\n",
              "      <th>등급</th>\n",
              "    </tr>\n",
              "  </thead>\n",
              "  <tbody>\n",
              "    <tr>\n",
              "      <th>0</th>\n",
              "      <td>59.0</td>\n",
              "      <td>M</td>\n",
              "      <td>175.0</td>\n",
              "      <td>70.6</td>\n",
              "      <td>19.2</td>\n",
              "      <td>91.0</td>\n",
              "      <td>150.0</td>\n",
              "      <td>40.6</td>\n",
              "      <td>12.2</td>\n",
              "      <td>30.0</td>\n",
              "      <td>179.0</td>\n",
              "      <td>C</td>\n",
              "    </tr>\n",
              "    <tr>\n",
              "      <th>1</th>\n",
              "      <td>40.0</td>\n",
              "      <td>F</td>\n",
              "      <td>161.4</td>\n",
              "      <td>45.8</td>\n",
              "      <td>21.7</td>\n",
              "      <td>62.0</td>\n",
              "      <td>119.0</td>\n",
              "      <td>22.1</td>\n",
              "      <td>16.0</td>\n",
              "      <td>32.0</td>\n",
              "      <td>165.0</td>\n",
              "      <td>B</td>\n",
              "    </tr>\n",
              "    <tr>\n",
              "      <th>2</th>\n",
              "      <td>27.0</td>\n",
              "      <td>M</td>\n",
              "      <td>176.6</td>\n",
              "      <td>84.8</td>\n",
              "      <td>19.2</td>\n",
              "      <td>87.0</td>\n",
              "      <td>153.0</td>\n",
              "      <td>45.9</td>\n",
              "      <td>13.2</td>\n",
              "      <td>61.0</td>\n",
              "      <td>216.0</td>\n",
              "      <td>B</td>\n",
              "    </tr>\n",
              "    <tr>\n",
              "      <th>3</th>\n",
              "      <td>38.0</td>\n",
              "      <td>M</td>\n",
              "      <td>167.6</td>\n",
              "      <td>76.7</td>\n",
              "      <td>24.7</td>\n",
              "      <td>63.0</td>\n",
              "      <td>132.0</td>\n",
              "      <td>43.6</td>\n",
              "      <td>16.0</td>\n",
              "      <td>45.0</td>\n",
              "      <td>231.0</td>\n",
              "      <td>A</td>\n",
              "    </tr>\n",
              "    <tr>\n",
              "      <th>4</th>\n",
              "      <td>21.0</td>\n",
              "      <td>M</td>\n",
              "      <td>165.2</td>\n",
              "      <td>66.2</td>\n",
              "      <td>21.5</td>\n",
              "      <td>83.0</td>\n",
              "      <td>106.0</td>\n",
              "      <td>33.5</td>\n",
              "      <td>10.6</td>\n",
              "      <td>46.0</td>\n",
              "      <td>198.0</td>\n",
              "      <td>C</td>\n",
              "    </tr>\n",
              "  </tbody>\n",
              "</table>\n",
              "</div>\n",
              "    <div class=\"colab-df-buttons\">\n",
              "\n",
              "  <div class=\"colab-df-container\">\n",
              "    <button class=\"colab-df-convert\" onclick=\"convertToInteractive('df-2cef0174-a1bc-4050-aa56-c292691e3a76')\"\n",
              "            title=\"Convert this dataframe to an interactive table.\"\n",
              "            style=\"display:none;\">\n",
              "\n",
              "  <svg xmlns=\"http://www.w3.org/2000/svg\" height=\"24px\" viewBox=\"0 -960 960 960\">\n",
              "    <path d=\"M120-120v-720h720v720H120Zm60-500h600v-160H180v160Zm220 220h160v-160H400v160Zm0 220h160v-160H400v160ZM180-400h160v-160H180v160Zm440 0h160v-160H620v160ZM180-180h160v-160H180v160Zm440 0h160v-160H620v160Z\"/>\n",
              "  </svg>\n",
              "    </button>\n",
              "\n",
              "  <style>\n",
              "    .colab-df-container {\n",
              "      display:flex;\n",
              "      gap: 12px;\n",
              "    }\n",
              "\n",
              "    .colab-df-convert {\n",
              "      background-color: #E8F0FE;\n",
              "      border: none;\n",
              "      border-radius: 50%;\n",
              "      cursor: pointer;\n",
              "      display: none;\n",
              "      fill: #1967D2;\n",
              "      height: 32px;\n",
              "      padding: 0 0 0 0;\n",
              "      width: 32px;\n",
              "    }\n",
              "\n",
              "    .colab-df-convert:hover {\n",
              "      background-color: #E2EBFA;\n",
              "      box-shadow: 0px 1px 2px rgba(60, 64, 67, 0.3), 0px 1px 3px 1px rgba(60, 64, 67, 0.15);\n",
              "      fill: #174EA6;\n",
              "    }\n",
              "\n",
              "    .colab-df-buttons div {\n",
              "      margin-bottom: 4px;\n",
              "    }\n",
              "\n",
              "    [theme=dark] .colab-df-convert {\n",
              "      background-color: #3B4455;\n",
              "      fill: #D2E3FC;\n",
              "    }\n",
              "\n",
              "    [theme=dark] .colab-df-convert:hover {\n",
              "      background-color: #434B5C;\n",
              "      box-shadow: 0px 1px 3px 1px rgba(0, 0, 0, 0.15);\n",
              "      filter: drop-shadow(0px 1px 2px rgba(0, 0, 0, 0.3));\n",
              "      fill: #FFFFFF;\n",
              "    }\n",
              "  </style>\n",
              "\n",
              "    <script>\n",
              "      const buttonEl =\n",
              "        document.querySelector('#df-2cef0174-a1bc-4050-aa56-c292691e3a76 button.colab-df-convert');\n",
              "      buttonEl.style.display =\n",
              "        google.colab.kernel.accessAllowed ? 'block' : 'none';\n",
              "\n",
              "      async function convertToInteractive(key) {\n",
              "        const element = document.querySelector('#df-2cef0174-a1bc-4050-aa56-c292691e3a76');\n",
              "        const dataTable =\n",
              "          await google.colab.kernel.invokeFunction('convertToInteractive',\n",
              "                                                    [key], {});\n",
              "        if (!dataTable) return;\n",
              "\n",
              "        const docLinkHtml = 'Like what you see? Visit the ' +\n",
              "          '<a target=\"_blank\" href=https://colab.research.google.com/notebooks/data_table.ipynb>data table notebook</a>'\n",
              "          + ' to learn more about interactive tables.';\n",
              "        element.innerHTML = '';\n",
              "        dataTable['output_type'] = 'display_data';\n",
              "        await google.colab.output.renderOutput(dataTable, element);\n",
              "        const docLink = document.createElement('div');\n",
              "        docLink.innerHTML = docLinkHtml;\n",
              "        element.appendChild(docLink);\n",
              "      }\n",
              "    </script>\n",
              "  </div>\n",
              "\n",
              "\n",
              "<div id=\"df-8160f62d-2d92-40a2-85d5-4990dfa04419\">\n",
              "  <button class=\"colab-df-quickchart\" onclick=\"quickchart('df-8160f62d-2d92-40a2-85d5-4990dfa04419')\"\n",
              "            title=\"Suggest charts\"\n",
              "            style=\"display:none;\">\n",
              "\n",
              "<svg xmlns=\"http://www.w3.org/2000/svg\" height=\"24px\"viewBox=\"0 0 24 24\"\n",
              "     width=\"24px\">\n",
              "    <g>\n",
              "        <path d=\"M19 3H5c-1.1 0-2 .9-2 2v14c0 1.1.9 2 2 2h14c1.1 0 2-.9 2-2V5c0-1.1-.9-2-2-2zM9 17H7v-7h2v7zm4 0h-2V7h2v10zm4 0h-2v-4h2v4z\"/>\n",
              "    </g>\n",
              "</svg>\n",
              "  </button>\n",
              "\n",
              "<style>\n",
              "  .colab-df-quickchart {\n",
              "      --bg-color: #E8F0FE;\n",
              "      --fill-color: #1967D2;\n",
              "      --hover-bg-color: #E2EBFA;\n",
              "      --hover-fill-color: #174EA6;\n",
              "      --disabled-fill-color: #AAA;\n",
              "      --disabled-bg-color: #DDD;\n",
              "  }\n",
              "\n",
              "  [theme=dark] .colab-df-quickchart {\n",
              "      --bg-color: #3B4455;\n",
              "      --fill-color: #D2E3FC;\n",
              "      --hover-bg-color: #434B5C;\n",
              "      --hover-fill-color: #FFFFFF;\n",
              "      --disabled-bg-color: #3B4455;\n",
              "      --disabled-fill-color: #666;\n",
              "  }\n",
              "\n",
              "  .colab-df-quickchart {\n",
              "    background-color: var(--bg-color);\n",
              "    border: none;\n",
              "    border-radius: 50%;\n",
              "    cursor: pointer;\n",
              "    display: none;\n",
              "    fill: var(--fill-color);\n",
              "    height: 32px;\n",
              "    padding: 0;\n",
              "    width: 32px;\n",
              "  }\n",
              "\n",
              "  .colab-df-quickchart:hover {\n",
              "    background-color: var(--hover-bg-color);\n",
              "    box-shadow: 0 1px 2px rgba(60, 64, 67, 0.3), 0 1px 3px 1px rgba(60, 64, 67, 0.15);\n",
              "    fill: var(--button-hover-fill-color);\n",
              "  }\n",
              "\n",
              "  .colab-df-quickchart-complete:disabled,\n",
              "  .colab-df-quickchart-complete:disabled:hover {\n",
              "    background-color: var(--disabled-bg-color);\n",
              "    fill: var(--disabled-fill-color);\n",
              "    box-shadow: none;\n",
              "  }\n",
              "\n",
              "  .colab-df-spinner {\n",
              "    border: 2px solid var(--fill-color);\n",
              "    border-color: transparent;\n",
              "    border-bottom-color: var(--fill-color);\n",
              "    animation:\n",
              "      spin 1s steps(1) infinite;\n",
              "  }\n",
              "\n",
              "  @keyframes spin {\n",
              "    0% {\n",
              "      border-color: transparent;\n",
              "      border-bottom-color: var(--fill-color);\n",
              "      border-left-color: var(--fill-color);\n",
              "    }\n",
              "    20% {\n",
              "      border-color: transparent;\n",
              "      border-left-color: var(--fill-color);\n",
              "      border-top-color: var(--fill-color);\n",
              "    }\n",
              "    30% {\n",
              "      border-color: transparent;\n",
              "      border-left-color: var(--fill-color);\n",
              "      border-top-color: var(--fill-color);\n",
              "      border-right-color: var(--fill-color);\n",
              "    }\n",
              "    40% {\n",
              "      border-color: transparent;\n",
              "      border-right-color: var(--fill-color);\n",
              "      border-top-color: var(--fill-color);\n",
              "    }\n",
              "    60% {\n",
              "      border-color: transparent;\n",
              "      border-right-color: var(--fill-color);\n",
              "    }\n",
              "    80% {\n",
              "      border-color: transparent;\n",
              "      border-right-color: var(--fill-color);\n",
              "      border-bottom-color: var(--fill-color);\n",
              "    }\n",
              "    90% {\n",
              "      border-color: transparent;\n",
              "      border-bottom-color: var(--fill-color);\n",
              "    }\n",
              "  }\n",
              "</style>\n",
              "\n",
              "  <script>\n",
              "    async function quickchart(key) {\n",
              "      const quickchartButtonEl =\n",
              "        document.querySelector('#' + key + ' button');\n",
              "      quickchartButtonEl.disabled = true;  // To prevent multiple clicks.\n",
              "      quickchartButtonEl.classList.add('colab-df-spinner');\n",
              "      try {\n",
              "        const charts = await google.colab.kernel.invokeFunction(\n",
              "            'suggestCharts', [key], {});\n",
              "      } catch (error) {\n",
              "        console.error('Error during call to suggestCharts:', error);\n",
              "      }\n",
              "      quickchartButtonEl.classList.remove('colab-df-spinner');\n",
              "      quickchartButtonEl.classList.add('colab-df-quickchart-complete');\n",
              "    }\n",
              "    (() => {\n",
              "      let quickchartButtonEl =\n",
              "        document.querySelector('#df-8160f62d-2d92-40a2-85d5-4990dfa04419 button');\n",
              "      quickchartButtonEl.style.display =\n",
              "        google.colab.kernel.accessAllowed ? 'block' : 'none';\n",
              "    })();\n",
              "  </script>\n",
              "</div>\n",
              "    </div>\n",
              "  </div>\n"
            ],
            "text/plain": [
              "   측정나이 측정회원성별  신장 : cm  체중 : kg  체지방율 : %  이완기혈압(최저) : mmHg  \\\n",
              "0  59.0      M    175.0     70.6      19.2              91.0   \n",
              "1  40.0      F    161.4     45.8      21.7              62.0   \n",
              "2  27.0      M    176.6     84.8      19.2              87.0   \n",
              "3  38.0      M    167.6     76.7      24.7              63.0   \n",
              "4  21.0      M    165.2     66.2      21.5              83.0   \n",
              "\n",
              "   수축기혈압(최고) : mmHg  악력D : kg  앉아윗몸앞으로굽히기 : cm  교차윗몸일으키기 : 회  제자리 멀리뛰기 : cm 등급  \n",
              "0             150.0      40.6             12.2          30.0          179.0  C  \n",
              "1             119.0      22.1             16.0          32.0          165.0  B  \n",
              "2             153.0      45.9             13.2          61.0          216.0  B  \n",
              "3             132.0      43.6             16.0          45.0          231.0  A  \n",
              "4             106.0      33.5             10.6          46.0          198.0  C  "
            ]
          },
          "execution_count": 43,
          "metadata": {},
          "output_type": "execute_result"
        }
      ],
      "source": [
        "import pandas as pd\n",
        "df =pd.read_csv('https://raw.githubusercontent.com/Datamanim/datarepo/main/body/body.csv')\n",
        "df.head()"
      ]
    },
    {
      "cell_type": "markdown",
      "metadata": {
        "id": "K2DFAT_MQXrS"
      },
      "source": [
        "78번 bmi보다 체지방율이 높은 사람들의 체중평균을 구하여라"
      ]
    },
    {
      "cell_type": "code",
      "execution_count": null,
      "metadata": {
        "colab": {
          "base_uri": "https://localhost:8080/"
        },
        "id": "9fHIJ2cmQY7D",
        "outputId": "d7414d37-f7df-47b8-c26e-1773456176cc"
      },
      "outputs": [
        {
          "name": "stdout",
          "output_type": "stream",
          "text": [
            "61.7408806392542\n"
          ]
        }
      ],
      "source": [
        "df['bmi'] = df['체중 : kg'] / ((df['신장 : cm']/100)**2)\n",
        "target = df[df['체지방율 : %'] > df.bmi].iloc[:,3].mean()\n",
        "print(target)"
      ]
    },
    {
      "cell_type": "markdown",
      "metadata": {
        "id": "rY6IKoisQZb6"
      },
      "source": [
        "79번 남성과 여성의 악력 평균의 차이를 구하여라"
      ]
    },
    {
      "cell_type": "code",
      "execution_count": null,
      "metadata": {
        "colab": {
          "base_uri": "https://localhost:8080/"
        },
        "id": "wc9Hg0r3Qazj",
        "outputId": "9897af2e-5d53-4c72-f8c6-1d07021b61dd"
      },
      "outputs": [
        {
          "name": "stdout",
          "output_type": "stream",
          "text": [
            "17.55954185047464\n",
            "17.55954185047465\n"
          ]
        }
      ],
      "source": [
        "man = df[(df.측정회원성별=='M')].iloc[:,7].mean()\n",
        "woman = df[(df.측정회원성별=='F')].iloc[:,7].mean()\n",
        "print(man-woman)\n",
        "\n",
        "#다른 방법\n",
        "target = df.groupby('측정회원성별')['악력D : kg'].mean()\n",
        "result = target.M - target.F\n",
        "print(result)"
      ]
    },
    {
      "cell_type": "markdown",
      "metadata": {
        "id": "44YPMBn3Qa-C"
      },
      "source": [
        "80번 남성과 여성의 교차윗몸일으키기 횟수의 평균의 차이를 구하여라"
      ]
    },
    {
      "cell_type": "code",
      "execution_count": null,
      "metadata": {
        "colab": {
          "base_uri": "https://localhost:8080/"
        },
        "id": "jRmvhFnzQcin",
        "outputId": "954f010d-885e-42f7-cfb4-7fdd8c57eec9"
      },
      "outputs": [
        {
          "name": "stdout",
          "output_type": "stream",
          "text": [
            "14.243156833157627\n",
            "14.243156833157627\n"
          ]
        }
      ],
      "source": [
        "man = df[(df.측정회원성별=='M')].iloc[:,9].mean()\n",
        "woman = df[(df.측정회원성별=='F')].iloc[:,9].mean()\n",
        "print(man-woman)\n",
        "\n",
        "#다른 방법\n",
        "target = df.groupby('측정회원성별')['교차윗몸일으키기 : 회'].mean()\n",
        "result = target.M - target.F\n",
        "print(result)"
      ]
    },
    {
      "cell_type": "markdown",
      "metadata": {
        "id": "zh5_EtaiYt9A"
      },
      "source": [
        "#2유형"
      ]
    },
    {
      "cell_type": "code",
      "execution_count": 2,
      "metadata": {
        "colab": {
          "base_uri": "https://localhost:8080/"
        },
        "id": "IbolbBkOYus0",
        "outputId": "7e5508f2-b286-4525-ec75-b567edf38637"
      },
      "outputs": [
        {
          "output_type": "stream",
          "name": "stdout",
          "text": [
            "Cloning into 'yemoonsaBigdata'...\n",
            "remote: Enumerating objects: 637, done.\u001b[K\n",
            "remote: Counting objects: 100% (274/274), done.\u001b[K\n",
            "remote: Compressing objects: 100% (165/165), done.\u001b[K\n",
            "remote: Total 637 (delta 136), reused 184 (delta 109), pack-reused 363\u001b[K\n",
            "Receiving objects: 100% (637/637), 10.76 MiB | 16.52 MiB/s, done.\n",
            "Resolving deltas: 100% (321/321), done.\n"
          ]
        }
      ],
      "source": [
        "#github와 colab 연동\n",
        "!git clone https://github.com/AnalyticsKnight/yemoonsaBigdata"
      ]
    },
    {
      "cell_type": "code",
      "execution_count": 3,
      "metadata": {
        "id": "rU5EKvBvcjmI"
      },
      "outputs": [],
      "source": [
        "import pandas as pd\n",
        "X_test = pd.read_csv('/content/yemoonsaBigdata/datasets/Part3/504_x_test.csv')\n",
        "X_train = pd.read_csv('/content/yemoonsaBigdata/datasets/Part3/504_x_train.csv')\n",
        "y_train = pd.read_csv('/content/yemoonsaBigdata/datasets/Part3/504_y_train.csv')\n",
        "\n",
        "# #데이터 살펴보기\n",
        "# print(X_test.head(5))\n",
        "# print(X_train.head(5))\n",
        "# print(y_train.head(5))\n",
        "\n",
        "# #데이터 정보 보기\n",
        "# print(X_test.info())\n",
        "# print(X_train.info())\n",
        "# print(y_train.info())\n",
        "\n",
        "# #데이터 결측치 확인하기\n",
        "# print(X_test.isnull().sum())\n",
        "# print(X_train.isnull().sum())\n",
        "# print(y_train.isnull().sum())\n",
        "\n",
        "#데이터 분류하기\n",
        "COL_DEL = ['id']\n",
        "COL_NUM = ['year','mileage','tax','mpg','engineSize']\n",
        "COL_CAT = ['model','transmission','fuelType']\n",
        "COL_Y = ['price']\n",
        "\n",
        "#데이터 분할하기\n",
        "from sklearn.model_selection import train_test_split\n",
        "X_tr, X_val, y_tr, y_val = train_test_split(X_train[COL_NUM+COL_CAT],\n",
        "                                            y_train[COL_Y].values.ravel(),\n",
        "                                            test_size=0.3)\n",
        "#데이터 스케일링\n",
        "from sklearn.preprocessing import StandardScaler\n",
        "\n",
        "scaler = StandardScaler()\n",
        "scaler.fit(X_tr[COL_NUM])\n",
        "\n",
        "X_tr[COL_NUM] = scaler.transform(X_tr[COL_NUM])\n",
        "X_val[COL_NUM] = scaler.transform(X_val[COL_NUM])\n",
        "X_test[COL_NUM] = scaler.transform(X_test[COL_NUM])\n",
        "\n",
        "#데이터 인코딩\n",
        "from sklearn.preprocessing import LabelEncoder\n",
        "X = pd.concat([X_train[COL_CAT], X_test[COL_CAT]])\n",
        "for col in COL_CAT:\n",
        "    le = LabelEncoder()\n",
        "    le.fit(X[col])\n",
        "    X_tr[col] = le.transform(X_tr[col])\n",
        "    X_val[col] = le.transform(X_val[col])\n",
        "    X_test[col] = le.transform(X_test[col])"
      ]
    },
    {
      "cell_type": "code",
      "source": [
        "#모델 적용하기\n",
        "from sklearn.ensemble import RandomForestClassifier\n",
        "modelRF = RandomForestClassifier(random_state=123)\n",
        "modelRF.fit(X_tr, y_tr)\n",
        "\n",
        "from xgboost import XGBRegressor\n",
        "modelXGB = XGBRegressor(random_state=123)\n",
        "modelXGB.fit(X_tr, y_tr)\n",
        "\n",
        "#예측값 생성\n",
        "y_val_predRF = modelRF.predict(X_val)\n",
        "y_val_predXGB = modelXGB.predict(X_val)\n",
        "\n",
        "#rmse\n",
        "from sklearn.metrics import mean_squared_error\n",
        "import numpy as np\n",
        "\n",
        "def cal_rmse(actual,pred):\n",
        "    return np.sqrt(mean_squared_error(actual,pred))\n",
        "\n",
        "scoreRF = cal_rmse(y_val, y_val_predRF)\n",
        "scoreXGB = cal_rmse(y_val, y_val_predXGB)\n",
        "\n",
        "print('Random Forest:',scoreRF)\n",
        "print('XGBoost:', scoreXGB)"
      ],
      "metadata": {
        "colab": {
          "base_uri": "https://localhost:8080/"
        },
        "id": "tCtJUjZ3Iy6p",
        "outputId": "b96cfd3b-e9cf-4bea-dc59-245103d166c7"
      },
      "execution_count": 4,
      "outputs": [
        {
          "output_type": "stream",
          "name": "stdout",
          "text": [
            "Random Forest: 2954.388310564956\n",
            "XGBoost: 2351.785716445975\n"
          ]
        }
      ]
    },
    {
      "cell_type": "code",
      "source": [
        "def get_scores(model, X_tr, X_val, y_tr, y_val):\n",
        "    y_tr_pred = model.predict(X_tr)\n",
        "    y_val_pred = model.predict(X_val)\n",
        "    tr_score = cal_rmse(y_tr, y_tr_pred)\n",
        "    val_score = cal_rmse(y_val, y_val_pred)\n",
        "    return f'train: {round(tr_score,4)}, valid: {round(val_score,4)}'\n",
        "\n",
        "print('Random Forest:', get_scores(modelRF, X_tr, X_val, y_tr, y_val))\n",
        "print('XGBoost:', get_scores(modelXGB, X_tr, X_val, y_tr, y_val))"
      ],
      "metadata": {
        "colab": {
          "base_uri": "https://localhost:8080/"
        },
        "id": "YNciZb6qJmuO",
        "outputId": "6db2d8ad-eb20-480d-de3a-653321b6df17"
      },
      "execution_count": 6,
      "outputs": [
        {
          "output_type": "stream",
          "name": "stdout",
          "text": [
            "Random Forest: train: 514.5465, valid: 2954.3883\n",
            "XGBoost: train: 1281.9386, valid: 2351.7857\n"
          ]
        }
      ]
    },
    {
      "cell_type": "code",
      "source": [
        "# #XGBoost 사용!\n",
        "# #하이퍼파라미터 조정\n",
        "# modelXGB2 = XGBRegressor(objective='reg:squarederror',n_estimators=50, max_depth=5, min_child_weight=2, random_state=123)\n",
        "# modelXGB2(X_tr, y_tr)\n",
        "\n",
        "# modelXGB3 = XGBRegressor(objective='reg:squarederror',n_estimators=50, max_depth=10, min_child_weight=2, random_state=123)\n",
        "# modelXGB3(X_tr, y_tr)\n",
        "\n",
        "# modelXGB4 = XGBRegressor(objective='reg:squarederror',n_estimators=100, max_depth=5, min_child_weight=2, random_state=123)\n",
        "# modelXGB4(X_tr, y_tr)\n",
        "\n",
        "# modelXGB5 = XGBRegressor(objective='reg:squarederror',n_estimators=100, max_depth=10, min_child_weight=2, random_state=123)\n",
        "# modelXGB5(X_tr, y_tr)\n",
        "\n",
        "# print('XGBoost2:',get_scores(modelXGB2, X_tr, X_val, y_tr, y_val))\n",
        "# print('XGBoost3:',get_scores(modelXGB3, X_tr, X_val, y_tr, y_val))\n",
        "# print('XGBoost4:',get_scores(modelXGB4, X_tr, X_val, y_tr, y_val))\n",
        "# print('XGBoost5:',get_scores(modelXGB5, X_tr, X_val, y_tr, y_val))\n",
        "\n",
        "#최종 결괏값 생성\n",
        "# pred = modelXGB4.predict(X_test[COL_NUM+COL_CAT])\n",
        "# result = pd.DataFrame({'id:'X_test.id, 'price:'pred})\n",
        "# print(result.head())\n",
        "\n",
        "# result.to_csv('007000955.csv', index=False)"
      ],
      "metadata": {
        "id": "vw3-RWnWKT7z"
      },
      "execution_count": 8,
      "outputs": []
    },
    {
      "cell_type": "markdown",
      "source": [
        "#3유형"
      ],
      "metadata": {
        "id": "WoNLnkx-LWIn"
      }
    },
    {
      "cell_type": "markdown",
      "source": [
        "## 1. 단일표본  T-검정"
      ],
      "metadata": {
        "id": "mfL0UBOQLfai"
      }
    },
    {
      "cell_type": "code",
      "source": [
        "import pandas as pd\n",
        "import scipy.stats as stats\n",
        "from math import sqrt\n",
        "\n",
        "a = pd.read_csv('/content/yemoonsaBigdata/datasets/supplement/trees.csv')\n",
        "X = a['Height'].mean()\n",
        "print(round(X,2))\n",
        "print('-'*80)\n",
        "\n",
        "t_score, p_value = stats.ttest_1samp(a['Height'],75)\n",
        "print(round(t_score,2))\n",
        "print('-'*80)\n",
        "\n",
        "print(round(p_value,4))\n",
        "if p_value >0.05:\n",
        "    print('채택')\n",
        "else:\n",
        "    print('기각')"
      ],
      "metadata": {
        "colab": {
          "base_uri": "https://localhost:8080/"
        },
        "id": "16UTM_WZLWrI",
        "outputId": "5ae0e856-7971-46cf-a95f-67fdf7bb94f3"
      },
      "execution_count": 20,
      "outputs": [
        {
          "output_type": "stream",
          "name": "stdout",
          "text": [
            "76.0\n",
            "--------------------------------------------------------------------------------\n",
            "0.87\n",
            "--------------------------------------------------------------------------------\n",
            "0.3892\n",
            "채택\n"
          ]
        }
      ]
    },
    {
      "cell_type": "markdown",
      "source": [
        "##2. 독립표본 T-검정"
      ],
      "metadata": {
        "id": "2w_CDfxqLi_Q"
      }
    },
    {
      "cell_type": "code",
      "source": [
        "import pandas as pd\n",
        "import scipy.stats as stats\n",
        "from math import sqrt\n",
        "\n",
        "b = pd.read_csv('/content/yemoonsaBigdata/datasets/supplement/toothgrowth.csv')\n",
        "\n",
        "stats.levene(b.loc[b.supp=='VC','len'],b.loc[b.supp=='OJ','len'])\n",
        "VC_b = b.loc[b.supp=='VC']\n",
        "OJ_b = b.loc[b.supp=='OJ']\n",
        "\n",
        "VC_X = VC_b['len'].mean()\n",
        "OJ_X = OJ_b['len'].mean()\n",
        "\n",
        "print(round(VC_X,2), round(OJ_X,2))\n",
        "print('-'*80)\n",
        "\n",
        "t_score,p_value = stats.ttest_ind(VC_b['len'], OJ_b['len'], equal_var=False)\n",
        "print(round(t_score,2))\n",
        "print('-'*80)\n",
        "\n",
        "print(round(p_value,4))\n",
        "if p_value>0.05:\n",
        "    print('채택')\n",
        "else:\n",
        "    print('기각')"
      ],
      "metadata": {
        "colab": {
          "base_uri": "https://localhost:8080/"
        },
        "id": "SoqgLT33LmLJ",
        "outputId": "b7bb9af8-1ed2-4f82-9dff-cf76a68fc558"
      },
      "execution_count": 27,
      "outputs": [
        {
          "output_type": "stream",
          "name": "stdout",
          "text": [
            "16.96 20.66\n",
            "--------------------------------------------------------------------------------\n",
            "-1.92\n",
            "--------------------------------------------------------------------------------\n",
            "0.0606\n",
            "채택\n"
          ]
        }
      ]
    },
    {
      "cell_type": "markdown",
      "source": [
        "##3. 쌍체표본 T-검정"
      ],
      "metadata": {
        "id": "Xp__uschPmvB"
      }
    },
    {
      "cell_type": "code",
      "source": [
        "import pandas as pd\n",
        "import scipy.stats as stats\n",
        "from math import sqrt\n",
        "\n",
        "c = pd.read_csv('/content/yemoonsaBigdata/datasets/supplement/insectsprays.csv')\n",
        "diff = c['after_spr']=c['before_spr']\n",
        "m_d = diff.mean()\n",
        "print(round(m_d,2))\n",
        "print('-'*80)\n",
        "\n",
        "t_score, p_value = stats.ttest_rel(c['before_spr'],c['after_spr'], alternative='greater')\n",
        "print(round(t_score,2))\n",
        "print('-'*80)\n",
        "\n",
        "print(round(p_value,4))\n",
        "if p_value>0.05:\n",
        "    print('채택')\n",
        "else:\n",
        "    print('기각')"
      ],
      "metadata": {
        "colab": {
          "base_uri": "https://localhost:8080/"
        },
        "id": "iKncfwRUPpBy",
        "outputId": "cc4aca51-50d1-4374-991c-cfc21cddaf70"
      },
      "execution_count": 34,
      "outputs": [
        {
          "output_type": "stream",
          "name": "stdout",
          "text": [
            "15.5\n",
            "--------------------------------------------------------------------------------\n",
            "nan\n",
            "--------------------------------------------------------------------------------\n",
            "nan\n",
            "기각\n"
          ]
        }
      ]
    },
    {
      "cell_type": "markdown",
      "source": [
        "##4. 일원분산분석"
      ],
      "metadata": {
        "id": "lnuoMRHbQh73"
      }
    },
    {
      "cell_type": "code",
      "source": [
        "import pandas as pd\n",
        "import scipy.stats as stats\n",
        "from math import sqrt\n",
        "\n",
        "d = pd.read_csv('/content/yemoonsaBigdata/datasets/supplement/iris.csv')\n",
        "\n",
        "result = d.loc[d['species']=='versicolor','sepal_width'].mean()\n",
        "print(round(result,2))\n",
        "print('-'*80)\n",
        "\n",
        "X1 = d.loc[d['species']=='setosa','sepal_width']\n",
        "X2 = d.loc[d['species']=='versicolor','sepal_width']\n",
        "X3 = d.loc[d['species']=='virginica','sepal_width']\n",
        "\n",
        "test_result = stats.f_oneway(X1,X2,X3)\n",
        "print(round(test_result.statistic,2))\n",
        "print('-'*80)\n",
        "\n",
        "p_value = test_result.pvalue\n",
        "print(round(p_value,4))\n",
        "print('-'*80)\n",
        "\n",
        "if p_value>0.05:\n",
        "    print('채택')\n",
        "else:\n",
        "    print('기각')"
      ],
      "metadata": {
        "colab": {
          "base_uri": "https://localhost:8080/"
        },
        "id": "xE2NCUSaQjcd",
        "outputId": "a0a9f75a-916d-4744-d243-9aea5f2a9d83"
      },
      "execution_count": 40,
      "outputs": [
        {
          "output_type": "stream",
          "name": "stdout",
          "text": [
            "2.77\n",
            "--------------------------------------------------------------------------------\n",
            "49.16\n",
            "--------------------------------------------------------------------------------\n",
            "0.0\n",
            "--------------------------------------------------------------------------------\n",
            "기각\n"
          ]
        }
      ]
    },
    {
      "cell_type": "markdown",
      "source": [
        "##5. 카이제곱검정(적합도 검정)"
      ],
      "metadata": {
        "id": "LARsEjmyRcfZ"
      }
    },
    {
      "cell_type": "code",
      "source": [
        "import pandas as pd\n",
        "import scipy.stats as stats\n",
        "from math import sqrt\n",
        "\n",
        "e = pd.read_csv('/content/yemoonsaBigdata/datasets/supplement/cellphone.csv')\n",
        "e.head()\n",
        "\n",
        "count_df = e.groupby('제조사').count()\n",
        "print(count_df)\n",
        "print('-'*80)\n",
        "\n",
        "result = count_df.loc['삼성','id']-count_df.loc['애플','id']\n",
        "print(result)\n",
        "print('-'*80)\n",
        "\n",
        "total_sum = len(e)\n",
        "expected = [int(total_sum*0.1),\n",
        "            int(total_sum*0.6),\n",
        "            int(total_sum*0.3)]\n",
        "print(expected)\n",
        "print('-'*80)\n",
        "\n",
        "observed = count_df['id'].values\n",
        "test_result = stats.chisquare(observed, f_exp=expected)\n",
        "result = round(test_result.statistic,2)\n",
        "print(result)\n",
        "print('-'*80)\n",
        "\n",
        "p_value = test_result.pvalue\n",
        "print(round(p_value,4))\n",
        "if p_value>0.05:\n",
        "    print('채택')\n",
        "else:\n",
        "    print('기각')"
      ],
      "metadata": {
        "colab": {
          "base_uri": "https://localhost:8080/"
        },
        "id": "fFqeZmUvRfUQ",
        "outputId": "6c13968b-d0df-4898-88b9-98c8ad2f26bf"
      },
      "execution_count": 48,
      "outputs": [
        {
          "output_type": "stream",
          "name": "stdout",
          "text": [
            "      id\n",
            "제조사     \n",
            "기타     5\n",
            "삼성   117\n",
            "애플    78\n",
            "--------------------------------------------------------------------------------\n",
            "39\n",
            "--------------------------------------------------------------------------------\n",
            "[20, 120, 60]\n",
            "--------------------------------------------------------------------------------\n",
            "16.73\n",
            "--------------------------------------------------------------------------------\n",
            "0.0002\n",
            "기각\n"
          ]
        }
      ]
    },
    {
      "cell_type": "markdown",
      "source": [
        "##6. 카이제곱검정 (독립성 검정)"
      ],
      "metadata": {
        "id": "X1JbUrFsSZzp"
      }
    },
    {
      "cell_type": "code",
      "source": [
        "import pandas as pd\n",
        "import scipy.stats as stats\n",
        "from math import sqrt\n",
        "\n",
        "data = pd.read_csv('/content/yemoonsaBigdata/datasets/supplement/student.csv')\n",
        "\n",
        "table = pd.crosstab(data['단과대학'],data['수강 과목 수'])\n",
        "print(table)\n",
        "print('-'*80)\n",
        "\n",
        "result = table[table['6개 이상']==table['6개 이상'].max()].index[0]\n",
        "print(result)\n",
        "print('-'*80)\n",
        "\n",
        "X1 = table.loc['경영대학',:]\n",
        "X2 = table.loc['자연대학',:]\n",
        "X3 = table.loc['공과대학',:]\n",
        "\n",
        "test_result = stats.chi2_contingency([X1,X2,X3])\n",
        "result = test_result.statistic\n",
        "print(round(result,2))\n",
        "\n",
        "p_value = test_result.pvalue\n",
        "print(round(p_value,4))\n",
        "\n",
        "if p_value>0.05:\n",
        "    print('채택')\n",
        "else:\n",
        "    print('기각')"
      ],
      "metadata": {
        "colab": {
          "base_uri": "https://localhost:8080/"
        },
        "id": "poof3f6rSd0N",
        "outputId": "06ad3131-1939-40ec-cc38-9bd1542e14d9"
      },
      "execution_count": 55,
      "outputs": [
        {
          "output_type": "stream",
          "name": "stdout",
          "text": [
            "수강 과목 수  4개 이하  5개  6개 이상\n",
            "단과대학                     \n",
            "경영대학        12  78     30\n",
            "공과대학        30  42     28\n",
            "자연대학        30  42      8\n",
            "--------------------------------------------------------------------------------\n",
            "경영대학\n",
            "--------------------------------------------------------------------------------\n",
            "30.13\n",
            "0.0\n",
            "기각\n"
          ]
        }
      ]
    }
  ],
  "metadata": {
    "colab": {
      "provenance": [],
      "authorship_tag": "ABX9TyN0DguDS735WKOM+ewLxZVo",
      "include_colab_link": true
    },
    "kernelspec": {
      "display_name": "Python 3",
      "name": "python3"
    },
    "language_info": {
      "name": "python"
    }
  },
  "nbformat": 4,
  "nbformat_minor": 0
}