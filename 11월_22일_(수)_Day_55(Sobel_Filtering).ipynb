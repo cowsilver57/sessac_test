{
  "nbformat": 4,
  "nbformat_minor": 0,
  "metadata": {
    "colab": {
      "provenance": [],
      "authorship_tag": "ABX9TyMwY+z1O04x15gHQ9vncbsm",
      "include_colab_link": true
    },
    "kernelspec": {
      "name": "python3",
      "display_name": "Python 3"
    },
    "language_info": {
      "name": "python"
    }
  },
  "cells": [
    {
      "cell_type": "markdown",
      "metadata": {
        "id": "view-in-github",
        "colab_type": "text"
      },
      "source": [
        "<a href=\"https://colab.research.google.com/github/cowsilver57/sessac_test/blob/main/11%EC%9B%94_22%EC%9D%BC_(%EC%88%98)_Day_55(Sobel_Filtering).ipynb\" target=\"_parent\"><img src=\"https://colab.research.google.com/assets/colab-badge.svg\" alt=\"Open In Colab\"/></a>"
      ]
    },
    {
      "cell_type": "markdown",
      "source": [
        "# Sobel Filtering"
      ],
      "metadata": {
        "id": "e7VixQnR71DY"
      }
    },
    {
      "cell_type": "markdown",
      "source": [
        "## ndarray review"
      ],
      "metadata": {
        "id": "Cj-0UMqo8feI"
      }
    },
    {
      "cell_type": "code",
      "source": [
        "import numpy as np\n",
        "import matplotlib.pyplot as plt\n",
        "\n",
        "tmp = np.ones(shape=(2,3))\n",
        "print(tmp, '\\n')\n",
        "\n",
        "tmp2 = 10*tmp\n",
        "print(tmp2)"
      ],
      "metadata": {
        "colab": {
          "base_uri": "https://localhost:8080/"
        },
        "id": "LrB5tUULk2SS",
        "outputId": "4835b189-2b90-4af8-b527-b64a52671b65"
      },
      "execution_count": null,
      "outputs": [
        {
          "output_type": "stream",
          "name": "stdout",
          "text": [
            "[[1. 1. 1.]\n",
            " [1. 1. 1.]] \n",
            "\n",
            "[[10. 10. 10.]\n",
            " [10. 10. 10.]]\n"
          ]
        }
      ]
    },
    {
      "cell_type": "markdown",
      "source": [
        "###Check Pattern Image"
      ],
      "metadata": {
        "id": "RTyaku_G836U"
      }
    },
    {
      "cell_type": "code",
      "source": [
        "import numpy as np\n",
        "import matplotlib.pyplot as plt\n",
        "\n",
        "#(10,10)짜리 흰색 패치 만들기 => 255로 채우기\n",
        "white_patch = 255*np.ones(shape=(10,10))\n",
        "#(10,10)짜리 검은색 패치 만들기 => 0로 채우기\n",
        "black_patch = 0*np.ones(shape=(10,10))\n",
        "\n",
        "img1 = np.hstack([white_patch, black_patch])\n",
        "img2 = np.hstack([black_patch, white_patch])\n",
        "img = np.vstack([img1, img2])\n",
        "\n",
        "fig, ax = plt.subplots(figsize=(5,5))\n",
        "ax.imshow(img, cmap='gray')\n",
        "ax.tick_params(left=False, labelleft=False, bottom=False, labelbottom=False)"
      ],
      "metadata": {
        "id": "WtQ-j9Ro8eJq",
        "colab": {
          "base_uri": "https://localhost:8080/",
          "height": 422
        },
        "outputId": "a7f05692-facf-4f15-a95e-6e21a6adb0c5"
      },
      "execution_count": 7,
      "outputs": [
        {
          "output_type": "display_data",
          "data": {
            "text/plain": [
              "<Figure size 500x500 with 1 Axes>"
            ],
            "image/png": "[encoded data removed]"
          },
          "metadata": {}
        }
      ]
    },
    {
      "cell_type": "code",
      "source": [
        "import numpy as np\n",
        "import matplotlib.pyplot as plt\n",
        "\n",
        "white_patch = 255*np.ones(shape=(10,10))\n",
        "black_patch = 0*np.ones(shape=(10,10))\n",
        "\n",
        "img1 = np.hstack([white_patch, black_patch, white_patch])\n",
        "img2 = np.hstack([black_patch, white_patch, black_patch])\n",
        "img = np.vstack([img1, img2, img1])\n",
        "\n",
        "fig, ax = plt.subplots(figsize=(5,5))\n",
        "ax.imshow(img, cmap='gray')\n",
        "ax.tick_params(left=False, labelleft=False, bottom=False, labelbottom=False)"
      ],
      "metadata": {
        "colab": {
          "base_uri": "https://localhost:8080/",
          "height": 422
        },
        "id": "wyoFChHm-DZa",
        "outputId": "b9d21ee0-ef48-4d40-f264-e905b6ab57ac"
      },
      "execution_count": 8,
      "outputs": [
        {
          "output_type": "display_data",
          "data": {
            "text/plain": [
              "<Figure size 500x500 with 1 Axes>"
            ],
            "image/png": "[encoded data removed]"
          },
          "metadata": {}
        }
      ]
    },
    {
      "cell_type": "markdown",
      "source": [
        "##np.repeat & np.tile"
      ],
      "metadata": {
        "id": "KFJpXLUW-v5C"
      }
    },
    {
      "cell_type": "code",
      "source": [
        "import numpy as np\n",
        "data = np.arange(5)\n",
        "print(data)\n",
        "\n",
        "#원소별 반복\n",
        "print(\"repeat:\", np.repeat(data, repeats=3))\n",
        "#전체 패턴 반복\n",
        "print(\"tile:\", np.tile(data, reps=3))"
      ],
      "metadata": {
        "colab": {
          "base_uri": "https://localhost:8080/"
        },
        "id": "1YNip0XB-xwV",
        "outputId": "f76e6faa-13f7-455b-b9af-5ce1b7d87382"
      },
      "execution_count": 10,
      "outputs": [
        {
          "output_type": "stream",
          "name": "stdout",
          "text": [
            "[0 1 2 3 4]\n",
            "repeat: [0 0 0 1 1 1 2 2 2 3 3 3 4 4 4]\n",
            "tile: [0 1 2 3 4 0 1 2 3 4 0 1 2 3 4]\n"
          ]
        }
      ]
    },
    {
      "cell_type": "code",
      "source": [
        "import numpy as np\n",
        "\n",
        "data = np.arange(6).reshape(2,3)\n",
        "print(data,'\\n')\n",
        "\n",
        "print(\"repeat(axis=0):\\n\",\n",
        "      np.repeat(data, repeats=3, axis=0),'\\n')\n",
        "print(\"repeat(axis=1):\\n\",\n",
        "      np.repeat(data, repeats=3, axis=1),'\\n')\n",
        "print(\"repeat(axis=0 and axis=1):\\n\",\n",
        "      np.repeat(np.repeat(data, repeats=2, axis=0),repeats=3, axis=1))"
      ],
      "metadata": {
        "colab": {
          "base_uri": "https://localhost:8080/"
        },
        "id": "hvFr-ZxO_V-C",
        "outputId": "318b4d1d-e6b0-47fc-e7cb-6815a8f8d526"
      },
      "execution_count": 6,
      "outputs": [
        {
          "output_type": "stream",
          "name": "stdout",
          "text": [
            "[[0 1 2]\n",
            " [3 4 5]] \n",
            "\n",
            "repeat(axis=0):\n",
            " [[0 1 2]\n",
            " [0 1 2]\n",
            " [0 1 2]\n",
            " [3 4 5]\n",
            " [3 4 5]\n",
            " [3 4 5]] \n",
            "\n",
            "repeat(axis=1):\n",
            " [[0 0 0 1 1 1 2 2 2]\n",
            " [3 3 3 4 4 4 5 5 5]] \n",
            "\n",
            "repeat(axis=0 and axis=1):\n",
            " [[0 0 0 1 1 1 2 2 2]\n",
            " [0 0 0 1 1 1 2 2 2]\n",
            " [3 3 3 4 4 4 5 5 5]\n",
            " [3 3 3 4 4 4 5 5 5]]\n"
          ]
        }
      ]
    },
    {
      "cell_type": "code",
      "source": [
        "import numpy as np\n",
        "\n",
        "data = np.arange(6).reshape(2,3)\n",
        "print(data,'\\n')\n",
        "\n",
        "print('tile(axis=0):\\n',\n",
        "      np.tile(data,reps=[3,1]),'\\n')\n",
        "print('tile(axis=1):\\n',\n",
        "      np.tile(data,reps=[1,3]),'\\n')\n",
        "print('tile(axis=0 and axis=1):\\n',\n",
        "      np.tile(data,reps=[3,3]))"
      ],
      "metadata": {
        "colab": {
          "base_uri": "https://localhost:8080/"
        },
        "id": "abpHo2mBCFbi",
        "outputId": "dec9c382-ca9f-4da1-e362-c4e827cdf0f5"
      },
      "execution_count": 9,
      "outputs": [
        {
          "output_type": "stream",
          "name": "stdout",
          "text": [
            "[[0 1 2]\n",
            " [3 4 5]] \n",
            "\n",
            "tile(axis=0):\n",
            " [[0 1 2]\n",
            " [3 4 5]\n",
            " [0 1 2]\n",
            " [3 4 5]\n",
            " [0 1 2]\n",
            " [3 4 5]] \n",
            "\n",
            "tile(axis=1):\n",
            " [[0 1 2 0 1 2 0 1 2]\n",
            " [3 4 5 3 4 5 3 4 5]] \n",
            "\n",
            "tile(axis=0 and axis=1):\n",
            " [[0 1 2 0 1 2 0 1 2]\n",
            " [3 4 5 3 4 5 3 4 5]\n",
            " [0 1 2 0 1 2 0 1 2]\n",
            " [3 4 5 3 4 5 3 4 5]\n",
            " [0 1 2 0 1 2 0 1 2]\n",
            " [3 4 5 3 4 5 3 4 5]]\n"
          ]
        }
      ]
    },
    {
      "cell_type": "markdown",
      "source": [
        "###Check Pattern Image"
      ],
      "metadata": {
        "id": "f02PlParZNKC"
      }
    },
    {
      "cell_type": "code",
      "source": [
        "#방법1\n",
        "import numpy as np\n",
        "import matplotlib.pyplot as plt\n",
        "\n",
        "white_patch = 255*np.ones(shape=(10,10))\n",
        "black_patch = 0*np.ones(shape=(10,10))\n",
        "\n",
        "img1 = np.tile(np.hstack([white_patch, black_patch]), reps=[1,4])\n",
        "img2 = np.tile(np.hstack([black_patch, white_patch]), reps=[1,4])\n",
        "img = np.tile(np.vstack([img1, img2]), reps=[4,1])\n",
        "\n",
        "fig, ax = plt.subplots(figsize=(5,5))\n",
        "ax.imshow(img, cmap='gray')\n",
        "ax.tick_params(left=False, labelleft=False, bottom=False, labelbottom=False)"
      ],
      "metadata": {
        "colab": {
          "base_uri": "https://localhost:8080/",
          "height": 422
        },
        "id": "jhyDEuV4DSOe",
        "outputId": "c0afc5db-ccc6-4192-bdea-011672f62e39"
      },
      "execution_count": 23,
      "outputs": [
        {
          "output_type": "display_data",
          "data": {
            "text/plain": [
              "<Figure size 500x500 with 1 Axes>"
            ],
            "image/png": "[encoded data removed]"
          },
          "metadata": {}
        }
      ]
    },
    {
      "cell_type": "code",
      "source": [
        "#방법2 (강사님 방법)\n",
        "import numpy as np\n",
        "import matplotlib.pyplot as plt\n",
        "\n",
        "white_patch = 255*np.ones(shape=(10,10))\n",
        "black_patch = 0*np.ones(shape=(10,10))\n",
        "\n",
        "img1 = np.hstack([white_patch, black_patch])\n",
        "img2 = np.hstack([black_patch, white_patch])\n",
        "img = np.vstack([img1, img2])\n",
        "\n",
        "img = np.tile(img, reps=[4,4])\n",
        "\n",
        "fig, ax = plt.subplots(figsize=(5,5))\n",
        "ax.imshow(img, cmap='gray')\n",
        "ax.tick_params(left=False, labelleft=False, bottom=False, labelbottom=False)"
      ],
      "metadata": {
        "colab": {
          "base_uri": "https://localhost:8080/",
          "height": 422
        },
        "id": "gGd09abLYV_S",
        "outputId": "84435565-f37c-421f-be39-5896e66fee62"
      },
      "execution_count": 24,
      "outputs": [
        {
          "output_type": "display_data",
          "data": {
            "text/plain": [
              "<Figure size 500x500 with 1 Axes>"
            ],
            "image/png": "[encoded data removed]"
          },
          "metadata": {}
        }
      ]
    },
    {
      "cell_type": "code",
      "source": [
        "import numpy as np\n",
        "import matplotlib.pyplot as plt\n",
        "\n",
        "white_patch = 255*np.ones(shape=(10,10))\n",
        "black_patch = 0*np.ones(shape=(10,10))\n",
        "gray_patch = 125*np.ones(shape=(10,10))\n",
        "\n",
        "img1 = np.hstack([white_patch, gray_patch])\n",
        "img2 = np.hstack([gray_patch, black_patch])\n",
        "img = np.vstack([img1, img2])\n",
        "\n",
        "img = np.tile(img, reps=[4,4])\n",
        "\n",
        "fig, ax = plt.subplots(figsize=(5,5))\n",
        "ax.imshow(img, cmap='gray')\n",
        "ax.tick_params(left=False, labelleft=False, bottom=False, labelbottom=False)"
      ],
      "metadata": {
        "colab": {
          "base_uri": "https://localhost:8080/",
          "height": 422
        },
        "id": "ZxOAFtw1avgi",
        "outputId": "b095e8fa-3cce-44c3-c27b-f26b69142c3a"
      },
      "execution_count": 28,
      "outputs": [
        {
          "output_type": "display_data",
          "data": {
            "text/plain": [
              "<Figure size 500x500 with 1 Axes>"
            ],
            "image/png": "[encoded data removed]"
          },
          "metadata": {}
        }
      ]
    },
    {
      "cell_type": "markdown",
      "source": [
        "##Grayscale Gradation Image w/ np.repeat"
      ],
      "metadata": {
        "id": "XI4MFLXLcZGq"
      }
    },
    {
      "cell_type": "code",
      "source": [
        "import numpy as np\n",
        "import matplotlib.pyplot as plt\n",
        "\n",
        "img = np.arange(0,256,50).reshape(1,-1)\n",
        "img = img.repeat(100, axis=0).repeat(30, axis=1)\n",
        "\n",
        "fig, ax = plt.subplots(figsize=(8,4))\n",
        "ax.imshow(img, cmap='gray')\n",
        "ax.tick_params(left=False, labelleft=False, bottom=False, labelbottom=False)"
      ],
      "metadata": {
        "colab": {
          "base_uri": "https://localhost:8080/",
          "height": 345
        },
        "id": "xvUva3cPbo9L",
        "outputId": "88450134-40b2-41ea-da94-32c0ead16a5d"
      },
      "execution_count": 31,
      "outputs": [
        {
          "output_type": "display_data",
          "data": {
            "text/plain": [
              "<Figure size 800x400 with 1 Axes>"
            ],
            "image/png": "[encoded data removed]"
          },
          "metadata": {}
        }
      ]
    },
    {
      "cell_type": "code",
      "source": [
        "import numpy as np\n",
        "import matplotlib.pyplot as plt\n",
        "\n",
        "img = np.arange(0,256,80).reshape(1,-1)\n",
        "img = img.repeat(100, axis=0).repeat(30, axis=1)\n",
        "\n",
        "fig, ax = plt.subplots(figsize=(8,4))\n",
        "ax.imshow(img, cmap='gray')\n",
        "ax.tick_params(left=False, labelleft=False, bottom=False, labelbottom=False)"
      ],
      "metadata": {
        "colab": {
          "base_uri": "https://localhost:8080/",
          "height": 345
        },
        "id": "6GJPvs9Qdaj5",
        "outputId": "ec1a776d-e899-4337-a203-31b56267dd86"
      },
      "execution_count": 39,
      "outputs": [
        {
          "output_type": "display_data",
          "data": {
            "text/plain": [
              "<Figure size 800x400 with 1 Axes>"
            ],
            "image/png": "[encoded data removed]"
          },
          "metadata": {}
        }
      ]
    },
    {
      "cell_type": "code",
      "source": [
        "#강사님 답\n",
        "import numpy as np\n",
        "import matplotlib.pyplot as plt\n",
        "\n",
        "img = np.arange(0,151,50).reshape(1,-1)\n",
        "img = img.repeat(100, axis=0).repeat(30, axis=1)\n",
        "\n",
        "fig, ax = plt.subplots(figsize=(8,4))\n",
        "ax.imshow(img, cmap='gray')\n",
        "ax.tick_params(left=False, labelleft=False, bottom=False, labelbottom=False)\n",
        "\n",
        "#또 다른 답\n",
        "import numpy as np\n",
        "import matplotlib.pyplot as plt\n",
        "\n",
        "img = np.arange(0,151,50).reshape(1,-1)\n",
        "img = img.repeat(100, axis=0).repeat(30, axis=1)\n",
        "\n",
        "fig, ax = plt.subplots(figsize=(8,4))\n",
        "ax.imshow(img, cmap='gray', vmax=255, vmin=0)\n",
        "ax.tick_params(left=False, labelleft=False, bottom=False, labelbottom=False)"
      ],
      "metadata": {
        "colab": {
          "base_uri": "https://localhost:8080/",
          "height": 673
        },
        "id": "Dr796DQweCTS",
        "outputId": "9ecb12e1-6a60-4597-cdb7-b21b90032853"
      },
      "execution_count": 41,
      "outputs": [
        {
          "output_type": "display_data",
          "data": {
            "text/plain": [
              "<Figure size 800x400 with 1 Axes>"
            ],
            "image/png": "[encoded data removed]"
          },
          "metadata": {}
        },
        {
          "output_type": "display_data",
          "data": {
            "text/plain": [
              "<Figure size 800x400 with 1 Axes>"
            ],
            "image/png": "[encoded data removed]"
          },
          "metadata": {}
        }
      ]
    },
    {
      "cell_type": "code",
      "source": [
        "import numpy as np\n",
        "import matplotlib.pyplot as plt\n",
        "\n",
        "img = np.arange(0,256,50)[::-1].reshape(-1,1)\n",
        "img = img.repeat(30, axis=0).repeat(100, axis=1)\n",
        "\n",
        "fig, ax = plt.subplots(figsize=(4,8))\n",
        "ax.imshow(img, cmap='gray')\n",
        "ax.tick_params(left=False, labelleft=False, bottom=False, labelbottom=False)"
      ],
      "metadata": {
        "colab": {
          "base_uri": "https://localhost:8080/",
          "height": 594
        },
        "id": "dse-L9j2e2wi",
        "outputId": "38742230-85f7-4130-87eb-b470840183fd"
      },
      "execution_count": 48,
      "outputs": [
        {
          "output_type": "display_data",
          "data": {
            "text/plain": [
              "<Figure size 400x800 with 1 Axes>"
            ],
            "image/png": "[encoded data removed]"
          },
          "metadata": {}
        }
      ]
    },
    {
      "cell_type": "code",
      "source": [
        "import numpy as np\n",
        "import matplotlib.pyplot as plt\n",
        "\n",
        "img1 = np.arange(0,151,1).reshape(1,-1)\n",
        "img1 = img1.repeat(80, axis=0).repeat(1, axis=1)\n",
        "img2 = np.arange(0,151,1)[::-1].reshape(1,-1)\n",
        "img2 = img2.repeat(80, axis=0).repeat(1, axis=1)\n",
        "\n",
        "img = np.vstack([img1, img2])\n",
        "\n",
        "fig, ax = plt.subplots(figsize=(6,6))\n",
        "ax.imshow(img, cmap='gray')\n",
        "ax.tick_params(left=False, labelleft=False, bottom=False, labelbottom=False)"
      ],
      "metadata": {
        "colab": {
          "base_uri": "https://localhost:8080/",
          "height": 499
        },
        "id": "orrsqTPAggyT",
        "outputId": "6398f036-27d8-4682-96ca-288de0c367ed"
      },
      "execution_count": 75,
      "outputs": [
        {
          "output_type": "display_data",
          "data": {
            "text/plain": [
              "<Figure size 600x600 with 1 Axes>"
            ],
            "image/png": "[encoded data removed]"
          },
          "metadata": {}
        }
      ]
    },
    {
      "cell_type": "markdown",
      "source": [
        "#1-Dimensional Window Extraction"
      ],
      "metadata": {
        "id": "YTQdXNq3n7Bb"
      }
    },
    {
      "cell_type": "code",
      "source": [
        "import numpy as np\n",
        "data = 10*np.arange(1,11)\n",
        "\n",
        "L = len(data)\n",
        "W = 3\n",
        "print(data, '\\n')\n",
        "\n",
        "L_ = L - W + 1\n",
        "for idx in range(L_):\n",
        "    print(data[idx:idx+W])"
      ],
      "metadata": {
        "colab": {
          "base_uri": "https://localhost:8080/"
        },
        "id": "OUUIKKrgn9H4",
        "outputId": "4489b051-fef2-4610-f071-721fb5f06fea"
      },
      "execution_count": 80,
      "outputs": [
        {
          "output_type": "stream",
          "name": "stdout",
          "text": [
            "[ 10  20  30  40  50  60  70  80  90 100] \n",
            "\n",
            "[10 20 30]\n",
            "[20 30 40]\n",
            "[30 40 50]\n",
            "[40 50 60]\n",
            "[50 60 70]\n",
            "[60 70 80]\n",
            "[70 80 90]\n",
            "[ 80  90 100]\n"
          ]
        }
      ]
    },
    {
      "cell_type": "markdown",
      "source": [
        "#2-Dimensional Window Extraction"
      ],
      "metadata": {
        "id": "xC66jP3zrAbB"
      }
    },
    {
      "cell_type": "code",
      "source": [
        "import numpy as np\n",
        "\n",
        "column = np.arange(1,8)\n",
        "row = np.arange(5).reshape(-1, 1)\n",
        "data = 10 * (row + column)\n",
        "\n",
        "print(data)\n",
        "print('-'*80)\n",
        "\n",
        "L = len(row)*len(column) #35\n",
        "W = 3\n",
        "\n",
        "H_ = len(row) - W + 1 #3\n",
        "W_ = len(column) - W + 1 #5\n",
        "\n",
        "for row_idx in range(H_):\n",
        "    for col_idx in range(W_):\n",
        "        print(data[row_idx:row_idx+W, col_idx:col_idx+W],'\\n')"
      ],
      "metadata": {
        "colab": {
          "base_uri": "https://localhost:8080/"
        },
        "id": "0rJpyuiSrDGn",
        "outputId": "9aa34a2c-ba3e-4cfe-97f0-54166ab42371"
      },
      "execution_count": 128,
      "outputs": [
        {
          "output_type": "stream",
          "name": "stdout",
          "text": [
            "[[ 10  20  30  40  50  60  70]\n",
            " [ 20  30  40  50  60  70  80]\n",
            " [ 30  40  50  60  70  80  90]\n",
            " [ 40  50  60  70  80  90 100]\n",
            " [ 50  60  70  80  90 100 110]]\n",
            "--------------------------------------------------------------------------------\n",
            "[[10 20 30]\n",
            " [20 30 40]\n",
            " [30 40 50]] \n",
            "\n",
            "[[20 30 40]\n",
            " [30 40 50]\n",
            " [40 50 60]] \n",
            "\n",
            "[[30 40 50]\n",
            " [40 50 60]\n",
            " [50 60 70]] \n",
            "\n",
            "[[40 50 60]\n",
            " [50 60 70]\n",
            " [60 70 80]] \n",
            "\n",
            "[[50 60 70]\n",
            " [60 70 80]\n",
            " [70 80 90]] \n",
            "\n",
            "[[20 30 40]\n",
            " [30 40 50]\n",
            " [40 50 60]] \n",
            "\n",
            "[[30 40 50]\n",
            " [40 50 60]\n",
            " [50 60 70]] \n",
            "\n",
            "[[40 50 60]\n",
            " [50 60 70]\n",
            " [60 70 80]] \n",
            "\n",
            "[[50 60 70]\n",
            " [60 70 80]\n",
            " [70 80 90]] \n",
            "\n",
            "[[ 60  70  80]\n",
            " [ 70  80  90]\n",
            " [ 80  90 100]] \n",
            "\n",
            "[[30 40 50]\n",
            " [40 50 60]\n",
            " [50 60 70]] \n",
            "\n",
            "[[40 50 60]\n",
            " [50 60 70]\n",
            " [60 70 80]] \n",
            "\n",
            "[[50 60 70]\n",
            " [60 70 80]\n",
            " [70 80 90]] \n",
            "\n",
            "[[ 60  70  80]\n",
            " [ 70  80  90]\n",
            " [ 80  90 100]] \n",
            "\n",
            "[[ 70  80  90]\n",
            " [ 80  90 100]\n",
            " [ 90 100 110]] \n",
            "\n"
          ]
        }
      ]
    }
  ]
}