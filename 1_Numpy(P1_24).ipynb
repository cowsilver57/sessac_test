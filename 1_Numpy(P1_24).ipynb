{
  "nbformat": 4,
  "nbformat_minor": 0,
  "metadata": {
    "colab": {
      "provenance": [],
      "authorship_tag": "ABX9TyO4WWb2UlGedWmvvTA9AmRO",
      "include_colab_link": true
    },
    "kernelspec": {
      "name": "python3",
      "display_name": "Python 3"
    },
    "language_info": {
      "name": "python"
    }
  },
  "cells": [
    {
      "cell_type": "markdown",
      "metadata": {
        "id": "view-in-github",
        "colab_type": "text"
      },
      "source": [
        "<a href=\"https://colab.research.google.com/github/cowsilver57/sessac_test/blob/main/1_Numpy(P1_24).ipynb\" target=\"_parent\"><img src=\"https://colab.research.google.com/assets/colab-badge.svg\" alt=\"Open In Colab\"/></a>"
      ]
    },
    {
      "cell_type": "code",
      "execution_count": 1,
      "metadata": {
        "id": "mOE8hKoxNGBl"
      },
      "outputs": [],
      "source": [
        "import pandas as pd\n",
        "import numpy as np"
      ]
    },
    {
      "cell_type": "markdown",
      "source": [
        "# Objects in Python"
      ],
      "metadata": {
        "id": "nXAvNZ-ovW5A"
      }
    },
    {
      "cell_type": "markdown",
      "source": [
        "Object = Data + Methods (데이터 + 방법)"
      ],
      "metadata": {
        "id": "wOT76_gDvaHg"
      }
    },
    {
      "cell_type": "code",
      "source": [
        "#P4 Objects in Python\n",
        "a = [1, 2, 3]\n",
        "b = {'a':1, 'b':2, 'c':3}\n",
        "c = (1, 2, 3)\n",
        "print(type(a))\n",
        "print(type(b))\n",
        "print(type(c))\n",
        "\n",
        "#P5,9 리스트의 함수\n",
        "a = [1, 2, 3] #이 리스트에 적용할 수 있는 여러가지 함수를 출력\n",
        "for attr in dir(a):\n",
        "    print(attr)\n",
        "\n",
        "#P6 튜플의 함수\n",
        "# a = {'a':0, 'b':1, 'c':2}\n",
        "# for attr in dir(a):\n",
        "#     print(attr)"
      ],
      "metadata": {
        "colab": {
          "base_uri": "https://localhost:8080/"
        },
        "id": "YxczA37OtVuo",
        "outputId": "17b04e4a-db86-4c36-fb03-5c04b5a0409b"
      },
      "execution_count": 8,
      "outputs": [
        {
          "output_type": "stream",
          "name": "stdout",
          "text": [
            "<class 'list'>\n",
            "<class 'dict'>\n",
            "<class 'tuple'>\n",
            "__add__\n",
            "__class__\n",
            "__class_getitem__\n",
            "__contains__\n",
            "__delattr__\n",
            "__delitem__\n",
            "__dir__\n",
            "__doc__\n",
            "__eq__\n",
            "__format__\n",
            "__ge__\n",
            "__getattribute__\n",
            "__getitem__\n",
            "__gt__\n",
            "__hash__\n",
            "__iadd__\n",
            "__imul__\n",
            "__init__\n",
            "__init_subclass__\n",
            "__iter__\n",
            "__le__\n",
            "__len__\n",
            "__lt__\n",
            "__mul__\n",
            "__ne__\n",
            "__new__\n",
            "__reduce__\n",
            "__reduce_ex__\n",
            "__repr__\n",
            "__reversed__\n",
            "__rmul__\n",
            "__setattr__\n",
            "__setitem__\n",
            "__sizeof__\n",
            "__str__\n",
            "__subclasshook__\n",
            "append\n",
            "clear\n",
            "copy\n",
            "count\n",
            "extend\n",
            "index\n",
            "insert\n",
            "pop\n",
            "remove\n",
            "reverse\n",
            "sort\n",
            "__class__\n",
            "__class_getitem__\n",
            "__contains__\n",
            "__delattr__\n",
            "__delitem__\n",
            "__dir__\n",
            "__doc__\n",
            "__eq__\n",
            "__format__\n",
            "__ge__\n",
            "__getattribute__\n",
            "__getitem__\n",
            "__gt__\n",
            "__hash__\n",
            "__init__\n",
            "__init_subclass__\n",
            "__ior__\n",
            "__iter__\n",
            "__le__\n",
            "__len__\n",
            "__lt__\n",
            "__ne__\n",
            "__new__\n",
            "__or__\n",
            "__reduce__\n",
            "__reduce_ex__\n",
            "__repr__\n",
            "__reversed__\n",
            "__ror__\n",
            "__setattr__\n",
            "__setitem__\n",
            "__sizeof__\n",
            "__str__\n",
            "__subclasshook__\n",
            "clear\n",
            "copy\n",
            "fromkeys\n",
            "get\n",
            "items\n",
            "keys\n",
            "pop\n",
            "popitem\n",
            "setdefault\n",
            "update\n",
            "values\n"
          ]
        }
      ]
    },
    {
      "cell_type": "code",
      "source": [
        "#P8 함수를 길게 풀어쓰는 법\n",
        "a, b = 4, 2\n",
        "print(a-b, a.__sub__(b))\n",
        "print(a*b, a.__mul__(b))\n",
        "print(a**b, a.__pow__(b))\n",
        "print(a/b, a.__truediv__(b))\n",
        "print(a//b, a.__floordiv__(b))\n",
        "print(a%b, a.__mod__(b))\n",
        "#앞의 결과와 뒤의 결과는 동일함."
      ],
      "metadata": {
        "colab": {
          "base_uri": "https://localhost:8080/"
        },
        "id": "9nnoEZ-IwAkx",
        "outputId": "8a9f6291-6bcb-44fc-f020-43a295482d74"
      },
      "execution_count": 15,
      "outputs": [
        {
          "output_type": "stream",
          "name": "stdout",
          "text": [
            "2 2\n",
            "8 8\n",
            "16 16\n",
            "2.0 2.0\n",
            "2 2\n",
            "0 0\n"
          ]
        }
      ]
    },
    {
      "cell_type": "code",
      "source": [
        "#P10-11 Numpy의 함수\n",
        "a = np.array([1,2,3])\n",
        "print(type(a))\n",
        "#다른 함수보다 더 많은 함수가 내장되어 있음."
      ],
      "metadata": {
        "colab": {
          "base_uri": "https://localhost:8080/"
        },
        "id": "yqWUo4OcyJSY",
        "outputId": "ef2303bb-3908-48cb-a2aa-fc26d2d71de5"
      },
      "execution_count": 18,
      "outputs": [
        {
          "output_type": "stream",
          "name": "stdout",
          "text": [
            "<class 'numpy.ndarray'>\n"
          ]
        }
      ]
    },
    {
      "cell_type": "code",
      "source": [
        "#P12-14 1겹 리스트 더하기의 여러가지 방법\n",
        "u = [1,2,3]\n",
        "v = [4,5,6]\n",
        "#방법 1. 그냥 리스트를 붙이는 방법\n",
        "w = u + v\n",
        "print(w)\n",
        "\n",
        "#각 리스트의 동일한 순서로 더하고 싶다면!\n",
        "#방법 1. Python의 기본적인 방법\n",
        "w = [0]*len(u)\n",
        "for data_idx in range(len(u)):\n",
        "    w[data_idx] = u[data_idx] + v[data_idx]\n",
        "print(w)\n",
        "\n",
        "#방법 2. numpy를 활용한 방법\n",
        "u = np.array([1,2,3])\n",
        "v = np.array([4,5,6])\n",
        "print(u+v)"
      ],
      "metadata": {
        "colab": {
          "base_uri": "https://localhost:8080/"
        },
        "id": "pylvxuNLy2Zp",
        "outputId": "986f01cb-e409-4151-a57b-41cae7bd8643"
      },
      "execution_count": 21,
      "outputs": [
        {
          "output_type": "stream",
          "name": "stdout",
          "text": [
            "[1, 2, 3, 4, 5, 6]\n",
            "[5, 7, 9]\n",
            "[5 7 9]\n"
          ]
        }
      ]
    },
    {
      "cell_type": "markdown",
      "source": [
        "Numpy에 더 많은 함수가 내장되어 있고, 훨씬 짧은 식으로 구현 가능함."
      ],
      "metadata": {
        "id": "nkeqm0oszoPZ"
      }
    },
    {
      "cell_type": "code",
      "source": [
        "#P15-17 2겹 리스트 더하기의 여러가지 방법\n",
        "M = [[1,2,3],[4,5,6],[7,8,9]]\n",
        "N = [[11,12,13],[14,15,16],[17,18,19]]\n",
        "\n",
        "#방법 1.\n",
        "n_row, n_col = len(M), len(M[0])\n",
        "P = [[0]*n_col for _ in range(n_col)]\n",
        "for row_idx in range(n_row):\n",
        "    for col_idx in range(n_col):\n",
        "        P[row_idx][col_idx] = M[row_idx][col_idx] + N[row_idx][col_idx]\n",
        "\n",
        "for P_row in P :\n",
        "    print(P_row)\n",
        "\n",
        "#방법 2.\n",
        "M = np.array([[1,2,3],\n",
        "              [4,5,6],\n",
        "              [7,8,9]])\n",
        "N = np.array([[11,12,13],\n",
        "              [14,15,16],\n",
        "              [17,18,19]])\n",
        "print(M + N)"
      ],
      "metadata": {
        "colab": {
          "base_uri": "https://localhost:8080/"
        },
        "id": "9rrpynUy0abb",
        "outputId": "bc7f2485-ee07-4dee-ea62-7b7d6a312160"
      },
      "execution_count": 25,
      "outputs": [
        {
          "output_type": "stream",
          "name": "stdout",
          "text": [
            "[12, 14, 16]\n",
            "[18, 20, 22]\n",
            "[24, 26, 28]\n",
            "[[12 14 16]\n",
            " [18 20 22]\n",
            " [24 26 28]]\n"
          ]
        }
      ]
    },
    {
      "cell_type": "markdown",
      "source": [
        "#Tensors and Ndarrays"
      ],
      "metadata": {
        "id": "GlACoBvy1Zog"
      }
    },
    {
      "cell_type": "markdown",
      "source": [
        "(o,n,m) = (Matrix의 개수, 행, 열) = (Matrix, row, columns)"
      ],
      "metadata": {
        "id": "LcRI1u7p1q0p"
      }
    },
    {
      "cell_type": "code",
      "source": [
        "#여러 가지 차원 살펴보기\n",
        "scalar_np = np.array(3.14)\n",
        "vec_np = np.array([1,2,3])\n",
        "mat_np = np.array([[1,2],[3,4]])\n",
        "tensor_np = np.array([[[1,2,3],\n",
        "                       [4,5,6]],\n",
        "\n",
        "                      [[11,12,13],\n",
        "                       [14,15,16]]])\n",
        "print(scalar_np.shape)\n",
        "print(vec_np.shape)\n",
        "print(mat_np.shape)\n",
        "print(tensor_np.shape)\n",
        "\n",
        "print(len(()))\n",
        "print(len((3,)))\n",
        "print(len((2,2)))\n",
        "print(len((2,2,3)))"
      ],
      "metadata": {
        "colab": {
          "base_uri": "https://localhost:8080/"
        },
        "id": "-KjbmDpC1X4R",
        "outputId": "16efbd79-6d88-4a94-9ce1-f0f3771ad57c"
      },
      "execution_count": 31,
      "outputs": [
        {
          "output_type": "stream",
          "name": "stdout",
          "text": [
            "()\n",
            "(3,)\n",
            "(2, 2)\n",
            "(2, 2, 3)\n",
            "0\n",
            "1\n",
            "2\n",
            "3\n"
          ]
        }
      ]
    }
  ]
}