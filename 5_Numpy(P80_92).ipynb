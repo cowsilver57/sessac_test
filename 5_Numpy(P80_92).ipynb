{
  "nbformat": 4,
  "nbformat_minor": 0,
  "metadata": {
    "colab": {
      "provenance": [],
      "authorship_tag": "ABX9TyPtXGmQELb7ypejKFyrO2Up",
      "include_colab_link": true
    },
    "kernelspec": {
      "name": "python3",
      "display_name": "Python 3"
    },
    "language_info": {
      "name": "python"
    }
  },
  "cells": [
    {
      "cell_type": "markdown",
      "metadata": {
        "id": "view-in-github",
        "colab_type": "text"
      },
      "source": [
        "<a href=\"https://colab.research.google.com/github/cowsilver57/sessac_test/blob/main/5_Numpy(P80_92).ipynb\" target=\"_parent\"><img src=\"https://colab.research.google.com/assets/colab-badge.svg\" alt=\"Open In Colab\"/></a>"
      ]
    },
    {
      "cell_type": "markdown",
      "source": [
        "#Basic Indexing and Slicing"
      ],
      "metadata": {
        "id": "tnfs1Xm17u4g"
      }
    },
    {
      "cell_type": "code",
      "execution_count": null,
      "metadata": {
        "colab": {
          "base_uri": "https://localhost:8080/"
        },
        "id": "Uh2Xja2H69z4",
        "outputId": "9ac5a6c6-c279-4761-cd04-63f6e463a535"
      },
      "outputs": [
        {
          "output_type": "stream",
          "name": "stdout",
          "text": [
            "ndarry: \n",
            "[0 1 2 3 4 5 6 7 8 9]\n",
            "\n",
            "a[0]: 0\n",
            "a[2]: 2\n",
            "a[-1]: 9\n",
            "a[-2]: 8 \n",
            "\n",
            "--------------------------------------------------------------------------------\n",
            "ndarray: \n",
            "[0 1 2 3 4 5 6 7 8 9]\n",
            "\n",
            "b[0:3]: [0 1 2]\n",
            "b[3:7]: [3 4 5 6]\n",
            "b[5:-1]: [5 6 7 8]\n"
          ]
        }
      ],
      "source": [
        "#P80\n",
        "import numpy as np\n",
        "a = np.arange(10)\n",
        "print(f\"ndarry: \\n{a}\\n\")\n",
        "\n",
        "print(\"a[0]:\", a[0])\n",
        "print(\"a[2]:\", a[2])\n",
        "\n",
        "print(\"a[-1]:\", a[-1])\n",
        "print(\"a[-2]:\", a[-2], '\\n')\n",
        "\n",
        "print('-'*80)\n",
        "\n",
        "#P81 [start:end]\n",
        "b = np.arange(10)\n",
        "print(f\"ndarray: \\n{b}\\n\")\n",
        "\n",
        "print(\"b[0:3]:\", b[0:3])\n",
        "print(\"b[3:7]:\", b[3:7])\n",
        "print(\"b[5:-1]:\", b[5:-1])"
      ]
    },
    {
      "cell_type": "code",
      "source": [
        "#P82\n",
        "a = np.arange(10)\n",
        "print(f\"ndarray: \\n{a}\\n\")\n",
        "\n",
        "print(\"a[2:]\", a[2:])\n",
        "print(\"a[-2:]\", a[-2:])\n",
        "print(\"a[:5]\", a[:5])\n",
        "print(\"a[-3]\", a[:-3])\n",
        "print(\"a[:]\", a[:])\n",
        "\n",
        "print('-'*80)\n",
        "#P83-84 [start:end:step]\n",
        "b = np.arange(10)\n",
        "print(f\"ndarray: \\n{b}\\n\")\n",
        "print(\"b[2:7:2]\", b[2:7:2])\n",
        "print(\"b[::3]\", b[::3])\n",
        "\n",
        "c = np.arange(10)\n",
        "print(f\"ndarray: \\n{c}\\n\")\n",
        "print(\"c[7:2:-1]\", c[7:2:-1])\n",
        "print(\"c[::-1]\", c[::-1])\n",
        "print(\"c[8:3:-2]\", c[8:3:-2])\n",
        "print(\"c[::-3]\", c[::-3])"
      ],
      "metadata": {
        "id": "cAVPLpsN8a6U",
        "colab": {
          "base_uri": "https://localhost:8080/"
        },
        "outputId": "953b11e8-f923-434b-a049-1e8eb95526c7"
      },
      "execution_count": 16,
      "outputs": [
        {
          "output_type": "stream",
          "name": "stdout",
          "text": [
            "ndarray: \n",
            "[0 1 2 3 4 5 6 7 8 9]\n",
            "\n",
            "a[2:] [2 3 4 5 6 7 8 9]\n",
            "a[-2:] [8 9]\n",
            "a[:5] [0 1 2 3 4]\n",
            "a[-3] [0 1 2 3 4 5 6]\n",
            "a[:] [0 1 2 3 4 5 6 7 8 9]\n",
            "--------------------------------------------------------------------------------\n",
            "ndarray: \n",
            "[0 1 2 3 4 5 6 7 8 9]\n",
            "\n",
            "b[2:7:2] [2 4 6]\n",
            "b[::3] [0 3 6 9]\n",
            "ndarray: \n",
            "[0 1 2 3 4 5 6 7 8 9]\n",
            "\n",
            "c[7:2:-1] [7 6 5 4 3]\n",
            "c[::-1] [9 8 7 6 5 4 3 2 1 0]\n",
            "c[8:3:-2] [8 6 4]\n",
            "c[::-3] [9 6 3 0]\n"
          ]
        }
      ]
    },
    {
      "cell_type": "code",
      "source": [
        "#P85 출력 순서\n",
        "a = [[0,1,2],[3,4,5],[6,7,8]]\n",
        "print(a[0])\n",
        "print(a[1])\n",
        "print(a[2])\n",
        "\n",
        "print(a[0][0], a[0][1], a[0][2])\n",
        "print(a[1][0], a[1][1], a[1][2])\n",
        "print(a[2][0], a[2][1], a[2][2])\n",
        "print('-'*80)\n",
        "\n",
        "#P86\n",
        "b = np.arange(12).reshape((3,4))\n",
        "print(f\"ndarray:\\n{b}\\n\")\n",
        "print(\"a[0]:\", a[0])\n",
        "print(\"a[1]:\", a[1])\n",
        "print(\"a[2]:\", a[2])"
      ],
      "metadata": {
        "colab": {
          "base_uri": "https://localhost:8080/"
        },
        "id": "D0x0KT7AF5th",
        "outputId": "da09c5cd-1884-418f-8f08-406eec6b96d3"
      },
      "execution_count": 23,
      "outputs": [
        {
          "output_type": "stream",
          "name": "stdout",
          "text": [
            "[0, 1, 2]\n",
            "[3, 4, 5]\n",
            "[6, 7, 8]\n",
            "0 1 2\n",
            "3 4 5\n",
            "6 7 8\n",
            "--------------------------------------------------------------------------------\n",
            "ndarray:\n",
            "[[ 0  1  2  3]\n",
            " [ 4  5  6  7]\n",
            " [ 8  9 10 11]]\n",
            "\n",
            "a[0]: [0, 1, 2]\n",
            "a[1]: [3, 4, 5]\n",
            "a[2]: [6, 7, 8]\n"
          ]
        }
      ]
    },
    {
      "cell_type": "code",
      "source": [
        "#P87 Numpy이 방법이 더 편하다는 것을 알려줌~\n",
        "a = np.arange(9).reshape((3,3))\n",
        "print(f\"ndarray a:\\n{a}\\n\")\n",
        "print(a[0,0], a[0,1], a[0,2])\n",
        "print(a[1,0], a[1,1], a[1,2])\n",
        "print(a[2,0], a[2,1], a[2,2])\n",
        "print('-'*80)\n",
        "\n",
        "#P88\n",
        "b = np.arange(12).reshape((3,4))\n",
        "print(f\"ndarray b:\\n{b}\\n\")\n",
        "print(\"b[0,1:]:\", b[0,1:])\n",
        "print(\"b[1,:3]:\", b[1,:3])\n",
        "print(\"b[2,1:3]:\", b[2,1:3])\n",
        "print('-'*80)\n",
        "\n",
        "#P89\n",
        "c = np.arange(12).reshape((4,3))\n",
        "print(f\"ndarray c:\\n{c}\\n\")\n",
        "print(\"c[1:,0]:\", c[1:,0])\n",
        "print(\"c[:3,1]:\", c[:3,1])\n",
        "print(\"c[1:3,2]:\", c[1:3,2])"
      ],
      "metadata": {
        "colab": {
          "base_uri": "https://localhost:8080/"
        },
        "id": "1Z3yXVs4GgQS",
        "outputId": "297accf7-c00e-4488-d875-01c05c29ac81"
      },
      "execution_count": 32,
      "outputs": [
        {
          "output_type": "stream",
          "name": "stdout",
          "text": [
            "ndarray a:\n",
            "[[0 1 2]\n",
            " [3 4 5]\n",
            " [6 7 8]]\n",
            "\n",
            "0 1 2\n",
            "3 4 5\n",
            "6 7 8\n",
            "--------------------------------------------------------------------------------\n",
            "ndarray b:\n",
            "[[ 0  1  2  3]\n",
            " [ 4  5  6  7]\n",
            " [ 8  9 10 11]]\n",
            "\n",
            "b[0,1:]: [1 2 3]\n",
            "b[1,:3]: [4 5 6]\n",
            "b[2,1:3]: [ 9 10]\n",
            "--------------------------------------------------------------------------------\n",
            "ndarray c:\n",
            "[[ 0  1  2]\n",
            " [ 3  4  5]\n",
            " [ 6  7  8]\n",
            " [ 9 10 11]]\n",
            "\n",
            "c[1:,0]: [3 6 9]\n",
            "c[:3,1]: [1 4 7]\n",
            "c[1:3,2]: [5 8]\n"
          ]
        }
      ]
    },
    {
      "cell_type": "code",
      "source": [
        "#P90 연습문제\n",
        "import numpy as np\n",
        "a = np.arange(3*3*3).reshape((3,3,3))\n",
        "print(f\"ndarray a: \\n{a}\\n\")\n",
        "print('-'*80)\n",
        "\n",
        "#P91\n",
        "#각 분단의 2열까지만 뽑기\n",
        "print(\"a[:,:2,:]:\\n\", a[:, :2, :])\n",
        "print('-'*80)\n",
        "\n",
        "#P92\n",
        "#2번째 분단에서 2열부터 뒤에서 2개씩만 뽑기\n",
        "print(\"a[1:,-2:,-2:]:\\n\", a[1:, -2:, -2:])\n",
        "print('-'*80)"
      ],
      "metadata": {
        "colab": {
          "base_uri": "https://localhost:8080/"
        },
        "id": "eGDnYG3hHaIq",
        "outputId": "fb69e124-4377-4c97-ee4e-893186e7abb7"
      },
      "execution_count": 39,
      "outputs": [
        {
          "output_type": "stream",
          "name": "stdout",
          "text": [
            "ndarray a: \n",
            "[[[ 0  1  2]\n",
            "  [ 3  4  5]\n",
            "  [ 6  7  8]]\n",
            "\n",
            " [[ 9 10 11]\n",
            "  [12 13 14]\n",
            "  [15 16 17]]\n",
            "\n",
            " [[18 19 20]\n",
            "  [21 22 23]\n",
            "  [24 25 26]]]\n",
            "\n",
            "--------------------------------------------------------------------------------\n",
            "a[:,:2,:]:\n",
            " [[[ 0  1  2]\n",
            "  [ 3  4  5]]\n",
            "\n",
            " [[ 9 10 11]\n",
            "  [12 13 14]]\n",
            "\n",
            " [[18 19 20]\n",
            "  [21 22 23]]]\n",
            "--------------------------------------------------------------------------------\n",
            "a[1:,-2:,-2:]:\n",
            " [[[13 14]\n",
            "  [16 17]]\n",
            "\n",
            " [[22 23]\n",
            "  [25 26]]]\n",
            "--------------------------------------------------------------------------------\n"
          ]
        }
      ]
    }
  ]
}