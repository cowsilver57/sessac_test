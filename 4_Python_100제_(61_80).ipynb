{
  "nbformat": 4,
  "nbformat_minor": 0,
  "metadata": {
    "colab": {
      "provenance": [],
      "authorship_tag": "ABX9TyOEtP91+ngGj76B8mPxFrgc",
      "include_colab_link": true
    },
    "kernelspec": {
      "name": "python3",
      "display_name": "Python 3"
    },
    "language_info": {
      "name": "python"
    }
  },
  "cells": [
    {
      "cell_type": "markdown",
      "metadata": {
        "id": "view-in-github",
        "colab_type": "text"
      },
      "source": [
        "<a href=\"https://colab.research.google.com/github/cowsilver57/sessac_test/blob/main/4_Python_100%EC%A0%9C_(61_80).ipynb\" target=\"_parent\"><img src=\"https://colab.research.google.com/assets/colab-badge.svg\" alt=\"Open In Colab\"/></a>"
      ]
    },
    {
      "cell_type": "code",
      "execution_count": null,
      "metadata": {
        "colab": {
          "base_uri": "https://localhost:8080/"
        },
        "id": "p87oQ4rVJaAt",
        "outputId": "42b5ed6b-8f0d-4155-a3c3-0f11a023e3d0"
      },
      "outputs": [
        {
          "output_type": "stream",
          "name": "stdout",
          "text": [
            "불합격!\n"
          ]
        }
      ],
      "source": [
        "#61번 합격, 불합격 알려주기\n",
        "score = 50\n",
        "\n",
        "if score > 60:\n",
        "    print(\"합격!\")\n",
        "else:\n",
        "    print(\"불합격!\")"
      ]
    },
    {
      "cell_type": "code",
      "source": [
        "#62번 초를 분초로 표현하기\n",
        "seconds = 200\n",
        "\n",
        "if seconds >= 60:\n",
        "    minutes = seconds//60\n",
        "    seconds -= minutes*60\n",
        "else:\n",
        "    minutes = 0\n",
        "print(minutes, \"분\", seconds, \"초\")"
      ],
      "metadata": {
        "colab": {
          "base_uri": "https://localhost:8080/"
        },
        "id": "JEenVrAPJ0Pr",
        "outputId": "ef9dff99-def0-4b47-b747-9ba5d0ac4c55"
      },
      "execution_count": null,
      "outputs": [
        {
          "output_type": "stream",
          "name": "stdout",
          "text": [
            "3 분 20 초\n"
          ]
        }
      ]
    },
    {
      "cell_type": "code",
      "source": [
        "#63번 초를 시분초로 표현하기\n",
        "seconds = 5000\n",
        "\n",
        "if seconds >= 3600:\n",
        "    hours = seconds//3600\n",
        "    seconds -= hours*3600\n",
        "else:\n",
        "    hours = 0\n",
        "\n",
        "if seconds >= 60:\n",
        "    minutes = seconds//60\n",
        "    seconds -= minutes*60\n",
        "else:\n",
        "    minutes = 0\n",
        "\n",
        "print(hours, \"시간\", minutes, \"분\", seconds, \"초\")"
      ],
      "metadata": {
        "colab": {
          "base_uri": "https://localhost:8080/"
        },
        "id": "ctStHtauKAID",
        "outputId": "0138834b-6143-46b9-ceb4-40f6f3c4ffc4"
      },
      "execution_count": null,
      "outputs": [
        {
          "output_type": "stream",
          "name": "stdout",
          "text": [
            "1 시간 23 분 20 초\n"
          ]
        }
      ]
    },
    {
      "cell_type": "code",
      "source": [
        "#64번 홀수, 짝수 구하기\n",
        "number = 10\n",
        "\n",
        "if number % 2 == 0:\n",
        "    print(\"짝수\")\n",
        "else:\n",
        "    print(\"홀수\")"
      ],
      "metadata": {
        "colab": {
          "base_uri": "https://localhost:8080/"
        },
        "id": "tA8MMYTuKeIM",
        "outputId": "655eb8a2-39f1-4ebf-95a8-af04a7d5f04a"
      },
      "execution_count": null,
      "outputs": [
        {
          "output_type": "stream",
          "name": "stdout",
          "text": [
            "짝수\n"
          ]
        }
      ]
    },
    {
      "cell_type": "code",
      "source": [
        "#65번 두 수 비교하기\n",
        "num1, num2 = 10,10\n",
        "\n",
        "if num1 > num2 :\n",
        "    print(\"첫번째 숫자\")\n",
        "elif num1 == num2:\n",
        "    print(\"같은 숫자\")\n",
        "else:\n",
        "    print(\"두번째 숫자\")"
      ],
      "metadata": {
        "colab": {
          "base_uri": "https://localhost:8080/"
        },
        "id": "kniSrD9nKmHy",
        "outputId": "1ad00096-6e03-4afc-b3e4-faa30b546586"
      },
      "execution_count": null,
      "outputs": [
        {
          "output_type": "stream",
          "name": "stdout",
          "text": [
            "같은 숫자\n"
          ]
        }
      ]
    },
    {
      "cell_type": "code",
      "source": [
        "#66번 성적으로 평점 바꾸기\n",
        "score = 70\n",
        "if score > 80:\n",
        "    grade = '수'\n",
        "elif score > 60:\n",
        "    grade = '우'\n",
        "elif score > 40:\n",
        "    grade = '미'\n",
        "elif score > 20:\n",
        "    grade = '양'\n",
        "else:\n",
        "    grade = '가'\n",
        "print(\"평점:\", grade)"
      ],
      "metadata": {
        "colab": {
          "base_uri": "https://localhost:8080/"
        },
        "id": "z7kRfFxeKyQN",
        "outputId": "25c06dfb-ba98-42a2-e689-c924a8b69af0"
      },
      "execution_count": null,
      "outputs": [
        {
          "output_type": "stream",
          "name": "stdout",
          "text": [
            "평점: 우\n"
          ]
        }
      ]
    },
    {
      "cell_type": "code",
      "source": [
        "#67번 for문과 list를 활용하여 합격/불합격 알려주기\n",
        "scores = [20,50,10,60,70]\n",
        "cutoff = 50\n",
        "\n",
        "for score in scores:\n",
        "    if score > cutoff:\n",
        "        print(\"합격\")\n",
        "    else:\n",
        "        print(\"불합격\")"
      ],
      "metadata": {
        "colab": {
          "base_uri": "https://localhost:8080/"
        },
        "id": "bKj08ZgcLHVR",
        "outputId": "f2fad904-581a-4ab1-e0d3-1712096d5d9b"
      },
      "execution_count": null,
      "outputs": [
        {
          "output_type": "stream",
          "name": "stdout",
          "text": [
            "불합격\n",
            "불합격\n",
            "불합격\n",
            "합격\n",
            "합격\n"
          ]
        }
      ]
    },
    {
      "cell_type": "code",
      "source": [
        "#68번 for문과 list를 활용하여 성적으로 평점 바꾸기\n",
        "\n",
        "scores = [20,50,10,60,90]\n",
        "grades = list()\n",
        "\n",
        "for score in scores:\n",
        "    if score > 80:\n",
        "        grades.append('A')\n",
        "    elif score > 60:\n",
        "        grades.append('B')\n",
        "    elif score > 40:\n",
        "        grades.append('C')\n",
        "    else:\n",
        "        grades.append('F')\n",
        "print(grades)"
      ],
      "metadata": {
        "colab": {
          "base_uri": "https://localhost:8080/"
        },
        "id": "Mf3GBsgMLULI",
        "outputId": "65c34f18-548b-4ff4-f550-1c86fb49724a"
      },
      "execution_count": null,
      "outputs": [
        {
          "output_type": "stream",
          "name": "stdout",
          "text": [
            "['F', 'C', 'F', 'C', 'A']\n"
          ]
        }
      ]
    },
    {
      "cell_type": "code",
      "source": [
        "#69번 합격 불합격 학생들의 평균 구하기\n",
        "scores = [20,50,10,60,90]\n",
        "cutoff = 50\n",
        "\n",
        "p_score_sum, n_p = 0,0\n",
        "np_score_sum, n_np = 0,0\n",
        "\n",
        "for score in scores:\n",
        "    if score > cutoff:\n",
        "        p_score_sum += score\n",
        "        n_p += 1\n",
        "    else:\n",
        "        np_score_sum += score\n",
        "        n_np += 1\n",
        "\n",
        "p_score_mean = p_score_sum / n_p\n",
        "np_score_mean = np_score_sum / n_np\n",
        "\n",
        "print(\"합격한 학생들의 평균:\", p_score_mean)\n",
        "print(\"불합격한 학생들의 평균:\", np_score_mean)"
      ],
      "metadata": {
        "colab": {
          "base_uri": "https://localhost:8080/"
        },
        "id": "ZKCc_vqqLwor",
        "outputId": "3565cfd0-4d07-4e83-de12-7b4e08021e62"
      },
      "execution_count": null,
      "outputs": [
        {
          "output_type": "stream",
          "name": "stdout",
          "text": [
            "합격한 학생들의 평균: 75.0\n",
            "불합격한 학생들의 평균: 26.666666666666668\n"
          ]
        }
      ]
    },
    {
      "cell_type": "code",
      "source": [
        "#70번 홀수/짝수 구하기\n",
        "numbers = list()\n",
        "for num in range(10):\n",
        "    numbers.append(num)\n",
        "\n",
        "numbers.append(3.14)\n",
        "print(numbers)\n",
        "\n",
        "for num in numbers:\n",
        "    if num % 2 == 0 :\n",
        "        print(\"짝수\")\n",
        "    elif num % 2 == 1:\n",
        "        print(\"홀수\")\n",
        "    else:\n",
        "        print(\"대상아님\")"
      ],
      "metadata": {
        "colab": {
          "base_uri": "https://localhost:8080/"
        },
        "id": "bojFgMYPMNva",
        "outputId": "52d95d52-110c-4409-d477-c96a59fead3a"
      },
      "execution_count": null,
      "outputs": [
        {
          "output_type": "stream",
          "name": "stdout",
          "text": [
            "[0, 1, 2, 3, 4, 5, 6, 7, 8, 9, 3.14]\n",
            "짝수\n",
            "홀수\n",
            "짝수\n",
            "홀수\n",
            "짝수\n",
            "홀수\n",
            "짝수\n",
            "홀수\n",
            "짝수\n",
            "홀수\n",
            "대상아님\n"
          ]
        }
      ]
    },
    {
      "cell_type": "code",
      "source": [
        "#71번 n배수들의 합 구하기\n",
        "multiple_of = 3\n",
        "numbers = list()\n",
        "\n",
        "for num in range(100):\n",
        "    numbers.append(num)\n",
        "\n",
        "sum_multiple_of_n = 0\n",
        "for num in numbers:\n",
        "    if num % multiple_of == 0:\n",
        "        sum_multiple_of_n += num\n",
        "print(sum_multiple_of_n)"
      ],
      "metadata": {
        "colab": {
          "base_uri": "https://localhost:8080/"
        },
        "id": "baaNavNZPt5s",
        "outputId": "0abb9b18-37be-4cff-b125-089663af8b05"
      },
      "execution_count": null,
      "outputs": [
        {
          "output_type": "stream",
          "name": "stdout",
          "text": [
            "1683\n"
          ]
        }
      ]
    },
    {
      "cell_type": "code",
      "source": [
        "#72번 최댓값, 최솟값 구하기\n",
        "scores = [60,40,70,20,30]\n",
        "M, m = 0,100\n",
        "\n",
        "for score in scores:\n",
        "    if score > M:\n",
        "        M = score\n",
        "    if score < m:\n",
        "        m = score\n",
        "print(\"최댓값:\", M)\n",
        "print(\"최솟값:\", m)"
      ],
      "metadata": {
        "colab": {
          "base_uri": "https://localhost:8080/"
        },
        "id": "Z5LFFtyEQnhI",
        "outputId": "0b30df51-4974-42a7-8cbf-62fb48010726"
      },
      "execution_count": null,
      "outputs": [
        {
          "output_type": "stream",
          "name": "stdout",
          "text": [
            "최댓값: 70\n",
            "최솟값: 20\n"
          ]
        }
      ]
    },
    {
      "cell_type": "code",
      "source": [
        "#73번 최댓값, 최솟값 구하기\n",
        "scores = [-20, 60,40,70,120]\n",
        "\n",
        "#방법 1\n",
        "M, m = scores[0], scores[0]\n",
        "for score in scores:\n",
        "    if score > M:\n",
        "        M = score\n",
        "    if score < m:\n",
        "        m = score\n",
        "\n",
        "print(\"최댓값\", M)\n",
        "print(\"최솟값\", m)\n",
        "\n",
        "#방법 2\n",
        "M, m = None, None\n",
        "for score in scores:\n",
        "    if M == None or score > M:\n",
        "        M = score\n",
        "    if m == None or score < m:\n",
        "        m =score\n",
        "print(\"최댓값:\", M)\n",
        "print(\"최솟값:\", m)"
      ],
      "metadata": {
        "colab": {
          "base_uri": "https://localhost:8080/"
        },
        "id": "ci6OhbKcREc9",
        "outputId": "7c102c59-92f6-440a-9029-f430e036cb20"
      },
      "execution_count": null,
      "outputs": [
        {
          "output_type": "stream",
          "name": "stdout",
          "text": [
            "최댓값 120\n",
            "최솟값 -20\n",
            "최댓값: 120\n",
            "최솟값: -20\n"
          ]
        }
      ]
    },
    {
      "cell_type": "code",
      "source": [
        "#74번 Min-Max Normalization\n",
        "\n",
        "scores = [-20,60,40,70,120]\n",
        "M, m = scores[0], scores[0]\n",
        "\n",
        "for score in scores:\n",
        "    if score > M:\n",
        "        M = score\n",
        "    if score < m:\n",
        "        m = score\n",
        "for score_idx in range(len(scores)):\n",
        "    scores[score_idx] = (scores[score_idx]-m)/(M-m)\n",
        "print(\"Normalization 후의 점수\", scores)\n",
        "\n",
        "scores = [0.0, 0.5714285714285714, 0.42857142857142855, 0.6428571428571429, 1.0]\n",
        "M, m = scores[0], scores[0]\n",
        "for score in scores:\n",
        "    if score > M:\n",
        "        M = score\n",
        "    if score < m:\n",
        "        m = score\n",
        "print(\"Normal 후의 최댓값:\", M)\n",
        "print(\"Normal 후의 최솟값:\", m)"
      ],
      "metadata": {
        "colab": {
          "base_uri": "https://localhost:8080/"
        },
        "id": "-K93K2i3R_PQ",
        "outputId": "2bd61f18-25e0-4b69-8739-a73d2236e021"
      },
      "execution_count": null,
      "outputs": [
        {
          "output_type": "stream",
          "name": "stdout",
          "text": [
            "Normalization 후의 점수 [0.0, 0.5714285714285714, 0.42857142857142855, 0.6428571428571429, 1.0]\n",
            "Normal 후의 최댓값: 1.0\n",
            "Normal 후의 최솟값: 0.0\n"
          ]
        }
      ]
    },
    {
      "cell_type": "code",
      "source": [
        "#75번 최댓값, 최솟값의 위치 구하기\n",
        "\n",
        "scores = [60,-20,40,120,70]\n",
        "M, m = None, None\n",
        "M_idx, m_idx = 0,0\n",
        "\n",
        "for score_idx in range(len(scores)):\n",
        "    score = scores[score_idx]\n",
        "\n",
        "    if M == None or score > M :\n",
        "        M = score\n",
        "        M_idx = score_idx\n",
        "    if m == None or score < m:\n",
        "        m = score\n",
        "        m_idx = score_idx\n",
        "print(\"M/M_idx:\", M, M_idx)\n",
        "print(\"m/m_idx:\", m, m_idx)"
      ],
      "metadata": {
        "colab": {
          "base_uri": "https://localhost:8080/"
        },
        "id": "KMsJMbUPSrgs",
        "outputId": "82372c47-9c6a-4ecb-f0a2-bc4ffcb2bf4e"
      },
      "execution_count": null,
      "outputs": [
        {
          "output_type": "stream",
          "name": "stdout",
          "text": [
            "M/M_idx: 120 3\n",
            "m/m_idx: -20 1\n"
          ]
        }
      ]
    },
    {
      "cell_type": "code",
      "source": [
        "#76번 sorting\n",
        "scores = [40,20,30,10,50]\n",
        "sorted_scores = list()\n",
        "\n",
        "for _ in range(len(scores)):\n",
        "    M, M_idx = scores[0], 0\n",
        "\n",
        "    for score_idx in range(len(scores)):\n",
        "        if scores[score_idx] > M:\n",
        "            M = scores[score_idx]\n",
        "            M_idx = score_idx\n",
        "\n",
        "    tmp_scores = list() #하나의 점수가 분류되고 나머지 숫자들\n",
        "    for score_idx in range(len(scores)):\n",
        "        if score_idx == M_idx:\n",
        "            sorted_scores.append(scores[score_idx]) #이미 분류된 숫자들\n",
        "        else:\n",
        "            tmp_scores.append(scores[score_idx]) #나머지 숫자들\n",
        "    scores = tmp_scores\n",
        "    print(\"rmaining scores:\", scores)\n",
        "    print(\"sorted scores:\", sorted_scores, '\\n')"
      ],
      "metadata": {
        "colab": {
          "base_uri": "https://localhost:8080/"
        },
        "id": "-os-CtPYTgdx",
        "outputId": "c4cc7dbd-396e-45a3-eeec-b53321875175"
      },
      "execution_count": null,
      "outputs": [
        {
          "output_type": "stream",
          "name": "stdout",
          "text": [
            "rmaining scores: [40, 20, 30, 10]\n",
            "sorted scores: [50] \n",
            "\n",
            "rmaining scores: [20, 30, 10]\n",
            "sorted scores: [50, 40] \n",
            "\n",
            "rmaining scores: [20, 10]\n",
            "sorted scores: [50, 40, 30] \n",
            "\n",
            "rmaining scores: [10]\n",
            "sorted scores: [50, 40, 30, 20] \n",
            "\n",
            "rmaining scores: []\n",
            "sorted scores: [50, 40, 30, 20, 10] \n",
            "\n"
          ]
        }
      ]
    },
    {
      "cell_type": "code",
      "source": [
        "#77번 Accuracy 구하기\n",
        "\n",
        "predictions = [0,1,0,2,1,2,0]\n",
        "labels = [1,1,0,0,1,2,1]\n",
        "n_correct = 0\n",
        "\n",
        "for pred_idx in range(len(predictions)):\n",
        "    if predictions[pred_idx] == labels[pred_idx]:\n",
        "        n_correct += 1\n",
        "\n",
        "accuracy = n_correct / len(predictions)\n",
        "print(\"정확도:\", accuracy*100, '%')"
      ],
      "metadata": {
        "colab": {
          "base_uri": "https://localhost:8080/"
        },
        "id": "yKKDdW4eI9im",
        "outputId": "cf3446b0-3c19-4cf9-d885-3e7ba463165e"
      },
      "execution_count": null,
      "outputs": [
        {
          "output_type": "stream",
          "name": "stdout",
          "text": [
            "정확도: 57.14285714285714 %\n"
          ]
        }
      ]
    },
    {
      "cell_type": "code",
      "source": [
        "#78번 Confusion Vector 구하기\n",
        "\n",
        "predictions = [0,1,0,2,1,2,0]\n",
        "labels = [1,1,0,0,1,2,1]\n",
        "\n",
        "n_classes = None\n",
        "for label in labels:\n",
        "    if n_classes == None or label > n_classes:\n",
        "        n_classes = label\n",
        "n_classes += 1\n",
        "\n",
        "class_cnts, correct_cnts, confusion_vec = list(), list(), list()\n",
        "for _ in range(n_classes):\n",
        "    class_cnts.append(0)\n",
        "    correct_cnts.append(0)\n",
        "    confusion_vec.append(None)\n",
        "\n",
        "for pred_idx in range(len(predictions)):\n",
        "    pred = predictions[pred_idx]\n",
        "    label = labels[pred_idx]\n",
        "\n",
        "    class_cnts[label] += 1\n",
        "    if pred == label:\n",
        "        correct_cnts[label] += 1\n",
        "\n",
        "for class_idx in range(n_classes):\n",
        "    confusion_vec[class_idx] = correct_cnts[class_idx]/class_cnts[class_idx]\n",
        "print(\"Confusion vector:\", confusion_vec)"
      ],
      "metadata": {
        "colab": {
          "base_uri": "https://localhost:8080/"
        },
        "id": "zQh8cK16Kozt",
        "outputId": "ad006870-5af7-4d7a-acea-86185c176a20"
      },
      "execution_count": null,
      "outputs": [
        {
          "output_type": "stream",
          "name": "stdout",
          "text": [
            "Confusion vector: [0.5, 0.5, 1.0]\n"
          ]
        }
      ]
    },
    {
      "cell_type": "code",
      "source": [
        "#79번 Histogram 구하기\n",
        "scores = [50,20,30,40,10,50,70,80,90,20,30]\n",
        "cutoffs = [0,20,40,60,80]\n",
        "histogram = [0,0,0,0,0]\n",
        "\n",
        "for score in scores:\n",
        "    if score > cutoffs[4]:\n",
        "        histogram[4] += 1\n",
        "    elif score > cutoffs[3]:\n",
        "        histogram[3] += 1\n",
        "    elif score > cutoffs[2]:\n",
        "        histogram[2] += 1\n",
        "    elif score > cutoffs[1]:\n",
        "        histogram[1] += 1\n",
        "    elif score > cutoffs[0]:\n",
        "        histogram[0] += 1\n",
        "    else:\n",
        "        pass\n",
        "print('점수들의 히스토그램:', histogram)"
      ],
      "metadata": {
        "colab": {
          "base_uri": "https://localhost:8080/"
        },
        "id": "aaoq-oF1MSBg",
        "outputId": "a4ac0708-f480-4d70-bf1f-4a0edaf745ba"
      },
      "execution_count": null,
      "outputs": [
        {
          "output_type": "stream",
          "name": "stdout",
          "text": [
            "점수들의 히스토그램: [3, 3, 2, 2, 1]\n"
          ]
        }
      ]
    },
    {
      "cell_type": "code",
      "source": [
        "#80번 절댓값 구하기\n",
        "numbers = [-2,2,-1,3,-4,9]\n",
        "abs_numbers = list()\n",
        "\n",
        "for num in numbers:\n",
        "    if num < 0 :\n",
        "        abs_numbers.append(-num)\n",
        "    else:\n",
        "        abs_numbers.append(num)\n",
        "print(abs_numbers)"
      ],
      "metadata": {
        "colab": {
          "base_uri": "https://localhost:8080/"
        },
        "id": "jHRFm-zcMzS3",
        "outputId": "4f2796e5-0367-416d-e3f0-e909fa70c673"
      },
      "execution_count": null,
      "outputs": [
        {
          "output_type": "stream",
          "name": "stdout",
          "text": [
            "[2, 2, 1, 3, 4, 9]\n"
          ]
        }
      ]
    }
  ]
}