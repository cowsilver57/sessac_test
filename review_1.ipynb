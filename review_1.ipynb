{
 "cells": [
  {
   "cell_type": "code",
   "execution_count": 1,
   "metadata": {},
   "outputs": [
    {
     "name": "stdout",
     "output_type": "stream",
     "text": [
      "Requirement already satisfied: pandas in c:\\users\\sba\\anaconda3\\envs\\ai2\\lib\\site-packages (2.0.3)\n",
      "Requirement already satisfied: python-dateutil>=2.8.2 in c:\\users\\sba\\anaconda3\\envs\\ai2\\lib\\site-packages (from pandas) (2.8.2)\n",
      "Requirement already satisfied: pytz>=2020.1 in c:\\users\\sba\\anaconda3\\envs\\ai2\\lib\\site-packages (from pandas) (2023.3)\n",
      "Requirement already satisfied: tzdata>=2022.1 in c:\\users\\sba\\anaconda3\\envs\\ai2\\lib\\site-packages (from pandas) (2023.3)\n",
      "Requirement already satisfied: numpy>=1.20.3 in c:\\users\\sba\\anaconda3\\envs\\ai2\\lib\\site-packages (from pandas) (1.24.4)\n",
      "Requirement already satisfied: six>=1.5 in c:\\users\\sba\\anaconda3\\envs\\ai2\\lib\\site-packages (from python-dateutil>=2.8.2->pandas) (1.16.0)\n"
     ]
    }
   ],
   "source": [
    "!pip install pandas"
   ]
  },
  {
   "cell_type": "markdown",
   "metadata": {},
   "source": [
    "# 자료형"
   ]
  },
  {
   "cell_type": "markdown",
   "metadata": {},
   "source": [
    "## 1. 숫자형"
   ]
  },
  {
   "cell_type": "code",
   "execution_count": 2,
   "metadata": {},
   "outputs": [
    {
     "name": "stdout",
     "output_type": "stream",
     "text": [
      "7\n",
      "-1\n",
      "12\n",
      "0.75\n",
      "3\n",
      "0\n",
      "81\n"
     ]
    }
   ],
   "source": [
    "a = 3\n",
    "b = 4\n",
    "\n",
    "print(a + b)\n",
    "print(a - b)\n",
    "print(a * b)\n",
    "print(a / b)\n",
    "print(a % b)\n",
    "print(a // b)\n",
    "print(a ** b)"
   ]
  },
  {
   "cell_type": "markdown",
   "metadata": {},
   "source": [
    "## 2. 문자열"
   ]
  },
  {
   "cell_type": "markdown",
   "metadata": {},
   "source": [
    "### 기본 활용"
   ]
  },
  {
   "cell_type": "code",
   "execution_count": 6,
   "metadata": {},
   "outputs": [],
   "source": [
    "str1 = '단어'\n",
    "str2 = \"ABC\"\n",
    "str3 = '''\n",
    "안녕하세요.\n",
    "제 이름은 전원우입니다.\n",
    "'''\n"
   ]
  },
  {
   "cell_type": "code",
   "execution_count": 8,
   "metadata": {},
   "outputs": [
    {
     "name": "stdout",
     "output_type": "stream",
     "text": [
      "단어단어단어\n",
      "단어ABC\n",
      "단어단어단어\n",
      "단어ABC\n"
     ]
    }
   ],
   "source": [
    "print (str1 * 3)\n",
    "print (str1 + str2)\n",
    "print (str1 * 3)\n",
    "print (str1 + str2)"
   ]
  },
  {
   "cell_type": "markdown",
   "metadata": {},
   "source": [
    "### 인덱싱 & 슬라이싱"
   ]
  },
  {
   "cell_type": "markdown",
   "metadata": {},
   "source": [
    "#### 인덱싱: 특정 위치의 문자를 추출/ 슬라이싱: 특정 위치의 문자를 잘라냄"
   ]
  },
  {
   "cell_type": "code",
   "execution_count": 11,
   "metadata": {},
   "outputs": [
    {
     "name": "stdout",
     "output_type": "stream",
     "text": [
      "L\n",
      "s\n"
     ]
    }
   ],
   "source": [
    "# 인덱싱; Indexing\n",
    "a = \"Life is too short, You need Python\"\n",
    "print(a[0]) #a의 문장에서 1번째 출력\n",
    "print(a[12]) #a의 문장에서 13번째 출력 (띄어쓰기 포함)"
   ]
  },
  {
   "cell_type": "code",
   "execution_count": 12,
   "metadata": {},
   "outputs": [
    {
     "name": "stdout",
     "output_type": "stream",
     "text": [
      "Life\n"
     ]
    }
   ],
   "source": [
    "# 슬라이싱; Slicing\n",
    "a = \"Life is too short, You need Python\"\n",
    "print(a[:4]) #a의 문장에서 첫번째부터 4번째까지 출력"
   ]
  },
  {
   "cell_type": "code",
   "execution_count": 26,
   "metadata": {},
   "outputs": [
    {
     "name": "stdout",
     "output_type": "stream",
     "text": [
      "Programming\n",
      "Programming\n",
      "Python Programming\n"
     ]
    }
   ],
   "source": [
    "# 인덱싱 & 슬라이싱 예시\n",
    "str4 = 'Python Programming'\n",
    "print (str4[7:18])\n",
    "print (str4[7:])\n",
    "print (str4[:])"
   ]
  },
  {
   "cell_type": "code",
   "execution_count": 25,
   "metadata": {},
   "outputs": [
    {
     "name": "stdout",
     "output_type": "stream",
     "text": [
      "나는 \"전원우\"입니다.\n",
      "나는 '전원우'입니다.\n",
      "나는 '전원우'입니다.\n",
      "나는 \n",
      "전원우 \n",
      "입니다.\n"
     ]
    }
   ],
   "source": [
    "\n",
    "text1 = '나는 \"전원우\"입니다.'\n",
    "text2 = \"나는 '전원우'입니다.\"\n",
    "text3 = '나는 \\'전원우\\'입니다.'\n",
    "text4 = \"나는 \\n전원우 \\n입니다.\"\n",
    "print(text1)\n",
    "print(text2)\n",
    "print(text3)\n",
    "print(text4)"
   ]
  },
  {
   "cell_type": "markdown",
   "metadata": {},
   "source": [
    "### 문자열 내장함수 활용하기"
   ]
  },
  {
   "cell_type": "code",
   "execution_count": 7,
   "metadata": {},
   "outputs": [
    {
     "name": "stdout",
     "output_type": "stream",
     "text": [
      "2\n",
      "1\n",
      "-1\n",
      "1\n",
      "h,o,b,b,y\n",
      "HOBBY\n"
     ]
    }
   ],
   "source": [
    "a = 'hobby'\n",
    "print(a.count('b'))\n",
    "print(a.find('o'))\n",
    "print(a.find('k'))\n",
    "print(a.index('o'))\n",
    "#print(a.index('k')) -> index를 사용할 때는 없는 문자를 입력하면 오류가 남.\n",
    "\n",
    "print(','.join(a)) #a 사이에 ,을 넣겠다!\n",
    "print(a.upper()) #a를 대문자로 표현, lower()는 소문자로 표현"
   ]
  },
  {
   "cell_type": "code",
   "execution_count": 8,
   "metadata": {},
   "outputs": [
    {
     "data": {
      "text/plain": [
       "'Your leg is too short'"
      ]
     },
     "execution_count": 8,
     "metadata": {},
     "output_type": "execute_result"
    }
   ],
   "source": [
    "b = 'Life is too short'\n",
    "b.replace('Life', 'Your leg')"
   ]
  },
  {
   "cell_type": "code",
   "execution_count": 10,
   "metadata": {},
   "outputs": [
    {
     "data": {
      "text/plain": [
       "['Life', 'is', 'too', 'short']"
      ]
     },
     "execution_count": 10,
     "metadata": {},
     "output_type": "execute_result"
    }
   ],
   "source": [
    "b.split() #' '이 숨겨져 있음. 따라서 ()안에 아무것도 쓰지 않으면 공백을 기준으로 잘라줌."
   ]
  },
  {
   "cell_type": "code",
   "execution_count": 11,
   "metadata": {},
   "outputs": [
    {
     "name": "stdout",
     "output_type": "stream",
     "text": [
      "h,o,b,b,y\n",
      "['h', 'o', 'b', 'b', 'y']\n",
      "h-o-b-b-y\n"
     ]
    }
   ],
   "source": [
    "a2 = ','.join(a)\n",
    "a3 = a2.split(',')\n",
    "a4 = '-'.join(a3)\n",
    "print(a2)\n",
    "print(a3)\n",
    "print(a4)"
   ]
  },
  {
   "cell_type": "code",
   "execution_count": 51,
   "metadata": {},
   "outputs": [
    {
     "name": "stdout",
     "output_type": "stream",
     "text": [
      "나의 이름은 전원우입니다.\n"
     ]
    }
   ],
   "source": [
    "# name = '권소은' -> name이 변수\n",
    "name = '전원우'\n",
    "print(f'나의 이름은 {name}입니다.')"
   ]
  },
  {
   "cell_type": "markdown",
   "metadata": {},
   "source": [
    "## 3. 리스트"
   ]
  },
  {
   "cell_type": "markdown",
   "metadata": {},
   "source": [
    "### 기본 활용"
   ]
  },
  {
   "cell_type": "code",
   "execution_count": 19,
   "metadata": {},
   "outputs": [
    {
     "name": "stdout",
     "output_type": "stream",
     "text": [
      "3\n",
      "3\n"
     ]
    },
    {
     "data": {
      "text/plain": [
       "[7, 8]"
      ]
     },
     "execution_count": 19,
     "metadata": {},
     "output_type": "execute_result"
    }
   ],
   "source": [
    "new_list = [[1,2,3],[4,5,6],[7,8,9]]\n",
    "print(len(new_list))\n",
    "print(len(new_list[1]))\n",
    "\n",
    "#new_list에서 7,8을 선택하려면?\n",
    "new_list[2][0:2]\n"
   ]
  },
  {
   "cell_type": "code",
   "execution_count": 23,
   "metadata": {},
   "outputs": [
    {
     "name": "stdout",
     "output_type": "stream",
     "text": [
      "[1, 2, 3, 4, 5, 6, 7, 8]\n",
      "[1, 2, 3, 4, 1, 2, 3, 4, 1, 2, 3, 4]\n",
      "[1, 9, 3, 4]\n",
      "[5, 10, 11, 12, 8]\n",
      "[5, 12, 8]\n"
     ]
    }
   ],
   "source": [
    "list1 = [1,2,3,4]\n",
    "list2 = [5,6,7,8]\n",
    "print(list1 + list2)\n",
    "print(list1 * 3)\n",
    "\n",
    "list1[1] = 9\n",
    "print(list1)\n",
    "\n",
    "list2[1:3] = [10,11,12]\n",
    "print(list2)\n",
    "\n",
    "list2[1:3] =[]\n",
    "print(list2)"
   ]
  },
  {
   "cell_type": "code",
   "execution_count": 24,
   "metadata": {},
   "outputs": [
    {
     "name": "stdout",
     "output_type": "stream",
     "text": [
      "[5, 8]\n",
      "[5]\n"
     ]
    }
   ],
   "source": [
    "del list2[1] #리스트2에서 2번째 (12) 삭제 후 출력\n",
    "print(list2)\n",
    "\n",
    "list2.remove(8) #리스트2에서 (8) 삭제 후 출력\n",
    "print(list2)"
   ]
  },
  {
   "cell_type": "code",
   "execution_count": 26,
   "metadata": {},
   "outputs": [
    {
     "name": "stdout",
     "output_type": "stream",
     "text": [
      "[9, 4, 3, 1]\n",
      "[1, 3, 4, 9]\n",
      "[9, 4, 3, 1]\n"
     ]
    },
    {
     "data": {
      "text/plain": [
       "0"
      ]
     },
     "execution_count": 26,
     "metadata": {},
     "output_type": "execute_result"
    }
   ],
   "source": [
    "print(list1)\n",
    "list1.sort() #리스트1을 순서대로 정렬\n",
    "print(list1) #sort 출력 결과\n",
    "\n",
    "list1.reverse() #리스트1을 반대로 정렬\n",
    "print(list1) #reverse 출력 결과\n",
    "\n",
    "list2.index(5)"
   ]
  },
  {
   "cell_type": "code",
   "execution_count": 59,
   "metadata": {},
   "outputs": [
    {
     "name": "stdout",
     "output_type": "stream",
     "text": [
      "[1, 2, 3, 4]\n",
      "[1, 2, 3, 4, 11]\n"
     ]
    },
    {
     "data": {
      "text/plain": [
       "11"
      ]
     },
     "execution_count": 59,
     "metadata": {},
     "output_type": "execute_result"
    }
   ],
   "source": [
    "list3 = [1,2,3,4]\n",
    "print (list3)\n",
    "\n",
    "list3.append(11) #리스트3에 (11) 추가하기\n",
    "print(list3) #append 출력 결과\n",
    "\n",
    "list3.pop() #리스트3에서 마지막 결과 출력"
   ]
  },
  {
   "cell_type": "code",
   "execution_count": 37,
   "metadata": {},
   "outputs": [
    {
     "name": "stdout",
     "output_type": "stream",
     "text": [
      "11\n",
      "[9, 4, 10, 3, 1]\n"
     ]
    }
   ],
   "source": [
    "list5 = [9, 4, 10,3, 1,11]\n",
    "pop_data = list5.pop()\n",
    "print(pop_data) #pop을 사용하면 데이터가 빠짐. \n",
    "print(list5)"
   ]
  },
  {
   "cell_type": "markdown",
   "metadata": {},
   "source": [
    "### 인덱싱 & 슬라이싱"
   ]
  },
  {
   "cell_type": "code",
   "execution_count": 17,
   "metadata": {},
   "outputs": [
    {
     "name": "stdout",
     "output_type": "stream",
     "text": [
      "1\n",
      "4\n"
     ]
    }
   ],
   "source": [
    "# 인덱싱; Indexing\n",
    "a = [1,2,3]\n",
    "print(a[0]) #a의 리스트에서 1번째 출력\n",
    "print(a[0] + a[2]) "
   ]
  },
  {
   "cell_type": "code",
   "execution_count": 18,
   "metadata": {},
   "outputs": [
    {
     "name": "stdout",
     "output_type": "stream",
     "text": [
      "[1, 2]\n"
     ]
    }
   ],
   "source": [
    "# 슬라이싱; Slicing\n",
    "a = [1,2,3,4,5]\n",
    "print(a[0:2]) #a의 리스트에서 첫번째에서 2번째까지 잘라서 출력\n"
   ]
  },
  {
   "cell_type": "markdown",
   "metadata": {},
   "source": [
    "## 4. 튜플"
   ]
  },
  {
   "cell_type": "markdown",
   "metadata": {},
   "source": [
    "### 패킹 & 언패킹"
   ]
  },
  {
   "cell_type": "code",
   "execution_count": 27,
   "metadata": {},
   "outputs": [
    {
     "name": "stdout",
     "output_type": "stream",
     "text": [
      "1\n",
      "2\n",
      "3\n"
     ]
    }
   ],
   "source": [
    "a = (1,2,3,4,5) #packing\n",
    "one, two, three = (1,2,3) #unpacking\n",
    "print(one)\n",
    "print(two)\n",
    "print(three)\n",
    "\n",
    "#튜플은 값을 변경할 수 없기 때문에 아래 코드 실행 불가\n",
    "# a[1] = 5"
   ]
  },
  {
   "cell_type": "code",
   "execution_count": 33,
   "metadata": {},
   "outputs": [
    {
     "data": {
      "text/plain": [
       "(1, 2, 3)"
      ]
     },
     "execution_count": 33,
     "metadata": {},
     "output_type": "execute_result"
    }
   ],
   "source": [
    "tuple([1,2,3])"
   ]
  },
  {
   "cell_type": "markdown",
   "metadata": {},
   "source": [
    "## 5. 딕셔너리"
   ]
  },
  {
   "cell_type": "markdown",
   "metadata": {},
   "source": [
    "### 기본 활용"
   ]
  },
  {
   "cell_type": "code",
   "execution_count": 29,
   "metadata": {},
   "outputs": [
    {
     "name": "stdout",
     "output_type": "stream",
     "text": [
      "{1: 'a', 2: 'b'}\n"
     ]
    }
   ],
   "source": [
    "dict1 = {1 : 'a'}\n",
    "dict1[2] = 'b' #dict1의 키가 2이고 값이 b인 것을 추가\n",
    "print(dict1)"
   ]
  },
  {
   "cell_type": "code",
   "execution_count": 30,
   "metadata": {},
   "outputs": [
    {
     "name": "stdout",
     "output_type": "stream",
     "text": [
      "{2: 'b'}\n"
     ]
    }
   ],
   "source": [
    "del dict1[1] #dict1에서 1을 Key로 가지고 있는 Value 삭제하고 출력\n",
    "print(dict1)"
   ]
  },
  {
   "cell_type": "code",
   "execution_count": 31,
   "metadata": {},
   "outputs": [
    {
     "name": "stdout",
     "output_type": "stream",
     "text": [
      "b\n",
      "b\n"
     ]
    }
   ],
   "source": [
    "print(dict1[2])\n",
    "print(dict1.get(2))"
   ]
  },
  {
   "cell_type": "code",
   "execution_count": 32,
   "metadata": {},
   "outputs": [
    {
     "name": "stdout",
     "output_type": "stream",
     "text": [
      "dict_keys(['name', 'phone', 'birth'])\n",
      "dict_values(['pey', '01012345678', '0904'])\n",
      "dict_items([('name', 'pey'), ('phone', '01012345678'), ('birth', '0904')])\n"
     ]
    }
   ],
   "source": [
    "dict2 = {'name': 'pey', 'phone' : '01012345678','birth' : '0904'} \n",
    "print(dict2.keys())\n",
    "print(dict2.values())\n",
    "print(dict2.items()) #결과가 리스트(대괄호) 안에 튜플(소괄호) 형태로 출력됨. "
   ]
  },
  {
   "cell_type": "markdown",
   "metadata": {},
   "source": [
    "## 6. 집합"
   ]
  },
  {
   "cell_type": "markdown",
   "metadata": {},
   "source": [
    "### 기본 활용"
   ]
  },
  {
   "cell_type": "code",
   "execution_count": 6,
   "metadata": {},
   "outputs": [
    {
     "name": "stdout",
     "output_type": "stream",
     "text": [
      "{1, 2, 3}\n",
      "{2, 3, 4}\n"
     ]
    }
   ],
   "source": [
    "s1 = set([1,2,3])\n",
    "s2 = {2,3,4,4}\n",
    "print(s1)\n",
    "print(s2) #중복을 허용하지 않음"
   ]
  },
  {
   "cell_type": "code",
   "execution_count": 21,
   "metadata": {},
   "outputs": [
    {
     "name": "stdout",
     "output_type": "stream",
     "text": [
      "{1, 2, 3, 4}\n",
      "{2, 3, 4, 5, 6, 7}\n",
      "{2, 3, 4, 5, 6}\n"
     ]
    }
   ],
   "source": [
    "s1.add(4) #s1에 4 추가\n",
    "print(s1)\n",
    "\n",
    "s2.update([5,6,7]) #여러 개의 값을 추가할 때\n",
    "print(s2)\n",
    "\n",
    "s2.remove(7)\n",
    "print(s2)"
   ]
  },
  {
   "cell_type": "code",
   "execution_count": 34,
   "metadata": {},
   "outputs": [
    {
     "name": "stdout",
     "output_type": "stream",
     "text": [
      "{1, 2, 3, 4}\n",
      "{2, 3, 4, 5, 6}\n",
      "{2, 3, 4}\n",
      "{2, 3, 4}\n",
      "{1, 2, 3, 4, 5, 6}\n",
      "{1, 2, 3, 4, 5, 6}\n",
      "{1}\n",
      "{1}\n"
     ]
    }
   ],
   "source": [
    "print(s1)\n",
    "print(s2)\n",
    "print(s1&s2) #교집합 1\n",
    "print(s1.intersection(s2)) #교집합 2\n",
    "\n",
    "print(s1|s2) #합집합 1\n",
    "print(s1.union(s2)) #합집합 2\n",
    "\n",
    "print(s1-s2) #차집합 1\n",
    "print(s1.difference(s2)) #차집합 2"
   ]
  },
  {
   "cell_type": "markdown",
   "metadata": {},
   "source": [
    "## 7. Boolean"
   ]
  },
  {
   "cell_type": "markdown",
   "metadata": {},
   "source": [
    "### 기본 활용"
   ]
  },
  {
   "cell_type": "code",
   "execution_count": 4,
   "metadata": {},
   "outputs": [
    {
     "name": "stdout",
     "output_type": "stream",
     "text": [
      "True\n",
      "False\n"
     ]
    }
   ],
   "source": [
    "print(1==1)\n",
    "print(1!=1)"
   ]
  },
  {
   "cell_type": "markdown",
   "metadata": {},
   "source": [
    "# 연습문제"
   ]
  },
  {
   "cell_type": "markdown",
   "metadata": {},
   "source": [
    "### 변수 관련 연습문제"
   ]
  },
  {
   "cell_type": "markdown",
   "metadata": {},
   "source": [
    "1-1. 어떤 회원이 생년월일 입력란에 890724를 입력하였을 때, 해당 문자를 89/07/24로 출력하기"
   ]
  },
  {
   "cell_type": "code",
   "execution_count": 13,
   "metadata": {},
   "outputs": [
    {
     "name": "stdout",
     "output_type": "stream",
     "text": [
      "89/07/24\n"
     ]
    }
   ],
   "source": [
    "ex1 = '890724'\n",
    "print(ex1[:2] + '/' + ex1[2:4] + '/' + ex1[4:6])"
   ]
  },
  {
   "cell_type": "markdown",
   "metadata": {},
   "source": [
    "1-2. 어떤 유통회사의 유통일자가 20190603으로 입력되었을 때, 해당 문자를 2019-06-03으로 출력하기"
   ]
  },
  {
   "cell_type": "code",
   "execution_count": 14,
   "metadata": {},
   "outputs": [
    {
     "name": "stdout",
     "output_type": "stream",
     "text": [
      "2019-06-03\n"
     ]
    }
   ],
   "source": [
    "ex2 = '20190603'\n",
    "print(ex2[:4] + '-' + ex2[4:6] + '-' + ex2[6:8])"
   ]
  },
  {
   "cell_type": "markdown",
   "metadata": {},
   "source": [
    "1-3. 어떤 고객이 휴대전화번호를 010-1234-5678으로 입력하였을 때, 해당 문자를 01012345678으로 출력하기"
   ]
  },
  {
   "cell_type": "code",
   "execution_count": 15,
   "metadata": {},
   "outputs": [
    {
     "data": {
      "text/plain": [
       "'01012345678'"
      ]
     },
     "execution_count": 15,
     "metadata": {},
     "output_type": "execute_result"
    }
   ],
   "source": [
    "ex3 = '010-1234-5678'\n",
    "split_ex3 = ex3.split('-')\n",
    "''.join(split_ex3)"
   ]
  },
  {
   "cell_type": "code",
   "execution_count": null,
   "metadata": {},
   "outputs": [
    {
     "data": {
      "text/plain": [
       "'01012345678'"
      ]
     },
     "execution_count": 16,
     "metadata": {},
     "output_type": "execute_result"
    }
   ],
   "source": [
    "ex3.replace('-','')"
   ]
  },
  {
   "cell_type": "markdown",
   "metadata": {},
   "source": [
    "### 딕셔너리, 리스트 관련 연습문제"
   ]
  },
  {
   "cell_type": "markdown",
   "metadata": {},
   "source": [
    "1-4. 딕셔너리를 활용하여 간단한 사전 만들기 \n",
    "(1부터 5까지 숫자를 입력하면 한글로 출력되는 프로그램)"
   ]
  },
  {
   "cell_type": "code",
   "execution_count": 1,
   "metadata": {},
   "outputs": [
    {
     "data": {
      "text/plain": [
       "'하나'"
      ]
     },
     "execution_count": 1,
     "metadata": {},
     "output_type": "execute_result"
    }
   ],
   "source": [
    "dict1 = {1:'하나', 2:'둘', 3: '셋', 4: '넷', 5: '다섯'}\n",
    "A = int(input (\"값을 입력하시오 : \"))\n",
    "dict1[1]"
   ]
  },
  {
   "cell_type": "markdown",
   "metadata": {},
   "source": [
    "1-5. 아래의 리스트(list)를 선언하고, 중복 값을 제거하여 출력해 보기\n",
    "list1 = [1,1,1,1,1,1,2,4,5,6,7,8,9,10]"
   ]
  },
  {
   "cell_type": "code",
   "execution_count": 43,
   "metadata": {},
   "outputs": [
    {
     "data": {
      "text/plain": [
       "[1, 2, 4, 5, 6, 7, 8, 9, 10]"
      ]
     },
     "execution_count": 43,
     "metadata": {},
     "output_type": "execute_result"
    }
   ],
   "source": [
    "list_A = [1,1,1,1,1,1,2,4,5,6,7,8,9,10]\n",
    "list(set(list_A))"
   ]
  }
 ],
 "metadata": {
  "kernelspec": {
   "display_name": "ai2",
   "language": "python",
   "name": "python3"
  },
  "language_info": {
   "codemirror_mode": {
    "name": "ipython",
    "version": 3
   },
   "file_extension": ".py",
   "mimetype": "text/x-python",
   "name": "python",
   "nbconvert_exporter": "python",
   "pygments_lexer": "ipython3",
   "version": "3.8.17"
  },
  "orig_nbformat": 4
 },
 "nbformat": 4,
 "nbformat_minor": 2
}
