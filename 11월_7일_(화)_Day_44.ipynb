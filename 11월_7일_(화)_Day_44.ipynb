{
  "nbformat": 4,
  "nbformat_minor": 0,
  "metadata": {
    "colab": {
      "provenance": [],
      "authorship_tag": "ABX9TyO9VHhC1irukKrRY1ycDCbU",
      "include_colab_link": true
    },
    "kernelspec": {
      "name": "python3",
      "display_name": "Python 3"
    },
    "language_info": {
      "name": "python"
    }
  },
  "cells": [
    {
      "cell_type": "markdown",
      "metadata": {
        "id": "view-in-github",
        "colab_type": "text"
      },
      "source": [
        "<a href=\"https://colab.research.google.com/github/cowsilver57/sessac_test/blob/main/11%EC%9B%94_7%EC%9D%BC_(%ED%99%94)_Day_44.ipynb\" target=\"_parent\"><img src=\"https://colab.research.google.com/assets/colab-badge.svg\" alt=\"Open In Colab\"/></a>"
      ]
    },
    {
      "cell_type": "markdown",
      "source": [
        "# Class 만들어보기"
      ],
      "metadata": {
        "id": "PGhs2eoSW55g"
      }
    },
    {
      "cell_type": "markdown",
      "source": [
        "\n",
        "\n",
        "*  TestClass : Camel Case = Class명 = 무조건 대문자 시작\n",
        "*  Pass : 나중에 구현을 완성하겠다는 의미\n",
        "\n"
      ],
      "metadata": {
        "id": "gN53rIcdW8aD"
      }
    },
    {
      "cell_type": "code",
      "execution_count": null,
      "metadata": {
        "colab": {
          "base_uri": "https://localhost:8080/"
        },
        "id": "sjUu5ZpoVPo7",
        "outputId": "f4426a6a-32af-4fa6-a2fb-f876f42a5eb7"
      },
      "outputs": [
        {
          "output_type": "stream",
          "name": "stdout",
          "text": [
            "object1: <class '__main__.TestClass'>\n",
            "object2: <class '__main__.TestClass'>\n"
          ]
        }
      ],
      "source": [
        "#TestClass를 통해 새로운 object type 2개를 만들기\n",
        "class TestClass:\n",
        "    pass\n",
        "\n",
        "object1 = TestClass()\n",
        "object2 = TestClass()\n",
        "\n",
        "print(\"object1:\", type(object1))\n",
        "print(\"object2:\", type(object2))"
      ]
    },
    {
      "cell_type": "markdown",
      "source": [
        "*  Person : Camel Case = Class명 = 무조건 대문자 시작\n",
        "*  Pass : 나중에 구현을 완성하겠다는 의미\n"
      ],
      "metadata": {
        "id": "LmK5s7SXX2mj"
      }
    },
    {
      "cell_type": "code",
      "source": [
        "#Person를 통해 새로운 object type 2개를 만들기\n",
        "class Person:\n",
        "    pass\n",
        "\n",
        "person1 = Person()\n",
        "person2 = Person()\n",
        "\n",
        "print(\"person1:\", type(person1))\n",
        "print(\"person2:\", type(person2))"
      ],
      "metadata": {
        "colab": {
          "base_uri": "https://localhost:8080/"
        },
        "id": "0FZ4d6LiXcdu",
        "outputId": "af366648-12a1-46e4-d9da-8db22c940055"
      },
      "execution_count": null,
      "outputs": [
        {
          "output_type": "stream",
          "name": "stdout",
          "text": [
            "person1: <class '__main__.Person'>\n",
            "person2: <class '__main__.Person'>\n"
          ]
        }
      ]
    },
    {
      "cell_type": "markdown",
      "source": [
        "# Method 만들기"
      ],
      "metadata": {
        "id": "Xfjs7lktYCno"
      }
    },
    {
      "cell_type": "code",
      "source": [
        "#Person 함수에 Method 만들어 넣기\n",
        "#Person 객체는 say_hello, say_bye의 기능이 있고, 실행시키면 각자 Hello, Goodbye를 출력하는 기능 설정하기\n",
        "class Person:\n",
        "    #class에서 method는 def를 통해 구현\n",
        "    def say_hello(self):\n",
        "        print(\"Hello!\")\n",
        "\n",
        "    def say_bye(self):\n",
        "        print(\"Goodbye!\")\n",
        "\n",
        "#person 객체는 Person의 data type이므로 위의 기능들을 가지고 있음.\n",
        "person = Person()\n",
        "#객체가 가지고 있는 기능(method)는 obj.method를 통해 사용\n",
        "person.say_hello()"
      ],
      "metadata": {
        "colab": {
          "base_uri": "https://localhost:8080/"
        },
        "id": "bno7cQzCYDmI",
        "outputId": "d6b0a8ee-f5ac-4cde-ebb3-e3e7572e2b53"
      },
      "execution_count": null,
      "outputs": [
        {
          "output_type": "stream",
          "name": "stdout",
          "text": [
            "Hello!\n"
          ]
        }
      ]
    },
    {
      "cell_type": "code",
      "source": [
        "class Person:\n",
        "    def say_hello(self):\n",
        "        print(\"Hello!\")\n",
        "    def say_bye(self):\n",
        "        print(\"Goodbye!\")\n",
        "\n",
        "#person1, person2 모두 Person 객체이므로 say_hello와 say_bye의 기능이 있음.\n",
        "person1, person2 = Person(), Person()\n",
        "\n",
        "print(person1.say_hello())\n",
        "print(person1.say_bye())\n",
        "\n",
        "print(person2.say_hello())\n",
        "print(person2.say_bye())\n"
      ],
      "metadata": {
        "colab": {
          "base_uri": "https://localhost:8080/"
        },
        "id": "B6PGPCtKYzad",
        "outputId": "12a6b83f-3337-40b5-f260-b66647ec3b1a"
      },
      "execution_count": null,
      "outputs": [
        {
          "output_type": "stream",
          "name": "stdout",
          "text": [
            "Hello!\n",
            "None\n",
            "Goodbye!\n",
            "None\n",
            "Hello!\n",
            "None\n",
            "Goodbye!\n",
            "None\n"
          ]
        }
      ]
    },
    {
      "cell_type": "markdown",
      "source": [
        "#Parameter가 있는 Method 만들기"
      ],
      "metadata": {
        "id": "QfbDF_pWZM88"
      }
    },
    {
      "cell_type": "code",
      "source": [
        "class Person:\n",
        "    def say_bye(self, name):\n",
        "        print(f'Goodbye! {name}')\n",
        "\n",
        "person = Person()\n",
        "person.say_bye('Kim')\n",
        "person.say_bye('Yang')"
      ],
      "metadata": {
        "colab": {
          "base_uri": "https://localhost:8080/"
        },
        "id": "n_KCa1TgZL6k",
        "outputId": "4f04cb63-7cc8-4169-9a8a-61d45778fcb8"
      },
      "execution_count": null,
      "outputs": [
        {
          "output_type": "stream",
          "name": "stdout",
          "text": [
            "Goodbye! Kim\n",
            "Goodbye! Yang\n"
          ]
        }
      ]
    },
    {
      "cell_type": "markdown",
      "source": [
        "#Object의 Data"
      ],
      "metadata": {
        "id": "Umc41oXPblns"
      }
    },
    {
      "cell_type": "code",
      "source": [
        "class Person:\n",
        "    #self는 만들어진 객체 이름의 대명사\n",
        "    def set_name(self, name):\n",
        "        self.name = name\n",
        "\n",
        "person1, person2 = Person(), Person()\n",
        "\n",
        "person1.set_name('Kim')\n",
        "person2.set_name('Yang')\n",
        "\n",
        "print(person1.name)\n",
        "print(person2.name)"
      ],
      "metadata": {
        "colab": {
          "base_uri": "https://localhost:8080/"
        },
        "id": "kdN00hLqbnsE",
        "outputId": "00d552bb-16dd-4086-d7da-e156a7b23e53"
      },
      "execution_count": null,
      "outputs": [
        {
          "output_type": "stream",
          "name": "stdout",
          "text": [
            "Kim\n",
            "Yang\n"
          ]
        }
      ]
    },
    {
      "cell_type": "code",
      "source": [
        "class Person:\n",
        "    #self는 만들어진 객체 이름의 대명사\n",
        "    def set_name(self, name):\n",
        "        self.name = name\n",
        "    def say_hello(self):\n",
        "        print(f\"Hello! I'm {self.name}\")\n",
        "\n",
        "person1, person2 = Person(), Person()\n",
        "\n",
        "person1.set_name('Kim')\n",
        "person2.set_name('Yang')\n",
        "\n",
        "person1.say_hello()\n",
        "person2.say_hello()"
      ],
      "metadata": {
        "colab": {
          "base_uri": "https://localhost:8080/"
        },
        "id": "2GbanjcrgD0x",
        "outputId": "397f4500-f608-449b-837f-85a01560dc41"
      },
      "execution_count": null,
      "outputs": [
        {
          "output_type": "stream",
          "name": "stdout",
          "text": [
            "Hello! I'm Kim\n",
            "Hello! I'm Yang\n"
          ]
        }
      ]
    },
    {
      "cell_type": "code",
      "source": [
        "#return이 있는 method\n",
        "class Person:\n",
        "    def set_name(self, name):\n",
        "        self.name = name\n",
        "\n",
        "    def get_name(self):\n",
        "        return self.name\n",
        "\n",
        "    def get_family_name(self):\n",
        "        return self.name[0]\n",
        "\n",
        "    def get_personal_name(self):\n",
        "        return self.name[1:]\n",
        "\n",
        "person = Person()\n",
        "person.set_name('김철수')\n",
        "\n",
        "print(person.get_name())\n",
        "print(person.get_family_name())\n",
        "print(person.get_personal_name())"
      ],
      "metadata": {
        "colab": {
          "base_uri": "https://localhost:8080/"
        },
        "id": "Ahv0Ji6hkJNR",
        "outputId": "a863c478-0a50-4a31-959a-31572b0319dd"
      },
      "execution_count": null,
      "outputs": [
        {
          "output_type": "stream",
          "name": "stdout",
          "text": [
            "김철수\n",
            "김\n",
            "철수\n"
          ]
        }
      ]
    },
    {
      "cell_type": "markdown",
      "source": [
        "#__init__ Method"
      ],
      "metadata": {
        "id": "jRmj1K-ToRFE"
      }
    },
    {
      "cell_type": "markdown",
      "source": [
        "자동적으로 실행되는 method"
      ],
      "metadata": {
        "id": "AftAWHRDo-72"
      }
    },
    {
      "cell_type": "code",
      "source": [
        "class Person:\n",
        "    def __init__(self):\n",
        "        print(\"Person object instantiated\")\n",
        "\n",
        "person1 = Person()\n",
        "person2 = Person()"
      ],
      "metadata": {
        "colab": {
          "base_uri": "https://localhost:8080/"
        },
        "id": "ZaTJsoURn5sq",
        "outputId": "bd970fce-5bf7-4313-dbb9-78c5663aa00c"
      },
      "execution_count": null,
      "outputs": [
        {
          "output_type": "stream",
          "name": "stdout",
          "text": [
            "Person object instantiated\n",
            "Person object instantiated\n"
          ]
        }
      ]
    },
    {
      "cell_type": "code",
      "source": [
        "class Person:\n",
        "    def __init__(self, name):\n",
        "        self.name = name\n",
        "\n",
        "person1 = Person('Kim')\n",
        "person2 = Person('Shin')\n",
        "\n",
        "print(person1.name)\n",
        "print(person2.name)"
      ],
      "metadata": {
        "colab": {
          "base_uri": "https://localhost:8080/"
        },
        "id": "ShX_lxkgpBDL",
        "outputId": "ed872613-4854-44a5-cfaf-83c0e3d7766b"
      },
      "execution_count": null,
      "outputs": [
        {
          "output_type": "stream",
          "name": "stdout",
          "text": [
            "Kim\n",
            "Shin\n"
          ]
        }
      ]
    },
    {
      "cell_type": "code",
      "source": [
        "class Person:\n",
        "    def __init__(self, name):\n",
        "        self.name = name\n",
        "        self.say_hello()\n",
        "#아래의 객체가 이미 name에 대한 정보를 가지고 있기 때문에\n",
        "#또 name을 받을 필요가 없음\n",
        "    def say_hello(self):\n",
        "        print(f\"Hello! I'm {self.name}\")\n",
        "\n",
        "person1 = Person(\"Yang\")\n",
        "person2 = Person(\"Shin\")"
      ],
      "metadata": {
        "colab": {
          "base_uri": "https://localhost:8080/"
        },
        "id": "KM-OenO5vPLE",
        "outputId": "6900ba87-c5df-483b-f6b3-7a2af871909b"
      },
      "execution_count": null,
      "outputs": [
        {
          "output_type": "stream",
          "name": "stdout",
          "text": [
            "Hello! I'm Yang\n",
            "Hello! I'm Shin\n"
          ]
        }
      ]
    },
    {
      "cell_type": "markdown",
      "source": [
        "#Logic Gate Class로 구현하기"
      ],
      "metadata": {
        "id": "ksYP8SmOLEx6"
      }
    },
    {
      "cell_type": "code",
      "source": [
        "class LG:\n",
        "    def __init__(self, weight1, weight2, bias):\n",
        "        self.weight1 = weight1\n",
        "        self.weight2 = weight2\n",
        "        self.bias = bias\n",
        "\n",
        "    def forward(self, x1, x2):\n",
        "        Y = (self.weight1*x1 + self.weight2*x2 + self.bias)\n",
        "        if Y >= 0:\n",
        "            return 1\n",
        "        else:\n",
        "            return 0"
      ],
      "metadata": {
        "id": "51kPceayLEk0"
      },
      "execution_count": null,
      "outputs": []
    },
    {
      "cell_type": "code",
      "source": [
        "class LG:\n",
        "    def __init__(self, w1, w2, b):\n",
        "        self.w1 = w1\n",
        "        self.wt2 = w2\n",
        "        self.b= b\n",
        "\n",
        "    def forward(self, x1, x2):\n",
        "        Y = (self.w1*x1 + self.w2*x2 + self.b)\n",
        "        if Y > 0:\n",
        "            return 1\n",
        "        else:\n",
        "            return 0\n",
        "\n",
        "#and gate\n",
        "class ANDGate:\n",
        "    def __init__(self):\n",
        "        self.gate = LG(w1=0.5, w2=0.5, b=-0.7)\n",
        "    def forward(self, x1, x2):\n",
        "        return self.gate.forward(x1,x2)\n",
        "\n",
        "#nand gate\n",
        "class NANDGate:\n",
        "    def __init__(self):\n",
        "        self.gate = LG(w1=-0.5, w2=-0.5, b=0.7)\n",
        "    def forward(self, x1, x2):\n",
        "        return self.gate.forward(x1,x2)\n",
        "\n",
        "#or gate\n",
        "class ORGate:\n",
        "    def __init__(self):\n",
        "        self.gate = LG(w1=0.5, w2=0.5, b=-0.2)\n",
        "    def forward(self, x1, x2):\n",
        "        return self.gate.forward(x1,x2)\n",
        "\n",
        "#nor gate\n",
        "class NORGate:\n",
        "    def __init__(self):\n",
        "        self.gate = LG(w1=-0.5, w2=-0.5, b=0.2)\n",
        "    def forward(self, x1, x2):\n",
        "        return self.gate.forward(x1,x2)"
      ],
      "metadata": {
        "id": "IordiE8lRjGn"
      },
      "execution_count": null,
      "outputs": []
    },
    {
      "cell_type": "code",
      "source": [
        "#XOR Gate 구현하기\n",
        "class XORGate:\n",
        "    def __init__(self):\n",
        "        self.nand_ = NANDGate()\n",
        "        self.or_ = ORGate()\n",
        "        self.and_ = ANDGate()\n",
        "\n",
        "    def foward(self, x1, x2):\n",
        "        p = self.nand_.forward(x1, x2)\n",
        "        q = self.or_.forward(x1, x2)\n",
        "\n",
        "        z = self.and_.forward(p,q)\n",
        "        return z"
      ],
      "metadata": {
        "id": "Vh-Xgot3mIPP"
      },
      "execution_count": null,
      "outputs": []
    },
    {
      "cell_type": "code",
      "source": [
        "#XNOR Gate 구현하기\n",
        "class XNORGate:\n",
        "    def __init__(self):\n",
        "        self.nor_ = NORGate()\n",
        "        self.and_ = ANDGate()\n",
        "        self.or_ = ORGate()\n",
        "\n",
        "    def foward(self, x1, x2):\n",
        "        p = self.nor_.forward(x1, x2)\n",
        "        q = self.and_.forward(x1, x2)\n",
        "\n",
        "        z = self.or_.forward(p,q)\n",
        "        return z"
      ],
      "metadata": {
        "id": "FWaRvimmnC8r"
      },
      "execution_count": null,
      "outputs": []
    },
    {
      "cell_type": "code",
      "source": [
        "#검증할 때 사용하는 코드\n",
        "#파이참에서는 main이라고 치면 바로 뜸.\n",
        "class LogicGate:\n",
        "    def __init__(self, w1, w2, b):\n",
        "        self.w1, self.w2, self.b = w1, w2, b\n",
        "\n",
        "    def forward(self, x1, x2):\n",
        "        z = self.w1 * x1 + self.w2 * x2 + self.b\n",
        "        if z > 0: return 1\n",
        "        else: return 0\n",
        "\n",
        "\n",
        "class ANDGate:\n",
        "    def __init__(self):\n",
        "        self.gate = LogicGate(w1=0.5, w2=0.5, b=-0.7)\n",
        "\n",
        "    def forward(self, x1, x2):\n",
        "        return self.gate.forward(x1, x2)\n",
        "\n",
        "\n",
        "class NANDGate:\n",
        "    def __init__(self):\n",
        "        self.gate = LogicGate(w1=-0.5, w2=-0.5, b=0.7)\n",
        "\n",
        "    def forward(self, x1, x2):\n",
        "        return self.gate.forward(x1, x2)\n",
        "\n",
        "\n",
        "class ORGate:\n",
        "    def __init__(self):\n",
        "        self.gate = LogicGate(w1=0.5, w2=0.5, b=-0.2)\n",
        "\n",
        "    def forward(self, x1, x2):\n",
        "        return self.gate.forward(x1, x2)\n",
        "\n",
        "\n",
        "class NORGate:\n",
        "    def __init__(self):\n",
        "        self.gate = LogicGate(w1=-0.5, w2=-0.5, b=0.2)\n",
        "\n",
        "    def forward(self, x1, x2):\n",
        "        return self.gate.forward(x1, x2)\n",
        "\n",
        "\n",
        "class XORGate:\n",
        "    def __init__(self):\n",
        "        self.nand_ = NANDGate()\n",
        "        self.or_ = ORGate()\n",
        "        self.and_ = ANDGate()\n",
        "\n",
        "    def forward(self, x1, x2):\n",
        "        p = self.nand_.forward(x1, x2)\n",
        "        q = self.or_.forward(x1, x2)\n",
        "\n",
        "        z = self.and_.forward(p, q)\n",
        "        return z\n",
        "\n",
        "\n",
        "class XNORGate:\n",
        "    def __init__(self):\n",
        "        self.nor_ = NORGate()\n",
        "        self.and_ = ANDGate()\n",
        "        self.or_ = ORGate()\n",
        "\n",
        "    def forward(self, x1, x2):\n",
        "        p = self.nor_.forward(x1, x2)\n",
        "        q = self.and_.forward(x1, x2)\n",
        "\n",
        "        z = self.or_.forward(p, q)\n",
        "        return z\n",
        "\n",
        "if __name__ == '__main__':\n",
        "    xor_gate = XORGate()\n",
        "    print(xor_gate.forward(0, 0))\n",
        "    print(xor_gate.forward(1, 0))\n",
        "    print(xor_gate.forward(0, 1))\n",
        "    print(xor_gate.forward(1, 1))"
      ],
      "metadata": {
        "colab": {
          "base_uri": "https://localhost:8080/"
        },
        "id": "8q0DeZp5n0FJ",
        "outputId": "cf8f7294-5718-4e77-d0ed-59d3bcea09e2"
      },
      "execution_count": null,
      "outputs": [
        {
          "output_type": "stream",
          "name": "stdout",
          "text": [
            "0\n",
            "1\n",
            "1\n",
            "0\n"
          ]
        }
      ]
    },
    {
      "cell_type": "code",
      "source": [
        "class LogicGate:\n",
        "    def __init__(self, w1, w2, b):\n",
        "        self.w1, self.w2, self.b = w1, w2, b\n",
        "\n",
        "    def __call__(self, x1, x2):\n",
        "        z = self.w1 * x1 + self.w2 * x2 + self.b\n",
        "        if z > 0: return 1\n",
        "        else: return 0\n",
        "\n",
        "\n",
        "\n",
        "class ANDGate:\n",
        "    def __init__(self):\n",
        "        self.gate = LogicGate(w1=0.5, w2=0.5, b=-0.7)\n",
        "\n",
        "    def __call__(self, x1, x2):\n",
        "        return self.gate(x1, x2)\n",
        "\n",
        "\n",
        "class NANDGate:\n",
        "    def __init__(self):\n",
        "        self.gate = LogicGate(w1=-0.5, w2=-0.5, b=0.7)\n",
        "\n",
        "    def __call__(self, x1, x2):\n",
        "        return self.gate(x1, x2)\n",
        "\n",
        "\n",
        "class ORGate:\n",
        "    def __init__(self):\n",
        "        self.gate = LogicGate(w1=0.5, w2=0.5, b=-0.2)\n",
        "\n",
        "    def __call__(self, x1, x2):\n",
        "        return self.gate(x1, x2)\n",
        "\n",
        "\n",
        "class NORGate:\n",
        "    def __init__(self):\n",
        "        self.gate = LogicGate(w1=-0.5, w2=-0.5, b=0.2)\n",
        "\n",
        "    def __call__(self, x1, x2):\n",
        "        return self.gate(x1, x2)\n",
        "\n",
        "\n",
        "class XORGate:\n",
        "    def __init__(self):\n",
        "        self.nand_ = NANDGate()\n",
        "        self.or_ = ORGate()\n",
        "        self.and_ = ANDGate()\n",
        "\n",
        "    def __call__(self, x1, x2):\n",
        "        p = self.nand_(x1, x2)\n",
        "        q = self.or_(x1, x2)\n",
        "\n",
        "        z = self.and_(p, q)\n",
        "        return z\n",
        "\n",
        "\n",
        "class XNORGate:\n",
        "    def __init__(self):\n",
        "        self.nor_ = NORGate()\n",
        "        self.and_ = ANDGate()\n",
        "        self.or_ = ORGate()\n",
        "\n",
        "    def __call__(self, x1, x2):\n",
        "        p = self.nor_(x1, x2)\n",
        "        q = self.and_(x1, x2)\n",
        "\n",
        "        z = self.or_(p, q)\n",
        "        return z\n",
        "\n",
        "if __name__ == '__main__':\n",
        "    xor_gate = XORGate()\n",
        "    print(xor_gate(0, 0))\n",
        "    print(xor_gate(1, 0))\n",
        "    print(xor_gate(0, 1))\n",
        "    print(xor_gate(1, 1))"
      ],
      "metadata": {
        "colab": {
          "base_uri": "https://localhost:8080/"
        },
        "id": "0coO5rM8uSrh",
        "outputId": "8c26bd00-1863-4a05-bc30-68cb7fb54a59"
      },
      "execution_count": null,
      "outputs": [
        {
          "output_type": "stream",
          "name": "stdout",
          "text": [
            "0\n",
            "1\n",
            "1\n",
            "0\n"
          ]
        }
      ]
    }
  ]
}