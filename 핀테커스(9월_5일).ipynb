{
  "nbformat": 4,
  "nbformat_minor": 0,
  "metadata": {
    "colab": {
      "provenance": [],
      "authorship_tag": "ABX9TyP06+V2pvPeDzprVl6sHXhv",
      "include_colab_link": true
    },
    "kernelspec": {
      "name": "python3",
      "display_name": "Python 3"
    },
    "language_info": {
      "name": "python"
    }
  },
  "cells": [
    {
      "cell_type": "markdown",
      "metadata": {
        "id": "view-in-github",
        "colab_type": "text"
      },
      "source": [
        "<a href=\"https://colab.research.google.com/github/cowsilver57/sessac_test/blob/main/%ED%95%80%ED%85%8C%EC%BB%A4%EC%8A%A4(9%EC%9B%94_5%EC%9D%BC).ipynb\" target=\"_parent\"><img src=\"https://colab.research.google.com/assets/colab-badge.svg\" alt=\"Open In Colab\"/></a>"
      ]
    },
    {
      "cell_type": "code",
      "source": [
        "x2 = int(input('숫자를 입력하세요 : '))\n",
        "if x2 % 2 == 0 :\n",
        "    print(f'{x2}는 짝수입니다.')\n",
        "else :\n",
        "    print(f'{x2}는 홀수입니다.')"
      ],
      "metadata": {
        "id": "CfJLQm3czBdM",
        "outputId": "e9a01202-b2f2-4e1d-eaa3-f0ca3436722e",
        "colab": {
          "base_uri": "https://localhost:8080/"
        }
      },
      "execution_count": null,
      "outputs": [
        {
          "output_type": "stream",
          "name": "stdout",
          "text": [
            "숫자를 입력하세요 : 5\n",
            "5는 홀수입니다.\n"
          ]
        }
      ]
    },
    {
      "cell_type": "code",
      "source": [],
      "metadata": {
        "id": "cBZMAR8pzBgr"
      },
      "execution_count": null,
      "outputs": []
    },
    {
      "cell_type": "code",
      "source": [],
      "metadata": {
        "id": "PmE6RRkZzC3D"
      },
      "execution_count": null,
      "outputs": []
    }
  ]
}