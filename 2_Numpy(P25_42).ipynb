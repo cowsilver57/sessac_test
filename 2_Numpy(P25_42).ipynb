{
  "nbformat": 4,
  "nbformat_minor": 0,
  "metadata": {
    "colab": {
      "provenance": [],
      "authorship_tag": "ABX9TyO45yQbbMzCVAmEPsbP11a1",
      "include_colab_link": true
    },
    "kernelspec": {
      "name": "python3",
      "display_name": "Python 3"
    },
    "language_info": {
      "name": "python"
    }
  },
  "cells": [
    {
      "cell_type": "markdown",
      "metadata": {
        "id": "view-in-github",
        "colab_type": "text"
      },
      "source": [
        "<a href=\"https://colab.research.google.com/github/cowsilver57/sessac_test/blob/main/2_Numpy(P25_42).ipynb\" target=\"_parent\"><img src=\"https://colab.research.google.com/assets/colab-badge.svg\" alt=\"Open In Colab\"/></a>"
      ]
    },
    {
      "cell_type": "code",
      "execution_count": 1,
      "metadata": {
        "id": "W1hUGU6cCVTi"
      },
      "outputs": [],
      "source": [
        "import numpy as np"
      ]
    },
    {
      "cell_type": "markdown",
      "source": [
        "# Specific Values"
      ],
      "metadata": {
        "id": "Ciy0-e7OFGe_"
      }
    },
    {
      "cell_type": "code",
      "source": [
        "#P25-26\n",
        "#zeros -> 0으로 채워넣기\n",
        "M = np.zeros(shape=(2,3))\n",
        "print(M.shape)\n",
        "print(M)\n",
        "#ones -> 1으로 채워넣기\n",
        "M = np.ones(shape=(2,3))\n",
        "print(M.shape)\n",
        "print(M)\n",
        "#full -> 원하는 수로 채워넣기\n",
        "M = np.full(shape=(2,3),fill_value=3.14)\n",
        "print(M.shape)\n",
        "print(M)\n",
        "#empty -> 빈 배열 생성하기\n",
        "M = np.empty(shape=(2,3))\n",
        "print(M.shape)\n",
        "print(M) #초기화되지 않았기 때문에 이전 배열의 값으로 채워짐."
      ],
      "metadata": {
        "colab": {
          "base_uri": "https://localhost:8080/"
        },
        "id": "bGLxt_64CdUe",
        "outputId": "90290b61-8564-4873-f336-45996d989a4b"
      },
      "execution_count": 8,
      "outputs": [
        {
          "output_type": "stream",
          "name": "stdout",
          "text": [
            "(2, 3)\n",
            "[[0. 0. 0.]\n",
            " [0. 0. 0.]]\n",
            "(2, 3)\n",
            "[[1. 1. 1.]\n",
            " [1. 1. 1.]]\n",
            "(2, 3)\n",
            "[[3.14 3.14 3.14]\n",
            " [3.14 3.14 3.14]]\n",
            "(2, 3)\n",
            "[[3.14 3.14 3.14]\n",
            " [3.14 3.14 3.14]]\n"
          ]
        }
      ]
    },
    {
      "cell_type": "markdown",
      "source": [
        "#Fixed Intervals/Points"
      ],
      "metadata": {
        "id": "Fa7Fd5d3FLWy"
      }
    },
    {
      "cell_type": "code",
      "source": [
        "#P27 arrange 함수\n",
        "#10개의 숫자 출력하기\n",
        "print(list(range(10)))\n",
        "print(np.arange(10))\n",
        "#2부터 4까지 출력하기\n",
        "print(list(range(2,5)))\n",
        "print(np.arange(2,5))\n",
        "#2부터 9까지 2의 간격으로 출력하기\n",
        "print(list(range(2,10,2)))\n",
        "print(np.arange(2,10,2))\n",
        "\n",
        "#P28 소수 뽑아내기\n",
        "print(np.arange(10.5))\n",
        "print(np.arange(1.5,10.5))\n",
        "print(np.arange(1.5,10.5,2.5))"
      ],
      "metadata": {
        "colab": {
          "base_uri": "https://localhost:8080/"
        },
        "id": "dVhKBMGxEDk0",
        "outputId": "6de40202-91d2-4bf3-ecea-655393f4cea1"
      },
      "execution_count": 13,
      "outputs": [
        {
          "output_type": "stream",
          "name": "stdout",
          "text": [
            "[0, 1, 2, 3, 4, 5, 6, 7, 8, 9]\n",
            "[0 1 2 3 4 5 6 7 8 9]\n",
            "[2, 3, 4]\n",
            "[2 3 4]\n",
            "[2, 4, 6, 8]\n",
            "[2 4 6 8]\n",
            "[ 0.  1.  2.  3.  4.  5.  6.  7.  8.  9. 10.]\n",
            "[1.5 2.5 3.5 4.5 5.5 6.5 7.5 8.5 9.5]\n",
            "[1.5 4.  6.5 9. ]\n"
          ]
        }
      ]
    },
    {
      "cell_type": "code",
      "source": [
        "#P29 linspace 함수\n",
        "\n",
        "#0부터 1 사이의 5개의 숫자 뽑아내기\n",
        "print(np.linspace(0,1,5))\n",
        "\n",
        "#0부터 1 사이의 10개의 숫자 뽑아내기\n",
        "print(np.linspace(0,1,10))"
      ],
      "metadata": {
        "colab": {
          "base_uri": "https://localhost:8080/"
        },
        "id": "LJxkpEfmEnKM",
        "outputId": "49a255ea-9de8-4245-92a3-cdc28666e4fb"
      },
      "execution_count": 16,
      "outputs": [
        {
          "output_type": "stream",
          "name": "stdout",
          "text": [
            "[0.   0.25 0.5  0.75 1.  ]\n",
            "[0.         0.11111111 0.22222222 0.33333333 0.44444444 0.55555556\n",
            " 0.66666667 0.77777778 0.88888889 1.        ]\n"
          ]
        }
      ]
    },
    {
      "cell_type": "markdown",
      "source": [
        "# Random Distributions"
      ],
      "metadata": {
        "id": "Wt2NgKboFQBZ"
      }
    },
    {
      "cell_type": "markdown",
      "source": [
        "##Normal Distributions"
      ],
      "metadata": {
        "id": "QK0mJCwUFWgG"
      }
    },
    {
      "cell_type": "code",
      "source": [
        "#P30-32\n",
        "#random.randn 함수\n",
        "import matplotlib.pyplot as plt\n",
        "plt.style.use('seaborn')\n",
        "fig, ax = plt.subplots(figsize=(10,5))\n",
        "\n",
        "#평균이 0이고 표준 편차가 1인 정규 분포(표준 정규 분포)에서 무작위로 300개의 숫자를 생성\n",
        "random_values = np.random.randn(300)\n",
        "#bins는 히스토그램 막대 개수를 설정\n",
        "ax.hist(random_values,bins=20)\n",
        "print(random_values.shape)"
      ],
      "metadata": {
        "colab": {
          "base_uri": "https://localhost:8080/",
          "height": 445
        },
        "id": "0xCMxpdOFCoU",
        "outputId": "2fb2058a-8175-4279-8304-b54fc9e29fa1"
      },
      "execution_count": 19,
      "outputs": [
        {
          "output_type": "stream",
          "name": "stderr",
          "text": [
            "<ipython-input-19-4aceb7568469>:4: MatplotlibDeprecationWarning: The seaborn styles shipped by Matplotlib are deprecated since 3.6, as they no longer correspond to the styles shipped by seaborn. However, they will remain available as 'seaborn-v0_8-<style>'. Alternatively, directly use the seaborn API instead.\n",
            "  plt.style.use('seaborn')\n"
          ]
        },
        {
          "output_type": "stream",
          "name": "stdout",
          "text": [
            "(300,)\n"
          ]
        },
        {
          "output_type": "display_data",
          "data": {
            "text/plain": [
              "<Figure size 1000x500 with 1 Axes>"
            ],
            "image/png": "[encoded data removed]"
          },
          "metadata": {}
        }
      ]
    },
    {
      "cell_type": "code",
      "source": [
        "#P33-34 정규분포를 따르는 함수\n",
        "#하나씩 생성하기\n",
        "normal1 = np.random.normal(loc=-2, scale=1, size=(200,))\n",
        "normal2 = np.random.normal(loc=0, scale=2, size=(200,))\n",
        "normal3 = np.random.normal(loc=3, scale=5, size=(200,))\n",
        "\n",
        "#한번에 3개 생성하기\n",
        "normal = np.random.normal(loc=[-2,0,3],\n",
        "                          scale=[1,2,5],\n",
        "                          size=(200,3))\n",
        "\n",
        "#P35\n",
        "#평균이 -2, 표준편차가 1, 배열이 3,3인 정규분포 생성\n",
        "normal = np.random.normal(loc=-2, scale=1, size=(3,3))\n",
        "print(normal)"
      ],
      "metadata": {
        "colab": {
          "base_uri": "https://localhost:8080/"
        },
        "id": "jJFsP9QjG1lV",
        "outputId": "4a5cd43b-2451-4a54-cc79-99a61019f64c"
      },
      "execution_count": 27,
      "outputs": [
        {
          "output_type": "stream",
          "name": "stdout",
          "text": [
            "[[-1.27769495 -3.54579402 -2.89737863]\n",
            " [-3.63179455 -1.73453594 -3.76607912]\n",
            " [-2.38378023 -1.22506279 -0.88570188]]\n"
          ]
        }
      ]
    },
    {
      "cell_type": "markdown",
      "source": [
        "## Uniform Distributions"
      ],
      "metadata": {
        "id": "7ZxzsQ4kHwwV"
      }
    },
    {
      "cell_type": "code",
      "source": [
        "#P36-38 rand 함수\n",
        "#rand : 함수는 0부터 1 사이의 균일한 분포(균등 분포)에서 난수를 생성하는 함수\n",
        "fig, ax = plt.subplots(figsize=(10,5))\n",
        "#0부터 1까지 1000개의 난수 생성\n",
        "uniform = np.random.rand(1000)\n",
        "ax.hist(uniform)\n",
        "print(uniform.shape)\n",
        "\n",
        "uniform = np.random.rand(2,3,4)\n",
        "print(uniform.shape)"
      ],
      "metadata": {
        "colab": {
          "base_uri": "https://localhost:8080/",
          "height": 404
        },
        "id": "k5-wXE5MG1Xr",
        "outputId": "6fa7e269-6c04-4e0e-df68-ce6919bc7619"
      },
      "execution_count": 32,
      "outputs": [
        {
          "output_type": "stream",
          "name": "stdout",
          "text": [
            "(1000,)\n",
            "(2, 3, 4)\n"
          ]
        },
        {
          "output_type": "display_data",
          "data": {
            "text/plain": [
              "<Figure size 1000x500 with 1 Axes>"
            ],
            "image/png": "[encoded data removed]"
          },
          "metadata": {}
        }
      ]
    },
    {
      "cell_type": "code",
      "source": [
        "#P39 uniform 함수\n",
        "#uniform : 함수는 지정한 최솟값(min)과 최댓값(max) 범위 사이에서 균일한 분포에서 난수를 생성하는 함수\n",
        "plt.style.use('seaborn')\n",
        "fig, ax = plt.subplots(figsize=(10,5))\n",
        "#최소 -10, 최대 10에서 10000개의 난수 생성\n",
        "uniform = np.random.uniform(low=-10, high=10, size=(5,))\n",
        "ax.hist(uniform, bins=20)\n",
        "print(uniform)"
      ],
      "metadata": {
        "colab": {
          "base_uri": "https://localhost:8080/",
          "height": 443
        },
        "id": "-D9LjhmXLTN-",
        "outputId": "e9ec3b7c-bdaa-484b-de0b-ac61d7409120"
      },
      "execution_count": 36,
      "outputs": [
        {
          "output_type": "stream",
          "name": "stderr",
          "text": [
            "<ipython-input-36-929edbb8d2bb>:3: MatplotlibDeprecationWarning: The seaborn styles shipped by Matplotlib are deprecated since 3.6, as they no longer correspond to the styles shipped by seaborn. However, they will remain available as 'seaborn-v0_8-<style>'. Alternatively, directly use the seaborn API instead.\n",
            "  plt.style.use('seaborn')\n"
          ]
        },
        {
          "output_type": "stream",
          "name": "stdout",
          "text": [
            "[-9.89389848  6.0261836   8.27314697 -3.88190271  3.11651003]\n"
          ]
        },
        {
          "output_type": "display_data",
          "data": {
            "text/plain": [
              "<Figure size 1000x500 with 1 Axes>"
            ],
            "image/png": "[encoded data removed]"
          },
          "metadata": {}
        }
      ]
    },
    {
      "cell_type": "code",
      "source": [
        "#P40 randint 함수\n",
        "#randint : 주어진 최솟값(min)과 최댓값(max) 범위 사이 정수 중 난수 생성\n",
        "#0과 7 사이에서 20개의 정수인 난수 생성\n",
        "randint = np.random.randint(low=0, high=7, size=(20,))\n",
        "print(randint)"
      ],
      "metadata": {
        "colab": {
          "base_uri": "https://localhost:8080/"
        },
        "id": "j7JFhZcCLw14",
        "outputId": "781bdcb7-8512-4e52-c57e-ad7a897acfe8"
      },
      "execution_count": 38,
      "outputs": [
        {
          "output_type": "stream",
          "name": "stdout",
          "text": [
            "[6 6 2 6 3 2 2 2 2 6 6 6 2 1 0 6 6 4 5 0]\n"
          ]
        }
      ]
    },
    {
      "cell_type": "markdown",
      "source": [
        "#ndim, shape, and size"
      ],
      "metadata": {
        "id": "-dwZrzMTMQkl"
      }
    },
    {
      "cell_type": "markdown",
      "source": [
        "##ndarray.shape"
      ],
      "metadata": {
        "id": "whBJ1kEBMTZB"
      }
    },
    {
      "cell_type": "code",
      "source": [
        "#P41 numpy array의 배열\n",
        "a = np.array([1,2,3])\n",
        "b = np.array([[1,2,3]])\n",
        "c = np.array([[1],[2],[3]])\n",
        "\n",
        "print(f\"a: {a.shape}\\n{a}\\n\")\n",
        "print(f\"b: {b.shape}\\n{b}\\n\")\n",
        "print(f\"c: {c.shape}\\n{c}\\n\")"
      ],
      "metadata": {
        "colab": {
          "base_uri": "https://localhost:8080/"
        },
        "id": "EDVFmMJDMSwL",
        "outputId": "b8223465-6631-4761-dc44-f07c31deeb0c"
      },
      "execution_count": 40,
      "outputs": [
        {
          "output_type": "stream",
          "name": "stdout",
          "text": [
            "a: (3,)\n",
            "[1 2 3]\n",
            "\n",
            "b: (1, 3)\n",
            "[[1 2 3]]\n",
            "\n",
            "c: (3, 1)\n",
            "[[1]\n",
            " [2]\n",
            " [3]]\n",
            "\n"
          ]
        }
      ]
    },
    {
      "cell_type": "markdown",
      "source": [
        "##ndarray.size"
      ],
      "metadata": {
        "id": "UgS9hX9kMrEV"
      }
    },
    {
      "cell_type": "code",
      "source": [
        "#P42 numpy array의 크기\n",
        "M = np.ones(shape=(10,))\n",
        "N = np.ones(shape=(3,4))\n",
        "O = np.ones(shape=(3,4,5))\n",
        "P = np.ones(shape=(2,3,4,5,6))\n",
        "\n",
        "print(\"Size of M:\", M.size)\n",
        "print(\"Size of N:\", N.size)\n",
        "print(\"Size of O:\", O.size)\n",
        "print(\"Size of P:\", P.size)"
      ],
      "metadata": {
        "colab": {
          "base_uri": "https://localhost:8080/"
        },
        "id": "tOkagZ7VMsdI",
        "outputId": "eba33142-d843-4803-cb96-276758b84001"
      },
      "execution_count": 42,
      "outputs": [
        {
          "output_type": "stream",
          "name": "stdout",
          "text": [
            "Size of M: 10\n",
            "Size of N: 12\n",
            "Size of O: 60\n",
            "Size of P: 720\n"
          ]
        }
      ]
    }
  ]
}