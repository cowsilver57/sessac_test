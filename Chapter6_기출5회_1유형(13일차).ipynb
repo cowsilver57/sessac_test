{
  "nbformat": 4,
  "nbformat_minor": 0,
  "metadata": {
    "colab": {
      "provenance": [],
      "authorship_tag": "ABX9TyMqX0gk2ThYpBfC5tIMzuoa",
      "include_colab_link": true
    },
    "kernelspec": {
      "name": "python3",
      "display_name": "Python 3"
    },
    "language_info": {
      "name": "python"
    }
  },
  "cells": [
    {
      "cell_type": "markdown",
      "metadata": {
        "id": "view-in-github",
        "colab_type": "text"
      },
      "source": [
        "<a href=\"https://colab.research.google.com/github/cowsilver57/sessac_test/blob/main/Chapter6_%EA%B8%B0%EC%B6%9C5%ED%9A%8C_1%EC%9C%A0%ED%98%95(13%EC%9D%BC%EC%B0%A8).ipynb\" target=\"_parent\"><img src=\"https://colab.research.google.com/assets/colab-badge.svg\" alt=\"Open In Colab\"/></a>"
      ]
    },
    {
      "cell_type": "code",
      "source": [
        "#github와 colab 연동\n",
        "!git clone https://github.com/AnalyticsKnight/yemoonsaBigdata"
      ],
      "metadata": {
        "colab": {
          "base_uri": "https://localhost:8080/"
        },
        "id": "2dP6yc5k0WrD",
        "outputId": "49587a4a-a519-47ca-d760-8382b8a3b050"
      },
      "execution_count": 1,
      "outputs": [
        {
          "output_type": "stream",
          "name": "stdout",
          "text": [
            "Cloning into 'yemoonsaBigdata'...\n",
            "remote: Enumerating objects: 637, done.\u001b[K\n",
            "remote: Counting objects: 100% (274/274), done.\u001b[K\n",
            "remote: Compressing objects: 100% (165/165), done.\u001b[K\n",
            "remote: Total 637 (delta 136), reused 184 (delta 109), pack-reused 363\u001b[K\n",
            "Receiving objects: 100% (637/637), 10.76 MiB | 11.22 MiB/s, done.\n",
            "Resolving deltas: 100% (321/321), done.\n"
          ]
        }
      ]
    },
    {
      "cell_type": "markdown",
      "source": [
        "# 문제 1\n"
      ],
      "metadata": {
        "id": "g53bHvNk0Vql"
      }
    },
    {
      "cell_type": "markdown",
      "source": [
        "주어진 trash bag 데이터 세트는 지역별 종량제 봉투 가격을 나타낸다.\n",
        "\n",
        "가격 컬럼은 각 행의 조건을 만족하는 해당 용량의 종량제 봉투가 존재하면 가격을 값으로, 존재하지 않으면 0을 값으로 갖는다.\n",
        "\n",
        "이때 용도가 '음식물쓰레기'이고 사용 대상이 '가정용'인 2L 봉투 가격의 평균을 소수점을 버린 후 정수로 출력하시오."
      ],
      "metadata": {
        "id": "gRBWOvyO0gsd"
      }
    },
    {
      "cell_type": "code",
      "execution_count": 16,
      "metadata": {
        "id": "UfoQJL-_0AH6",
        "colab": {
          "base_uri": "https://localhost:8080/"
        },
        "outputId": "099b4073-eaec-4f9b-d904-b2b28843f9c1"
      },
      "outputs": [
        {
          "output_type": "stream",
          "name": "stdout",
          "text": [
            "   시도명 시군구명       종류 처리방식      용도 사용대상  1L가격  1.5L가격  2L가격  2.5L가격  ...  5L가격  \\\n",
            "0  강원도  강릉시     규격봉투  매립용   생활쓰레기   기타     0       0     0       0  ...   130   \n",
            "1  강원도  강릉시  재사용규격봉투  매립용   생활쓰레기   기타     0       0     0       0  ...     0   \n",
            "2  강원도  고성군     규격봉투  소각용   생활쓰레기  가정용     0       0     0       0  ...   140   \n",
            "3  강원도  고성군     규격봉투  소각용  음식물쓰레기  가정용     0       0    60       0  ...   120   \n",
            "4  강원도  고성군   특수규격마대  매립용   생활쓰레기  가정용     0       0     0       0  ...     0   \n",
            "\n",
            "   10L가격  20L가격  30L가격  50L가격  60L가격  75L가격  100L가격  120L가격  125L가격  \n",
            "0    270    520      0   1250      0   1880       0       0       0  \n",
            "1    270    520      0      0      0      0       0       0       0  \n",
            "2    260    500      0   1220      0      0    2410       0       0  \n",
            "3      0      0      0      0      0      0       0       0       0  \n",
            "4      0      0      0   1540      0      0       0       0       0  \n",
            "\n",
            "[5 rows x 21 columns]\n"
          ]
        }
      ],
      "source": [
        "import pandas as pd\n",
        "import numpy as np\n",
        "\n",
        "#만약 엑셀파일 안불러와지면 encoding='cp949' 꼭 입력하기\n",
        "df = pd.read_csv('/content/yemoonsaBigdata/datasets/Part3/501_trash_bag.csv', encoding='cp949')\n",
        "\n",
        "print(df.head())"
      ]
    },
    {
      "cell_type": "code",
      "source": [
        "#사용 대상 컬럼 값들 확인\n",
        "print(df['사용대상'].unique())"
      ],
      "metadata": {
        "colab": {
          "base_uri": "https://localhost:8080/"
        },
        "id": "c1G4SdF82m0S",
        "outputId": "a42b8661-9413-4998-aad7-803991100a24"
      },
      "execution_count": 17,
      "outputs": [
        {
          "output_type": "stream",
          "name": "stdout",
          "text": [
            "['기타' '가정용' '사업장용' '영업용' '영업장용' '범용']\n"
          ]
        }
      ]
    },
    {
      "cell_type": "code",
      "source": [
        "df_filtered = df[(df['용도']=='음식물쓰레기')&(df['사용대상']=='가정용')]\n",
        "print(df_filtered.head())"
      ],
      "metadata": {
        "colab": {
          "base_uri": "https://localhost:8080/"
        },
        "id": "VdJzKWln1tEp",
        "outputId": "8b11ff68-0964-441c-fd79-eef8618bd35c"
      },
      "execution_count": 23,
      "outputs": [
        {
          "output_type": "stream",
          "name": "stdout",
          "text": [
            "    시도명 시군구명    종류 처리방식      용도 사용대상  1L가격  1.5L가격  2L가격  2.5L가격  ...  5L가격  \\\n",
            "3   강원도  고성군  규격봉투  소각용  음식물쓰레기  가정용     0       0    60       0  ...   120   \n",
            "8   강원도  삼척시  규격봉투  매립용  음식물쓰레기  가정용     0       0     0       0  ...    80   \n",
            "9   강원도  양구군  규격봉투  매립용  음식물쓰레기  가정용     0       0    50       0  ...   120   \n",
            "12  강원도  양양군  규격봉투   기타  음식물쓰레기  가정용     0       0    40       0  ...    90   \n",
            "16  강원도  영월군  규격봉투  매립용  음식물쓰레기  가정용     0       0     0       0  ...   110   \n",
            "\n",
            "    10L가격  20L가격  30L가격  50L가격  60L가격  75L가격  100L가격  120L가격  125L가격  \n",
            "3       0      0      0      0      0      0       0       0       0  \n",
            "8     150    290      0      0      0      0       0       0       0  \n",
            "9     210    400      0      0      0      0       0       0       0  \n",
            "12    170    340      0      0      0      0       0       0       0  \n",
            "16    180    350      0    900      0   1350       0       0       0  \n",
            "\n",
            "[5 rows x 21 columns]\n"
          ]
        }
      ]
    },
    {
      "cell_type": "code",
      "source": [
        "rst_df = df_filtered[df_filtered['2L가격']!=0]\n",
        "print(rst_df.head())"
      ],
      "metadata": {
        "colab": {
          "base_uri": "https://localhost:8080/"
        },
        "id": "iquCq2Ny3evI",
        "outputId": "f3541188-e3e9-4140-d2b9-2c62f5aa3304"
      },
      "execution_count": 25,
      "outputs": [
        {
          "output_type": "stream",
          "name": "stdout",
          "text": [
            "    시도명 시군구명    종류 처리방식      용도 사용대상  1L가격  1.5L가격  2L가격  2.5L가격  ...  5L가격  \\\n",
            "3   강원도  고성군  규격봉투  소각용  음식물쓰레기  가정용     0       0    60       0  ...   120   \n",
            "9   강원도  양구군  규격봉투  매립용  음식물쓰레기  가정용     0       0    50       0  ...   120   \n",
            "12  강원도  양양군  규격봉투   기타  음식물쓰레기  가정용     0       0    40       0  ...    90   \n",
            "20  강원도  원주시  규격봉투   기타  음식물쓰레기  가정용     0       0    80       0  ...   170   \n",
            "33  강원도  춘천시  규격봉투  매립용  음식물쓰레기  가정용    40       0    50       0  ...   140   \n",
            "\n",
            "    10L가격  20L가격  30L가격  50L가격  60L가격  75L가격  100L가격  120L가격  125L가격  \n",
            "3       0      0      0      0      0      0       0       0       0  \n",
            "9     210    400      0      0      0      0       0       0       0  \n",
            "12    170    340      0      0      0      0       0       0       0  \n",
            "20    320    680      0   1690      0      0       0       0       0  \n",
            "33    230    470      0      0      0      0       0       0       0  \n",
            "\n",
            "[5 rows x 21 columns]\n"
          ]
        }
      ]
    },
    {
      "cell_type": "code",
      "source": [
        "result = int(rst_df['2L가격'].mean())\n",
        "print(result)"
      ],
      "metadata": {
        "colab": {
          "base_uri": "https://localhost:8080/"
        },
        "id": "nLuUL7aj3w3h",
        "outputId": "153e495c-c1b5-4dc3-f9aa-abe9a3c3cca4"
      },
      "execution_count": 27,
      "outputs": [
        {
          "output_type": "stream",
          "name": "stdout",
          "text": [
            "119\n"
          ]
        }
      ]
    },
    {
      "cell_type": "markdown",
      "source": [
        "#문제 1 정답 코드"
      ],
      "metadata": {
        "id": "ZfzdLXgs4DQv"
      }
    },
    {
      "cell_type": "code",
      "source": [
        "import pandas as pd\n",
        "\n",
        "df = pd.read_csv('/content/yemoonsaBigdata/datasets/Part3/501_trash_bag.csv', encoding='cp949')\n",
        "\n",
        "df_filtered = df[(df['용도']=='음식물쓰레기')&(df['사용대상']=='가정용')]\n",
        "rst_df = df_filtered[df_filtered['2L가격']!=0]\n",
        "\n",
        "result = int(rst_df['2L가격'].mean())\n",
        "\n",
        "print(result)"
      ],
      "metadata": {
        "colab": {
          "base_uri": "https://localhost:8080/"
        },
        "id": "-xvxB-DV4C0P",
        "outputId": "6b1ae406-68c6-4d2e-fcca-7549df42653f"
      },
      "execution_count": 32,
      "outputs": [
        {
          "output_type": "stream",
          "name": "stdout",
          "text": [
            "119\n"
          ]
        }
      ]
    },
    {
      "cell_type": "markdown",
      "source": [
        "#문제 2"
      ],
      "metadata": {
        "id": "64FLPC-l41yZ"
      }
    },
    {
      "cell_type": "markdown",
      "source": [
        "BMI 지수는 몸무게(kg)를 키(cm)의 제곱으로 나누어 구하며, BMI 값에 따른 비만도 분류는 다음과 같다.\n",
        "\n",
        "\n",
        "\n",
        "* 18.5 미만 : 저체중\n",
        "* 18.5 이상 23 미만 : 정상\n",
        "* 23 이상 25 미만 : 과체중\n",
        "* 25 이상 30 미만 : 경도비만\n",
        "* 30 이상 : 중등도비만\n",
        "\n",
        "\n",
        "이때 주어진 bmi 데이터 세트에서 비만도가 정상에 속하는 인원 수와 과체중에 속하는 인원 수의 차이를 정수로 출력하시오."
      ],
      "metadata": {
        "id": "IcRd-5Rq43F_"
      }
    },
    {
      "cell_type": "code",
      "source": [
        "import pandas as pd\n",
        "df = pd.read_csv('/content/yemoonsaBigdata/datasets/Part3/502_bmi.csv')"
      ],
      "metadata": {
        "id": "uv1wb5Q842jB"
      },
      "execution_count": 49,
      "outputs": []
    },
    {
      "cell_type": "code",
      "source": [
        "#bmi 지수 계산해서 새로운 칼럼으로 넣기\n",
        "df['bmi'] = df['Weight']/((df['Height']/100)**2)"
      ],
      "metadata": {
        "id": "B83DQjqR7KE8"
      },
      "execution_count": 46,
      "outputs": []
    },
    {
      "cell_type": "code",
      "source": [
        "#정상, 과체중 범위 설정하고, len으로 인원 수 측정하기\n",
        "n1 = len(df[(df['bmi']>=18.5)&(df['bmi']<23)])\n",
        "n2 = len(df[(df['bmi']>=23)&(df['bmi']<25)])\n",
        "print(n1, n2)"
      ],
      "metadata": {
        "colab": {
          "base_uri": "https://localhost:8080/"
        },
        "id": "LOsRhTOm7ONQ",
        "outputId": "5cc83aad-d1fd-437a-9550-31b179fd4e55"
      },
      "execution_count": 47,
      "outputs": [
        {
          "output_type": "stream",
          "name": "stdout",
          "text": [
            "47 19\n"
          ]
        }
      ]
    },
    {
      "cell_type": "code",
      "source": [
        "#두 수의 차이를 절댓값으로 표시하기\n",
        "result = abs(n1-n2)\n",
        "print(result)"
      ],
      "metadata": {
        "colab": {
          "base_uri": "https://localhost:8080/"
        },
        "id": "n0EMwQWC7WKP",
        "outputId": "f68f5943-2054-4787-d488-fd86d419463b"
      },
      "execution_count": 48,
      "outputs": [
        {
          "output_type": "stream",
          "name": "stdout",
          "text": [
            "28\n"
          ]
        }
      ]
    },
    {
      "cell_type": "markdown",
      "source": [
        "#문제 2 정답 코드"
      ],
      "metadata": {
        "id": "mm7rGuqL7eXj"
      }
    },
    {
      "cell_type": "code",
      "source": [
        "import pandas as pd\n",
        "df = pd.read_csv('/content/yemoonsaBigdata/datasets/Part3/502_bmi.csv')\n",
        "\n",
        "df['bmi'] = df['Weight']/((df['Height']/100)**2)\n",
        "n1 = len(df[(df['bmi']>=18.5)&(df['bmi']<23)])\n",
        "n2 = len(df[(df['bmi']>=23)&(df['bmi']<25)])\n",
        "\n",
        "result = abs(n1-n2)\n",
        "print(result)"
      ],
      "metadata": {
        "colab": {
          "base_uri": "https://localhost:8080/"
        },
        "id": "J_56DpFY7fRg",
        "outputId": "46535ecd-b286-4de3-b243-5ed6c34eb8d7"
      },
      "execution_count": 50,
      "outputs": [
        {
          "output_type": "stream",
          "name": "stdout",
          "text": [
            "28\n"
          ]
        }
      ]
    },
    {
      "cell_type": "markdown",
      "source": [
        "#문제 3"
      ],
      "metadata": {
        "id": "yU8138_37n3f"
      }
    },
    {
      "cell_type": "markdown",
      "source": [
        "주어진 students 데이터 세트는 각 학교의 학년별 총 전입학생, 총 전출학생, 전체 학생 수를 나타낸다.\n",
        "\n",
        "순 전입학생 수는 총 전입학생 수에서 총 전출학생 수를 빼서 구할 수 있다.\n",
        "\n",
        "순 전입학생이 가장 많은 학교의 전체 학생 수를 구하시오."
      ],
      "metadata": {
        "id": "tGFTxWZ-7vWB"
      }
    },
    {
      "cell_type": "code",
      "source": [
        "import pandas as pd\n",
        "df = pd.read_csv('/content/yemoonsaBigdata/datasets/Part3/503_students.csv', encoding='cp949')"
      ],
      "metadata": {
        "id": "buJt6yW088yh"
      },
      "execution_count": 64,
      "outputs": []
    },
    {
      "cell_type": "code",
      "source": [
        "print(df.head())"
      ],
      "metadata": {
        "colab": {
          "base_uri": "https://localhost:8080/"
        },
        "id": "PnHj0VwW9P2f",
        "outputId": "fb6000db-c964-4cb9-9841-969e3e35c88b"
      },
      "execution_count": 72,
      "outputs": [
        {
          "output_type": "stream",
          "name": "stdout",
          "text": [
            "  학교  학년  총 전입학생  총 전출학생  전체 학생 수  순 전입학생\n",
            "0  A   1       9       1      222       8\n",
            "1  A   2      13       4      148       9\n",
            "2  A   3       8       7      196       1\n",
            "3  B   1       7       5      171       2\n",
            "4  B   2       9       1      216       8\n"
          ]
        }
      ]
    },
    {
      "cell_type": "code",
      "source": [
        "#순 전입학생 칼럼 계산해서 만들기\n",
        "df['순 전입학생'] = df['총 전입학생']-df['총 전출학생']\n",
        "print(df.head())"
      ],
      "metadata": {
        "colab": {
          "base_uri": "https://localhost:8080/"
        },
        "id": "oZsxm6Df9RsP",
        "outputId": "6fabc1ac-c0f8-4e9f-8afd-c67f5cc11153"
      },
      "execution_count": 66,
      "outputs": [
        {
          "output_type": "stream",
          "name": "stdout",
          "text": [
            "  학교  학년  총 전입학생  총 전출학생  전체 학생 수  순 전입학생\n",
            "0  A   1       9       1      222       8\n",
            "1  A   2      13       4      148       9\n",
            "2  A   3       8       7      196       1\n",
            "3  B   1       7       5      171       2\n",
            "4  B   2       9       1      216       8\n"
          ]
        }
      ]
    },
    {
      "cell_type": "code",
      "source": [
        "#순 전입학생이 가장 많은 학교의 전체 학생 수를 구하시오.\n",
        "#학교 별로 '순 전입학생 수'와 '전체 학생 수'의 합계 구하기\n",
        "rst_df = df.groupby(['학교'])[['순 전입학생','전체 학생 수']].sum()\n",
        "print(rst_df)"
      ],
      "metadata": {
        "colab": {
          "base_uri": "https://localhost:8080/"
        },
        "id": "ujfrhrn89d07",
        "outputId": "bb0401e1-3069-4bac-a3fc-ac1537be5779"
      },
      "execution_count": 69,
      "outputs": [
        {
          "output_type": "stream",
          "name": "stdout",
          "text": [
            "    순 전입학생  전체 학생 수\n",
            "학교                 \n",
            "A       18      566\n",
            "B       13      588\n",
            "C       -9      528\n",
            "D        7      548\n",
            "E       14      603\n",
            "F        1      481\n",
            "G       10      618\n",
            "H       -1      602\n"
          ]
        }
      ]
    },
    {
      "cell_type": "code",
      "source": [
        "#방법 1\n",
        "#rst_df에서 순 전입학생 수가 최대인 행을 찾고, '전체 학생 수' 컬럼 값을 최종 결괏값으로 출력함.\n",
        "result = rst_df.loc[rst_df['순 전입학생']==rst_df['순 전입학생'].max(),'전체 학생 수'].values[0]\n",
        "#뒤에 values[0]을 꼭 붙여야 함. 안그러면 답만 안나오고 series 형태로 출력됨.\n",
        "print(result)"
      ],
      "metadata": {
        "colab": {
          "base_uri": "https://localhost:8080/"
        },
        "id": "W8D2dnUB-DmX",
        "outputId": "b3bcce43-77f5-4150-87bb-dad021b763f7"
      },
      "execution_count": 77,
      "outputs": [
        {
          "output_type": "stream",
          "name": "stdout",
          "text": [
            "566\n"
          ]
        }
      ]
    },
    {
      "cell_type": "markdown",
      "source": [
        "# 문제 3 정답 코드"
      ],
      "metadata": {
        "id": "wBRTnvyy7sUS"
      }
    },
    {
      "cell_type": "code",
      "source": [
        "import pandas as pd\n",
        "df = pd.read_csv('/content/yemoonsaBigdata/datasets/Part3/503_students.csv', encoding='cp949')\n",
        "\n",
        "df['순 전입학생'] = df['총 전입학생']-df['총 전출학생']\n",
        "rst_df = df.groupby(['학교'])[['순 전입학생','전체 학생 수']].sum()\n",
        "result = rst_df.loc[rst_df['순 전입학생']==rst_df['순 전입학생'].max(),'전체 학생 수'].values[0]\n",
        "print(result)"
      ],
      "metadata": {
        "colab": {
          "base_uri": "https://localhost:8080/"
        },
        "id": "mNVZgk1G9L6h",
        "outputId": "14c503a6-899b-42cb-bd91-4d5e1820eabc"
      },
      "execution_count": 80,
      "outputs": [
        {
          "output_type": "stream",
          "name": "stdout",
          "text": [
            "566\n"
          ]
        }
      ]
    }
  ]
}