{
  "nbformat": 4,
  "nbformat_minor": 0,
  "metadata": {
    "colab": {
      "provenance": [],
      "toc_visible": true,
      "authorship_tag": "ABX9TyPq6vpC+3cdnIZ8L9Em4y4V",
      "include_colab_link": true
    },
    "kernelspec": {
      "name": "python3",
      "display_name": "Python 3"
    },
    "language_info": {
      "name": "python"
    }
  },
  "cells": [
    {
      "cell_type": "markdown",
      "metadata": {
        "id": "view-in-github",
        "colab_type": "text"
      },
      "source": [
        "<a href=\"https://colab.research.google.com/github/cowsilver57/sessac_test/blob/main/Chapter2_Pandas(3%EC%9D%BC%EC%B0%A8).ipynb\" target=\"_parent\"><img src=\"https://colab.research.google.com/assets/colab-badge.svg\" alt=\"Open In Colab\"/></a>"
      ]
    },
    {
      "cell_type": "markdown",
      "source": [
        "# Pandas"
      ],
      "metadata": {
        "id": "PsWtXKibmDZ8"
      }
    },
    {
      "cell_type": "markdown",
      "source": [
        "## Series와 DataFrame 이해하기"
      ],
      "metadata": {
        "id": "haIyMBz8mG1D"
      }
    },
    {
      "cell_type": "code",
      "source": [
        "import pandas as pd\n",
        "\n",
        "#Series\n",
        "s = pd.Series([1,3,5,6,8])\n",
        "print(s, s.index, s.values) #index는 순서, values는 값\n",
        "\n",
        "#DataFrame\n",
        "v = [[1,2,3], [4,5,6], [7,8,9]]\n",
        "i = ['1행', '2행', '3행']\n",
        "c = ['컬럼1', '컬럼2', '컬럼3']\n",
        "\n",
        "df = pd.DataFrame(v, index = i, columns = c)\n",
        "print(df)"
      ],
      "metadata": {
        "colab": {
          "base_uri": "https://localhost:8080/"
        },
        "id": "yVDfWWy0mZgs",
        "outputId": "39daa43f-c2d7-4b50-a1c8-0787cbcf1666"
      },
      "execution_count": null,
      "outputs": [
        {
          "output_type": "stream",
          "name": "stdout",
          "text": [
            "0    1\n",
            "1    3\n",
            "2    5\n",
            "3    6\n",
            "4    8\n",
            "dtype: int64 RangeIndex(start=0, stop=5, step=1) [1 3 5 6 8]\n",
            "    컬럼1  컬럼2  컬럼3\n",
            "1행    1    2    3\n",
            "2행    4    5    6\n",
            "3행    7    8    9\n"
          ]
        }
      ]
    },
    {
      "cell_type": "markdown",
      "source": [
        "## 데이터 프레임 생성하기"
      ],
      "metadata": {
        "id": "OfyPnxq2nF60"
      }
    },
    {
      "cell_type": "code",
      "source": [
        "#리스트로 생성\n",
        "d = [['100', '권소은', 9.7],\n",
        "    ['101', '장주은', 8.9],\n",
        "    ['102', '김민정', 9.3],\n",
        "    ['103', '김예슬', 6.1]]\n",
        "df = pd.DataFrame(d,columns =['번호','이름','점수'])\n",
        "print(df)\n",
        "\n",
        "#딕션너리로 생성\n",
        "d = {'번호':['100','101','102','103'],\n",
        "    '이름':['권소은','장주은','김민정','김예슬'],\n",
        "    '나이':[25,25,29,29]}\n",
        "\n",
        "df = pd.DataFrame(d,columns =['번호','이름','나이'])\n",
        "print(df)"
      ],
      "metadata": {
        "colab": {
          "base_uri": "https://localhost:8080/"
        },
        "id": "hPgvknflnHlF",
        "outputId": "61f4806d-2681-4c28-821d-f8cf92792493"
      },
      "execution_count": null,
      "outputs": [
        {
          "output_type": "stream",
          "name": "stdout",
          "text": [
            "    번호   이름   점수\n",
            "0  100  권소은  9.7\n",
            "1  101  장주은  8.9\n",
            "2  102  김민정  9.3\n",
            "3  103  김예슬  6.1\n",
            "    번호   이름  나이\n",
            "0  100  권소은  25\n",
            "1  101  장주은  25\n",
            "2  102  김민정  29\n",
            "3  103  김예슬  29\n"
          ]
        }
      ]
    },
    {
      "cell_type": "code",
      "source": [
        "#csv 파일로 생성하기\n",
        "housing_df = pd.read_csv('/content/sample_data/california_housing_train.csv')\n",
        "print('housing 변수 type:', type(housing_df))\n",
        "print(housing_df)"
      ],
      "metadata": {
        "colab": {
          "base_uri": "https://localhost:8080/"
        },
        "id": "FvopY94uta4b",
        "outputId": "886cebe1-25c3-49a1-c959-1a9b7c53779a"
      },
      "execution_count": null,
      "outputs": [
        {
          "output_type": "stream",
          "name": "stdout",
          "text": [
            "housing 변수 type: <class 'pandas.core.frame.DataFrame'>\n",
            "       longitude  latitude  housing_median_age  total_rooms  total_bedrooms  \\\n",
            "0        -114.31     34.19                15.0       5612.0          1283.0   \n",
            "1        -114.47     34.40                19.0       7650.0          1901.0   \n",
            "2        -114.56     33.69                17.0        720.0           174.0   \n",
            "3        -114.57     33.64                14.0       1501.0           337.0   \n",
            "4        -114.57     33.57                20.0       1454.0           326.0   \n",
            "...          ...       ...                 ...          ...             ...   \n",
            "16995    -124.26     40.58                52.0       2217.0           394.0   \n",
            "16996    -124.27     40.69                36.0       2349.0           528.0   \n",
            "16997    -124.30     41.84                17.0       2677.0           531.0   \n",
            "16998    -124.30     41.80                19.0       2672.0           552.0   \n",
            "16999    -124.35     40.54                52.0       1820.0           300.0   \n",
            "\n",
            "       population  households  median_income  median_house_value  \n",
            "0          1015.0       472.0         1.4936             66900.0  \n",
            "1          1129.0       463.0         1.8200             80100.0  \n",
            "2           333.0       117.0         1.6509             85700.0  \n",
            "3           515.0       226.0         3.1917             73400.0  \n",
            "4           624.0       262.0         1.9250             65500.0  \n",
            "...           ...         ...            ...                 ...  \n",
            "16995       907.0       369.0         2.3571            111400.0  \n",
            "16996      1194.0       465.0         2.5179             79000.0  \n",
            "16997      1244.0       456.0         3.0313            103600.0  \n",
            "16998      1298.0       478.0         1.9797             85800.0  \n",
            "16999       806.0       270.0         3.0147             94600.0  \n",
            "\n",
            "[17000 rows x 9 columns]\n"
          ]
        }
      ]
    },
    {
      "cell_type": "markdown",
      "source": [
        "##데이터 프레임 훓어보기"
      ],
      "metadata": {
        "id": "wlx1AxKhtqWj"
      }
    },
    {
      "cell_type": "code",
      "source": [
        "#DataFrame의 형태 살펴보기 ; shape\n",
        "print('DataFrame 크기:', housing_df.shape)\n",
        "\n",
        "#DataFrame의 자료 살펴보기 ; head\n",
        "print(housing_df.head())\n",
        "\n",
        "#DataFrame의 구조 살펴보기 : info, describe\n",
        "print(housing_df.info())\n",
        "\n",
        "#DataFrame 컬럼별 데이터의 개수, 평균값, 표준편차, 최솟값, 사분위수값, 최댓값 등 ; describe\n",
        "print(housing_df.describe())"
      ],
      "metadata": {
        "colab": {
          "base_uri": "https://localhost:8080/"
        },
        "id": "Cwpfh1wLtsAH",
        "outputId": "90f52eda-1194-401c-f104-b7756f5c4e7b"
      },
      "execution_count": null,
      "outputs": [
        {
          "output_type": "stream",
          "name": "stdout",
          "text": [
            "DataFrame 크기: (17000, 9)\n",
            "   longitude  latitude  housing_median_age  total_rooms  total_bedrooms  \\\n",
            "0    -114.31     34.19                15.0       5612.0          1283.0   \n",
            "1    -114.47     34.40                19.0       7650.0          1901.0   \n",
            "2    -114.56     33.69                17.0        720.0           174.0   \n",
            "3    -114.57     33.64                14.0       1501.0           337.0   \n",
            "4    -114.57     33.57                20.0       1454.0           326.0   \n",
            "\n",
            "   population  households  median_income  median_house_value  \n",
            "0      1015.0       472.0         1.4936             66900.0  \n",
            "1      1129.0       463.0         1.8200             80100.0  \n",
            "2       333.0       117.0         1.6509             85700.0  \n",
            "3       515.0       226.0         3.1917             73400.0  \n",
            "4       624.0       262.0         1.9250             65500.0  \n",
            "<class 'pandas.core.frame.DataFrame'>\n",
            "RangeIndex: 17000 entries, 0 to 16999\n",
            "Data columns (total 9 columns):\n",
            " #   Column              Non-Null Count  Dtype  \n",
            "---  ------              --------------  -----  \n",
            " 0   longitude           17000 non-null  float64\n",
            " 1   latitude            17000 non-null  float64\n",
            " 2   housing_median_age  17000 non-null  float64\n",
            " 3   total_rooms         17000 non-null  float64\n",
            " 4   total_bedrooms      17000 non-null  float64\n",
            " 5   population          17000 non-null  float64\n",
            " 6   households          17000 non-null  float64\n",
            " 7   median_income       17000 non-null  float64\n",
            " 8   median_house_value  17000 non-null  float64\n",
            "dtypes: float64(9)\n",
            "memory usage: 1.2 MB\n",
            "None\n",
            "          longitude      latitude  housing_median_age   total_rooms  \\\n",
            "count  17000.000000  17000.000000        17000.000000  17000.000000   \n",
            "mean    -119.562108     35.625225           28.589353   2643.664412   \n",
            "std        2.005166      2.137340           12.586937   2179.947071   \n",
            "min     -124.350000     32.540000            1.000000      2.000000   \n",
            "25%     -121.790000     33.930000           18.000000   1462.000000   \n",
            "50%     -118.490000     34.250000           29.000000   2127.000000   \n",
            "75%     -118.000000     37.720000           37.000000   3151.250000   \n",
            "max     -114.310000     41.950000           52.000000  37937.000000   \n",
            "\n",
            "       total_bedrooms    population    households  median_income  \\\n",
            "count    17000.000000  17000.000000  17000.000000   17000.000000   \n",
            "mean       539.410824   1429.573941    501.221941       3.883578   \n",
            "std        421.499452   1147.852959    384.520841       1.908157   \n",
            "min          1.000000      3.000000      1.000000       0.499900   \n",
            "25%        297.000000    790.000000    282.000000       2.566375   \n",
            "50%        434.000000   1167.000000    409.000000       3.544600   \n",
            "75%        648.250000   1721.000000    605.250000       4.767000   \n",
            "max       6445.000000  35682.000000   6082.000000      15.000100   \n",
            "\n",
            "       median_house_value  \n",
            "count        17000.000000  \n",
            "mean        207300.912353  \n",
            "std         115983.764387  \n",
            "min          14999.000000  \n",
            "25%         119400.000000  \n",
            "50%         180400.000000  \n",
            "75%         265000.000000  \n",
            "max         500001.000000  \n"
          ]
        }
      ]
    },
    {
      "cell_type": "code",
      "source": [
        "#시리즈에서 하나의 인덱스만 뽑아서 확인하는 방법\n",
        "housing_median_age = housing_df['housing_median_age']\n",
        "print(housing_median_age.head())\n",
        "\n",
        "#value_counts 함수; housing_median_age에 대한 값들을 count해주는 함수임\n",
        "#데이터 분포도를 확인하는 데에 유용한 함수임.\n",
        "value_counts = housing_median_age.value_counts()\n",
        "print(value_counts.head()) #데이터 건수가 많은 순서로 정렬됨."
      ],
      "metadata": {
        "colab": {
          "base_uri": "https://localhost:8080/"
        },
        "id": "sVqW5Yig6y_5",
        "outputId": "cf224cce-6bd7-453b-99d8-70e7ad30092e"
      },
      "execution_count": null,
      "outputs": [
        {
          "output_type": "stream",
          "name": "stdout",
          "text": [
            "0    15.0\n",
            "1    19.0\n",
            "2    17.0\n",
            "3    14.0\n",
            "4    20.0\n",
            "Name: housing_median_age, dtype: float64\n",
            "52.0    1052\n",
            "36.0     715\n",
            "35.0     692\n",
            "16.0     635\n",
            "17.0     576\n",
            "Name: housing_median_age, dtype: int64\n"
          ]
        }
      ]
    },
    {
      "cell_type": "markdown",
      "source": [
        "## 데이터프레임 컬럼 생성과 수정"
      ],
      "metadata": {
        "id": "ePKLmPEx78zT"
      }
    },
    {
      "cell_type": "code",
      "source": [
        "#housing_df에 Age_0이라는 칼럼 생성하고 0의 값을 할당\n",
        "housing_df['Age_0']=0\n",
        "print(housing_df.head(3))\n",
        "\n",
        "#Age_by_10이라는 칼럼을 생성하고 다른 칼럼을 연산한 값을 할당\n",
        "housing_df['Age_by_10'] = housing_df['housing_median_age']//10\n",
        "print(housing_df.head(3))\n",
        "\n",
        "#위에서 값을 할당한 칼럼을 수정하기\n",
        "housing_df['Age_by_10'] = housing_df['Age_by_10']*10\n",
        "print(housing_df.head(3))\n",
        "\n",
        "#counts 함수를 통해 각 연령대별 데이터 분포도 확인\n",
        "value_counts = housing_df['Age_by_10'].value_counts()\n",
        "print(value_counts)"
      ],
      "metadata": {
        "colab": {
          "base_uri": "https://localhost:8080/"
        },
        "id": "vi8ON9Ty78H_",
        "outputId": "d3bb45f9-2e54-46df-a271-82fe25d74fbf"
      },
      "execution_count": null,
      "outputs": [
        {
          "output_type": "stream",
          "name": "stdout",
          "text": [
            "   longitude  latitude  housing_median_age  total_rooms  total_bedrooms  \\\n",
            "0    -114.31     34.19                15.0       5612.0          1283.0   \n",
            "1    -114.47     34.40                19.0       7650.0          1901.0   \n",
            "2    -114.56     33.69                17.0        720.0           174.0   \n",
            "\n",
            "   population  households  median_income  median_house_value  Age_0  \n",
            "0      1015.0       472.0         1.4936             66900.0      0  \n",
            "1      1129.0       463.0         1.8200             80100.0      0  \n",
            "2       333.0       117.0         1.6509             85700.0      0  \n",
            "   longitude  latitude  housing_median_age  total_rooms  total_bedrooms  \\\n",
            "0    -114.31     34.19                15.0       5612.0          1283.0   \n",
            "1    -114.47     34.40                19.0       7650.0          1901.0   \n",
            "2    -114.56     33.69                17.0        720.0           174.0   \n",
            "\n",
            "   population  households  median_income  median_house_value  Age_0  Age_by_10  \n",
            "0      1015.0       472.0         1.4936             66900.0      0        1.0  \n",
            "1      1129.0       463.0         1.8200             80100.0      0        1.0  \n",
            "2       333.0       117.0         1.6509             85700.0      0        1.0  \n",
            "   longitude  latitude  housing_median_age  total_rooms  total_bedrooms  \\\n",
            "0    -114.31     34.19                15.0       5612.0          1283.0   \n",
            "1    -114.47     34.40                19.0       7650.0          1901.0   \n",
            "2    -114.56     33.69                17.0        720.0           174.0   \n",
            "\n",
            "   population  households  median_income  median_house_value  Age_0  Age_by_10  \n",
            "0      1015.0       472.0         1.4936             66900.0      0       10.0  \n",
            "1      1129.0       463.0         1.8200             80100.0      0       10.0  \n",
            "2       333.0       117.0         1.6509             85700.0      0       10.0  \n",
            "30.0    4770\n",
            "20.0    3985\n",
            "10.0    3739\n",
            "40.0    2223\n",
            "50.0    1196\n",
            "0.0     1087\n",
            "Name: Age_by_10, dtype: int64\n"
          ]
        }
      ]
    },
    {
      "cell_type": "markdown",
      "source": [
        "## 데이터프레임 데이터 삭제"
      ],
      "metadata": {
        "id": "E19RFEzi9XbZ"
      }
    },
    {
      "cell_type": "code",
      "source": [
        "#특정 칼럼 삭제 ; 칼럼 방향 삭제 axis=1\n",
        "housing_drop_df = housing_df.drop('Age_0', axis=1)\n",
        "print(housing_drop_df.head(3))"
      ],
      "metadata": {
        "colab": {
          "base_uri": "https://localhost:8080/"
        },
        "id": "_WLqSu8s6x8P",
        "outputId": "83af1278-845d-4e04-d5c1-8d57be5a9548"
      },
      "execution_count": null,
      "outputs": [
        {
          "output_type": "stream",
          "name": "stdout",
          "text": [
            "   longitude  latitude  housing_median_age  total_rooms  total_bedrooms  \\\n",
            "0    -114.31     34.19                15.0       5612.0          1283.0   \n",
            "1    -114.47     34.40                19.0       7650.0          1901.0   \n",
            "2    -114.56     33.69                17.0        720.0           174.0   \n",
            "\n",
            "   population  households  median_income  median_house_value  Age_by_10  \n",
            "0      1015.0       472.0         1.4936             66900.0       10.0  \n",
            "1      1129.0       463.0         1.8200             80100.0       10.0  \n",
            "2       333.0       117.0         1.6509             85700.0       10.0  \n"
          ]
        }
      ]
    },
    {
      "cell_type": "code",
      "source": [
        "#복수 칼럼 데이터 삭제\n",
        "#drop_result = housing_df.drop(['Age_0', 'Age_by_10'], axis=1, inplace=True)\n",
        "#print('drop_result 반환값 : ', drop_result)\n",
        "#print(housing_df.head(3))"
      ],
      "metadata": {
        "id": "2gbYDu8xA63R"
      },
      "execution_count": null,
      "outputs": []
    },
    {
      "cell_type": "code",
      "source": [
        "#행 데이터 삭제 ; 0,1,2행 삭제됨.\n",
        "housing_drop_df = housing_df.drop([0,1,2], axis=0)\n",
        "print(housing_drop_df.head(3))"
      ],
      "metadata": {
        "colab": {
          "base_uri": "https://localhost:8080/"
        },
        "id": "FqXnjEmHBhFG",
        "outputId": "3e4770c3-dc6a-4e1b-8dd6-a574cc0c4d2c"
      },
      "execution_count": null,
      "outputs": [
        {
          "output_type": "stream",
          "name": "stdout",
          "text": [
            "   longitude  latitude  housing_median_age  total_rooms  total_bedrooms  \\\n",
            "3    -114.57     33.64                14.0       1501.0           337.0   \n",
            "4    -114.57     33.57                20.0       1454.0           326.0   \n",
            "5    -114.58     33.63                29.0       1387.0           236.0   \n",
            "\n",
            "   population  households  median_income  median_house_value  Age_0  Age_by_10  \n",
            "3       515.0       226.0         3.1917             73400.0      0       10.0  \n",
            "4       624.0       262.0         1.9250             65500.0      0       20.0  \n",
            "5       671.0       239.0         3.3438             74000.0      0       20.0  \n"
          ]
        }
      ]
    },
    {
      "cell_type": "markdown",
      "source": [
        "##  데이터프레임 데이터 조회"
      ],
      "metadata": {
        "id": "aqfno8uoCYz2"
      }
    },
    {
      "cell_type": "code",
      "source": [
        "print('단일 컬럼 데이터 조회:\\n', housing_df['housing_median_age'].head(3))\n",
        "print('\\n복수 컬럼 데이터 조회:\\n', housing_df[['housing_median_age', 'total_rooms']].head(3))\n",
        "\n",
        "#슬라이싱\n",
        "print(housing_df[0:3])"
      ],
      "metadata": {
        "colab": {
          "base_uri": "https://localhost:8080/"
        },
        "id": "mn2A1IK7CasO",
        "outputId": "ff3f20bb-b344-4a18-c5f2-fc76ee6808d3"
      },
      "execution_count": null,
      "outputs": [
        {
          "output_type": "stream",
          "name": "stdout",
          "text": [
            "단일 컬럼 데이터 조회:\n",
            " 0    15.0\n",
            "1    19.0\n",
            "2    17.0\n",
            "Name: housing_median_age, dtype: float64\n",
            "\n",
            "복수 컬럼 데이터 조회:\n",
            "    housing_median_age  total_rooms\n",
            "0                15.0       5612.0\n",
            "1                19.0       7650.0\n",
            "2                17.0        720.0\n",
            "   longitude  latitude  housing_median_age  total_rooms  total_bedrooms  \\\n",
            "0    -114.31     34.19                15.0       5612.0          1283.0   \n",
            "1    -114.47     34.40                19.0       7650.0          1901.0   \n",
            "2    -114.56     33.69                17.0        720.0           174.0   \n",
            "\n",
            "   population  households  median_income  median_house_value  Age_0  Age_by_10  \n",
            "0      1015.0       472.0         1.4936             66900.0      0       10.0  \n",
            "1      1129.0       463.0         1.8200             80100.0      0       10.0  \n",
            "2       333.0       117.0         1.6509             85700.0      0       10.0  \n"
          ]
        }
      ]
    },
    {
      "cell_type": "code",
      "source": [
        "#housing_median_age가 30인 데이터만 조회하기 ; 논리형 인덱싱\n",
        "print(housing_df[housing_df['housing_median_age']==30].head(3))\n",
        "\n",
        "#복수형 인덱싱 (방법1)\n",
        "print(housing_df[\n",
        "                (housing_df['housing_median_age']>30)&\n",
        "                (housing_df['total_rooms']<100)&\n",
        "                (housing_df['median_income']>10)\n",
        "                ].head(3))"
      ],
      "metadata": {
        "colab": {
          "base_uri": "https://localhost:8080/"
        },
        "id": "Jwx8DBEsEa7v",
        "outputId": "e4408c7f-6c63-447d-f7e5-d934d4ccefcc"
      },
      "execution_count": null,
      "outputs": [
        {
          "output_type": "stream",
          "name": "stdout",
          "text": [
            "     longitude  latitude  housing_median_age  total_rooms  total_bedrooms  \\\n",
            "26     -115.37     32.82                30.0       1602.0           322.0   \n",
            "50     -115.52     34.22                30.0        540.0           136.0   \n",
            "101    -115.59     32.69                30.0        935.0           177.0   \n",
            "\n",
            "     population  households  median_income  median_house_value  Age_0  \\\n",
            "26       1130.0       335.0         3.5735             71100.0      0   \n",
            "50        122.0        63.0         1.3333             42500.0      0   \n",
            "101       649.0       148.0         2.5769             94400.0      0   \n",
            "\n",
            "     Age_by_10  \n",
            "26        30.0  \n",
            "50        30.0  \n",
            "101       30.0  \n",
            "       longitude  latitude  housing_median_age  total_rooms  total_bedrooms  \\\n",
            "6030     -118.22     34.06                52.0         48.0             6.0   \n",
            "13055    -121.87     37.46                43.0         91.0            12.0   \n",
            "14501    -122.14     37.50                46.0         30.0             4.0   \n",
            "\n",
            "       population  households  median_income  median_house_value  Age_0  \\\n",
            "6030         41.0        10.0        10.2264            112500.0      0   \n",
            "13055        58.0        16.0        15.0001            500001.0      0   \n",
            "14501        13.0         5.0        15.0001            500001.0      0   \n",
            "\n",
            "       Age_by_10  \n",
            "6030        50.0  \n",
            "13055       40.0  \n",
            "14501       40.0  \n"
          ]
        }
      ]
    },
    {
      "cell_type": "code",
      "source": [
        "#변수 논리형 인덱싱으로 데이터 조회 (방법2)\n",
        "con1 = housing_df['housing_median_age'] > 30\n",
        "con2 = housing_df['total_rooms']<100\n",
        "con3 = housing_df['median_income']>10\n",
        "\n",
        "print(housing_df[con1&con2&con3].head(3))"
      ],
      "metadata": {
        "colab": {
          "base_uri": "https://localhost:8080/"
        },
        "id": "YR8Is2J0Em2R",
        "outputId": "7e192400-7c33-44c7-8e85-f51ba19b8aea"
      },
      "execution_count": null,
      "outputs": [
        {
          "output_type": "stream",
          "name": "stdout",
          "text": [
            "       longitude  latitude  housing_median_age  total_rooms  total_bedrooms  \\\n",
            "6030     -118.22     34.06                52.0         48.0             6.0   \n",
            "13055    -121.87     37.46                43.0         91.0            12.0   \n",
            "14501    -122.14     37.50                46.0         30.0             4.0   \n",
            "\n",
            "       population  households  median_income  median_house_value  Age_0  \\\n",
            "6030         41.0        10.0        10.2264            112500.0      0   \n",
            "13055        58.0        16.0        15.0001            500001.0      0   \n",
            "14501        13.0         5.0        15.0001            500001.0      0   \n",
            "\n",
            "       Age_by_10  \n",
            "6030        50.0  \n",
            "13055       40.0  \n",
            "14501       40.0  \n"
          ]
        }
      ]
    },
    {
      "cell_type": "markdown",
      "source": [
        "### 데이터프레임 iloc 함수\n",
        "\n",
        "\n",
        "*   위치 기반 인덱싱\n",
        "*   행과 열의 값으로 정수형, 정수형 슬리이싱 값을 입력해야함.\n",
        "\n",
        "\n"
      ],
      "metadata": {
        "id": "EPe1uzcnFBPz"
      }
    },
    {
      "cell_type": "code",
      "source": [
        "print(housing_df.iloc[0,2])"
      ],
      "metadata": {
        "colab": {
          "base_uri": "https://localhost:8080/"
        },
        "id": "LzTRUjTUFMfG",
        "outputId": "35c70fbc-7017-4694-dd03-46e04b370b80"
      },
      "execution_count": null,
      "outputs": [
        {
          "output_type": "stream",
          "name": "stdout",
          "text": [
            "15.0\n"
          ]
        }
      ]
    },
    {
      "cell_type": "markdown",
      "source": [
        "###데이터 프레임 loc 함수\n",
        "\n",
        "*   명칭 기반 인덱싱\n",
        "*   행 위치에 인덱스 값, 열 위치에는 컬럼명 입력\n",
        "\n"
      ],
      "metadata": {
        "id": "BlMDic4KFYNw"
      }
    },
    {
      "cell_type": "code",
      "source": [
        "#loc함수로 데이터 조회\n",
        "print(housing_df.loc[0,'housing_median_age'])\n",
        "\n",
        "#loc함수로 복수 데이터 조회\n",
        "print(housing_df.loc[0:4, 'housing_median_age'])\n",
        "\n",
        "#loc 함수로 조건부 데이터 조회\n",
        "print(housing_df.loc[housing_df['housing_median_age']==30, ['housing_median_age', 'total_rooms']].head(3))"
      ],
      "metadata": {
        "colab": {
          "base_uri": "https://localhost:8080/"
        },
        "id": "tieQuOOaFX57",
        "outputId": "980ccbbf-f944-4292-b5a1-40a379074f9f"
      },
      "execution_count": null,
      "outputs": [
        {
          "output_type": "stream",
          "name": "stdout",
          "text": [
            "15.0\n",
            "0    15.0\n",
            "1    19.0\n",
            "2    17.0\n",
            "3    14.0\n",
            "4    20.0\n",
            "Name: housing_median_age, dtype: float64\n",
            "     housing_median_age  total_rooms\n",
            "26                 30.0       1602.0\n",
            "50                 30.0        540.0\n",
            "101                30.0        935.0\n"
          ]
        }
      ]
    },
    {
      "cell_type": "markdown",
      "source": [
        "##데이터프레임 데이터 정렬과 집계"
      ],
      "metadata": {
        "id": "VLObVgf6GVFM"
      }
    },
    {
      "cell_type": "code",
      "source": [
        "#housing_median_age를 기준으로 정렬, 기본으로 오름차순 정렬\n",
        "housing_sorted = housing_df.sort_values(by=['housing_median_age'])\n",
        "print(housing_sorted.head(3))\n",
        "\n",
        "#housing_median_age와 total_rooms를 기준으로 내림차순으로 정렬\n",
        "housing_sorted = housing_df.sort_values(by=['housing_median_age', 'total_rooms'], ascending=False)\n",
        "print(housing_sorted.head(3))\n",
        "\n",
        "#sum, count\n",
        "print(housing_df.sum())\n",
        "print(housing_df.count())\n",
        "\n",
        "#집계 함수 설정\n",
        "print(housing_df[['housing_median_age', 'total_rooms']].mean())"
      ],
      "metadata": {
        "colab": {
          "base_uri": "https://localhost:8080/"
        },
        "id": "HtRtMffDGX1m",
        "outputId": "df8bfeb6-7c77-4c08-b886-40f4c00a9eee"
      },
      "execution_count": null,
      "outputs": [
        {
          "output_type": "stream",
          "name": "stdout",
          "text": [
            "       longitude  latitude  housing_median_age  total_rooms  total_bedrooms  \\\n",
            "13708    -122.00     38.23                 1.0       2062.0           343.0   \n",
            "10993    -120.93     37.65                 1.0       2254.0           328.0   \n",
            "1353     -117.17     34.12                 2.0       3867.0           573.0   \n",
            "\n",
            "       population  households  median_income  median_house_value  Age_0  \\\n",
            "13708       872.0       268.0         5.2636            191300.0      0   \n",
            "10993       402.0       112.0         4.2500            189200.0      0   \n",
            "1353       1275.0       433.0         5.4138            164400.0      0   \n",
            "\n",
            "       Age_by_10  \n",
            "13708        0.0  \n",
            "10993        0.0  \n",
            "1353         0.0  \n",
            "       longitude  latitude  housing_median_age  total_rooms  total_bedrooms  \\\n",
            "15772    -122.41     37.79                52.0       6016.0          2509.0   \n",
            "15773    -122.41     37.79                52.0       5783.0          2747.0   \n",
            "11163    -121.03     40.35                52.0       5486.0          1044.0   \n",
            "\n",
            "       population  households  median_income  median_house_value  Age_0  \\\n",
            "15772      3436.0      2119.0         2.5166            275000.0      0   \n",
            "15773      4518.0      2538.0         1.7240            225000.0      0   \n",
            "11163      1977.0       754.0         2.1833             49500.0      0   \n",
            "\n",
            "       Age_by_10  \n",
            "15772       50.0  \n",
            "15773       50.0  \n",
            "11163       50.0  \n",
            "longitude            -2.032556e+06\n",
            "latitude              6.056288e+05\n",
            "housing_median_age    4.860190e+05\n",
            "total_rooms           4.494230e+07\n",
            "total_bedrooms        9.169984e+06\n",
            "population            2.430276e+07\n",
            "households            8.520773e+06\n",
            "median_income         6.602083e+04\n",
            "median_house_value    3.524116e+09\n",
            "Age_0                 0.000000e+00\n",
            "Age_by_10             4.089100e+05\n",
            "dtype: float64\n",
            "longitude             17000\n",
            "latitude              17000\n",
            "housing_median_age    17000\n",
            "total_rooms           17000\n",
            "total_bedrooms        17000\n",
            "population            17000\n",
            "households            17000\n",
            "median_income         17000\n",
            "median_house_value    17000\n",
            "Age_0                 17000\n",
            "Age_by_10             17000\n",
            "dtype: int64\n",
            "housing_median_age      28.589353\n",
            "total_rooms           2643.664412\n",
            "dtype: float64\n"
          ]
        }
      ]
    },
    {
      "cell_type": "code",
      "source": [
        "#groupby 함수 적용\n",
        "housing_groupby = housing_df.groupby('housing_median_age').mean()\n",
        "print(housing_groupby.head(3))"
      ],
      "metadata": {
        "colab": {
          "base_uri": "https://localhost:8080/"
        },
        "id": "oeg1CEDKMbbX",
        "outputId": "2b121240-7dbd-488b-bce5-09aad4e85ee5"
      },
      "execution_count": null,
      "outputs": [
        {
          "output_type": "stream",
          "name": "stdout",
          "text": [
            "                     longitude   latitude  total_rooms  total_bedrooms  \\\n",
            "housing_median_age                                                       \n",
            "1.0                -121.465000  37.940000  2158.000000      335.500000   \n",
            "2.0                -119.035306  35.410816  5237.102041      871.448980   \n",
            "3.0                -118.798478  35.164783  6920.326087     1190.826087   \n",
            "\n",
            "                     population   households  median_income  \\\n",
            "housing_median_age                                            \n",
            "1.0                  637.000000   190.000000       4.756800   \n",
            "2.0                 2005.224490   707.122449       5.074237   \n",
            "3.0                 2934.673913  1030.413043       5.572013   \n",
            "\n",
            "                    median_house_value  Age_0  Age_by_10  \n",
            "housing_median_age                                        \n",
            "1.0                      190250.000000    0.0        0.0  \n",
            "2.0                      229438.836735    0.0        0.0  \n",
            "3.0                      239450.043478    0.0        0.0  \n"
          ]
        }
      ]
    },
    {
      "cell_type": "code",
      "source": [
        "#특정 칼럼 group by 함수 적용\n",
        "housing_groupby = housing_df.groupby('housing_median_age')[['total_rooms','total_bedrooms']].mean()\n",
        "print(housing_groupby.head(3))\n",
        "\n",
        "#group by를 통해 여러 개의 집계 합수 호출\n",
        "housing_groupby = housing_df.groupby('housing_median_age')['total_rooms'].agg([min,max,sum])\n",
        "print(housing_groupby.head(3))"
      ],
      "metadata": {
        "colab": {
          "base_uri": "https://localhost:8080/"
        },
        "id": "Mvl3gVQgM5u9",
        "outputId": "86e6af94-cead-4bae-cc95-36eb007c1f6b"
      },
      "execution_count": null,
      "outputs": [
        {
          "output_type": "stream",
          "name": "stdout",
          "text": [
            "                    total_rooms  total_bedrooms\n",
            "housing_median_age                             \n",
            "1.0                 2158.000000      335.500000\n",
            "2.0                 5237.102041      871.448980\n",
            "3.0                 6920.326087     1190.826087\n",
            "                       min      max       sum\n",
            "housing_median_age                           \n",
            "1.0                 2062.0   2254.0    4316.0\n",
            "2.0                   96.0  21897.0  256618.0\n",
            "3.0                  475.0  21060.0  318335.0\n"
          ]
        }
      ]
    },
    {
      "cell_type": "markdown",
      "source": [
        "##데이터 프레임 결측치 처리하기"
      ],
      "metadata": {
        "id": "Losqwq3INg9-"
      }
    },
    {
      "cell_type": "code",
      "source": [
        "import numpy as np\n",
        "housing_df['Age_na'] = np.nan #Age_na 칼럼을 결측치로 만들기\n",
        "print(housing_df.isna().head(3)) #결측치를 확인해보면 Age_na 칼럼 값만 True로 나옴.\n",
        "\n",
        "#결측치의 개수 확인\n",
        "print(housing_df.isna().sum())\n",
        "\n",
        "#fillna 함수를 활용하여 결측치를 다른 값으로 대체\n",
        "housing_df['Age_na'] = housing_df['Age_na'].fillna(housing_df['housing_median_age'].mean())\n",
        "print(housing_df.head(3))"
      ],
      "metadata": {
        "colab": {
          "base_uri": "https://localhost:8080/"
        },
        "id": "OdRdHDVsNi_w",
        "outputId": "aa24a482-cbcc-4e06-a545-61c4524f9feb"
      },
      "execution_count": null,
      "outputs": [
        {
          "output_type": "stream",
          "name": "stdout",
          "text": [
            "   longitude  latitude  housing_median_age  total_rooms  total_bedrooms  \\\n",
            "0      False     False               False        False           False   \n",
            "1      False     False               False        False           False   \n",
            "2      False     False               False        False           False   \n",
            "\n",
            "   population  households  median_income  median_house_value  Age_0  \\\n",
            "0       False       False          False               False  False   \n",
            "1       False       False          False               False  False   \n",
            "2       False       False          False               False  False   \n",
            "\n",
            "   Age_by_10  Age_na  \n",
            "0      False    True  \n",
            "1      False    True  \n",
            "2      False    True  \n",
            "longitude                 0\n",
            "latitude                  0\n",
            "housing_median_age        0\n",
            "total_rooms               0\n",
            "total_bedrooms            0\n",
            "population                0\n",
            "households                0\n",
            "median_income             0\n",
            "median_house_value        0\n",
            "Age_0                     0\n",
            "Age_by_10                 0\n",
            "Age_na                17000\n",
            "dtype: int64\n",
            "   longitude  latitude  housing_median_age  total_rooms  total_bedrooms  \\\n",
            "0    -114.31     34.19                15.0       5612.0          1283.0   \n",
            "1    -114.47     34.40                19.0       7650.0          1901.0   \n",
            "2    -114.56     33.69                17.0        720.0           174.0   \n",
            "\n",
            "   population  households  median_income  median_house_value  Age_0  \\\n",
            "0      1015.0       472.0         1.4936             66900.0      0   \n",
            "1      1129.0       463.0         1.8200             80100.0      0   \n",
            "2       333.0       117.0         1.6509             85700.0      0   \n",
            "\n",
            "   Age_by_10     Age_na  \n",
            "0       10.0  28.589353  \n",
            "1       10.0  28.589353  \n",
            "2       10.0  28.589353  \n"
          ]
        }
      ]
    }
  ]
}