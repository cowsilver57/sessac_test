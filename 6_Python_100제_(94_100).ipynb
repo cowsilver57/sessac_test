{
  "nbformat": 4,
  "nbformat_minor": 0,
  "metadata": {
    "colab": {
      "provenance": [],
      "authorship_tag": "ABX9TyMgVhxUugdmOhCYlBZBq6dE",
      "include_colab_link": true
    },
    "kernelspec": {
      "name": "python3",
      "display_name": "Python 3"
    },
    "language_info": {
      "name": "python"
    }
  },
  "cells": [
    {
      "cell_type": "markdown",
      "metadata": {
        "id": "view-in-github",
        "colab_type": "text"
      },
      "source": [
        "<a href=\"https://colab.research.google.com/github/cowsilver57/sessac_test/blob/main/6_Python_100%EC%A0%9C_(94_100).ipynb\" target=\"_parent\"><img src=\"https://colab.research.google.com/assets/colab-badge.svg\" alt=\"Open In Colab\"/></a>"
      ]
    },
    {
      "cell_type": "code",
      "execution_count": null,
      "metadata": {
        "colab": {
          "base_uri": "https://localhost:8080/"
        },
        "id": "XCbGqeP9g_gW",
        "outputId": "dbcbf8b6-0df4-47ca-d52b-4fdd607a4d87"
      },
      "outputs": [
        {
          "output_type": "stream",
          "name": "stdout",
          "text": [
            "Max scores: [70, 80, 60]\n",
            "Max score indices: [2, 3, 1]\n"
          ]
        }
      ],
      "source": [
        "#94번 과목별 최고점, 최우수 학생 구하기\n",
        "\n",
        "scores = [[10,40,20],\n",
        "          [50,20,60],\n",
        "          [70,40,30],\n",
        "          [30,80,40]]\n",
        "n_student = len(scores)\n",
        "n_class = len(scores[0])\n",
        "\n",
        "M_classes = scores[0]\n",
        "M_idx_classes = list()\n",
        "\n",
        "for _ in range(n_class):\n",
        "    M_idx_classes.append(0)\n",
        "\n",
        "for student_idx in range(n_student):\n",
        "    student_scores = scores[student_idx]\n",
        "\n",
        "    for class_idx in range(n_class):\n",
        "        score = student_scores[class_idx]\n",
        "        if score > M_classes[class_idx]:\n",
        "            M_classes[class_idx] = score\n",
        "            M_idx_classes[class_idx] = student_idx\n",
        "\n",
        "print(\"Max scores:\", M_classes)\n",
        "print(\"Max score indices:\", M_idx_classes)"
      ]
    },
    {
      "cell_type": "code",
      "source": [
        "#94번 다시 -> 과목별 최고점, 최우수 학생 구하기\n",
        "scores = [[10,40,20],[50,20,60],[70,40,30],[30,80,40]]\n",
        "\n",
        "n_student = len(scores) #학생 수 4명\n",
        "n_class = len(scores[0]) #과목 수 3과목\n",
        "\n",
        "M_classes = scores[0]\n",
        "M_idx_classes = list()\n",
        "#M_idx_classes라는 빈 list를 만들고 0을 채워넣기\n",
        "for _ in range(n_class):\n",
        "    M_idx_classes.append(0)\n",
        "\n",
        "#scores에서 student scores를 for문을 활용하여 뺀다.\n",
        "for student_idx in range(n_student):\n",
        "    student_scores = scores[student_idx]\n",
        "\n",
        "#student scores에서 과목별 점수를 for 문을 활용하여 뺀다.\n",
        "    for class_idx in range(n_class):\n",
        "        score = student_scores[class_idx]\n",
        "        #만약 점수가 M_classes = scores[0] 즉, 10보다 크면\n",
        "        if score > M_classes[class_idx]:\n",
        "            #M_classes[class_idx] = 해당 점수가 됨.\n",
        "            M_classes[class_idx] = score\n",
        "            M_idx_classes[class_idx] = student_idx\n",
        "print(\"Max scores:\", M_classes) #과목별 최우수 점수는 순서대로 70,80,60\n",
        "print(\"Max score indices:\", M_idx_classes)\n",
        "#과목별 최우수 학생은 첫 번째 과목에서는 70점을 받은 2 index\n",
        "#두 번째 과목에서는 80점을 받은 3 index\n",
        "#세 번째 과목에서는 60점을 받은 1 index"
      ],
      "metadata": {
        "id": "vK-4RGGHZJKH",
        "colab": {
          "base_uri": "https://localhost:8080/"
        },
        "outputId": "399b2f49-d37b-4e72-eb85-16100b8a2688"
      },
      "execution_count": null,
      "outputs": [
        {
          "output_type": "stream",
          "name": "stdout",
          "text": [
            "Max scores: [70, 80, 60]\n",
            "Max score indices: [2, 3, 1]\n"
          ]
        }
      ]
    },
    {
      "cell_type": "code",
      "source": [
        "#95번 One-hot Encoding\n",
        "labels = [0,1,2,1,0,3]\n",
        "n_label = len(labels)\n",
        "n_class = 0\n",
        "\n",
        "for label in labels:\n",
        "    if label > n_class:\n",
        "        n_class = label\n",
        "n_class += 1\n",
        "\n",
        "one_hot_mat = list()\n",
        "\n",
        "for label in labels:\n",
        "    one_hot_vec = list()\n",
        "    for _ in range(n_class):\n",
        "        one_hot_vec.append(0)\n",
        "    one_hot_vec[label] = 1\n",
        "\n",
        "    one_hot_mat.append(one_hot_vec)\n",
        "print(one_hot_mat)"
      ],
      "metadata": {
        "colab": {
          "base_uri": "https://localhost:8080/"
        },
        "id": "_XLwSlsYhpCC",
        "outputId": "16430832-c4f3-4416-a112-95bd5af2f263"
      },
      "execution_count": null,
      "outputs": [
        {
          "output_type": "stream",
          "name": "stdout",
          "text": [
            "[[1, 0, 0, 0], [0, 1, 0, 0], [0, 0, 1, 0], [0, 1, 0, 0], [1, 0, 0, 0], [0, 0, 0, 1]]\n"
          ]
        }
      ]
    },
    {
      "cell_type": "code",
      "source": [
        "#95번 다시 -> One-hot Encoding -> data의 위치를 찾는 것\n",
        "labels = [0,1,2,1,0,3]\n",
        "\n",
        "n_label = len(labels) #6\n",
        "n_class = 0 #초기값을 0으로 설정\n",
        "for label in labels:\n",
        "    if label > n_class:\n",
        "        n_class = label\n",
        "n_class += 1\n",
        "print(n_class) #0보다 큰 1,2,1,3에서 for문이 적용됨.\n",
        "\n",
        "#원핫 인코딩 최종 결과를 넣어줄 빈 list를 생성\n",
        "one_hot_mat = list()\n",
        "#labels 리스트를 순회하며 원핫 인코딩 작업 시작\n",
        "for label in labels:\n",
        "    #one_hot_vec는 각 라벨에 대한 원핫 인코딩 결과를 저장할 빈 list 생성\n",
        "    #매번 새로운 라벨을 처리할 때, one_hot_vec을 초기화함\n",
        "    one_hot_vec = list()\n",
        "    for _ in range(n_class):\n",
        "        #one_hot_vec 리스트는 처음에 모든 원소가 0으로 초기화\n",
        "        one_hot_vec.append(0)\n",
        "    #현재 처리 중인 라벨을 가리키는 인덱스(예: 0, 1, 2, 3)에 대해 해당 인덱스를 가진 원소를 1로 설정\n",
        "    #현재 라벨이 2라면, one_hot_vec 리스트에서 두 번째 위치를 1로 설정하고, 나머지 위치는 모두 0으로 유지됨.\n",
        "    one_hot_vec[label] = 1\n",
        "\n",
        "    one_hot_mat.append(one_hot_vec)\n",
        "print(one_hot_mat)"
      ],
      "metadata": {
        "colab": {
          "base_uri": "https://localhost:8080/"
        },
        "id": "uivkvNGkrT0B",
        "outputId": "e398fc22-8f9c-4599-e845-e604da5af371"
      },
      "execution_count": null,
      "outputs": [
        {
          "output_type": "stream",
          "name": "stdout",
          "text": [
            "4\n",
            "[[1, 0, 0, 0], [0, 1, 0, 0], [0, 0, 1, 0], [0, 1, 0, 0], [1, 0, 0, 0], [0, 0, 0, 1]]\n"
          ]
        }
      ]
    },
    {
      "cell_type": "code",
      "source": [
        "#96번 Accuracy 구하기\n",
        "predictions = [[1, 0, 0, 0],[0, 0, 1, 0],\n",
        "                [0, 0, 1, 0], [1, 0, 0, 0],\n",
        "                 [1, 0, 0, 0], [0, 0, 0, 1]]\n",
        "labels = [0,1,2,1,0,3]\n",
        "n_label = len(labels)\n",
        "n_class = 0\n",
        "\n",
        "for label in labels:\n",
        "    if label > n_class:\n",
        "        n_class = label\n",
        "n_class += 1\n",
        "\n",
        "one_hot_mat = list()\n",
        "\n",
        "for label in labels:\n",
        "    one_hot_vec = list()\n",
        "    for _ in range(n_class):\n",
        "        one_hot_vec.append(0)\n",
        "    one_hot_vec[label] = 1\n",
        "\n",
        "    one_hot_mat.append(one_hot_vec)\n",
        "print(one_hot_mat)\n",
        "\n",
        "n_pred = len(predictions)\n",
        "n_class = len(predictions[0])\n",
        "\n",
        "accuracy = 0\n",
        "for pred_idx in range(n_pred):\n",
        "    prediction = predictions[pred_idx]\n",
        "    label = one_hot_mat[pred_idx]\n",
        "\n",
        "    correct_cnt = 0\n",
        "    for class_idx in range(n_class):\n",
        "        if prediction[class_idx] == label[class_idx]:\n",
        "            correct_cnt += 1\n",
        "\n",
        "    if correct_cnt == n_class:\n",
        "        accuracy += 1\n",
        "\n",
        "accuracy /= n_pred\n",
        "print(\"정확도:\", accuracy)"
      ],
      "metadata": {
        "colab": {
          "base_uri": "https://localhost:8080/"
        },
        "id": "xVwREjO8iLE0",
        "outputId": "182894c8-8418-4912-ea67-c55f515fdc0b"
      },
      "execution_count": null,
      "outputs": [
        {
          "output_type": "stream",
          "name": "stdout",
          "text": [
            "[[1, 0, 0, 0], [0, 1, 0, 0], [0, 0, 1, 0], [0, 1, 0, 0], [1, 0, 0, 0], [0, 0, 0, 1]]\n",
            "정확도: 0.6666666666666666\n"
          ]
        }
      ]
    },
    {
      "cell_type": "code",
      "source": [
        "#96번 다시 -> Accuracy 구하기\n",
        "predictions = [[1, 0, 0, 0],[0, 0, 1, 0],[0, 0, 1, 0], [1, 0, 0, 0],[1, 0, 0, 0], [0, 0, 0, 1]]\n",
        "labels = [0,1,2,1,0,3]\n",
        "\n",
        "#먼저 원핫인코딩을 시행한다.\n",
        "n_class = len(labels)\n",
        "n_class = 0\n",
        "\n",
        "for label in labels:\n",
        "    if label > n_class:\n",
        "        n_class = label\n",
        "n_class += 1\n",
        "\n",
        "one_hot_mat = list()\n",
        "\n",
        "for label in labels:\n",
        "    one_hot_vec = list()\n",
        "    for _ in range(n_class):\n",
        "        one_hot_vec.append(0)\n",
        "    one_hot_vec[label] = 1\n",
        "\n",
        "    one_hot_mat.append(one_hot_vec)\n",
        "\n",
        "#Accuracy 시행\n",
        "n_pred = len(predictions) # 6\n",
        "n_class = len(predictions[0]) # 4\n",
        "\n",
        "#결과를 넣을 accuracy의 초기값 0으로 설정하기\n",
        "accuracy = 0\n",
        "#pred_idx 변수를 사용하여 n_pred 횟수만큼 for문을 실행\n",
        "for pred_idx in range(n_pred):\n",
        "    #현재 순환 중인 pred_idx에 해당하는 predictions 리스트의 예측 벡터를 prediction 변수에 할당\n",
        "    prediction = predictions[pred_idx]\n",
        "    #pred_idx에 해당하는 one_hot_mat 리스트의 원핫 인코딩된 레이블 벡터를 label 변수에 할당\n",
        "    label = one_hot_mat[pred_idx]\n",
        "\n",
        "    #correct_cnt를 초기화\n",
        "    correct_cnt = 0\n",
        "    for class_idx in range(n_class):\n",
        "        #현재 클래스에 해당하는 예측과 레이블 벡터의 항목을 비교하여 일치 여부를 확인\n",
        "        if prediction[class_idx] == label[class_idx]:\n",
        "            #일치하는 경우 correct_cnt 변수를 1 증가\n",
        "            correct_cnt += 1\n",
        "        #correct_cnt가 n_class와 같다면, 모든 클래스에 대해 일치하므로 다음을 수행\n",
        "        if correct_cnt == n_class:\n",
        "            accuracy += 1\n",
        "\n",
        "accuracy /= n_pred\n",
        "print(\"accuracy:\", accuracy)"
      ],
      "metadata": {
        "colab": {
          "base_uri": "https://localhost:8080/"
        },
        "id": "KSJMd5KwdqGA",
        "outputId": "3e8f6901-6e2f-41cc-d5ed-3906f659de13"
      },
      "execution_count": null,
      "outputs": [
        {
          "output_type": "stream",
          "name": "stdout",
          "text": [
            "accuracy: 0.6666666666666666\n"
          ]
        }
      ]
    },
    {
      "cell_type": "code",
      "source": [
        "#97번 Matrix Addition\n",
        "mat1 = [[1,2,3], [4,5,6], [7,8,9]]\n",
        "mat2 = [[11,12,13], [14,15,16], [17,18,19]]\n",
        "\n",
        "n_row = len(mat1)\n",
        "n_col = len(mat1[0])\n",
        "\n",
        "mat_add = list()\n",
        "for row_idx in range(n_row):\n",
        "    row_add = list()\n",
        "    for col_idx in range(n_col):\n",
        "        element1 = mat1[row_idx][col_idx]\n",
        "        element2 = mat2[row_idx][col_idx]\n",
        "        row_add.append(element1 + element2)\n",
        "    mat_add.append(row_add)\n",
        "\n",
        "print(\"multiplication of mat1 and mat2:\\n\", mat_add)"
      ],
      "metadata": {
        "colab": {
          "base_uri": "https://localhost:8080/"
        },
        "id": "9ycPOiHji-ow",
        "outputId": "622792d0-55bf-4a66-b327-f54698a7f0ef"
      },
      "execution_count": null,
      "outputs": [
        {
          "output_type": "stream",
          "name": "stdout",
          "text": [
            "multiplication of mat1 and mat2:\n",
            " [[12, 14, 16], [18, 20, 22], [24, 26, 28]]\n"
          ]
        }
      ]
    },
    {
      "cell_type": "code",
      "source": [
        "#97번 다시 -> Matrix Addition\n",
        "mat1 = [[1,2,3], [4,5,6], [7,8,9]]\n",
        "mat2 = [[11,12,13], [14,15,16], [17,18,19]]\n",
        "\n",
        "n_row = len(mat1) #3\n",
        "n_col = len(mat1[0]) #3\n",
        "\n",
        "#결과를 넣을 빈 list를 생성함.\n",
        "mat_add = list()\n",
        "\n",
        "#mat1에서 for문을 활용하여 row를 꺼냄,\n",
        "for row_idx in range(n_row):\n",
        "    #밑의 for문 결과를 넣을 빈 list를 생성함.\n",
        "    row_add = list()\n",
        "    #for문을 활용하여 col를 꺼냄.\n",
        "    for col_idx in range(n_col):\n",
        "        element1 = mat1[row_idx][col_idx]\n",
        "        element2 = mat2[row_idx][col_idx]\n",
        "        row_add.append(element1 + element2)\n",
        "    mat_add.append(row_add)\n",
        "print(\"Multiplication of mat1 and mat2:\", mat_add)\n",
        "\n",
        "#결과 해석\n",
        "#[12,14,16] = 1+11, 2+12, 3+13"
      ],
      "metadata": {
        "colab": {
          "base_uri": "https://localhost:8080/"
        },
        "id": "QUXdYdFGyxqx",
        "outputId": "a8b4129e-b6b7-4bb8-b0cf-7e8fe179e3db"
      },
      "execution_count": null,
      "outputs": [
        {
          "output_type": "stream",
          "name": "stdout",
          "text": [
            "Multiplication of mat1 and mat2: [[12, 14, 16], [18, 20, 22], [24, 26, 28]]\n"
          ]
        }
      ]
    },
    {
      "cell_type": "code",
      "source": [
        "#98번 Matrix-Vector Multiplication\n",
        "mat = [[1,2,3], [4,5,6], [7,8,9]]\n",
        "vec = [10,20,30]\n",
        "\n",
        "n_row = len(mat)\n",
        "n_col = len(mat[0])\n",
        "\n",
        "mat_vec_mul = list()\n",
        "for row_idx in range(n_row):\n",
        "    mat_vec = mat[row_idx]\n",
        "    dot_prod = 0\n",
        "\n",
        "    for col_idx in range(n_col):\n",
        "        dot_prod += mat_vec[col_idx]*vec[col_idx]\n",
        "    mat_vec_mul.append(dot_prod)\n",
        "\n",
        "print(\"multiplication of mat and vec:\\n\", mat_vec_mul)"
      ],
      "metadata": {
        "colab": {
          "base_uri": "https://localhost:8080/"
        },
        "id": "lJhCjvRcjiCq",
        "outputId": "22edeb42-04a4-4139-f464-0271fb069329"
      },
      "execution_count": null,
      "outputs": [
        {
          "output_type": "stream",
          "name": "stdout",
          "text": [
            "multiplication of mat and vec:\n",
            " [140, 320, 500]\n"
          ]
        }
      ]
    },
    {
      "cell_type": "code",
      "source": [
        "#98번 다시 -> Matrix-Vector Multiplication\n",
        "mat = [[1,2,3], [4,5,6], [7,8,9]]\n",
        "vec = [10,20,30]\n",
        "\n",
        "n_row = len(mat)\n",
        "n_col = len(mat[0])\n",
        "\n",
        "mat_vec_mul = list()\n",
        "for row_idx in range(n_row):\n",
        "    mat_vec = mat[row_idx]\n",
        "    dot_prod = 0\n",
        "\n",
        "    for col_idx in range(n_col):\n",
        "        dot_prod += mat_vec[col_idx]*vec[col_idx]\n",
        "    mat_vec_mul.append(dot_prod)\n",
        "print(\"Multiplication of mat and vec:\", mat_vec_mul)\n",
        "\n",
        "#결과 해석\n",
        "#140 = 1*10 + 2*20 + 3*30"
      ],
      "metadata": {
        "colab": {
          "base_uri": "https://localhost:8080/"
        },
        "id": "6zX3dJ1u94iJ",
        "outputId": "c3279756-10f4-4ae4-b7f3-122a021f55f0"
      },
      "execution_count": null,
      "outputs": [
        {
          "output_type": "stream",
          "name": "stdout",
          "text": [
            "Multiplication of mat and vec: [140, 320, 500]\n"
          ]
        }
      ]
    },
    {
      "cell_type": "code",
      "source": [
        "#99번 Matrix-Matrix Multiplication\n",
        "mat1 = [[1,2,3], [4,5,6], [7,8,9]]\n",
        "mat2 = [[11,12,13], [14,15,16], [17,18,19]]\n",
        "\n",
        "n_row = len(mat1)\n",
        "n_col = len(mat1[0])\n",
        "mat_mat_mul = list()\n",
        "\n",
        "for row_idx in range (n_row):\n",
        "    vec1 = mat1[row_idx]\n",
        "\n",
        "    dot_prods = list()\n",
        "    for col_idx in range(n_col):\n",
        "        vec2 = list ()\n",
        "        for inner_idx in range (n_col):\n",
        "            vec2.append(mat2[inner_idx][col_idx])\n",
        "        dot_prod = 0\n",
        "        for inner_idx in range (n_col):\n",
        "            dot_prod += vec1[inner_idx]*vec2[inner_idx]\n",
        "        dot_prods.append(dot_prod)\n",
        "mat_mat_mul.append(dot_prods)\n",
        "\n",
        "print (\"multiplication of mat1 and mat2: \\n\", mat_mat_mul)"
      ],
      "metadata": {
        "colab": {
          "base_uri": "https://localhost:8080/"
        },
        "id": "n9kRRPj9kHLv",
        "outputId": "39e4a397-97a8-4362-c031-419ef9c00e18"
      },
      "execution_count": null,
      "outputs": [
        {
          "output_type": "stream",
          "name": "stdout",
          "text": [
            "multiplication of mat1 and mat2: \n",
            " [[342, 366, 390]]\n"
          ]
        }
      ]
    },
    {
      "cell_type": "code",
      "source": [
        "#99번 다시 -> Matrix-Matrix Multiplication\n",
        "mat1 = [[1,2,3], [4,5,6], [7,8,9]]\n",
        "mat2 = [[11,12,13], [14,15,16], [17,18,19]]\n",
        "\n",
        "n_row = len(mat1) #3\n",
        "n_col = len(mat1[0]) #3\n",
        "\n",
        "#곱셉 결과를 저장할 빈 list 생성\n",
        "mat_mat_mul = list()\n",
        "\n",
        "#for문을 활용하여 mat1의 각 행에 접근\n",
        "for row_idx in range(n_row):\n",
        "    vec1 = mat1[row_idx]\n",
        "\n",
        "    #내적 값을 저장할 빈 list 생성\n",
        "    dot_prods = list()\n",
        "\n",
        "    #for문을 활용하여 mat2의 각 열에 접근\n",
        "    for col_idx in range(n_col):\n",
        "        #내적 계산에 사용할 값을 저장할 빈 list 생성\n",
        "        vec2 = list()\n",
        "        for inner_idx in range(n_col):\n",
        "            vec2.append(mat2[inner_idx][col_idx])\n",
        "        #dot_prod 변수를 초기화\n",
        "        dot_prod = 0\n",
        "        #다시 한 번내적을 계산\n",
        "        for inner_idx in range(n_col):\n",
        "            dot_prod += vec1[inner_idx]*vec2[inner_idx]\n",
        "        dot_prods.append(dot_prod)\n",
        "    mat_mat_mul.append(dot_prods)\n",
        "\n",
        "print(\"Multiplication of Mat1&Mat2:\", mat_mat_mul)"
      ],
      "metadata": {
        "colab": {
          "base_uri": "https://localhost:8080/"
        },
        "id": "mEeVzAsyKma1",
        "outputId": "ba2013e4-4fcd-4c82-eaab-6996edbc6d14"
      },
      "execution_count": null,
      "outputs": [
        {
          "output_type": "stream",
          "name": "stdout",
          "text": [
            "Multiplication of Mat1&Mat2: [[90, 96, 102], [216, 231, 246], [342, 366, 390]]\n"
          ]
        }
      ]
    },
    {
      "cell_type": "code",
      "source": [
        "#100번 Transposed Matrix\n",
        "mat = [[1,2,3], [4,5,6], [7,8,9]]\n",
        "n_row = len(mat)\n",
        "n_col = len(mat[0])\n",
        "mat_t = list()\n",
        "\n",
        "for col_idx in range(n_col):\n",
        "    column = list()\n",
        "    for row_idx in range(n_row):\n",
        "        column.append(mat[row_idx][col_idx])\n",
        "    mat_t.append(column)\n",
        "\n",
        "print(\"transpose of mat:\\n\", mat_t)"
      ],
      "metadata": {
        "colab": {
          "base_uri": "https://localhost:8080/"
        },
        "id": "8ZFr9WkulC74",
        "outputId": "f1090d3d-cdd8-4600-c9fa-770f9eba13d8"
      },
      "execution_count": null,
      "outputs": [
        {
          "output_type": "stream",
          "name": "stdout",
          "text": [
            "transpose of mat:\n",
            " [[1, 4, 7], [2, 5, 8], [3, 6, 9]]\n"
          ]
        }
      ]
    },
    {
      "cell_type": "code",
      "source": [
        "#100번 다시 -> Transposed Matrix\n",
        "mat = [[1,2,3], [4,5,6], [7,8,9]]\n",
        "n_row = len(mat) #3\n",
        "n_col = len(mat[0]) #3\n",
        "\n",
        "#전치 행렬을 저장할 빈 list 생성\n",
        "mat_t = list()\n",
        "#for문을 사용하여 mat의 각 열에 접근\n",
        "for col_idx in range(n_col):\n",
        "    column = list()\n",
        "    #for문을 사용하여 mat의 각 행에 접근\n",
        "    for row_idx in range(n_row):\n",
        "        column.append(mat[row_idx][col_idx])\n",
        "    mat_t.append(column)\n",
        "\n",
        "print(\"Transpose of mat:\", mat_t)"
      ],
      "metadata": {
        "colab": {
          "base_uri": "https://localhost:8080/"
        },
        "id": "SsJRBMeLQC8J",
        "outputId": "8c2e31dd-605e-4d7d-b65c-088b0b9704eb"
      },
      "execution_count": null,
      "outputs": [
        {
          "output_type": "stream",
          "name": "stdout",
          "text": [
            "Transpose of mat: [[1, 4, 7], [2, 5, 8], [3, 6, 9]]\n"
          ]
        }
      ]
    }
  ]
}